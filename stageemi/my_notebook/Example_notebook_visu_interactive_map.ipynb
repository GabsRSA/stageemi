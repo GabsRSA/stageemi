{
 "cells": [
  {
   "cell_type": "code",
   "execution_count": 1,
   "metadata": {},
   "outputs": [],
   "source": [
    "import stageemi.dev.decorator_map as dm\n",
    "import xarray as xr \n",
    "import ipywidgets as widg \n",
    "import ipyleaflet as ipyl\n",
    "import datetime as dt\n",
    "import os \n",
    "from ipywidgets import Text, HTML\n",
    "from ipyleaflet import WidgetControl"
   ]
  },
  {
   "cell_type": "code",
   "execution_count": 2,
   "metadata": {},
   "outputs": [],
   "source": [
    "ds_a = xr.open_dataset(\"../WWMF/20200126000000__PG0PAROME__WWMF__EURW1S100______GRILLE____0_48_1__SOL____GRIB2.nc\")"
   ]
  },
  {
   "cell_type": "code",
   "execution_count": 3,
   "metadata": {},
   "outputs": [],
   "source": [
    "ds_a['latitude'] = ds_a.latitude.round(5)"
   ]
  },
  {
   "cell_type": "code",
   "execution_count": 4,
   "metadata": {},
   "outputs": [],
   "source": [
    "ds_mask = xr.open_dataset(\"../GeoData/nc_departement/FRK24.nc\")\n",
    "ds_mask[\"latitude\"] = ds_mask.latitude.round(5)"
   ]
  },
  {
   "cell_type": "code",
   "execution_count": 5,
   "metadata": {},
   "outputs": [],
   "source": [
    "ds_d = ds_mask[\"mask\"]*ds_a\n",
    "ds = ds_d.squeeze(\"id\")"
   ]
  },
  {
   "cell_type": "code",
   "execution_count": 8,
   "metadata": {},
   "outputs": [],
   "source": [
    "@dm.gogeojson_wwmf\n",
    "def get_step(step):\n",
    "    return ds[\"unknown\"].isel(step=step)\n",
    "\n",
    "def update_html(feature, **kwargs):\n",
    "    html1.value = '''\n",
    "        <h4> Type de temps </h4>\n",
    "        <h4><b>{}</b></h4>\n",
    "    '''.format(feature['properties']['value'])\n",
    "    \n",
    "def on_change(change):\n",
    "    geo_file,legend_file = get_step(change[\"new\"])\n",
    "    geojson_layer = ipyl.GeoJSON(data=geo_file,hover_style={\"opacity\":1})\n",
    "    if len(m.layers) == 1:\n",
    "        m.add_layer(geojson_layer)\n",
    "    else: \n",
    "        m.substitute_layer(m.layers[1],geojson_layer)\n",
    "    geojson_layer.on_hover(update_html)\n",
    "    legend_file.seek(0)\n",
    "    legend.value =legend_file.read() \n",
    "slider = widg.IntSlider(min=0,max=len(ds.step),step=1,value=0,description=\"step\")\n",
    "slider.observe(on_change,'value')"
   ]
  },
  {
   "cell_type": "code",
   "execution_count": 9,
   "metadata": {
    "scrolled": false
   },
   "outputs": [],
   "source": [
    "m = ipyl.Map(center=(45,0),zoom=7)\n",
    "html1 = HTML('''\n",
    "    <h4>Type de temps</h4>\n",
    "    Hover over a pixel\n",
    "''')\n",
    "html1.layout.margin = '0px 20px 20px 20px'\n",
    "control1 = WidgetControl(widget=html1, position='bottomright')\n",
    "m.add_control(control1)\n",
    "m.add_control(ipyl.WidgetControl(widget=slider,position=\"topright\"))\n",
    "geo_file,legend_file = get_step(0)\n",
    "geojson_layer = ipyl.GeoJSON(data=geo_file,hover_style={\"opacity\":1,\"fillColor\":\"#000000\"})\n",
    "geojson_layer.on_hover(update_html)\n",
    "m.add_layer(geojson_layer)"
   ]
  },
  {
   "cell_type": "code",
   "execution_count": 10,
   "metadata": {},
   "outputs": [
    {
     "data": {
      "application/vnd.jupyter.widget-view+json": {
       "model_id": "4fbc0d101eda47cb9d0020eedbc18db4",
       "version_major": 2,
       "version_minor": 0
      },
      "text/plain": [
       "HBox(children=(Map(center=[45, 0], controls=(ZoomControl(options=['position', 'zoom_in_text', 'zoom_in_title',…"
      ]
     },
     "metadata": {},
     "output_type": "display_data"
    }
   ],
   "source": [
    "legend_file.seek(0)\n",
    "legend = widg.Image(layout=widg.Layout(height=\"430px\"))\n",
    "legend.value = legend_file.read() \n",
    "widg_map = widg.HBox([m,legend])\n",
    "widg_map"
   ]
  },
  {
   "cell_type": "code",
   "execution_count": null,
   "metadata": {},
   "outputs": [],
   "source": []
  }
 ],
 "metadata": {
  "kernelspec": {
   "display_name": "Python 3",
   "language": "python",
   "name": "python3"
  },
  "language_info": {
   "codemirror_mode": {
    "name": "ipython",
    "version": 3
   },
   "file_extension": ".py",
   "mimetype": "text/x-python",
   "name": "python",
   "nbconvert_exporter": "python",
   "pygments_lexer": "ipython3",
   "version": "3.8.1"
  }
 },
 "nbformat": 4,
 "nbformat_minor": 2
}
