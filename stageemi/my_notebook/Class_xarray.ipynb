{
 "cells": [
  {
   "cell_type": "code",
   "execution_count": null,
   "metadata": {},
   "outputs": [],
   "source": [
    "from xarray_map import interactive_map,interactive_choro_map"
   ]
  },
  {
   "cell_type": "code",
   "execution_count": 2,
   "metadata": {},
   "outputs": [
    {
     "name": "stdout",
     "output_type": "stream",
     "text": [
      "In gogeojson variable is WWMF\n",
      "In return_geojson_pixel_wwmf is WWMF\n",
      "We are in colorbar_definition for WWMF\n",
      "<xarray.DataArray (dim_0: 44)>\n",
      "array(['#440154', '#46085c', '#471164', '#481a6c', '#482173', '#482979',\n",
      "       '#46307e', '#453882', '#423f85', '#00ffff', '#3d4d8a', '#3a538b',\n",
      "       '#ffd700', '#ffa500', '#ff8c00', '#808000', '#2c718e', '#d2b48c',\n",
      "       '#287d8e', '#26828e', '#23888e', '#ffc0cb', '#800080', '#ffff00',\n",
      "       '#1f9e89', '#20a386', '#23a983', '#ff00ff', '#ffc0cb', '#38b977',\n",
      "       '#42be71', '#808080', '#808080', '#808080', '#c0c0c0', '#84d44b',\n",
      "       '#93d741', '#00ff7f', '#00ff00', '#32cd32', '#ff0000', '#a52a2a',\n",
      "       '#cd5c5c', '#000000'], dtype='<U7')\n",
      "Dimensions without coordinates: dim_0\n"
     ]
    }
   ],
   "source": [
    "m = interactive_map()"
   ]
  },
  {
   "cell_type": "code",
   "execution_count": 3,
   "metadata": {},
   "outputs": [
    {
     "data": {
      "application/vnd.jupyter.widget-view+json": {
       "model_id": "8aff28470c7244839516860db53219c5",
       "version_major": 2,
       "version_minor": 0
      },
      "text/plain": [
       "interactive_map(children=(Map(center=[45, 0], controls=(ZoomControl(options=['position', 'zoom_in_text', 'zoom…"
      ]
     },
     "metadata": {},
     "output_type": "display_data"
    }
   ],
   "source": [
    "m"
   ]
  },
  {
   "cell_type": "code",
   "execution_count": null,
   "metadata": {},
   "outputs": [],
   "source": [
    "m3 = interactive_map()"
   ]
  },
  {
   "cell_type": "code",
   "execution_count": null,
   "metadata": {},
   "outputs": [],
   "source": [
    "m3"
   ]
  },
  {
   "cell_type": "code",
   "execution_count": null,
   "metadata": {},
   "outputs": [],
   "source": [
    "m2 = interactive_choro_map()"
   ]
  },
  {
   "cell_type": "code",
   "execution_count": null,
   "metadata": {},
   "outputs": [],
   "source": []
  }
 ],
 "metadata": {
  "kernelspec": {
   "display_name": "Python 3",
   "language": "python",
   "name": "python3"
  },
  "language_info": {
   "codemirror_mode": {
    "name": "ipython",
    "version": 3
   },
   "file_extension": ".py",
   "mimetype": "text/x-python",
   "name": "python",
   "nbconvert_exporter": "python",
   "pygments_lexer": "ipython3",
   "version": "3.8.2"
  }
 },
 "nbformat": 4,
 "nbformat_minor": 4
}
