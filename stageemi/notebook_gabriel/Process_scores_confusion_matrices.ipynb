{
 "cells": [
  {
   "cell_type": "code",
   "execution_count": 18,
   "metadata": {
    "scrolled": true
   },
   "outputs": [],
   "source": [
    "import stageemi\n",
    "import stageemi.dev.visu as dev\n",
    "import numpy as np\n",
    "import xarray as xr\n",
    "import matplotlib.pyplot as plt\n",
    "from mpl_toolkits.mplot3d import Axes3D\n",
    "import matplotlib as mpl\n",
    "\n",
    "import stageemi.dev.decorator_map as dm\n",
    "import ipywidgets as widg \n",
    "import ipyleaflet as ipyl\n",
    "import datetime as dt\n",
    "import os \n",
    "from ipywidgets import Text, HTML\n",
    "from ipyleaflet import WidgetControl\n",
    "import pandas as pd\n",
    "from datetime import datetime\n",
    "import glob \n",
    "from sklearn.metrics import confusion_matrix\n",
    "from sklearn.metrics import ConfusionMatrixDisplay\n",
    "from sklearn.metrics.cluster import contingency_matrix\n",
    "from mpl_toolkits.axes_grid1 import make_axes_locatable"
   ]
  },
  {
   "cell_type": "code",
   "execution_count": 19,
   "metadata": {},
   "outputs": [
    {
     "data": {
      "text/plain": [
       "['FRJ13', 'FRB05', 'FRH02', 'FRK24']"
      ]
     },
     "execution_count": 19,
     "metadata": {},
     "output_type": "execute_result"
    }
   ],
   "source": [
    "dpt_nb=[\"34\",\"41\",\"29\",\"38\"]\n",
    "zone_dpt=['FRJ13','FRB05','FRH02','FRK24'] #['FRB05' Loir-et-Cher,\"FRH02\" Finistere,'FRJ13' Herault,'FRK24' Isere]\n",
    "zone_dpt"
   ]
  },
  {
   "cell_type": "code",
   "execution_count": 20,
   "metadata": {},
   "outputs": [
    {
     "data": {
      "text/plain": [
       "['3401',\n",
       " '3402',\n",
       " '3403',\n",
       " '3404',\n",
       " '3405',\n",
       " '3406',\n",
       " '3407',\n",
       " '3408',\n",
       " '3481',\n",
       " '3482',\n",
       " '3483']"
      ]
     },
     "execution_count": 20,
     "metadata": {},
     "output_type": "execute_result"
    }
   ],
   "source": [
    "dpt_choice=dpt_nb[0]\n",
    "zone_sympo=[zone.split(\"ZONE_SYMPO/\")[1].split(\".nc\")[0] for i,zone in enumerate(sorted(glob.glob(\"../../../StageEMI_masks/Masques_netcdf/ZONE_SYMPO/\"+dpt_choice+\"*\")))]\n",
    "zone_sympo"
   ]
  },
  {
   "cell_type": "code",
   "execution_count": 21,
   "metadata": {},
   "outputs": [],
   "source": [
    "# choose between zone_dpt and zone_sympo\n",
    "zone_to_process=zone_dpt"
   ]
  },
  {
   "cell_type": "code",
   "execution_count": 22,
   "metadata": {
    "scrolled": false
   },
   "outputs": [
    {
     "data": {
      "text/plain": [
       "array(['3401', '3402', '3403', '3404', '3405', '3406', '3407', '3408',\n",
       "       '3481', '3482', '3483'], dtype='<U4')"
      ]
     },
     "execution_count": 22,
     "metadata": {},
     "output_type": "execute_result"
    }
   ],
   "source": [
    "path=\"./scores/\"\n",
    "dpt_choice=dpt_nb[0]\n",
    "zone_sympo=np.unique([zone.split(path[2:])[1].split(\"_scores\")[0] for i,zone in enumerate(sorted(glob.glob(path+\"*\"+dpt_choice+\"*_*\")))])\n",
    "zone_sympo"
   ]
  },
  {
   "cell_type": "code",
   "execution_count": 23,
   "metadata": {
    "scrolled": true
   },
   "outputs": [],
   "source": [
    "path_figures=\"./scores_figures/\""
   ]
  },
  {
   "cell_type": "code",
   "execution_count": 24,
   "metadata": {
    "scrolled": true
   },
   "outputs": [],
   "source": [
    "file_CodesWWMF = '../utils/CodesWWMF.csv'\n",
    "df = pd.read_csv(file_CodesWWMF,usecols = (0,1,2,3,6,7),sep=',')\n",
    "code_WWMF    = df['Code WWMF'].to_numpy()"
   ]
  },
  {
   "cell_type": "code",
   "execution_count": 25,
   "metadata": {
    "scrolled": false
   },
   "outputs": [
    {
     "name": "stdout",
     "output_type": "stream",
     "text": [
      "Currently processing zone: FRJ13\n"
     ]
    },
    {
     "name": "stderr",
     "output_type": "stream",
     "text": [
      "/opt/anaconda3/envs/preproc2/lib/python3.7/site-packages/ipykernel_launcher.py:33: RuntimeWarning: invalid value encountered in true_divide\n"
     ]
    },
    {
     "name": "stdout",
     "output_type": "stream",
     "text": [
      "Number of elements (WME confusion matrix): 4224\n"
     ]
    },
    {
     "name": "stderr",
     "output_type": "stream",
     "text": [
      "/opt/anaconda3/envs/preproc2/lib/python3.7/site-packages/ipykernel_launcher.py:59: RuntimeWarning: invalid value encountered in true_divide\n",
      "/opt/anaconda3/envs/preproc2/lib/python3.7/site-packages/ipykernel_launcher.py:60: RuntimeWarning: invalid value encountered in true_divide\n",
      "/opt/anaconda3/envs/preproc2/lib/python3.7/site-packages/ipykernel_launcher.py:93: RuntimeWarning: invalid value encountered in true_divide\n"
     ]
    },
    {
     "name": "stdout",
     "output_type": "stream",
     "text": [
      "Number of elements (W1 confusion matrix): 4224\n"
     ]
    },
    {
     "name": "stderr",
     "output_type": "stream",
     "text": [
      "/opt/anaconda3/envs/preproc2/lib/python3.7/site-packages/ipykernel_launcher.py:118: RuntimeWarning: invalid value encountered in true_divide\n",
      "/opt/anaconda3/envs/preproc2/lib/python3.7/site-packages/ipykernel_launcher.py:119: RuntimeWarning: invalid value encountered in true_divide\n"
     ]
    },
    {
     "name": "stdout",
     "output_type": "stream",
     "text": [
      "Currently processing zone: FRB05\n",
      "Number of elements (WME confusion matrix): 4224\n",
      "Number of elements (W1 confusion matrix): 4224\n",
      "Currently processing zone: FRH02\n",
      "Number of elements (WME confusion matrix): 4224\n",
      "Number of elements (W1 confusion matrix): 4224\n",
      "Currently processing zone: FRK24\n",
      "Number of elements (WME confusion matrix): 4224\n",
      "Number of elements (W1 confusion matrix): 4224\n"
     ]
    }
   ],
   "source": [
    "for izone, zone in enumerate(zone_to_process):\n",
    "                   \n",
    "    print('Currently processing zone: '+zone)\n",
    "\n",
    "    files=sorted(glob.glob(path+\"*\"+zone+\"*\"))        \n",
    "\n",
    "    scores=pd.read_csv(files[0],sep=',',index_col=0)\n",
    "#     print('Currently reading file: '+files[0])        \n",
    "\n",
    "    for ifile,fname in enumerate(files[1:]):    \n",
    "        df_scores=pd.read_csv(fname,sep=',',index_col=0)\n",
    "#         print('Currently reading file: '+fname)\n",
    "\n",
    "        scores=scores.append(df_scores)   \n",
    "\n",
    "        wwmf_codes=list(np.unique(scores[\"WWMF\"]))\n",
    "        scores[\"WWMF to WME\"]='default'\n",
    "        scores[\"WWMF to W1\"]='default'\n",
    "\n",
    "        for iwwmf,wwmf in enumerate(wwmf_codes):    \n",
    "            scores[\"WWMF to WME\"].loc[scores[\"WWMF\"]==wwmf]=df[df[\"Code WWMF\"]==wwmf][\"Code WME\"].iloc[0]    \n",
    "            scores[\"WWMF to W1\"].loc[scores[\"WWMF\"]==wwmf]=df[df[\"Code WWMF\"]==wwmf][\"Code W1\"].iloc[0]\n",
    "\n",
    "    # process WME \n",
    "\n",
    "    true_wme=np.unique(scores[\"WWMF to WME\"])\n",
    "    pred_wme=np.unique(scores[\"WME\"])\n",
    "    l_wme=len(list(set().union(true_wme,pred_wme)))\n",
    "    labels_wme=list(set().union(true_wme,pred_wme))\n",
    "    matrix_wme=confusion_matrix(scores[\"WWMF to WME\"],scores[\"WME\"])\n",
    "    # matrix_wme\n",
    "    div_wme=np.ones((l_wme,1))*matrix_wme.sum(axis=0)\n",
    "    matrix_wme_norm=np.nan_to_num(matrix_wme/div_wme)\n",
    "    # matrix_wme_norm\n",
    "    result_wme= ConfusionMatrixDisplay(matrix_wme,display_labels=labels_wme)\n",
    "    result_wme_norm= ConfusionMatrixDisplay(matrix_wme_norm,display_labels=labels_wme)\n",
    "    print('Number of elements (WME confusion matrix): '+str(matrix_wme.sum())) \n",
    "\n",
    "    fig = plt.figure(figsize=(20,8))\n",
    "    ax = fig.add_subplot(1,2,1)\n",
    "    result_wme.plot(ax=ax,values_format=\".0f\",cmap=plt.cm.Blues)\n",
    "    plt.xlabel(\"Predicted label\",fontsize=20)\n",
    "    plt.ylabel(\"True label\",fontsize=20)\n",
    "    plt.xticks(fontsize=15)\n",
    "    plt.yticks(fontsize=15)\n",
    "    plt.title(\"Confusion matrix WME/COMPAS: \"+zone+\"\\n\",fontsize=20)\n",
    "    ax = fig.add_subplot(1,2,2)\n",
    "    result_wme_norm.plot(ax=ax,values_format=\".02f\",cmap=plt.cm.Blues)\n",
    "    plt.xlabel(\"Predicted label\",fontsize=20)\n",
    "    plt.ylabel(\"True label\",fontsize=20)\n",
    "    plt.xticks(fontsize=15)\n",
    "    plt.yticks(fontsize=15)\n",
    "    plt.title(\"Confusion matrix WME/COMPAS (norm): \"+zone+\"\\n\",fontsize=20)\n",
    "    plt.tight_layout()\n",
    "    plt.savefig(path_figures+'confusion_matrix_WME_'+zone+'.png',bbox_inches = 'tight')\n",
    "    plt.close()\n",
    "\n",
    "    # display bar plot for errors\n",
    "    correct_wme=100*np.nan_to_num(np.diag(matrix_wme)/matrix_wme.sum(axis=0))\n",
    "    error_wme=100*np.nan_to_num((matrix_wme.sum(axis=0)-np.diag(matrix_wme))/matrix_wme.sum(axis=0))\n",
    "\n",
    "    w_wme=matrix_wme.sum(axis=0)/matrix_wme.sum()\n",
    "    success_wme=sum(np.multiply(correct_wme,w_wme))\n",
    "\n",
    "    fig = plt.figure(figsize=(10,10))    \n",
    "    ax = fig.add_subplot(1,1,1)\n",
    "    ind_wme = np.arange(len(error_wme))    # the x locations for the groups\n",
    "    width = 0.35       # the width of the bars: can also be len(x) sequence\n",
    "    p1 = plt.bar(ind_wme, correct_wme, width)\n",
    "    p2 = plt.bar(ind_wme, error_wme, width,bottom=correct_wme)\n",
    "    plt.axhline(y=90, color='r', linestyle='--')\n",
    "    plt.axhline(y=success_wme, color='g', linestyle='--')\n",
    "    plt.xlabel('Predicted label',fontsize=20)\n",
    "    plt.ylabel('Success rate (%)',fontsize=20)\n",
    "    plt.title('Success rate='+'{0:.2f}'.format(success_wme)+' - WME/COMPAS: '+' '+zone+\"\\n\",fontsize=20)\n",
    "    plt.xticks(ind_wme, labels_wme,fontsize=15)\n",
    "    plt.yticks(np.arange(0, 110, 10),fontsize=15)\n",
    "    plt.ylim((0,110))\n",
    "    plt.legend((p1[0], p2[0]), ('Correct', 'Incorrect'),fontsize=15,loc='upper right')\n",
    "    plt.savefig(path_figures+'success_rate_WME_'+zone+'.png',bbox_inches = 'tight') \n",
    "    plt.close()\n",
    "\n",
    "\n",
    "    # process W1\n",
    "\n",
    "    true_w1=list(np.unique(scores[\"WWMF to W1\"]))\n",
    "    pred_w1=list(np.unique(scores[\"W1\"]))\n",
    "    l_w1=len(list(set().union(true_w1,pred_w1)))\n",
    "    labels_w1=list(set().union(true_w1,pred_w1))\n",
    "    matrix_w1=confusion_matrix(scores[\"WWMF to W1\"],scores[\"W1\"])\n",
    "    # matrix_w1\n",
    "    div_w1=np.ones((l_w1,1))*matrix_w1.sum(axis=0)\n",
    "    matrix_w1_norm=np.nan_to_num(matrix_w1/div_w1)\n",
    "    result_w1= ConfusionMatrixDisplay(matrix_w1,display_labels=labels_w1)\n",
    "    result_w1_norm= ConfusionMatrixDisplay(matrix_w1_norm,display_labels=labels_w1)\n",
    "    print('Number of elements (W1 confusion matrix): '+str(matrix_w1.sum())) \n",
    "\n",
    "    fig = plt.figure(figsize=(20,8))\n",
    "    ax = fig.add_subplot(1,2,1)\n",
    "    result_w1.plot(ax=ax,values_format=\".0f\",cmap=plt.cm.Blues)\n",
    "    plt.xlabel(\"Predicted label\",fontsize=20)\n",
    "    plt.ylabel(\"True label\",fontsize=20)\n",
    "    plt.xticks(fontsize=15)\n",
    "    plt.yticks(fontsize=15)\n",
    "    plt.title(\"Confusion matrix W1/AGAT: \"+zone+\"\\n\",fontsize=20)\n",
    "    ax = fig.add_subplot(1,2,2)\n",
    "    result_w1_norm.plot(ax=ax,values_format=\".02f\",cmap=plt.cm.Blues)\n",
    "    plt.xlabel(\"Predicted label\",fontsize=20)\n",
    "    plt.ylabel(\"True label\",fontsize=20)\n",
    "    plt.xticks(fontsize=15)\n",
    "    plt.yticks(fontsize=15)\n",
    "    plt.title(\"Confusion matrix W1/AGAT (norm): \"+zone+\"\\n\",fontsize=20)\n",
    "    plt.tight_layout()\n",
    "    plt.savefig(path_figures+'confusion_matrix_W1_'+zone+'.png',bbox_inches = 'tight')            \n",
    "    plt.close()\n",
    "\n",
    "    # display bar plot for errors\n",
    "    correct_w1=100*np.nan_to_num(np.diag(matrix_w1)/matrix_w1.sum(axis=0))\n",
    "    error_w1=100*np.nan_to_num((matrix_w1.sum(axis=0)-np.diag(matrix_w1))/matrix_w1.sum(axis=0))\n",
    "\n",
    "    w_w1=matrix_w1.sum(axis=0)/matrix_w1.sum()\n",
    "    success_w1=sum(np.multiply(correct_w1,w_w1))\n",
    "\n",
    "    fig = plt.figure(figsize=(10,10))    \n",
    "    ax = fig.add_subplot(1,1,1)\n",
    "    ind_w1 = np.arange(len(error_w1))    # the x locations for the groups\n",
    "    width = 0.35       # the width of the bars: can also be len(x) sequence\n",
    "    p1 = plt.bar(ind_w1, correct_w1, width)\n",
    "    p2 = plt.bar(ind_w1, error_w1, width,bottom=correct_w1)\n",
    "    plt.axhline(y=90, color='r', linestyle='--')\n",
    "    plt.axhline(y=success_w1, color='g', linestyle='--')\n",
    "    plt.xlabel('Predicted label',fontsize=20)\n",
    "    plt.ylabel('Success rate (%)',fontsize=20)\n",
    "    plt.title('Success rate='+'{0:.2f}'.format(success_w1)+' - W1/AGAT: '+' '+zone+\"\\n\",fontsize=20)\n",
    "    plt.xticks(ind_w1, labels_w1,fontsize=15)\n",
    "    plt.yticks(np.arange(0, 110, 10),fontsize=15)\n",
    "    plt.ylim((0,110))\n",
    "    plt.legend((p1[0], p2[0]), ('Correct', 'Incorrect'),fontsize=15,loc='upper right')\n",
    "    plt.savefig(path_figures+'success_rate_W1_'+zone+'.png',bbox_inches = 'tight') \n",
    "    plt.close()\n",
    "        \n",
    "#     del scores"
   ]
  },
  {
   "cell_type": "code",
   "execution_count": 6,
   "metadata": {},
   "outputs": [
    {
     "data": {
      "text/plain": [
       "array([  0,  10,  20,  30,  40,  50,  60,  70,  80,  90, 100])"
      ]
     },
     "execution_count": 6,
     "metadata": {},
     "output_type": "execute_result"
    }
   ],
   "source": [
    "np.arange(0, 110, 10)"
   ]
  },
  {
   "cell_type": "code",
   "execution_count": 7,
   "metadata": {
    "scrolled": false
   },
   "outputs": [
    {
     "data": {
      "text/plain": [
       "array([[0, 1, 2],\n",
       "       [3, 4, 5],\n",
       "       [6, 7, 8]])"
      ]
     },
     "execution_count": 7,
     "metadata": {},
     "output_type": "execute_result"
    }
   ],
   "source": [
    "x = np.arange(9).reshape((3,3))\n",
    "x"
   ]
  },
  {
   "cell_type": "code",
   "execution_count": 8,
   "metadata": {
    "scrolled": true
   },
   "outputs": [],
   "source": [
    "d=np.diag(x)"
   ]
  },
  {
   "cell_type": "code",
   "execution_count": 9,
   "metadata": {
    "scrolled": false
   },
   "outputs": [
    {
     "data": {
      "text/plain": [
       "array([4., 4., 4.])"
      ]
     },
     "execution_count": 9,
     "metadata": {},
     "output_type": "execute_result"
    }
   ],
   "source": [
    "y=np.ones((3,))*4\n",
    "y"
   ]
  },
  {
   "cell_type": "code",
   "execution_count": 10,
   "metadata": {
    "scrolled": true
   },
   "outputs": [
    {
     "data": {
      "text/plain": [
       "array([0, 4, 8])"
      ]
     },
     "execution_count": 10,
     "metadata": {},
     "output_type": "execute_result"
    }
   ],
   "source": [
    "d"
   ]
  },
  {
   "cell_type": "code",
   "execution_count": 11,
   "metadata": {
    "scrolled": true
   },
   "outputs": [
    {
     "data": {
      "text/plain": [
       "array([-4.,  0.,  4.])"
      ]
     },
     "execution_count": 11,
     "metadata": {},
     "output_type": "execute_result"
    }
   ],
   "source": [
    "d-y"
   ]
  },
  {
   "cell_type": "code",
   "execution_count": 12,
   "metadata": {
    "scrolled": false
   },
   "outputs": [],
   "source": [
    "# scores.iloc[0:20]\n",
    "# print(len(scores))"
   ]
  },
  {
   "cell_type": "code",
   "execution_count": 13,
   "metadata": {
    "scrolled": true
   },
   "outputs": [],
   "source": [
    "# fig = plt.figure(figsize=(8, 6))\n",
    "# ax1 = fig.add_subplot(111, projection='3d')\n",
    "\n",
    "# colors = ['red','orange','green']\n",
    "\n",
    "# for sc in [0,1,2]:\n",
    "#     icol=[i for i, e in enumerate(scores['WWMF vs (WME and W1)']) if e == sc]\n",
    "\n",
    "#     xs = scores.iloc[icol]['WWMF']\n",
    "#     ys = scores.iloc[icol]['WME']\n",
    "#     zs = scores.iloc[icol]['W1']\n",
    "\n",
    "#     ax1.scatter(xs, ys, zs, alpha=0.4, c=colors[sc], s=30)\n",
    "    \n",
    "# ax1.set_xlabel('Majoritary WWMF')\n",
    "# ax1.set_ylabel('Compas WME')\n",
    "# ax1.set_zlabel('Agat W1')"
   ]
  }
 ],
 "metadata": {
  "kernelspec": {
   "display_name": "Python 3",
   "language": "python",
   "name": "python3"
  },
  "language_info": {
   "codemirror_mode": {
    "name": "ipython",
    "version": 3
   },
   "file_extension": ".py",
   "mimetype": "text/x-python",
   "name": "python",
   "nbconvert_exporter": "python",
   "pygments_lexer": "ipython3",
   "version": "3.8.2"
  }
 },
 "nbformat": 4,
 "nbformat_minor": 2
}
