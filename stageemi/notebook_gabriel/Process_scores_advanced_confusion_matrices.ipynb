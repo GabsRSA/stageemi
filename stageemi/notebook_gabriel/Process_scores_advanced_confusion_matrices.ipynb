{
 "cells": [
  {
   "cell_type": "code",
   "execution_count": 1,
   "metadata": {
    "scrolled": true
   },
   "outputs": [],
   "source": [
    "import stageemi\n",
    "import stageemi.dev.visu as dev\n",
    "import numpy as np\n",
    "import xarray as xr\n",
    "import matplotlib.pyplot as plt\n",
    "from mpl_toolkits.mplot3d import Axes3D\n",
    "import matplotlib as mpl\n",
    "\n",
    "import stageemi.dev.decorator_map as dm\n",
    "import ipywidgets as widg \n",
    "import ipyleaflet as ipyl\n",
    "import datetime as dt\n",
    "import os \n",
    "from ipywidgets import Text, HTML\n",
    "from ipyleaflet import WidgetControl\n",
    "import pandas as pd\n",
    "from datetime import datetime\n",
    "import glob \n",
    "from sklearn.metrics import confusion_matrix\n",
    "from sklearn.metrics import ConfusionMatrixDisplay\n",
    "from sklearn.metrics.cluster import contingency_matrix\n",
    "from mpl_toolkits.axes_grid1 import make_axes_locatable"
   ]
  },
  {
   "cell_type": "code",
   "execution_count": 2,
   "metadata": {},
   "outputs": [
    {
     "data": {
      "text/plain": [
       "[['FRJ13'], ['FRB05'], ['FRH02'], ['FRK24']]"
      ]
     },
     "execution_count": 2,
     "metadata": {},
     "output_type": "execute_result"
    }
   ],
   "source": [
    "zone_dpt=[['FRJ13'],['FRB05'],['FRH02'],['FRK24']] #['FRB05' Loir-et-Cher,\"FRH02\" Finistere,'FRJ13' Herault,'FRK24' Isere]\n",
    "zone_dpt"
   ]
  },
  {
   "cell_type": "code",
   "execution_count": 3,
   "metadata": {},
   "outputs": [],
   "source": [
    "# choose which zone to process\n",
    "zone_to_process=zone_dpt[0]"
   ]
  },
  {
   "cell_type": "code",
   "execution_count": 4,
   "metadata": {
    "scrolled": false
   },
   "outputs": [],
   "source": [
    "# path to score files\n",
    "path=\"./scores_advanced_labia/\"\n",
    "# path to figures\n",
    "path_figures=\"./scores_advanced_labia_figures/\""
   ]
  },
  {
   "cell_type": "code",
   "execution_count": 5,
   "metadata": {
    "scrolled": true
   },
   "outputs": [],
   "source": [
    "# WWMF codes\n",
    "file_CodesWWMF = '../utils/CodesWWMF.csv'\n",
    "df = pd.read_csv(file_CodesWWMF,usecols = (0,1,2,3,6,7),sep=',')\n",
    "code_WWMF    = df['Code WWMF'].to_numpy()"
   ]
  },
  {
   "cell_type": "code",
   "execution_count": 6,
   "metadata": {
    "scrolled": false
   },
   "outputs": [
    {
     "name": "stdout",
     "output_type": "stream",
     "text": [
      "Currently processing zone: FRJ13\n"
     ]
    },
    {
     "name": "stderr",
     "output_type": "stream",
     "text": [
      "/Users/gablellouch/anaconda3/envs/preproc/lib/python3.8/site-packages/pandas/core/indexing.py:670: SettingWithCopyWarning: \n",
      "A value is trying to be set on a copy of a slice from a DataFrame\n",
      "\n",
      "See the caveats in the documentation: https://pandas.pydata.org/pandas-docs/stable/user_guide/indexing.html#returning-a-view-versus-a-copy\n",
      "  self._setitem_with_indexer(indexer, value)\n"
     ]
    }
   ],
   "source": [
    "for izone, zone in enumerate(zone_to_process):\n",
    "                   \n",
    "    print('Currently processing zone: '+zone)\n",
    "\n",
    "    files=sorted(glob.glob(path+\"*\"+zone+\"*\"))  \n",
    "    #print(files)\n",
    "\n",
    "    scores=pd.read_csv(files[0],sep=',',index_col=0)\n",
    "#     print('Currently reading file: '+files[0])        \n",
    "\n",
    "    for ifile,fname in enumerate(files[1:]):    \n",
    "        df_scores=pd.read_csv(fname,sep=',',index_col=0)\n",
    "#         print('Currently reading file: '+fname)\n",
    "\n",
    "        scores=scores.append(df_scores)   \n",
    "\n",
    "        wwmf_codes=list(np.unique(scores[\"WWMF\"]))\n",
    "        scores[\"WWMF to WME\"]='default'\n",
    "        scores[\"WWMF to W1\"]='default'\n",
    "\n",
    "        for iwwmf,wwmf in enumerate(wwmf_codes):    \n",
    "            scores[\"WWMF to WME\"].loc[scores[\"WWMF\"]==wwmf]=df[df[\"Code WWMF\"]==wwmf][\"Code WME\"].iloc[0]    \n",
    "            scores[\"WWMF to W1\"].loc[scores[\"WWMF\"]==wwmf]=df[df[\"Code WWMF\"]==wwmf][\"Code W1\"].iloc[0]"
   ]
  },
  {
   "cell_type": "markdown",
   "metadata": {},
   "source": [
    "# 1 WME/COMPAS"
   ]
  },
  {
   "cell_type": "markdown",
   "metadata": {},
   "source": [
    "## 1.1 Confusion matrix"
   ]
  },
  {
   "cell_type": "code",
   "execution_count": 7,
   "metadata": {
    "scrolled": false
   },
   "outputs": [
    {
     "name": "stdout",
     "output_type": "stream",
     "text": [
      "Number of elements (WME confusion matrix): 4224\n"
     ]
    }
   ],
   "source": [
    "true_wme=np.unique(scores[\"WWMF to WME\"])\n",
    "pred_wme=np.unique(scores[\"WME\"])\n",
    "l_wme=len(list(set().union(true_wme,pred_wme)))\n",
    "labels_wme=list(set().union(true_wme,pred_wme))\n",
    "matrix_wme=confusion_matrix(scores[\"WWMF to WME\"].to_list(),scores[\"WME\"].to_list())\n",
    "# matrix_wme\n",
    "div_wme=np.transpose(np.ones((l_wme,1))*matrix_wme.sum(axis=1)).astype(int)\n",
    "matrix_wme_norm=np.nan_to_num(matrix_wme/div_wme)\n",
    "# matrix_wme_norm (normalized upon true wwmf values)\n",
    "result_wme= ConfusionMatrixDisplay(matrix_wme,display_labels=labels_wme)\n",
    "result_wme_norm= ConfusionMatrixDisplay(matrix_wme_norm,display_labels=labels_wme)\n",
    "print('Number of elements (WME confusion matrix): '+str(matrix_wme.sum())) \n",
    "\n",
    "fig = plt.figure(figsize=(20,8))\n",
    "ax = fig.add_subplot(1,2,1)\n",
    "result_wme.plot(ax=ax,values_format=\".0f\",cmap=plt.cm.Blues)\n",
    "plt.xlabel(\"Predicted label\",fontsize=20)\n",
    "plt.ylabel(\"True label\",fontsize=20)\n",
    "plt.xticks(fontsize=15)\n",
    "plt.yticks(fontsize=15)\n",
    "plt.title(\"Confusion matrix COMPAS: \"+zone+\"\\n\",fontsize=20)\n",
    "ax = fig.add_subplot(1,2,2)\n",
    "result_wme_norm.plot(ax=ax,values_format=\".02f\",cmap=plt.cm.Blues)\n",
    "plt.xlabel(\"Predicted label\",fontsize=20)\n",
    "plt.ylabel(\"True label\",fontsize=20)\n",
    "plt.xticks(fontsize=15)\n",
    "plt.yticks(fontsize=15)\n",
    "plt.title(\"Confusion matrix COMPAS (norm): \"+zone+\"\\n\",fontsize=20)\n",
    "plt.tight_layout()\n",
    "plt.close()\n",
    "\n",
    "fig = plt.figure(figsize=(20,8))\n",
    "ax = fig.add_subplot(1,1,1)\n",
    "result_wme.plot(ax=ax,values_format=\".0f\",cmap=plt.cm.Blues)\n",
    "plt.xlabel(\"Predicted label\",fontsize=20)\n",
    "plt.ylabel(\"True label\",fontsize=20)\n",
    "plt.xticks(fontsize=15)\n",
    "plt.yticks(fontsize=15)\n",
    "plt.title(\"Confusion matrix COMPAS: \"+zone+\"\\n\",fontsize=20)\n",
    "plt.tight_layout()\n",
    "plt.savefig(path_figures+'confusion_matrix_COMPAS_'+zone+'.png',bbox_inches = 'tight')\n",
    "plt.close()"
   ]
  },
  {
   "cell_type": "markdown",
   "metadata": {},
   "source": [
    "## 1.2 Bar plot"
   ]
  },
  {
   "cell_type": "code",
   "execution_count": 8,
   "metadata": {},
   "outputs": [],
   "source": [
    "# display bar plot for errors\n",
    "\n",
    "correct_wme=100*np.nan_to_num(np.diag(matrix_wme)/matrix_wme.sum(axis=1))\n",
    "error_wme=100*np.nan_to_num((matrix_wme.sum(axis=1)-np.diag(matrix_wme))/matrix_wme.sum(axis=1))\n",
    "\n",
    "w_wme=matrix_wme.sum(axis=1)/matrix_wme.sum()\n",
    "success_wme=sum(np.multiply(correct_wme,w_wme))\n",
    "\n",
    "fig = plt.figure(figsize=(10,10))    \n",
    "ax = fig.add_subplot(1,1,1)\n",
    "ind_wme = np.arange(len(error_wme))    # the x locations for the groups\n",
    "width = 0.35       # the width of the bars: can also be len(x) sequence\n",
    "p1 = plt.bar(ind_wme, correct_wme, width)\n",
    "p2 = plt.bar(ind_wme, error_wme, width,bottom=correct_wme)\n",
    "plt.axhline(y=90, color='r', linestyle='--')\n",
    "plt.axhline(y=success_wme, color='g', linestyle='--')\n",
    "plt.xlabel('True label',fontsize=20)\n",
    "plt.ylabel('Success rate (%)',fontsize=20)\n",
    "plt.title('Success rate wrt Temps Maj.='+'{0:.2f}'.format(success_wme)+' - COMPAS: '+' '+zone+\"\\n\",fontsize=20)\n",
    "plt.xticks(ind_wme, labels_wme,fontsize=15)\n",
    "plt.yticks(np.arange(0, 110, 10),fontsize=15)\n",
    "plt.ylim((0,110))\n",
    "plt.legend((p1[0], p2[0]), ('Correct', 'Incorrect'),fontsize=15,loc='upper right')\n",
    "plt.savefig(path_figures+'success_rate_COMPAS_'+zone+'.png',bbox_inches = 'tight') \n",
    "plt.close()"
   ]
  },
  {
   "cell_type": "markdown",
   "metadata": {},
   "source": [
    "# 2. WME/COMPAS ASYM"
   ]
  },
  {
   "cell_type": "markdown",
   "metadata": {},
   "source": [
    "## 2.1 Confusion matrix"
   ]
  },
  {
   "cell_type": "code",
   "execution_count": 9,
   "metadata": {
    "scrolled": false
   },
   "outputs": [
    {
     "name": "stderr",
     "output_type": "stream",
     "text": [
      "<ipython-input-9-119524e8b9af>:8: RuntimeWarning: invalid value encountered in true_divide\n",
      "  matrix_wme_norm=np.nan_to_num(matrix_wme/div_wme)\n"
     ]
    },
    {
     "name": "stdout",
     "output_type": "stream",
     "text": [
      "Number of elements (WME asym confusion matrix): 4224\n"
     ]
    }
   ],
   "source": [
    "true_wme=np.unique(scores[\"WWMF to WME\"])\n",
    "pred_wme=np.unique(scores[\"WME_asym\"])\n",
    "l_wme=len(list(set().union(true_wme,pred_wme)))\n",
    "labels_wme=list(set().union(true_wme,pred_wme))\n",
    "matrix_wme=confusion_matrix(scores[\"WWMF to WME\"].to_list(),scores[\"WME_asym\"].to_list())\n",
    "# matrix_wme\n",
    "div_wme=np.transpose(np.ones((l_wme,1))*matrix_wme.sum(axis=1)).astype(int)\n",
    "matrix_wme_norm=np.nan_to_num(matrix_wme/div_wme)\n",
    "# matrix_wme_norm (normalized upon true wwmf values)\n",
    "result_wme= ConfusionMatrixDisplay(matrix_wme,display_labels=labels_wme)\n",
    "result_wme_norm= ConfusionMatrixDisplay(matrix_wme_norm,display_labels=labels_wme)\n",
    "print('Number of elements (WME asym confusion matrix): '+str(matrix_wme.sum())) \n",
    "\n",
    "fig = plt.figure(figsize=(20,8))\n",
    "ax = fig.add_subplot(1,2,1)\n",
    "result_wme.plot(ax=ax,values_format=\".0f\",cmap=plt.cm.Blues)\n",
    "plt.xlabel(\"Predicted label\",fontsize=20)\n",
    "plt.ylabel(\"True label\",fontsize=20)\n",
    "plt.xticks(fontsize=15)\n",
    "plt.yticks(fontsize=15)\n",
    "plt.title(\"Confusion matrix COMPAS ASYM: \"+zone+\"\\n\",fontsize=20)\n",
    "ax = fig.add_subplot(1,2,2)\n",
    "result_wme_norm.plot(ax=ax,values_format=\".02f\",cmap=plt.cm.Blues)\n",
    "plt.xlabel(\"Predicted label\",fontsize=20)\n",
    "plt.ylabel(\"True label\",fontsize=20)\n",
    "plt.xticks(fontsize=15)\n",
    "plt.yticks(fontsize=15)\n",
    "plt.title(\"Confusion matrix COMPAS ASYM (norm): \"+zone+\"\\n\",fontsize=20)\n",
    "plt.tight_layout()\n",
    "plt.close()\n",
    "\n",
    "fig = plt.figure(figsize=(20,8))\n",
    "ax = fig.add_subplot(1,1,1)\n",
    "result_wme.plot(ax=ax,values_format=\".0f\",cmap=plt.cm.Blues)\n",
    "plt.xlabel(\"Predicted label\",fontsize=20)\n",
    "plt.ylabel(\"True label\",fontsize=20)\n",
    "plt.xticks(fontsize=15)\n",
    "plt.yticks(fontsize=15)\n",
    "plt.title(\"Confusion matrix COMPAS ASYM: \"+zone+\"\\n\",fontsize=20)\n",
    "plt.tight_layout()\n",
    "plt.savefig(path_figures+'confusion_matrix_COMPAS_ASYM_'+zone+'.png',bbox_inches = 'tight')\n",
    "plt.close()"
   ]
  },
  {
   "cell_type": "markdown",
   "metadata": {},
   "source": [
    "## 2.1 Bar plot"
   ]
  },
  {
   "cell_type": "code",
   "execution_count": 10,
   "metadata": {
    "scrolled": true
   },
   "outputs": [
    {
     "name": "stderr",
     "output_type": "stream",
     "text": [
      "<ipython-input-10-b1872e6dca51>:1: RuntimeWarning: invalid value encountered in true_divide\n",
      "  correct_wme=100*np.nan_to_num(np.diag(matrix_wme)/matrix_wme.sum(axis=1))\n",
      "<ipython-input-10-b1872e6dca51>:2: RuntimeWarning: invalid value encountered in true_divide\n",
      "  error_wme=100*np.nan_to_num((matrix_wme.sum(axis=1)-np.diag(matrix_wme))/matrix_wme.sum(axis=1))\n"
     ]
    }
   ],
   "source": [
    "correct_wme=100*np.nan_to_num(np.diag(matrix_wme)/matrix_wme.sum(axis=1))\n",
    "error_wme=100*np.nan_to_num((matrix_wme.sum(axis=1)-np.diag(matrix_wme))/matrix_wme.sum(axis=1))\n",
    "\n",
    "w_wme=matrix_wme.sum(axis=1)/matrix_wme.sum()\n",
    "success_wme=sum(np.multiply(correct_wme,w_wme))\n",
    "\n",
    "fig = plt.figure(figsize=(10,10))    \n",
    "ax = fig.add_subplot(1,1,1)\n",
    "ind_wme = np.arange(len(error_wme))    # the x locations for the groups\n",
    "width = 0.35       # the width of the bars: can also be len(x) sequence\n",
    "p1 = plt.bar(ind_wme, correct_wme, width)\n",
    "p2 = plt.bar(ind_wme, error_wme, width,bottom=correct_wme)\n",
    "plt.axhline(y=90, color='r', linestyle='--')\n",
    "plt.axhline(y=success_wme, color='g', linestyle='--')\n",
    "plt.xlabel('True label',fontsize=20)\n",
    "plt.ylabel('Success rate (%)',fontsize=20)\n",
    "plt.title('Success rate wrt Temps Maj.='+'{0:.2f}'.format(success_wme)+' - COMPAS ASYM: '+' '+zone+\"\\n\",fontsize=20)\n",
    "plt.xticks(ind_wme, labels_wme,fontsize=15)\n",
    "plt.yticks(np.arange(0, 110, 10),fontsize=15)\n",
    "plt.ylim((0,110))\n",
    "plt.legend((p1[0], p2[0]), ('Correct', 'Incorrect'),fontsize=15,loc='upper right')\n",
    "plt.savefig(path_figures+'success_rate_COMPAS_ASYM_'+zone+'.png',bbox_inches = 'tight') \n",
    "plt.close()"
   ]
  },
  {
   "cell_type": "markdown",
   "metadata": {},
   "source": [
    "# 3 W1/AGAT"
   ]
  },
  {
   "cell_type": "markdown",
   "metadata": {},
   "source": [
    "## 3.1 Confusion matrix"
   ]
  },
  {
   "cell_type": "code",
   "execution_count": 11,
   "metadata": {},
   "outputs": [
    {
     "name": "stderr",
     "output_type": "stream",
     "text": [
      "<ipython-input-11-c9a40b843cab>:8: RuntimeWarning: invalid value encountered in true_divide\n",
      "  matrix_w1_norm=np.nan_to_num(matrix_w1/div_w1)\n"
     ]
    },
    {
     "name": "stdout",
     "output_type": "stream",
     "text": [
      "Number of elements (W1 confusion matrix): 4224\n"
     ]
    }
   ],
   "source": [
    "true_w1=list(np.unique(scores[\"WWMF to W1\"]))\n",
    "pred_w1=list(np.unique(scores[\"W1\"]))\n",
    "l_w1=len(list(set().union(true_w1,pred_w1)))\n",
    "labels_w1=list(set().union(true_w1,pred_w1))\n",
    "matrix_w1=confusion_matrix(scores[\"WWMF to W1\"].to_list(),scores[\"W1\"].to_list())\n",
    "# matrix_w1\n",
    "div_w1=np.transpose(np.ones((l_w1,1))*matrix_w1.sum(axis=1)).astype(int)\n",
    "matrix_w1_norm=np.nan_to_num(matrix_w1/div_w1)\n",
    "# matrix_w1_norm (normalized upon true wwmf values)\n",
    "result_w1= ConfusionMatrixDisplay(matrix_w1,display_labels=labels_w1)\n",
    "result_w1_norm= ConfusionMatrixDisplay(matrix_w1_norm,display_labels=labels_w1)\n",
    "print('Number of elements (W1 confusion matrix): '+str(matrix_w1.sum())) \n",
    "\n",
    "fig = plt.figure(figsize=(20,8))\n",
    "ax = fig.add_subplot(1,2,1)\n",
    "result_w1.plot(ax=ax,values_format=\".0f\",cmap=plt.cm.Blues)\n",
    "plt.xlabel(\"Predicted label\",fontsize=20)\n",
    "plt.ylabel(\"True label\",fontsize=20)\n",
    "plt.xticks(fontsize=15)\n",
    "plt.yticks(fontsize=15)\n",
    "plt.title(\"Confusion matrix AGAT: \"+zone+\"\\n\",fontsize=20)\n",
    "ax = fig.add_subplot(1,2,2)\n",
    "result_w1_norm.plot(ax=ax,values_format=\".02f\",cmap=plt.cm.Blues)\n",
    "plt.xlabel(\"Predicted label\",fontsize=20)\n",
    "plt.ylabel(\"True label\",fontsize=20)\n",
    "plt.xticks(fontsize=15)\n",
    "plt.yticks(fontsize=15)\n",
    "plt.title(\"Confusion matrix AGAT (norm): \"+zone+\"\\n\",fontsize=20)\n",
    "plt.tight_layout()\n",
    "plt.close()\n",
    "\n",
    "fig = plt.figure(figsize=(20,8))\n",
    "ax = fig.add_subplot(1,1,1)\n",
    "result_w1.plot(ax=ax,values_format=\".0f\",cmap=plt.cm.Blues)\n",
    "plt.xlabel(\"Predicted label\",fontsize=20)\n",
    "plt.ylabel(\"True label\",fontsize=20)\n",
    "plt.xticks(fontsize=15)\n",
    "plt.yticks(fontsize=15)\n",
    "plt.title(\"Confusion matrix AGAT: \"+zone+\"\\n\",fontsize=20)\n",
    "plt.tight_layout()\n",
    "plt.savefig(path_figures+'confusion_matrix_AGAT_'+zone+'.png',bbox_inches = 'tight')            \n",
    "plt.close()"
   ]
  },
  {
   "cell_type": "markdown",
   "metadata": {},
   "source": [
    "## 3.2 Bar plot"
   ]
  },
  {
   "cell_type": "code",
   "execution_count": 12,
   "metadata": {},
   "outputs": [
    {
     "name": "stderr",
     "output_type": "stream",
     "text": [
      "<ipython-input-12-8226be5a767a>:2: RuntimeWarning: invalid value encountered in true_divide\n",
      "  correct_w1=100*np.nan_to_num(np.diag(matrix_w1)/matrix_w1.sum(axis=1))\n",
      "<ipython-input-12-8226be5a767a>:3: RuntimeWarning: invalid value encountered in true_divide\n",
      "  error_w1=100*np.nan_to_num((matrix_w1.sum(axis=1)-np.diag(matrix_w1))/matrix_w1.sum(axis=1))\n"
     ]
    }
   ],
   "source": [
    "# display bar plot for errors\n",
    "correct_w1=100*np.nan_to_num(np.diag(matrix_w1)/matrix_w1.sum(axis=1))\n",
    "error_w1=100*np.nan_to_num((matrix_w1.sum(axis=1)-np.diag(matrix_w1))/matrix_w1.sum(axis=1))\n",
    "\n",
    "w_w1=matrix_w1.sum(axis=1)/matrix_w1.sum()\n",
    "success_w1=sum(np.multiply(correct_w1,w_w1))\n",
    "\n",
    "fig = plt.figure(figsize=(10,10))    \n",
    "ax = fig.add_subplot(1,1,1)\n",
    "ind_w1 = np.arange(len(error_w1))    # the x locations for the groups\n",
    "width = 0.35       # the width of the bars: can also be len(x) sequence\n",
    "p1 = plt.bar(ind_w1, correct_w1, width)\n",
    "p2 = plt.bar(ind_w1, error_w1, width,bottom=correct_w1)\n",
    "plt.axhline(y=90, color='r', linestyle='--')\n",
    "plt.axhline(y=success_w1, color='g', linestyle='--')\n",
    "plt.xlabel('True label',fontsize=20)\n",
    "plt.ylabel('Success rate (%)',fontsize=20)\n",
    "plt.title('Success rate wrt Temps Maj.='+'{0:.2f}'.format(success_w1)+' - AGAT: '+' '+zone+\"\\n\",fontsize=20)\n",
    "plt.xticks(ind_w1, labels_w1,fontsize=15)\n",
    "plt.yticks(np.arange(0, 110, 10),fontsize=15)\n",
    "plt.ylim((0,110))\n",
    "plt.legend((p1[0], p2[0]), ('Correct', 'Incorrect'),fontsize=15,loc='upper right')\n",
    "plt.savefig(path_figures+'success_rate_AGAT_'+zone+'.png',bbox_inches = 'tight') \n",
    "plt.close()"
   ]
  },
  {
   "cell_type": "markdown",
   "metadata": {},
   "source": [
    "# 4 W1/AGAT ASYM"
   ]
  },
  {
   "cell_type": "markdown",
   "metadata": {},
   "source": [
    "## 4.1 Confusion matrix"
   ]
  },
  {
   "cell_type": "code",
   "execution_count": 13,
   "metadata": {},
   "outputs": [
    {
     "name": "stderr",
     "output_type": "stream",
     "text": [
      "<ipython-input-13-89eccd7d8452>:8: RuntimeWarning: invalid value encountered in true_divide\n",
      "  matrix_w1_norm=np.nan_to_num(matrix_w1/div_w1)\n"
     ]
    },
    {
     "name": "stdout",
     "output_type": "stream",
     "text": [
      "Number of elements (W1 confusion matrix): 4224\n"
     ]
    }
   ],
   "source": [
    "true_w1=list(np.unique(scores[\"WWMF to W1\"]))\n",
    "pred_w1=list(np.unique(scores[\"W1_asym\"]))\n",
    "l_w1=len(list(set().union(true_w1,pred_w1)))\n",
    "labels_w1=list(set().union(true_w1,pred_w1))\n",
    "matrix_w1=confusion_matrix(scores[\"WWMF to W1\"].to_list(),scores[\"W1_asym\"].to_list())\n",
    "# matrix_w1\n",
    "div_w1=np.transpose(np.ones((l_w1,1))*matrix_w1.sum(axis=1)).astype(int)\n",
    "matrix_w1_norm=np.nan_to_num(matrix_w1/div_w1)\n",
    "# matrix_w1_norm (normalized upon true wwmf values)\n",
    "result_w1= ConfusionMatrixDisplay(matrix_w1,display_labels=labels_w1)\n",
    "result_w1_norm= ConfusionMatrixDisplay(matrix_w1_norm,display_labels=labels_w1)\n",
    "print('Number of elements (W1 confusion matrix): '+str(matrix_w1.sum())) \n",
    "\n",
    "fig = plt.figure(figsize=(20,8))\n",
    "ax = fig.add_subplot(1,2,1)\n",
    "result_w1.plot(ax=ax,values_format=\".0f\",cmap=plt.cm.Blues)\n",
    "plt.xlabel(\"Predicted label\",fontsize=20)\n",
    "plt.ylabel(\"True label\",fontsize=20)\n",
    "plt.xticks(fontsize=15)\n",
    "plt.yticks(fontsize=15)\n",
    "plt.title(\"Confusion matrix AGAT ASYM: \"+zone+\"\\n\",fontsize=20)\n",
    "ax = fig.add_subplot(1,2,2)\n",
    "result_w1_norm.plot(ax=ax,values_format=\".02f\",cmap=plt.cm.Blues)\n",
    "plt.xlabel(\"Predicted label\",fontsize=20)\n",
    "plt.ylabel(\"True label\",fontsize=20)\n",
    "plt.xticks(fontsize=15)\n",
    "plt.yticks(fontsize=15)\n",
    "plt.title(\"Confusion matrix AGAT ASYM (norm): \"+zone+\"\\n\",fontsize=20)\n",
    "plt.tight_layout()\n",
    "plt.close()\n",
    "\n",
    "fig = plt.figure(figsize=(20,8))\n",
    "ax = fig.add_subplot(1,1,1)\n",
    "result_w1.plot(ax=ax,values_format=\".0f\",cmap=plt.cm.Blues)\n",
    "plt.xlabel(\"Predicted label\",fontsize=20)\n",
    "plt.ylabel(\"True label\",fontsize=20)\n",
    "plt.xticks(fontsize=15)\n",
    "plt.yticks(fontsize=15)\n",
    "plt.title(\"Confusion matrix AGAT ASYM: \"+zone+\"\\n\",fontsize=20)\n",
    "plt.tight_layout()\n",
    "plt.savefig(path_figures+'confusion_matrix_AGAT_ASYM_'+zone+'.png',bbox_inches = 'tight')            \n",
    "plt.close()"
   ]
  },
  {
   "cell_type": "markdown",
   "metadata": {},
   "source": [
    "## 4.2 Bar plot"
   ]
  },
  {
   "cell_type": "code",
   "execution_count": 14,
   "metadata": {},
   "outputs": [
    {
     "name": "stderr",
     "output_type": "stream",
     "text": [
      "<ipython-input-14-ba97409f4ee1>:2: RuntimeWarning: invalid value encountered in true_divide\n",
      "  correct_w1=100*np.nan_to_num(np.diag(matrix_w1)/matrix_w1.sum(axis=1))\n",
      "<ipython-input-14-ba97409f4ee1>:3: RuntimeWarning: invalid value encountered in true_divide\n",
      "  error_w1=100*np.nan_to_num((matrix_w1.sum(axis=1)-np.diag(matrix_w1))/matrix_w1.sum(axis=1))\n"
     ]
    }
   ],
   "source": [
    "# display bar plot for errors\n",
    "correct_w1=100*np.nan_to_num(np.diag(matrix_w1)/matrix_w1.sum(axis=1))\n",
    "error_w1=100*np.nan_to_num((matrix_w1.sum(axis=1)-np.diag(matrix_w1))/matrix_w1.sum(axis=1))\n",
    "\n",
    "w_w1=matrix_w1.sum(axis=1)/matrix_w1.sum()\n",
    "success_w1=sum(np.multiply(correct_w1,w_w1))\n",
    "\n",
    "fig = plt.figure(figsize=(10,10))    \n",
    "ax = fig.add_subplot(1,1,1)\n",
    "ind_w1 = np.arange(len(error_w1))    # the x locations for the groups\n",
    "width = 0.35       # the width of the bars: can also be len(x) sequence\n",
    "p1 = plt.bar(ind_w1, correct_w1, width)\n",
    "p2 = plt.bar(ind_w1, error_w1, width,bottom=correct_w1)\n",
    "plt.axhline(y=90, color='r', linestyle='--')\n",
    "plt.axhline(y=success_w1, color='g', linestyle='--')\n",
    "plt.xlabel('True label',fontsize=20)\n",
    "plt.ylabel('Success rate (%)',fontsize=20)\n",
    "plt.title('Success rate wrt Temps Maj.='+'{0:.2f}'.format(success_w1)+' - AGAT ASYM: '+' '+zone+\"\\n\",fontsize=20)\n",
    "plt.xticks(ind_w1, labels_w1,fontsize=15)\n",
    "plt.yticks(np.arange(0, 110, 10),fontsize=15)\n",
    "plt.ylim((0,110))\n",
    "plt.legend((p1[0], p2[0]), ('Correct', 'Incorrect'),fontsize=15,loc='upper right')\n",
    "plt.savefig(path_figures+'success_rate_AGAT_ASYM_'+zone+'.png',bbox_inches = 'tight') \n",
    "plt.close()"
   ]
  }
 ],
 "metadata": {
  "kernelspec": {
   "display_name": "Python 3",
   "language": "python",
   "name": "python3"
  },
  "language_info": {
   "codemirror_mode": {
    "name": "ipython",
    "version": 3
   },
   "file_extension": ".py",
   "mimetype": "text/x-python",
   "name": "python",
   "nbconvert_exporter": "python",
   "pygments_lexer": "ipython3",
   "version": "3.8.2"
  }
 },
 "nbformat": 4,
 "nbformat_minor": 2
}
