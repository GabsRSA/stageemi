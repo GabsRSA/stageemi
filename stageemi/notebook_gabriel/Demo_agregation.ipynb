{
 "cells": [
  {
   "cell_type": "code",
   "execution_count": 1,
   "metadata": {},
   "outputs": [],
   "source": [
    "import stageemi\n",
    "import stageemi.dev.visu as dev\n",
    "import numpy as np\n",
    "import xarray as xr\n",
    "import matplotlib.pyplot as plt\n",
    "import stageemi.dev.decorator_map as dm\n",
    "import ipywidgets as widg \n",
    "import ipyleaflet as ipyl\n",
    "import datetime as dt\n",
    "import os \n",
    "from ipywidgets import Text, HTML\n",
    "from ipyleaflet import WidgetControl\n",
    "import pandas as pd\n",
    "from datetime import datetime\n",
    "import glob "
   ]
  },
  {
   "cell_type": "code",
   "execution_count": 2,
   "metadata": {},
   "outputs": [],
   "source": [
    "def choose_zone_timestep(dpt_nb,timestep=1):\n",
    "    if dpt_nb==\"34\":\n",
    "        latmin=43\n",
    "        latmax=44\n",
    "        lonmin=2\n",
    "        lonmax=5\n",
    "        subsampgeo=1\n",
    "        subsampt=timestep # make sure this value is odd, because .median (in subset_ds()) works with subsampt=odd nb\n",
    "        \n",
    "    elif dpt_nb==\"41\":\n",
    "        latmin=47\n",
    "        latmax=48.5\n",
    "        lonmin=0\n",
    "        lonmax=3\n",
    "        subsampgeo=1\n",
    "        subsampt=timestep # make sure this value is odd, because .median (in subset_ds()) works with subsampt=odd nb\n",
    "        \n",
    "    elif dpt_nb==\"38\":\n",
    "        latmin=44.5\n",
    "        latmax=46\n",
    "        lonmin=4\n",
    "        lonmax=7\n",
    "        subsampgeo=1\n",
    "        subsampt=timestep # make sure this value is odd, because .median (in subset_ds()) works with subsampt=odd nb\n",
    "        \n",
    "    elif dpt_nb==\"29\":\n",
    "        latmin=47.5\n",
    "        latmax=49\n",
    "        lonmin=-6\n",
    "        lonmax=-3\n",
    "        subsampgeo=1\n",
    "        subsampt=timestep # make sure this value is odd, because .median (in subset_ds()) works with subsampt=odd nb\n",
    "        \n",
    "    return latmin,latmax,lonmin,lonmax,subsampgeo,subsampt"
   ]
  },
  {
   "cell_type": "code",
   "execution_count": 3,
   "metadata": {},
   "outputs": [],
   "source": [
    "def subset_ds(fname,latmin,latmax,lonmin,lonmax,subsampgeo,subsampt):\n",
    "    ds=xr.open_dataset(fname)#,chunks={\"step\":1})\n",
    "    ds_sub=ds.sel(latitude=slice(latmax,latmin,subsampgeo)).sel(longitude=slice(lonmin,lonmax,subsampgeo)).coarsen(step=subsampt,boundary=\"trim\").median()       \n",
    "    \n",
    "    \"\"\"solve the bug observed when multiplying the mask by the dataset\"\"\"\n",
    "    ds_sub['latitude']=ds_sub['latitude'].round(5)\n",
    "    ds_sub['longitude']=ds_sub['longitude'].round(5)\n",
    "    return ds_sub"
   ]
  },
  {
   "cell_type": "code",
   "execution_count": 4,
   "metadata": {},
   "outputs": [],
   "source": [
    "def make_mask(zone,**options):\n",
    "    \n",
    "    if options.get(\"action\") == \"sympo\":\n",
    "        fname_mask = '../../../StageEMI_masks/Masques_netcdf/ZONE_SYMPO/'+zone+'.nc'\n",
    "    else:\n",
    "        fname_mask = '../GeoData/nc_departement/'+zone+'.nc'\n",
    "    ds_mask = xr.open_dataset(fname_mask)\n",
    "        \n",
    "    \"\"\"solve the bug observed when multiplying the mask by the dataset\"\"\"\n",
    "    ds_mask[\"latitude\"]=ds_mask[\"latitude\"].round(5)\n",
    "    ds_mask[\"longitude\"]=ds_mask[\"longitude\"].round(5)\n",
    "    \n",
    "    lat_center = ds_mask[\"latitude\"].values.mean()\n",
    "    lon_center = ds_mask[\"longitude\"].values.mean()\n",
    "#     ds_mask.mask.plot()\n",
    "    return ds_mask,lat_center,lon_center"
   ]
  },
  {
   "cell_type": "code",
   "execution_count": 5,
   "metadata": {},
   "outputs": [],
   "source": [
    "def apply_mask(ds_sub,ds_mask):\n",
    "    \n",
    "    ds_masked=ds_sub*ds_mask[\"mask\"].squeeze(\"id\")\n",
    "    \"\"\"add time coordinates\"\"\"\n",
    "    ds_masked=ds_masked.assign_coords({'time':np.asarray(ds_sub['valid_time'])})\n",
    "    \n",
    "    return ds_masked "
   ]
  },
  {
   "cell_type": "code",
   "execution_count": 20,
   "metadata": {},
   "outputs": [],
   "source": [
    "def conversion(ds,name):\n",
    "    \"\"\"convert wwmf into wme (compas) or w1 (agat) code\"\"\"\n",
    "    \n",
    "    file_CodesWWMF= '../utils/CodesWWMF.csv'\n",
    "    df_WWMF = pd.read_csv(file_CodesWWMF,usecols = (0,1,2,3,6,7),sep=',')\n",
    "        \n",
    "    if name==\"compas\":\n",
    "        var_name=\"wme_arr\"\n",
    "        col_name=\"Code WME\"\n",
    "        ds[var_name]=ds.unknown\n",
    "        \n",
    "    elif name==\"agat\":\n",
    "        var_name=\"w1_arr\"\n",
    "        col_name=\"Code W1\"\n",
    "        ds[var_name]=ds.unknown \n",
    "\n",
    "    for iwwmf,wwmf in enumerate(df_WWMF[\"Code WWMF\"]):\n",
    "        #print(wwmf,df_WWMF[\"Code WME\"][iwwmf])\n",
    "        ds[var_name]=ds[var_name].where(ds.unknown!=wwmf,df_WWMF[col_name][iwwmf])\n",
    "        \n",
    "    return ds\n",
    "\n",
    "def distance(ds,name,**options):\n",
    "    \"\"\"calculate the distance between all possible temps sensibles (wme) and the temps sensibles of the zone\"\"\"\n",
    "    \n",
    "    if name == \"compas\":\n",
    "        fname_dist = '../utils/distance_compas.csv'\n",
    "        df_dist = pd.read_csv(fname_dist,sep=',')\n",
    "        var_name=\"wme_arr\"\n",
    "        varsh=\"wme_c_\"\n",
    "        \n",
    "    elif name == \"agat\":\n",
    "        fname_dist = '../utils/distance_agat.csv'\n",
    "        df_dist = pd.read_csv(fname_dist,sep=',')  \n",
    "        var_name=\"w1_arr\"\n",
    "        varsh=\"w1_c_\"\n",
    "    \n",
    "        \n",
    "    if options.get(\"action\") == \"test\":\n",
    "        \"\"\"used to test over few pixels only in debug mode\"\"\"\n",
    "        for iwme,wme in enumerate(df_dist):\n",
    "            if iwme>0 and iwme<5:\n",
    "                # initialize ds[\"1\"] etc\n",
    "                ds[wme]=ds.wme_arr\n",
    "                for iiwme,wwme in enumerate(df_dist):\n",
    "                    if iiwme>0:\n",
    "                        #print(wme,wwme,iiwme,iwme)\n",
    "                        #print(df_dist.iloc[iiwme-1,iwme])\n",
    "                        # for a given wme (e.g. \"1\") every value in ds[\"1\"] is replaced by the ditance btw wme and wwme\n",
    "                        ds[wme]=ds[wme].where(ds.wme_arr!=int(wwme),df_dist.iloc[iiwme-1,iwme])  \n",
    "                        \n",
    "    else:\n",
    "        for iw,w in enumerate(df_dist): \n",
    "            if iw>0:\n",
    "                ds[varsh+w]=ds.wme_arr\n",
    "                for iiw,ww in enumerate(df_dist):\n",
    "                    if iiw>0:\n",
    "                        ds[varsh+w]=ds[varsh+w].where(ds[var_name]!=int(ww),df_dist.iloc[iiw-1,iw])       \n",
    "                    \n",
    "    return ds  \n",
    "\n",
    "def shortest_distance_temps_sensible(ds,name):\n",
    "       \n",
    "    if name==\"compas\": \n",
    "        varsh=\"wme_c_\"\n",
    "    elif name==\"agat\": \n",
    "        varsh=\"w1_c_\"\n",
    "    \n",
    "    \"\"\"find all newly added variables linked to wme or w1 resulting from the distance calulation\"\"\"\n",
    "    allvar=list(ds.data_vars)\n",
    "    list_w=[allvar[i] for i in np.where([varsh in s for s in allvar])[0]]\n",
    "    ncodes=len(list_w)\n",
    "    \n",
    "    nstep=ds.dims[\"step\"]    \n",
    "    best_w=np.asarray(np.ones((1,nstep))*np.nan)\n",
    "    \n",
    "    for istep in range(nstep):\n",
    "        \n",
    "        \"\"\"used for debug\"\"\"\n",
    "        dist_w=np.asarray(np.ones((1,ncodes))*np.nan) \n",
    "        \n",
    "        best_w[0][istep]=list_w[np.asarray([np.sum(ds[w].isel(step=istep)) for iw,w in enumerate(list_w)]).argmin()][len(varsh)::]\n",
    "        dist_w[0]=np.asarray([np.sum(ds[w].isel(step=istep)) for iw,w in enumerate(list_w)])\n",
    "        \n",
    "        ds.attrs[name+\" (step\"+str(istep)+\")\"]=dist_w[0]\n",
    "            \n",
    "    \"\"\"write the best wme code for each time step \"\"\"\n",
    "    ds.attrs[name]=best_w[0]    \n",
    "    \n",
    "    return ds    \n",
    "    \n",
    "def calculate_distance(ds,name):\n",
    "   \n",
    "    ds=conversion(ds,name)\n",
    "    ds=distance(ds,name)\n",
    "    ds=shortest_distance_temps_sensible(ds,name)\n",
    "    \n",
    "    return ds"
   ]
  },
  {
   "cell_type": "code",
   "execution_count": 7,
   "metadata": {},
   "outputs": [],
   "source": [
    "def codes_legendes_wwmf():\n",
    "    \"\"\"lecture des codes WWMF pour chercher le temps majoritaire\"\"\"\n",
    "    file_CodesWWMF = '../utils/CodesWWMF.csv'\n",
    "    df = pd.read_csv(file_CodesWWMF,usecols = (0,1,2,3,6,7),sep=',')\n",
    "    legende_WWMF = df['Legende WWMF'].to_numpy()\n",
    "    code_WWMF    = df['Code WWMF'].to_numpy()\n",
    "    return code_WWMF,legende_WWMF,df"
   ]
  },
  {
   "cell_type": "code",
   "execution_count": 8,
   "metadata": {},
   "outputs": [],
   "source": [
    "def init_table_scores(ds_masked):\n",
    "    \"\"\"initialise the table for the scores\"\"\"\n",
    "    time_array=np.asarray(ds_masked.time.dt.strftime('%Y %m %d %H %M'))\n",
    "    time_index=[time_array[i] for i in range(len(time_array))]\n",
    "    df_scores=pd.DataFrame(columns=['WWMF','WME','W1','WWMF vs WME','WWMF vs W1','WWMF vs (WME and W1)'],index=time_index)\n",
    "    return df_scores "
   ]
  },
  {
   "cell_type": "code",
   "execution_count": 9,
   "metadata": {},
   "outputs": [],
   "source": [
    "def store_results(df_scores,df,ds_masked,**options):\n",
    "    \"\"\"store coherency results in df_scores\"\"\"\n",
    "    if options.get(\"action\") == \"plot\": \n",
    "        fig,axes = plt.subplots(nrows=8,ncols = 2,figsize=(30,60))\n",
    "        ax = axes.flat\n",
    "    \n",
    "    for i in range(ds_masked.dims['step']):\n",
    "        istep=i\n",
    "        val = ds_masked.unknown.isel(step=istep).copy()\n",
    "        code,leg = majoritaire(val.values, code_WWMF,legende_WWMF)\n",
    "        \n",
    "        code_WME=int(ds_masked.attrs[\"compas\"][istep])        \n",
    "        if code_WME==17 or code_WME>19:\n",
    "            print(\"Warning, one code WME is either equal to 17 or greater than the max 19: code WME=\",code_WME,\"in step:\",istep)            \n",
    "        else:\n",
    "            leg_WME=np.unique(df[df['Code WME']==code_WME]['Legende WME'])[0]\n",
    "\n",
    "        code_W1=int(ds_masked.attrs[\"agat\"][istep])\n",
    "        if code_W1==4 or code_W1==12 or code_W1==15 or code_W1==25 or code_W1==27 or code_W1>28:\n",
    "            print(\"Warning, one code W1 is greater than the max 26: code W1=\",code_W1,\"in step:\",istep)            \n",
    "        else:\n",
    "            leg_W1=np.unique(df[df['Code W1']==code_W1]['Legende W1'])[0]\n",
    "\n",
    "        time_step=str(np.asarray(ds_masked.time[istep].dt.strftime('%Y %m %d %H %M')))\n",
    "        codes_coherency(df,df_scores,time_step,code,code_WME,code_W1)\n",
    "        \n",
    "        if options.get(\"action\") == \"plot\":        \n",
    "            val.plot.imshow(ax=ax[i],levels=range(0,90))    \n",
    "            ax[i].set_title(\"WWMF:\"+leg+' '+str(code)+\" - WME:\"+leg_WME+' '+str(code_WME)+\"\\nW1:\"+leg_W1+' '+str(code_W1)+\" Coherency= \"+str(df_scores.loc[time_step][\"WWMF vs (WME and W1)\"]),fontsize=30)\n",
    "            ax[i].set_xlabel('longitude',fontsize=20)\n",
    "            ax[i].set_ylabel('latitude',fontsize=20)\n",
    "    \n",
    "        \n",
    "    if options.get(\"action\") == \"plot\": \n",
    "        plt.tight_layout()\n",
    "        \n",
    "    return df_scores    "
   ]
  },
  {
   "cell_type": "code",
   "execution_count": 10,
   "metadata": {},
   "outputs": [],
   "source": [
    "def majoritaire(data, code,legende):\n",
    "    \"\"\"code borrowed from Mary to find the majoritary temps sensible within a zone, code can be WWMF or WME\"\"\"\n",
    "    occurence   = np.asarray([np.sum(data == code[i]) for i in range(code.size)])\n",
    "    code_majoritaire = code[occurence.argmax()]\n",
    "    leg_majoritaire  = legende[occurence.argmax()]\n",
    "#     print(np.sort(occurence)[::-1])\n",
    "#     print(np.argsort(occurence)[::-1])\n",
    "    return code_majoritaire, leg_majoritaire"
   ]
  },
  {
   "cell_type": "code",
   "execution_count": 11,
   "metadata": {},
   "outputs": [],
   "source": [
    "def codes_coherency(df,df_s,time_step,code,code_wme,code_w1):\n",
    "    \"\"\"fill the dataframe df_s (s for score) with the code values and boolean values that indicate whether they are equal\"\"\"\n",
    "    df_s.loc[time_step][\"WWMF\"]=code\n",
    "    df_s.loc[time_step][\"WME\"]=code_wme\n",
    "    df_s.loc[time_step][\"W1\"]=code_w1  \n",
    "        \n",
    "    if code_wme==df[df[\"Code WWMF\"]==code][\"Code WME\"].iloc[0]: df_s.loc[time_step][\"WWMF vs WME\"]=1\n",
    "    else: df_s.loc[time_step][\"WWMF vs WME\"]=0\n",
    "    \n",
    "    if code_w1==df[df[\"Code WWMF\"]==code][\"Code W1\"].iloc[0]: df_s.loc[time_step][\"WWMF vs W1\"]=1\n",
    "    else: df_s.loc[time_step][\"WWMF vs W1\"]=0\n",
    "    \n",
    "    df_s.loc[time_step][\"WWMF vs (WME and W1)\"]=df_s.loc[time_step][\"WWMF vs WME\"]+df_s.loc[time_step][\"WWMF vs W1\"]\n",
    "    \n",
    "    return df"
   ]
  },
  {
   "cell_type": "code",
   "execution_count": 12,
   "metadata": {},
   "outputs": [],
   "source": [
    "def save_df(df_scores,res_path,zone):\n",
    "    \"\"\"save df_scores in my scores folder\"\"\"\n",
    "    foutname=res_path+zone+\"_\"+\"scores_\"+df_scores.index[0].replace(\" \",\"\")+\".csv\"\n",
    "    print('Currently saving file: '+foutname)\n",
    "    df_scores.to_csv (foutname, index = True, header=True) "
   ]
  },
  {
   "cell_type": "code",
   "execution_count": 25,
   "metadata": {},
   "outputs": [
    {
     "data": {
      "text/plain": [
       "['../WWMF/20200126000000__PG0PAROME__WWMF__EURW1S100______GRILLE____0_48_1__SOL____GRIB2.nc',\n",
       " '../WWMF/20200306000000__PG0PAROME__WWMF__EURW1S100______GRILLE____0_48_1__SOL____GRIB2_v2.nc']"
      ]
     },
     "execution_count": 25,
     "metadata": {},
     "output_type": "execute_result"
    }
   ],
   "source": [
    "hr=\"000000\"\n",
    "#path=\"/scratch/labia/lepapeb/StageEMI/WWMF/\"\n",
    "path=\"../WWMF/\"\n",
    "files=sorted(glob.glob(path+\"*\"+hr+\"*\"))\n",
    "files\n",
    "\n",
    "#20200122 (tempete Gloria)\n",
    "#20200105 (temps clair)\n",
    "#20191122 (pluie)"
   ]
  },
  {
   "cell_type": "code",
   "execution_count": 15,
   "metadata": {},
   "outputs": [
    {
     "data": {
      "text/plain": [
       "['FRJ13', 'FRB05', 'FRH02', 'FRK24']"
      ]
     },
     "execution_count": 15,
     "metadata": {},
     "output_type": "execute_result"
    }
   ],
   "source": [
    "dpt_nb=[\"34\",\"41\",\"29\",\"38\"]\n",
    "zone_dpt=['FRJ13','FRB05','FRH02','FRK24'] #['FRB05' Loir-et-Cher,\"FRH02\" Finistere,'FRJ13' Herault,'FRK24' Isere]\n",
    "zone_dpt"
   ]
  },
  {
   "cell_type": "code",
   "execution_count": 16,
   "metadata": {
    "scrolled": true
   },
   "outputs": [],
   "source": [
    "dpt_choice=dpt_nb[0]\n",
    "#zone_sympo=[zone.split(\"ZONE_SYMPO/\")[1].split(\".nc\")[0] for i,zone in enumerate(sorted(glob.glob(\"../../../StageEMI_masks/Masques_netcdf/ZONE_SYMPO/\"+dpt_choice+\"*\")))]\n",
    "#zone_sympo"
   ]
  },
  {
   "cell_type": "code",
   "execution_count": 17,
   "metadata": {},
   "outputs": [],
   "source": [
    "code_WWMF,legende_WWMF,df=codes_legendes_wwmf()"
   ]
  },
  {
   "cell_type": "code",
   "execution_count": 26,
   "metadata": {},
   "outputs": [],
   "source": [
    "# choose between zone_dpt and zone_sympo\n",
    "zone_to_process=zone_dpt"
   ]
  },
  {
   "cell_type": "code",
   "execution_count": 28,
   "metadata": {
    "scrolled": true
   },
   "outputs": [
    {
     "name": "stdout",
     "output_type": "stream",
     "text": [
      "Currently saving file: ./scores/FRJ13_scores_202001260100.csv\n",
      "Currently saving file: ./scores/FRJ13_scores_202003060100.csv\n",
      "Currently saving file: ./scores/FRB05_scores_202001260100.csv\n",
      "Currently saving file: ./scores/FRB05_scores_202003060100.csv\n",
      "Warning, one code W1 is greater than the max 26: code W1= 27 in step: 12\n",
      "Currently saving file: ./scores/FRH02_scores_202001260100.csv\n",
      "Warning, one code W1 is greater than the max 26: code W1= 27 in step: 1\n",
      "Currently saving file: ./scores/FRH02_scores_202003060100.csv\n",
      "Currently saving file: ./scores/FRK24_scores_202001260100.csv\n",
      "Currently saving file: ./scores/FRK24_scores_202003060100.csv\n"
     ]
    }
   ],
   "source": [
    "for izone, zone in enumerate(zone_to_process):\n",
    "    \n",
    "    ds_mask,lat_center,lon_center=make_mask(zone)\n",
    "    latmin,latmax,lonmin,lonmax,subsampgeo,subsampt=choose_zone_timestep(dpt_nb[izone],timestep=1)\n",
    "    \n",
    "#     ds_mask,lat_center,lon_center=make_mask(zone,action=\"sympo\") # if zone_sympo\n",
    "    \n",
    "    for ifile,fname in enumerate(files):\n",
    "        \n",
    "        ds_sub=subset_ds(fname,latmin,latmax,lonmin,lonmax,subsampgeo,subsampt)  # chuncking does not seem to work properly\n",
    "        ds_masked=apply_mask(ds_sub,ds_mask)\n",
    "\n",
    "        ds_masked=calculate_distance(ds_masked,\"compas\")\n",
    "        ds_masked=calculate_distance(ds_masked,\"agat\")\n",
    "\n",
    "        df_scores=init_table_scores(ds_masked)\n",
    "        df_scores=store_results(df_scores,df,ds_masked)\n",
    "        res_path=\"./scores/\"\n",
    "        save_df(df_scores,res_path,zone)\n",
    "        del ds_sub,ds_masked,df_scores"
   ]
  }
 ],
 "metadata": {
  "kernelspec": {
   "display_name": "Python 3",
   "language": "python",
   "name": "python3"
  },
  "language_info": {
   "codemirror_mode": {
    "name": "ipython",
    "version": 3
   },
   "file_extension": ".py",
   "mimetype": "text/x-python",
   "name": "python",
   "nbconvert_exporter": "python",
   "pygments_lexer": "ipython3",
   "version": "3.8.2"
  }
 },
 "nbformat": 4,
 "nbformat_minor": 2
}
