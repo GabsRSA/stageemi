{
 "cells": [
  {
   "cell_type": "code",
   "execution_count": 1,
   "metadata": {},
   "outputs": [],
   "source": [
    "import stageemi\n",
    "import stageemi.dev.visu as dev\n",
    "import numpy as np\n",
    "import xarray as xr\n",
    "import matplotlib.pyplot as plt\n",
    "import stageemi.dev.decorator_map as dm\n",
    "import ipywidgets as widg \n",
    "import ipyleaflet as ipyl\n",
    "import datetime as dt\n",
    "import os \n",
    "from ipywidgets import Text, HTML\n",
    "from ipyleaflet import WidgetControl\n",
    "import pandas as pd"
   ]
  },
  {
   "cell_type": "code",
   "execution_count": 2,
   "metadata": {
    "scrolled": true
   },
   "outputs": [
    {
     "data": {
      "text/plain": [
       "Index(['Code_W1', 'y_precipitation', 'z_orage', 'v_visibilite', 'g_grele',\n",
       "       'b_brouillardgivrant', 'p_pluieverglas'],\n",
       "      dtype='object')"
      ]
     },
     "execution_count": 2,
     "metadata": {},
     "output_type": "execute_result"
    }
   ],
   "source": [
    "# One needs to consider the column \"Code_W1\" and not the index to build the matrix of distances\n",
    "\n",
    "file_severite_agat= '../utils/severite_agat.csv'\n",
    "df_severite_agat = pd.read_csv(file_severite_agat,sep=',')\n",
    "df_severite_agat\n",
    "df_severite_agat.columns\n",
    "#df_severite_agat\n"
   ]
  },
  {
   "cell_type": "code",
   "execution_count": 3,
   "metadata": {},
   "outputs": [
    {
     "data": {
      "text/plain": [
       "8.41166452017673"
      ]
     },
     "execution_count": 3,
     "metadata": {},
     "output_type": "execute_result"
    }
   ],
   "source": [
    "np.sqrt(np.sum((df_severite_agat.iloc[25,1::].to_numpy()-df_severite_agat.iloc[28,1::].to_numpy())**2))"
   ]
  },
  {
   "cell_type": "code",
   "execution_count": 4,
   "metadata": {},
   "outputs": [],
   "source": [
    "def distance_agat(a,b):\n",
    "    \"\"\"euclidian distance beween two points in a n-space\"\"\"\n",
    "    n=len(a)\n",
    "    \n",
    "    if n!=len(b): \n",
    "        sys.exit(\"warning: both points do not have the same nb of coordinates\")\n",
    "    else:\n",
    "        d=np.sqrt(np.sum((a-b)**2))\n",
    "    return d"
   ]
  },
  {
   "cell_type": "code",
   "execution_count": 5,
   "metadata": {},
   "outputs": [],
   "source": [
    "# old version (but I realised we shall consider Code_W1 not the index) \n",
    "#df=pd.DataFrame(columns=df_severite_agat.index,index=df_severite_agat.index)\n",
    "\n",
    "df=pd.DataFrame(columns=df_severite_agat['Code_W1'].astype(int).to_list(),index=df_severite_agat['Code_W1'].astype(int).to_list())\n",
    "\n",
    "def matrix_agat_generation(df,df_severite_agat):\n",
    "    \"\"\"Generation of the distance matrix AGAT\"\"\"\n",
    "    \n",
    "    Ncodes=len(df_severite_agat[\"Code_W1\"])\n",
    "    \n",
    "    for i in range(Ncodes):\n",
    "        for j in np.arange(i,Ncodes):\n",
    "            #print(i,j)\n",
    "            if i==j: \n",
    "                df.iloc[i,j]=0\n",
    "            else:\n",
    "                #print(df_severite_agat.iloc[i,1::].to_numpy(),df_severite_agat.iloc[j,1::].to_numpy())\n",
    "                #print(distance_agat(df_severite_agat.iloc[i,1::].to_numpy(),df_severite_agat.iloc[j,1::].to_numpy()))\n",
    "                df.iloc[i,j]=format(distance_agat(df_severite_agat.iloc[i,1::].to_numpy(),df_severite_agat.iloc[j,1::].to_numpy()), '.2f')\n",
    "                \"\"\"the matrix is symetric\"\"\"\n",
    "                df.iloc[j,i]=df.iloc[i,j]\n",
    "    return df"
   ]
  },
  {
   "cell_type": "code",
   "execution_count": 6,
   "metadata": {
    "scrolled": false
   },
   "outputs": [],
   "source": [
    "df=matrix_agat_generation(df,df_severite_agat)"
   ]
  },
  {
   "cell_type": "code",
   "execution_count": 7,
   "metadata": {
    "scrolled": false
   },
   "outputs": [],
   "source": [
    "#df"
   ]
  },
  {
   "cell_type": "code",
   "execution_count": 8,
   "metadata": {},
   "outputs": [],
   "source": [
    "df.index.name=\"Codes W1\"\n",
    "df.to_csv(r'../utils/distance_agat.csv')"
   ]
  },
  {
   "cell_type": "code",
   "execution_count": 9,
   "metadata": {},
   "outputs": [],
   "source": [
    "fname_dist = '../utils/distance_agat.csv'\n",
    "df_dist = pd.read_csv(fname_dist,sep=',')\n",
    "#df_dist"
   ]
  }
 ],
 "metadata": {
  "kernelspec": {
   "display_name": "Python 3",
   "language": "python",
   "name": "python3"
  },
  "language_info": {
   "codemirror_mode": {
    "name": "ipython",
    "version": 3
   },
   "file_extension": ".py",
   "mimetype": "text/x-python",
   "name": "python",
   "nbconvert_exporter": "python",
   "pygments_lexer": "ipython3",
   "version": "3.8.2"
  }
 },
 "nbformat": 4,
 "nbformat_minor": 2
}
