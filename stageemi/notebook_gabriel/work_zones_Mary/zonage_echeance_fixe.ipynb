{
 "cells": [
  {
   "cell_type": "code",
   "execution_count": 2,
   "metadata": {},
   "outputs": [],
   "source": [
    "# dans ce code on cherche à définir plusieurs zones à une échéance fixe\n",
    "# import sklearn.metrics\n",
    "import numpy as np\n",
    "import glob\n",
    "import xarray as xr \n",
    "import matplotlib.pyplot as plt\n",
    "from collections import namedtuple\n",
    "import pandas as pd\n",
    "import time\n",
    "import glob\n",
    "import sys, os\n",
    "from pathlib import Path # pour windows \n",
    "sys.path.insert(0, os.path.abspath('./lib'))\n",
    "\n",
    "from lib import read_xarray, find_neighbours,create_new_mask, conversion\n",
    "from lib import hss,precision,far,f1, pod\n",
    "from lib import create_combination_subzones, create_nc_mask_NSEO\n",
    "from lib import group_masks_size, get_optimal_subzone, select_group_mask, get_WME_legend\n"
   ]
  },
  {
   "cell_type": "code",
   "execution_count": 3,
   "metadata": {},
   "outputs": [],
   "source": [
    "def get_not_included_masks(mask_temp, list_id,ds_mask,flag_strictly_included=True):\n",
    "    '''\n",
    "        return: ensemble des combinaisons de zones sans celles incluses dans mask_temp. \n",
    "        flag_strictly_included = True si on supprime seulement les zones qui sont incluses dans mask_temp \n",
    "                               = False si on supprime aussi les zones qui ont une zone sympo incluse dans mask_temp\n",
    "                                Ne peut pas être appliqué si les zones sympos sont placées de manière circulaire \n",
    "                                (ex de l'hérault: si la première cible touche la zone 4 alors on supprime tout car la zone 4 touche toutes les autres zones)\n",
    "    '''    \n",
    "    lst_mask_not_included = [] # not included in zone_temp\n",
    "    lst_mask_strict_included = [] # zones included in zone_temp\n",
    "    for id in list_id:\n",
    "        mask2compare = ds_mask.mask.sel(id = id)  \n",
    "        somme = np.sum((mask_temp.values ==1) & (mask2compare.values==1)) \n",
    "        taille2 = np.sum(mask2compare.values==1)\n",
    "        taille1 = np.sum(mask_temp.values==1)\n",
    "        if somme == taille2 :\n",
    "            lst_mask_strict_included.append(id)\n",
    "    print(len(list_id))\n",
    "\n",
    "    lst_temp = []\n",
    "    if not flag_strictly_included:\n",
    "        for zone in list_id:\n",
    "            for zone_included in lst_mask_strict_included:       \n",
    "                if zone_included in zone:\n",
    "                    lst_temp.append(zone)\n",
    "                else: \n",
    "                    pass\n",
    "        lst_mask_not_included_finale = [element for element in list_id if element not in lst_temp]            \n",
    "    else: \n",
    "        lst_mask_not_included_finale = [element for element in list_id if element not in lst_mask_strict_included]  \n",
    "    return lst_mask_not_included_finale,  lst_mask_strict_included\n",
    "\n",
    "def distance(ds,name,**options):\n",
    "    \"\"\"calculate the distance between all possible temps sensibles (wme) and the temps sensibles of the zone\"\"\"\n",
    "    \n",
    "    if name == \"compas\":\n",
    "        fname_dist = '../../utils/distance_compas.csv'\n",
    "        df_dist = pd.read_csv(fname_dist,sep=',')\n",
    "        var_name=\"wme_arr\"\n",
    "        varsh=\"wme_c_\"\n",
    "        \n",
    "    elif name == \"agat\":\n",
    "        fname_dist = '../../utils/distance_agat.csv'\n",
    "        df_dist = pd.read_csv(fname_dist,sep=',')  \n",
    "        var_name=\"w1_arr\"\n",
    "        varsh=\"w1_c_\"\n",
    "    \n",
    "        \n",
    "    if options.get(\"action\") == \"test\":\n",
    "        \"\"\"used to test over few pixels only in debug mode\"\"\"\n",
    "        for iwme,wme in enumerate(df_dist):\n",
    "            if iwme>0 and iwme<5:\n",
    "                # initialize ds[\"1\"] etc\n",
    "                ds[wme]=ds.wme_arr\n",
    "                for iiwme,wwme in enumerate(df_dist):\n",
    "                    if iiwme>0:\n",
    "                        #print(wme,wwme,iiwme,iwme)\n",
    "                        #print(df_dist.iloc[iiwme-1,iwme])\n",
    "                        # for a given wme (e.g. \"1\") every value in ds[\"1\"] is replaced by the ditance btw wme and wwme\n",
    "                        ds[wme]=ds[wme].where(ds.wme_arr!=int(wwme),df_dist.iloc[iiwme-1,iwme])  \n",
    "                        \n",
    "    else:\n",
    "        for iw,w in enumerate(df_dist): \n",
    "            if iw>0:\n",
    "                ds[varsh+w]=ds.wme_arr\n",
    "                for iiw,ww in enumerate(df_dist):\n",
    "                    if iiw>0:\n",
    "                        ds[varsh+w]=ds[varsh+w].where(ds[var_name]!=int(ww),df_dist.iloc[iiw-1,iw])       \n",
    "                    \n",
    "    return ds  \n",
    "\n",
    "def shortest_distance_temps_sensible_Mary(ds,name):\n",
    "    '''\n",
    "        modification de la fonction de Gabriel pour l'avoir à une échéance fixe\n",
    "    '''   \n",
    "    if name==\"compas\": \n",
    "        varsh=\"wme_c_\"\n",
    "    elif name==\"agat\": \n",
    "        varsh=\"w1_c_\"\n",
    "\n",
    "    \"\"\"find all newly added variables linked to wme or w1 resulting from the distance calulation\"\"\"\n",
    "    allvar=list(ds.data_vars)\n",
    "    list_w=[allvar[i] for i in np.where([varsh in s for s in allvar])[0]]\n",
    "    ncodes=len(list_w)\n",
    "    dist_w=np.asarray(np.ones((1,ncodes))*np.nan) \n",
    "    # shortest_distance_temps_sensible(ds,'compas')\n",
    "\n",
    "    best_w=list_w[np.asarray([np.sum(ds[w]) for iw,w in enumerate(list_w)]).argmin()][len(varsh)::]\n",
    "    ds.attrs[name]=best_w\n",
    "    return ds\n",
    "\n",
    "def calculate_distance(ds,name):\n",
    "    ds=distance(ds,name)\n",
    "    ds=shortest_distance_temps_sensible_Mary(ds,name)\n",
    "    return ds"
   ]
  },
  {
   "cell_type": "code",
   "execution_count": null,
   "metadata": {},
   "outputs": [],
   "source": []
  },
  {
   "cell_type": "markdown",
   "metadata": {},
   "source": [
    "# lecture du mask"
   ]
  },
  {
   "cell_type": "code",
   "execution_count": 25,
   "metadata": {},
   "outputs": [
    {
     "name": "stdout",
     "output_type": "stream",
     "text": [
      "C:\\Users\\mary\\Desktop\\stageemi\\zones_sympo_multiples\\38_mask_zones_sympos.nc\n",
      "0.39477062225341797\n",
      "151\n"
     ]
    }
   ],
   "source": [
    "# 29 : Finistère (185), 34: Hérault (235 combi), 38: Isère (80 combi), 41: Loi-et-cher (27)\n",
    "# date   = '2019110400'\n",
    "# date   = '2019121200'\n",
    "# # date   = '2019122100'\n",
    "# dep_id = '38'#'29'#'41' #'38'#\n",
    "\n",
    "dep_id = '38'#'29'#'41' #'38'#\n",
    "date   = '2020012600'\n",
    "echeance = 1\n",
    "name = 'compas' # pour agreger le temps sensible\n",
    "windows = True \n",
    "# echeance = 10\n",
    "\n",
    "mask_sympo = True\n",
    "mask_geographique = False\n",
    "\n",
    "# mask_sympo = False\n",
    "# mask_geographique = True\n",
    "\n",
    "if mask_sympo and not mask_geographique: \n",
    "    t1 = time.time()\n",
    "    if windows : \n",
    "#         print('windows')\n",
    "        fname_out =  Path(r'C:\\\\Users\\\\mary\\\\Desktop\\\\stageemi\\\\zones_sympo_multiples\\\\'+ dep_id+'_mask_zones_sympos.nc')\n",
    "    else :         \n",
    "        fname_out = '/home/mrpa/borderiesm/stageEMI/Codes/StageEMI/Masques_netcdf/ZONE_SYMPO_MULTIPLE/'+ dep_id+'_mask_zones_sympos.nc'\n",
    "    if not os.path.exists(fname_out): \n",
    "        dir_mask = '/home/mrpa/borderiesm/stageEMI/Codes/StageEMI/Masques_netcdf/ZONE_SYMPO/'\n",
    "        list_subzones = glob.glob(dir_mask + dep_id +'*.nc')\n",
    "        n_subzones = len(list_subzones)  # nombre de zones sympos initiales\n",
    "        lst_subzones = [zone[-7:-3] for zone in list_subzones]\n",
    "        ds_mask = create_combination_subzones(dir_mask,dep_id,lst_subzones,fname_out,degre5=True) \n",
    "    else: \n",
    "        print(fname_out)\n",
    "        ds_mask = read_xarray(fname_out)\n",
    "    print(time.time() - t1)\n",
    "    \n",
    "if mask_geographique and not mask_sympo: \n",
    "    dir_mask  = '/home/mrpa/borderiesm/stageEMI/Codes/stageemi/stageemi/GeoData/nc_departement/'\n",
    "    if   dep_id == '38': dep = 'FRK24'\n",
    "    elif dep_id == '41': dep = 'FRB05'\n",
    "    elif dep_id == \"34\": dep = 'FRJ13'\n",
    "    elif dep_id == '29': dep = \"FRH02\"\n",
    "    else: \n",
    "        print('remplir la bonne valeur pour le dep')\n",
    "        sys.exit()\n",
    "        \n",
    "    dep_file  = dir_mask + dep +'.nc' \n",
    "    fname_out = '/home/mrpa/borderiesm/stageEMI/Codes/StageEMI/Masques_netcdf/ZONE_SYMPO_MULTIPLE/'+ dep_id+'_'+dep+'_mask_NSEO.nc'\n",
    "\n",
    "    if not os.path.exists(fname_out):\n",
    "        ds_mask = create_nc_mask_NSEO(dep_file,fname_out)\n",
    "    else:\n",
    "        print('fichier existe pas')\n",
    "#         ds_mask = read_xarray(fname_out) \n",
    "\n",
    "print(ds_mask.id.values.size)"
   ]
  },
  {
   "cell_type": "markdown",
   "metadata": {},
   "source": [
    "# lecture champs arome et groupement de certains temps sensibles "
   ]
  },
  {
   "cell_type": "code",
   "execution_count": 26,
   "metadata": {},
   "outputs": [
    {
     "name": "stdout",
     "output_type": "stream",
     "text": [
      "[ 1.  2.  4.  8. 10. 14.] ['Clair/Peu nuageux', 'Nuageux', 'Brume/Brouillard/Grisaille', 'Pluie', 'Neige', 'Averses']\n"
     ]
    },
    {
     "data": {
      "image/png": "[encoded data removed]",
      "text/plain": [
       "<Figure size 432x288 with 2 Axes>"
      ]
     },
     "metadata": {
      "needs_background": "light"
     },
     "output_type": "display_data"
    }
   ],
   "source": [
    "if windows: \n",
    "    dir_in = 'C:\\\\Users\\\\mary\\\\Desktop\\\\stageemi\\\\WWMF\\\\' \n",
    "    fname = Path(dir_in +  date+'0000__PG0PAROME__'+'WWMF'+'__EURW1S100______GRILLE____0_48_1__SOL____GRIB2.nc')\n",
    "else:    \n",
    "    dir_in = '/scratch/labia/lepapeb/StageEMI/WWMF/'\n",
    "    fname  = dir_in + date+'0000__PG0PAROME__'+'WWMF'+'__EURW1S100______GRILLE____0_48_1__SOL____GRIB2.nc'\n",
    "    \n",
    "ds     = read_xarray(fname)\n",
    "\n",
    "if mask_sympo and not mask_geographique: \n",
    "    ds2plot = ds.isel(step=echeance) * ds_mask.mask.sel(id='departement') \n",
    "if mask_geographique and not mask_sympo: \n",
    "    ds2plot = ds.isel(step=echeance) * ds_mask.mask.sel(id=\"mask\") \n",
    "# ds2plot.unknown[ind] = 0 \n",
    "ds_WME = conversion(ds2plot,name) \n",
    "# on regroupe 'Très nuageux/Couvert' et 'Nuageux'\n",
    "ds_WME.wme_arr.values[(ds_WME.wme_arr.values == 2) \n",
    "                      + ((ds_WME.wme_arr.values == 3) )] = 2\n",
    "\n",
    "# on regroupe ensemble neige (10) et neige faible (7)\n",
    "ds_WME.wme_arr.values[(ds_WME.wme_arr.values == 7) \n",
    "                      + ((ds_WME.wme_arr.values == 10) )] = 10\n",
    "\n",
    "# on regroupe ensemble pluie (8) et pluie faible (6)\n",
    "ds_WME.wme_arr.values[(ds_WME.wme_arr.values == 6) \n",
    "                      + ((ds_WME.wme_arr.values == 8) )] = 8\n",
    "\n",
    "# on regroupe ensemble qlqs averses (12) et averses (14), et qlqs averses de neige (13)\n",
    "ds_WME.wme_arr.values[(ds_WME.wme_arr.values == 12) + (ds_WME.wme_arr.values == 13)\n",
    "                      + ((ds_WME.wme_arr.values == 14) )] = 14\n",
    "\n",
    "\n",
    "# on regroupe ensemble averses Orageuses (16) et Orages  (18)\n",
    "ds_WME.wme_arr.values[(ds_WME.wme_arr.values == 16) + ((ds_WME.wme_arr.values == 18) )] = 18\n",
    "\n",
    "# ds_WME.wme_arr.values[ds_WME.wme_arr.values<4] = 2 \n",
    "# ds_WME.wme_arr.values[ds_WME.wme_arr.values>=4] = 3 \n",
    "\n",
    "del(ds,ds2plot)\n",
    "ds_WME.wme_arr.plot.imshow()\n",
    "\n",
    "# on regarde les codes \n",
    "file_CodesWWMF = '../../utils/CodesWWMF.csv'\n",
    "cible_list,legend_list = get_WME_legend(file_CodesWWMF, ds_WME)\n",
    "print(cible_list,legend_list)"
   ]
  },
  {
   "cell_type": "code",
   "execution_count": 29,
   "metadata": {},
   "outputs": [
    {
     "data": {
      "text/plain": [
       "151"
      ]
     },
     "execution_count": 29,
     "metadata": {},
     "output_type": "execute_result"
    }
   ],
   "source": [
    "ds_mask.id.values.size"
   ]
  },
  {
   "cell_type": "code",
   "execution_count": null,
   "metadata": {},
   "outputs": [],
   "source": []
  },
  {
   "cell_type": "code",
   "execution_count": 28,
   "metadata": {
    "scrolled": false
   },
   "outputs": [
    {
     "name": "stdout",
     "output_type": "stream",
     "text": [
      "3207.0 6292.0\n",
      "objet dans groupe 1\n",
      "14.0 3803 0.4664535602300041\n",
      "151\n",
      "2595.0 5712.0\n",
      "objet dans groupe 1\n",
      "10.0 3806 0.18378343790961196\n",
      "64\n",
      "8.0 3808 0.040885145345231334\n",
      "35\n",
      "4.0 3801 0.13770643811645694\n",
      "19\n",
      "2.0 3802+3804+3805+3807 0.4768740275525858\n",
      "on a atteint la taille du departement\n",
      "toutes les zones sont bien décrites\n",
      "{14.0: '3803', 10.0: '3806', 8.0: '3808', 4.0: '3801', 2.0: '3802+3804+3805+3807'}\n"
     ]
    }
   ],
   "source": [
    "nsubzonesMax = 6\n",
    "listCible    = cible_list[::-1]\n",
    "\n",
    "listMasksNew = ds_mask.id.values # on commence avec l'ensemble des masks\n",
    "\n",
    "# liste de zones sympos initiales (pour checker à la fin si oui ou non on a une info sur toutes les zones)\n",
    "list_zones_sympos_initiales = [zone for zone in ds_mask.id.values if len(zone) == 4]\n",
    "\n",
    "nsubzones    = 0\n",
    "zones_cibles = {}\n",
    "score_zones_cibles = {}\n",
    "if len(listCible) == 0 : # si un département a le même temps sensible partout\n",
    "    zones_cibles[listCible[0]] = 'departement'\n",
    "else: \n",
    "    for icible,cible in enumerate(listCible):\n",
    "        if nsubzones > nsubzonesMax: \n",
    "            print('nombre de sous-zones trop grand')\n",
    "            break \n",
    "        if len(listMasksNew)>60:\n",
    "            #  on regroupe les masks selon leur taille\n",
    "            groupe1,groupe2,groupe3,taille1,taille2  = group_masks_size(listMasksNew,ds_mask)\n",
    "            # on selectionne le groupement de zones qui match l'objet météo\n",
    "            groupe_mask_select = select_group_mask(ds_WME,cible,groupe1,groupe2,groupe3,taille1,taille2)\n",
    "        else: \n",
    "            # on considère l'ensemble des masks\n",
    "            groupe_mask_select = ds_mask.mask.sel(id=listMasksNew)\n",
    "        # on selectionne la zone optimale (selon le score souhaité)\n",
    "#         print(groupe_mask_select.id.values)\n",
    "        zones_optimales, scores_zones_optimales = get_optimal_subzone(ds_WME, groupe_mask_select,cible)\n",
    "        score_zones_cibles[cible] = scores_zones_optimales['hss']\n",
    "        \n",
    "        \"\"\"\n",
    "            Check sur le critère d'homogénéité, car s'il est trop bas -> pas de zones existantes qui caractérise le phénoméne cible\n",
    "        \"\"\"\n",
    "        if score_zones_cibles[cible]< 0 :\n",
    "            print('pas de zones homogène pour {}'.format(cible))\n",
    "            print(score_zones_cibles[cible])\n",
    "            print()\n",
    "            continue\n",
    "        else : \n",
    "            zones_cibles[cible] = zones_optimales['hss']\n",
    "            nsubzones +=1\n",
    "            \n",
    "        print(cible,zones_cibles[cible],score_zones_cibles[cible])\n",
    "\n",
    "        '''\n",
    "            on check que la somme des zones n'est pas deja egale au departement\n",
    "        '''\n",
    "        if  nsubzones== 1 : \n",
    "            ds_temp  = ds_mask.sel(id=zones_cibles[cible]).mask.copy()\n",
    "        else: \n",
    "            ds_temp.values[(ds_temp.values == 1) + (ds_mask.sel(id=zones_cibles[cible]).mask.values ==1) ] = 1\n",
    "\n",
    "        somme = np.sum((ds_temp.values == 1)&( ds_mask.sel(id='departement').mask.values== 1))\n",
    "        tailleDep = np.sum( ds_mask.sel(id='departement').mask.values== 1)\n",
    "        if somme == tailleDep: \n",
    "            print('on a atteint la taille du departement')\n",
    "            break\n",
    "        listMasksNew, lst_mask_included = get_not_included_masks(ds_mask.mask.sel(id=zones_optimales['hss'])\n",
    "                                        ,listMasksNew,ds_mask,flag_strictly_included=False)\n",
    "#         nsubzones += 1 \n",
    "\n",
    "    '''\n",
    "        on vérifie que toutes les zones du département sont dans les zones sympos\n",
    "    '''\n",
    "    list_zones_select = [zones_cibles[cible] for cible in zones_cibles.keys()]\n",
    "    zones_restantes = []\n",
    "    for zone_sympo in list_zones_sympos_initiales:\n",
    "        n = 0\n",
    "        for zone_select in list_zones_select: \n",
    "    #         print(zone,zone_select)\n",
    "            if zone_sympo in zone_select:\n",
    "                n+=1\n",
    "        if n == 0 : \n",
    "            zones_restantes.append(zone_sympo)\n",
    "    if len(zones_restantes) > 0: \n",
    "#         print(len(zones_restantes))\n",
    "        print('zones restantes:',zones_restantes)\n",
    "    else:\n",
    "        print('toutes les zones sont bien décrites')\n",
    "        \n",
    "print(zones_cibles)    "
   ]
  },
  {
   "cell_type": "markdown",
   "metadata": {},
   "source": [
    "# pour brancher l'agrégation "
   ]
  },
  {
   "cell_type": "code",
   "execution_count": 31,
   "metadata": {
    "scrolled": true
   },
   "outputs": [
    {
     "ename": "KeyError",
     "evalue": "'w1_arr'",
     "output_type": "error",
     "traceback": [
      "\u001b[1;31m---------------------------------------------------------------------------\u001b[0m",
      "\u001b[1;31mKeyError\u001b[0m                                  Traceback (most recent call last)",
      "\u001b[1;32m~\\anaconda3\\envs\\preproc\\lib\\site-packages\\xarray\\core\\dataset.py\u001b[0m in \u001b[0;36m_construct_dataarray\u001b[1;34m(self, name)\u001b[0m\n\u001b[0;32m   1154\u001b[0m         \u001b[1;32mtry\u001b[0m\u001b[1;33m:\u001b[0m\u001b[1;33m\u001b[0m\u001b[1;33m\u001b[0m\u001b[0m\n\u001b[1;32m-> 1155\u001b[1;33m             \u001b[0mvariable\u001b[0m \u001b[1;33m=\u001b[0m \u001b[0mself\u001b[0m\u001b[1;33m.\u001b[0m\u001b[0m_variables\u001b[0m\u001b[1;33m[\u001b[0m\u001b[0mname\u001b[0m\u001b[1;33m]\u001b[0m\u001b[1;33m\u001b[0m\u001b[1;33m\u001b[0m\u001b[0m\n\u001b[0m\u001b[0;32m   1156\u001b[0m         \u001b[1;32mexcept\u001b[0m \u001b[0mKeyError\u001b[0m\u001b[1;33m:\u001b[0m\u001b[1;33m\u001b[0m\u001b[1;33m\u001b[0m\u001b[0m\n",
      "\u001b[1;31mKeyError\u001b[0m: 'w1_arr'",
      "\nDuring handling of the above exception, another exception occurred:\n",
      "\u001b[1;31mKeyError\u001b[0m                                  Traceback (most recent call last)",
      "\u001b[1;32m<ipython-input-31-f29482bb910c>\u001b[0m in \u001b[0;36m<module>\u001b[1;34m\u001b[0m\n\u001b[0;32m      8\u001b[0m \u001b[1;33m\u001b[0m\u001b[0m\n\u001b[0;32m      9\u001b[0m     \u001b[0mds_zone\u001b[0m\u001b[1;33m.\u001b[0m\u001b[0mwme_arr\u001b[0m\u001b[1;33m.\u001b[0m\u001b[0mvalues\u001b[0m\u001b[1;33m[\u001b[0m\u001b[0mds_zone\u001b[0m\u001b[1;33m.\u001b[0m\u001b[0mwme_arr\u001b[0m\u001b[1;33m.\u001b[0m\u001b[0mvalues\u001b[0m \u001b[1;33m==\u001b[0m \u001b[1;36m0\u001b[0m\u001b[1;33m]\u001b[0m \u001b[1;33m=\u001b[0m \u001b[0mnp\u001b[0m\u001b[1;33m.\u001b[0m\u001b[0mnan\u001b[0m\u001b[1;33m\u001b[0m\u001b[1;33m\u001b[0m\u001b[0m\n\u001b[1;32m---> 10\u001b[1;33m     \u001b[0mds\u001b[0m \u001b[1;33m=\u001b[0m \u001b[0mcalculate_distance\u001b[0m\u001b[1;33m(\u001b[0m\u001b[0mds_zone\u001b[0m\u001b[1;33m,\u001b[0m\u001b[0mname\u001b[0m\u001b[1;33m)\u001b[0m\u001b[1;33m\u001b[0m\u001b[1;33m\u001b[0m\u001b[0m\n\u001b[0m\u001b[0;32m     11\u001b[0m     \u001b[0mprint\u001b[0m\u001b[1;33m(\u001b[0m\u001b[0mzone_select\u001b[0m\u001b[1;33m,\u001b[0m\u001b[0mcible\u001b[0m\u001b[1;33m,\u001b[0m\u001b[0mds\u001b[0m\u001b[1;33m.\u001b[0m\u001b[0mattrs\u001b[0m\u001b[1;33m[\u001b[0m\u001b[0mname\u001b[0m\u001b[1;33m]\u001b[0m\u001b[1;33m)\u001b[0m\u001b[1;33m\u001b[0m\u001b[1;33m\u001b[0m\u001b[0m\n\u001b[0;32m     12\u001b[0m \u001b[1;31m# dist_w[0]=np.asarray([np.sum(ds[w].isel(step=istep)) for iw,w in enumerate(list_w)])\u001b[0m\u001b[1;33m\u001b[0m\u001b[1;33m\u001b[0m\u001b[1;33m\u001b[0m\u001b[0m\n",
      "\u001b[1;32m<ipython-input-3-63b929807c5f>\u001b[0m in \u001b[0;36mcalculate_distance\u001b[1;34m(ds, name)\u001b[0m\n\u001b[0;32m     91\u001b[0m \u001b[1;33m\u001b[0m\u001b[0m\n\u001b[0;32m     92\u001b[0m \u001b[1;32mdef\u001b[0m \u001b[0mcalculate_distance\u001b[0m\u001b[1;33m(\u001b[0m\u001b[0mds\u001b[0m\u001b[1;33m,\u001b[0m\u001b[0mname\u001b[0m\u001b[1;33m)\u001b[0m\u001b[1;33m:\u001b[0m\u001b[1;33m\u001b[0m\u001b[1;33m\u001b[0m\u001b[0m\n\u001b[1;32m---> 93\u001b[1;33m     \u001b[0mds\u001b[0m\u001b[1;33m=\u001b[0m\u001b[0mdistance\u001b[0m\u001b[1;33m(\u001b[0m\u001b[0mds\u001b[0m\u001b[1;33m,\u001b[0m\u001b[0mname\u001b[0m\u001b[1;33m)\u001b[0m\u001b[1;33m\u001b[0m\u001b[1;33m\u001b[0m\u001b[0m\n\u001b[0m\u001b[0;32m     94\u001b[0m     \u001b[0mds\u001b[0m\u001b[1;33m=\u001b[0m\u001b[0mshortest_distance_temps_sensible_Mary\u001b[0m\u001b[1;33m(\u001b[0m\u001b[0mds\u001b[0m\u001b[1;33m,\u001b[0m\u001b[0mname\u001b[0m\u001b[1;33m)\u001b[0m\u001b[1;33m\u001b[0m\u001b[1;33m\u001b[0m\u001b[0m\n\u001b[0;32m     95\u001b[0m     \u001b[1;32mreturn\u001b[0m \u001b[0mds\u001b[0m\u001b[1;33m\u001b[0m\u001b[1;33m\u001b[0m\u001b[0m\n",
      "\u001b[1;32m<ipython-input-3-63b929807c5f>\u001b[0m in \u001b[0;36mdistance\u001b[1;34m(ds, name, **options)\u001b[0m\n\u001b[0;32m     66\u001b[0m                 \u001b[1;32mfor\u001b[0m \u001b[0miiw\u001b[0m\u001b[1;33m,\u001b[0m\u001b[0mww\u001b[0m \u001b[1;32min\u001b[0m \u001b[0menumerate\u001b[0m\u001b[1;33m(\u001b[0m\u001b[0mdf_dist\u001b[0m\u001b[1;33m)\u001b[0m\u001b[1;33m:\u001b[0m\u001b[1;33m\u001b[0m\u001b[1;33m\u001b[0m\u001b[0m\n\u001b[0;32m     67\u001b[0m                     \u001b[1;32mif\u001b[0m \u001b[0miiw\u001b[0m\u001b[1;33m>\u001b[0m\u001b[1;36m0\u001b[0m\u001b[1;33m:\u001b[0m\u001b[1;33m\u001b[0m\u001b[1;33m\u001b[0m\u001b[0m\n\u001b[1;32m---> 68\u001b[1;33m                         \u001b[0mds\u001b[0m\u001b[1;33m[\u001b[0m\u001b[0mvarsh\u001b[0m\u001b[1;33m+\u001b[0m\u001b[0mw\u001b[0m\u001b[1;33m]\u001b[0m\u001b[1;33m=\u001b[0m\u001b[0mds\u001b[0m\u001b[1;33m[\u001b[0m\u001b[0mvarsh\u001b[0m\u001b[1;33m+\u001b[0m\u001b[0mw\u001b[0m\u001b[1;33m]\u001b[0m\u001b[1;33m.\u001b[0m\u001b[0mwhere\u001b[0m\u001b[1;33m(\u001b[0m\u001b[0mds\u001b[0m\u001b[1;33m[\u001b[0m\u001b[0mvar_name\u001b[0m\u001b[1;33m]\u001b[0m\u001b[1;33m!=\u001b[0m\u001b[0mint\u001b[0m\u001b[1;33m(\u001b[0m\u001b[0mww\u001b[0m\u001b[1;33m)\u001b[0m\u001b[1;33m,\u001b[0m\u001b[0mdf_dist\u001b[0m\u001b[1;33m.\u001b[0m\u001b[0miloc\u001b[0m\u001b[1;33m[\u001b[0m\u001b[0miiw\u001b[0m\u001b[1;33m-\u001b[0m\u001b[1;36m1\u001b[0m\u001b[1;33m,\u001b[0m\u001b[0miw\u001b[0m\u001b[1;33m]\u001b[0m\u001b[1;33m)\u001b[0m\u001b[1;33m\u001b[0m\u001b[1;33m\u001b[0m\u001b[0m\n\u001b[0m\u001b[0;32m     69\u001b[0m \u001b[1;33m\u001b[0m\u001b[0m\n\u001b[0;32m     70\u001b[0m     \u001b[1;32mreturn\u001b[0m \u001b[0mds\u001b[0m\u001b[1;33m\u001b[0m\u001b[1;33m\u001b[0m\u001b[0m\n",
      "\u001b[1;32m~\\anaconda3\\envs\\preproc\\lib\\site-packages\\xarray\\core\\dataset.py\u001b[0m in \u001b[0;36m__getitem__\u001b[1;34m(self, key)\u001b[0m\n\u001b[0;32m   1243\u001b[0m \u001b[1;33m\u001b[0m\u001b[0m\n\u001b[0;32m   1244\u001b[0m         \u001b[1;32mif\u001b[0m \u001b[0mhashable\u001b[0m\u001b[1;33m(\u001b[0m\u001b[0mkey\u001b[0m\u001b[1;33m)\u001b[0m\u001b[1;33m:\u001b[0m\u001b[1;33m\u001b[0m\u001b[1;33m\u001b[0m\u001b[0m\n\u001b[1;32m-> 1245\u001b[1;33m             \u001b[1;32mreturn\u001b[0m \u001b[0mself\u001b[0m\u001b[1;33m.\u001b[0m\u001b[0m_construct_dataarray\u001b[0m\u001b[1;33m(\u001b[0m\u001b[0mkey\u001b[0m\u001b[1;33m)\u001b[0m\u001b[1;33m\u001b[0m\u001b[1;33m\u001b[0m\u001b[0m\n\u001b[0m\u001b[0;32m   1246\u001b[0m         \u001b[1;32melse\u001b[0m\u001b[1;33m:\u001b[0m\u001b[1;33m\u001b[0m\u001b[1;33m\u001b[0m\u001b[0m\n\u001b[0;32m   1247\u001b[0m             \u001b[1;32mreturn\u001b[0m \u001b[0mself\u001b[0m\u001b[1;33m.\u001b[0m\u001b[0m_copy_listed\u001b[0m\u001b[1;33m(\u001b[0m\u001b[0mnp\u001b[0m\u001b[1;33m.\u001b[0m\u001b[0masarray\u001b[0m\u001b[1;33m(\u001b[0m\u001b[0mkey\u001b[0m\u001b[1;33m)\u001b[0m\u001b[1;33m)\u001b[0m\u001b[1;33m\u001b[0m\u001b[1;33m\u001b[0m\u001b[0m\n",
      "\u001b[1;32m~\\anaconda3\\envs\\preproc\\lib\\site-packages\\xarray\\core\\dataset.py\u001b[0m in \u001b[0;36m_construct_dataarray\u001b[1;34m(self, name)\u001b[0m\n\u001b[0;32m   1155\u001b[0m             \u001b[0mvariable\u001b[0m \u001b[1;33m=\u001b[0m \u001b[0mself\u001b[0m\u001b[1;33m.\u001b[0m\u001b[0m_variables\u001b[0m\u001b[1;33m[\u001b[0m\u001b[0mname\u001b[0m\u001b[1;33m]\u001b[0m\u001b[1;33m\u001b[0m\u001b[1;33m\u001b[0m\u001b[0m\n\u001b[0;32m   1156\u001b[0m         \u001b[1;32mexcept\u001b[0m \u001b[0mKeyError\u001b[0m\u001b[1;33m:\u001b[0m\u001b[1;33m\u001b[0m\u001b[1;33m\u001b[0m\u001b[0m\n\u001b[1;32m-> 1157\u001b[1;33m             _, name, variable = _get_virtual_variable(\n\u001b[0m\u001b[0;32m   1158\u001b[0m                 \u001b[0mself\u001b[0m\u001b[1;33m.\u001b[0m\u001b[0m_variables\u001b[0m\u001b[1;33m,\u001b[0m \u001b[0mname\u001b[0m\u001b[1;33m,\u001b[0m \u001b[0mself\u001b[0m\u001b[1;33m.\u001b[0m\u001b[0m_level_coords\u001b[0m\u001b[1;33m,\u001b[0m \u001b[0mself\u001b[0m\u001b[1;33m.\u001b[0m\u001b[0mdims\u001b[0m\u001b[1;33m\u001b[0m\u001b[1;33m\u001b[0m\u001b[0m\n\u001b[0;32m   1159\u001b[0m             )\n",
      "\u001b[1;32m~\\anaconda3\\envs\\preproc\\lib\\site-packages\\xarray\\core\\dataset.py\u001b[0m in \u001b[0;36m_get_virtual_variable\u001b[1;34m(variables, key, level_vars, dim_sizes)\u001b[0m\n\u001b[0;32m    163\u001b[0m         \u001b[0mref_var\u001b[0m \u001b[1;33m=\u001b[0m \u001b[0mdim_var\u001b[0m\u001b[1;33m.\u001b[0m\u001b[0mto_index_variable\u001b[0m\u001b[1;33m(\u001b[0m\u001b[1;33m)\u001b[0m\u001b[1;33m.\u001b[0m\u001b[0mget_level_variable\u001b[0m\u001b[1;33m(\u001b[0m\u001b[0mref_name\u001b[0m\u001b[1;33m)\u001b[0m\u001b[1;33m\u001b[0m\u001b[1;33m\u001b[0m\u001b[0m\n\u001b[0;32m    164\u001b[0m     \u001b[1;32melse\u001b[0m\u001b[1;33m:\u001b[0m\u001b[1;33m\u001b[0m\u001b[1;33m\u001b[0m\u001b[0m\n\u001b[1;32m--> 165\u001b[1;33m         \u001b[0mref_var\u001b[0m \u001b[1;33m=\u001b[0m \u001b[0mvariables\u001b[0m\u001b[1;33m[\u001b[0m\u001b[0mref_name\u001b[0m\u001b[1;33m]\u001b[0m\u001b[1;33m\u001b[0m\u001b[1;33m\u001b[0m\u001b[0m\n\u001b[0m\u001b[0;32m    166\u001b[0m \u001b[1;33m\u001b[0m\u001b[0m\n\u001b[0;32m    167\u001b[0m     \u001b[1;32mif\u001b[0m \u001b[0mvar_name\u001b[0m \u001b[1;32mis\u001b[0m \u001b[1;32mNone\u001b[0m\u001b[1;33m:\u001b[0m\u001b[1;33m\u001b[0m\u001b[1;33m\u001b[0m\u001b[0m\n",
      "\u001b[1;31mKeyError\u001b[0m: 'w1_arr'"
     ]
    }
   ],
   "source": [
    "# ds_WME.latitude.values = ds_WME.latitude.values[::-1]\n",
    "# print(d)\n",
    "# ds_WME.wme_arr.plot()\n",
    "\n",
    "for cible in zones_cibles.keys():\n",
    "    zone_select = zones_cibles[cible] \n",
    "    ds_zone = ds_WME * ds_mask.mask.sel(id=zone_select)#ds_WME.wme_arr.where(ds_mask.mask.sel(id=zone).values==1,drop=True)\n",
    "\n",
    "    ds_zone.wme_arr.values[ds_zone.wme_arr.values == 0] = np.nan\n",
    "    ds = calculate_distance(ds_zone,name)\n",
    "    print(zone_select,cible,ds.attrs[name])\n",
    "# dist_w[0]=np.asarray([np.sum(ds[w].isel(step=istep)) for iw,w in enumerate(list_w)])\n",
    "        "
   ]
  },
  {
   "cell_type": "code",
   "execution_count": 30,
   "metadata": {},
   "outputs": [
    {
     "ename": "KeyError",
     "evalue": "'w1_arr'",
     "output_type": "error",
     "traceback": [
      "\u001b[1;31m---------------------------------------------------------------------------\u001b[0m",
      "\u001b[1;31mKeyError\u001b[0m                                  Traceback (most recent call last)",
      "\u001b[1;32m~\\anaconda3\\envs\\preproc\\lib\\site-packages\\xarray\\core\\dataset.py\u001b[0m in \u001b[0;36m_construct_dataarray\u001b[1;34m(self, name)\u001b[0m\n\u001b[0;32m   1154\u001b[0m         \u001b[1;32mtry\u001b[0m\u001b[1;33m:\u001b[0m\u001b[1;33m\u001b[0m\u001b[1;33m\u001b[0m\u001b[0m\n\u001b[1;32m-> 1155\u001b[1;33m             \u001b[0mvariable\u001b[0m \u001b[1;33m=\u001b[0m \u001b[0mself\u001b[0m\u001b[1;33m.\u001b[0m\u001b[0m_variables\u001b[0m\u001b[1;33m[\u001b[0m\u001b[0mname\u001b[0m\u001b[1;33m]\u001b[0m\u001b[1;33m\u001b[0m\u001b[1;33m\u001b[0m\u001b[0m\n\u001b[0m\u001b[0;32m   1156\u001b[0m         \u001b[1;32mexcept\u001b[0m \u001b[0mKeyError\u001b[0m\u001b[1;33m:\u001b[0m\u001b[1;33m\u001b[0m\u001b[1;33m\u001b[0m\u001b[0m\n",
      "\u001b[1;31mKeyError\u001b[0m: 'w1_arr'",
      "\nDuring handling of the above exception, another exception occurred:\n",
      "\u001b[1;31mKeyError\u001b[0m                                  Traceback (most recent call last)",
      "\u001b[1;32m<ipython-input-30-de18e4adfbac>\u001b[0m in \u001b[0;36m<module>\u001b[1;34m\u001b[0m\n\u001b[0;32m      5\u001b[0m \u001b[1;33m\u001b[0m\u001b[0m\n\u001b[0;32m      6\u001b[0m     \u001b[0mds_zone\u001b[0m\u001b[1;33m.\u001b[0m\u001b[0mwme_arr\u001b[0m\u001b[1;33m.\u001b[0m\u001b[0mvalues\u001b[0m\u001b[1;33m[\u001b[0m\u001b[0mds_zone\u001b[0m\u001b[1;33m.\u001b[0m\u001b[0mwme_arr\u001b[0m\u001b[1;33m.\u001b[0m\u001b[0mvalues\u001b[0m \u001b[1;33m==\u001b[0m \u001b[1;36m0\u001b[0m\u001b[1;33m]\u001b[0m \u001b[1;33m=\u001b[0m \u001b[0mnp\u001b[0m\u001b[1;33m.\u001b[0m\u001b[0mnan\u001b[0m\u001b[1;33m\u001b[0m\u001b[1;33m\u001b[0m\u001b[0m\n\u001b[1;32m----> 7\u001b[1;33m     \u001b[0mds\u001b[0m \u001b[1;33m=\u001b[0m \u001b[0mcalculate_distance\u001b[0m\u001b[1;33m(\u001b[0m\u001b[0mds_zone\u001b[0m\u001b[1;33m,\u001b[0m\u001b[0mname\u001b[0m\u001b[1;33m)\u001b[0m\u001b[1;33m\u001b[0m\u001b[1;33m\u001b[0m\u001b[0m\n\u001b[0m\u001b[0;32m      8\u001b[0m     \u001b[0mprint\u001b[0m\u001b[1;33m(\u001b[0m\u001b[0mzone_select\u001b[0m\u001b[1;33m,\u001b[0m\u001b[0mcible\u001b[0m\u001b[1;33m,\u001b[0m\u001b[0mds\u001b[0m\u001b[1;33m.\u001b[0m\u001b[0mattrs\u001b[0m\u001b[1;33m[\u001b[0m\u001b[0mname\u001b[0m\u001b[1;33m]\u001b[0m\u001b[1;33m)\u001b[0m\u001b[1;33m\u001b[0m\u001b[1;33m\u001b[0m\u001b[0m\n\u001b[0;32m      9\u001b[0m \u001b[1;31m# dist_w[0]=np.asarray([np.sum(ds[w].isel(step=istep)) for iw,w in enumerate(list_w)])\u001b[0m\u001b[1;33m\u001b[0m\u001b[1;33m\u001b[0m\u001b[1;33m\u001b[0m\u001b[0m\n",
      "\u001b[1;32m<ipython-input-3-63b929807c5f>\u001b[0m in \u001b[0;36mcalculate_distance\u001b[1;34m(ds, name)\u001b[0m\n\u001b[0;32m     91\u001b[0m \u001b[1;33m\u001b[0m\u001b[0m\n\u001b[0;32m     92\u001b[0m \u001b[1;32mdef\u001b[0m \u001b[0mcalculate_distance\u001b[0m\u001b[1;33m(\u001b[0m\u001b[0mds\u001b[0m\u001b[1;33m,\u001b[0m\u001b[0mname\u001b[0m\u001b[1;33m)\u001b[0m\u001b[1;33m:\u001b[0m\u001b[1;33m\u001b[0m\u001b[1;33m\u001b[0m\u001b[0m\n\u001b[1;32m---> 93\u001b[1;33m     \u001b[0mds\u001b[0m\u001b[1;33m=\u001b[0m\u001b[0mdistance\u001b[0m\u001b[1;33m(\u001b[0m\u001b[0mds\u001b[0m\u001b[1;33m,\u001b[0m\u001b[0mname\u001b[0m\u001b[1;33m)\u001b[0m\u001b[1;33m\u001b[0m\u001b[1;33m\u001b[0m\u001b[0m\n\u001b[0m\u001b[0;32m     94\u001b[0m     \u001b[0mds\u001b[0m\u001b[1;33m=\u001b[0m\u001b[0mshortest_distance_temps_sensible_Mary\u001b[0m\u001b[1;33m(\u001b[0m\u001b[0mds\u001b[0m\u001b[1;33m,\u001b[0m\u001b[0mname\u001b[0m\u001b[1;33m)\u001b[0m\u001b[1;33m\u001b[0m\u001b[1;33m\u001b[0m\u001b[0m\n\u001b[0;32m     95\u001b[0m     \u001b[1;32mreturn\u001b[0m \u001b[0mds\u001b[0m\u001b[1;33m\u001b[0m\u001b[1;33m\u001b[0m\u001b[0m\n",
      "\u001b[1;32m<ipython-input-3-63b929807c5f>\u001b[0m in \u001b[0;36mdistance\u001b[1;34m(ds, name, **options)\u001b[0m\n\u001b[0;32m     66\u001b[0m                 \u001b[1;32mfor\u001b[0m \u001b[0miiw\u001b[0m\u001b[1;33m,\u001b[0m\u001b[0mww\u001b[0m \u001b[1;32min\u001b[0m \u001b[0menumerate\u001b[0m\u001b[1;33m(\u001b[0m\u001b[0mdf_dist\u001b[0m\u001b[1;33m)\u001b[0m\u001b[1;33m:\u001b[0m\u001b[1;33m\u001b[0m\u001b[1;33m\u001b[0m\u001b[0m\n\u001b[0;32m     67\u001b[0m                     \u001b[1;32mif\u001b[0m \u001b[0miiw\u001b[0m\u001b[1;33m>\u001b[0m\u001b[1;36m0\u001b[0m\u001b[1;33m:\u001b[0m\u001b[1;33m\u001b[0m\u001b[1;33m\u001b[0m\u001b[0m\n\u001b[1;32m---> 68\u001b[1;33m                         \u001b[0mds\u001b[0m\u001b[1;33m[\u001b[0m\u001b[0mvarsh\u001b[0m\u001b[1;33m+\u001b[0m\u001b[0mw\u001b[0m\u001b[1;33m]\u001b[0m\u001b[1;33m=\u001b[0m\u001b[0mds\u001b[0m\u001b[1;33m[\u001b[0m\u001b[0mvarsh\u001b[0m\u001b[1;33m+\u001b[0m\u001b[0mw\u001b[0m\u001b[1;33m]\u001b[0m\u001b[1;33m.\u001b[0m\u001b[0mwhere\u001b[0m\u001b[1;33m(\u001b[0m\u001b[0mds\u001b[0m\u001b[1;33m[\u001b[0m\u001b[0mvar_name\u001b[0m\u001b[1;33m]\u001b[0m\u001b[1;33m!=\u001b[0m\u001b[0mint\u001b[0m\u001b[1;33m(\u001b[0m\u001b[0mww\u001b[0m\u001b[1;33m)\u001b[0m\u001b[1;33m,\u001b[0m\u001b[0mdf_dist\u001b[0m\u001b[1;33m.\u001b[0m\u001b[0miloc\u001b[0m\u001b[1;33m[\u001b[0m\u001b[0miiw\u001b[0m\u001b[1;33m-\u001b[0m\u001b[1;36m1\u001b[0m\u001b[1;33m,\u001b[0m\u001b[0miw\u001b[0m\u001b[1;33m]\u001b[0m\u001b[1;33m)\u001b[0m\u001b[1;33m\u001b[0m\u001b[1;33m\u001b[0m\u001b[0m\n\u001b[0m\u001b[0;32m     69\u001b[0m \u001b[1;33m\u001b[0m\u001b[0m\n\u001b[0;32m     70\u001b[0m     \u001b[1;32mreturn\u001b[0m \u001b[0mds\u001b[0m\u001b[1;33m\u001b[0m\u001b[1;33m\u001b[0m\u001b[0m\n",
      "\u001b[1;32m~\\anaconda3\\envs\\preproc\\lib\\site-packages\\xarray\\core\\dataset.py\u001b[0m in \u001b[0;36m__getitem__\u001b[1;34m(self, key)\u001b[0m\n\u001b[0;32m   1243\u001b[0m \u001b[1;33m\u001b[0m\u001b[0m\n\u001b[0;32m   1244\u001b[0m         \u001b[1;32mif\u001b[0m \u001b[0mhashable\u001b[0m\u001b[1;33m(\u001b[0m\u001b[0mkey\u001b[0m\u001b[1;33m)\u001b[0m\u001b[1;33m:\u001b[0m\u001b[1;33m\u001b[0m\u001b[1;33m\u001b[0m\u001b[0m\n\u001b[1;32m-> 1245\u001b[1;33m             \u001b[1;32mreturn\u001b[0m \u001b[0mself\u001b[0m\u001b[1;33m.\u001b[0m\u001b[0m_construct_dataarray\u001b[0m\u001b[1;33m(\u001b[0m\u001b[0mkey\u001b[0m\u001b[1;33m)\u001b[0m\u001b[1;33m\u001b[0m\u001b[1;33m\u001b[0m\u001b[0m\n\u001b[0m\u001b[0;32m   1246\u001b[0m         \u001b[1;32melse\u001b[0m\u001b[1;33m:\u001b[0m\u001b[1;33m\u001b[0m\u001b[1;33m\u001b[0m\u001b[0m\n\u001b[0;32m   1247\u001b[0m             \u001b[1;32mreturn\u001b[0m \u001b[0mself\u001b[0m\u001b[1;33m.\u001b[0m\u001b[0m_copy_listed\u001b[0m\u001b[1;33m(\u001b[0m\u001b[0mnp\u001b[0m\u001b[1;33m.\u001b[0m\u001b[0masarray\u001b[0m\u001b[1;33m(\u001b[0m\u001b[0mkey\u001b[0m\u001b[1;33m)\u001b[0m\u001b[1;33m)\u001b[0m\u001b[1;33m\u001b[0m\u001b[1;33m\u001b[0m\u001b[0m\n",
      "\u001b[1;32m~\\anaconda3\\envs\\preproc\\lib\\site-packages\\xarray\\core\\dataset.py\u001b[0m in \u001b[0;36m_construct_dataarray\u001b[1;34m(self, name)\u001b[0m\n\u001b[0;32m   1155\u001b[0m             \u001b[0mvariable\u001b[0m \u001b[1;33m=\u001b[0m \u001b[0mself\u001b[0m\u001b[1;33m.\u001b[0m\u001b[0m_variables\u001b[0m\u001b[1;33m[\u001b[0m\u001b[0mname\u001b[0m\u001b[1;33m]\u001b[0m\u001b[1;33m\u001b[0m\u001b[1;33m\u001b[0m\u001b[0m\n\u001b[0;32m   1156\u001b[0m         \u001b[1;32mexcept\u001b[0m \u001b[0mKeyError\u001b[0m\u001b[1;33m:\u001b[0m\u001b[1;33m\u001b[0m\u001b[1;33m\u001b[0m\u001b[0m\n\u001b[1;32m-> 1157\u001b[1;33m             _, name, variable = _get_virtual_variable(\n\u001b[0m\u001b[0;32m   1158\u001b[0m                 \u001b[0mself\u001b[0m\u001b[1;33m.\u001b[0m\u001b[0m_variables\u001b[0m\u001b[1;33m,\u001b[0m \u001b[0mname\u001b[0m\u001b[1;33m,\u001b[0m \u001b[0mself\u001b[0m\u001b[1;33m.\u001b[0m\u001b[0m_level_coords\u001b[0m\u001b[1;33m,\u001b[0m \u001b[0mself\u001b[0m\u001b[1;33m.\u001b[0m\u001b[0mdims\u001b[0m\u001b[1;33m\u001b[0m\u001b[1;33m\u001b[0m\u001b[0m\n\u001b[0;32m   1159\u001b[0m             )\n",
      "\u001b[1;32m~\\anaconda3\\envs\\preproc\\lib\\site-packages\\xarray\\core\\dataset.py\u001b[0m in \u001b[0;36m_get_virtual_variable\u001b[1;34m(variables, key, level_vars, dim_sizes)\u001b[0m\n\u001b[0;32m    163\u001b[0m         \u001b[0mref_var\u001b[0m \u001b[1;33m=\u001b[0m \u001b[0mdim_var\u001b[0m\u001b[1;33m.\u001b[0m\u001b[0mto_index_variable\u001b[0m\u001b[1;33m(\u001b[0m\u001b[1;33m)\u001b[0m\u001b[1;33m.\u001b[0m\u001b[0mget_level_variable\u001b[0m\u001b[1;33m(\u001b[0m\u001b[0mref_name\u001b[0m\u001b[1;33m)\u001b[0m\u001b[1;33m\u001b[0m\u001b[1;33m\u001b[0m\u001b[0m\n\u001b[0;32m    164\u001b[0m     \u001b[1;32melse\u001b[0m\u001b[1;33m:\u001b[0m\u001b[1;33m\u001b[0m\u001b[1;33m\u001b[0m\u001b[0m\n\u001b[1;32m--> 165\u001b[1;33m         \u001b[0mref_var\u001b[0m \u001b[1;33m=\u001b[0m \u001b[0mvariables\u001b[0m\u001b[1;33m[\u001b[0m\u001b[0mref_name\u001b[0m\u001b[1;33m]\u001b[0m\u001b[1;33m\u001b[0m\u001b[1;33m\u001b[0m\u001b[0m\n\u001b[0m\u001b[0;32m    166\u001b[0m \u001b[1;33m\u001b[0m\u001b[0m\n\u001b[0;32m    167\u001b[0m     \u001b[1;32mif\u001b[0m \u001b[0mvar_name\u001b[0m \u001b[1;32mis\u001b[0m \u001b[1;32mNone\u001b[0m\u001b[1;33m:\u001b[0m\u001b[1;33m\u001b[0m\u001b[1;33m\u001b[0m\u001b[0m\n",
      "\u001b[1;31mKeyError\u001b[0m: 'w1_arr'"
     ]
    }
   ],
   "source": [
    "name='agat'\n",
    "for cible in zones_cibles.keys():\n",
    "    zone_select = zones_cibles[cible] \n",
    "    ds_zone = ds_WME * ds_mask.mask.sel(id=zone_select)#ds_WME.wme_arr.where(ds_mask.mask.sel(id=zone).values==1,drop=True)\n",
    "\n",
    "    ds_zone.wme_arr.values[ds_zone.wme_arr.values == 0] = np.nan\n",
    "    ds = calculate_distance(ds_zone,name)\n",
    "    print(zone_select,cible,ds.attrs[name])\n",
    "# dist_w[0]=np.asarray([np.sum(ds[w].isel(step=istep)) for iw,w in enumerate(list_w)])\n",
    "        "
   ]
  },
  {
   "cell_type": "code",
   "execution_count": null,
   "metadata": {},
   "outputs": [],
   "source": [
    "\n",
    "a = [1,2,3,4]\n",
    "b = [4,5,6,7]\n",
    "a.join(b)"
   ]
  },
  {
   "cell_type": "code",
   "execution_count": null,
   "metadata": {},
   "outputs": [],
   "source": [
    "len('3801')"
   ]
  },
  {
   "cell_type": "code",
   "execution_count": null,
   "metadata": {},
   "outputs": [],
   "source": [
    "file_CodesWWMF = '../../utils/CodesWWMF.csv'\n",
    "cible_list,legend_list = get_WME_legend(file_CodesWWMF, ds_WME)\n",
    "print(cible_list,legend_list)\n",
    "somme = [np.sum(ds_WME.wme_arr.values == cible) for cible in cible_list]\n",
    "print(somme)"
   ]
  },
  {
   "cell_type": "code",
   "execution_count": null,
   "metadata": {},
   "outputs": [],
   "source": []
  },
  {
   "cell_type": "markdown",
   "metadata": {},
   "source": [
    "# old "
   ]
  },
  {
   "cell_type": "code",
   "execution_count": null,
   "metadata": {},
   "outputs": [],
   "source": [
    "# idee 1: on parcourt lensemble des temps sensibles et on regarde les zones associées aux WMEs\n",
    "# On ne recupere que les zones pour lesquelles les valeurs des hss sont suffisants. \n",
    "# cible = 10\n",
    "zones_cibles = {}\n",
    "score_zones_cibles = {}\n",
    "for icible,cible in enumerate(cible_list):\n",
    "    '''\n",
    "         taille de l'objet meteo et selection du groupe (ou pas ? )\n",
    "    '''\n",
    "    taille_objet_binaire = np.sum(ds_WME.wme_arr.values==cible)\n",
    "#     print('taille objet binaire ', taille_objet_binaire)\n",
    "    if taille_objet_binaire < taille1 and taille_objet_binaire >0: # groupe 1 de masks\n",
    "#         print('objet dans groupe 1')\n",
    "        groupe_mask_select = groupe1\n",
    "\n",
    "    elif taille_objet_binaire>=taille1 and taille_objet_binaire < taille2: # groupe 2 de mask\n",
    "#         print('objet dans groupe 2')\n",
    "        groupe_mask_select = groupe2\n",
    "    else :\n",
    "        # On parcourt la liste de mask, calcul dun critere d'homogeneite dans le groupe \n",
    "#         print('objet dans groupe 3')\n",
    "        groupe_mask_select = groupe3\n",
    "\n",
    "    zones_optimales, scores_zones_optimales= get_optimal_subzone(ds_WME, groupe_mask_select,cible)\n",
    "    zones_cibles[cible] = zones_optimales['hss']\n",
    "    score_zones_cibles[cible] = scores_zones_optimales['hss']\n",
    "\n",
    "    if score_zones_cibles[cible]< 0.2: \n",
    "        # aucun mask ne permet de bien représenter cette zone \n",
    "        continue \n",
    "    print('cible ' + str(cible) +' '+ legend_list[icible])    \n",
    "    print('zone: {}, hss:{}'.format(zones_optimales['hss'], np.around(scores_zones_optimales['hss'],2)))\n",
    "    print()\n",
    "    \n",
    "    \n",
    "    "
   ]
  }
 ],
 "metadata": {
  "kernelspec": {
   "display_name": "Python 3",
   "language": "python",
   "name": "python3"
  },
  "language_info": {
   "codemirror_mode": {
    "name": "ipython",
    "version": 3
   },
   "file_extension": ".py",
   "mimetype": "text/x-python",
   "name": "python",
   "nbconvert_exporter": "python",
   "pygments_lexer": "ipython3",
   "version": "3.8.1"
  }
 },
 "nbformat": 4,
 "nbformat_minor": 2
}
