{
 "cells": [
  {
   "cell_type": "code",
   "execution_count": 2,
   "metadata": {},
   "outputs": [],
   "source": [
    "import shapely.geometry as sh\n",
    "import xarray as xr\n",
    "import numpy as np"
   ]
  },
  {
   "cell_type": "code",
   "execution_count": 3,
   "metadata": {},
   "outputs": [],
   "source": [
    "import json \n",
    "import geojson"
   ]
  },
  {
   "cell_type": "code",
   "execution_count": 4,
   "metadata": {},
   "outputs": [],
   "source": [
    "with open(\"../../GeoData/ZonesSympo/zones_sympo_4326.json\",\"r\") as fp: \n",
    "    poly_geo = json.load(fp)"
   ]
  },
  {
   "cell_type": "code",
   "execution_count": 7,
   "metadata": {
    "scrolled": false
   },
   "outputs": [],
   "source": [
    "dpt_nb=[\"38\"]#[\"34\",\"41\",\"29\",\"38\"]\n",
    "\n",
    "# list of the zones sympo id in the json file (zones_sympo_4326.json)\n",
    "zs_json=[poly_geo[\"features\"][i][\"properties\"][\"id\"] for i in range(len(poly_geo[\"features\"]))]\n",
    "\n",
    "feature = []\n",
    "#feature = poly_geo.copy()\n",
    "#feature[\"features\"]=[]\n",
    "\n",
    "for idpt, dpt in enumerate(dpt_nb):\n",
    "        \n",
    "    if idpt==0:\n",
    "        fname_mask = '../../GeoData/zones_sympo_multiples/'+dpt+'_mask_zones_sympos.nc'\n",
    "        da_mask = xr.open_dataarray(fname_mask)    \n",
    "        zsl_nc=da_mask.id.values.tolist()\n",
    "                \n",
    "        for izs,zs_nc in enumerate(zsl_nc):\n",
    "            if zs_nc != \"departement\":\n",
    "                \n",
    "                #print(zs_nc)\n",
    "                \n",
    "                zs_val=zs_nc.split('+')\n",
    "                \n",
    "                if len(zs_val)==1:\n",
    "                    \n",
    "                    #print(\"passe ici?\")\n",
    "                    id_json=zs_json.index(zs_val[0])\n",
    "                    #print(id_json)\n",
    "                    shape = sh.asShape(poly_geo[\"features\"][id_json][\"geometry\"])\n",
    "\n",
    "                    feature.append(geojson.Feature(geometry=shape,properties = {\"id\":zs_val[0]}))\n",
    "                        \n",
    "data = geojson.FeatureCollection(feature) \n",
    "with open(\"../../GeoData/ZonesSympo/zones_sympo_38.json\",\"w\") as f:\n",
    "    geojson.dump(data,f)"
   ]
  },
  {
   "cell_type": "code",
   "execution_count": 9,
   "metadata": {},
   "outputs": [],
   "source": [
    "with open(\"../../GeoData/ZonesSympo/zones_sympo_38.json\",\"r\") as fp: \n",
    "    geo = json.load(fp)\n",
    "#geo"
   ]
  },
  {
   "cell_type": "code",
   "execution_count": 93,
   "metadata": {},
   "outputs": [
    {
     "data": {
      "text/plain": [
       "['3801']"
      ]
     },
     "execution_count": 93,
     "metadata": {},
     "output_type": "execute_result"
    }
   ],
   "source": [
    "### brouillon\n",
    "shape1 = sh.asShape(poly_geo[\"features\"][0][\"geometry\"])\n",
    "shape2 = sh.asShape(poly_geo[\"features\"][1][\"geometry\"])\n",
    "shape3= sh.asShape(poly_geo[\"features\"][2][\"geometry\"])\n",
    "feature = []\n",
    "feature.append(geojson.Feature(geometry=shape1.union(shape2),properties = {\"id\":\"1_2\"}))\n",
    "feature.append(geojson.Feature(geometry=shape3.union(shape2),properties = {\"id\":\"2_3\"}))\n",
    "data = geojson.FeatureCollection(feature) \n",
    "with open(\"test.geojson\",\"w\") as f: \n",
    "        geojson.dump(data,f)\n",
    "        \n",
    "with open(\"test.geojson\",\"r\") as fp: \n",
    "    poly_geo2 = json.load(fp)"
   ]
  },
  {
   "cell_type": "code",
   "execution_count": 10,
   "metadata": {},
   "outputs": [
    {
     "name": "stdout",
     "output_type": "stream",
     "text": [
      "['3801', '3802', '3803', '3804', '3805', '3806', '3807', '3808']\n"
     ]
    }
   ],
   "source": [
    "fname_mask = '../../GeoData/zones_sympo_multiples/'+\"38\"+'_mask_zones_sympos.nc'\n",
    "da_mask = xr.open_dataarray(fname_mask)\n",
    "zs_l=[zs for zs in da_mask.id.values.tolist() if \"+\" not in zs]\n",
    "zs_N=len(zs_l)\n",
    "da_zone=da_mask.isel(id=slice(1,zs_N)).load()\n",
    "print(zs_l[1:zs_N])"
   ]
  },
  {
   "cell_type": "code",
   "execution_count": 11,
   "metadata": {},
   "outputs": [
    {
     "data": {
      "text/plain": [
       "['3801', '3802', '3803', '3804', '3805', '3806', '3807', '3808']"
      ]
     },
     "execution_count": 11,
     "metadata": {},
     "output_type": "execute_result"
    }
   ],
   "source": [
    "zsympo = \"../../GeoData/ZonesSympo/zones_sympo_38.json\"\n",
    "with open(zsympo) as geojson1:\n",
    "    poly_geojson = json.load(geojson1)\n",
    "    \n",
    "[poly_geojson[\"features\"][i][\"properties\"][\"id\"] for i in range(len(poly_geojson[\"features\"]))]"
   ]
  }
 ],
 "metadata": {
  "kernelspec": {
   "display_name": "Python 3",
   "language": "python",
   "name": "python3"
  },
  "language_info": {
   "codemirror_mode": {
    "name": "ipython",
    "version": 3
   },
   "file_extension": ".py",
   "mimetype": "text/x-python",
   "name": "python",
   "nbconvert_exporter": "python",
   "pygments_lexer": "ipython3",
   "version": "3.8.1"
  }
 },
 "nbformat": 4,
 "nbformat_minor": 2
}
