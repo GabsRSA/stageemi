{
 "cells": [
  {
   "cell_type": "code",
   "execution_count": 1,
   "metadata": {},
   "outputs": [],
   "source": [
    "import shapely.geometry as sh\n",
    "import xarray as xr\n",
    "import numpy as np"
   ]
  },
  {
   "cell_type": "code",
   "execution_count": 2,
   "metadata": {},
   "outputs": [],
   "source": [
    "import json \n",
    "import geojson"
   ]
  },
  {
   "cell_type": "markdown",
   "metadata": {},
   "source": [
    "## Initial file used to generate the subsequent .json files"
   ]
  },
  {
   "cell_type": "code",
   "execution_count": 3,
   "metadata": {},
   "outputs": [],
   "source": [
    "with open(\"../../GeoData/ZonesSympo/zones_sympo_4326.json\",\"r\") as fp: \n",
    "    poly_geo = json.load(fp)"
   ]
  },
  {
   "cell_type": "markdown",
   "metadata": {},
   "source": [
    "## A. Create one json file that includes all individual zones sympo of one department"
   ]
  },
  {
   "cell_type": "code",
   "execution_count": 4,
   "metadata": {
    "scrolled": false
   },
   "outputs": [],
   "source": [
    "dpt_nb=[\"41\"]  #[\"34\",\"41\",\"29\",\"38\"]\n",
    "\n",
    "# list of the zones sympo id in the json file (zones_sympo_4326.json)\n",
    "zs_json=[poly_geo[\"features\"][i][\"properties\"][\"id\"] for i in range(len(poly_geo[\"features\"]))]\n",
    "\n",
    "# init\n",
    "feature = []\n",
    "\n",
    "for idpt, dpt in enumerate(dpt_nb):\n",
    "        \n",
    "    if idpt==0: # condition useful for the testing phase\n",
    "        fname_mask = '../../GeoData/zones_sympo_multiples/'+dpt+'_mask_zones_sympos.nc'\n",
    "        da_mask = xr.open_dataarray(fname_mask)  \n",
    "        # zone sympo list in .nc format (hence the name: zsl_nc)\n",
    "        zsl_nc=da_mask.id.values.tolist()\n",
    "                \n",
    "        for izs,zs_nc in enumerate(zsl_nc):\n",
    "            if zs_nc != \"departement\":\n",
    "                zs_val=zs_nc.split('+')\n",
    "                \n",
    "                if len(zs_val)==1:\n",
    "                    # find the corresponding zone sympo index in the original .json file\n",
    "                    id_json=zs_json.index(zs_val[0])\n",
    "                    shape = sh.asShape(poly_geo[\"features\"][id_json][\"geometry\"])\n",
    "\n",
    "                    # append to feature its shape and id\n",
    "                    feature.append(geojson.Feature(geometry=shape,properties = {\"id\":zs_val[0]}))\n",
    "                        \n",
    "    # save feature in a .json data file\n",
    "    data = geojson.FeatureCollection(feature) \n",
    "    with open(\"../../GeoData/ZonesSympo/zones_sympo_\"+str(dpt)+\".json\",\"w\") as f:\n",
    "        geojson.dump(data,f)"
   ]
  },
  {
   "cell_type": "code",
   "execution_count": 4,
   "metadata": {},
   "outputs": [],
   "source": [
    "# check the content of the file that was just created\n",
    "with open(\"../../GeoData/ZonesSympo/zones_sympo_41.json\",\"r\") as fp: \n",
    "    geo = json.load(fp)\n",
    "#geo"
   ]
  },
  {
   "cell_type": "code",
   "execution_count": 8,
   "metadata": {
    "scrolled": false
   },
   "outputs": [
    {
     "data": {
      "image/svg+xml": [
       "<svg xmlns=\"http://www.w3.org/2000/svg\" xmlns:xlink=\"http://www.w3.org/1999/xlink\" width=\"100.0\" height=\"100.0\" viewBox=\"3.1141786 42.4193876 0.5083248000000005 0.6606197999999992\" preserveAspectRatio=\"xMinYMin meet\"><g transform=\"matrix(1,0,0,-1,0,85.49939499999999)\"><path fill-rule=\"evenodd\" fill=\"#66cc99\" stroke=\"#555555\" stroke-width=\"0.013212395999999984\" opacity=\"0.6\" d=\"M 3.479935,42.63947 L 3.598036,42.476489 L 3.282125,42.443855 L 3.138646,42.588705 L 3.142131,42.840152 L 3.169642,43.05554 L 3.567128,42.965465 L 3.528693,42.822166 L 3.479935,42.63947 z\" /></g></svg>"
      ],
      "text/plain": [
       "<shapely.geometry.polygon.PolygonAdapter at 0x11a4f1850>"
      ]
     },
     "execution_count": 8,
     "metadata": {},
     "output_type": "execute_result"
    }
   ],
   "source": [
    "## draft (exemple of the union of two zones)\n",
    "shape0 = sh.asShape(poly_geo[\"features\"][0][\"geometry\"])\n",
    "shape1 = sh.asShape(poly_geo[\"features\"][1][\"geometry\"])\n",
    "shape2= sh.asShape(poly_geo[\"features\"][2][\"geometry\"])\n",
    "feature = []\n",
    "feature.append(geojson.Feature(geometry=shape0.union(shape1).union(shape2),properties = {\"id\":\"0_1_2\"}))\n",
    "\n",
    "shape = sh.asShape(feature[0][\"geometry\"])\n",
    "shape"
   ]
  },
  {
   "cell_type": "markdown",
   "metadata": {},
   "source": [
    "## Same idea but we create one .json file that includes all combinations of the individual zones sympo of one department (as proposed by Mary)"
   ]
  },
  {
   "cell_type": "code",
   "execution_count": 10,
   "metadata": {},
   "outputs": [],
   "source": [
    "dpt_nb=[\"38\"]#[\"34\",\"41\",\"29\",\"38\"]\n",
    "\n",
    "# list of the zones sympo id in the json file (zones_sympo_4326.json)\n",
    "zs_json=[poly_geo[\"features\"][i][\"properties\"][\"id\"] for i in range(len(poly_geo[\"features\"]))]\n",
    "\n",
    "# init\n",
    "feature = []\n",
    "\n",
    "for idpt, dpt in enumerate(dpt_nb):\n",
    "        \n",
    "    if idpt==0: # condition useful for the testing phase\n",
    "        fname_mask = '../../GeoData/zones_sympo_multiples/'+dpt+'_mask_zones_sympos.nc'\n",
    "        da_mask = xr.open_dataarray(fname_mask)    \n",
    "        # zone sympo list in .nc format (hence the name: zsl_nc)\n",
    "        zsl_nc=da_mask.id.values.tolist()\n",
    "                \n",
    "        for izs,zs_nc in enumerate(zsl_nc):\n",
    "            if izs >-1: # tthis condition is always true. In the test we used this one: izs < 10:\n",
    "                # construct the departement from all individual zones sympo\n",
    "                if zs_nc == \"departement\":\n",
    "                    individual_zs=[zs for zs in da_mask.id.values.tolist()[1:] if \"+\" not in zs]\n",
    "                    #print(individual_zs) # check that all individual zones are considered\n",
    "                    for j,zs in enumerate(individual_zs):\n",
    "                        if j==0: # init shape\n",
    "                            id_json=zs_json.index(zs)\n",
    "                            shape = sh.asShape(poly_geo[\"features\"][id_json][\"geometry\"])\n",
    "                        else:\n",
    "                            id_json=zs_json.index(zs)\n",
    "                            shape=shape.union(sh.asShape(poly_geo[\"features\"][id_json][\"geometry\"]))\n",
    "                    feature.append(geojson.Feature(geometry=shape,properties = {\"id\":zs_nc}))\n",
    "                                \n",
    "                # construct all other zones\n",
    "                else:                \n",
    "                    zs_val=zs_nc.split('+')\n",
    "\n",
    "                    # construct individual zones\n",
    "                    if len(zs_val)==1:\n",
    "                        id_json=zs_json.index(zs_val[0])\n",
    "                        shape = sh.asShape(poly_geo[\"features\"][id_json][\"geometry\"])\n",
    "                        feature.append(geojson.Feature(geometry=shape,properties = {\"id\":zs_val[0]}))\n",
    "\n",
    "                    # construct combined zones\n",
    "                    else:\n",
    "                        for j,zs in enumerate(zs_val):\n",
    "                            if j==0: # init shape\n",
    "                                id_json=zs_json.index(zs)\n",
    "                                shape = sh.asShape(poly_geo[\"features\"][id_json][\"geometry\"])\n",
    "                            else: \n",
    "                                id_json=zs_json.index(zs)\n",
    "                                shape=shape.union(sh.asShape(poly_geo[\"features\"][id_json][\"geometry\"]))\n",
    "                        feature.append(geojson.Feature(geometry=shape,properties = {\"id\":zs_nc}))\n",
    "                                                \n",
    "    # save feature in a .json data file\n",
    "    data = geojson.FeatureCollection(feature) \n",
    "    with open(\"../../GeoData/ZonesSympo/zones_sympo_combined_\"+str(dpt)+\".json\",\"w\") as f:\n",
    "        geojson.dump(data,f)"
   ]
  },
  {
   "cell_type": "code",
   "execution_count": 12,
   "metadata": {
    "scrolled": false
   },
   "outputs": [],
   "source": [
    "# check the content of the file that was just created\n",
    "with open(\"../../GeoData/ZonesSympo/zones_sympo_combined_38.json\",\"r\") as fp: \n",
    "    geo = json.load(fp)\n",
    "geo"
   ]
  },
  {
   "cell_type": "markdown",
   "metadata": {},
   "source": [
    "## Some examples of zones in the new .json file"
   ]
  },
  {
   "cell_type": "code",
   "execution_count": 88,
   "metadata": {
    "scrolled": true
   },
   "outputs": [
    {
     "data": {
      "image/svg+xml": [
       "<svg xmlns=\"http://www.w3.org/2000/svg\" xmlns:xlink=\"http://www.w3.org/1999/xlink\" width=\"100.0\" height=\"100.0\" viewBox=\"0.50978888 47.12421088 1.8144032399999999 1.0847422400000042\" preserveAspectRatio=\"xMinYMin meet\"><g transform=\"matrix(1,0,0,-1,0,95.33316400000001)\"><path fill-rule=\"evenodd\" fill=\"#66cc99\" stroke=\"#555555\" stroke-width=\"0.0362880648\" opacity=\"0.6\" d=\"M 0.8328,48.103531 L 0.967032,48.105175 L 1.019827,48.141753 L 1.047134,48.12407 L 0.994338,48.087504 L 1.074854,48.088398 L 1.075285,48.070416 L 1.128946,48.070981 L 1.12977,48.035016 L 1.156583,48.035289 L 1.211361,47.981867 L 1.292076,47.964628 L 1.372409,47.965318 L 1.452141,48.001922 L 1.532807,47.984517 L 1.559596,47.984698 L 1.533355,47.948548 L 1.533629,47.930563 L 1.560655,47.912759 L 1.587917,47.876962 L 1.534995,47.840636 L 1.535268,47.82265 L 1.562501,47.786858 L 1.562764,47.768871 L 1.589951,47.733072 L 1.616612,47.73324 L 1.616368,47.751227 L 1.66971,47.751545 L 1.723261,47.733851 L 1.723677,47.697876 L 1.777535,47.644182 L 1.804153,47.644307 L 1.857063,47.680514 L 1.936971,47.680817 L 1.937107,47.662829 L 1.990362,47.663 L 2.016881,47.681064 L 2.123427,47.681309 L 2.150127,47.663366 L 2.176701,47.681394 L 2.256693,47.627512 L 2.203519,47.609474 L 2.176918,47.609441 L 2.123861,47.573378 L 2.150507,47.555434 L 2.203654,47.555508 L 2.20379,47.50154 L 2.256884,47.501589 L 2.256992,47.42963 L 2.230517,47.411619 L 2.204015,47.411591 L 2.177459,47.429548 L 2.124508,47.411472 L 2.098168,47.37544 L 2.151386,47.303576 L 2.125009,47.285539 L 2.07213,47.28543 L 1.992928,47.26723 L 1.939934,47.285051 L 1.887358,47.248876 L 1.913922,47.230985 L 1.887661,47.212894 L 1.834854,47.212676 L 1.808273,47.230549 L 1.755449,47.230295 L 1.7022,47.265997 L 1.649341,47.265694 L 1.596235,47.283358 L 1.570056,47.265195 L 1.543627,47.265016 L 1.51775,47.228851 L 1.438218,47.246251 L 1.386021,47.209848 L 1.333558,47.191411 L 1.225756,47.298379 L 1.146827,47.2796 L 1.119984,47.297313 L 1.092705,47.333008 L 1.118754,47.351278 L 1.116699,47.441219 L 1.116287,47.459206 L 1.089765,47.458924 L 1.06152,47.530584 L 1.060658,47.566557 L 1.0332,47.602235 L 0.980014,47.601626 L 0.952484,47.637284 L 0.873644,47.600335 L 0.845539,47.653953 L 0.871164,47.690261 L 0.818406,47.671593 L 0.737985,47.688508 L 0.684716,47.687763 L 0.657513,47.705366 L 0.604815,47.686601 L 0.576989,47.722169 L 0.655802,47.759317 L 0.709143,47.760074 L 0.734726,47.796411 L 0.786525,47.851082 L 0.758198,47.904673 L 0.812206,47.8874 L 0.837411,47.941695 L 0.834853,48.031606 L 0.780173,48.066868 L 0.833827,48.067569 L 0.8328,48.103531 z\" /></g></svg>"
      ],
      "text/plain": [
       "<shapely.geometry.polygon.PolygonAdapter at 0x121c3efd0>"
      ]
     },
     "execution_count": 88,
     "metadata": {},
     "output_type": "execute_result"
    }
   ],
   "source": [
    "shape=sh.asShape(geo[\"features\"][0][\"geometry\"])\n",
    "shape"
   ]
  },
  {
   "cell_type": "code",
   "execution_count": 77,
   "metadata": {
    "scrolled": false
   },
   "outputs": [
    {
     "data": {
      "image/svg+xml": [
       "<svg xmlns=\"http://www.w3.org/2000/svg\" xmlns:xlink=\"http://www.w3.org/1999/xlink\" width=\"100.0\" height=\"100.0\" viewBox=\"0.7156606 47.7417416 0.5147657999999998 0.41907680000000624\" preserveAspectRatio=\"xMinYMin meet\"><g transform=\"matrix(1,0,0,-1,0,95.90256)\"><path fill-rule=\"evenodd\" fill=\"#66cc99\" stroke=\"#555555\" stroke-width=\"0.010295315999999997\" opacity=\"0.6\" d=\"M 0.8328,48.103531 L 0.967032,48.105175 L 1.019827,48.141753 L 1.047134,48.12407 L 1.047134,48.12407 L 0.994338,48.087504 L 1.074854,48.088398 L 1.075285,48.070416 L 1.128946,48.070981 L 1.12977,48.035016 L 1.156583,48.035289 L 1.211361,47.981867 L 1.211361,47.981867 L 1.131827,47.945099 L 1.159396,47.909404 L 1.133466,47.873163 L 1.106318,47.890869 L 0.974943,47.799464 L 0.949194,47.76318 L 0.895847,47.762533 L 0.868675,47.780184 L 0.815312,47.7795 L 0.815829,47.761516 L 0.762485,47.760807 L 0.734726,47.796411 L 0.734726,47.796411 L 0.786525,47.851082 L 0.758198,47.904673 L 0.812206,47.8874 L 0.837411,47.941695 L 0.834853,48.031606 L 0.780173,48.066868 L 0.833827,48.067569 L 0.8328,48.103531 z\" /></g></svg>"
      ],
      "text/plain": [
       "<shapely.geometry.polygon.PolygonAdapter at 0x1218a8280>"
      ]
     },
     "execution_count": 77,
     "metadata": {},
     "output_type": "execute_result"
    }
   ],
   "source": [
    "shape=sh.asShape(geo[\"features\"][1][\"geometry\"])\n",
    "shape"
   ]
  },
  {
   "cell_type": "code",
   "execution_count": 78,
   "metadata": {
    "scrolled": true
   },
   "outputs": [
    {
     "data": {
      "image/svg+xml": [
       "<svg xmlns=\"http://www.w3.org/2000/svg\" xmlns:xlink=\"http://www.w3.org/1999/xlink\" width=\"100.0\" height=\"100.0\" viewBox=\"0.54838552 47.57173152 0.77229396 0.438738960000002\" preserveAspectRatio=\"xMinYMin meet\"><g transform=\"matrix(1,0,0,-1,0,95.582202)\"><path fill-rule=\"evenodd\" fill=\"#66cc99\" stroke=\"#555555\" stroke-width=\"0.015445879199999998\" opacity=\"0.6\" d=\"M 1.211361,47.981867 L 1.292076,47.964628 L 1.292076,47.964628 L 1.213276,47.891947 L 1.24039,47.874216 L 1.240763,47.856231 L 1.214422,47.837993 L 1.160597,47.855451 L 1.134693,47.819209 L 1.109242,47.764976 L 1.055456,47.782387 L 1.002542,47.763803 L 1.0039,47.709848 L 0.952015,47.65527 L 0.952484,47.637284 L 0.952484,47.637284 L 0.873644,47.600335 L 0.845539,47.653953 L 0.871164,47.690261 L 0.818406,47.671593 L 0.737985,47.688508 L 0.684716,47.687763 L 0.657513,47.705366 L 0.604815,47.686601 L 0.604815,47.686601 L 0.576989,47.722169 L 0.655802,47.759317 L 0.655802,47.759317 L 0.709143,47.760074 L 0.734726,47.796411 L 0.734726,47.796411 L 0.762485,47.760807 L 0.815829,47.761516 L 0.815312,47.7795 L 0.868675,47.780184 L 0.895847,47.762533 L 0.949194,47.76318 L 0.974943,47.799464 L 1.106318,47.890869 L 1.133466,47.873163 L 1.159396,47.909404 L 1.131827,47.945099 L 1.211361,47.981867 z\" /></g></svg>"
      ],
      "text/plain": [
       "<shapely.geometry.polygon.PolygonAdapter at 0x1218a8f10>"
      ]
     },
     "execution_count": 78,
     "metadata": {},
     "output_type": "execute_result"
    }
   ],
   "source": [
    "shape=sh.asShape(geo[\"features\"][2][\"geometry\"])\n",
    "shape"
   ]
  },
  {
   "cell_type": "code",
   "execution_count": 79,
   "metadata": {
    "scrolled": true
   },
   "outputs": [
    {
     "data": {
      "image/svg+xml": [
       "<svg xmlns=\"http://www.w3.org/2000/svg\" xmlns:xlink=\"http://www.w3.org/1999/xlink\" width=\"100.0\" height=\"100.0\" viewBox=\"0.9264975599999999 47.505066559999996 0.68897088 0.522372880000006\" preserveAspectRatio=\"xMinYMin meet\"><g transform=\"matrix(1,0,0,-1,0,95.532506)\"><path fill-rule=\"evenodd\" fill=\"#66cc99\" stroke=\"#555555\" stroke-width=\"0.0137794176\" opacity=\"0.6\" d=\"M 1.532807,47.984517 L 1.452141,48.001922 L 1.372409,47.965318 L 1.292076,47.964628 L 1.292076,47.964628 L 1.213276,47.891947 L 1.24039,47.874216 L 1.240763,47.856231 L 1.214422,47.837993 L 1.160597,47.855451 L 1.134693,47.819209 L 1.109242,47.764976 L 1.055456,47.782387 L 1.002542,47.763803 L 1.0039,47.709848 L 0.952015,47.65527 L 0.952484,47.637284 L 0.952484,47.637284 L 0.980014,47.601626 L 1.0332,47.602235 L 1.060658,47.566557 L 1.06152,47.530584 L 1.06152,47.530584 L 1.140791,47.54942 L 1.21974,47.586188 L 1.299149,47.604915 L 1.352009,47.623365 L 1.378939,47.6056 L 1.43152,47.642002 L 1.511088,47.660583 L 1.537171,47.696744 L 1.509686,47.750518 L 1.563027,47.750885 L 1.589951,47.733072 L 1.589951,47.733072 L 1.562764,47.768871 L 1.562501,47.786858 L 1.562501,47.786858 L 1.535268,47.82265 L 1.534995,47.840636 L 1.587917,47.876962 L 1.560655,47.912759 L 1.533629,47.930563 L 1.533355,47.948548 L 1.559596,47.984698 L 1.532807,47.984517 z\" /></g></svg>"
      ],
      "text/plain": [
       "<shapely.geometry.polygon.PolygonAdapter at 0x1218a86a0>"
      ]
     },
     "execution_count": 79,
     "metadata": {},
     "output_type": "execute_result"
    }
   ],
   "source": [
    "shape=sh.asShape(geo[\"features\"][3][\"geometry\"])\n",
    "shape"
   ]
  },
  {
   "cell_type": "code",
   "execution_count": 80,
   "metadata": {
    "scrolled": true
   },
   "outputs": [
    {
     "data": {
      "image/svg+xml": [
       "<svg xmlns=\"http://www.w3.org/2000/svg\" xmlns:xlink=\"http://www.w3.org/1999/xlink\" width=\"100.0\" height=\"100.0\" viewBox=\"1.04038276 47.420081759999995 0.57070548 0.3519404800000032\" preserveAspectRatio=\"xMinYMin meet\"><g transform=\"matrix(1,0,0,-1,0,95.192104)\"><path fill-rule=\"evenodd\" fill=\"#66cc99\" stroke=\"#555555\" stroke-width=\"0.0114141096\" opacity=\"0.6\" d=\"M 1.089765,47.458924 L 1.06152,47.530584 L 1.06152,47.530584 L 1.140791,47.54942 L 1.21974,47.586188 L 1.299149,47.604915 L 1.352009,47.623365 L 1.378939,47.6056 L 1.43152,47.642002 L 1.511088,47.660583 L 1.537171,47.696744 L 1.509686,47.750518 L 1.563027,47.750885 L 1.589951,47.733072 L 1.589951,47.733072 L 1.564076,47.678937 L 1.564338,47.660949 L 1.511367,47.642596 L 1.511926,47.606621 L 1.458433,47.624219 L 1.458731,47.606231 L 1.43244,47.588039 L 1.406481,47.551854 L 1.433357,47.534076 L 1.433662,47.516088 L 1.354338,47.497452 L 1.301603,47.479002 L 1.302301,47.443025 L 1.222756,47.442287 L 1.222756,47.442287 L 1.248536,47.478516 L 1.168939,47.477741 L 1.169727,47.441765 L 1.116699,47.441219 L 1.116699,47.441219 L 1.116287,47.459206 L 1.089765,47.458924 z\" /></g></svg>"
      ],
      "text/plain": [
       "<shapely.geometry.polygon.PolygonAdapter at 0x1218a81c0>"
      ]
     },
     "execution_count": 80,
     "metadata": {},
     "output_type": "execute_result"
    }
   ],
   "source": [
    "shape=sh.asShape(geo[\"features\"][4][\"geometry\"])\n",
    "shape"
   ]
  },
  {
   "cell_type": "code",
   "execution_count": 81,
   "metadata": {},
   "outputs": [
    {
     "data": {
      "image/svg+xml": [
       "<svg xmlns=\"http://www.w3.org/2000/svg\" xmlns:xlink=\"http://www.w3.org/1999/xlink\" width=\"100.0\" height=\"100.0\" viewBox=\"1.0757032 47.1744092 0.45904860000000003 0.3211086000000023\" preserveAspectRatio=\"xMinYMin meet\"><g transform=\"matrix(1,0,0,-1,0,94.669927)\"><path fill-rule=\"evenodd\" fill=\"#66cc99\" stroke=\"#555555\" stroke-width=\"0.009180972\" opacity=\"0.6\" d=\"M 1.333558,47.191411 L 1.386021,47.209848 L 1.438218,47.246251 L 1.51775,47.228851 L 1.51775,47.228851 L 1.490486,47.282631 L 1.516647,47.300811 L 1.489631,47.3366 L 1.437008,47.31821 L 1.40993,47.35398 L 1.304044,47.353082 L 1.276859,47.38882 L 1.302999,47.407048 L 1.222756,47.442287 L 1.222756,47.442287 L 1.248536,47.478516 L 1.168939,47.477741 L 1.169727,47.441765 L 1.116699,47.441219 L 1.116699,47.441219 L 1.118754,47.351278 L 1.092705,47.333008 L 1.119984,47.297313 L 1.119984,47.297313 L 1.146827,47.2796 L 1.225756,47.298379 L 1.333558,47.191411 z\" /></g></svg>"
      ],
      "text/plain": [
       "<shapely.geometry.polygon.PolygonAdapter at 0x1218a8a00>"
      ]
     },
     "execution_count": 81,
     "metadata": {},
     "output_type": "execute_result"
    }
   ],
   "source": [
    "shape=sh.asShape(geo[\"features\"][5][\"geometry\"])\n",
    "shape"
   ]
  },
  {
   "cell_type": "code",
   "execution_count": 82,
   "metadata": {},
   "outputs": [
    {
     "data": {
      "image/svg+xml": [
       "<svg xmlns=\"http://www.w3.org/2000/svg\" xmlns:xlink=\"http://www.w3.org/1999/xlink\" width=\"100.0\" height=\"100.0\" viewBox=\"1.18138656 47.171306560000005 1.11697488 0.621607879999992\" preserveAspectRatio=\"xMinYMin meet\"><g transform=\"matrix(1,0,0,-1,0,94.96422100000001)\"><path fill-rule=\"evenodd\" fill=\"#66cc99\" stroke=\"#555555\" stroke-width=\"0.022339497599999997\" opacity=\"0.6\" d=\"M 1.913922,47.230985 L 1.887358,47.248876 L 1.939934,47.285051 L 1.992928,47.26723 L 2.07213,47.28543 L 2.125009,47.285539 L 2.151386,47.303576 L 2.098168,47.37544 L 2.124508,47.411472 L 2.177459,47.429548 L 2.204015,47.411591 L 2.230517,47.411619 L 2.256992,47.42963 L 2.256884,47.501589 L 2.20379,47.50154 L 2.203654,47.555508 L 2.150507,47.555434 L 2.123861,47.573378 L 2.176918,47.609441 L 2.203519,47.609474 L 2.256693,47.627512 L 2.256693,47.627512 L 2.176701,47.681394 L 2.150127,47.663366 L 2.123427,47.681309 L 2.016881,47.681064 L 1.990362,47.663 L 1.937107,47.662829 L 1.936971,47.680817 L 1.857063,47.680514 L 1.804153,47.644307 L 1.777535,47.644182 L 1.723677,47.697876 L 1.723261,47.733851 L 1.66971,47.751545 L 1.66971,47.751545 L 1.616368,47.751227 L 1.616612,47.73324 L 1.589951,47.733072 L 1.589951,47.733072 L 1.564076,47.678937 L 1.564338,47.660949 L 1.511367,47.642596 L 1.511926,47.606621 L 1.458433,47.624219 L 1.458731,47.606231 L 1.43244,47.588039 L 1.406481,47.551854 L 1.433357,47.534076 L 1.433662,47.516088 L 1.354338,47.497452 L 1.301603,47.479002 L 1.302301,47.443025 L 1.222756,47.442287 L 1.222756,47.442287 L 1.302999,47.407048 L 1.276859,47.38882 L 1.304044,47.353082 L 1.40993,47.35398 L 1.437008,47.31821 L 1.489631,47.3366 L 1.516647,47.300811 L 1.490486,47.282631 L 1.51775,47.228851 L 1.51775,47.228851 L 1.543627,47.265016 L 1.570056,47.265195 L 1.596235,47.283358 L 1.649341,47.265694 L 1.7022,47.265997 L 1.755449,47.230295 L 1.808273,47.230549 L 1.834854,47.212676 L 1.834854,47.212676 L 1.887661,47.212894 L 1.913922,47.230985 z\" /></g></svg>"
      ],
      "text/plain": [
       "<shapely.geometry.polygon.PolygonAdapter at 0x1218a80a0>"
      ]
     },
     "execution_count": 82,
     "metadata": {},
     "output_type": "execute_result"
    }
   ],
   "source": [
    "shape=sh.asShape(geo[\"features\"][6][\"geometry\"])\n",
    "shape"
   ]
  },
  {
   "cell_type": "code",
   "execution_count": 83,
   "metadata": {},
   "outputs": [
    {
     "data": {
      "image/svg+xml": [
       "<svg xmlns=\"http://www.w3.org/2000/svg\" xmlns:xlink=\"http://www.w3.org/1999/xlink\" width=\"100.0\" height=\"100.0\" viewBox=\"0.54838552 47.57173152 0.77229396 0.5986249600000022\" preserveAspectRatio=\"xMinYMin meet\"><g transform=\"matrix(1,0,0,-1,0,95.742088)\"><path fill-rule=\"evenodd\" fill=\"#66cc99\" stroke=\"#555555\" stroke-width=\"0.015445879199999998\" opacity=\"0.6\" d=\"M 0.8328,48.103531 L 0.967032,48.105175 L 1.019827,48.141753 L 1.047134,48.12407 L 0.994338,48.087504 L 1.074854,48.088398 L 1.075285,48.070416 L 1.128946,48.070981 L 1.12977,48.035016 L 1.156583,48.035289 L 1.211361,47.981867 L 1.292076,47.964628 L 1.213276,47.891947 L 1.24039,47.874216 L 1.240763,47.856231 L 1.214422,47.837993 L 1.160597,47.855451 L 1.134693,47.819209 L 1.109242,47.764976 L 1.055456,47.782387 L 1.002542,47.763803 L 1.0039,47.709848 L 0.952015,47.65527 L 0.952484,47.637284 L 0.873644,47.600335 L 0.845539,47.653953 L 0.871164,47.690261 L 0.818406,47.671593 L 0.737985,47.688508 L 0.684716,47.687763 L 0.657513,47.705366 L 0.604815,47.686601 L 0.576989,47.722169 L 0.655802,47.759317 L 0.709143,47.760074 L 0.734726,47.796411 L 0.786525,47.851082 L 0.758198,47.904673 L 0.812206,47.8874 L 0.837411,47.941695 L 0.834853,48.031606 L 0.780173,48.066868 L 0.833827,48.067569 L 0.8328,48.103531 z\" /></g></svg>"
      ],
      "text/plain": [
       "<shapely.geometry.polygon.PolygonAdapter at 0x1218a8970>"
      ]
     },
     "execution_count": 83,
     "metadata": {},
     "output_type": "execute_result"
    }
   ],
   "source": [
    "shape=sh.asShape(geo[\"features\"][7][\"geometry\"])\n",
    "shape"
   ]
  },
  {
   "cell_type": "code",
   "execution_count": 84,
   "metadata": {},
   "outputs": [
    {
     "data": {
      "image/svg+xml": [
       "<svg xmlns=\"http://www.w3.org/2000/svg\" xmlns:xlink=\"http://www.w3.org/1999/xlink\" width=\"100.0\" height=\"100.0\" viewBox=\"0.53647052 47.490065519999995 1.09399896 0.5523749600000087\" preserveAspectRatio=\"xMinYMin meet\"><g transform=\"matrix(1,0,0,-1,0,95.532506)\"><path fill-rule=\"evenodd\" fill=\"#66cc99\" stroke=\"#555555\" stroke-width=\"0.0218799792\" opacity=\"0.6\" d=\"M 1.211361,47.981867 L 1.292076,47.964628 L 1.372409,47.965318 L 1.452141,48.001922 L 1.532807,47.984517 L 1.559596,47.984698 L 1.533355,47.948548 L 1.533629,47.930563 L 1.560655,47.912759 L 1.587917,47.876962 L 1.534995,47.840636 L 1.535268,47.82265 L 1.562501,47.786858 L 1.562764,47.768871 L 1.589951,47.733072 L 1.563027,47.750885 L 1.509686,47.750518 L 1.537171,47.696744 L 1.511088,47.660583 L 1.43152,47.642002 L 1.378939,47.6056 L 1.352009,47.623365 L 1.299149,47.604915 L 1.21974,47.586188 L 1.140791,47.54942 L 1.06152,47.530584 L 1.060658,47.566557 L 1.0332,47.602235 L 0.980014,47.601626 L 0.952484,47.637284 L 0.873644,47.600335 L 0.845539,47.653953 L 0.871164,47.690261 L 0.818406,47.671593 L 0.737985,47.688508 L 0.684716,47.687763 L 0.657513,47.705366 L 0.604815,47.686601 L 0.576989,47.722169 L 0.655802,47.759317 L 0.709143,47.760074 L 0.734726,47.796411 L 0.762485,47.760807 L 0.815829,47.761516 L 0.815312,47.7795 L 0.868675,47.780184 L 0.895847,47.762533 L 0.949194,47.76318 L 0.974943,47.799464 L 1.106318,47.890869 L 1.133466,47.873163 L 1.159396,47.909404 L 1.131827,47.945099 L 1.211361,47.981867 z\" /></g></svg>"
      ],
      "text/plain": [
       "<shapely.geometry.polygon.PolygonAdapter at 0x1218a8490>"
      ]
     },
     "execution_count": 84,
     "metadata": {},
     "output_type": "execute_result"
    }
   ],
   "source": [
    "shape=sh.asShape(geo[\"features\"][8][\"geometry\"])\n",
    "shape"
   ]
  },
  {
   "cell_type": "code",
   "execution_count": 85,
   "metadata": {
    "scrolled": false
   },
   "outputs": [
    {
     "data": {
      "image/svg+xml": [
       "<svg xmlns=\"http://www.w3.org/2000/svg\" xmlns:xlink=\"http://www.w3.org/1999/xlink\" width=\"100.0\" height=\"100.0\" viewBox=\"0.9264975599999999 47.415701559999995 0.68897088 0.6117378800000068\" preserveAspectRatio=\"xMinYMin meet\"><g transform=\"matrix(1,0,0,-1,0,95.443141)\"><path fill-rule=\"evenodd\" fill=\"#66cc99\" stroke=\"#555555\" stroke-width=\"0.0137794176\" opacity=\"0.6\" d=\"M 1.06152,47.530584 L 1.060658,47.566557 L 1.0332,47.602235 L 0.980014,47.601626 L 0.952484,47.637284 L 0.952015,47.65527 L 1.0039,47.709848 L 1.002542,47.763803 L 1.055456,47.782387 L 1.109242,47.764976 L 1.134693,47.819209 L 1.160597,47.855451 L 1.214422,47.837993 L 1.240763,47.856231 L 1.24039,47.874216 L 1.213276,47.891947 L 1.292076,47.964628 L 1.372409,47.965318 L 1.452141,48.001922 L 1.532807,47.984517 L 1.559596,47.984698 L 1.533355,47.948548 L 1.533629,47.930563 L 1.560655,47.912759 L 1.587917,47.876962 L 1.534995,47.840636 L 1.535268,47.82265 L 1.562501,47.786858 L 1.562764,47.768871 L 1.589951,47.733072 L 1.564076,47.678937 L 1.564338,47.660949 L 1.511367,47.642596 L 1.511926,47.606621 L 1.458433,47.624219 L 1.458731,47.606231 L 1.43244,47.588039 L 1.406481,47.551854 L 1.433357,47.534076 L 1.433662,47.516088 L 1.354338,47.497452 L 1.301603,47.479002 L 1.302301,47.443025 L 1.222756,47.442287 L 1.248536,47.478516 L 1.168939,47.477741 L 1.169727,47.441765 L 1.116699,47.441219 L 1.116287,47.459206 L 1.089765,47.458924 L 1.06152,47.530584 z\" /></g></svg>"
      ],
      "text/plain": [
       "<shapely.geometry.polygon.PolygonAdapter at 0x1218aea00>"
      ]
     },
     "execution_count": 85,
     "metadata": {},
     "output_type": "execute_result"
    }
   ],
   "source": [
    "shape=sh.asShape(geo[\"features\"][9][\"geometry\"])\n",
    "shape"
   ]
  }
 ],
 "metadata": {
  "kernelspec": {
   "display_name": "Python 3",
   "language": "python",
   "name": "python3"
  },
  "language_info": {
   "codemirror_mode": {
    "name": "ipython",
    "version": 3
   },
   "file_extension": ".py",
   "mimetype": "text/x-python",
   "name": "python",
   "nbconvert_exporter": "python",
   "pygments_lexer": "ipython3",
   "version": "3.8.2"
  }
 },
 "nbformat": 4,
 "nbformat_minor": 2
}
