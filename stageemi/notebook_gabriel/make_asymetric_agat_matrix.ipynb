{
 "cells": [
  {
   "cell_type": "code",
   "execution_count": 1,
   "metadata": {},
   "outputs": [],
   "source": [
    "import stageemi\n",
    "import stageemi.dev.visu as dev\n",
    "import numpy as np\n",
    "import xarray as xr\n",
    "import matplotlib.pyplot as plt\n",
    "import stageemi.dev.decorator_map as dm\n",
    "import ipywidgets as widg \n",
    "import ipyleaflet as ipyl\n",
    "import datetime as dt\n",
    "import os \n",
    "from ipywidgets import Text, HTML\n",
    "from ipyleaflet import WidgetControl\n",
    "import pandas "
   ]
  },
  {
   "cell_type": "code",
   "execution_count": 2,
   "metadata": {
    "scrolled": false
   },
   "outputs": [
    {
     "data": {
      "text/plain": [
       "0    3.35\n",
       "1    0.00\n",
       "2    1.12\n",
       "3    2.24\n",
       "4    5.69\n",
       "Name: 1, dtype: float64"
      ]
     },
     "execution_count": 2,
     "metadata": {},
     "output_type": "execute_result"
    }
   ],
   "source": [
    "file_agat= '../utils/distance_agat.csv'\n",
    "df_agat = pandas.read_csv(file_agat,sep=',')\n",
    "df_agat['1'][0:5]"
   ]
  },
  {
   "cell_type": "code",
   "execution_count": 3,
   "metadata": {},
   "outputs": [
    {
     "data": {
      "text/plain": [
       "{'15-19': 5, '11-15': 4, '7-11': 3, '3-7': 2, '0-3': 1}"
      ]
     },
     "execution_count": 3,
     "metadata": {},
     "output_type": "execute_result"
    }
   ],
   "source": [
    "# Ajout sous la diagonale de la penalite (qui est additive)\n",
    "penalty_dict={\"15-19\":5,\"11-15\":4,\"7-11\":3,\"3-7\":2,\"0-3\":1} # needs to be done in reverse order (high values to low values)\n",
    "penalty_dict"
   ]
  },
  {
   "cell_type": "code",
   "execution_count": 4,
   "metadata": {
    "scrolled": false
   },
   "outputs": [
    {
     "data": {
      "text/plain": [
       "Index(['0', '1', '2', '3', '4', '5', '6', '7', '8', '9', '10', '11', '12',\n",
       "       '13', '14', '16', '17', '18', '19', '20', '21', '22', '23', '24', '25',\n",
       "       '28', '29', '30', '31', '32'],\n",
       "      dtype='object')"
      ]
     },
     "execution_count": 4,
     "metadata": {},
     "output_type": "execute_result"
    }
   ],
   "source": [
    "df_agat.columns[1:31]"
   ]
  },
  {
   "cell_type": "code",
   "execution_count": 5,
   "metadata": {
    "scrolled": true
   },
   "outputs": [],
   "source": [
    "#df_agat"
   ]
  },
  {
   "cell_type": "code",
   "execution_count": 6,
   "metadata": {
    "scrolled": false
   },
   "outputs": [
    {
     "name": "stderr",
     "output_type": "stream",
     "text": [
      "<ipython-input-6-15e57b7ddbd1>:15: SettingWithCopyWarning: \n",
      "A value is trying to be set on a copy of a slice from a DataFrame\n",
      "\n",
      "See the caveats in the documentation: https://pandas.pydata.org/pandas-docs/stable/user_guide/indexing.html#returning-a-view-versus-a-copy\n",
      "  df_agat[val][ind[key]+i+1]=df_agat[val][ind[key]+i+1]+penalty_dict[key]\n"
     ]
    },
    {
     "name": "stdout",
     "output_type": "stream",
     "text": [
      "False\n",
      "False\n",
      "True\n",
      "False\n",
      "False\n"
     ]
    },
    {
     "name": "stderr",
     "output_type": "stream",
     "text": [
      "<ipython-input-6-15e57b7ddbd1>:20: SettingWithCopyWarning: \n",
      "A value is trying to be set on a copy of a slice from a DataFrame\n",
      "\n",
      "See the caveats in the documentation: https://pandas.pydata.org/pandas-docs/stable/user_guide/indexing.html#returning-a-view-versus-a-copy\n",
      "  df_agat[val][N-1]=df_agat[val][N-1]+penalty_dict[key]\n"
     ]
    }
   ],
   "source": [
    "N=len(df_agat.index)\n",
    "ind={\"0-3\":np.nan,\"3-7\":np.nan,\"7-11\":np.nan,\"11-15\":np.nan,\"15-19\":np.nan}\n",
    "\n",
    "for i,val in enumerate(df_agat.columns[1:31]): # goes till column 31-1=30\n",
    "    #i=2 in debug case when one does not start from column 1\n",
    "    #print(val)\n",
    "\n",
    "    for j,key in enumerate(penalty_dict):    \n",
    "#         print(j,key)\n",
    "        \n",
    "        if val != '32':\n",
    "            ind[key] = np.where(np.all(np.array((df_agat[val][i+1::]>=int(key.split('-')[0]),df_agat[val][i+1::]<int(key.split('-')[1]))),axis=0))[0]                  \n",
    "#             print(ind[key]+i+1)\n",
    "            if len(ind[key])>0:        \n",
    "                df_agat[val][ind[key]+i+1]=df_agat[val][ind[key]+i+1]+penalty_dict[key]\n",
    "        elif val == '32': # special treatment for the last but one column\n",
    "#             print(df_agat[val][i+1::])\n",
    "            print(np.all(np.array((list(df_agat[val][i+1::]>=int(key.split('-')[0])),list(df_agat[val][i+1::]<int(key.split('-')[1]))))))\n",
    "            if np.all(np.array((list(df_agat[val][i+1::]>=int(key.split('-')[0])),list(df_agat[val][i+1::]<int(key.split('-')[1]))))):\n",
    "                df_agat[val][N-1]=df_agat[val][N-1]+penalty_dict[key]               "
   ]
  },
  {
   "cell_type": "code",
   "execution_count": 7,
   "metadata": {
    "scrolled": false
   },
   "outputs": [],
   "source": [
    "#df_agat"
   ]
  },
  {
   "cell_type": "code",
   "execution_count": 8,
   "metadata": {},
   "outputs": [],
   "source": [
    "agat_asym_filename='../utils/distance_agat_asym.csv'\n",
    "df_agat.to_csv(agat_asym_filename, index = False, header=True) "
   ]
  }
 ],
 "metadata": {
  "kernelspec": {
   "display_name": "Python 3",
   "language": "python",
   "name": "python3"
  },
  "language_info": {
   "codemirror_mode": {
    "name": "ipython",
    "version": 3
   },
   "file_extension": ".py",
   "mimetype": "text/x-python",
   "name": "python",
   "nbconvert_exporter": "python",
   "pygments_lexer": "ipython3",
   "version": "3.8.2"
  }
 },
 "nbformat": 4,
 "nbformat_minor": 2
}
