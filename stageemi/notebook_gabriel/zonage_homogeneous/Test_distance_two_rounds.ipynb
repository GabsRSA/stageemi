{
 "cells": [
  {
   "cell_type": "code",
   "execution_count": 1,
   "metadata": {},
   "outputs": [],
   "source": [
    "import stageemi\n",
    "import stageemi.dev.distance_wwmf as distance_wwmf\n",
    "import numpy as np\n",
    "import xarray as xr\n",
    "import matplotlib.pyplot as plt\n",
    "import os \n",
    "import numpy as np\n",
    "import pandas as pd\n",
    "from datetime import datetime\n",
    "import glob \n",
    "import time"
   ]
  },
  {
   "cell_type": "code",
   "execution_count": 3,
   "metadata": {},
   "outputs": [],
   "source": [
    "path=\"../../WWMF/\"\n",
    "time_str='202001260000'\n",
    "fname=sorted(glob.glob(path+\"*\"+'20200126000000'+\"*\"))[0]"
   ]
  },
  {
   "cell_type": "markdown",
   "metadata": {},
   "source": [
    "## On ouvre les fichiers "
   ]
  },
  {
   "cell_type": "code",
   "execution_count": 5,
   "metadata": {},
   "outputs": [],
   "source": [
    "zone_dpt=\"41\"\n",
    "fname_mask='../../GeoData/zones_sympo_multiples/'+zone_dpt+'_mask_zones_sympos.nc'\n",
    "da_mask=xr.open_dataarray(fname_mask,chunks={\"id\":1})\n",
    "\n",
    "da_mask['latitude']=da_mask['latitude'].round(5)\n",
    "da_mask['latitude']=da_mask['latitude'].round(5)"
   ]
  },
  {
   "cell_type": "code",
   "execution_count": 6,
   "metadata": {},
   "outputs": [
    {
     "data": {
      "text/html": [
       "<pre>&lt;xarray.DataArray &#x27;mask&#x27; (id: 31, latitude: 96, longitude: 169)&gt;\n",
       "dask.array&lt;open_dataset-227f3d2d6e526f733680c80144332fbbmask, shape=(31, 96, 169), dtype=float32, chunksize=(1, 96, 169), chunktype=numpy.ndarray&gt;\n",
       "Coordinates:\n",
       "    heightAboveGround  int64 ...\n",
       "    time               datetime64[ns] ...\n",
       "    valid_time         datetime64[ns] ...\n",
       "    step               timedelta64[ns] ...\n",
       "  * latitude           (latitude) float64 47.2 47.21 47.22 ... 48.13 48.14 48.15\n",
       "  * longitude          (longitude) float64 0.57 0.58 0.59 0.6 ... 2.23 2.24 2.25\n",
       "  * id                 (id) object &#x27;departement&#x27; ... &#x27;4102+4103+4104+4105+4106&#x27;</pre>"
      ],
      "text/plain": [
       "<xarray.DataArray 'mask' (id: 31, latitude: 96, longitude: 169)>\n",
       "dask.array<open_dataset-227f3d2d6e526f733680c80144332fbbmask, shape=(31, 96, 169), dtype=float32, chunksize=(1, 96, 169), chunktype=numpy.ndarray>\n",
       "Coordinates:\n",
       "    heightAboveGround  int64 ...\n",
       "    time               datetime64[ns] ...\n",
       "    valid_time         datetime64[ns] ...\n",
       "    step               timedelta64[ns] ...\n",
       "  * latitude           (latitude) float64 47.2 47.21 47.22 ... 48.13 48.14 48.15\n",
       "  * longitude          (longitude) float64 0.57 0.58 0.59 0.6 ... 2.23 2.24 2.25\n",
       "  * id                 (id) object 'departement' ... '4102+4103+4104+4105+4106'"
      ]
     },
     "execution_count": 6,
     "metadata": {},
     "output_type": "execute_result"
    }
   ],
   "source": [
    "da_mask"
   ]
  },
  {
   "cell_type": "code",
   "execution_count": 4,
   "metadata": {
    "scrolled": true
   },
   "outputs": [],
   "source": [
    "#add as attribute the size of the zone (in number of pixels)\n",
    "zone_size_l=[len(np.where(da_mask.isel(id=i)==1)[0]) for i in np.arange(0,31)]\n",
    "da_mask.attrs[\"zone size\"]=zone_size_l\n",
    "#da_mask"
   ]
  },
  {
   "cell_type": "code",
   "execution_count": 5,
   "metadata": {},
   "outputs": [],
   "source": [
    "ds=xr.open_dataset(fname,chunks={\"step\":1})\n",
    "ds['latitude']=ds['latitude'].round(5)\n",
    "ds['longitude']=ds['longitude'].round(5)"
   ]
  },
  {
   "cell_type": "code",
   "execution_count": 9,
   "metadata": {},
   "outputs": [
    {
     "data": {
      "text/plain": [
       "<matplotlib.image.AxesImage at 0x11f552850>"
      ]
     },
     "execution_count": 9,
     "metadata": {},
     "output_type": "execute_result"
    },
    {
     "data": {
      "image/png": "[encoded data removed]",
      "text/plain": [
       "<Figure size 432x288 with 2 Axes>"
      ]
     },
     "metadata": {
      "needs_background": "light"
     },
     "output_type": "display_data"
    }
   ],
   "source": [
    "ds_masked=(ds*da_mask.sel(id=\"departement\").drop(\"id\"))\n",
    "ds_masked.isel(step=47).unknown.plot.imshow(vmin=0,vmax=99)"
   ]
  },
  {
   "cell_type": "markdown",
   "metadata": {},
   "source": [
    "## Round 1"
   ]
  },
  {
   "cell_type": "code",
   "execution_count": 8,
   "metadata": {},
   "outputs": [],
   "source": [
    "ds_distance = distance_wwmf.get_pixel_distance_dept(ds_masked,\"compas\") # 4D (step:48, latitude, longitude, wwmf_2)\n",
    "#ds_distance"
   ]
  },
  {
   "cell_type": "code",
   "execution_count": 9,
   "metadata": {},
   "outputs": [],
   "source": [
    "ds_distance_chunk = ds_distance.chunk({\"step\":1}) # 4D (step:48, latitude, longitude, wwmf_2)\n",
    "#ds_distance_chunk"
   ]
  },
  {
   "cell_type": "code",
   "execution_count": 10,
   "metadata": {
    "scrolled": true
   },
   "outputs": [
    {
     "name": "stderr",
     "output_type": "stream",
     "text": [
      "/Users/gablellouch/anaconda3/envs/preproc/lib/python3.8/site-packages/dask/array/core.py:3901: PerformanceWarning: Increasing number of chunks by factor of 31\n",
      "  result = blockwise(\n"
     ]
    }
   ],
   "source": [
    "distance_by_step_id = (ds_distance_chunk * da_mask).sum(['latitude',\"longitude\"]).compute() # 3D (step:48, wwmf_2, id)\n",
    "#distance_by_step_id"
   ]
  },
  {
   "cell_type": "markdown",
   "metadata": {},
   "source": [
    "## On affiche la distance minimale pour chacune des timestep/region"
   ]
  },
  {
   "cell_type": "code",
   "execution_count": 11,
   "metadata": {},
   "outputs": [
    {
     "data": {
      "text/html": [
       "<pre>&lt;xarray.DataArray (step: 48, id: 31)&gt;\n",
       "array([[ 2510.,   600.,    60., ...,  2376.,  2473.,  1911.],\n",
       "       [ 2129.,   112.,    60., ...,  1961.,  2093.,  2018.],\n",
       "       [ 4642.,  1454.,   472., ...,  4480.,  4618.,  3208.],\n",
       "       ...,\n",
       "       [ 9489.,  1964.,   730., ...,  8925.,  8699.,  7428.],\n",
       "       [11590.,  2304.,  1296., ..., 10708., 11404.,  8976.],\n",
       "       [10647.,  1302.,   756., ..., 10030.,  9855.,  9355.]])\n",
       "Coordinates:\n",
       "  * step               (step) timedelta64[ns] 01:00:00 ... 2 days 00:00:00\n",
       "    surface            int64 0\n",
       "    heightAboveGround  int64 2\n",
       "    time               datetime64[ns] 2019-10-01\n",
       "    valid_time         datetime64[ns] 2019-10-01T12:00:00\n",
       "  * id                 (id) object &#x27;departement&#x27; ... &#x27;4102+4103+4104+4105+4106&#x27;</pre>"
      ],
      "text/plain": [
       "<xarray.DataArray (step: 48, id: 31)>\n",
       "array([[ 2510.,   600.,    60., ...,  2376.,  2473.,  1911.],\n",
       "       [ 2129.,   112.,    60., ...,  1961.,  2093.,  2018.],\n",
       "       [ 4642.,  1454.,   472., ...,  4480.,  4618.,  3208.],\n",
       "       ...,\n",
       "       [ 9489.,  1964.,   730., ...,  8925.,  8699.,  7428.],\n",
       "       [11590.,  2304.,  1296., ..., 10708., 11404.,  8976.],\n",
       "       [10647.,  1302.,   756., ..., 10030.,  9855.,  9355.]])\n",
       "Coordinates:\n",
       "  * step               (step) timedelta64[ns] 01:00:00 ... 2 days 00:00:00\n",
       "    surface            int64 0\n",
       "    heightAboveGround  int64 2\n",
       "    time               datetime64[ns] 2019-10-01\n",
       "    valid_time         datetime64[ns] 2019-10-01T12:00:00\n",
       "  * id                 (id) object 'departement' ... '4102+4103+4104+4105+4106'"
      ]
     },
     "execution_count": 11,
     "metadata": {},
     "output_type": "execute_result"
    }
   ],
   "source": [
    "dist_by_step_id_min=distance_by_step_id.min(\"wwmf_2\") # 2D (step, id)\n",
    "ind_dpt=np.where(~dist_by_step_id_min.any(axis=1))[0] # find steps where it is the same weather over the entire dpt\n",
    "dist_by_step_id_min\n",
    "#a=dist_by_step_id_min.isel(step=42).plot.line('-^',x='id',figsize=(20,15)) #np.arange(0,48) (display the distance matrix)"
   ]
  },
  {
   "cell_type": "markdown",
   "metadata": {},
   "source": [
    "## On affiche le temps sensible correspondant "
   ]
  },
  {
   "cell_type": "code",
   "execution_count": 12,
   "metadata": {
    "scrolled": false
   },
   "outputs": [
    {
     "data": {
      "text/html": [
       "<pre>&lt;xarray.DataArray &#x27;wwmf_2&#x27; (step: 48, id: 31)&gt;\n",
       "array([[4, 4, 4, ..., 4, 4, 4],\n",
       "       [4, 4, 4, ..., 4, 4, 4],\n",
       "       [4, 4, 4, ..., 4, 4, 4],\n",
       "       ...,\n",
       "       [6, 8, 6, ..., 6, 6, 6],\n",
       "       [6, 3, 6, ..., 6, 6, 6],\n",
       "       [6, 6, 3, ..., 6, 6, 3]])\n",
       "Coordinates:\n",
       "    surface            int64 0\n",
       "    heightAboveGround  int64 2\n",
       "    wwmf_2             (step, id) int64 4 4 4 4 4 4 4 4 4 ... 6 3 3 6 6 6 6 6 3\n",
       "    time               datetime64[ns] 2019-10-01\n",
       "    valid_time         datetime64[ns] 2019-10-01T12:00:00\n",
       "  * step               (step) timedelta64[ns] 01:00:00 ... 2 days 00:00:00\n",
       "  * id                 (id) object &#x27;departement&#x27; ... &#x27;4102+4103+4104+4105+4106&#x27;</pre>"
      ],
      "text/plain": [
       "<xarray.DataArray 'wwmf_2' (step: 48, id: 31)>\n",
       "array([[4, 4, 4, ..., 4, 4, 4],\n",
       "       [4, 4, 4, ..., 4, 4, 4],\n",
       "       [4, 4, 4, ..., 4, 4, 4],\n",
       "       ...,\n",
       "       [6, 8, 6, ..., 6, 6, 6],\n",
       "       [6, 3, 6, ..., 6, 6, 6],\n",
       "       [6, 6, 3, ..., 6, 6, 3]])\n",
       "Coordinates:\n",
       "    surface            int64 0\n",
       "    heightAboveGround  int64 2\n",
       "    wwmf_2             (step, id) int64 4 4 4 4 4 4 4 4 4 ... 6 3 3 6 6 6 6 6 3\n",
       "    time               datetime64[ns] 2019-10-01\n",
       "    valid_time         datetime64[ns] 2019-10-01T12:00:00\n",
       "  * step               (step) timedelta64[ns] 01:00:00 ... 2 days 00:00:00\n",
       "  * id                 (id) object 'departement' ... '4102+4103+4104+4105+4106'"
      ]
     },
     "execution_count": 12,
     "metadata": {},
     "output_type": "execute_result"
    }
   ],
   "source": [
    "distance_by_step_id.wwmf_2[distance_by_step_id.argmin(\"wwmf_2\")] # 2D (step, id)"
   ]
  },
  {
   "cell_type": "markdown",
   "metadata": {},
   "source": [
    "## On affiche la zone qui minimise la distance pour chaque timestep"
   ]
  },
  {
   "cell_type": "code",
   "execution_count": 13,
   "metadata": {
    "scrolled": true
   },
   "outputs": [],
   "source": [
    "df=pd.DataFrame(data=(np.arange(0,48),dist_by_step_id_min.id[dist_by_step_id_min.argmin((\"id\"))].values))\n",
    "#np.transpose(df)"
   ]
  },
  {
   "cell_type": "markdown",
   "metadata": {},
   "source": [
    "## On répète pour les complémentaires des masks"
   ]
  },
  {
   "cell_type": "code",
   "execution_count": 14,
   "metadata": {},
   "outputs": [],
   "source": [
    "#da_mask.isel(id=30).plot.imshow()\n",
    "#da_mask.isel(id=30).id\n",
    "#da_mask_comp.isel(id=30).plot.imshow()\n",
    "#da_mask_comp.isel(id=30).id"
   ]
  },
  {
   "cell_type": "code",
   "execution_count": 14,
   "metadata": {},
   "outputs": [],
   "source": [
    "da_mask_comp=-1*(da_mask.isel(id=slice(0,32))-da_mask.isel(id=0))\n",
    "#da_mask_comp.isel(id=0).plot.imshow()"
   ]
  },
  {
   "cell_type": "code",
   "execution_count": 15,
   "metadata": {},
   "outputs": [],
   "source": [
    "#add as attribute the size of the zone (in number of pixels)\n",
    "zone_comp_size_l=[len(np.where(da_mask_comp.isel(id=i)==1)[0]) for i in np.arange(0,31)]\n",
    "da_mask_comp.attrs[\"zone size\"]=zone_comp_size_l\n",
    "#da_mask_comp"
   ]
  },
  {
   "cell_type": "code",
   "execution_count": 16,
   "metadata": {
    "scrolled": false
   },
   "outputs": [
    {
     "name": "stderr",
     "output_type": "stream",
     "text": [
      "/Users/gablellouch/anaconda3/envs/preproc/lib/python3.8/site-packages/dask/array/core.py:3901: PerformanceWarning: Increasing number of chunks by factor of 31\n",
      "  result = blockwise(\n"
     ]
    }
   ],
   "source": [
    "distance_comp_by_step_id = (ds_distance_chunk * da_mask_comp).sum(['latitude',\"longitude\"]).compute()\n",
    "#distance_comp_by_step_id"
   ]
  },
  {
   "cell_type": "code",
   "execution_count": 17,
   "metadata": {
    "scrolled": true
   },
   "outputs": [
    {
     "data": {
      "text/plain": [
       "<matplotlib.image.AxesImage at 0x12e00f9d0>"
      ]
     },
     "execution_count": 17,
     "metadata": {},
     "output_type": "execute_result"
    },
    {
     "data": {
      "image/png": "[encoded data removed]",
      "text/plain": [
       "<Figure size 432x288 with 1 Axes>"
      ]
     },
     "metadata": {
      "needs_background": "light"
     },
     "output_type": "display_data"
    }
   ],
   "source": [
    "plt.imshow(distance_by_step_id.isel(step=10).values)"
   ]
  },
  {
   "cell_type": "code",
   "execution_count": 18,
   "metadata": {
    "scrolled": false
   },
   "outputs": [
    {
     "data": {
      "text/plain": [
       "<matplotlib.image.AxesImage at 0x12df0ad00>"
      ]
     },
     "execution_count": 18,
     "metadata": {},
     "output_type": "execute_result"
    },
    {
     "data": {
      "image/png": "[encoded data removed]",
      "text/plain": [
       "<Figure size 432x288 with 1 Axes>"
      ]
     },
     "metadata": {
      "needs_background": "light"
     },
     "output_type": "display_data"
    }
   ],
   "source": [
    "plt.imshow(distance_comp_by_step_id.isel(step=10).values)"
   ]
  },
  {
   "cell_type": "code",
   "execution_count": 19,
   "metadata": {
    "scrolled": true
   },
   "outputs": [
    {
     "data": {
      "text/plain": [
       "<matplotlib.image.AxesImage at 0x12e1a6310>"
      ]
     },
     "execution_count": 19,
     "metadata": {},
     "output_type": "execute_result"
    },
    {
     "data": {
      "image/png": "[encoded data removed]",
      "text/plain": [
       "<Figure size 432x288 with 1 Axes>"
      ]
     },
     "metadata": {
      "needs_background": "light"
     },
     "output_type": "display_data"
    }
   ],
   "source": [
    "#C'est tout à fait normal d'avoir les memes valeurs pour toutes les zones lorsqu'on somme les 2 matrices\n",
    "plt.imshow((distance_by_step_id.isel(step=10)+distance_comp_by_step_id.isel(step=10)).values)"
   ]
  },
  {
   "cell_type": "code",
   "execution_count": 20,
   "metadata": {
    "scrolled": true
   },
   "outputs": [
    {
     "data": {
      "text/html": [
       "<pre>&lt;xarray.DataArray (step: 48, id: 30)&gt;\n",
       "array([[ 1910.,  2450.,  2125., ...,   134.,    37.,   599.],\n",
       "       [ 2017.,  2069.,  1780., ...,   168.,    36.,   111.],\n",
       "       [ 3188.,  4170.,  3792., ...,   162.,    24.,  1434.],\n",
       "       ...,\n",
       "       [ 7384.,  8759.,  7933., ...,   564.,   790.,  1853.],\n",
       "       [ 8912., 10294.,  8992., ...,   246.,   186.,  2194.],\n",
       "       [ 9299.,  9801.,  8269., ...,   617.,   138.,  1280.]])\n",
       "Coordinates:\n",
       "  * step               (step) timedelta64[ns] 01:00:00 ... 2 days 00:00:00\n",
       "    surface            int64 0\n",
       "    heightAboveGround  int64 2\n",
       "    time               datetime64[ns] 2019-10-01\n",
       "    valid_time         datetime64[ns] 2019-10-01T12:00:00\n",
       "  * id                 (id) object &#x27;4101&#x27; &#x27;4102&#x27; ... &#x27;4102+4103+4104+4105+4106&#x27;</pre>"
      ],
      "text/plain": [
       "<xarray.DataArray (step: 48, id: 30)>\n",
       "array([[ 1910.,  2450.,  2125., ...,   134.,    37.,   599.],\n",
       "       [ 2017.,  2069.,  1780., ...,   168.,    36.,   111.],\n",
       "       [ 3188.,  4170.,  3792., ...,   162.,    24.,  1434.],\n",
       "       ...,\n",
       "       [ 7384.,  8759.,  7933., ...,   564.,   790.,  1853.],\n",
       "       [ 8912., 10294.,  8992., ...,   246.,   186.,  2194.],\n",
       "       [ 9299.,  9801.,  8269., ...,   617.,   138.,  1280.]])\n",
       "Coordinates:\n",
       "  * step               (step) timedelta64[ns] 01:00:00 ... 2 days 00:00:00\n",
       "    surface            int64 0\n",
       "    heightAboveGround  int64 2\n",
       "    time               datetime64[ns] 2019-10-01\n",
       "    valid_time         datetime64[ns] 2019-10-01T12:00:00\n",
       "  * id                 (id) object '4101' '4102' ... '4102+4103+4104+4105+4106'"
      ]
     },
     "execution_count": 20,
     "metadata": {},
     "output_type": "execute_result"
    }
   ],
   "source": [
    "#Ce qui nous intéresse c'est de savoir quelle zone permet une somme des distances minimale en prenant le minimum des distances sur toutes les wwmf_2 avec le minimum sur toutes les wwmf_2 de sa zone complémentaire\n",
    "dist_comp_by_step_id_min=distance_comp_by_step_id.min(\"wwmf_2\") # 2D (step, id)\n",
    "dist_comp_by_step_id_min[:,1:]"
   ]
  },
  {
   "cell_type": "code",
   "execution_count": 21,
   "metadata": {
    "scrolled": true
   },
   "outputs": [],
   "source": [
    "df_comp=pd.DataFrame(data=(np.arange(0,48),dist_comp_by_step_id_min.id[dist_comp_by_step_id_min.argmin((\"id\"))].values))\n",
    "#np.transpose(df_comp)"
   ]
  },
  {
   "cell_type": "markdown",
   "metadata": {},
   "source": [
    "## On trouve la zone et son complémentaire qui minimizent la somme des distances"
   ]
  },
  {
   "cell_type": "code",
   "execution_count": 22,
   "metadata": {},
   "outputs": [
    {
     "data": {
      "text/plain": [
       "<matplotlib.image.AxesImage at 0x109081520>"
      ]
     },
     "execution_count": 22,
     "metadata": {},
     "output_type": "execute_result"
    },
    {
     "data": {
      "image/png": "[encoded data removed]",
      "text/plain": [
       "<Figure size 432x288 with 1 Axes>"
      ]
     },
     "metadata": {
      "needs_background": "light"
     },
     "output_type": "display_data"
    }
   ],
   "source": [
    "dist_sum_by_step_id_min=dist_by_step_id_min[:,1:]+dist_comp_by_step_id_min[:,1:] #on enlève le cas trivial du la zone \"département\"\n",
    "plt.imshow(dist_sum_by_step_id_min)"
   ]
  },
  {
   "cell_type": "code",
   "execution_count": 23,
   "metadata": {
    "scrolled": true
   },
   "outputs": [
    {
     "data": {
      "text/html": [
       "<div>\n",
       "<style scoped>\n",
       "    .dataframe tbody tr th:only-of-type {\n",
       "        vertical-align: middle;\n",
       "    }\n",
       "\n",
       "    .dataframe tbody tr th {\n",
       "        vertical-align: top;\n",
       "    }\n",
       "\n",
       "    .dataframe thead th {\n",
       "        text-align: right;\n",
       "    }\n",
       "</style>\n",
       "<table border=\"1\" class=\"dataframe\">\n",
       "  <thead>\n",
       "    <tr style=\"text-align: right;\">\n",
       "      <th></th>\n",
       "      <th>0</th>\n",
       "      <th>1</th>\n",
       "    </tr>\n",
       "  </thead>\n",
       "  <tbody>\n",
       "    <tr>\n",
       "      <th>0</th>\n",
       "      <td>0</td>\n",
       "      <td>4101</td>\n",
       "    </tr>\n",
       "    <tr>\n",
       "      <th>1</th>\n",
       "      <td>1</td>\n",
       "      <td>4101</td>\n",
       "    </tr>\n",
       "    <tr>\n",
       "      <th>2</th>\n",
       "      <td>2</td>\n",
       "      <td>4101+4102+4103+4104+4105</td>\n",
       "    </tr>\n",
       "    <tr>\n",
       "      <th>3</th>\n",
       "      <td>3</td>\n",
       "      <td>4103+4104+4105+4106</td>\n",
       "    </tr>\n",
       "    <tr>\n",
       "      <th>4</th>\n",
       "      <td>4</td>\n",
       "      <td>4103</td>\n",
       "    </tr>\n",
       "    <tr>\n",
       "      <th>5</th>\n",
       "      <td>5</td>\n",
       "      <td>4103</td>\n",
       "    </tr>\n",
       "    <tr>\n",
       "      <th>6</th>\n",
       "      <td>6</td>\n",
       "      <td>4102+4103</td>\n",
       "    </tr>\n",
       "    <tr>\n",
       "      <th>7</th>\n",
       "      <td>7</td>\n",
       "      <td>4106</td>\n",
       "    </tr>\n",
       "    <tr>\n",
       "      <th>8</th>\n",
       "      <td>8</td>\n",
       "      <td>4103+4104+4105+4106</td>\n",
       "    </tr>\n",
       "    <tr>\n",
       "      <th>9</th>\n",
       "      <td>9</td>\n",
       "      <td>4104+4105+4106</td>\n",
       "    </tr>\n",
       "    <tr>\n",
       "      <th>10</th>\n",
       "      <td>10</td>\n",
       "      <td>4104+4105+4106</td>\n",
       "    </tr>\n",
       "    <tr>\n",
       "      <th>11</th>\n",
       "      <td>11</td>\n",
       "      <td>4105+4106</td>\n",
       "    </tr>\n",
       "    <tr>\n",
       "      <th>12</th>\n",
       "      <td>12</td>\n",
       "      <td>4102+4103+4104+4105+4106</td>\n",
       "    </tr>\n",
       "    <tr>\n",
       "      <th>13</th>\n",
       "      <td>13</td>\n",
       "      <td>4101</td>\n",
       "    </tr>\n",
       "    <tr>\n",
       "      <th>14</th>\n",
       "      <td>14</td>\n",
       "      <td>4101</td>\n",
       "    </tr>\n",
       "    <tr>\n",
       "      <th>15</th>\n",
       "      <td>15</td>\n",
       "      <td>4101</td>\n",
       "    </tr>\n",
       "    <tr>\n",
       "      <th>16</th>\n",
       "      <td>16</td>\n",
       "      <td>departement</td>\n",
       "    </tr>\n",
       "    <tr>\n",
       "      <th>17</th>\n",
       "      <td>17</td>\n",
       "      <td>departement</td>\n",
       "    </tr>\n",
       "    <tr>\n",
       "      <th>18</th>\n",
       "      <td>18</td>\n",
       "      <td>4101</td>\n",
       "    </tr>\n",
       "    <tr>\n",
       "      <th>19</th>\n",
       "      <td>19</td>\n",
       "      <td>4102+4103+4104+4105+4106</td>\n",
       "    </tr>\n",
       "    <tr>\n",
       "      <th>20</th>\n",
       "      <td>20</td>\n",
       "      <td>4101+4102</td>\n",
       "    </tr>\n",
       "    <tr>\n",
       "      <th>21</th>\n",
       "      <td>21</td>\n",
       "      <td>4101</td>\n",
       "    </tr>\n",
       "    <tr>\n",
       "      <th>22</th>\n",
       "      <td>22</td>\n",
       "      <td>4101</td>\n",
       "    </tr>\n",
       "    <tr>\n",
       "      <th>23</th>\n",
       "      <td>23</td>\n",
       "      <td>4101</td>\n",
       "    </tr>\n",
       "    <tr>\n",
       "      <th>24</th>\n",
       "      <td>24</td>\n",
       "      <td>4105</td>\n",
       "    </tr>\n",
       "    <tr>\n",
       "      <th>25</th>\n",
       "      <td>25</td>\n",
       "      <td>4101</td>\n",
       "    </tr>\n",
       "    <tr>\n",
       "      <th>26</th>\n",
       "      <td>26</td>\n",
       "      <td>4101</td>\n",
       "    </tr>\n",
       "    <tr>\n",
       "      <th>27</th>\n",
       "      <td>27</td>\n",
       "      <td>4101</td>\n",
       "    </tr>\n",
       "    <tr>\n",
       "      <th>28</th>\n",
       "      <td>28</td>\n",
       "      <td>4101</td>\n",
       "    </tr>\n",
       "    <tr>\n",
       "      <th>29</th>\n",
       "      <td>29</td>\n",
       "      <td>4102+4103+4104+4105</td>\n",
       "    </tr>\n",
       "    <tr>\n",
       "      <th>30</th>\n",
       "      <td>30</td>\n",
       "      <td>4102+4103+4104+4105+4106</td>\n",
       "    </tr>\n",
       "    <tr>\n",
       "      <th>31</th>\n",
       "      <td>31</td>\n",
       "      <td>4101</td>\n",
       "    </tr>\n",
       "    <tr>\n",
       "      <th>32</th>\n",
       "      <td>32</td>\n",
       "      <td>4101</td>\n",
       "    </tr>\n",
       "    <tr>\n",
       "      <th>33</th>\n",
       "      <td>33</td>\n",
       "      <td>4101+4102</td>\n",
       "    </tr>\n",
       "    <tr>\n",
       "      <th>34</th>\n",
       "      <td>34</td>\n",
       "      <td>4101+4102+4103+4105+4106</td>\n",
       "    </tr>\n",
       "    <tr>\n",
       "      <th>35</th>\n",
       "      <td>35</td>\n",
       "      <td>4101</td>\n",
       "    </tr>\n",
       "    <tr>\n",
       "      <th>36</th>\n",
       "      <td>36</td>\n",
       "      <td>4101</td>\n",
       "    </tr>\n",
       "    <tr>\n",
       "      <th>37</th>\n",
       "      <td>37</td>\n",
       "      <td>4101</td>\n",
       "    </tr>\n",
       "    <tr>\n",
       "      <th>38</th>\n",
       "      <td>38</td>\n",
       "      <td>4102+4103+4106</td>\n",
       "    </tr>\n",
       "    <tr>\n",
       "      <th>39</th>\n",
       "      <td>39</td>\n",
       "      <td>4103</td>\n",
       "    </tr>\n",
       "    <tr>\n",
       "      <th>40</th>\n",
       "      <td>40</td>\n",
       "      <td>4101</td>\n",
       "    </tr>\n",
       "    <tr>\n",
       "      <th>41</th>\n",
       "      <td>41</td>\n",
       "      <td>4101</td>\n",
       "    </tr>\n",
       "    <tr>\n",
       "      <th>42</th>\n",
       "      <td>42</td>\n",
       "      <td>4101</td>\n",
       "    </tr>\n",
       "    <tr>\n",
       "      <th>43</th>\n",
       "      <td>43</td>\n",
       "      <td>4102</td>\n",
       "    </tr>\n",
       "    <tr>\n",
       "      <th>44</th>\n",
       "      <td>44</td>\n",
       "      <td>4103+4104+4105+4106</td>\n",
       "    </tr>\n",
       "    <tr>\n",
       "      <th>45</th>\n",
       "      <td>45</td>\n",
       "      <td>4102+4103+4104+4105+4106</td>\n",
       "    </tr>\n",
       "    <tr>\n",
       "      <th>46</th>\n",
       "      <td>46</td>\n",
       "      <td>4102+4103+4104+4106</td>\n",
       "    </tr>\n",
       "    <tr>\n",
       "      <th>47</th>\n",
       "      <td>47</td>\n",
       "      <td>4102+4103+4104</td>\n",
       "    </tr>\n",
       "  </tbody>\n",
       "</table>\n",
       "</div>"
      ],
      "text/plain": [
       "     0                         1\n",
       "0    0                      4101\n",
       "1    1                      4101\n",
       "2    2  4101+4102+4103+4104+4105\n",
       "3    3       4103+4104+4105+4106\n",
       "4    4                      4103\n",
       "5    5                      4103\n",
       "6    6                 4102+4103\n",
       "7    7                      4106\n",
       "8    8       4103+4104+4105+4106\n",
       "9    9            4104+4105+4106\n",
       "10  10            4104+4105+4106\n",
       "11  11                 4105+4106\n",
       "12  12  4102+4103+4104+4105+4106\n",
       "13  13                      4101\n",
       "14  14                      4101\n",
       "15  15                      4101\n",
       "16  16               departement\n",
       "17  17               departement\n",
       "18  18                      4101\n",
       "19  19  4102+4103+4104+4105+4106\n",
       "20  20                 4101+4102\n",
       "21  21                      4101\n",
       "22  22                      4101\n",
       "23  23                      4101\n",
       "24  24                      4105\n",
       "25  25                      4101\n",
       "26  26                      4101\n",
       "27  27                      4101\n",
       "28  28                      4101\n",
       "29  29       4102+4103+4104+4105\n",
       "30  30  4102+4103+4104+4105+4106\n",
       "31  31                      4101\n",
       "32  32                      4101\n",
       "33  33                 4101+4102\n",
       "34  34  4101+4102+4103+4105+4106\n",
       "35  35                      4101\n",
       "36  36                      4101\n",
       "37  37                      4101\n",
       "38  38            4102+4103+4106\n",
       "39  39                      4103\n",
       "40  40                      4101\n",
       "41  41                      4101\n",
       "42  42                      4101\n",
       "43  43                      4102\n",
       "44  44       4103+4104+4105+4106\n",
       "45  45  4102+4103+4104+4105+4106\n",
       "46  46       4102+4103+4104+4106\n",
       "47  47            4102+4103+4104"
      ]
     },
     "execution_count": 23,
     "metadata": {},
     "output_type": "execute_result"
    }
   ],
   "source": [
    "df_sum=pd.DataFrame(data=(np.arange(0,48),dist_sum_by_step_id_min.id[dist_sum_by_step_id_min.argmin((\"id\"))].values))\n",
    "if len(ind_dpt)>0:\n",
    "    df_sum.iloc[1][ind_dpt]=\"departement\"\n",
    "np.transpose(df_sum)"
   ]
  },
  {
   "cell_type": "code",
   "execution_count": 24,
   "metadata": {},
   "outputs": [],
   "source": [
    "# on remonte au temps sensible pour la winning zone\n",
    "# d'abord les indices de la winning zone au sens du minimum de la somme des distances\n",
    "ind_winning_zone=dist_sum_by_step_id_min.argmin((\"id\")).values+1 # +1 parce que la matrice dist_sum_by_step_id_min a la premiere colonne (departement) en moins\n",
    "ind_winning_zone\n",
    "\n",
    "# on remonte au temps sensible pour la winning zone\n",
    "tps_sensible_winning_zone=distance_by_step_id.wwmf_2[distance_by_step_id.argmin(\"wwmf_2\").values[np.arange(0,ds_masked.dims['step']),ind_winning_zone]]\n",
    "\n",
    "# puis au temps sensible pour la zone complementaire de la winning zone\n",
    "tps_sensible_winning_zone_comp=distance_comp_by_step_id.wwmf_2[distance_comp_by_step_id.argmin(\"wwmf_2\").values[np.arange(0,ds_masked.dims['step']),ind_winning_zone]]"
   ]
  },
  {
   "cell_type": "code",
   "execution_count": 25,
   "metadata": {
    "scrolled": true
   },
   "outputs": [
    {
     "data": {
      "text/html": [
       "<pre>&lt;xarray.DataArray &#x27;wwmf_2&#x27; (wwmf_2: 48)&gt;\n",
       "array([ 4,  4,  4,  4, 12,  6,  6,  3,  6,  6,  6,  3,  3,  3,  3,  3,  3,  3,\n",
       "        3,  3,  6,  6,  6,  6,  8,  6,  6,  6,  6,  3,  3,  6,  6,  6,  6,  6,\n",
       "        6,  6,  8,  8,  6,  6,  6, 12,  6,  6,  6,  3])\n",
       "Coordinates:\n",
       "    surface            int64 0\n",
       "    heightAboveGround  int64 2\n",
       "  * wwmf_2             (wwmf_2) int64 4 4 4 4 12 6 6 3 6 ... 8 6 6 6 12 6 6 6 3\n",
       "    time               datetime64[ns] 2019-10-01\n",
       "    valid_time         datetime64[ns] 2019-10-01T12:00:00</pre>"
      ],
      "text/plain": [
       "<xarray.DataArray 'wwmf_2' (wwmf_2: 48)>\n",
       "array([ 4,  4,  4,  4, 12,  6,  6,  3,  6,  6,  6,  3,  3,  3,  3,  3,  3,  3,\n",
       "        3,  3,  6,  6,  6,  6,  8,  6,  6,  6,  6,  3,  3,  6,  6,  6,  6,  6,\n",
       "        6,  6,  8,  8,  6,  6,  6, 12,  6,  6,  6,  3])\n",
       "Coordinates:\n",
       "    surface            int64 0\n",
       "    heightAboveGround  int64 2\n",
       "  * wwmf_2             (wwmf_2) int64 4 4 4 4 12 6 6 3 6 ... 8 6 6 6 12 6 6 6 3\n",
       "    time               datetime64[ns] 2019-10-01\n",
       "    valid_time         datetime64[ns] 2019-10-01T12:00:00"
      ]
     },
     "execution_count": 25,
     "metadata": {},
     "output_type": "execute_result"
    }
   ],
   "source": [
    "tps_sensible_winning_zone"
   ]
  },
  {
   "cell_type": "code",
   "execution_count": 26,
   "metadata": {
    "scrolled": false
   },
   "outputs": [
    {
     "data": {
      "text/html": [
       "<pre>&lt;xarray.DataArray &#x27;wwmf_2&#x27; (wwmf_2: 48)&gt;\n",
       "array([ 4,  4,  3,  3,  3,  3,  3,  6,  4,  4,  4,  4,  4,  3,  3,  3,  3,  3,\n",
       "        3,  6,  3,  6,  6,  6,  6,  6,  6,  6,  6,  6,  6,  3,  3,  3, 12,  6,\n",
       "        6,  6,  6,  6,  6,  6,  6,  6,  3,  8,  3,  6])\n",
       "Coordinates:\n",
       "    surface            int64 0\n",
       "    heightAboveGround  int64 2\n",
       "  * wwmf_2             (wwmf_2) int64 4 4 3 3 3 3 3 6 4 4 ... 6 6 6 6 6 3 8 3 6\n",
       "    time               datetime64[ns] 2019-10-01\n",
       "    valid_time         datetime64[ns] 2019-10-01T12:00:00</pre>"
      ],
      "text/plain": [
       "<xarray.DataArray 'wwmf_2' (wwmf_2: 48)>\n",
       "array([ 4,  4,  3,  3,  3,  3,  3,  6,  4,  4,  4,  4,  4,  3,  3,  3,  3,  3,\n",
       "        3,  6,  3,  6,  6,  6,  6,  6,  6,  6,  6,  6,  6,  3,  3,  3, 12,  6,\n",
       "        6,  6,  6,  6,  6,  6,  6,  6,  3,  8,  3,  6])\n",
       "Coordinates:\n",
       "    surface            int64 0\n",
       "    heightAboveGround  int64 2\n",
       "  * wwmf_2             (wwmf_2) int64 4 4 3 3 3 3 3 6 4 4 ... 6 6 6 6 6 3 8 3 6\n",
       "    time               datetime64[ns] 2019-10-01\n",
       "    valid_time         datetime64[ns] 2019-10-01T12:00:00"
      ]
     },
     "execution_count": 26,
     "metadata": {},
     "output_type": "execute_result"
    }
   ],
   "source": [
    "tps_sensible_winning_zone_comp"
   ]
  },
  {
   "cell_type": "markdown",
   "metadata": {},
   "source": [
    "## On itère une seconde fois pour rediviser les zones qui présentent une densité de distance (distance moyenne par pixel) supérieure à la densité de distance médiane sur le département et l'ensemble des échéances."
   ]
  },
  {
   "cell_type": "markdown",
   "metadata": {},
   "source": [
    "## Calcul de la densité de distance médiane sur le département et l'ensemble des échéances"
   ]
  },
  {
   "cell_type": "markdown",
   "metadata": {},
   "source": [
    "## Zones"
   ]
  },
  {
   "cell_type": "code",
   "execution_count": 27,
   "metadata": {
    "scrolled": false
   },
   "outputs": [
    {
     "data": {
      "text/plain": [
       "array([ 59.,  57.,  43.,  75., 698., 169., 127., 344.,   0., 116., 276.,\n",
       "        28.,  90.,  46.,   0.,   0.,   0.,   0.,   0.,   0.,   0.,   0.,\n",
       "         0.,   0.,   0.,   0.,  90.,   0.,   0., 106.,   0.,   0.,   0.,\n",
       "         0., 120.,   0.,   0.,   0., 340.,   0.,   0.,   0.,   0.,   0.,\n",
       "       576., 644., 284., 202.])"
      ]
     },
     "execution_count": 27,
     "metadata": {},
     "output_type": "execute_result"
    }
   ],
   "source": [
    "dist_min_by_step=dist_by_step_id_min[:,dist_by_step_id_min.argmin((\"id\"))]\n",
    "dist_min_by_step.values"
   ]
  },
  {
   "cell_type": "code",
   "execution_count": 29,
   "metadata": {
    "scrolled": false
   },
   "outputs": [
    {
     "data": {
      "text/plain": [
       "array([4, 4, 4, 4, 5, 1, 5, 2, 5, 5, 2, 1, 5, 1, 1, 1, 0, 0, 2, 3, 1, 2,\n",
       "       2, 3, 2, 3, 2, 5, 1, 5, 4, 4, 4, 1, 3, 4, 3, 4, 4, 1, 1, 4, 6, 4,\n",
       "       5, 5, 4, 4])"
      ]
     },
     "execution_count": 29,
     "metadata": {},
     "output_type": "execute_result"
    }
   ],
   "source": [
    "zone_with_dist_min_by_step=dist_by_step_id_min.argmin((\"id\"))\n",
    "zone_with_dist_min_by_step.values"
   ]
  },
  {
   "cell_type": "markdown",
   "metadata": {},
   "source": [
    "## Complementary zones"
   ]
  },
  {
   "cell_type": "code",
   "execution_count": 30,
   "metadata": {},
   "outputs": [
    {
     "data": {
      "text/plain": [
       "array([1910., 2450., 2125., 2451., 2376., 1214., 1851., 2065., 2075.,\n",
       "        830., 2317., 1169., 1080., 1466., 2015.,  770., 1941.,  793.,\n",
       "        696., 1035., 1416.,  171., 1881.,  733.,  636.,  659., 1282.,\n",
       "        134.,   37.,  599.])"
      ]
     },
     "execution_count": 30,
     "metadata": {},
     "output_type": "execute_result"
    }
   ],
   "source": [
    "dist_comp_by_step_id_min_dropcol1=dist_comp_by_step_id_min[:,1:]\n",
    "dist_comp_by_step_id_min_dropcol1.values[0,:]"
   ]
  },
  {
   "cell_type": "code",
   "execution_count": 31,
   "metadata": {
    "scrolled": true
   },
   "outputs": [
    {
     "data": {
      "text/plain": [
       "array([ 37.,  36.,  24.,  54., 600., 132., 107., 472.,   0.,  86., 626.,\n",
       "        11.,  66.,  46.,   0.,   0.,   0.,   0.,   0.,   0.,   0.,   0.,\n",
       "         0.,   0.,  44.,   0.,  76.,   0.,   0.,  98.,   0.,   0.,   0.,\n",
       "         0., 308.,   0.,   0.,   0., 316.,   0.,   0.,   0.,   0.,   0.,\n",
       "       488., 564., 186., 138.])"
      ]
     },
     "execution_count": 31,
     "metadata": {},
     "output_type": "execute_result"
    }
   ],
   "source": [
    "dist_comp_min_by_step=dist_comp_by_step_id_min_dropcol1[:,dist_comp_by_step_id_min_dropcol1.argmin((\"id\"))]\n",
    "dist_comp_min_by_step.values"
   ]
  },
  {
   "cell_type": "code",
   "execution_count": 32,
   "metadata": {
    "scrolled": false
   },
   "outputs": [
    {
     "data": {
      "text/plain": [
       "array([29, 29, 29, 29, 28, 30, 28, 28, 28, 28, 30, 30, 28, 30, 30,  6,  1,\n",
       "        1,  1,  7, 27, 29, 22, 29, 29, 27, 28, 28, 30, 28, 22, 29, 22, 28,\n",
       "       30, 22,  7, 22, 29, 30, 25, 27, 27, 29, 28, 28, 29, 29])"
      ]
     },
     "execution_count": 32,
     "metadata": {},
     "output_type": "execute_result"
    }
   ],
   "source": [
    "zone_comp_with_dist_min_by_step=dist_comp_by_step_id_min_dropcol1.argmin((\"id\"))+1 # +1 is to compensate for the first column (complementary of the departement that we dropped)\n",
    "zone_comp_with_dist_min_by_step.values"
   ]
  },
  {
   "cell_type": "markdown",
   "metadata": {},
   "source": [
    "## Zones and complementary zones together"
   ]
  },
  {
   "cell_type": "code",
   "execution_count": 33,
   "metadata": {
    "scrolled": true
   },
   "outputs": [
    {
     "data": {
      "text/plain": [
       "array([ 2510.,  2129.,  4546.,  8316., 12049.,  7395.,  5900.,  6171.,\n",
       "        5092.,  4158.,  7044.,  5575.,  3428.,  2472.,  3147.,    41.,\n",
       "           0.,     0.,   216.,   626.,  1874.,  4438.,  1712.,  1658.,\n",
       "        1016.,   734.,  1886.,  4682.,  6010.,  4244.,  3724.,  3583.,\n",
       "        3762.,  5202.,  5714.,  3716.,   400.,  2188.,  6354.,  2230.,\n",
       "        1252.,  1996.,   340.,  3070.,  7088.,  9281., 10534.,  8943.])"
      ]
     },
     "execution_count": 33,
     "metadata": {},
     "output_type": "execute_result"
    }
   ],
   "source": [
    "dist_min_sum_by_step=dist_sum_by_step_id_min[:,dist_sum_by_step_id_min.argmin((\"id\"))]\n",
    "dist_min_sum_by_step.values"
   ]
  },
  {
   "cell_type": "code",
   "execution_count": 34,
   "metadata": {
    "scrolled": true
   },
   "outputs": [
    {
     "data": {
      "text/plain": [
       "array([ 1,  1, 27, 26,  3,  3,  8,  6, 26, 20, 20, 13, 30,  1,  1,  1,  1,\n",
       "        1,  1, 30,  7,  1,  1,  1,  5,  1,  1,  1,  1, 23, 30,  1,  1,  7,\n",
       "       29,  1,  1,  1, 16,  3,  1,  1,  1,  2, 26, 30, 24, 15])"
      ]
     },
     "execution_count": 34,
     "metadata": {},
     "output_type": "execute_result"
    }
   ],
   "source": [
    "zone_sum_with_dist_min_by_step=dist_sum_by_step_id_min.argmin((\"id\"))+1 # +1 is to compensate for the first column (complementary of the departement that we dropped)\n",
    "zone_sum_with_dist_min_by_step.values"
   ]
  },
  {
   "cell_type": "markdown",
   "metadata": {},
   "source": [
    "## Density for all zones and their complementary zones"
   ]
  },
  {
   "cell_type": "code",
   "execution_count": 35,
   "metadata": {
    "scrolled": true
   },
   "outputs": [
    {
     "data": {
      "text/plain": [
       "array([6.000e+02, 1.120e+02, 2.912e+03, 4.141e+03, 3.795e+03, 3.224e+03,\n",
       "       2.132e+03, 2.477e+03, 4.382e+03, 7.680e+02, 3.072e+03, 4.586e+03,\n",
       "       3.201e+03, 4.600e+01, 0.000e+00, 0.000e+00, 0.000e+00, 0.000e+00,\n",
       "       2.160e+02, 1.600e+02, 8.000e+00, 5.060e+02, 5.120e+02, 7.800e+02,\n",
       "       4.360e+02, 2.080e+02, 2.780e+02, 2.340e+02, 0.000e+00, 2.086e+03,\n",
       "       1.958e+03, 1.084e+03, 2.200e+02, 4.840e+02, 4.898e+03, 5.200e+02,\n",
       "       2.860e+02, 9.540e+02, 4.608e+03, 1.276e+03, 0.000e+00, 1.420e+02,\n",
       "       4.400e+01, 1.452e+03, 5.572e+03, 7.428e+03, 8.094e+03, 2.322e+03])"
      ]
     },
     "execution_count": 35,
     "metadata": {},
     "output_type": "execute_result"
    }
   ],
   "source": [
    "# find distance values for zones that when combined with their complementary zone gave the min distance\n",
    "dist_min_by_step_fordensity=dist_by_step_id_min[:,zone_sum_with_dist_min_by_step]\n",
    "dist_min_by_step_fordensity.values"
   ]
  },
  {
   "cell_type": "code",
   "execution_count": 36,
   "metadata": {
    "scrolled": false
   },
   "outputs": [
    {
     "data": {
      "text/plain": [
       "array([1910., 2017., 1634., 4175., 8254., 4171., 3768., 3694.,  710.,\n",
       "       3390., 3972.,  989.,  227., 2426., 3147.,   41.,    0.,    0.,\n",
       "          0.,  466., 1866., 3932., 1200.,  878.,  580.,  526., 1608.,\n",
       "       4448., 6010., 2158., 1766., 2499., 3542., 4718.,  816., 3196.,\n",
       "        114., 1234., 1746.,  954., 1252., 1854.,  296., 1618., 1516.,\n",
       "       1853., 2440., 6621.])"
      ]
     },
     "execution_count": 36,
     "metadata": {},
     "output_type": "execute_result"
    }
   ],
   "source": [
    "# find distance values for the complementary zones in question\n",
    "dist_comp_min_by_step_fordensity=dist_comp_by_step_id_min[:,zone_sum_with_dist_min_by_step]\n",
    "dist_comp_min_by_step_fordensity.values"
   ]
  },
  {
   "cell_type": "code",
   "execution_count": 37,
   "metadata": {
    "scrolled": false
   },
   "outputs": [
    {
     "data": {
      "text/plain": [
       "array([ 2510.,  2129.,  4546.,  8316., 12049.,  7395.,  5900.,  6171.,\n",
       "        5092.,  4158.,  7044.,  5575.,  3428.,  2472.,  3147.,    41.,\n",
       "           0.,     0.,   216.,   626.,  1874.,  4438.,  1712.,  1658.,\n",
       "        1016.,   734.,  1886.,  4682.,  6010.,  4244.,  3724.,  3583.,\n",
       "        3762.,  5202.,  5714.,  3716.,   400.,  2188.,  6354.,  2230.,\n",
       "        1252.,  1996.,   340.,  3070.,  7088.,  9281., 10534.,  8943.])"
      ]
     },
     "execution_count": 37,
     "metadata": {},
     "output_type": "execute_result"
    }
   ],
   "source": [
    "# check that when we sum them up we retrieve the values we found earlier in \"Zones and complementary zones together\"\n",
    "dist_min_by_step_fordensity.values+dist_comp_min_by_step_fordensity.values"
   ]
  },
  {
   "cell_type": "code",
   "execution_count": 38,
   "metadata": {},
   "outputs": [],
   "source": [
    "zone_size_distmin=[zone_size_l[zone_sum_with_dist_min_by_step.values[i]] for i in np.arange(0,48)]"
   ]
  },
  {
   "cell_type": "code",
   "execution_count": 39,
   "metadata": {},
   "outputs": [
    {
     "data": {
      "text/plain": [
       "0.4854186265286924"
      ]
     },
     "execution_count": 39,
     "metadata": {},
     "output_type": "execute_result"
    }
   ],
   "source": [
    "# compute the median density of the zones with min \"sum of distances\"\n",
    "density_dist_min_by_step=dist_min_by_step_fordensity.values/zone_size_distmin\n",
    "density_dist_min_by_step_median=np.median(density_dist_min_by_step)\n",
    "density_dist_min_by_step_median"
   ]
  },
  {
   "cell_type": "code",
   "execution_count": 40,
   "metadata": {},
   "outputs": [],
   "source": [
    "zone_comp_size_distmin=[zone_comp_size_l[zone_sum_with_dist_min_by_step.values[i]] for i in np.arange(0,48)]"
   ]
  },
  {
   "cell_type": "code",
   "execution_count": 41,
   "metadata": {},
   "outputs": [
    {
     "data": {
      "text/plain": [
       "0.43538449575526933"
      ]
     },
     "execution_count": 41,
     "metadata": {},
     "output_type": "execute_result"
    }
   ],
   "source": [
    "# compute the median density of the complementary zones\n",
    "density_dist_comp_min_by_step=dist_comp_min_by_step_fordensity.values/zone_comp_size_distmin\n",
    "density_dist_comp_min_by_step_median=np.median(density_dist_comp_min_by_step)\n",
    "density_dist_comp_min_by_step_median"
   ]
  },
  {
   "cell_type": "markdown",
   "metadata": {},
   "source": [
    "## Recherche des échéances qui présentent des zones répondant à cette condition et qui sont composées de plusieurs zones sympo"
   ]
  },
  {
   "cell_type": "markdown",
   "metadata": {},
   "source": [
    "## Zones"
   ]
  },
  {
   "cell_type": "code",
   "execution_count": 42,
   "metadata": {
    "scrolled": true
   },
   "outputs": [
    {
     "data": {
      "text/plain": [
       "array([ 0,  2,  3,  4,  5,  6,  7,  8, 10, 11, 23, 24, 29, 31, 34, 35, 37,\n",
       "       38, 39, 43, 44, 45, 46, 47])"
      ]
     },
     "execution_count": 42,
     "metadata": {},
     "output_type": "execute_result"
    }
   ],
   "source": [
    "# find the echeance steps with heterogeneous winning zones (in terms of the criterion of homogeneity: the sum of the distances is minimum)\n",
    "step_zones_hetero=np.where(density_dist_min_by_step>density_dist_min_by_step_median)[0]\n",
    "step_zones_hetero"
   ]
  },
  {
   "cell_type": "code",
   "execution_count": 43,
   "metadata": {},
   "outputs": [],
   "source": [
    "# find the zones with multiple zones sympo in it \n",
    "id_zones_multiple=np.where(['+' in val for val in da_mask.id.values.tolist()])[0]\n",
    "#id_zones_multiple"
   ]
  },
  {
   "cell_type": "code",
   "execution_count": 44,
   "metadata": {
    "scrolled": false
   },
   "outputs": [
    {
     "data": {
      "text/plain": [
       "array([ 1,  1, 27, 26,  3,  3,  8,  6, 26, 20, 20, 13, 30,  1,  1,  1,  1,\n",
       "        1,  1, 30,  7,  1,  1,  1,  5,  1,  1,  1,  1, 23, 30,  1,  1,  7,\n",
       "       29,  1,  1,  1, 16,  3,  1,  1,  1,  2, 26, 30, 24, 15])"
      ]
     },
     "execution_count": 44,
     "metadata": {},
     "output_type": "execute_result"
    }
   ],
   "source": [
    "# remember the winning zones per echeance\n",
    "zone_sum_with_dist_min_by_step.values"
   ]
  },
  {
   "cell_type": "code",
   "execution_count": 45,
   "metadata": {
    "scrolled": false
   },
   "outputs": [
    {
     "data": {
      "text/plain": [
       "array([ 1, 27, 26,  3,  3,  8,  6, 26, 20, 13,  1,  5, 23,  1, 29,  1,  1,\n",
       "       16,  3,  2, 26, 30, 24, 15])"
      ]
     },
     "execution_count": 45,
     "metadata": {},
     "output_type": "execute_result"
    }
   ],
   "source": [
    "# remember the winning zones per echeance that are heterogenous \n",
    "zone_sum_with_dist_min_by_step.values[step_zones_hetero]"
   ]
  },
  {
   "cell_type": "code",
   "execution_count": 46,
   "metadata": {
    "scrolled": false
   },
   "outputs": [
    {
     "data": {
      "text/plain": [
       "array([ 2,  3,  6,  8, 10, 11, 29, 34, 38, 44, 45, 46, 47])"
      ]
     },
     "execution_count": 46,
     "metadata": {},
     "output_type": "execute_result"
    }
   ],
   "source": [
    "# mark those echeances that have both heterogeneous winning zones and are composed of multiple zone sympo\n",
    "step_zones_hetero_and_multiple=step_zones_hetero[np.where([zone_sum_with_dist_min_by_step.values[step_zones_hetero][i] in id_zones_multiple for i in np.arange(0,len(step_zones_hetero))])[0]]\n",
    "step_zones_hetero_and_multiple"
   ]
  },
  {
   "cell_type": "code",
   "execution_count": 47,
   "metadata": {},
   "outputs": [
    {
     "data": {
      "text/plain": [
       "['4101+4102+4103+4104+4105',\n",
       " '4103+4104+4105+4106',\n",
       " '4102+4103',\n",
       " '4103+4104+4105+4106',\n",
       " '4104+4105+4106',\n",
       " '4105+4106',\n",
       " '4102+4103+4104+4105',\n",
       " '4101+4102+4103+4105+4106',\n",
       " '4102+4103+4106',\n",
       " '4103+4104+4105+4106',\n",
       " '4102+4103+4104+4105+4106',\n",
       " '4102+4103+4104+4106',\n",
       " '4102+4103+4104']"
      ]
     },
     "execution_count": 47,
     "metadata": {},
     "output_type": "execute_result"
    }
   ],
   "source": [
    "# and the zones are the following:\n",
    "zones=[da_mask.id.values.tolist()[zone_sum_with_dist_min_by_step.values[i]] for i in step_zones_hetero_and_multiple]\n",
    "zones"
   ]
  },
  {
   "cell_type": "markdown",
   "metadata": {},
   "source": [
    "## Complementary zones"
   ]
  },
  {
   "cell_type": "code",
   "execution_count": 48,
   "metadata": {},
   "outputs": [
    {
     "data": {
      "text/plain": [
       "array([ 2,  3,  4,  5,  6,  7,  9, 10, 14, 19, 21, 27, 28, 29, 30, 32, 33,\n",
       "       34, 35, 38, 44, 45, 46, 47])"
      ]
     },
     "execution_count": 48,
     "metadata": {},
     "output_type": "execute_result"
    }
   ],
   "source": [
    "# for the echeance steps with heterogeneous complementary winning zones\n",
    "step_zones_comp_hetero=np.where(density_dist_comp_min_by_step>density_dist_comp_min_by_step_median)[0]\n",
    "step_zones_comp_hetero"
   ]
  },
  {
   "cell_type": "code",
   "execution_count": 49,
   "metadata": {},
   "outputs": [],
   "source": [
    "# nb of zones sympo in the department (to know the indices of the complementary zones with multiple zones sympo)\n",
    "zs_N=len([zs for zs in da_mask.id.values.tolist() if \"+\" not in zs])-1 # -1 to remove the departement from the counting"
   ]
  },
  {
   "cell_type": "code",
   "execution_count": 50,
   "metadata": {},
   "outputs": [
    {
     "data": {
      "text/plain": [
       "array([ 1,  2,  3,  4,  5,  6,  7,  8,  9, 10, 11, 12, 13, 14, 15, 16, 17,\n",
       "       18, 19, 20, 21, 22, 23, 24, 25, 26])"
      ]
     },
     "execution_count": 50,
     "metadata": {},
     "output_type": "execute_result"
    }
   ],
   "source": [
    "# find the complementary zones with multiple zones sympo in it \n",
    "id_zones_comp_multiple=np.where([val.count('+')<(zs_N-2) for val in da_mask.id.values.tolist()])[0][1:] # we ignore the department since the complementary zone is the empty space\n",
    "id_zones_comp_multiple"
   ]
  },
  {
   "cell_type": "code",
   "execution_count": 51,
   "metadata": {
    "scrolled": false
   },
   "outputs": [
    {
     "data": {
      "text/plain": [
       "array([ 1,  1, 27, 26,  3,  3,  8,  6, 26, 20, 20, 13, 30,  1,  1,  1,  1,\n",
       "        1,  1, 30,  7,  1,  1,  1,  5,  1,  1,  1,  1, 23, 30,  1,  1,  7,\n",
       "       29,  1,  1,  1, 16,  3,  1,  1,  1,  2, 26, 30, 24, 15])"
      ]
     },
     "execution_count": 51,
     "metadata": {},
     "output_type": "execute_result"
    }
   ],
   "source": [
    "# remember the winning zones per echeance\n",
    "zone_sum_with_dist_min_by_step.values"
   ]
  },
  {
   "cell_type": "code",
   "execution_count": 52,
   "metadata": {
    "scrolled": false
   },
   "outputs": [
    {
     "data": {
      "text/plain": [
       "array([27, 26,  3,  3,  8,  6, 20, 20,  1, 30,  1,  1,  1, 23, 30,  1,  7,\n",
       "       29,  1, 16, 26, 30, 24, 15])"
      ]
     },
     "execution_count": 52,
     "metadata": {},
     "output_type": "execute_result"
    }
   ],
   "source": [
    "# remember the winning zones per echeance that are heterogenous \n",
    "zone_sum_with_dist_min_by_step.values[step_zones_comp_hetero]"
   ]
  },
  {
   "cell_type": "code",
   "execution_count": 53,
   "metadata": {
    "scrolled": false
   },
   "outputs": [
    {
     "data": {
      "text/plain": [
       "array([ 3,  4,  5,  6,  7,  9, 10, 14, 21, 27, 28, 29, 32, 33, 35, 38, 44,\n",
       "       46, 47])"
      ]
     },
     "execution_count": 53,
     "metadata": {},
     "output_type": "execute_result"
    }
   ],
   "source": [
    "# mark those echeances that have both heterogeneous winning complementary zones and are composed of multiple zone sympo\n",
    "step_zones_comp_hetero_and_multiple=step_zones_comp_hetero[np.where([zone_sum_with_dist_min_by_step.values[step_zones_comp_hetero][i] in id_zones_comp_multiple for i in np.arange(0,len(step_zones_hetero))])[0]]\n",
    "step_zones_comp_hetero_and_multiple"
   ]
  },
  {
   "cell_type": "code",
   "execution_count": 54,
   "metadata": {
    "scrolled": true
   },
   "outputs": [
    {
     "data": {
      "text/plain": [
       "['4103+4104+4105+4106',\n",
       " '4103',\n",
       " '4103',\n",
       " '4102+4103',\n",
       " '4106',\n",
       " '4104+4105+4106',\n",
       " '4104+4105+4106',\n",
       " '4101',\n",
       " '4101',\n",
       " '4101',\n",
       " '4101',\n",
       " '4102+4103+4104+4105',\n",
       " '4101',\n",
       " '4101+4102',\n",
       " '4101',\n",
       " '4102+4103+4106',\n",
       " '4103+4104+4105+4106',\n",
       " '4102+4103+4104+4106',\n",
       " '4102+4103+4104']"
      ]
     },
     "execution_count": 54,
     "metadata": {},
     "output_type": "execute_result"
    }
   ],
   "source": [
    "# and the complementary zones are the following (in fact they are the complementary of these zones):\n",
    "zones_comp=[da_mask.id.values.tolist()[zone_sum_with_dist_min_by_step.values[i]] for i in step_zones_comp_hetero_and_multiple]\n",
    "zones_comp"
   ]
  },
  {
   "cell_type": "markdown",
   "metadata": {},
   "source": [
    "## We generate the dataarray of masks of the winning heterogeneous zones + complementary zones with multiple zone sympo. Zones that did not pass the criteria are fully masked.\n"
   ]
  },
  {
   "cell_type": "markdown",
   "metadata": {},
   "source": [
    "## Recall the zones and complementary zones"
   ]
  },
  {
   "cell_type": "code",
   "execution_count": 55,
   "metadata": {
    "scrolled": true
   },
   "outputs": [
    {
     "data": {
      "text/plain": [
       "array([7901, 7901, 7901, 7901, 7901, 7901, 7901, 7901, 7901, 7901, 7901,\n",
       "       7901, 7901, 7901, 7901, 7901, 7901, 7901, 7901, 7901, 7901, 7901,\n",
       "       7901, 7901, 7901, 7901, 7901, 7901, 7901, 7901, 7901])"
      ]
     },
     "execution_count": 55,
     "metadata": {},
     "output_type": "execute_result"
    }
   ],
   "source": [
    "# adding the zone and its complementary we get the department size\n",
    "np.asarray(da_mask.attrs[\"zone size\"])+np.asarray(da_mask_comp.attrs[\"zone size\"])"
   ]
  },
  {
   "cell_type": "markdown",
   "metadata": {},
   "source": [
    "## Zones"
   ]
  },
  {
   "cell_type": "code",
   "execution_count": 56,
   "metadata": {},
   "outputs": [],
   "source": [
    "# create the dataarray where masks corresponding to zones that shall be redivided (zones) are applied on the appropriate echeance step (step_zones_hetero_and_multiple)\n",
    "tmp_masks=np.full([ds_masked.dims['step'], ds_masked.dims['latitude'], ds_masked.dims['longitude']], np.nan)"
   ]
  },
  {
   "cell_type": "code",
   "execution_count": 57,
   "metadata": {},
   "outputs": [],
   "source": [
    "for i in np.arange(0,ds.dims['step']):  \n",
    "    if i in step_zones_hetero_and_multiple: \n",
    "        ind_tmp=zone_sum_with_dist_min_by_step.values[i]\n",
    "        mask_tmp=da_mask.isel(id=ind_tmp)\n",
    "        mask_tmp=mask_tmp.where(mask_tmp!=0,np.nan)        \n",
    "        tmp_masks[i,:,:]=(ds.isel(step=i).unknown*mask_tmp).values "
   ]
  },
  {
   "cell_type": "code",
   "execution_count": 58,
   "metadata": {
    "scrolled": true
   },
   "outputs": [
    {
     "data": {
      "text/plain": [
       "(48, 96, 169)"
      ]
     },
     "execution_count": 58,
     "metadata": {},
     "output_type": "execute_result"
    }
   ],
   "source": [
    "np.shape(tmp_masks)"
   ]
  },
  {
   "cell_type": "code",
   "execution_count": 59,
   "metadata": {
    "scrolled": true
   },
   "outputs": [
    {
     "data": {
      "text/html": [
       "<pre>&lt;xarray.Dataset&gt;\n",
       "Dimensions:            (latitude: 96, longitude: 169, step: 48)\n",
       "Coordinates:\n",
       "    surface            int64 0\n",
       "    heightAboveGround  int64 2\n",
       "  * step               (step) timedelta64[ns] 01:00:00 ... 2 days 00:00:00\n",
       "  * latitude           (latitude) float64 48.15 48.14 48.13 ... 47.22 47.21 47.2\n",
       "  * longitude          (longitude) float64 0.57 0.58 0.59 0.6 ... 2.23 2.24 2.25\n",
       "Data variables:\n",
       "    unknown            (step, latitude, longitude) float64 nan nan ... nan nan</pre>"
      ],
      "text/plain": [
       "<xarray.Dataset>\n",
       "Dimensions:            (latitude: 96, longitude: 169, step: 48)\n",
       "Coordinates:\n",
       "    surface            int64 0\n",
       "    heightAboveGround  int64 2\n",
       "  * step               (step) timedelta64[ns] 01:00:00 ... 2 days 00:00:00\n",
       "  * latitude           (latitude) float64 48.15 48.14 48.13 ... 47.22 47.21 47.2\n",
       "  * longitude          (longitude) float64 0.57 0.58 0.59 0.6 ... 2.23 2.24 2.25\n",
       "Data variables:\n",
       "    unknown            (step, latitude, longitude) float64 nan nan ... nan nan"
      ]
     },
     "execution_count": 59,
     "metadata": {},
     "output_type": "execute_result"
    }
   ],
   "source": [
    "# build the new ds\n",
    "ds_masked_zones_hetero=xr.Dataset(coords={'step':ds_masked['step'],'latitude':ds_masked['latitude'],'longitude':ds_masked['longitude']})\n",
    "ds_masked_zones_hetero[\"unknown\"]=(tuple(['step','latitude','longitude']),tmp_masks)\n",
    "ds_masked_zones_hetero"
   ]
  },
  {
   "cell_type": "code",
   "execution_count": 60,
   "metadata": {
    "scrolled": false
   },
   "outputs": [
    {
     "data": {
      "image/png": "[encoded data removed]",
      "text/plain": [
       "<Figure size 432x288 with 2 Axes>"
      ]
     },
     "metadata": {
      "needs_background": "light"
     },
     "output_type": "display_data"
    }
   ],
   "source": [
    "ds_masked_zones_hetero.isel(step=2).unknown.plot.imshow();"
   ]
  },
  {
   "cell_type": "markdown",
   "metadata": {},
   "source": [
    "## Complementary zones"
   ]
  },
  {
   "cell_type": "code",
   "execution_count": 61,
   "metadata": {},
   "outputs": [],
   "source": [
    "# create the dataarray where masks corresponding to complementary zones that shall be redivided (zones_comp) are applied on the appropriate echeance step (step_zones_comp_hetero_and_multiple)\n",
    "tmp_masks_comp=np.full([ds_masked.dims['step'], ds_masked.dims['latitude'], ds_masked.dims['longitude']], np.nan)"
   ]
  },
  {
   "cell_type": "code",
   "execution_count": 62,
   "metadata": {},
   "outputs": [],
   "source": [
    "for i in np.arange(0,ds.dims['step']):  \n",
    "    if i in step_zones_comp_hetero_and_multiple: \n",
    "        ind_comp_tmp=zone_sum_with_dist_min_by_step.values[i]\n",
    "        \n",
    "        mask_comp_tmp=da_mask_comp.isel(id=ind_comp_tmp)\n",
    "        mask_comp_tmp=mask_comp_tmp.where(mask_comp_tmp!=0,np.nan) \n",
    "        \n",
    "        tmp_masks_comp[i,:,:]=(ds.isel(step=i).unknown*mask_comp_tmp).values "
   ]
  },
  {
   "cell_type": "code",
   "execution_count": 63,
   "metadata": {
    "scrolled": true
   },
   "outputs": [
    {
     "data": {
      "text/html": [
       "<pre>&lt;xarray.Dataset&gt;\n",
       "Dimensions:            (latitude: 96, longitude: 169, step: 48)\n",
       "Coordinates:\n",
       "    surface            int64 0\n",
       "    heightAboveGround  int64 2\n",
       "  * step               (step) timedelta64[ns] 01:00:00 ... 2 days 00:00:00\n",
       "  * latitude           (latitude) float64 48.15 48.14 48.13 ... 47.22 47.21 47.2\n",
       "  * longitude          (longitude) float64 0.57 0.58 0.59 0.6 ... 2.23 2.24 2.25\n",
       "Data variables:\n",
       "    unknown            (step, latitude, longitude) float64 nan nan ... nan nan</pre>"
      ],
      "text/plain": [
       "<xarray.Dataset>\n",
       "Dimensions:            (latitude: 96, longitude: 169, step: 48)\n",
       "Coordinates:\n",
       "    surface            int64 0\n",
       "    heightAboveGround  int64 2\n",
       "  * step               (step) timedelta64[ns] 01:00:00 ... 2 days 00:00:00\n",
       "  * latitude           (latitude) float64 48.15 48.14 48.13 ... 47.22 47.21 47.2\n",
       "  * longitude          (longitude) float64 0.57 0.58 0.59 0.6 ... 2.23 2.24 2.25\n",
       "Data variables:\n",
       "    unknown            (step, latitude, longitude) float64 nan nan ... nan nan"
      ]
     },
     "execution_count": 63,
     "metadata": {},
     "output_type": "execute_result"
    }
   ],
   "source": [
    "# include \n",
    "ds_masked_zones_comp_hetero=xr.Dataset(coords={'step':ds_masked['step'],'latitude':ds_masked['latitude'],'longitude':ds_masked['longitude']})\n",
    "ds_masked_zones_comp_hetero[\"unknown\"]=(tuple(['step','latitude','longitude']),tmp_masks_comp)\n",
    "ds_masked_zones_comp_hetero"
   ]
  },
  {
   "cell_type": "code",
   "execution_count": 413,
   "metadata": {
    "scrolled": true
   },
   "outputs": [
    {
     "data": {
      "image/png": "[encoded data removed]",
      "text/plain": [
       "<Figure size 432x288 with 2 Axes>"
      ]
     },
     "metadata": {
      "needs_background": "light"
     },
     "output_type": "display_data"
    }
   ],
   "source": [
    "ds_masked_zones_comp_hetero.isel(step=47).unknown.plot.imshow();"
   ]
  },
  {
   "cell_type": "markdown",
   "metadata": {},
   "source": [
    "## Round 2: apply the distance calculation on these two new datasets composed of the heterogeneous winning zones and complementary zones"
   ]
  },
  {
   "cell_type": "markdown",
   "metadata": {},
   "source": [
    "## A. Winning zones"
   ]
  },
  {
   "cell_type": "markdown",
   "metadata": {},
   "source": [
    "## 1. Zones for the winning zones"
   ]
  },
  {
   "cell_type": "code",
   "execution_count": 64,
   "metadata": {
    "scrolled": true
   },
   "outputs": [],
   "source": [
    "ds_distance_round2zones = distance_wwmf.get_pixel_distance_dept(ds_masked_zones_hetero,\"compas\") # 4D (step:48, latitude, longitude, wwmf_2)"
   ]
  },
  {
   "cell_type": "code",
   "execution_count": 65,
   "metadata": {
    "scrolled": false
   },
   "outputs": [
    {
     "data": {
      "text/plain": [
       "<matplotlib.image.AxesImage at 0x12e0f6b50>"
      ]
     },
     "execution_count": 65,
     "metadata": {},
     "output_type": "execute_result"
    },
    {
     "data": {
      "image/png": "[encoded data removed]",
      "text/plain": [
       "<Figure size 432x288 with 1 Axes>"
      ]
     },
     "metadata": {
      "needs_background": "light"
     },
     "output_type": "display_data"
    }
   ],
   "source": [
    "plt.imshow(ds_distance_round2zones.isel(step=45).isel(wwmf_2=4))"
   ]
  },
  {
   "cell_type": "code",
   "execution_count": 67,
   "metadata": {},
   "outputs": [],
   "source": [
    "ds_distance_round2zones_chunk = ds_distance_round2zones.chunk({\"step\":1}) # 4D (step:48, latitude, longitude, wwmf_2)\n",
    "#ds_distance_round2zones_chunk"
   ]
  },
  {
   "cell_type": "code",
   "execution_count": 68,
   "metadata": {},
   "outputs": [
    {
     "data": {
      "text/plain": [
       "array([ 2,  3,  6,  8, 10, 11, 29, 34, 38, 44, 45, 46, 47])"
      ]
     },
     "execution_count": 68,
     "metadata": {},
     "output_type": "execute_result"
    }
   ],
   "source": [
    "# rappel des echeances concernees\n",
    "step_zones_hetero_and_multiple"
   ]
  },
  {
   "cell_type": "code",
   "execution_count": 73,
   "metadata": {
    "scrolled": true
   },
   "outputs": [],
   "source": [
    "distance_round2zones_by_step_id = (ds_distance_round2zones_chunk * da_mask_round2).sum(['latitude',\"longitude\"]).compute() # 3D (step:48, wwmf_2, id)\n",
    "#distance_round2zones_by_step_id = (ds_distance_round2zones_chunk * da_mask).sum(['latitude',\"longitude\"]).compute() # 3D (step:48, wwmf_2, id)\n",
    "#distance_round2zones_by_step_id"
   ]
  },
  {
   "cell_type": "markdown",
   "metadata": {},
   "source": [
    "## Testing the new DEBUG idea (to solve the problem that comes later) modify the mask, value 0 -> nan"
   ]
  },
  {
   "cell_type": "code",
   "execution_count": 70,
   "metadata": {},
   "outputs": [],
   "source": [
    "tmp_mask_round2=np.full([da_mask.shape[0], da_mask.shape[1], da_mask.shape[2]], np.nan)"
   ]
  },
  {
   "cell_type": "code",
   "execution_count": 71,
   "metadata": {},
   "outputs": [],
   "source": [
    "# initialization\n",
    "da_mask_round2=da_mask\n",
    "\n",
    "for i in np.arange(0,da_mask.shape[0]):   \n",
    "    mask_tmp_round2=da_mask.isel(id=i)\n",
    "    mask_tmp_round2=mask_tmp_round2.where(mask_tmp_round2!=0,np.nan)  \n",
    "    tmp_mask_round2[i,:,:]=mask_tmp_round2"
   ]
  },
  {
   "cell_type": "code",
   "execution_count": 72,
   "metadata": {},
   "outputs": [],
   "source": [
    "da_mask_round2=xr.DataArray(data=tmp_mask_round2,coords={'id':da_mask.id.values,'latitude':da_mask.latitude.values,'longitude':da_mask.longitude.values},dims={'id':da_mask.shape[0],'latitude':da_mask.shape[1],'longitude':da_mask.shape[2]})\n",
    "#da_mask_round2"
   ]
  },
  {
   "cell_type": "code",
   "execution_count": 74,
   "metadata": {
    "scrolled": false
   },
   "outputs": [
    {
     "data": {
      "text/plain": [
       "<matplotlib.image.AxesImage at 0x11b330d30>"
      ]
     },
     "execution_count": 74,
     "metadata": {},
     "output_type": "execute_result"
    },
    {
     "data": {
      "image/png": "[encoded data removed]",
      "text/plain": [
       "<Figure size 432x288 with 2 Axes>"
      ]
     },
     "metadata": {
      "needs_background": "light"
     },
     "output_type": "display_data"
    }
   ],
   "source": [
    "da_mask.isel(id=20).plot.imshow()"
   ]
  },
  {
   "cell_type": "code",
   "execution_count": 75,
   "metadata": {
    "scrolled": true
   },
   "outputs": [
    {
     "data": {
      "text/plain": [
       "<matplotlib.image.AxesImage at 0x12b62d160>"
      ]
     },
     "execution_count": 75,
     "metadata": {},
     "output_type": "execute_result"
    },
    {
     "data": {
      "image/png": "[encoded data removed]",
      "text/plain": [
       "<Figure size 432x288 with 2 Axes>"
      ]
     },
     "metadata": {
      "needs_background": "light"
     },
     "output_type": "display_data"
    }
   ],
   "source": [
    "da_mask_round2.isel(id=20).plot.imshow()"
   ]
  },
  {
   "cell_type": "code",
   "execution_count": 74,
   "metadata": {},
   "outputs": [],
   "source": [
    "tmp_mask_comp_round2=np.full([da_mask.shape[0], da_mask.shape[1], da_mask.shape[2]], np.nan)"
   ]
  },
  {
   "cell_type": "code",
   "execution_count": 75,
   "metadata": {},
   "outputs": [],
   "source": [
    "# initialization\n",
    "da_mask_comp_round2=da_mask_comp\n",
    "\n",
    "for i in np.arange(0,da_mask.shape[0]):   \n",
    "    mask_comp_tmp_round2=da_mask_comp.isel(id=i)\n",
    "    mask_comp_tmp_round2=mask_comp_tmp_round2.where(mask_comp_tmp_round2!=0,np.nan)  \n",
    "    tmp_mask_comp_round2[i,:,:]=mask_comp_tmp_round2"
   ]
  },
  {
   "cell_type": "code",
   "execution_count": 76,
   "metadata": {
    "scrolled": true
   },
   "outputs": [
    {
     "data": {
      "text/html": [
       "<pre>&lt;xarray.DataArray (id: 31, latitude: 96, longitude: 169)&gt;\n",
       "array([[[nan, nan, nan, ..., nan, nan, nan],\n",
       "        [nan, nan, nan, ..., nan, nan, nan],\n",
       "        [nan, nan, nan, ..., nan, nan, nan],\n",
       "        ...,\n",
       "        [nan, nan, nan, ..., nan, nan, nan],\n",
       "        [nan, nan, nan, ..., nan, nan, nan],\n",
       "        [nan, nan, nan, ..., nan, nan, nan]],\n",
       "\n",
       "       [[nan, nan, nan, ..., nan, nan, nan],\n",
       "        [nan, nan, nan, ..., nan, nan, nan],\n",
       "        [nan, nan, nan, ..., nan, nan, nan],\n",
       "        ...,\n",
       "        [nan, nan, nan, ..., nan, nan, nan],\n",
       "        [nan, nan, nan, ..., nan, nan, nan],\n",
       "        [nan, nan, nan, ..., nan, nan, nan]],\n",
       "\n",
       "       [[nan, nan, nan, ..., nan, nan, nan],\n",
       "        [nan, nan, nan, ..., nan, nan, nan],\n",
       "        [nan, nan, nan, ..., nan, nan, nan],\n",
       "        ...,\n",
       "        [nan, nan, nan, ..., nan, nan, nan],\n",
       "        [nan, nan, nan, ..., nan, nan, nan],\n",
       "        [nan, nan, nan, ..., nan, nan, nan]],\n",
       "\n",
       "       ...,\n",
       "\n",
       "       [[nan, nan, nan, ..., nan, nan, nan],\n",
       "        [nan, nan, nan, ..., nan, nan, nan],\n",
       "        [nan, nan, nan, ..., nan, nan, nan],\n",
       "        ...,\n",
       "        [nan, nan, nan, ..., nan, nan, nan],\n",
       "        [nan, nan, nan, ..., nan, nan, nan],\n",
       "        [nan, nan, nan, ..., nan, nan, nan]],\n",
       "\n",
       "       [[nan, nan, nan, ..., nan, nan, nan],\n",
       "        [nan, nan, nan, ..., nan, nan, nan],\n",
       "        [nan, nan, nan, ..., nan, nan, nan],\n",
       "        ...,\n",
       "        [nan, nan, nan, ..., nan, nan, nan],\n",
       "        [nan, nan, nan, ..., nan, nan, nan],\n",
       "        [nan, nan, nan, ..., nan, nan, nan]],\n",
       "\n",
       "       [[nan, nan, nan, ..., nan, nan, nan],\n",
       "        [nan, nan, nan, ..., nan, nan, nan],\n",
       "        [nan, nan, nan, ..., nan, nan, nan],\n",
       "        ...,\n",
       "        [nan, nan, nan, ..., nan, nan, nan],\n",
       "        [nan, nan, nan, ..., nan, nan, nan],\n",
       "        [nan, nan, nan, ..., nan, nan, nan]]])\n",
       "Coordinates:\n",
       "  * id         (id) object &#x27;departement&#x27; &#x27;4101&#x27; ... &#x27;4102+4103+4104+4105+4106&#x27;\n",
       "  * latitude   (latitude) float64 47.2 47.21 47.22 47.23 ... 48.13 48.14 48.15\n",
       "  * longitude  (longitude) float64 0.57 0.58 0.59 0.6 ... 2.22 2.23 2.24 2.25</pre>"
      ],
      "text/plain": [
       "<xarray.DataArray (id: 31, latitude: 96, longitude: 169)>\n",
       "array([[[nan, nan, nan, ..., nan, nan, nan],\n",
       "        [nan, nan, nan, ..., nan, nan, nan],\n",
       "        [nan, nan, nan, ..., nan, nan, nan],\n",
       "        ...,\n",
       "        [nan, nan, nan, ..., nan, nan, nan],\n",
       "        [nan, nan, nan, ..., nan, nan, nan],\n",
       "        [nan, nan, nan, ..., nan, nan, nan]],\n",
       "\n",
       "       [[nan, nan, nan, ..., nan, nan, nan],\n",
       "        [nan, nan, nan, ..., nan, nan, nan],\n",
       "        [nan, nan, nan, ..., nan, nan, nan],\n",
       "        ...,\n",
       "        [nan, nan, nan, ..., nan, nan, nan],\n",
       "        [nan, nan, nan, ..., nan, nan, nan],\n",
       "        [nan, nan, nan, ..., nan, nan, nan]],\n",
       "\n",
       "       [[nan, nan, nan, ..., nan, nan, nan],\n",
       "        [nan, nan, nan, ..., nan, nan, nan],\n",
       "        [nan, nan, nan, ..., nan, nan, nan],\n",
       "        ...,\n",
       "        [nan, nan, nan, ..., nan, nan, nan],\n",
       "        [nan, nan, nan, ..., nan, nan, nan],\n",
       "        [nan, nan, nan, ..., nan, nan, nan]],\n",
       "\n",
       "       ...,\n",
       "\n",
       "       [[nan, nan, nan, ..., nan, nan, nan],\n",
       "        [nan, nan, nan, ..., nan, nan, nan],\n",
       "        [nan, nan, nan, ..., nan, nan, nan],\n",
       "        ...,\n",
       "        [nan, nan, nan, ..., nan, nan, nan],\n",
       "        [nan, nan, nan, ..., nan, nan, nan],\n",
       "        [nan, nan, nan, ..., nan, nan, nan]],\n",
       "\n",
       "       [[nan, nan, nan, ..., nan, nan, nan],\n",
       "        [nan, nan, nan, ..., nan, nan, nan],\n",
       "        [nan, nan, nan, ..., nan, nan, nan],\n",
       "        ...,\n",
       "        [nan, nan, nan, ..., nan, nan, nan],\n",
       "        [nan, nan, nan, ..., nan, nan, nan],\n",
       "        [nan, nan, nan, ..., nan, nan, nan]],\n",
       "\n",
       "       [[nan, nan, nan, ..., nan, nan, nan],\n",
       "        [nan, nan, nan, ..., nan, nan, nan],\n",
       "        [nan, nan, nan, ..., nan, nan, nan],\n",
       "        ...,\n",
       "        [nan, nan, nan, ..., nan, nan, nan],\n",
       "        [nan, nan, nan, ..., nan, nan, nan],\n",
       "        [nan, nan, nan, ..., nan, nan, nan]]])\n",
       "Coordinates:\n",
       "  * id         (id) object 'departement' '4101' ... '4102+4103+4104+4105+4106'\n",
       "  * latitude   (latitude) float64 47.2 47.21 47.22 47.23 ... 48.13 48.14 48.15\n",
       "  * longitude  (longitude) float64 0.57 0.58 0.59 0.6 ... 2.22 2.23 2.24 2.25"
      ]
     },
     "execution_count": 76,
     "metadata": {},
     "output_type": "execute_result"
    }
   ],
   "source": [
    "da_mask_comp_round2=xr.DataArray(data=tmp_mask_comp_round2,coords={'id':da_mask.id.values,'latitude':da_mask.latitude.values,'longitude':da_mask.longitude.values},dims={'id':da_mask.shape[0],'latitude':da_mask.shape[1],'longitude':da_mask.shape[2]})\n",
    "da_mask_comp_round2"
   ]
  },
  {
   "cell_type": "code",
   "execution_count": 79,
   "metadata": {
    "scrolled": true
   },
   "outputs": [
    {
     "data": {
      "text/plain": [
       "<matplotlib.image.AxesImage at 0x118e821f0>"
      ]
     },
     "execution_count": 79,
     "metadata": {},
     "output_type": "execute_result"
    },
    {
     "data": {
      "image/png": "[encoded data removed]",
      "text/plain": [
       "<Figure size 432x288 with 2 Axes>"
      ]
     },
     "metadata": {
      "needs_background": "light"
     },
     "output_type": "display_data"
    }
   ],
   "source": [
    "da_mask_comp.isel(id=20).plot.imshow()"
   ]
  },
  {
   "cell_type": "code",
   "execution_count": 80,
   "metadata": {},
   "outputs": [
    {
     "data": {
      "text/plain": [
       "<matplotlib.image.AxesImage at 0x1191895b0>"
      ]
     },
     "execution_count": 80,
     "metadata": {},
     "output_type": "execute_result"
    },
    {
     "data": {
      "image/png": "[encoded data removed]",
      "text/plain": [
       "<Figure size 432x288 with 2 Axes>"
      ]
     },
     "metadata": {
      "needs_background": "light"
     },
     "output_type": "display_data"
    }
   ],
   "source": [
    "da_mask_comp_round2.isel(id=20).plot.imshow()"
   ]
  },
  {
   "cell_type": "markdown",
   "metadata": {},
   "source": [
    "## End of the new DEBUG idea"
   ]
  },
  {
   "cell_type": "code",
   "execution_count": 77,
   "metadata": {},
   "outputs": [
    {
     "data": {
      "text/plain": [
       "array(['4101', '4101', '4101+4102+4103+4104+4105', '4103+4104+4105+4106',\n",
       "       '4103', '4103', '4102+4103', '4106', '4103+4104+4105+4106',\n",
       "       '4104+4105+4106', '4104+4105+4106', '4105+4106',\n",
       "       '4102+4103+4104+4105+4106', '4101', '4101', '4101', '4101', '4101',\n",
       "       '4101', '4102+4103+4104+4105+4106', '4101+4102', '4101', '4101',\n",
       "       '4101', '4105', '4101', '4101', '4101', '4101',\n",
       "       '4102+4103+4104+4105', '4102+4103+4104+4105+4106', '4101', '4101',\n",
       "       '4101+4102', '4101+4102+4103+4105+4106', '4101', '4101', '4101',\n",
       "       '4102+4103+4106', '4103', '4101', '4101', '4101', '4102',\n",
       "       '4103+4104+4105+4106', '4102+4103+4104+4105+4106',\n",
       "       '4102+4103+4104+4106', '4102+4103+4104'], dtype=object)"
      ]
     },
     "execution_count": 77,
     "metadata": {},
     "output_type": "execute_result"
    }
   ],
   "source": [
    "#list of the zones hetero and multiple (rappel de plus haut)\n",
    "zoneswinning=dist_sum_by_step_id_min.id[dist_sum_by_step_id_min.argmin((\"id\"))].values\n",
    "zoneswinning"
   ]
  },
  {
   "cell_type": "code",
   "execution_count": 78,
   "metadata": {},
   "outputs": [],
   "source": [
    "# find the id of the subset of zones included in the winning zone for each echeance step when round 2 is applicable\n",
    "id_zone_included=[np.nan]*ds_masked.dims['step']\n",
    "\n",
    "for i in step_zones_hetero_and_multiple:\n",
    "    id_zone_included[i]=np.where([set(val.split(\"+\")).issubset(zoneswinning[i].split(\"+\")) for val in da_mask.id.values.tolist()])[0]"
   ]
  },
  {
   "cell_type": "code",
   "execution_count": 79,
   "metadata": {},
   "outputs": [
    {
     "data": {
      "text/plain": [
       "['4102', '4103', '4104', '4102+4103', '4103+4104', '4102+4103+4104']"
      ]
     },
     "execution_count": 79,
     "metadata": {},
     "output_type": "execute_result"
    }
   ],
   "source": [
    "# verify that this works well by comparing one zone and the corresponding subzones\n",
    "zoneswinning[47]\n",
    "[da_mask.id.values.tolist()[i] for i in id_zone_included[47]]"
   ]
  },
  {
   "cell_type": "markdown",
   "metadata": {},
   "source": [
    "## 2. Complementary zones for the winning zones"
   ]
  },
  {
   "cell_type": "code",
   "execution_count": 80,
   "metadata": {},
   "outputs": [],
   "source": [
    "distance_round2zones_comp_by_step_id = (ds_distance_round2zones_chunk * da_mask_comp_round2).sum(['latitude',\"longitude\"]).compute()\n",
    "#distance_round2zones_comp_by_step_id = (ds_distance_round2zones_chunk * da_mask_comp).sum(['latitude',\"longitude\"]).compute()\n",
    "#distance_round2zones_comp_by_step_id"
   ]
  },
  {
   "cell_type": "markdown",
   "metadata": {},
   "source": [
    "## On trouve la zone et son complémentaire parmi les winning zones qui minimizent la somme des distances \n",
    "\n",
    "ATTENTION: JE PENSE QU'ON EST DANS DES CAS OU FINALEMENT LE MEME CODE COMPAS EST RESPONSABLE DU MIN DANS LA ZONE ET SON COMPLEMENTAIRE)"
   ]
  },
  {
   "cell_type": "code",
   "execution_count": 81,
   "metadata": {},
   "outputs": [
    {
     "data": {
      "text/html": [
       "<pre>&lt;xarray.DataArray (id: 3)&gt;\n",
       "array([5, 5, 5])\n",
       "Coordinates:\n",
       "    step               timedelta64[ns] 07:00:00\n",
       "    surface            int64 0\n",
       "    heightAboveGround  int64 2\n",
       "  * id                 (id) object &#x27;4102&#x27; &#x27;4103&#x27; &#x27;4102+4103&#x27;</pre>"
      ],
      "text/plain": [
       "<xarray.DataArray (id: 3)>\n",
       "array([5, 5, 5])\n",
       "Coordinates:\n",
       "    step               timedelta64[ns] 07:00:00\n",
       "    surface            int64 0\n",
       "    heightAboveGround  int64 2\n",
       "  * id                 (id) object '4102' '4103' '4102+4103'"
      ]
     },
     "execution_count": 81,
     "metadata": {},
     "output_type": "execute_result"
    }
   ],
   "source": [
    "# Cette intuition est bien confirmee en regardant les valeur des codes qui donnent les distances min pour chaque zone\n",
    "j=6\n",
    "distance_round2zones_by_step_id.isel(step=j).argmin(\"wwmf_2\")[id_zone_included[j]]"
   ]
  },
  {
   "cell_type": "code",
   "execution_count": 82,
   "metadata": {},
   "outputs": [
    {
     "data": {
      "text/html": [
       "<pre>&lt;xarray.DataArray (id: 3)&gt;\n",
       "array([5, 5, 0])\n",
       "Coordinates:\n",
       "    step               timedelta64[ns] 07:00:00\n",
       "    surface            int64 0\n",
       "    heightAboveGround  int64 2\n",
       "  * id                 (id) object &#x27;4102&#x27; &#x27;4103&#x27; &#x27;4102+4103&#x27;</pre>"
      ],
      "text/plain": [
       "<xarray.DataArray (id: 3)>\n",
       "array([5, 5, 0])\n",
       "Coordinates:\n",
       "    step               timedelta64[ns] 07:00:00\n",
       "    surface            int64 0\n",
       "    heightAboveGround  int64 2\n",
       "  * id                 (id) object '4102' '4103' '4102+4103'"
      ]
     },
     "execution_count": 82,
     "metadata": {},
     "output_type": "execute_result"
    }
   ],
   "source": [
    "j=6\n",
    "distance_round2zones_comp_by_step_id.isel(step=j).argmin(\"wwmf_2\")[id_zone_included[j]]"
   ]
  },
  {
   "cell_type": "code",
   "execution_count": 85,
   "metadata": {
    "scrolled": true
   },
   "outputs": [
    {
     "data": {
      "text/html": [
       "<pre>&lt;xarray.DataArray (id: 3)&gt;\n",
       "array([2132., 2132., 2132.])\n",
       "Coordinates:\n",
       "    step               timedelta64[ns] 07:00:00\n",
       "    surface            int64 0\n",
       "    heightAboveGround  int64 2\n",
       "  * id                 (id) object &#x27;4102&#x27; &#x27;4103&#x27; &#x27;4102+4103&#x27;</pre>"
      ],
      "text/plain": [
       "<xarray.DataArray (id: 3)>\n",
       "array([2132., 2132., 2132.])\n",
       "Coordinates:\n",
       "    step               timedelta64[ns] 07:00:00\n",
       "    surface            int64 0\n",
       "    heightAboveGround  int64 2\n",
       "  * id                 (id) object '4102' '4103' '4102+4103'"
      ]
     },
     "execution_count": 85,
     "metadata": {},
     "output_type": "execute_result"
    }
   ],
   "source": [
    "j=6\n",
    "dist_round2zones_sum_by_step_id_min.isel(step=j)[id_zone_included[j]]"
   ]
  },
  {
   "cell_type": "code",
   "execution_count": 86,
   "metadata": {},
   "outputs": [
    {
     "data": {
      "text/plain": [
       "<matplotlib.image.AxesImage at 0x12e16ca30>"
      ]
     },
     "execution_count": 86,
     "metadata": {},
     "output_type": "execute_result"
    },
    {
     "data": {
      "image/png": "[encoded data removed]",
      "text/plain": [
       "<Figure size 432x288 with 1 Axes>"
      ]
     },
     "metadata": {
      "needs_background": "light"
     },
     "output_type": "display_data"
    }
   ],
   "source": [
    "#dist_by_step_id_min=distance_by_step_id.min(\"wwmf_2\")  \n",
    "distance_round2zones_by_step_id_min=distance_round2zones_by_step_id.min(\"wwmf_2\")\n",
    "\n",
    "#dist_comp_by_step_id_min=distance_comp_by_step_id.min(\"wwmf_2\") # 2D (step, id)\n",
    "distance_round2zones_comp_by_step_id_min=distance_round2zones_comp_by_step_id.min(\"wwmf_2\")\n",
    "\n",
    "#dist_sum_by_step_id_min=dist_by_step_id_min[:,1:]+dist_comp_by_step_id_min[:,1:] #on enlève le cas trivial du la zone \"département\"\n",
    "dist_round2zones_sum_by_step_id_min=distance_round2zones_by_step_id_min+distance_round2zones_comp_by_step_id_min\n",
    "\n",
    "plt.imshow(dist_round2zones_sum_by_step_id_min)"
   ]
  },
  {
   "cell_type": "code",
   "execution_count": 87,
   "metadata": {},
   "outputs": [
    {
     "data": {
      "text/plain": [
       "array([ 2,  3,  6,  8, 10, 11, 29, 34, 38, 44, 45, 46, 47])"
      ]
     },
     "execution_count": 87,
     "metadata": {},
     "output_type": "execute_result"
    }
   ],
   "source": [
    "step_zones_hetero_and_multiple"
   ]
  },
  {
   "cell_type": "code",
   "execution_count": 88,
   "metadata": {},
   "outputs": [
    {
     "data": {
      "text/html": [
       "<pre>&lt;xarray.DataArray (id: 15)&gt;\n",
       "array([1454.,  472.,  850.,   43.,  163., 1906., 1280.,  885.,  206.,\n",
       "       2714., 1315., 1048., 2749., 1478., 2912.])\n",
       "Coordinates:\n",
       "    step               timedelta64[ns] 03:00:00\n",
       "    surface            int64 0\n",
       "    heightAboveGround  int64 2\n",
       "  * id                 (id) object &#x27;4101&#x27; &#x27;4102&#x27; ... &#x27;4101+4102+4103+4104+4105&#x27;</pre>"
      ],
      "text/plain": [
       "<xarray.DataArray (id: 15)>\n",
       "array([1454.,  472.,  850.,   43.,  163., 1906., 1280.,  885.,  206.,\n",
       "       2714., 1315., 1048., 2749., 1478., 2912.])\n",
       "Coordinates:\n",
       "    step               timedelta64[ns] 03:00:00\n",
       "    surface            int64 0\n",
       "    heightAboveGround  int64 2\n",
       "  * id                 (id) object '4101' '4102' ... '4101+4102+4103+4104+4105'"
      ]
     },
     "execution_count": 88,
     "metadata": {},
     "output_type": "execute_result"
    }
   ],
   "source": [
    "distance_round2zones_by_step_id_min.isel(step=2)[id_zone_included[2]]"
   ]
  },
  {
   "cell_type": "code",
   "execution_count": 89,
   "metadata": {},
   "outputs": [
    {
     "data": {
      "text/html": [
       "<pre>&lt;xarray.DataArray (id: 15)&gt;\n",
       "array([1458., 2440., 2062., 2869., 2749., 1006., 1632., 2027., 2706.,\n",
       "        198., 1597., 1864.,  163., 1434.,    0.])\n",
       "Coordinates:\n",
       "    step               timedelta64[ns] 03:00:00\n",
       "    surface            int64 0\n",
       "    heightAboveGround  int64 2\n",
       "  * id                 (id) object &#x27;4101&#x27; &#x27;4102&#x27; ... &#x27;4101+4102+4103+4104+4105&#x27;</pre>"
      ],
      "text/plain": [
       "<xarray.DataArray (id: 15)>\n",
       "array([1458., 2440., 2062., 2869., 2749., 1006., 1632., 2027., 2706.,\n",
       "        198., 1597., 1864.,  163., 1434.,    0.])\n",
       "Coordinates:\n",
       "    step               timedelta64[ns] 03:00:00\n",
       "    surface            int64 0\n",
       "    heightAboveGround  int64 2\n",
       "  * id                 (id) object '4101' '4102' ... '4101+4102+4103+4104+4105'"
      ]
     },
     "execution_count": 89,
     "metadata": {},
     "output_type": "execute_result"
    }
   ],
   "source": [
    "distance_round2zones_comp_by_step_id_min.isel(step=2)[id_zone_included[2]]"
   ]
  },
  {
   "cell_type": "code",
   "execution_count": 90,
   "metadata": {
    "scrolled": false
   },
   "outputs": [
    {
     "data": {
      "text/html": [
       "<pre>&lt;xarray.DataArray (id: 15)&gt;\n",
       "array([2912., 2912., 2912., 2912., 2912., 2912., 2912., 2912., 2912.,\n",
       "       2912., 2912., 2912., 2912., 2912., 2912.])\n",
       "Coordinates:\n",
       "    step               timedelta64[ns] 03:00:00\n",
       "    surface            int64 0\n",
       "    heightAboveGround  int64 2\n",
       "  * id                 (id) object &#x27;4101&#x27; &#x27;4102&#x27; ... &#x27;4101+4102+4103+4104+4105&#x27;</pre>"
      ],
      "text/plain": [
       "<xarray.DataArray (id: 15)>\n",
       "array([2912., 2912., 2912., 2912., 2912., 2912., 2912., 2912., 2912.,\n",
       "       2912., 2912., 2912., 2912., 2912., 2912.])\n",
       "Coordinates:\n",
       "    step               timedelta64[ns] 03:00:00\n",
       "    surface            int64 0\n",
       "    heightAboveGround  int64 2\n",
       "  * id                 (id) object '4101' '4102' ... '4101+4102+4103+4104+4105'"
      ]
     },
     "execution_count": 90,
     "metadata": {},
     "output_type": "execute_result"
    }
   ],
   "source": [
    "# POURQUOI OBTIENT ON LA MEME VALEUR DANS TOUS LES CAS SAUF POUR STEP=10?\n",
    "i=2\n",
    "dist_round2zones_sum_by_step_id_min.isel(step=i)[id_zone_included[i]]"
   ]
  },
  {
   "cell_type": "code",
   "execution_count": 91,
   "metadata": {
    "scrolled": true
   },
   "outputs": [
    {
     "data": {
      "image/png": "[encoded data removed]",
      "text/plain": [
       "<Figure size 864x504 with 8 Axes>"
      ]
     },
     "metadata": {
      "needs_background": "light"
     },
     "output_type": "display_data"
    }
   ],
   "source": [
    "i=45\n",
    "fig,axes = plt.subplots(nrows=2,ncols = 2,figsize=(12,7))\n",
    "ax = axes.flat\n",
    "ds_masked.isel(step=i).unknown.plot.imshow(ax=ax[0]);ax[0].set_title(\"WWMF\",fontsize=15)\n",
    "ds_masked.isel(step=i).wme_arr.plot.imshow(ax=ax[1]);ax[1].set_title(\"COMPAS\",fontsize=15)\n",
    "ds_masked_zones_hetero.isel(step=i).unknown.plot.imshow(ax=ax[2]);ax[2].set_title(zoneswinning[i]+\" WWMF\",fontsize=15)\n",
    "ds_masked_zones_hetero.isel(step=i).wme_arr.plot.imshow(ax=ax[3]);ax[3].set_title(zoneswinning[i]+\" COMPAS\",fontsize=15)\n",
    "plt.tight_layout()"
   ]
  },
  {
   "cell_type": "code",
   "execution_count": 93,
   "metadata": {
    "scrolled": false
   },
   "outputs": [
    {
     "data": {
      "text/plain": [
       "array(['4101', '4101', '4101+4102+4103+4104+4105', '4103+4104+4105+4106',\n",
       "       '4103', '4103', '4102+4103', '4106', '4103+4104+4105+4106',\n",
       "       '4104+4105+4106', '4104+4105+4106', '4105+4106',\n",
       "       '4102+4103+4104+4105+4106', '4101', '4101', '4101', '4101', '4101',\n",
       "       '4101', '4102+4103+4104+4105+4106', '4101+4102', '4101', '4101',\n",
       "       '4101', '4105', '4101', '4101', '4101', '4101',\n",
       "       '4102+4103+4104+4105', '4102+4103+4104+4105+4106', '4101', '4101',\n",
       "       '4101+4102', '4101+4102+4103+4105+4106', '4101', '4101', '4101',\n",
       "       '4102+4103+4106', '4103', '4101', '4101', '4101', '4102',\n",
       "       '4103+4104+4105+4106', '4102+4103+4104+4105+4106',\n",
       "       '4102+4103+4104+4106', '4102+4103+4104'], dtype=object)"
      ]
     },
     "execution_count": 93,
     "metadata": {},
     "output_type": "execute_result"
    }
   ],
   "source": [
    "zoneswinning"
   ]
  },
  {
   "cell_type": "code",
   "execution_count": 96,
   "metadata": {},
   "outputs": [],
   "source": [
    "# initialize\n",
    "ind_zone_distmin_round2_by_step=np.full([ds_masked_zones_hetero.dims[\"step\"]], np.nan) \n",
    "dist_round2_sum_by_step_min=np.full([ds_masked_zones_hetero.dims[\"step\"]], np.nan) \n",
    "tps_sens_round2=np.full([ds_masked_zones_hetero.dims[\"step\"]], np.nan)\n",
    "tps_sens_comp_round2=np.full([ds_masked_zones_hetero.dims[\"step\"]], np.nan)\n",
    "\n",
    "name_zone_round2=['nan']*ds_masked_zones_hetero.dims[\"step\"]"
   ]
  },
  {
   "cell_type": "code",
   "execution_count": 98,
   "metadata": {
    "scrolled": false
   },
   "outputs": [
    {
     "data": {
      "text/plain": [
       "array(2)"
      ]
     },
     "execution_count": 98,
     "metadata": {},
     "output_type": "execute_result"
    }
   ],
   "source": [
    "i=10\n",
    "distance_round2zones_comp_by_step_id.isel(step=i).argmin(\"wwmf_2\")[id_zone_included[i]][int(ind_zone_distmin_round2_by_step[i])].values        "
   ]
  },
  {
   "cell_type": "code",
   "execution_count": 181,
   "metadata": {},
   "outputs": [
    {
     "name": "stdout",
     "output_type": "stream",
     "text": [
      "Echeance 2: no further zoning within the initial winning zone 4101+4102+4103+4104+4105\n",
      "Temps sensible in any new zone: 3.0\n",
      "Temps sensible in any new complementary zone: 3.0 (Both shall be the same!) \n",
      "\n",
      "Echeance 3: no further zoning within the initial winning zone 4103+4104+4105+4106\n",
      "Temps sensible in any new zone: 3.0\n",
      "Temps sensible in any new complementary zone: 3.0 (Both shall be the same!) \n",
      "\n",
      "Echeance 6: no further zoning within the initial winning zone 4102+4103\n",
      "Temps sensible in any new zone: 5.0\n",
      "Temps sensible in any new complementary zone: 5.0 (Both shall be the same!) \n",
      "\n",
      "Echeance 8: no further zoning within the initial winning zone 4103+4104+4105+4106\n",
      "Temps sensible in any new zone: 5.0\n",
      "Temps sensible in any new complementary zone: 5.0 (Both shall be the same!) \n",
      "\n",
      "\n",
      "Echeance  10 : YES! Further zoning applies within the initial winning zone  4104+4105+4106 ,viz.: 4105+4106\n",
      "Temps sensible is: 5.0 in the new winning zone\n",
      "Temps sensible is: 2.0 in the new complementary zone \n",
      "\n",
      "Echeance 11: no further zoning within the initial winning zone 4105+4106\n",
      "Temps sensible in any new zone: 2.0\n",
      "Temps sensible in any new complementary zone: 2.0 (Both shall be the same!) \n",
      "\n",
      "Echeance 29: no further zoning within the initial winning zone 4102+4103+4104+4105\n",
      "Temps sensible in any new zone: 2.0\n",
      "Temps sensible in any new complementary zone: 2.0 (Both shall be the same!) \n",
      "\n",
      "Echeance 34: no further zoning within the initial winning zone 4101+4102+4103+4105+4106\n",
      "Temps sensible in any new zone: 5.0\n",
      "Temps sensible in any new complementary zone: 5.0 (Both shall be the same!) \n",
      "\n",
      "Echeance 38: no further zoning within the initial winning zone 4102+4103+4106\n",
      "Temps sensible in any new zone: 7.0\n",
      "Temps sensible in any new complementary zone: 7.0 (Both shall be the same!) \n",
      "\n",
      "Echeance 44: no further zoning within the initial winning zone 4103+4104+4105+4106\n",
      "Temps sensible in any new zone: 5.0\n",
      "Temps sensible in any new complementary zone: 5.0 (Both shall be the same!) \n",
      "\n",
      "Echeance 45: no further zoning within the initial winning zone 4102+4103+4104+4105+4106\n",
      "Temps sensible in any new zone: 5.0\n",
      "Temps sensible in any new complementary zone: 5.0 (Both shall be the same!) \n",
      "\n",
      "Echeance 46: no further zoning within the initial winning zone 4102+4103+4104+4106\n",
      "Temps sensible in any new zone: 5.0\n",
      "Temps sensible in any new complementary zone: 5.0 (Both shall be the same!) \n",
      "\n",
      "Echeance 47: no further zoning within the initial winning zone 4102+4103+4104\n",
      "Temps sensible in any new zone: 2.0\n",
      "Temps sensible in any new complementary zone: 2.0 (Both shall be the same!) \n",
      "\n"
     ]
    }
   ],
   "source": [
    "for i in step_zones_hetero_and_multiple:\n",
    "\n",
    "    if len(np.where(dist_round2zones_sum_by_step_id_min.isel(step=i)[id_zone_included[i]]==min(dist_round2zones_sum_by_step_id_min.isel(step=i)[id_zone_included[i]]))[0])==len(id_zone_included[i]):\n",
    "        print('Echeance '+str(i)+': no further zoning within the initial winning zone '+zoneswinning[i])\n",
    "        tps_sens_round2[i]=distance_round2zones_by_step_id.isel(step=i).argmin(\"wwmf_2\")[id_zone_included[i]].max().values\n",
    "        tps_sens_comp_round2[i]=distance_round2zones_comp_by_step_id.isel(step=i).argmin(\"wwmf_2\")[id_zone_included[i]].max().values\n",
    "        print('Temps sensible in any new zone: '+str( tps_sens_round2[i]))\n",
    "        print('Temps sensible in any new complementary zone: '+str( tps_sens_comp_round2[i]),'(Both shall be the same!)','\\n')\n",
    "    else:        \n",
    "        ind_zone_distmin_round2_by_step[i]=dist_round2zones_sum_by_step_id_min.isel(step=i)[id_zone_included[i]].argmin().values\n",
    "        dist_round2_sum_by_step_min[i]=dist_round2zones_sum_by_step_id_min.isel(step=i)[id_zone_included[i]].min().values\n",
    "               \n",
    "        tps_sens_round2[i]=distance_round2zones_by_step_id.isel(step=i).argmin(\"wwmf_2\")[id_zone_included[i]][int(ind_zone_distmin_round2_by_step[i])].values        \n",
    "        tps_sens_comp_round2[i]=distance_round2zones_comp_by_step_id.isel(step=i).argmin(\"wwmf_2\")[id_zone_included[i]][int(ind_zone_distmin_round2_by_step[i])].values        \n",
    "        \n",
    "        name_zone_round2[i]=str(dist_round2zones_sum_by_step_id_min.isel(step=i).id[id_zone_included[i]][int(ind_zone_distmin_round2_by_step[i])].values)\n",
    "        \n",
    "        print('\\nEcheance ',str(i),': YES! Further zoning applies within the initial winning zone ',zoneswinning[i],',viz.:',name_zone_round2[i])\n",
    "        print('Temps sensible is: '+str( tps_sens_round2[i]),'in the new winning zone')\n",
    "        print('Temps sensible is: '+str( tps_sens_comp_round2[i]),'in the new complementary zone','\\n')\n",
    "        "
   ]
  },
  {
   "cell_type": "markdown",
   "metadata": {},
   "source": [
    "## B. Complementary of the winning zones"
   ]
  },
  {
   "cell_type": "markdown",
   "metadata": {},
   "source": [
    "## 1. Zones for the complementary of the winning zones"
   ]
  },
  {
   "cell_type": "code",
   "execution_count": 129,
   "metadata": {},
   "outputs": [],
   "source": [
    "ds_distance_round2compzones= distance_wwmf.get_pixel_distance_dept(ds_masked_zones_comp_hetero,\"compas\") # 4D (step:48, latitude, longitude, wwmf_2)\n",
    "ds_distance_round2compzones_chunk = ds_distance_round2compzones.chunk({\"step\":1}) # 4D (step:48, latitude, longitude, wwmf_2)"
   ]
  },
  {
   "cell_type": "code",
   "execution_count": 130,
   "metadata": {},
   "outputs": [],
   "source": [
    "# je pense qu'il faut garder les da_mask_round2 ici et les da_mask_comp_round2 pour les zones complementaires\n",
    "distance_round2compzones_by_step_id = (ds_distance_round2compzones_chunk * da_mask_round2).sum(['latitude',\"longitude\"]).compute() # 3D (step:48, wwmf_2, id)\n",
    "#distance_round2compzones_comp_by_step_id"
   ]
  },
  {
   "cell_type": "markdown",
   "metadata": {},
   "source": [
    "## 2. Complementary zones for the complementary of the winning zones\n"
   ]
  },
  {
   "cell_type": "code",
   "execution_count": 131,
   "metadata": {},
   "outputs": [],
   "source": [
    "distance_round2compzones_comp_by_step_id = (ds_distance_round2compzones_chunk * da_mask_comp_round2).sum(['latitude',\"longitude\"]).compute()"
   ]
  },
  {
   "cell_type": "markdown",
   "metadata": {},
   "source": [
    "## 3. Quelques verifications avant de faire l'analyse"
   ]
  },
  {
   "cell_type": "code",
   "execution_count": 151,
   "metadata": {},
   "outputs": [],
   "source": [
    "# on genere la liste des zone complementaire winning\n",
    "indivi_zones=['4101','4102','4103','4104','4105','4106']\n",
    "zoneswinning_comp=['']*len(zoneswinning)"
   ]
  },
  {
   "cell_type": "code",
   "execution_count": 170,
   "metadata": {},
   "outputs": [],
   "source": [
    "for ii,i in enumerate(zoneswinning):\n",
    "    tmp=[]\n",
    "    for j in indivi_zones:\n",
    "        if j not in i.split(\"+\"):            \n",
    "            tmp.append(j)\n",
    "    zoneswinning_comp[ii]='+'.join(tmp)\n",
    "zoneswinning_comp=np.asarray(zoneswinning_comp)"
   ]
  },
  {
   "cell_type": "code",
   "execution_count": 175,
   "metadata": {},
   "outputs": [
    {
     "data": {
      "text/plain": [
       "array(['4101+4102', '4101+4102+4104+4105+4106',\n",
       "       '4101+4102+4104+4105+4106', '4101+4104+4105+4106',\n",
       "       '4101+4102+4103+4104+4105', '4101+4102+4103', '4101+4102+4103',\n",
       "       '4102+4103+4104+4105+4106', '4102+4103+4104+4105+4106',\n",
       "       '4102+4103+4104+4105+4106', '4102+4103+4104+4105+4106',\n",
       "       '4101+4106', '4102+4103+4104+4105+4106', '4103+4104+4105+4106',\n",
       "       '4102+4103+4104+4105+4106', '4101+4104+4105', '4101+4102',\n",
       "       '4101+4105', '4101+4105+4106'], dtype='<U24')"
      ]
     },
     "execution_count": 175,
     "metadata": {},
     "output_type": "execute_result"
    }
   ],
   "source": [
    "zoneswinning_comp[step_zones_comp_hetero_and_multiple]"
   ]
  },
  {
   "cell_type": "code",
   "execution_count": 161,
   "metadata": {},
   "outputs": [
    {
     "data": {
      "text/plain": [
       "array([ 3,  4,  5,  6,  7,  9, 10, 14, 21, 27, 28, 29, 32, 33, 35, 38, 44,\n",
       "       46, 47])"
      ]
     },
     "execution_count": 161,
     "metadata": {},
     "output_type": "execute_result"
    }
   ],
   "source": [
    "# rappel des echeances à considérer \n",
    "step_zones_comp_hetero_and_multiple"
   ]
  },
  {
   "cell_type": "code",
   "execution_count": 172,
   "metadata": {},
   "outputs": [],
   "source": [
    "# find the id of the subset of zones included in the COMPLEMENTARY winning zone for each echeance step when round 2 is applicable\n",
    "id_compzone_included=[np.nan]*ds_masked.dims['step']\n",
    "\n",
    "for i in step_zones_comp_hetero_and_multiple:\n",
    "    id_compzone_included[i]=np.where([set(val.split(\"+\")).issubset(zoneswinning_comp[i].split(\"+\")) for val in da_mask.id.values.tolist()])[0]"
   ]
  },
  {
   "cell_type": "code",
   "execution_count": 177,
   "metadata": {},
   "outputs": [
    {
     "data": {
      "text/plain": [
       "['4101', '4105', '4106', '4105+4106']"
      ]
     },
     "execution_count": 177,
     "metadata": {},
     "output_type": "execute_result"
    }
   ],
   "source": [
    "# verify that this works well by comparing one zone and the corresponding subzones\n",
    "zoneswinning_comp[47]\n",
    "[da_mask.id.values.tolist()[i] for i in id_compzone_included[47]]"
   ]
  },
  {
   "cell_type": "markdown",
   "metadata": {},
   "source": [
    "## On fait l'analyse"
   ]
  },
  {
   "cell_type": "code",
   "execution_count": 178,
   "metadata": {
    "scrolled": true
   },
   "outputs": [
    {
     "data": {
      "text/plain": [
       "<matplotlib.image.AxesImage at 0x12df6c2b0>"
      ]
     },
     "execution_count": 178,
     "metadata": {},
     "output_type": "execute_result"
    },
    {
     "data": {
      "image/png": "[encoded data removed]",
      "text/plain": [
       "<Figure size 432x288 with 1 Axes>"
      ]
     },
     "metadata": {
      "needs_background": "light"
     },
     "output_type": "display_data"
    }
   ],
   "source": [
    "distance_round2compzones_by_step_id_min=distance_round2compzones_by_step_id.min(\"wwmf_2\")\n",
    "\n",
    "distance_round2compzones_comp_by_step_id_min=distance_round2compzones_comp_by_step_id.min(\"wwmf_2\")\n",
    "\n",
    "dist_round2compzones_sum_by_step_id_min=distance_round2compzones_by_step_id_min+distance_round2compzones_comp_by_step_id_min\n",
    "\n",
    "plt.imshow(dist_round2compzones_sum_by_step_id_min)"
   ]
  },
  {
   "cell_type": "code",
   "execution_count": 179,
   "metadata": {},
   "outputs": [
    {
     "data": {
      "text/plain": [
       "array([ 3,  4,  5,  6,  7,  9, 10, 14, 21, 27, 28, 29, 32, 33, 35, 38, 44,\n",
       "       46, 47])"
      ]
     },
     "execution_count": 179,
     "metadata": {},
     "output_type": "execute_result"
    }
   ],
   "source": [
    "step_zones_comp_hetero_and_multiple"
   ]
  },
  {
   "cell_type": "code",
   "execution_count": 182,
   "metadata": {},
   "outputs": [],
   "source": [
    "# initialize\n",
    "ind_compzone_distmin_round2_by_step=np.full([ds_masked_zones_comp_hetero.dims[\"step\"]], np.nan)  \n",
    "dist_comp_round2_sum_by_step_min=np.full([ds_masked_zones_comp_hetero.dims[\"step\"]], np.nan) \n",
    "tps_sens_comp_round2=np.full([ds_masked_zones_comp_hetero.dims[\"step\"]], np.nan)\n",
    "tps_sens_comp_of_comp_round2=np.full([ds_masked_zones_hetero.dims[\"step\"]], np.nan)\n",
    "\n",
    "name_compzone_round2=['nan']*ds_masked_zones_hetero.dims[\"step\"]"
   ]
  },
  {
   "cell_type": "code",
   "execution_count": 186,
   "metadata": {},
   "outputs": [
    {
     "name": "stdout",
     "output_type": "stream",
     "text": [
      "\n",
      "Echeance  3 : YES! Further zoning applies within the initial winning zone  4101+4102 ,viz.: 4102\n",
      "Temps sensible is: 1.0 in the new winning zone\n",
      "Temps sensible is: 5.0 in the new complementary zone \n",
      "\n",
      "\n",
      "Echeance  4 : YES! Further zoning applies within the initial winning zone  4101+4102+4104+4105+4106 ,viz.: 4101\n",
      "Temps sensible is: 5.0 in the new winning zone\n",
      "Temps sensible is: 2.0 in the new complementary zone \n",
      "\n",
      "\n",
      "Echeance  5 : YES! Further zoning applies within the initial winning zone  4101+4102+4104+4105+4106 ,viz.: 4101+4102\n",
      "Temps sensible is: 3.0 in the new winning zone\n",
      "Temps sensible is: 2.0 in the new complementary zone \n",
      "\n",
      "\n",
      "Echeance  6 : YES! Further zoning applies within the initial winning zone  4101+4104+4105+4106 ,viz.: 4105+4106\n",
      "Temps sensible is: 2.0 in the new winning zone\n",
      "Temps sensible is: 3.0 in the new complementary zone \n",
      "\n",
      "Echeance 7: no further zoning within the initial complementary winning zone 4101+4102+4103+4104+4105\n",
      "Temps sensible in any new zone (of the complementary): 5.0\n",
      "Temps sensible in any new complementary zone (of the complementary): 5.0 (Both shall be the same!) \n",
      "\n",
      "\n",
      "Echeance  9 : YES! Further zoning applies within the initial winning zone  4101+4102+4103 ,viz.: 4103\n",
      "Temps sensible is: 2.0 in the new winning zone\n",
      "Temps sensible is: 3.0 in the new complementary zone \n",
      "\n",
      "\n",
      "Echeance  10 : YES! Further zoning applies within the initial winning zone  4101+4102+4103 ,viz.: 4101+4102\n",
      "Temps sensible is: 3.0 in the new winning zone\n",
      "Temps sensible is: 2.0 in the new complementary zone \n",
      "\n",
      "Echeance 14: no further zoning within the initial complementary winning zone 4102+4103+4104+4105+4106\n",
      "Temps sensible in any new zone (of the complementary): 2.0\n",
      "Temps sensible in any new complementary zone (of the complementary): 2.0 (Both shall be the same!) \n",
      "\n",
      "Echeance 21: no further zoning within the initial complementary winning zone 4102+4103+4104+4105+4106\n",
      "Temps sensible in any new zone (of the complementary): 5.0\n",
      "Temps sensible in any new complementary zone (of the complementary): 5.0 (Both shall be the same!) \n",
      "\n",
      "Echeance 27: no further zoning within the initial complementary winning zone 4102+4103+4104+4105+4106\n",
      "Temps sensible in any new zone (of the complementary): 5.0\n",
      "Temps sensible in any new complementary zone (of the complementary): 5.0 (Both shall be the same!) \n",
      "\n",
      "Echeance 28: no further zoning within the initial complementary winning zone 4102+4103+4104+4105+4106\n",
      "Temps sensible in any new zone (of the complementary): 5.0\n",
      "Temps sensible in any new complementary zone (of the complementary): 5.0 (Both shall be the same!) \n",
      "\n",
      "Echeance 29: no further zoning within the initial complementary winning zone 4101+4106\n",
      "Temps sensible in any new zone (of the complementary): 5.0\n",
      "Temps sensible in any new complementary zone (of the complementary): 5.0 (Both shall be the same!) \n",
      "\n",
      "Echeance 32: no further zoning within the initial complementary winning zone 4102+4103+4104+4105+4106\n",
      "Temps sensible in any new zone (of the complementary): 2.0\n",
      "Temps sensible in any new complementary zone (of the complementary): 2.0 (Both shall be the same!) \n",
      "\n",
      "Echeance 33: no further zoning within the initial complementary winning zone 4103+4104+4105+4106\n",
      "Temps sensible in any new zone (of the complementary): 2.0\n",
      "Temps sensible in any new complementary zone (of the complementary): 2.0 (Both shall be the same!) \n",
      "\n",
      "Echeance 35: no further zoning within the initial complementary winning zone 4102+4103+4104+4105+4106\n",
      "Temps sensible in any new zone (of the complementary): 5.0\n",
      "Temps sensible in any new complementary zone (of the complementary): 5.0 (Both shall be the same!) \n",
      "\n",
      "Echeance 38: no further zoning within the initial complementary winning zone 4101+4104+4105\n",
      "Temps sensible in any new zone (of the complementary): 5.0\n",
      "Temps sensible in any new complementary zone (of the complementary): 5.0 (Both shall be the same!) \n",
      "\n",
      "Echeance 44: no further zoning within the initial complementary winning zone 4101+4102\n",
      "Temps sensible in any new zone (of the complementary): 2.0\n",
      "Temps sensible in any new complementary zone (of the complementary): 2.0 (Both shall be the same!) \n",
      "\n",
      "Echeance 46: no further zoning within the initial complementary winning zone 4101+4105\n",
      "Temps sensible in any new zone (of the complementary): 2.0\n",
      "Temps sensible in any new complementary zone (of the complementary): 2.0 (Both shall be the same!) \n",
      "\n",
      "Echeance 47: no further zoning within the initial complementary winning zone 4101+4105+4106\n",
      "Temps sensible in any new zone (of the complementary): 5.0\n",
      "Temps sensible in any new complementary zone (of the complementary): 5.0 (Both shall be the same!) \n",
      "\n"
     ]
    }
   ],
   "source": [
    "for i in step_zones_comp_hetero_and_multiple:\n",
    "\n",
    "    if len(np.where(dist_round2compzones_sum_by_step_id_min.isel(step=i)[id_compzone_included[i]]==min(dist_round2compzones_sum_by_step_id_min.isel(step=i)[id_compzone_included[i]]))[0])==len(id_compzone_included[i]):\n",
    "        print('Echeance '+str(i)+': no further zoning within the initial complementary winning zone '+zoneswinning_comp[i])\n",
    "        tps_sens_comp_round2[i]=distance_round2compzones_by_step_id.isel(step=i).argmin(\"wwmf_2\")[id_compzone_included[i]].max().values\n",
    "        tps_sens_comp_of_comp_round2[i]=distance_round2compzones_comp_by_step_id.isel(step=i).argmin(\"wwmf_2\")[id_compzone_included[i]].max().values\n",
    "        print('Temps sensible in any new zone (of the complementary): '+str( tps_sens_comp_round2[i]))\n",
    "        print('Temps sensible in any new complementary zone (of the complementary): '+str( tps_sens_comp_of_comp_round2[i]),'(Both shall be the same!)','\\n')\n",
    "    else:        \n",
    "        ind_compzone_distmin_round2_by_step[i]=dist_round2compzones_sum_by_step_id_min.isel(step=i)[id_compzone_included[i]].argmin().values\n",
    "        dist_comp_round2_sum_by_step_min[i]=dist_round2compzones_sum_by_step_id_min.isel(step=i)[id_compzone_included[i]].min().values\n",
    "               \n",
    "        tps_sens_comp_round2[i]=distance_round2compzones_by_step_id.isel(step=i).argmin(\"wwmf_2\")[id_compzone_included[i]][int(ind_compzone_distmin_round2_by_step[i])].values        \n",
    "        tps_sens_comp_of_comp_round2[i]=distance_round2compzones_comp_by_step_id.isel(step=i).argmin(\"wwmf_2\")[id_compzone_included[i]][int(ind_compzone_distmin_round2_by_step[i])].values        \n",
    "        \n",
    "        name_compzone_round2[i]=str(dist_round2compzones_sum_by_step_id_min.isel(step=i).id[id_compzone_included[i]][int(ind_compzone_distmin_round2_by_step[i])].values)\n",
    "        \n",
    "        print('\\nEcheance ',str(i),': YES! Further zoning applies within the initial winning zone ',zoneswinning_comp[i],',viz.:',name_compzone_round2[i])\n",
    "        print('Temps sensible is: '+str( tps_sens_comp_round2[i]),'in the new winning zone')\n",
    "        print('Temps sensible is: '+str( tps_sens_comp_of_comp_round2[i]),'in the new complementary zone','\\n')\n",
    "        "
   ]
  },
  {
   "cell_type": "markdown",
   "metadata": {},
   "source": [
    "## (A priori plus nécessaire et anciennement dans la section A) Tentative de travailler par echeance en utilisant seulement les masks nécessaires"
   ]
  },
  {
   "cell_type": "code",
   "execution_count": null,
   "metadata": {},
   "outputs": [],
   "source": [
    "# test sur l'echeance 2:\n",
    "ds_distance_round2zones = distance_wwmf.get_pixel_distance_dept(ds_masked_zones_hetero,\"compas\") # 4D (step:48, latitude, longitude, wwmf_2)"
   ]
  },
  {
   "cell_type": "code",
   "execution_count": 208,
   "metadata": {
    "scrolled": true
   },
   "outputs": [
    {
     "data": {
      "text/plain": [
       "<matplotlib.image.AxesImage at 0x11b712250>"
      ]
     },
     "execution_count": 208,
     "metadata": {},
     "output_type": "execute_result"
    },
    {
     "data": {
      "image/png": "[encoded data removed]",
      "text/plain": [
       "<Figure size 432x288 with 2 Axes>"
      ]
     },
     "metadata": {
      "needs_background": "light"
     },
     "output_type": "display_data"
    }
   ],
   "source": [
    "ds_masked_zones_hetero.isel(step=2).unknown.plot.imshow()"
   ]
  },
  {
   "cell_type": "code",
   "execution_count": 215,
   "metadata": {
    "scrolled": false
   },
   "outputs": [
    {
     "data": {
      "text/plain": [
       "<matplotlib.image.AxesImage at 0x11a4b1850>"
      ]
     },
     "execution_count": 215,
     "metadata": {},
     "output_type": "execute_result"
    },
    {
     "data": {
      "image/png": "[encoded data removed]",
      "text/plain": [
       "<Figure size 432x288 with 2 Axes>"
      ]
     },
     "metadata": {
      "needs_background": "light"
     },
     "output_type": "display_data"
    }
   ],
   "source": [
    "ds_distance_round2zones.isel(step=2).isel(wwmf_2=16).plot.imshow()"
   ]
  },
  {
   "cell_type": "code",
   "execution_count": 220,
   "metadata": {
    "scrolled": true
   },
   "outputs": [
    {
     "data": {
      "image/png": "[encoded data removed]",
      "text/plain": [
       "<Figure size 864x504 with 30 Axes>"
      ]
     },
     "metadata": {
      "needs_background": "light"
     },
     "output_type": "display_data"
    }
   ],
   "source": [
    "i=2\n",
    "fig,axes = plt.subplots(nrows=5,ncols = 3,figsize=(12,7))\n",
    "ax = axes.flat\n",
    "\n",
    "for ii,i in enumerate(id_zone_included[i]):\n",
    "    da_mask_round2.isel(id=i).plot.imshow(ax=ax[ii]);ax[ii].set_title(da_mask.id.values.tolist()[i],fontsize=15)\n",
    "    \n",
    "plt.tight_layout()"
   ]
  },
  {
   "cell_type": "code",
   "execution_count": 224,
   "metadata": {},
   "outputs": [],
   "source": [
    "toto=da_mask_round2.isel(id=id_zone_included[2])\n",
    "#toto.id"
   ]
  },
  {
   "cell_type": "code",
   "execution_count": 225,
   "metadata": {
    "scrolled": true
   },
   "outputs": [
    {
     "data": {
      "image/png": "[encoded data removed]",
      "text/plain": [
       "<Figure size 864x504 with 30 Axes>"
      ]
     },
     "metadata": {
      "needs_background": "light"
     },
     "output_type": "display_data"
    }
   ],
   "source": [
    "i=2\n",
    "fig,axes = plt.subplots(nrows=5,ncols = 3,figsize=(12,7))\n",
    "ax = axes.flat\n",
    "\n",
    "for ii,i in enumerate(id_zone_included[i]):\n",
    "    da_mask_comp_round2.isel(id=i).plot.imshow(ax=ax[ii]);ax[ii].set_title(da_mask.id.values.tolist()[i],fontsize=15)\n",
    "    \n",
    "plt.tight_layout()"
   ]
  },
  {
   "cell_type": "code",
   "execution_count": 227,
   "metadata": {},
   "outputs": [],
   "source": [
    "toto_comp=da_mask_comp_round2.isel(id=id_zone_included[2])\n",
    "#toto_comp.id"
   ]
  },
  {
   "cell_type": "code",
   "execution_count": 234,
   "metadata": {},
   "outputs": [],
   "source": [
    "# La nouveauté est ici!!! (on perd la dimension echeance:step)\n",
    "distance_toto_by_id = (ds_distance_round2zones_chunk.isel(step=2) * toto).sum(['latitude',\"longitude\"]).compute() # 2D (wwmf_2, id)"
   ]
  },
  {
   "cell_type": "code",
   "execution_count": 235,
   "metadata": {},
   "outputs": [],
   "source": [
    "distance_toto_comp_by_id = (ds_distance_round2zones_chunk.isel(step=2) * toto_comp).sum(['latitude',\"longitude\"]).compute() # 2D (wwmf_2, id)"
   ]
  },
  {
   "cell_type": "code",
   "execution_count": 241,
   "metadata": {},
   "outputs": [
    {
     "data": {
      "text/html": [
       "<pre>&lt;xarray.DataArray (id: 15)&gt;\n",
       "array([1454.,  472.,  850.,   43.,  163., 1906., 1280.,  885.,  206.,\n",
       "       2714., 1315., 1048., 2749., 1478., 2912.])\n",
       "Coordinates:\n",
       "    step               timedelta64[ns] 03:00:00\n",
       "    surface            int64 0\n",
       "    heightAboveGround  int64 2\n",
       "  * id                 (id) object &#x27;4101&#x27; &#x27;4102&#x27; ... &#x27;4101+4102+4103+4104+4105&#x27;</pre>"
      ],
      "text/plain": [
       "<xarray.DataArray (id: 15)>\n",
       "array([1454.,  472.,  850.,   43.,  163., 1906., 1280.,  885.,  206.,\n",
       "       2714., 1315., 1048., 2749., 1478., 2912.])\n",
       "Coordinates:\n",
       "    step               timedelta64[ns] 03:00:00\n",
       "    surface            int64 0\n",
       "    heightAboveGround  int64 2\n",
       "  * id                 (id) object '4101' '4102' ... '4101+4102+4103+4104+4105'"
      ]
     },
     "execution_count": 241,
     "metadata": {},
     "output_type": "execute_result"
    }
   ],
   "source": [
    "distance_toto_by_id.min(\"wwmf_2\")"
   ]
  },
  {
   "cell_type": "code",
   "execution_count": 242,
   "metadata": {},
   "outputs": [
    {
     "data": {
      "text/html": [
       "<pre>&lt;xarray.DataArray (id: 15)&gt;\n",
       "array([1458., 2440., 2062., 2869., 2749., 1006., 1632., 2027., 2706.,\n",
       "        198., 1597., 1864.,  163., 1434.,    0.])\n",
       "Coordinates:\n",
       "    step               timedelta64[ns] 03:00:00\n",
       "    surface            int64 0\n",
       "    heightAboveGround  int64 2\n",
       "  * id                 (id) object &#x27;4101&#x27; &#x27;4102&#x27; ... &#x27;4101+4102+4103+4104+4105&#x27;</pre>"
      ],
      "text/plain": [
       "<xarray.DataArray (id: 15)>\n",
       "array([1458., 2440., 2062., 2869., 2749., 1006., 1632., 2027., 2706.,\n",
       "        198., 1597., 1864.,  163., 1434.,    0.])\n",
       "Coordinates:\n",
       "    step               timedelta64[ns] 03:00:00\n",
       "    surface            int64 0\n",
       "    heightAboveGround  int64 2\n",
       "  * id                 (id) object '4101' '4102' ... '4101+4102+4103+4104+4105'"
      ]
     },
     "execution_count": 242,
     "metadata": {},
     "output_type": "execute_result"
    }
   ],
   "source": [
    "distance_toto_comp_by_id.min(\"wwmf_2\")"
   ]
  },
  {
   "cell_type": "code",
   "execution_count": 243,
   "metadata": {
    "scrolled": true
   },
   "outputs": [
    {
     "data": {
      "text/html": [
       "<pre>&lt;xarray.DataArray (id: 15)&gt;\n",
       "array([2912., 2912., 2912., 2912., 2912., 2912., 2912., 2912., 2912.,\n",
       "       2912., 2912., 2912., 2912., 2912., 2912.])\n",
       "Coordinates:\n",
       "    step               timedelta64[ns] 03:00:00\n",
       "    surface            int64 0\n",
       "    heightAboveGround  int64 2\n",
       "  * id                 (id) object &#x27;4101&#x27; &#x27;4102&#x27; ... &#x27;4101+4102+4103+4104+4105&#x27;</pre>"
      ],
      "text/plain": [
       "<xarray.DataArray (id: 15)>\n",
       "array([2912., 2912., 2912., 2912., 2912., 2912., 2912., 2912., 2912.,\n",
       "       2912., 2912., 2912., 2912., 2912., 2912.])\n",
       "Coordinates:\n",
       "    step               timedelta64[ns] 03:00:00\n",
       "    surface            int64 0\n",
       "    heightAboveGround  int64 2\n",
       "  * id                 (id) object '4101' '4102' ... '4101+4102+4103+4104+4105'"
      ]
     },
     "execution_count": 243,
     "metadata": {},
     "output_type": "execute_result"
    }
   ],
   "source": [
    "distance_toto_by_id.min(\"wwmf_2\")+distance_toto_comp_by_id.min(\"wwmf_2\")"
   ]
  },
  {
   "cell_type": "markdown",
   "metadata": {},
   "source": [
    "On obtient toujours ce résultat qui ne permet pas de choisir entre les zones donc il faut conclure que dans ce cas, ce deuxième round n aide pas"
   ]
  },
  {
   "cell_type": "markdown",
   "metadata": {},
   "source": [
    "# Checking on Loir et Cher (FRB05)"
   ]
  },
  {
   "cell_type": "code",
   "execution_count": 284,
   "metadata": {},
   "outputs": [
    {
     "data": {
      "text/html": [
       "<pre>&lt;xarray.DataArray (step: 48, latitude: 93, longitude: 164, wwmf_2: 19)&gt;\n",
       "array([[[[0., 0., 0., ..., 0., 0., 0.],\n",
       "         [0., 0., 0., ..., 0., 0., 0.],\n",
       "         [0., 0., 0., ..., 0., 0., 0.],\n",
       "         ...,\n",
       "         [0., 0., 0., ..., 0., 0., 0.],\n",
       "         [0., 0., 0., ..., 0., 0., 0.],\n",
       "         [0., 0., 0., ..., 0., 0., 0.]],\n",
       "\n",
       "        [[0., 0., 0., ..., 0., 0., 0.],\n",
       "         [0., 0., 0., ..., 0., 0., 0.],\n",
       "         [0., 0., 0., ..., 0., 0., 0.],\n",
       "         ...,\n",
       "         [0., 0., 0., ..., 0., 0., 0.],\n",
       "         [0., 0., 0., ..., 0., 0., 0.],\n",
       "         [0., 0., 0., ..., 0., 0., 0.]],\n",
       "\n",
       "        [[0., 0., 0., ..., 0., 0., 0.],\n",
       "         [0., 0., 0., ..., 0., 0., 0.],\n",
       "         [0., 0., 0., ..., 0., 0., 0.],\n",
       "         ...,\n",
       "         [0., 0., 0., ..., 0., 0., 0.],\n",
       "         [0., 0., 0., ..., 0., 0., 0.],\n",
       "         [0., 0., 0., ..., 0., 0., 0.]],\n",
       "\n",
       "        ...,\n",
       "\n",
       "        [[0., 0., 0., ..., 0., 0., 0.],\n",
       "         [0., 0., 0., ..., 0., 0., 0.],\n",
       "         [0., 0., 0., ..., 0., 0., 0.],\n",
       "         ...,\n",
       "         [0., 0., 0., ..., 0., 0., 0.],\n",
       "         [0., 0., 0., ..., 0., 0., 0.],\n",
       "         [0., 0., 0., ..., 0., 0., 0.]],\n",
       "\n",
       "        [[0., 0., 0., ..., 0., 0., 0.],\n",
       "         [0., 0., 0., ..., 0., 0., 0.],\n",
       "         [0., 0., 0., ..., 0., 0., 0.],\n",
       "         ...,\n",
       "         [0., 0., 0., ..., 0., 0., 0.],\n",
       "         [0., 0., 0., ..., 0., 0., 0.],\n",
       "         [0., 0., 0., ..., 0., 0., 0.]],\n",
       "\n",
       "        [[0., 0., 0., ..., 0., 0., 0.],\n",
       "         [0., 0., 0., ..., 0., 0., 0.],\n",
       "         [0., 0., 0., ..., 0., 0., 0.],\n",
       "         ...,\n",
       "         [0., 0., 0., ..., 0., 0., 0.],\n",
       "         [0., 0., 0., ..., 0., 0., 0.],\n",
       "         [0., 0., 0., ..., 0., 0., 0.]]],\n",
       "\n",
       "\n",
       "       [[[0., 0., 0., ..., 0., 0., 0.],\n",
       "         [0., 0., 0., ..., 0., 0., 0.],\n",
       "         [0., 0., 0., ..., 0., 0., 0.],\n",
       "         ...,\n",
       "         [0., 0., 0., ..., 0., 0., 0.],\n",
       "         [0., 0., 0., ..., 0., 0., 0.],\n",
       "         [0., 0., 0., ..., 0., 0., 0.]],\n",
       "\n",
       "        [[0., 0., 0., ..., 0., 0., 0.],\n",
       "         [0., 0., 0., ..., 0., 0., 0.],\n",
       "         [0., 0., 0., ..., 0., 0., 0.],\n",
       "         ...,\n",
       "         [0., 0., 0., ..., 0., 0., 0.],\n",
       "         [0., 0., 0., ..., 0., 0., 0.],\n",
       "         [0., 0., 0., ..., 0., 0., 0.]],\n",
       "\n",
       "        [[0., 0., 0., ..., 0., 0., 0.],\n",
       "         [0., 0., 0., ..., 0., 0., 0.],\n",
       "         [0., 0., 0., ..., 0., 0., 0.],\n",
       "         ...,\n",
       "         [0., 0., 0., ..., 0., 0., 0.],\n",
       "         [0., 0., 0., ..., 0., 0., 0.],\n",
       "         [0., 0., 0., ..., 0., 0., 0.]],\n",
       "\n",
       "        ...,\n",
       "\n",
       "        [[0., 0., 0., ..., 0., 0., 0.],\n",
       "         [0., 0., 0., ..., 0., 0., 0.],\n",
       "         [0., 0., 0., ..., 0., 0., 0.],\n",
       "         ...,\n",
       "         [0., 0., 0., ..., 0., 0., 0.],\n",
       "         [0., 0., 0., ..., 0., 0., 0.],\n",
       "         [0., 0., 0., ..., 0., 0., 0.]],\n",
       "\n",
       "        [[0., 0., 0., ..., 0., 0., 0.],\n",
       "         [0., 0., 0., ..., 0., 0., 0.],\n",
       "         [0., 0., 0., ..., 0., 0., 0.],\n",
       "         ...,\n",
       "         [0., 0., 0., ..., 0., 0., 0.],\n",
       "         [0., 0., 0., ..., 0., 0., 0.],\n",
       "         [0., 0., 0., ..., 0., 0., 0.]],\n",
       "\n",
       "        [[0., 0., 0., ..., 0., 0., 0.],\n",
       "         [0., 0., 0., ..., 0., 0., 0.],\n",
       "         [0., 0., 0., ..., 0., 0., 0.],\n",
       "         ...,\n",
       "         [0., 0., 0., ..., 0., 0., 0.],\n",
       "         [0., 0., 0., ..., 0., 0., 0.],\n",
       "         [0., 0., 0., ..., 0., 0., 0.]]],\n",
       "\n",
       "\n",
       "       [[[0., 0., 0., ..., 0., 0., 0.],\n",
       "         [0., 0., 0., ..., 0., 0., 0.],\n",
       "         [0., 0., 0., ..., 0., 0., 0.],\n",
       "         ...,\n",
       "         [0., 0., 0., ..., 0., 0., 0.],\n",
       "         [0., 0., 0., ..., 0., 0., 0.],\n",
       "         [0., 0., 0., ..., 0., 0., 0.]],\n",
       "\n",
       "        [[0., 0., 0., ..., 0., 0., 0.],\n",
       "         [0., 0., 0., ..., 0., 0., 0.],\n",
       "         [0., 0., 0., ..., 0., 0., 0.],\n",
       "         ...,\n",
       "         [0., 0., 0., ..., 0., 0., 0.],\n",
       "         [0., 0., 0., ..., 0., 0., 0.],\n",
       "         [0., 0., 0., ..., 0., 0., 0.]],\n",
       "\n",
       "        [[0., 0., 0., ..., 0., 0., 0.],\n",
       "         [0., 0., 0., ..., 0., 0., 0.],\n",
       "         [0., 0., 0., ..., 0., 0., 0.],\n",
       "         ...,\n",
       "         [0., 0., 0., ..., 0., 0., 0.],\n",
       "         [0., 0., 0., ..., 0., 0., 0.],\n",
       "         [0., 0., 0., ..., 0., 0., 0.]],\n",
       "\n",
       "        ...,\n",
       "\n",
       "        [[0., 0., 0., ..., 0., 0., 0.],\n",
       "         [0., 0., 0., ..., 0., 0., 0.],\n",
       "         [0., 0., 0., ..., 0., 0., 0.],\n",
       "         ...,\n",
       "         [0., 0., 0., ..., 0., 0., 0.],\n",
       "         [0., 0., 0., ..., 0., 0., 0.],\n",
       "         [0., 0., 0., ..., 0., 0., 0.]],\n",
       "\n",
       "        [[0., 0., 0., ..., 0., 0., 0.],\n",
       "         [0., 0., 0., ..., 0., 0., 0.],\n",
       "         [0., 0., 0., ..., 0., 0., 0.],\n",
       "         ...,\n",
       "         [0., 0., 0., ..., 0., 0., 0.],\n",
       "         [0., 0., 0., ..., 0., 0., 0.],\n",
       "         [0., 0., 0., ..., 0., 0., 0.]],\n",
       "\n",
       "        [[0., 0., 0., ..., 0., 0., 0.],\n",
       "         [0., 0., 0., ..., 0., 0., 0.],\n",
       "         [0., 0., 0., ..., 0., 0., 0.],\n",
       "         ...,\n",
       "         [0., 0., 0., ..., 0., 0., 0.],\n",
       "         [0., 0., 0., ..., 0., 0., 0.],\n",
       "         [0., 0., 0., ..., 0., 0., 0.]]],\n",
       "\n",
       "\n",
       "       ...,\n",
       "\n",
       "\n",
       "       [[[0., 0., 0., ..., 0., 0., 0.],\n",
       "         [0., 0., 0., ..., 0., 0., 0.],\n",
       "         [0., 0., 0., ..., 0., 0., 0.],\n",
       "         ...,\n",
       "         [0., 0., 0., ..., 0., 0., 0.],\n",
       "         [0., 0., 0., ..., 0., 0., 0.],\n",
       "         [0., 0., 0., ..., 0., 0., 0.]],\n",
       "\n",
       "        [[0., 0., 0., ..., 0., 0., 0.],\n",
       "         [0., 0., 0., ..., 0., 0., 0.],\n",
       "         [0., 0., 0., ..., 0., 0., 0.],\n",
       "         ...,\n",
       "         [0., 0., 0., ..., 0., 0., 0.],\n",
       "         [0., 0., 0., ..., 0., 0., 0.],\n",
       "         [0., 0., 0., ..., 0., 0., 0.]],\n",
       "\n",
       "        [[0., 0., 0., ..., 0., 0., 0.],\n",
       "         [0., 0., 0., ..., 0., 0., 0.],\n",
       "         [0., 0., 0., ..., 0., 0., 0.],\n",
       "         ...,\n",
       "         [0., 0., 0., ..., 0., 0., 0.],\n",
       "         [0., 0., 0., ..., 0., 0., 0.],\n",
       "         [0., 0., 0., ..., 0., 0., 0.]],\n",
       "\n",
       "        ...,\n",
       "\n",
       "        [[0., 0., 0., ..., 0., 0., 0.],\n",
       "         [0., 0., 0., ..., 0., 0., 0.],\n",
       "         [0., 0., 0., ..., 0., 0., 0.],\n",
       "         ...,\n",
       "         [0., 0., 0., ..., 0., 0., 0.],\n",
       "         [0., 0., 0., ..., 0., 0., 0.],\n",
       "         [0., 0., 0., ..., 0., 0., 0.]],\n",
       "\n",
       "        [[0., 0., 0., ..., 0., 0., 0.],\n",
       "         [0., 0., 0., ..., 0., 0., 0.],\n",
       "         [0., 0., 0., ..., 0., 0., 0.],\n",
       "         ...,\n",
       "         [0., 0., 0., ..., 0., 0., 0.],\n",
       "         [0., 0., 0., ..., 0., 0., 0.],\n",
       "         [0., 0., 0., ..., 0., 0., 0.]],\n",
       "\n",
       "        [[0., 0., 0., ..., 0., 0., 0.],\n",
       "         [0., 0., 0., ..., 0., 0., 0.],\n",
       "         [0., 0., 0., ..., 0., 0., 0.],\n",
       "         ...,\n",
       "         [0., 0., 0., ..., 0., 0., 0.],\n",
       "         [0., 0., 0., ..., 0., 0., 0.],\n",
       "         [0., 0., 0., ..., 0., 0., 0.]]],\n",
       "\n",
       "\n",
       "       [[[0., 0., 0., ..., 0., 0., 0.],\n",
       "         [0., 0., 0., ..., 0., 0., 0.],\n",
       "         [0., 0., 0., ..., 0., 0., 0.],\n",
       "         ...,\n",
       "         [0., 0., 0., ..., 0., 0., 0.],\n",
       "         [0., 0., 0., ..., 0., 0., 0.],\n",
       "         [0., 0., 0., ..., 0., 0., 0.]],\n",
       "\n",
       "        [[0., 0., 0., ..., 0., 0., 0.],\n",
       "         [0., 0., 0., ..., 0., 0., 0.],\n",
       "         [0., 0., 0., ..., 0., 0., 0.],\n",
       "         ...,\n",
       "         [0., 0., 0., ..., 0., 0., 0.],\n",
       "         [0., 0., 0., ..., 0., 0., 0.],\n",
       "         [0., 0., 0., ..., 0., 0., 0.]],\n",
       "\n",
       "        [[0., 0., 0., ..., 0., 0., 0.],\n",
       "         [0., 0., 0., ..., 0., 0., 0.],\n",
       "         [0., 0., 0., ..., 0., 0., 0.],\n",
       "         ...,\n",
       "         [0., 0., 0., ..., 0., 0., 0.],\n",
       "         [0., 0., 0., ..., 0., 0., 0.],\n",
       "         [0., 0., 0., ..., 0., 0., 0.]],\n",
       "\n",
       "        ...,\n",
       "\n",
       "        [[0., 0., 0., ..., 0., 0., 0.],\n",
       "         [0., 0., 0., ..., 0., 0., 0.],\n",
       "         [0., 0., 0., ..., 0., 0., 0.],\n",
       "         ...,\n",
       "         [0., 0., 0., ..., 0., 0., 0.],\n",
       "         [0., 0., 0., ..., 0., 0., 0.],\n",
       "         [0., 0., 0., ..., 0., 0., 0.]],\n",
       "\n",
       "        [[0., 0., 0., ..., 0., 0., 0.],\n",
       "         [0., 0., 0., ..., 0., 0., 0.],\n",
       "         [0., 0., 0., ..., 0., 0., 0.],\n",
       "         ...,\n",
       "         [0., 0., 0., ..., 0., 0., 0.],\n",
       "         [0., 0., 0., ..., 0., 0., 0.],\n",
       "         [0., 0., 0., ..., 0., 0., 0.]],\n",
       "\n",
       "        [[0., 0., 0., ..., 0., 0., 0.],\n",
       "         [0., 0., 0., ..., 0., 0., 0.],\n",
       "         [0., 0., 0., ..., 0., 0., 0.],\n",
       "         ...,\n",
       "         [0., 0., 0., ..., 0., 0., 0.],\n",
       "         [0., 0., 0., ..., 0., 0., 0.],\n",
       "         [0., 0., 0., ..., 0., 0., 0.]]],\n",
       "\n",
       "\n",
       "       [[[0., 0., 0., ..., 0., 0., 0.],\n",
       "         [0., 0., 0., ..., 0., 0., 0.],\n",
       "         [0., 0., 0., ..., 0., 0., 0.],\n",
       "         ...,\n",
       "         [0., 0., 0., ..., 0., 0., 0.],\n",
       "         [0., 0., 0., ..., 0., 0., 0.],\n",
       "         [0., 0., 0., ..., 0., 0., 0.]],\n",
       "\n",
       "        [[0., 0., 0., ..., 0., 0., 0.],\n",
       "         [0., 0., 0., ..., 0., 0., 0.],\n",
       "         [0., 0., 0., ..., 0., 0., 0.],\n",
       "         ...,\n",
       "         [0., 0., 0., ..., 0., 0., 0.],\n",
       "         [0., 0., 0., ..., 0., 0., 0.],\n",
       "         [0., 0., 0., ..., 0., 0., 0.]],\n",
       "\n",
       "        [[0., 0., 0., ..., 0., 0., 0.],\n",
       "         [0., 0., 0., ..., 0., 0., 0.],\n",
       "         [0., 0., 0., ..., 0., 0., 0.],\n",
       "         ...,\n",
       "         [0., 0., 0., ..., 0., 0., 0.],\n",
       "         [0., 0., 0., ..., 0., 0., 0.],\n",
       "         [0., 0., 0., ..., 0., 0., 0.]],\n",
       "\n",
       "        ...,\n",
       "\n",
       "        [[0., 0., 0., ..., 0., 0., 0.],\n",
       "         [0., 0., 0., ..., 0., 0., 0.],\n",
       "         [0., 0., 0., ..., 0., 0., 0.],\n",
       "         ...,\n",
       "         [0., 0., 0., ..., 0., 0., 0.],\n",
       "         [0., 0., 0., ..., 0., 0., 0.],\n",
       "         [0., 0., 0., ..., 0., 0., 0.]],\n",
       "\n",
       "        [[0., 0., 0., ..., 0., 0., 0.],\n",
       "         [0., 0., 0., ..., 0., 0., 0.],\n",
       "         [0., 0., 0., ..., 0., 0., 0.],\n",
       "         ...,\n",
       "         [0., 0., 0., ..., 0., 0., 0.],\n",
       "         [0., 0., 0., ..., 0., 0., 0.],\n",
       "         [0., 0., 0., ..., 0., 0., 0.]],\n",
       "\n",
       "        [[0., 0., 0., ..., 0., 0., 0.],\n",
       "         [0., 0., 0., ..., 0., 0., 0.],\n",
       "         [0., 0., 0., ..., 0., 0., 0.],\n",
       "         ...,\n",
       "         [0., 0., 0., ..., 0., 0., 0.],\n",
       "         [0., 0., 0., ..., 0., 0., 0.],\n",
       "         [0., 0., 0., ..., 0., 0., 0.]]]])\n",
       "Coordinates:\n",
       "  * longitude          (longitude) float64 0.61 0.62 0.63 ... 2.22 2.23 2.24\n",
       "  * latitude           (latitude) float64 48.11 48.1 48.09 ... 47.21 47.2 47.19\n",
       "  * step               (step) timedelta64[ns] 01:00:00 ... 2 days 00:00:00\n",
       "    surface            int64 ...\n",
       "    heightAboveGround  int64 ...\n",
       "    id                 &lt;U5 &#x27;FRB05&#x27;\n",
       "  * wwmf_2             (wwmf_2) int64 1 2 3 4 5 6 7 8 ... 13 14 15 16 17 18 19</pre>"
      ],
      "text/plain": [
       "<xarray.DataArray (step: 48, latitude: 93, longitude: 164, wwmf_2: 19)>\n",
       "array([[[[0., 0., 0., ..., 0., 0., 0.],\n",
       "         [0., 0., 0., ..., 0., 0., 0.],\n",
       "         [0., 0., 0., ..., 0., 0., 0.],\n",
       "         ...,\n",
       "         [0., 0., 0., ..., 0., 0., 0.],\n",
       "         [0., 0., 0., ..., 0., 0., 0.],\n",
       "         [0., 0., 0., ..., 0., 0., 0.]],\n",
       "\n",
       "        [[0., 0., 0., ..., 0., 0., 0.],\n",
       "         [0., 0., 0., ..., 0., 0., 0.],\n",
       "         [0., 0., 0., ..., 0., 0., 0.],\n",
       "         ...,\n",
       "         [0., 0., 0., ..., 0., 0., 0.],\n",
       "         [0., 0., 0., ..., 0., 0., 0.],\n",
       "         [0., 0., 0., ..., 0., 0., 0.]],\n",
       "\n",
       "        [[0., 0., 0., ..., 0., 0., 0.],\n",
       "         [0., 0., 0., ..., 0., 0., 0.],\n",
       "         [0., 0., 0., ..., 0., 0., 0.],\n",
       "         ...,\n",
       "         [0., 0., 0., ..., 0., 0., 0.],\n",
       "         [0., 0., 0., ..., 0., 0., 0.],\n",
       "         [0., 0., 0., ..., 0., 0., 0.]],\n",
       "\n",
       "        ...,\n",
       "\n",
       "        [[0., 0., 0., ..., 0., 0., 0.],\n",
       "         [0., 0., 0., ..., 0., 0., 0.],\n",
       "         [0., 0., 0., ..., 0., 0., 0.],\n",
       "         ...,\n",
       "         [0., 0., 0., ..., 0., 0., 0.],\n",
       "         [0., 0., 0., ..., 0., 0., 0.],\n",
       "         [0., 0., 0., ..., 0., 0., 0.]],\n",
       "\n",
       "        [[0., 0., 0., ..., 0., 0., 0.],\n",
       "         [0., 0., 0., ..., 0., 0., 0.],\n",
       "         [0., 0., 0., ..., 0., 0., 0.],\n",
       "         ...,\n",
       "         [0., 0., 0., ..., 0., 0., 0.],\n",
       "         [0., 0., 0., ..., 0., 0., 0.],\n",
       "         [0., 0., 0., ..., 0., 0., 0.]],\n",
       "\n",
       "        [[0., 0., 0., ..., 0., 0., 0.],\n",
       "         [0., 0., 0., ..., 0., 0., 0.],\n",
       "         [0., 0., 0., ..., 0., 0., 0.],\n",
       "         ...,\n",
       "         [0., 0., 0., ..., 0., 0., 0.],\n",
       "         [0., 0., 0., ..., 0., 0., 0.],\n",
       "         [0., 0., 0., ..., 0., 0., 0.]]],\n",
       "\n",
       "\n",
       "       [[[0., 0., 0., ..., 0., 0., 0.],\n",
       "         [0., 0., 0., ..., 0., 0., 0.],\n",
       "         [0., 0., 0., ..., 0., 0., 0.],\n",
       "         ...,\n",
       "         [0., 0., 0., ..., 0., 0., 0.],\n",
       "         [0., 0., 0., ..., 0., 0., 0.],\n",
       "         [0., 0., 0., ..., 0., 0., 0.]],\n",
       "\n",
       "        [[0., 0., 0., ..., 0., 0., 0.],\n",
       "         [0., 0., 0., ..., 0., 0., 0.],\n",
       "         [0., 0., 0., ..., 0., 0., 0.],\n",
       "         ...,\n",
       "         [0., 0., 0., ..., 0., 0., 0.],\n",
       "         [0., 0., 0., ..., 0., 0., 0.],\n",
       "         [0., 0., 0., ..., 0., 0., 0.]],\n",
       "\n",
       "        [[0., 0., 0., ..., 0., 0., 0.],\n",
       "         [0., 0., 0., ..., 0., 0., 0.],\n",
       "         [0., 0., 0., ..., 0., 0., 0.],\n",
       "         ...,\n",
       "         [0., 0., 0., ..., 0., 0., 0.],\n",
       "         [0., 0., 0., ..., 0., 0., 0.],\n",
       "         [0., 0., 0., ..., 0., 0., 0.]],\n",
       "\n",
       "        ...,\n",
       "\n",
       "        [[0., 0., 0., ..., 0., 0., 0.],\n",
       "         [0., 0., 0., ..., 0., 0., 0.],\n",
       "         [0., 0., 0., ..., 0., 0., 0.],\n",
       "         ...,\n",
       "         [0., 0., 0., ..., 0., 0., 0.],\n",
       "         [0., 0., 0., ..., 0., 0., 0.],\n",
       "         [0., 0., 0., ..., 0., 0., 0.]],\n",
       "\n",
       "        [[0., 0., 0., ..., 0., 0., 0.],\n",
       "         [0., 0., 0., ..., 0., 0., 0.],\n",
       "         [0., 0., 0., ..., 0., 0., 0.],\n",
       "         ...,\n",
       "         [0., 0., 0., ..., 0., 0., 0.],\n",
       "         [0., 0., 0., ..., 0., 0., 0.],\n",
       "         [0., 0., 0., ..., 0., 0., 0.]],\n",
       "\n",
       "        [[0., 0., 0., ..., 0., 0., 0.],\n",
       "         [0., 0., 0., ..., 0., 0., 0.],\n",
       "         [0., 0., 0., ..., 0., 0., 0.],\n",
       "         ...,\n",
       "         [0., 0., 0., ..., 0., 0., 0.],\n",
       "         [0., 0., 0., ..., 0., 0., 0.],\n",
       "         [0., 0., 0., ..., 0., 0., 0.]]],\n",
       "\n",
       "\n",
       "       [[[0., 0., 0., ..., 0., 0., 0.],\n",
       "         [0., 0., 0., ..., 0., 0., 0.],\n",
       "         [0., 0., 0., ..., 0., 0., 0.],\n",
       "         ...,\n",
       "         [0., 0., 0., ..., 0., 0., 0.],\n",
       "         [0., 0., 0., ..., 0., 0., 0.],\n",
       "         [0., 0., 0., ..., 0., 0., 0.]],\n",
       "\n",
       "        [[0., 0., 0., ..., 0., 0., 0.],\n",
       "         [0., 0., 0., ..., 0., 0., 0.],\n",
       "         [0., 0., 0., ..., 0., 0., 0.],\n",
       "         ...,\n",
       "         [0., 0., 0., ..., 0., 0., 0.],\n",
       "         [0., 0., 0., ..., 0., 0., 0.],\n",
       "         [0., 0., 0., ..., 0., 0., 0.]],\n",
       "\n",
       "        [[0., 0., 0., ..., 0., 0., 0.],\n",
       "         [0., 0., 0., ..., 0., 0., 0.],\n",
       "         [0., 0., 0., ..., 0., 0., 0.],\n",
       "         ...,\n",
       "         [0., 0., 0., ..., 0., 0., 0.],\n",
       "         [0., 0., 0., ..., 0., 0., 0.],\n",
       "         [0., 0., 0., ..., 0., 0., 0.]],\n",
       "\n",
       "        ...,\n",
       "\n",
       "        [[0., 0., 0., ..., 0., 0., 0.],\n",
       "         [0., 0., 0., ..., 0., 0., 0.],\n",
       "         [0., 0., 0., ..., 0., 0., 0.],\n",
       "         ...,\n",
       "         [0., 0., 0., ..., 0., 0., 0.],\n",
       "         [0., 0., 0., ..., 0., 0., 0.],\n",
       "         [0., 0., 0., ..., 0., 0., 0.]],\n",
       "\n",
       "        [[0., 0., 0., ..., 0., 0., 0.],\n",
       "         [0., 0., 0., ..., 0., 0., 0.],\n",
       "         [0., 0., 0., ..., 0., 0., 0.],\n",
       "         ...,\n",
       "         [0., 0., 0., ..., 0., 0., 0.],\n",
       "         [0., 0., 0., ..., 0., 0., 0.],\n",
       "         [0., 0., 0., ..., 0., 0., 0.]],\n",
       "\n",
       "        [[0., 0., 0., ..., 0., 0., 0.],\n",
       "         [0., 0., 0., ..., 0., 0., 0.],\n",
       "         [0., 0., 0., ..., 0., 0., 0.],\n",
       "         ...,\n",
       "         [0., 0., 0., ..., 0., 0., 0.],\n",
       "         [0., 0., 0., ..., 0., 0., 0.],\n",
       "         [0., 0., 0., ..., 0., 0., 0.]]],\n",
       "\n",
       "\n",
       "       ...,\n",
       "\n",
       "\n",
       "       [[[0., 0., 0., ..., 0., 0., 0.],\n",
       "         [0., 0., 0., ..., 0., 0., 0.],\n",
       "         [0., 0., 0., ..., 0., 0., 0.],\n",
       "         ...,\n",
       "         [0., 0., 0., ..., 0., 0., 0.],\n",
       "         [0., 0., 0., ..., 0., 0., 0.],\n",
       "         [0., 0., 0., ..., 0., 0., 0.]],\n",
       "\n",
       "        [[0., 0., 0., ..., 0., 0., 0.],\n",
       "         [0., 0., 0., ..., 0., 0., 0.],\n",
       "         [0., 0., 0., ..., 0., 0., 0.],\n",
       "         ...,\n",
       "         [0., 0., 0., ..., 0., 0., 0.],\n",
       "         [0., 0., 0., ..., 0., 0., 0.],\n",
       "         [0., 0., 0., ..., 0., 0., 0.]],\n",
       "\n",
       "        [[0., 0., 0., ..., 0., 0., 0.],\n",
       "         [0., 0., 0., ..., 0., 0., 0.],\n",
       "         [0., 0., 0., ..., 0., 0., 0.],\n",
       "         ...,\n",
       "         [0., 0., 0., ..., 0., 0., 0.],\n",
       "         [0., 0., 0., ..., 0., 0., 0.],\n",
       "         [0., 0., 0., ..., 0., 0., 0.]],\n",
       "\n",
       "        ...,\n",
       "\n",
       "        [[0., 0., 0., ..., 0., 0., 0.],\n",
       "         [0., 0., 0., ..., 0., 0., 0.],\n",
       "         [0., 0., 0., ..., 0., 0., 0.],\n",
       "         ...,\n",
       "         [0., 0., 0., ..., 0., 0., 0.],\n",
       "         [0., 0., 0., ..., 0., 0., 0.],\n",
       "         [0., 0., 0., ..., 0., 0., 0.]],\n",
       "\n",
       "        [[0., 0., 0., ..., 0., 0., 0.],\n",
       "         [0., 0., 0., ..., 0., 0., 0.],\n",
       "         [0., 0., 0., ..., 0., 0., 0.],\n",
       "         ...,\n",
       "         [0., 0., 0., ..., 0., 0., 0.],\n",
       "         [0., 0., 0., ..., 0., 0., 0.],\n",
       "         [0., 0., 0., ..., 0., 0., 0.]],\n",
       "\n",
       "        [[0., 0., 0., ..., 0., 0., 0.],\n",
       "         [0., 0., 0., ..., 0., 0., 0.],\n",
       "         [0., 0., 0., ..., 0., 0., 0.],\n",
       "         ...,\n",
       "         [0., 0., 0., ..., 0., 0., 0.],\n",
       "         [0., 0., 0., ..., 0., 0., 0.],\n",
       "         [0., 0., 0., ..., 0., 0., 0.]]],\n",
       "\n",
       "\n",
       "       [[[0., 0., 0., ..., 0., 0., 0.],\n",
       "         [0., 0., 0., ..., 0., 0., 0.],\n",
       "         [0., 0., 0., ..., 0., 0., 0.],\n",
       "         ...,\n",
       "         [0., 0., 0., ..., 0., 0., 0.],\n",
       "         [0., 0., 0., ..., 0., 0., 0.],\n",
       "         [0., 0., 0., ..., 0., 0., 0.]],\n",
       "\n",
       "        [[0., 0., 0., ..., 0., 0., 0.],\n",
       "         [0., 0., 0., ..., 0., 0., 0.],\n",
       "         [0., 0., 0., ..., 0., 0., 0.],\n",
       "         ...,\n",
       "         [0., 0., 0., ..., 0., 0., 0.],\n",
       "         [0., 0., 0., ..., 0., 0., 0.],\n",
       "         [0., 0., 0., ..., 0., 0., 0.]],\n",
       "\n",
       "        [[0., 0., 0., ..., 0., 0., 0.],\n",
       "         [0., 0., 0., ..., 0., 0., 0.],\n",
       "         [0., 0., 0., ..., 0., 0., 0.],\n",
       "         ...,\n",
       "         [0., 0., 0., ..., 0., 0., 0.],\n",
       "         [0., 0., 0., ..., 0., 0., 0.],\n",
       "         [0., 0., 0., ..., 0., 0., 0.]],\n",
       "\n",
       "        ...,\n",
       "\n",
       "        [[0., 0., 0., ..., 0., 0., 0.],\n",
       "         [0., 0., 0., ..., 0., 0., 0.],\n",
       "         [0., 0., 0., ..., 0., 0., 0.],\n",
       "         ...,\n",
       "         [0., 0., 0., ..., 0., 0., 0.],\n",
       "         [0., 0., 0., ..., 0., 0., 0.],\n",
       "         [0., 0., 0., ..., 0., 0., 0.]],\n",
       "\n",
       "        [[0., 0., 0., ..., 0., 0., 0.],\n",
       "         [0., 0., 0., ..., 0., 0., 0.],\n",
       "         [0., 0., 0., ..., 0., 0., 0.],\n",
       "         ...,\n",
       "         [0., 0., 0., ..., 0., 0., 0.],\n",
       "         [0., 0., 0., ..., 0., 0., 0.],\n",
       "         [0., 0., 0., ..., 0., 0., 0.]],\n",
       "\n",
       "        [[0., 0., 0., ..., 0., 0., 0.],\n",
       "         [0., 0., 0., ..., 0., 0., 0.],\n",
       "         [0., 0., 0., ..., 0., 0., 0.],\n",
       "         ...,\n",
       "         [0., 0., 0., ..., 0., 0., 0.],\n",
       "         [0., 0., 0., ..., 0., 0., 0.],\n",
       "         [0., 0., 0., ..., 0., 0., 0.]]],\n",
       "\n",
       "\n",
       "       [[[0., 0., 0., ..., 0., 0., 0.],\n",
       "         [0., 0., 0., ..., 0., 0., 0.],\n",
       "         [0., 0., 0., ..., 0., 0., 0.],\n",
       "         ...,\n",
       "         [0., 0., 0., ..., 0., 0., 0.],\n",
       "         [0., 0., 0., ..., 0., 0., 0.],\n",
       "         [0., 0., 0., ..., 0., 0., 0.]],\n",
       "\n",
       "        [[0., 0., 0., ..., 0., 0., 0.],\n",
       "         [0., 0., 0., ..., 0., 0., 0.],\n",
       "         [0., 0., 0., ..., 0., 0., 0.],\n",
       "         ...,\n",
       "         [0., 0., 0., ..., 0., 0., 0.],\n",
       "         [0., 0., 0., ..., 0., 0., 0.],\n",
       "         [0., 0., 0., ..., 0., 0., 0.]],\n",
       "\n",
       "        [[0., 0., 0., ..., 0., 0., 0.],\n",
       "         [0., 0., 0., ..., 0., 0., 0.],\n",
       "         [0., 0., 0., ..., 0., 0., 0.],\n",
       "         ...,\n",
       "         [0., 0., 0., ..., 0., 0., 0.],\n",
       "         [0., 0., 0., ..., 0., 0., 0.],\n",
       "         [0., 0., 0., ..., 0., 0., 0.]],\n",
       "\n",
       "        ...,\n",
       "\n",
       "        [[0., 0., 0., ..., 0., 0., 0.],\n",
       "         [0., 0., 0., ..., 0., 0., 0.],\n",
       "         [0., 0., 0., ..., 0., 0., 0.],\n",
       "         ...,\n",
       "         [0., 0., 0., ..., 0., 0., 0.],\n",
       "         [0., 0., 0., ..., 0., 0., 0.],\n",
       "         [0., 0., 0., ..., 0., 0., 0.]],\n",
       "\n",
       "        [[0., 0., 0., ..., 0., 0., 0.],\n",
       "         [0., 0., 0., ..., 0., 0., 0.],\n",
       "         [0., 0., 0., ..., 0., 0., 0.],\n",
       "         ...,\n",
       "         [0., 0., 0., ..., 0., 0., 0.],\n",
       "         [0., 0., 0., ..., 0., 0., 0.],\n",
       "         [0., 0., 0., ..., 0., 0., 0.]],\n",
       "\n",
       "        [[0., 0., 0., ..., 0., 0., 0.],\n",
       "         [0., 0., 0., ..., 0., 0., 0.],\n",
       "         [0., 0., 0., ..., 0., 0., 0.],\n",
       "         ...,\n",
       "         [0., 0., 0., ..., 0., 0., 0.],\n",
       "         [0., 0., 0., ..., 0., 0., 0.],\n",
       "         [0., 0., 0., ..., 0., 0., 0.]]]])\n",
       "Coordinates:\n",
       "  * longitude          (longitude) float64 0.61 0.62 0.63 ... 2.22 2.23 2.24\n",
       "  * latitude           (latitude) float64 48.11 48.1 48.09 ... 47.21 47.2 47.19\n",
       "  * step               (step) timedelta64[ns] 01:00:00 ... 2 days 00:00:00\n",
       "    surface            int64 ...\n",
       "    heightAboveGround  int64 ...\n",
       "    id                 <U5 'FRB05'\n",
       "  * wwmf_2             (wwmf_2) int64 1 2 3 4 5 6 7 8 ... 13 14 15 16 17 18 19"
      ]
     },
     "execution_count": 284,
     "metadata": {},
     "output_type": "execute_result"
    }
   ],
   "source": [
    "da_mask_ref = xr.open_dataset(\"../GeoData/nc_departement/FRB05.nc\")[\"mask\"].squeeze(\"id\")\n",
    "da_mask_ref['latitude']=da_mask_ref['latitude'].round(5)\n",
    "da_mask_ref['longitude']=da_mask_ref['longitude'].round(5)\n",
    "ds=xr.open_dataset(fname)\n",
    "ds['latitude']=ds['latitude'].round(5)\n",
    "ds['longitude']=ds['longitude'].round(5)\n",
    "dtemp=ds*da_mask_ref\n",
    "ds_distance_ref = distance_wwmf.get_pixel_distance_dept(dtemp,\"compas\")\n",
    "ds_distance_ref"
   ]
  },
  {
   "cell_type": "code",
   "execution_count": 285,
   "metadata": {
    "scrolled": true
   },
   "outputs": [
    {
     "data": {
      "text/html": [
       "<pre>&lt;xarray.DataArray (step: 48, wwmf_2: 19)&gt;\n",
       "array([[3.4772e+04, 1.7356e+04, 6.4310e+03, 2.2280e+03, 8.2060e+03,\n",
       "        2.7843e+04, 3.3869e+04, 4.3529e+04, 5.5051e+04, 4.9555e+04,\n",
       "        6.1125e+04, 3.7056e+04, 4.3034e+04, 3.7278e+04, 4.3256e+04,\n",
       "        3.7566e+04, 3.7572e+04, 3.9299e+04, 3.9353e+04],\n",
       "       [3.5168e+04, 1.7529e+04, 6.0180e+03, 2.0510e+03, 7.9040e+03,\n",
       "        2.7569e+04, 3.3422e+04, 4.3267e+04, 5.5053e+04, 4.9120e+04,\n",
       "        6.0906e+04, 3.7139e+04, 4.2992e+04, 3.7249e+04, 4.3102e+04,\n",
       "        3.7359e+04, 3.7359e+04, 3.9245e+04, 3.9245e+04],\n",
       "       [3.6652e+04, 1.9009e+04, 6.6580e+03, 4.5130e+03, 1.0044e+04,\n",
       "        2.5972e+04, 3.1724e+04, 4.1258e+04, 5.3847e+04, 4.7010e+04,\n",
       "        5.9891e+04, 3.6144e+04, 4.1675e+04, 3.6087e+04, 4.1618e+04,\n",
       "        3.6386e+04, 3.6656e+04, 3.9281e+04, 3.9559e+04],\n",
       "       [3.4076e+04, 1.7595e+04, 1.0827e+04, 9.3630e+03, 1.4651e+04,\n",
       "        2.6755e+04, 3.2620e+04, 4.1614e+04, 5.4720e+04, 4.7479e+04,\n",
       "        6.1211e+04, 3.1314e+04, 3.6602e+04, 3.4246e+04, 3.9534e+04,\n",
       "        3.6129e+04, 3.6845e+04, 3.8710e+04, 3.9856e+04],\n",
       "       [3.7693e+04, 2.1230e+04, 1.2744e+04, 1.6452e+04, 2.1604e+04,\n",
       "        2.2210e+04, 2.8616e+04, 3.5847e+04, 5.1476e+04, 4.2293e+04,\n",
       "        5.9161e+04, 2.6692e+04, 3.1882e+04, 3.0276e+04, 3.5428e+04,\n",
       "        3.1212e+04, 3.2835e+04, 3.7132e+04, 4.0041e+04],\n",
       "       [4.0923e+04, 2.2758e+04, 8.6870e+03, 1.2959e+04, 1.7455e+04,\n",
       "        1.9850e+04, 2.5579e+04, 3.4426e+04, 5.1072e+04, 4.0155e+04,\n",
       "        5.8034e+04, 3.0221e+04, 3.4717e+04, 3.1282e+04, 3.5778e+04,\n",
       "        3.2021e+04, 3.2943e+04, 3.8634e+04, 4.0789e+04],\n",
       "       [4.5899e+04, 2.7204e+04, 8.0400e+03, 1.5299e+04, 1.9946e+04,\n",
       "        1.3910e+04, 2.1335e+04, 2.9413e+04, 4.6629e+04, 3.6838e+04,\n",
       "        5.6832e+04, 3.2270e+04, 3.6917e+04, 3.0097e+04, 3.4744e+04,\n",
       "        3.2700e+04, 3.2895e+04, 4.1633e+04, 4.4606e+04],\n",
       "       [4.9226e+04, 3.1324e+04, 1.0394e+04, 2.0870e+04, 2.6350e+04,\n",
       "        8.9820e+03, 1.8881e+04, 2.4515e+04, 4.1686e+04, 3.4414e+04,\n",
       "        5.6004e+04, 3.1632e+04, 3.7112e+04, 2.7708e+04, 3.3188e+04,\n",
       "        3.1962e+04, 3.2127e+04, 4.3334e+04, 4.7918e+04],\n",
       "       [4.7223e+04, 3.1124e+04, 1.3083e+04, 2.2189e+04, 2.9261e+04,\n",
       "        1.0310e+04, 2.2265e+04, 2.5632e+04, 4.0294e+04, 3.7587e+04,\n",
       "        5.7132e+04, 3.1705e+04, 3.8777e+04, 2.7950e+04, 3.5022e+04,\n",
       "        3.2457e+04, 3.2833e+04, 4.3376e+04, 4.8635e+04],\n",
       "       [4.6903e+04, 3.1146e+04, 1.3113e+04, 2.1119e+04, 2.8793e+04,\n",
       "        1.0682e+04, 2.3447e+04, 2.6264e+04, 3.9670e+04, 3.9029e+04,\n",
       "        5.7526e+04, 3.3399e+04, 4.1073e+04, 2.8656e+04, 3.6330e+04,\n",
       "        3.3631e+04, 3.3747e+04, 4.4104e+04, 4.9311e+04],\n",
       "       [4.5364e+04, 2.9776e+04, 1.2804e+04, 1.9286e+04, 2.6766e+04,\n",
       "        1.2637e+04, 2.4769e+04, 2.8250e+04, 4.1350e+04, 4.0382e+04,\n",
       "        5.8134e+04, 3.4031e+04, 4.1511e+04, 2.9742e+04, 3.7222e+04,\n",
       "        3.4672e+04, 3.4672e+04, 4.4152e+04, 4.8804e+04],\n",
       "       [3.7807e+04, 2.0630e+04, 7.5290e+03, 6.0970e+03, 1.2464e+04,\n",
       "        2.3829e+04, 3.1349e+04, 3.9527e+04, 5.1490e+04, 4.7047e+04,\n",
       "        6.0163e+04, 3.6604e+04, 4.2971e+04, 3.5457e+04, 4.1824e+04,\n",
       "        3.6616e+04, 3.6616e+04, 4.0398e+04, 4.1551e+04],\n",
       "       [4.1166e+04, 2.0591e+04, 3.8600e+03, 6.4430e+03, 9.0840e+03,\n",
       "        2.1069e+04, 2.3936e+04, 3.6767e+04, 5.4927e+04, 3.9634e+04,\n",
       "        5.8020e+04, 3.3149e+04, 3.5790e+04, 3.3585e+04, 3.6226e+04,\n",
       "        3.4473e+04, 3.4473e+04, 3.9471e+04, 3.9697e+04],\n",
       "       [4.3321e+04, 2.0992e+04, 2.5990e+03, 8.0450e+03, 8.5780e+03,\n",
       "        1.8775e+04, 1.9319e+04, 3.4473e+04, 5.6280e+04, 3.5017e+04,\n",
       "        5.6835e+04, 3.0548e+04, 3.1081e+04, 3.1907e+04, 3.2440e+04,\n",
       "        3.3288e+04, 3.3288e+04, 3.9256e+04, 3.9267e+04],\n",
       "       [4.2948e+04, 2.0461e+04, 3.1060e+03, 8.8630e+03, 8.8820e+03,\n",
       "        1.8819e+04, 1.8838e+04, 3.4513e+04, 5.6997e+04, 3.4532e+04,\n",
       "        5.7016e+04, 2.9369e+04, 2.9388e+04, 3.1423e+04, 3.1442e+04,\n",
       "        3.3473e+04, 3.3473e+04, 3.9257e+04, 3.9257e+04],\n",
       "       [4.7038e+04, 2.3505e+04, 4.2000e+01, 7.8630e+03, 7.8630e+03,\n",
       "        1.5740e+04, 1.5740e+04, 3.1438e+04, 5.4971e+04, 3.1438e+04,\n",
       "        5.4971e+04, 3.1368e+04, 3.1368e+04, 3.1396e+04, 3.1396e+04,\n",
       "        3.1424e+04, 3.1424e+04, 3.9245e+04, 3.9245e+04],\n",
       "       [4.7094e+04, 2.3547e+04, 0.0000e+00, 7.8490e+03, 7.8490e+03,\n",
       "        1.5698e+04, 1.5698e+04, 3.1396e+04, 5.4943e+04, 3.1396e+04,\n",
       "        5.4943e+04, 3.1396e+04, 3.1396e+04, 3.1396e+04, 3.1396e+04,\n",
       "        3.1396e+04, 3.1396e+04, 3.9245e+04, 3.9245e+04],\n",
       "       [4.7094e+04, 2.3547e+04, 0.0000e+00, 7.8490e+03, 7.8490e+03,\n",
       "        1.5698e+04, 1.5698e+04, 3.1396e+04, 5.4943e+04, 3.1396e+04,\n",
       "        5.4943e+04, 3.1396e+04, 3.1396e+04, 3.1396e+04, 3.1396e+04,\n",
       "        3.1396e+04, 3.1396e+04, 3.9245e+04, 3.9245e+04],\n",
       "       [4.7176e+04, 2.3711e+04, 1.6400e+02, 8.0950e+03, 8.1770e+03,\n",
       "        1.5534e+04, 1.5698e+04, 3.1232e+04, 5.4697e+04, 3.1396e+04,\n",
       "        5.4943e+04, 3.1396e+04, 3.1478e+04, 3.1314e+04, 3.1396e+04,\n",
       "        3.1396e+04, 3.1396e+04, 3.9327e+04, 3.9409e+04],\n",
       "       [4.7927e+04, 2.5213e+04, 1.6660e+03, 1.0348e+04, 1.1181e+04,\n",
       "        1.4032e+04, 1.5698e+04, 2.9730e+04, 5.2444e+04, 3.1396e+04,\n",
       "        5.4943e+04, 3.1396e+04, 3.2229e+04, 3.0563e+04, 3.1396e+04,\n",
       "        3.1396e+04, 3.1396e+04, 4.0078e+04, 4.0911e+04],\n",
       "       [4.9759e+04, 2.8902e+04, 5.3800e+03, 1.5909e+04, 1.8594e+04,\n",
       "        1.0348e+04, 1.5713e+04, 2.6041e+04, 4.6903e+04, 3.1406e+04,\n",
       "        5.4948e+04, 3.1376e+04, 3.4061e+04, 2.8711e+04, 3.1396e+04,\n",
       "        3.1386e+04, 3.1391e+04, 4.1915e+04, 4.4600e+04],\n",
       "       [5.2658e+04, 3.4853e+04, 1.1483e+04, 2.5001e+04, 3.0708e+04,\n",
       "        4.4280e+03, 1.5806e+04, 2.0091e+04, 3.7930e+04, 3.1469e+04,\n",
       "        5.4979e+04, 3.1257e+04, 3.6964e+04, 2.5691e+04, 3.1398e+04,\n",
       "        3.1327e+04, 3.1362e+04, 4.4846e+04, 5.0552e+04],\n",
       "       [5.4005e+04, 3.7789e+04, 1.4662e+04, 2.9674e+04, 3.6921e+04,\n",
       "        1.5400e+03, 1.5950e+04, 1.7154e+04, 3.3454e+04, 3.1564e+04,\n",
       "        5.5027e+04, 3.1060e+04, 3.8307e+04, 2.4149e+04, 3.1396e+04,\n",
       "        3.1228e+04, 3.1312e+04, 4.6240e+04, 5.3487e+04],\n",
       "       [5.3456e+04, 3.8156e+04, 1.6494e+04, 3.1773e+04, 3.9580e+04,\n",
       "        1.7180e+03, 1.6892e+04, 1.6787e+04, 3.2464e+04, 3.2024e+04,\n",
       "        5.5068e+04, 2.9951e+04, 3.7758e+04, 2.3526e+04, 3.1333e+04,\n",
       "        3.0516e+04, 3.0830e+04, 4.5732e+04, 5.3602e+04],\n",
       "       [5.5124e+04, 3.9992e+04, 1.6830e+04, 3.2443e+04, 4.0284e+04,\n",
       "        1.3180e+03, 1.6426e+04, 1.4951e+04, 3.0160e+04, 3.0556e+04,\n",
       "        5.3032e+04, 3.1585e+04, 3.9426e+04, 2.3058e+04, 3.0899e+04,\n",
       "        3.0248e+04, 2.9828e+04, 4.5364e+04, 5.3702e+04],\n",
       "       [5.4700e+04, 3.9319e+04, 1.6332e+04, 3.1918e+04, 3.9767e+04,\n",
       "        8.5800e+02, 1.6239e+04, 1.5624e+04, 3.1117e+04, 3.1210e+04,\n",
       "        5.4235e+04, 3.1153e+04, 3.9002e+04, 2.3342e+04, 3.1191e+04,\n",
       "        3.0762e+04, 3.0669e+04, 4.6143e+04, 5.4197e+04],\n",
       "       [5.4544e+04, 3.9401e+04, 1.6800e+04, 3.2190e+04, 3.9941e+04,\n",
       "        1.9060e+03, 1.6747e+04, 1.5550e+04, 3.0871e+04, 3.0858e+04,\n",
       "        5.3269e+04, 3.1127e+04, 3.8878e+04, 2.3194e+04, 3.0945e+04,\n",
       "        3.0098e+04, 2.9817e+04, 4.5029e+04, 5.3239e+04],\n",
       "       [5.3164e+04, 3.8857e+04, 1.8480e+04, 3.3393e+04, 4.1091e+04,\n",
       "        4.6540e+03, 1.8508e+04, 1.6086e+04, 3.1027e+04, 3.0848e+04,\n",
       "        5.1945e+04, 2.9768e+04, 3.7466e+04, 2.2790e+04, 3.0488e+04,\n",
       "        2.8312e+04, 2.8038e+04, 4.2317e+04, 5.0923e+04],\n",
       "       [5.2579e+04, 3.7577e+04, 1.7090e+04, 3.1419e+04, 3.8511e+04,\n",
       "        5.6440e+03, 1.8375e+04, 1.7366e+04, 3.2980e+04, 3.0938e+04,\n",
       "        5.2191e+04, 2.9789e+04, 3.6881e+04, 2.3463e+04, 3.0555e+04,\n",
       "        2.8490e+04, 2.8261e+04, 4.1978e+04, 4.9911e+04],\n",
       "       [5.1187e+04, 3.1892e+04, 8.4960e+03, 2.0519e+04, 2.4744e+04,\n",
       "        7.3880e+03, 1.5803e+04, 2.3059e+04, 4.2373e+04, 3.1474e+04,\n",
       "        5.4978e+04, 3.1296e+04, 3.5521e+04, 2.7187e+04, 3.1412e+04,\n",
       "        3.1350e+04, 3.1377e+04, 4.3381e+04, 4.7598e+04],\n",
       "       [4.7669e+04, 2.6022e+04, 3.5650e+03, 1.2361e+04, 1.4137e+04,\n",
       "        1.3582e+04, 1.6775e+04, 2.9156e+04, 5.0692e+04, 3.2349e+04,\n",
       "        5.5302e+04, 3.1135e+04, 3.2911e+04, 3.0090e+04, 3.1866e+04,\n",
       "        3.1383e+04, 3.1507e+04, 4.0414e+04, 4.1955e+04],\n",
       "       [4.8568e+04, 2.7271e+04, 4.2930e+03, 1.3709e+04, 1.5928e+04,\n",
       "        1.2212e+04, 1.6412e+04, 2.7879e+04, 4.9000e+04, 3.2079e+04,\n",
       "        5.5181e+04, 3.1479e+04, 3.3698e+04, 2.9591e+04, 3.1810e+04,\n",
       "        3.1541e+04, 3.1572e+04, 4.1164e+04, 4.3176e+04],\n",
       "       [4.9514e+04, 2.8827e+04, 5.7200e+03, 1.6253e+04, 1.9025e+04,\n",
       "        1.0506e+04, 1.5962e+04, 2.6116e+04, 4.6891e+04, 3.1572e+04,\n",
       "        5.5031e+04, 3.1044e+04, 3.3816e+04, 2.8624e+04, 3.1396e+04,\n",
       "        3.1220e+04, 3.1308e+04, 4.1753e+04, 4.4525e+04],\n",
       "       [5.0700e+04, 3.1239e+04, 8.1720e+03, 1.9915e+04, 2.3905e+04,\n",
       "        8.1020e+03, 1.5986e+04, 2.3704e+04, 4.3261e+04, 3.1588e+04,\n",
       "        5.5039e+04, 3.1012e+04, 3.5002e+04, 2.7406e+04, 3.1396e+04,\n",
       "        3.1204e+04, 3.1300e+04, 4.2947e+04, 4.6937e+04],\n",
       "       [5.0526e+04, 3.4011e+04, 1.4064e+04, 2.7505e+04, 3.3817e+04,\n",
       "        5.9540e+03, 1.7858e+04, 2.0932e+04, 3.8167e+04, 3.2836e+04,\n",
       "        5.5663e+04, 2.8516e+04, 3.4828e+04, 2.5084e+04, 3.1396e+04,\n",
       "        2.9956e+04, 3.0676e+04, 4.3397e+04, 4.9709e+04],\n",
       "       [5.1789e+04, 3.7047e+04, 1.7535e+04, 3.2231e+04, 4.0080e+04,\n",
       "        3.7660e+03, 1.8433e+04, 1.7971e+04, 3.3415e+04, 3.2817e+04,\n",
       "        5.5079e+04, 2.8542e+04, 3.6391e+04, 2.3518e+04, 3.1367e+04,\n",
       "        2.9559e+04, 3.0157e+04, 4.4151e+04, 5.2104e+04],\n",
       "       [5.4771e+04, 3.9211e+04, 1.5974e+04, 3.1610e+04, 3.9459e+04,\n",
       "        4.0000e+02, 1.5960e+04, 1.5732e+04, 3.1354e+04, 3.1368e+04,\n",
       "        5.4701e+04, 3.1224e+04, 3.9073e+04, 2.3471e+04, 3.1320e+04,\n",
       "        3.1120e+04, 3.1106e+04, 4.6680e+04, 5.4605e+04],\n",
       "       [5.6090e+04, 4.1539e+04, 1.7992e+04, 3.3690e+04, 4.1539e+04,\n",
       "        2.2940e+03, 1.6845e+04, 1.3404e+04, 2.7955e+04, 2.9102e+04,\n",
       "        5.0355e+04, 3.2543e+04, 4.0392e+04, 2.2400e+04, 3.0249e+04,\n",
       "        2.9102e+04, 2.7955e+04, 4.3653e+04, 5.2649e+04],\n",
       "       [5.9265e+04, 4.7889e+04, 2.4342e+04, 4.0040e+04, 4.7889e+04,\n",
       "        8.6440e+03, 2.0020e+04, 7.0540e+03, 1.8430e+04, 2.2752e+04,\n",
       "        3.7655e+04, 3.5718e+04, 4.3567e+04, 1.9225e+04, 2.7074e+04,\n",
       "        2.2752e+04, 1.8430e+04, 3.4128e+04, 4.6299e+04],\n",
       "       [5.6523e+04, 4.2405e+04, 1.8858e+04, 3.4556e+04, 4.2405e+04,\n",
       "        3.1600e+03, 1.7278e+04, 1.2538e+04, 2.6656e+04, 2.8236e+04,\n",
       "        4.8623e+04, 3.2976e+04, 4.0825e+04, 2.1967e+04, 2.9816e+04,\n",
       "        2.8236e+04, 2.6656e+04, 4.2354e+04, 5.1783e+04],\n",
       "       [5.5563e+04, 4.0495e+04, 1.6958e+04, 3.2654e+04, 4.0503e+04,\n",
       "        1.2640e+03, 1.6332e+04, 1.4448e+04, 2.9518e+04, 3.0144e+04,\n",
       "        5.2433e+04, 3.2016e+04, 3.9865e+04, 2.2919e+04, 3.0768e+04,\n",
       "        3.0136e+04, 2.9510e+04, 4.5204e+04, 5.3681e+04],\n",
       "       [5.5854e+04, 4.1067e+04, 1.7520e+04, 3.3188e+04, 4.1007e+04,\n",
       "        1.9420e+03, 1.6639e+04, 1.3876e+04, 2.8663e+04, 2.9514e+04,\n",
       "        5.1179e+04, 3.2337e+04, 4.0156e+04, 2.2636e+04, 3.0455e+04,\n",
       "        2.9514e+04, 2.8573e+04, 4.4241e+04, 5.3001e+04],\n",
       "       [5.4822e+04, 3.9243e+04, 1.5936e+04, 3.1586e+04, 3.9435e+04,\n",
       "        3.3400e+02, 1.5913e+04, 1.5700e+04, 3.1327e+04, 3.1350e+04,\n",
       "        5.4707e+04, 3.1275e+04, 3.9124e+04, 2.3476e+04, 3.1325e+04,\n",
       "        3.1158e+04, 3.1135e+04, 4.6737e+04, 5.4657e+04],\n",
       "       [5.2211e+04, 3.6950e+04, 1.6564e+04, 3.1341e+04, 3.8922e+04,\n",
       "        3.2360e+03, 1.7685e+04, 1.8001e+04, 3.3883e+04, 3.2526e+04,\n",
       "        5.5276e+04, 2.8964e+04, 3.6545e+04, 2.3755e+04, 3.1336e+04,\n",
       "        2.9994e+04, 3.0547e+04, 4.4703e+04, 5.2352e+04],\n",
       "       [4.7706e+04, 3.2290e+04, 1.6142e+04, 2.8743e+04, 3.5410e+04,\n",
       "        8.8160e+03, 2.0500e+04, 2.2795e+04, 3.9448e+04, 3.4542e+04,\n",
       "        5.6212e+04, 2.5997e+04, 3.2664e+04, 2.4928e+04, 3.1595e+04,\n",
       "        2.8588e+04, 2.9948e+04, 4.1290e+04, 4.7856e+04],\n",
       "       [4.8695e+04, 3.2993e+04, 1.6398e+04, 2.9017e+04, 3.5374e+04,\n",
       "        9.3400e+03, 2.0323e+04, 2.1862e+04, 3.8609e+04, 3.3178e+04,\n",
       "        5.4518e+04, 2.6593e+04, 3.3016e+04, 2.4139e+04, 3.0496e+04,\n",
       "        2.7939e+04, 2.9090e+04, 4.0270e+04, 4.6882e+04],\n",
       "       [4.6476e+04, 2.9236e+04, 1.2614e+04, 2.4000e+04, 2.8922e+04,\n",
       "        1.1394e+04, 1.9853e+04, 2.5707e+04, 4.4332e+04, 3.4166e+04,\n",
       "        5.6328e+04, 2.5856e+04, 3.0778e+04, 2.6474e+04, 3.1396e+04,\n",
       "        2.8626e+04, 3.0011e+04, 4.0012e+04, 4.4934e+04],\n",
       "       [4.7564e+04, 2.9922e+04, 1.1811e+04, 2.3390e+04, 2.8208e+04,\n",
       "        1.0409e+04, 1.8959e+04, 2.5021e+04, 4.3749e+04, 3.3571e+04,\n",
       "        5.6031e+04, 2.7050e+04, 3.1868e+04, 2.6578e+04, 3.1396e+04,\n",
       "        2.9226e+04, 3.0312e+04, 4.0805e+04, 4.5623e+04]])\n",
       "Coordinates:\n",
       "  * step               (step) timedelta64[ns] 01:00:00 ... 2 days 00:00:00\n",
       "    surface            int64 ...\n",
       "    heightAboveGround  int64 ...\n",
       "    id                 &lt;U5 &#x27;FRB05&#x27;\n",
       "  * wwmf_2             (wwmf_2) int64 1 2 3 4 5 6 7 8 ... 13 14 15 16 17 18 19</pre>"
      ],
      "text/plain": [
       "<xarray.DataArray (step: 48, wwmf_2: 19)>\n",
       "array([[3.4772e+04, 1.7356e+04, 6.4310e+03, 2.2280e+03, 8.2060e+03,\n",
       "        2.7843e+04, 3.3869e+04, 4.3529e+04, 5.5051e+04, 4.9555e+04,\n",
       "        6.1125e+04, 3.7056e+04, 4.3034e+04, 3.7278e+04, 4.3256e+04,\n",
       "        3.7566e+04, 3.7572e+04, 3.9299e+04, 3.9353e+04],\n",
       "       [3.5168e+04, 1.7529e+04, 6.0180e+03, 2.0510e+03, 7.9040e+03,\n",
       "        2.7569e+04, 3.3422e+04, 4.3267e+04, 5.5053e+04, 4.9120e+04,\n",
       "        6.0906e+04, 3.7139e+04, 4.2992e+04, 3.7249e+04, 4.3102e+04,\n",
       "        3.7359e+04, 3.7359e+04, 3.9245e+04, 3.9245e+04],\n",
       "       [3.6652e+04, 1.9009e+04, 6.6580e+03, 4.5130e+03, 1.0044e+04,\n",
       "        2.5972e+04, 3.1724e+04, 4.1258e+04, 5.3847e+04, 4.7010e+04,\n",
       "        5.9891e+04, 3.6144e+04, 4.1675e+04, 3.6087e+04, 4.1618e+04,\n",
       "        3.6386e+04, 3.6656e+04, 3.9281e+04, 3.9559e+04],\n",
       "       [3.4076e+04, 1.7595e+04, 1.0827e+04, 9.3630e+03, 1.4651e+04,\n",
       "        2.6755e+04, 3.2620e+04, 4.1614e+04, 5.4720e+04, 4.7479e+04,\n",
       "        6.1211e+04, 3.1314e+04, 3.6602e+04, 3.4246e+04, 3.9534e+04,\n",
       "        3.6129e+04, 3.6845e+04, 3.8710e+04, 3.9856e+04],\n",
       "       [3.7693e+04, 2.1230e+04, 1.2744e+04, 1.6452e+04, 2.1604e+04,\n",
       "        2.2210e+04, 2.8616e+04, 3.5847e+04, 5.1476e+04, 4.2293e+04,\n",
       "        5.9161e+04, 2.6692e+04, 3.1882e+04, 3.0276e+04, 3.5428e+04,\n",
       "        3.1212e+04, 3.2835e+04, 3.7132e+04, 4.0041e+04],\n",
       "       [4.0923e+04, 2.2758e+04, 8.6870e+03, 1.2959e+04, 1.7455e+04,\n",
       "        1.9850e+04, 2.5579e+04, 3.4426e+04, 5.1072e+04, 4.0155e+04,\n",
       "        5.8034e+04, 3.0221e+04, 3.4717e+04, 3.1282e+04, 3.5778e+04,\n",
       "        3.2021e+04, 3.2943e+04, 3.8634e+04, 4.0789e+04],\n",
       "       [4.5899e+04, 2.7204e+04, 8.0400e+03, 1.5299e+04, 1.9946e+04,\n",
       "        1.3910e+04, 2.1335e+04, 2.9413e+04, 4.6629e+04, 3.6838e+04,\n",
       "        5.6832e+04, 3.2270e+04, 3.6917e+04, 3.0097e+04, 3.4744e+04,\n",
       "        3.2700e+04, 3.2895e+04, 4.1633e+04, 4.4606e+04],\n",
       "       [4.9226e+04, 3.1324e+04, 1.0394e+04, 2.0870e+04, 2.6350e+04,\n",
       "        8.9820e+03, 1.8881e+04, 2.4515e+04, 4.1686e+04, 3.4414e+04,\n",
       "        5.6004e+04, 3.1632e+04, 3.7112e+04, 2.7708e+04, 3.3188e+04,\n",
       "        3.1962e+04, 3.2127e+04, 4.3334e+04, 4.7918e+04],\n",
       "       [4.7223e+04, 3.1124e+04, 1.3083e+04, 2.2189e+04, 2.9261e+04,\n",
       "        1.0310e+04, 2.2265e+04, 2.5632e+04, 4.0294e+04, 3.7587e+04,\n",
       "        5.7132e+04, 3.1705e+04, 3.8777e+04, 2.7950e+04, 3.5022e+04,\n",
       "        3.2457e+04, 3.2833e+04, 4.3376e+04, 4.8635e+04],\n",
       "       [4.6903e+04, 3.1146e+04, 1.3113e+04, 2.1119e+04, 2.8793e+04,\n",
       "        1.0682e+04, 2.3447e+04, 2.6264e+04, 3.9670e+04, 3.9029e+04,\n",
       "        5.7526e+04, 3.3399e+04, 4.1073e+04, 2.8656e+04, 3.6330e+04,\n",
       "        3.3631e+04, 3.3747e+04, 4.4104e+04, 4.9311e+04],\n",
       "       [4.5364e+04, 2.9776e+04, 1.2804e+04, 1.9286e+04, 2.6766e+04,\n",
       "        1.2637e+04, 2.4769e+04, 2.8250e+04, 4.1350e+04, 4.0382e+04,\n",
       "        5.8134e+04, 3.4031e+04, 4.1511e+04, 2.9742e+04, 3.7222e+04,\n",
       "        3.4672e+04, 3.4672e+04, 4.4152e+04, 4.8804e+04],\n",
       "       [3.7807e+04, 2.0630e+04, 7.5290e+03, 6.0970e+03, 1.2464e+04,\n",
       "        2.3829e+04, 3.1349e+04, 3.9527e+04, 5.1490e+04, 4.7047e+04,\n",
       "        6.0163e+04, 3.6604e+04, 4.2971e+04, 3.5457e+04, 4.1824e+04,\n",
       "        3.6616e+04, 3.6616e+04, 4.0398e+04, 4.1551e+04],\n",
       "       [4.1166e+04, 2.0591e+04, 3.8600e+03, 6.4430e+03, 9.0840e+03,\n",
       "        2.1069e+04, 2.3936e+04, 3.6767e+04, 5.4927e+04, 3.9634e+04,\n",
       "        5.8020e+04, 3.3149e+04, 3.5790e+04, 3.3585e+04, 3.6226e+04,\n",
       "        3.4473e+04, 3.4473e+04, 3.9471e+04, 3.9697e+04],\n",
       "       [4.3321e+04, 2.0992e+04, 2.5990e+03, 8.0450e+03, 8.5780e+03,\n",
       "        1.8775e+04, 1.9319e+04, 3.4473e+04, 5.6280e+04, 3.5017e+04,\n",
       "        5.6835e+04, 3.0548e+04, 3.1081e+04, 3.1907e+04, 3.2440e+04,\n",
       "        3.3288e+04, 3.3288e+04, 3.9256e+04, 3.9267e+04],\n",
       "       [4.2948e+04, 2.0461e+04, 3.1060e+03, 8.8630e+03, 8.8820e+03,\n",
       "        1.8819e+04, 1.8838e+04, 3.4513e+04, 5.6997e+04, 3.4532e+04,\n",
       "        5.7016e+04, 2.9369e+04, 2.9388e+04, 3.1423e+04, 3.1442e+04,\n",
       "        3.3473e+04, 3.3473e+04, 3.9257e+04, 3.9257e+04],\n",
       "       [4.7038e+04, 2.3505e+04, 4.2000e+01, 7.8630e+03, 7.8630e+03,\n",
       "        1.5740e+04, 1.5740e+04, 3.1438e+04, 5.4971e+04, 3.1438e+04,\n",
       "        5.4971e+04, 3.1368e+04, 3.1368e+04, 3.1396e+04, 3.1396e+04,\n",
       "        3.1424e+04, 3.1424e+04, 3.9245e+04, 3.9245e+04],\n",
       "       [4.7094e+04, 2.3547e+04, 0.0000e+00, 7.8490e+03, 7.8490e+03,\n",
       "        1.5698e+04, 1.5698e+04, 3.1396e+04, 5.4943e+04, 3.1396e+04,\n",
       "        5.4943e+04, 3.1396e+04, 3.1396e+04, 3.1396e+04, 3.1396e+04,\n",
       "        3.1396e+04, 3.1396e+04, 3.9245e+04, 3.9245e+04],\n",
       "       [4.7094e+04, 2.3547e+04, 0.0000e+00, 7.8490e+03, 7.8490e+03,\n",
       "        1.5698e+04, 1.5698e+04, 3.1396e+04, 5.4943e+04, 3.1396e+04,\n",
       "        5.4943e+04, 3.1396e+04, 3.1396e+04, 3.1396e+04, 3.1396e+04,\n",
       "        3.1396e+04, 3.1396e+04, 3.9245e+04, 3.9245e+04],\n",
       "       [4.7176e+04, 2.3711e+04, 1.6400e+02, 8.0950e+03, 8.1770e+03,\n",
       "        1.5534e+04, 1.5698e+04, 3.1232e+04, 5.4697e+04, 3.1396e+04,\n",
       "        5.4943e+04, 3.1396e+04, 3.1478e+04, 3.1314e+04, 3.1396e+04,\n",
       "        3.1396e+04, 3.1396e+04, 3.9327e+04, 3.9409e+04],\n",
       "       [4.7927e+04, 2.5213e+04, 1.6660e+03, 1.0348e+04, 1.1181e+04,\n",
       "        1.4032e+04, 1.5698e+04, 2.9730e+04, 5.2444e+04, 3.1396e+04,\n",
       "        5.4943e+04, 3.1396e+04, 3.2229e+04, 3.0563e+04, 3.1396e+04,\n",
       "        3.1396e+04, 3.1396e+04, 4.0078e+04, 4.0911e+04],\n",
       "       [4.9759e+04, 2.8902e+04, 5.3800e+03, 1.5909e+04, 1.8594e+04,\n",
       "        1.0348e+04, 1.5713e+04, 2.6041e+04, 4.6903e+04, 3.1406e+04,\n",
       "        5.4948e+04, 3.1376e+04, 3.4061e+04, 2.8711e+04, 3.1396e+04,\n",
       "        3.1386e+04, 3.1391e+04, 4.1915e+04, 4.4600e+04],\n",
       "       [5.2658e+04, 3.4853e+04, 1.1483e+04, 2.5001e+04, 3.0708e+04,\n",
       "        4.4280e+03, 1.5806e+04, 2.0091e+04, 3.7930e+04, 3.1469e+04,\n",
       "        5.4979e+04, 3.1257e+04, 3.6964e+04, 2.5691e+04, 3.1398e+04,\n",
       "        3.1327e+04, 3.1362e+04, 4.4846e+04, 5.0552e+04],\n",
       "       [5.4005e+04, 3.7789e+04, 1.4662e+04, 2.9674e+04, 3.6921e+04,\n",
       "        1.5400e+03, 1.5950e+04, 1.7154e+04, 3.3454e+04, 3.1564e+04,\n",
       "        5.5027e+04, 3.1060e+04, 3.8307e+04, 2.4149e+04, 3.1396e+04,\n",
       "        3.1228e+04, 3.1312e+04, 4.6240e+04, 5.3487e+04],\n",
       "       [5.3456e+04, 3.8156e+04, 1.6494e+04, 3.1773e+04, 3.9580e+04,\n",
       "        1.7180e+03, 1.6892e+04, 1.6787e+04, 3.2464e+04, 3.2024e+04,\n",
       "        5.5068e+04, 2.9951e+04, 3.7758e+04, 2.3526e+04, 3.1333e+04,\n",
       "        3.0516e+04, 3.0830e+04, 4.5732e+04, 5.3602e+04],\n",
       "       [5.5124e+04, 3.9992e+04, 1.6830e+04, 3.2443e+04, 4.0284e+04,\n",
       "        1.3180e+03, 1.6426e+04, 1.4951e+04, 3.0160e+04, 3.0556e+04,\n",
       "        5.3032e+04, 3.1585e+04, 3.9426e+04, 2.3058e+04, 3.0899e+04,\n",
       "        3.0248e+04, 2.9828e+04, 4.5364e+04, 5.3702e+04],\n",
       "       [5.4700e+04, 3.9319e+04, 1.6332e+04, 3.1918e+04, 3.9767e+04,\n",
       "        8.5800e+02, 1.6239e+04, 1.5624e+04, 3.1117e+04, 3.1210e+04,\n",
       "        5.4235e+04, 3.1153e+04, 3.9002e+04, 2.3342e+04, 3.1191e+04,\n",
       "        3.0762e+04, 3.0669e+04, 4.6143e+04, 5.4197e+04],\n",
       "       [5.4544e+04, 3.9401e+04, 1.6800e+04, 3.2190e+04, 3.9941e+04,\n",
       "        1.9060e+03, 1.6747e+04, 1.5550e+04, 3.0871e+04, 3.0858e+04,\n",
       "        5.3269e+04, 3.1127e+04, 3.8878e+04, 2.3194e+04, 3.0945e+04,\n",
       "        3.0098e+04, 2.9817e+04, 4.5029e+04, 5.3239e+04],\n",
       "       [5.3164e+04, 3.8857e+04, 1.8480e+04, 3.3393e+04, 4.1091e+04,\n",
       "        4.6540e+03, 1.8508e+04, 1.6086e+04, 3.1027e+04, 3.0848e+04,\n",
       "        5.1945e+04, 2.9768e+04, 3.7466e+04, 2.2790e+04, 3.0488e+04,\n",
       "        2.8312e+04, 2.8038e+04, 4.2317e+04, 5.0923e+04],\n",
       "       [5.2579e+04, 3.7577e+04, 1.7090e+04, 3.1419e+04, 3.8511e+04,\n",
       "        5.6440e+03, 1.8375e+04, 1.7366e+04, 3.2980e+04, 3.0938e+04,\n",
       "        5.2191e+04, 2.9789e+04, 3.6881e+04, 2.3463e+04, 3.0555e+04,\n",
       "        2.8490e+04, 2.8261e+04, 4.1978e+04, 4.9911e+04],\n",
       "       [5.1187e+04, 3.1892e+04, 8.4960e+03, 2.0519e+04, 2.4744e+04,\n",
       "        7.3880e+03, 1.5803e+04, 2.3059e+04, 4.2373e+04, 3.1474e+04,\n",
       "        5.4978e+04, 3.1296e+04, 3.5521e+04, 2.7187e+04, 3.1412e+04,\n",
       "        3.1350e+04, 3.1377e+04, 4.3381e+04, 4.7598e+04],\n",
       "       [4.7669e+04, 2.6022e+04, 3.5650e+03, 1.2361e+04, 1.4137e+04,\n",
       "        1.3582e+04, 1.6775e+04, 2.9156e+04, 5.0692e+04, 3.2349e+04,\n",
       "        5.5302e+04, 3.1135e+04, 3.2911e+04, 3.0090e+04, 3.1866e+04,\n",
       "        3.1383e+04, 3.1507e+04, 4.0414e+04, 4.1955e+04],\n",
       "       [4.8568e+04, 2.7271e+04, 4.2930e+03, 1.3709e+04, 1.5928e+04,\n",
       "        1.2212e+04, 1.6412e+04, 2.7879e+04, 4.9000e+04, 3.2079e+04,\n",
       "        5.5181e+04, 3.1479e+04, 3.3698e+04, 2.9591e+04, 3.1810e+04,\n",
       "        3.1541e+04, 3.1572e+04, 4.1164e+04, 4.3176e+04],\n",
       "       [4.9514e+04, 2.8827e+04, 5.7200e+03, 1.6253e+04, 1.9025e+04,\n",
       "        1.0506e+04, 1.5962e+04, 2.6116e+04, 4.6891e+04, 3.1572e+04,\n",
       "        5.5031e+04, 3.1044e+04, 3.3816e+04, 2.8624e+04, 3.1396e+04,\n",
       "        3.1220e+04, 3.1308e+04, 4.1753e+04, 4.4525e+04],\n",
       "       [5.0700e+04, 3.1239e+04, 8.1720e+03, 1.9915e+04, 2.3905e+04,\n",
       "        8.1020e+03, 1.5986e+04, 2.3704e+04, 4.3261e+04, 3.1588e+04,\n",
       "        5.5039e+04, 3.1012e+04, 3.5002e+04, 2.7406e+04, 3.1396e+04,\n",
       "        3.1204e+04, 3.1300e+04, 4.2947e+04, 4.6937e+04],\n",
       "       [5.0526e+04, 3.4011e+04, 1.4064e+04, 2.7505e+04, 3.3817e+04,\n",
       "        5.9540e+03, 1.7858e+04, 2.0932e+04, 3.8167e+04, 3.2836e+04,\n",
       "        5.5663e+04, 2.8516e+04, 3.4828e+04, 2.5084e+04, 3.1396e+04,\n",
       "        2.9956e+04, 3.0676e+04, 4.3397e+04, 4.9709e+04],\n",
       "       [5.1789e+04, 3.7047e+04, 1.7535e+04, 3.2231e+04, 4.0080e+04,\n",
       "        3.7660e+03, 1.8433e+04, 1.7971e+04, 3.3415e+04, 3.2817e+04,\n",
       "        5.5079e+04, 2.8542e+04, 3.6391e+04, 2.3518e+04, 3.1367e+04,\n",
       "        2.9559e+04, 3.0157e+04, 4.4151e+04, 5.2104e+04],\n",
       "       [5.4771e+04, 3.9211e+04, 1.5974e+04, 3.1610e+04, 3.9459e+04,\n",
       "        4.0000e+02, 1.5960e+04, 1.5732e+04, 3.1354e+04, 3.1368e+04,\n",
       "        5.4701e+04, 3.1224e+04, 3.9073e+04, 2.3471e+04, 3.1320e+04,\n",
       "        3.1120e+04, 3.1106e+04, 4.6680e+04, 5.4605e+04],\n",
       "       [5.6090e+04, 4.1539e+04, 1.7992e+04, 3.3690e+04, 4.1539e+04,\n",
       "        2.2940e+03, 1.6845e+04, 1.3404e+04, 2.7955e+04, 2.9102e+04,\n",
       "        5.0355e+04, 3.2543e+04, 4.0392e+04, 2.2400e+04, 3.0249e+04,\n",
       "        2.9102e+04, 2.7955e+04, 4.3653e+04, 5.2649e+04],\n",
       "       [5.9265e+04, 4.7889e+04, 2.4342e+04, 4.0040e+04, 4.7889e+04,\n",
       "        8.6440e+03, 2.0020e+04, 7.0540e+03, 1.8430e+04, 2.2752e+04,\n",
       "        3.7655e+04, 3.5718e+04, 4.3567e+04, 1.9225e+04, 2.7074e+04,\n",
       "        2.2752e+04, 1.8430e+04, 3.4128e+04, 4.6299e+04],\n",
       "       [5.6523e+04, 4.2405e+04, 1.8858e+04, 3.4556e+04, 4.2405e+04,\n",
       "        3.1600e+03, 1.7278e+04, 1.2538e+04, 2.6656e+04, 2.8236e+04,\n",
       "        4.8623e+04, 3.2976e+04, 4.0825e+04, 2.1967e+04, 2.9816e+04,\n",
       "        2.8236e+04, 2.6656e+04, 4.2354e+04, 5.1783e+04],\n",
       "       [5.5563e+04, 4.0495e+04, 1.6958e+04, 3.2654e+04, 4.0503e+04,\n",
       "        1.2640e+03, 1.6332e+04, 1.4448e+04, 2.9518e+04, 3.0144e+04,\n",
       "        5.2433e+04, 3.2016e+04, 3.9865e+04, 2.2919e+04, 3.0768e+04,\n",
       "        3.0136e+04, 2.9510e+04, 4.5204e+04, 5.3681e+04],\n",
       "       [5.5854e+04, 4.1067e+04, 1.7520e+04, 3.3188e+04, 4.1007e+04,\n",
       "        1.9420e+03, 1.6639e+04, 1.3876e+04, 2.8663e+04, 2.9514e+04,\n",
       "        5.1179e+04, 3.2337e+04, 4.0156e+04, 2.2636e+04, 3.0455e+04,\n",
       "        2.9514e+04, 2.8573e+04, 4.4241e+04, 5.3001e+04],\n",
       "       [5.4822e+04, 3.9243e+04, 1.5936e+04, 3.1586e+04, 3.9435e+04,\n",
       "        3.3400e+02, 1.5913e+04, 1.5700e+04, 3.1327e+04, 3.1350e+04,\n",
       "        5.4707e+04, 3.1275e+04, 3.9124e+04, 2.3476e+04, 3.1325e+04,\n",
       "        3.1158e+04, 3.1135e+04, 4.6737e+04, 5.4657e+04],\n",
       "       [5.2211e+04, 3.6950e+04, 1.6564e+04, 3.1341e+04, 3.8922e+04,\n",
       "        3.2360e+03, 1.7685e+04, 1.8001e+04, 3.3883e+04, 3.2526e+04,\n",
       "        5.5276e+04, 2.8964e+04, 3.6545e+04, 2.3755e+04, 3.1336e+04,\n",
       "        2.9994e+04, 3.0547e+04, 4.4703e+04, 5.2352e+04],\n",
       "       [4.7706e+04, 3.2290e+04, 1.6142e+04, 2.8743e+04, 3.5410e+04,\n",
       "        8.8160e+03, 2.0500e+04, 2.2795e+04, 3.9448e+04, 3.4542e+04,\n",
       "        5.6212e+04, 2.5997e+04, 3.2664e+04, 2.4928e+04, 3.1595e+04,\n",
       "        2.8588e+04, 2.9948e+04, 4.1290e+04, 4.7856e+04],\n",
       "       [4.8695e+04, 3.2993e+04, 1.6398e+04, 2.9017e+04, 3.5374e+04,\n",
       "        9.3400e+03, 2.0323e+04, 2.1862e+04, 3.8609e+04, 3.3178e+04,\n",
       "        5.4518e+04, 2.6593e+04, 3.3016e+04, 2.4139e+04, 3.0496e+04,\n",
       "        2.7939e+04, 2.9090e+04, 4.0270e+04, 4.6882e+04],\n",
       "       [4.6476e+04, 2.9236e+04, 1.2614e+04, 2.4000e+04, 2.8922e+04,\n",
       "        1.1394e+04, 1.9853e+04, 2.5707e+04, 4.4332e+04, 3.4166e+04,\n",
       "        5.6328e+04, 2.5856e+04, 3.0778e+04, 2.6474e+04, 3.1396e+04,\n",
       "        2.8626e+04, 3.0011e+04, 4.0012e+04, 4.4934e+04],\n",
       "       [4.7564e+04, 2.9922e+04, 1.1811e+04, 2.3390e+04, 2.8208e+04,\n",
       "        1.0409e+04, 1.8959e+04, 2.5021e+04, 4.3749e+04, 3.3571e+04,\n",
       "        5.6031e+04, 2.7050e+04, 3.1868e+04, 2.6578e+04, 3.1396e+04,\n",
       "        2.9226e+04, 3.0312e+04, 4.0805e+04, 4.5623e+04]])\n",
       "Coordinates:\n",
       "  * step               (step) timedelta64[ns] 01:00:00 ... 2 days 00:00:00\n",
       "    surface            int64 ...\n",
       "    heightAboveGround  int64 ...\n",
       "    id                 <U5 'FRB05'\n",
       "  * wwmf_2             (wwmf_2) int64 1 2 3 4 5 6 7 8 ... 13 14 15 16 17 18 19"
      ]
     },
     "execution_count": 285,
     "metadata": {},
     "output_type": "execute_result"
    }
   ],
   "source": [
    "distance_by_step_wwmf = ds_distance_ref.sum([\"longitude\",\"latitude\"])\n",
    "distance_by_step_wwmf"
   ]
  },
  {
   "cell_type": "code",
   "execution_count": 286,
   "metadata": {
    "scrolled": true
   },
   "outputs": [
    {
     "data": {
      "text/html": [
       "<pre>&lt;xarray.DataArray (step: 48)&gt;\n",
       "array([ 2228.,  2051.,  4513.,  9363., 12744.,  8687.,  8040.,  8982.,\n",
       "       10310., 10682., 12637.,  6097.,  3860.,  2599.,  3106.,    42.,\n",
       "           0.,     0.,   164.,  1666.,  5380.,  4428.,  1540.,  1718.,\n",
       "        1318.,   858.,  1906.,  4654.,  5644.,  7388.,  3565.,  4293.,\n",
       "        5720.,  8102.,  5954.,  3766.,   400.,  2294.,  7054.,  3160.,\n",
       "        1264.,  1942.,   334.,  3236.,  8816.,  9340., 11394., 10409.])\n",
       "Coordinates:\n",
       "  * step               (step) timedelta64[ns] 01:00:00 ... 2 days 00:00:00\n",
       "    surface            int64 0\n",
       "    heightAboveGround  int64 2\n",
       "    id                 &lt;U5 &#x27;FRB05&#x27;</pre>"
      ],
      "text/plain": [
       "<xarray.DataArray (step: 48)>\n",
       "array([ 2228.,  2051.,  4513.,  9363., 12744.,  8687.,  8040.,  8982.,\n",
       "       10310., 10682., 12637.,  6097.,  3860.,  2599.,  3106.,    42.,\n",
       "           0.,     0.,   164.,  1666.,  5380.,  4428.,  1540.,  1718.,\n",
       "        1318.,   858.,  1906.,  4654.,  5644.,  7388.,  3565.,  4293.,\n",
       "        5720.,  8102.,  5954.,  3766.,   400.,  2294.,  7054.,  3160.,\n",
       "        1264.,  1942.,   334.,  3236.,  8816.,  9340., 11394., 10409.])\n",
       "Coordinates:\n",
       "  * step               (step) timedelta64[ns] 01:00:00 ... 2 days 00:00:00\n",
       "    surface            int64 0\n",
       "    heightAboveGround  int64 2\n",
       "    id                 <U5 'FRB05'"
      ]
     },
     "execution_count": 286,
     "metadata": {},
     "output_type": "execute_result"
    }
   ],
   "source": [
    "distance_by_step_wwmf.min(\"wwmf_2\").compute()"
   ]
  },
  {
   "cell_type": "code",
   "execution_count": 288,
   "metadata": {},
   "outputs": [
    {
     "data": {
      "text/html": [
       "<pre>&lt;xarray.DataArray &#x27;wwmf_2&#x27; (step: 48)&gt;\n",
       "array([4, 4, 4, 4, 3, 3, 3, 6, 6, 6, 6, 4, 3, 3, 3, 3, 3, 3, 3, 3, 3, 6, 6, 6,\n",
       "       6, 6, 6, 6, 6, 6, 3, 3, 3, 6, 6, 6, 6, 6, 8, 6, 6, 6, 6, 6, 6, 6, 6, 6])\n",
       "Coordinates:\n",
       "    surface            int64 ...\n",
       "    heightAboveGround  int64 ...\n",
       "    id                 &lt;U5 &#x27;FRB05&#x27;\n",
       "    wwmf_2             (step) int64 4 4 4 4 3 3 3 6 6 6 ... 8 6 6 6 6 6 6 6 6 6\n",
       "  * step               (step) timedelta64[ns] 01:00:00 ... 2 days 00:00:00</pre>"
      ],
      "text/plain": [
       "<xarray.DataArray 'wwmf_2' (step: 48)>\n",
       "array([4, 4, 4, 4, 3, 3, 3, 6, 6, 6, 6, 4, 3, 3, 3, 3, 3, 3, 3, 3, 3, 6, 6, 6,\n",
       "       6, 6, 6, 6, 6, 6, 3, 3, 3, 6, 6, 6, 6, 6, 8, 6, 6, 6, 6, 6, 6, 6, 6, 6])\n",
       "Coordinates:\n",
       "    surface            int64 ...\n",
       "    heightAboveGround  int64 ...\n",
       "    id                 <U5 'FRB05'\n",
       "    wwmf_2             (step) int64 4 4 4 4 3 3 3 6 6 6 ... 8 6 6 6 6 6 6 6 6 6\n",
       "  * step               (step) timedelta64[ns] 01:00:00 ... 2 days 00:00:00"
      ]
     },
     "execution_count": 288,
     "metadata": {},
     "output_type": "execute_result"
    }
   ],
   "source": [
    "distance_by_step_wwmf[\"wwmf_2\"][distance_by_step_wwmf.argmin(\"wwmf_2\")]"
   ]
  },
  {
   "cell_type": "markdown",
   "metadata": {},
   "source": [
    "## On charge le fichier du Loir et Cher\n",
    "A priori on a bien la même chose "
   ]
  },
  {
   "cell_type": "code",
   "execution_count": 35,
   "metadata": {},
   "outputs": [],
   "source": [
    "df_LoirCher = pd.read_csv(\"../notebook_gabriel/scores_advanced/FRB05_scores_202001260100.csv\")"
   ]
  },
  {
   "cell_type": "code",
   "execution_count": 51,
   "metadata": {},
   "outputs": [
    {
     "data": {
      "text/html": [
       "<div>\n",
       "<style scoped>\n",
       "    .dataframe tbody tr th:only-of-type {\n",
       "        vertical-align: middle;\n",
       "    }\n",
       "\n",
       "    .dataframe tbody tr th {\n",
       "        vertical-align: top;\n",
       "    }\n",
       "\n",
       "    .dataframe thead th {\n",
       "        text-align: right;\n",
       "    }\n",
       "</style>\n",
       "<table border=\"1\" class=\"dataframe\">\n",
       "  <thead>\n",
       "    <tr style=\"text-align: right;\">\n",
       "      <th></th>\n",
       "      <th>WME</th>\n",
       "      <th>WME_dist</th>\n",
       "    </tr>\n",
       "  </thead>\n",
       "  <tbody>\n",
       "    <tr>\n",
       "      <th>0</th>\n",
       "      <td>4</td>\n",
       "      <td>2228</td>\n",
       "    </tr>\n",
       "    <tr>\n",
       "      <th>1</th>\n",
       "      <td>4</td>\n",
       "      <td>2051</td>\n",
       "    </tr>\n",
       "    <tr>\n",
       "      <th>2</th>\n",
       "      <td>4</td>\n",
       "      <td>4513</td>\n",
       "    </tr>\n",
       "    <tr>\n",
       "      <th>3</th>\n",
       "      <td>4</td>\n",
       "      <td>9363</td>\n",
       "    </tr>\n",
       "    <tr>\n",
       "      <th>4</th>\n",
       "      <td>3</td>\n",
       "      <td>12744</td>\n",
       "    </tr>\n",
       "    <tr>\n",
       "      <th>5</th>\n",
       "      <td>3</td>\n",
       "      <td>8687</td>\n",
       "    </tr>\n",
       "    <tr>\n",
       "      <th>6</th>\n",
       "      <td>3</td>\n",
       "      <td>8040</td>\n",
       "    </tr>\n",
       "    <tr>\n",
       "      <th>7</th>\n",
       "      <td>6</td>\n",
       "      <td>8982</td>\n",
       "    </tr>\n",
       "    <tr>\n",
       "      <th>8</th>\n",
       "      <td>6</td>\n",
       "      <td>10310</td>\n",
       "    </tr>\n",
       "    <tr>\n",
       "      <th>9</th>\n",
       "      <td>6</td>\n",
       "      <td>10682</td>\n",
       "    </tr>\n",
       "    <tr>\n",
       "      <th>10</th>\n",
       "      <td>6</td>\n",
       "      <td>12637</td>\n",
       "    </tr>\n",
       "    <tr>\n",
       "      <th>11</th>\n",
       "      <td>4</td>\n",
       "      <td>6097</td>\n",
       "    </tr>\n",
       "    <tr>\n",
       "      <th>12</th>\n",
       "      <td>3</td>\n",
       "      <td>3860</td>\n",
       "    </tr>\n",
       "    <tr>\n",
       "      <th>13</th>\n",
       "      <td>3</td>\n",
       "      <td>2599</td>\n",
       "    </tr>\n",
       "    <tr>\n",
       "      <th>14</th>\n",
       "      <td>3</td>\n",
       "      <td>3106</td>\n",
       "    </tr>\n",
       "    <tr>\n",
       "      <th>15</th>\n",
       "      <td>3</td>\n",
       "      <td>42</td>\n",
       "    </tr>\n",
       "    <tr>\n",
       "      <th>16</th>\n",
       "      <td>3</td>\n",
       "      <td>0</td>\n",
       "    </tr>\n",
       "    <tr>\n",
       "      <th>17</th>\n",
       "      <td>3</td>\n",
       "      <td>0</td>\n",
       "    </tr>\n",
       "    <tr>\n",
       "      <th>18</th>\n",
       "      <td>3</td>\n",
       "      <td>164</td>\n",
       "    </tr>\n",
       "    <tr>\n",
       "      <th>19</th>\n",
       "      <td>3</td>\n",
       "      <td>1666</td>\n",
       "    </tr>\n",
       "    <tr>\n",
       "      <th>20</th>\n",
       "      <td>3</td>\n",
       "      <td>5380</td>\n",
       "    </tr>\n",
       "    <tr>\n",
       "      <th>21</th>\n",
       "      <td>6</td>\n",
       "      <td>4428</td>\n",
       "    </tr>\n",
       "    <tr>\n",
       "      <th>22</th>\n",
       "      <td>6</td>\n",
       "      <td>1540</td>\n",
       "    </tr>\n",
       "    <tr>\n",
       "      <th>23</th>\n",
       "      <td>6</td>\n",
       "      <td>1718</td>\n",
       "    </tr>\n",
       "    <tr>\n",
       "      <th>24</th>\n",
       "      <td>6</td>\n",
       "      <td>1318</td>\n",
       "    </tr>\n",
       "    <tr>\n",
       "      <th>25</th>\n",
       "      <td>6</td>\n",
       "      <td>858</td>\n",
       "    </tr>\n",
       "    <tr>\n",
       "      <th>26</th>\n",
       "      <td>6</td>\n",
       "      <td>1906</td>\n",
       "    </tr>\n",
       "    <tr>\n",
       "      <th>27</th>\n",
       "      <td>6</td>\n",
       "      <td>4654</td>\n",
       "    </tr>\n",
       "    <tr>\n",
       "      <th>28</th>\n",
       "      <td>6</td>\n",
       "      <td>5644</td>\n",
       "    </tr>\n",
       "    <tr>\n",
       "      <th>29</th>\n",
       "      <td>6</td>\n",
       "      <td>7388</td>\n",
       "    </tr>\n",
       "    <tr>\n",
       "      <th>30</th>\n",
       "      <td>3</td>\n",
       "      <td>3565</td>\n",
       "    </tr>\n",
       "    <tr>\n",
       "      <th>31</th>\n",
       "      <td>3</td>\n",
       "      <td>4293</td>\n",
       "    </tr>\n",
       "    <tr>\n",
       "      <th>32</th>\n",
       "      <td>3</td>\n",
       "      <td>5720</td>\n",
       "    </tr>\n",
       "    <tr>\n",
       "      <th>33</th>\n",
       "      <td>6</td>\n",
       "      <td>8102</td>\n",
       "    </tr>\n",
       "    <tr>\n",
       "      <th>34</th>\n",
       "      <td>6</td>\n",
       "      <td>5954</td>\n",
       "    </tr>\n",
       "    <tr>\n",
       "      <th>35</th>\n",
       "      <td>6</td>\n",
       "      <td>3766</td>\n",
       "    </tr>\n",
       "    <tr>\n",
       "      <th>36</th>\n",
       "      <td>6</td>\n",
       "      <td>400</td>\n",
       "    </tr>\n",
       "    <tr>\n",
       "      <th>37</th>\n",
       "      <td>6</td>\n",
       "      <td>2294</td>\n",
       "    </tr>\n",
       "    <tr>\n",
       "      <th>38</th>\n",
       "      <td>8</td>\n",
       "      <td>7054</td>\n",
       "    </tr>\n",
       "    <tr>\n",
       "      <th>39</th>\n",
       "      <td>6</td>\n",
       "      <td>3160</td>\n",
       "    </tr>\n",
       "    <tr>\n",
       "      <th>40</th>\n",
       "      <td>6</td>\n",
       "      <td>1264</td>\n",
       "    </tr>\n",
       "    <tr>\n",
       "      <th>41</th>\n",
       "      <td>6</td>\n",
       "      <td>1942</td>\n",
       "    </tr>\n",
       "    <tr>\n",
       "      <th>42</th>\n",
       "      <td>6</td>\n",
       "      <td>334</td>\n",
       "    </tr>\n",
       "    <tr>\n",
       "      <th>43</th>\n",
       "      <td>6</td>\n",
       "      <td>3236</td>\n",
       "    </tr>\n",
       "    <tr>\n",
       "      <th>44</th>\n",
       "      <td>6</td>\n",
       "      <td>8816</td>\n",
       "    </tr>\n",
       "    <tr>\n",
       "      <th>45</th>\n",
       "      <td>6</td>\n",
       "      <td>9340</td>\n",
       "    </tr>\n",
       "    <tr>\n",
       "      <th>46</th>\n",
       "      <td>6</td>\n",
       "      <td>11394</td>\n",
       "    </tr>\n",
       "    <tr>\n",
       "      <th>47</th>\n",
       "      <td>6</td>\n",
       "      <td>10409</td>\n",
       "    </tr>\n",
       "  </tbody>\n",
       "</table>\n",
       "</div>"
      ],
      "text/plain": [
       "    WME  WME_dist\n",
       "0     4      2228\n",
       "1     4      2051\n",
       "2     4      4513\n",
       "3     4      9363\n",
       "4     3     12744\n",
       "5     3      8687\n",
       "6     3      8040\n",
       "7     6      8982\n",
       "8     6     10310\n",
       "9     6     10682\n",
       "10    6     12637\n",
       "11    4      6097\n",
       "12    3      3860\n",
       "13    3      2599\n",
       "14    3      3106\n",
       "15    3        42\n",
       "16    3         0\n",
       "17    3         0\n",
       "18    3       164\n",
       "19    3      1666\n",
       "20    3      5380\n",
       "21    6      4428\n",
       "22    6      1540\n",
       "23    6      1718\n",
       "24    6      1318\n",
       "25    6       858\n",
       "26    6      1906\n",
       "27    6      4654\n",
       "28    6      5644\n",
       "29    6      7388\n",
       "30    3      3565\n",
       "31    3      4293\n",
       "32    3      5720\n",
       "33    6      8102\n",
       "34    6      5954\n",
       "35    6      3766\n",
       "36    6       400\n",
       "37    6      2294\n",
       "38    8      7054\n",
       "39    6      3160\n",
       "40    6      1264\n",
       "41    6      1942\n",
       "42    6       334\n",
       "43    6      3236\n",
       "44    6      8816\n",
       "45    6      9340\n",
       "46    6     11394\n",
       "47    6     10409"
      ]
     },
     "execution_count": 51,
     "metadata": {},
     "output_type": "execute_result"
    }
   ],
   "source": [
    "df_LoirCher[[\"WME\",\"WME_dist\"]]"
   ]
  },
  {
   "cell_type": "code",
   "execution_count": 19,
   "metadata": {},
   "outputs": [],
   "source": [
    "def to_categorical(y, num_classes=None, dtype='float32'):\n",
    "  \"\"\"Converts a class vector (integers) to binary class matrix.\n",
    "  E.g. for use with categorical_crossentropy.\n",
    "  Arguments:\n",
    "      y: class vector to be converted into a matrix\n",
    "          (integers from 0 to num_classes).\n",
    "      num_classes: total number of classes.\n",
    "      dtype: The data type expected by the input. Default: `'float32'`.\n",
    "  Returns:\n",
    "      A binary matrix representation of the input. The classes axis is placed\n",
    "      last.\n",
    "  \"\"\"\n",
    "  y = np.array(y, dtype='int')\n",
    "  input_shape = y.shape\n",
    "  if input_shape and input_shape[-1] == 1 and len(input_shape) > 1:\n",
    "    input_shape = tuple(input_shape[:-1])\n",
    "  y = y.ravel()\n",
    "  if not num_classes:\n",
    "    num_classes = np.max(y) + 1\n",
    "  n = y.shape[0]\n",
    "  categorical = np.zeros((n, num_classes), dtype=dtype)\n",
    "  categorical[np.arange(n), y] = 1\n",
    "  output_shape = input_shape + (num_classes,)\n",
    "  categorical = np.reshape(categorical, output_shape)\n",
    "  return categorical\n",
    "\n",
    "def conversion(ds,name):\n",
    "    \"\"\"convert wwmf into wme (compas) or w1 (agat) code\"\"\"\n",
    "    \n",
    "    file_CodesWWMF= '../utils/CodesWWMF.csv'\n",
    "    df_WWMF = pd.read_csv(file_CodesWWMF,usecols = (0,1,2,3,6,7),sep=',')\n",
    "    if name==\"compas\":\n",
    "        var_name=\"wme_arr\"\n",
    "        col_name=\"Code WME\"\n",
    "        ds[var_name]=ds.unknown\n",
    "    elif name==\"agat\":\n",
    "        var_name=\"w1_arr\"\n",
    "        col_name=\"Code W1\"\n",
    "        ds[var_name]=ds.unknown       \n",
    "        \n",
    "    elif name==\"compas_asym\":\n",
    "        var_name=\"wme_asym_arr\"\n",
    "        col_name=\"Code WME\"\n",
    "        ds[var_name]=ds.unknown      \n",
    "    elif name==\"agat_asym\":\n",
    "        var_name=\"w1_asym_arr\"\n",
    "        col_name=\"Code W1\"\n",
    "        ds[var_name]=ds.unknown \n",
    "\n",
    "    for iwwmf,wwmf in enumerate(df_WWMF[\"Code WWMF\"]):\n",
    "        ds[var_name]=ds[var_name].where(ds.unknown!=wwmf,df_WWMF[col_name][iwwmf])\n",
    "    return ds\n",
    "\n",
    "def xarray_cat(da,mask=None):\n",
    "    y = da.astype(np.uint8).values\n",
    "    cat = to_categorical(y)\n",
    "    sh = cat.shape \n",
    "    dout = xr.Dataset()\n",
    "    dout[da.name] = (tuple(list(da.dims) + [\"wwmf\"]),cat)\n",
    "    for dim in da.dims: \n",
    "        dout[dim] = da[dim]\n",
    "    dout[\"wwmf\"] = range(sh[-1])\n",
    "    #dout = dout.sel(wwmf=slice(1,sh[-1]))# On vire l'indice 0\n",
    "    return dout \n",
    "    \n",
    "def get_matrix(name):\n",
    "    \"\"\"\n",
    "    Retourne la matrice de distance sous forme de xarray \n",
    "    \"\"\"\n",
    "    if name == \"compas\":\n",
    "        fname_dist = '../utils/distance_compas.csv'\n",
    "        df_dist = pd.read_csv(fname_dist,sep=',')\n",
    "        var_name=\"wme_arr\"\n",
    "        varsh=\"wme_c_\"\n",
    "        \n",
    "    elif name == \"agat\":\n",
    "        fname_dist = '../utils/distance_agat.csv'\n",
    "        df_dist = pd.read_csv(fname_dist,sep=',')  \n",
    "        var_name=\"w1_arr\"\n",
    "        varsh=\"w1_c_\"\n",
    "        \n",
    "    elif name == \"compas_asym\":\n",
    "        fname_dist = '../utils/distance_compas_asym.csv'\n",
    "        df_dist = pd.read_csv(fname_dist,sep=',')\n",
    "        var_name=\"wme_asym_arr\"\n",
    "        varsh=\"wme_asym_c_\"\n",
    "        \n",
    "    elif name == \"agat_asym\":\n",
    "        fname_dist = '../utils/distance_agat_asym.csv'\n",
    "        df_dist = pd.read_csv(fname_dist,sep=',')  \n",
    "        var_name=\"w1_asym_arr\"\n",
    "        varsh=\"w1_asym_c_\"\n",
    "\n",
    "    col_name = df_dist.columns[0]\n",
    "    index = df_dist[col_name]\n",
    "    values = df_dist.set_index(col_name).values\n",
    "    mat = xr.Dataset()\n",
    "    mat[\"distance\"] = ((\"wwmf\",\"wwmf_2\"),values)\n",
    "    mat[\"wwmf\"] = index.values\n",
    "    mat[\"wwmf_2\"] = index.values\n",
    "    mat[\"distance\"].attrs[\"var_name\"] = var_name\n",
    "    return mat[\"distance\"]\n",
    "\n",
    "def get_pixel_distance_dept(ds_dept,name):\n",
    "    \" On donne en entree le dataset du departement\"\n",
    "    dconvert = conversion(ds_dept,name)\n",
    "    distance_matrix = get_matrix(name)\n",
    "    dcat = xarray_cat(dconvert[distance_matrix.var_name])\n",
    "    return dcat[distance_matrix.var_name].dot(distance_matrix)"
   ]
  }
 ],
 "metadata": {
  "kernelspec": {
   "display_name": "Python 3",
   "language": "python",
   "name": "python3"
  },
  "language_info": {
   "codemirror_mode": {
    "name": "ipython",
    "version": 3
   },
   "file_extension": ".py",
   "mimetype": "text/x-python",
   "name": "python",
   "nbconvert_exporter": "python",
   "pygments_lexer": "ipython3",
   "version": "3.8.2"
  }
 },
 "nbformat": 4,
 "nbformat_minor": 4
}
