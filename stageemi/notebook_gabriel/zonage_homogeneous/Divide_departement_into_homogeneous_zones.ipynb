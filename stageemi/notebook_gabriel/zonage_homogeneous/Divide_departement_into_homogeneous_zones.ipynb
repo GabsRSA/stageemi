{
 "cells": [
  {
   "cell_type": "code",
   "execution_count": 1,
   "metadata": {},
   "outputs": [],
   "source": [
    "import stageemi\n",
    "import stageemi.dev.distance_wwmf as distance_wwmf\n",
    "import numpy as np\n",
    "import xarray as xr\n",
    "import matplotlib.pyplot as plt\n",
    "import os \n",
    "import numpy as np\n",
    "import pandas as pd\n",
    "from datetime import datetime\n",
    "import glob \n",
    "import time"
   ]
  },
  {
   "cell_type": "code",
   "execution_count": 2,
   "metadata": {},
   "outputs": [],
   "source": [
    "path=\"../../WWMF/\"\n",
    "time_str='202001260000'\n",
    "fname=sorted(glob.glob(path+\"*\"+'20200126000000'+\"*\"))[0]"
   ]
  },
  {
   "cell_type": "markdown",
   "metadata": {},
   "source": [
    "# Opening the files"
   ]
  },
  {
   "cell_type": "code",
   "execution_count": 3,
   "metadata": {},
   "outputs": [],
   "source": [
    "# open the masks file: includes all possible masks for the departement (as proposed by Mary)\n",
    "zone_dpt=\"41\"\n",
    "fname_mask='../../GeoData/zones_sympo_multiples/'+zone_dpt+'_mask_zones_sympos.nc'\n",
    "da_mask=xr.open_dataarray(fname_mask,chunks={\"id\":1})\n",
    "\n",
    "da_mask['latitude']=da_mask['latitude'].round(5)\n",
    "da_mask['latitude']=da_mask['latitude'].round(5)"
   ]
  },
  {
   "cell_type": "code",
   "execution_count": 4,
   "metadata": {},
   "outputs": [],
   "source": [
    "# includes as an attribute the size of each zone (in number of pixels)\n",
    "zone_size_l=[len(np.where(da_mask.isel(id=i)==1)[0]) for i in np.arange(0,len(da_mask.id))]\n",
    "da_mask.attrs[\"zone size\"]=zone_size_l\n",
    "#da_mask.attrs[\"zone size\"]"
   ]
  },
  {
   "cell_type": "code",
   "execution_count": 5,
   "metadata": {},
   "outputs": [],
   "source": [
    "# open the AROME dataset\n",
    "ds=xr.open_dataset(fname,chunks={\"step\":1})\n",
    "ds['latitude']=ds['latitude'].round(5)\n",
    "ds['longitude']=ds['longitude'].round(5)"
   ]
  },
  {
   "cell_type": "code",
   "execution_count": 6,
   "metadata": {},
   "outputs": [],
   "source": [
    "# mask the AROME dataset over the departement of interest\n",
    "ds_masked=(ds*da_mask.sel(id=\"departement\").drop(\"id\"))\n",
    "\n",
    "# plot one echeance step\n",
    "#ds_masked.isel(step=47).unknown.plot.imshow(vmin=0,vmax=99)"
   ]
  },
  {
   "cell_type": "markdown",
   "metadata": {},
   "source": [
    "# Define the output dataframe where the results are stored"
   ]
  },
  {
   "cell_type": "code",
   "execution_count": 7,
   "metadata": {},
   "outputs": [],
   "source": [
    "distance_choice=\"compas\""
   ]
  },
  {
   "cell_type": "code",
   "execution_count": 8,
   "metadata": {},
   "outputs": [
    {
     "data": {
      "text/html": [
       "<div>\n",
       "<style scoped>\n",
       "    .dataframe tbody tr th:only-of-type {\n",
       "        vertical-align: middle;\n",
       "    }\n",
       "\n",
       "    .dataframe tbody tr th {\n",
       "        vertical-align: top;\n",
       "    }\n",
       "\n",
       "    .dataframe thead th {\n",
       "        text-align: right;\n",
       "    }\n",
       "</style>\n",
       "<table border=\"1\" class=\"dataframe\">\n",
       "  <thead>\n",
       "    <tr style=\"text-align: right;\">\n",
       "      <th></th>\n",
       "      <th>zone_winning</th>\n",
       "      <th>zw_compas</th>\n",
       "      <th>zone_comp</th>\n",
       "      <th>zc_compas</th>\n",
       "      <th>zone_winning_2</th>\n",
       "      <th>zw2_compas</th>\n",
       "      <th>zone_winning_comp</th>\n",
       "      <th>zwc_compas</th>\n",
       "      <th>zone_comp_winning</th>\n",
       "      <th>zcw_compas</th>\n",
       "      <th>zone_comp_comp</th>\n",
       "      <th>zc2_compas</th>\n",
       "    </tr>\n",
       "  </thead>\n",
       "  <tbody>\n",
       "  </tbody>\n",
       "</table>\n",
       "</div>"
      ],
      "text/plain": [
       "Empty DataFrame\n",
       "Columns: [zone_winning, zw_compas, zone_comp, zc_compas, zone_winning_2, zw2_compas, zone_winning_comp, zwc_compas, zone_comp_winning, zcw_compas, zone_comp_comp, zc2_compas]\n",
       "Index: []"
      ]
     },
     "execution_count": 8,
     "metadata": {},
     "output_type": "execute_result"
    }
   ],
   "source": [
    "df_zones=pd.DataFrame(columns=['zone_winning','zw_'+distance_choice,'zone_comp','zc_'+distance_choice,\n",
    "                                'zone_winning_2','zw2_'+distance_choice,'zone_winning_comp','zwc_'+distance_choice,\n",
    "                                'zone_comp_winning','zcw_'+distance_choice,'zone_comp_comp','zc2_'+distance_choice])\n",
    "\n",
    "df_zones"
   ]
  },
  {
   "cell_type": "markdown",
   "metadata": {},
   "source": [
    "# 1 Calculation of the distance for both the masks and complementary mask parts (round 1)"
   ]
  },
  {
   "cell_type": "markdown",
   "metadata": {},
   "source": [
    "## 1.1 Calculation of the distance for the mask part"
   ]
  },
  {
   "cell_type": "markdown",
   "metadata": {},
   "source": [
    "### 1.1.1 Calculation of the distance of the AROME map for all masks and echeance steps with respect to all wwmf_2 codes"
   ]
  },
  {
   "cell_type": "code",
   "execution_count": 9,
   "metadata": {},
   "outputs": [],
   "source": [
    "ds_distance = distance_wwmf.get_pixel_distance_dept(ds_masked,distance_choice) # 4D (step:48, latitude, longitude, wwmf_2)\n",
    "#ds_distance"
   ]
  },
  {
   "cell_type": "code",
   "execution_count": 10,
   "metadata": {},
   "outputs": [],
   "source": [
    "# chunk per step\n",
    "ds_distance_chunk = ds_distance.chunk({\"step\":1}) # 4D (step:48, latitude, longitude, wwmf_2)\n",
    "#ds_distance_chunk"
   ]
  },
  {
   "cell_type": "code",
   "execution_count": 11,
   "metadata": {},
   "outputs": [
    {
     "name": "stderr",
     "output_type": "stream",
     "text": [
      "/home/vincent-chabot/Documents/environnement_conda/env/geoview/lib/python3.8/site-packages/dask/array/core.py:3901: PerformanceWarning: Increasing number of chunks by factor of 31\n",
      "  result = blockwise(\n"
     ]
    }
   ],
   "source": [
    "# return the distance for each mask id, all steps and all wwmf_2 codes\n",
    "distance_by_step_id = (ds_distance_chunk * da_mask).sum(['latitude',\"longitude\"]).compute() # 3D (step:48, wwmf_2, id)\n",
    "#distance_by_step_id"
   ]
  },
  {
   "cell_type": "markdown",
   "metadata": {},
   "source": [
    "### 1.1.2 Calculate the minimal distance (over all wwmf_2 codes) for all echeance steps and masks"
   ]
  },
  {
   "cell_type": "code",
   "execution_count": 12,
   "metadata": {},
   "outputs": [],
   "source": [
    "dist_by_step_id_min=distance_by_step_id.min(\"wwmf_2\") # 2D (step, id)\n",
    "#dist_by_step_id_min"
   ]
  },
  {
   "cell_type": "code",
   "execution_count": 13,
   "metadata": {},
   "outputs": [],
   "source": [
    "# find echeance steps when the weather is the same over the entire departement (min distance is 0 for all zones)\n",
    "ind_dpt=np.where(~dist_by_step_id_min.any(axis=1))[0] \n",
    "#dist_by_step_id_min"
   ]
  },
  {
   "cell_type": "markdown",
   "metadata": {},
   "source": [
    "## 1.2 Calculation of the distance for the complementary mask part"
   ]
  },
  {
   "cell_type": "markdown",
   "metadata": {},
   "source": [
    "### 1.2.1 Repeat the same calculation but for the complementary masks (departement-mask)"
   ]
  },
  {
   "cell_type": "code",
   "execution_count": 14,
   "metadata": {},
   "outputs": [],
   "source": [
    "# first build the dataarray of complementary masks\n",
    "da_mask_comp=-1*(da_mask.isel(id=slice(0,len(da_mask.id)))-da_mask.isel(id=0))"
   ]
  },
  {
   "cell_type": "code",
   "execution_count": 15,
   "metadata": {},
   "outputs": [],
   "source": [
    "# includes as an attribute the size of each zone (in number of pixels)\n",
    "zone_comp_size_l=[len(np.where(da_mask_comp.isel(id=i)==1)[0]) for i in np.arange(0,len(da_mask.id))]\n",
    "da_mask_comp.attrs[\"zone size\"]=zone_comp_size_l\n",
    "#da_mask_comp"
   ]
  },
  {
   "cell_type": "code",
   "execution_count": 16,
   "metadata": {
    "scrolled": true
   },
   "outputs": [
    {
     "name": "stderr",
     "output_type": "stream",
     "text": [
      "/home/vincent-chabot/Documents/environnement_conda/env/geoview/lib/python3.8/site-packages/dask/array/core.py:3901: PerformanceWarning: Increasing number of chunks by factor of 31\n",
      "  result = blockwise(\n"
     ]
    }
   ],
   "source": [
    "# return the distance for each 'complementary mask id', all steps and all wwmf_2 codes\n",
    "distance_comp_by_step_id = (ds_distance_chunk * da_mask_comp).sum(['latitude',\"longitude\"]).compute() # 3D (step:48, wwmf_2, id)\n",
    "#distance_comp_by_step_id"
   ]
  },
  {
   "cell_type": "markdown",
   "metadata": {},
   "source": [
    "### 1.2.2 Calculate the minimal distance (over all wwmf_2 codes) for all echeance steps and complementary masks"
   ]
  },
  {
   "cell_type": "code",
   "execution_count": 17,
   "metadata": {},
   "outputs": [],
   "source": [
    "dist_comp_by_step_id_min=distance_comp_by_step_id.min(\"wwmf_2\") # 2D (step, id)\n",
    "# dist_comp_by_step_id_min[:,1:] (the first column is the empty mask: departement-departement)"
   ]
  },
  {
   "cell_type": "markdown",
   "metadata": {},
   "source": [
    "## 1.3 Find the mask (zone) that minimizes the sum of the distances (mask and complementary part = entire departement): the 'winning zone'"
   ]
  },
  {
   "cell_type": "code",
<<<<<<< HEAD
   "execution_count": 18,
=======
   "execution_count": 27,
>>>>>>> 8d7856992850e0ca8042c7652f6c08480cec742f
   "metadata": {},
   "outputs": [],
   "source": [
    "# sum both distance min arrays\n",
    "dist_sum_by_step_id_min=dist_by_step_id_min[:,1:]+dist_comp_by_step_id_min[:,1:] # we do not account for the trivial case of the departement since we aim at zoning it"
   ]
  },
  {
   "cell_type": "code",
<<<<<<< HEAD
   "execution_count": 19,
=======
   "execution_count": 33,
>>>>>>> 8d7856992850e0ca8042c7652f6c08480cec742f
   "metadata": {},
   "outputs": [],
   "source": [
    "# first, the indices of the winning zones in terms of the criterion: minimization of the sum of the distances\n",
    "ind_winning_zone=dist_sum_by_step_id_min.argmin((\"id\")).values+1 # +1 because the array \"dist_sum_by_step_id_min\" has been reduced by the first column (departement) \n",
    "#ind_winning_zone # type is: ndarray\n",
    "\n",
    "# going back to the \"temps sensible\" info for the winning zone\n",
    "tps_sensible_winning_zone=distance_by_step_id.wwmf_2[distance_by_step_id.argmin(\"wwmf_2\").values[np.arange(0,ds_masked.dims['step']),ind_winning_zone]]\n",
    "\n",
    "# and for the complementary of the winning zone\n",
    "tps_sensible_winning_zone_comp=distance_comp_by_step_id.wwmf_2[distance_comp_by_step_id.argmin(\"wwmf_2\").values[np.arange(0,ds_masked.dims['step']),ind_winning_zone]]\n",
    "\n",
    "# id of the winning zones\n",
    "zoneswinning=dist_sum_by_step_id_min.id[dist_sum_by_step_id_min.argmin((\"id\"))].values # note that dist_sum_by_step_id_min.id does not include id: departement"
   ]
  },
  {
   "cell_type": "code",
<<<<<<< HEAD
   "execution_count": 20,
=======
   "execution_count": 34,
>>>>>>> 8d7856992850e0ca8042c7652f6c08480cec742f
   "metadata": {
    "scrolled": true
   },
   "outputs": [
    {
     "data": {
      "text/html": [
       "<pre>&lt;xarray.DataArray &#x27;wwmf_2&#x27; (wwmf_2: 48)&gt;\n",
       "array([ 4,  4,  4,  4, 12,  6,  6,  3,  6,  6,  6,  3,  3,  3,  3,  3,  3,  3,\n",
       "        3,  3,  6,  6,  6,  6,  8,  6,  6,  6,  6,  3,  3,  6,  6,  6,  6,  6,\n",
       "        6,  6,  8,  8,  6,  6,  6, 12,  6,  6,  6,  3])\n",
       "Coordinates:\n",
       "    surface            int64 0\n",
       "    heightAboveGround  int64 2\n",
       "  * wwmf_2             (wwmf_2) int64 4 4 4 4 12 6 6 3 6 ... 8 6 6 6 12 6 6 6 3\n",
       "    time               datetime64[ns] 2019-10-01\n",
       "    valid_time         datetime64[ns] 2019-10-01T12:00:00</pre>"
      ],
      "text/plain": [
       "<xarray.DataArray 'wwmf_2' (wwmf_2: 48)>\n",
       "array([ 4,  4,  4,  4, 12,  6,  6,  3,  6,  6,  6,  3,  3,  3,  3,  3,  3,  3,\n",
       "        3,  3,  6,  6,  6,  6,  8,  6,  6,  6,  6,  3,  3,  6,  6,  6,  6,  6,\n",
       "        6,  6,  8,  8,  6,  6,  6, 12,  6,  6,  6,  3])\n",
       "Coordinates:\n",
       "    surface            int64 0\n",
       "    heightAboveGround  int64 2\n",
       "  * wwmf_2             (wwmf_2) int64 4 4 4 4 12 6 6 3 6 ... 8 6 6 6 12 6 6 6 3\n",
       "    time               datetime64[ns] 2019-10-01\n",
       "    valid_time         datetime64[ns] 2019-10-01T12:00:00"
      ]
     },
<<<<<<< HEAD
     "execution_count": 20,
=======
     "execution_count": 34,
>>>>>>> 8d7856992850e0ca8042c7652f6c08480cec742f
     "metadata": {},
     "output_type": "execute_result"
    }
   ],
   "source": [
    "# temps sensible to store\n",
    "tps_sensible_winning_zone\n",
    "#tps_sensible_winning_zone_comp"
   ]
  },
  {
   "cell_type": "code",
<<<<<<< HEAD
   "execution_count": 21,
=======
   "execution_count": 35,
>>>>>>> 8d7856992850e0ca8042c7652f6c08480cec742f
   "metadata": {},
   "outputs": [
    {
     "data": {
      "text/html": [
       "<div>\n",
       "<style scoped>\n",
       "    .dataframe tbody tr th:only-of-type {\n",
       "        vertical-align: middle;\n",
       "    }\n",
       "\n",
       "    .dataframe tbody tr th {\n",
       "        vertical-align: top;\n",
       "    }\n",
       "\n",
       "    .dataframe thead th {\n",
       "        text-align: right;\n",
       "    }\n",
       "</style>\n",
       "<table border=\"1\" class=\"dataframe\">\n",
       "  <thead>\n",
       "    <tr style=\"text-align: right;\">\n",
       "      <th></th>\n",
       "      <th>zone_winning</th>\n",
       "      <th>zw_compas</th>\n",
       "      <th>zone_comp</th>\n",
       "      <th>zc_compas</th>\n",
       "      <th>zone_winning_2</th>\n",
       "      <th>zw2_compas</th>\n",
       "      <th>zone_winning_comp</th>\n",
       "      <th>zwc_compas</th>\n",
       "      <th>zone_comp_winning</th>\n",
       "      <th>zcw_compas</th>\n",
       "      <th>zone_comp_comp</th>\n",
       "      <th>zc2_compas</th>\n",
       "    </tr>\n",
       "  </thead>\n",
       "  <tbody>\n",
       "    <tr>\n",
       "      <th>0</th>\n",
       "      <td>4101</td>\n",
       "      <td>4</td>\n",
       "      <td>NaN</td>\n",
       "      <td>4</td>\n",
       "      <td>NaN</td>\n",
       "      <td>NaN</td>\n",
       "      <td>NaN</td>\n",
       "      <td>NaN</td>\n",
       "      <td>NaN</td>\n",
       "      <td>NaN</td>\n",
       "      <td>NaN</td>\n",
       "      <td>NaN</td>\n",
       "    </tr>\n",
       "    <tr>\n",
       "      <th>1</th>\n",
       "      <td>4101</td>\n",
       "      <td>4</td>\n",
       "      <td>NaN</td>\n",
       "      <td>4</td>\n",
       "      <td>NaN</td>\n",
       "      <td>NaN</td>\n",
       "      <td>NaN</td>\n",
       "      <td>NaN</td>\n",
       "      <td>NaN</td>\n",
       "      <td>NaN</td>\n",
       "      <td>NaN</td>\n",
       "      <td>NaN</td>\n",
       "    </tr>\n",
       "    <tr>\n",
       "      <th>2</th>\n",
       "      <td>4101+4102+4103+4104+4105</td>\n",
       "      <td>4</td>\n",
       "      <td>NaN</td>\n",
       "      <td>3</td>\n",
       "      <td>NaN</td>\n",
       "      <td>NaN</td>\n",
       "      <td>NaN</td>\n",
       "      <td>NaN</td>\n",
       "      <td>NaN</td>\n",
       "      <td>NaN</td>\n",
       "      <td>NaN</td>\n",
       "      <td>NaN</td>\n",
       "    </tr>\n",
       "    <tr>\n",
       "      <th>3</th>\n",
       "      <td>4103+4104+4105+4106</td>\n",
       "      <td>4</td>\n",
       "      <td>NaN</td>\n",
       "      <td>3</td>\n",
       "      <td>NaN</td>\n",
       "      <td>NaN</td>\n",
       "      <td>NaN</td>\n",
       "      <td>NaN</td>\n",
       "      <td>NaN</td>\n",
       "      <td>NaN</td>\n",
       "      <td>NaN</td>\n",
       "      <td>NaN</td>\n",
       "    </tr>\n",
       "    <tr>\n",
       "      <th>4</th>\n",
       "      <td>4103</td>\n",
       "      <td>12</td>\n",
       "      <td>NaN</td>\n",
       "      <td>3</td>\n",
       "      <td>NaN</td>\n",
       "      <td>NaN</td>\n",
       "      <td>NaN</td>\n",
       "      <td>NaN</td>\n",
       "      <td>NaN</td>\n",
       "      <td>NaN</td>\n",
       "      <td>NaN</td>\n",
       "      <td>NaN</td>\n",
       "    </tr>\n",
       "    <tr>\n",
       "      <th>5</th>\n",
       "      <td>4103</td>\n",
       "      <td>6</td>\n",
       "      <td>NaN</td>\n",
       "      <td>3</td>\n",
       "      <td>NaN</td>\n",
       "      <td>NaN</td>\n",
       "      <td>NaN</td>\n",
       "      <td>NaN</td>\n",
       "      <td>NaN</td>\n",
       "      <td>NaN</td>\n",
       "      <td>NaN</td>\n",
       "      <td>NaN</td>\n",
       "    </tr>\n",
       "    <tr>\n",
       "      <th>6</th>\n",
       "      <td>4102+4103</td>\n",
       "      <td>6</td>\n",
       "      <td>NaN</td>\n",
       "      <td>3</td>\n",
       "      <td>NaN</td>\n",
       "      <td>NaN</td>\n",
       "      <td>NaN</td>\n",
       "      <td>NaN</td>\n",
       "      <td>NaN</td>\n",
       "      <td>NaN</td>\n",
       "      <td>NaN</td>\n",
       "      <td>NaN</td>\n",
       "    </tr>\n",
       "    <tr>\n",
       "      <th>7</th>\n",
       "      <td>4106</td>\n",
       "      <td>3</td>\n",
       "      <td>NaN</td>\n",
       "      <td>6</td>\n",
       "      <td>NaN</td>\n",
       "      <td>NaN</td>\n",
       "      <td>NaN</td>\n",
       "      <td>NaN</td>\n",
       "      <td>NaN</td>\n",
       "      <td>NaN</td>\n",
       "      <td>NaN</td>\n",
       "      <td>NaN</td>\n",
       "    </tr>\n",
       "    <tr>\n",
       "      <th>8</th>\n",
       "      <td>4103+4104+4105+4106</td>\n",
       "      <td>6</td>\n",
       "      <td>NaN</td>\n",
       "      <td>4</td>\n",
       "      <td>NaN</td>\n",
       "      <td>NaN</td>\n",
       "      <td>NaN</td>\n",
       "      <td>NaN</td>\n",
       "      <td>NaN</td>\n",
       "      <td>NaN</td>\n",
       "      <td>NaN</td>\n",
       "      <td>NaN</td>\n",
       "    </tr>\n",
       "    <tr>\n",
       "      <th>9</th>\n",
       "      <td>4104+4105+4106</td>\n",
       "      <td>6</td>\n",
       "      <td>NaN</td>\n",
       "      <td>4</td>\n",
       "      <td>NaN</td>\n",
       "      <td>NaN</td>\n",
       "      <td>NaN</td>\n",
       "      <td>NaN</td>\n",
       "      <td>NaN</td>\n",
       "      <td>NaN</td>\n",
       "      <td>NaN</td>\n",
       "      <td>NaN</td>\n",
       "    </tr>\n",
       "    <tr>\n",
       "      <th>10</th>\n",
       "      <td>4104+4105+4106</td>\n",
       "      <td>6</td>\n",
       "      <td>NaN</td>\n",
       "      <td>4</td>\n",
       "      <td>NaN</td>\n",
       "      <td>NaN</td>\n",
       "      <td>NaN</td>\n",
       "      <td>NaN</td>\n",
       "      <td>NaN</td>\n",
       "      <td>NaN</td>\n",
       "      <td>NaN</td>\n",
       "      <td>NaN</td>\n",
       "    </tr>\n",
       "    <tr>\n",
       "      <th>11</th>\n",
       "      <td>4105+4106</td>\n",
       "      <td>3</td>\n",
       "      <td>NaN</td>\n",
       "      <td>4</td>\n",
       "      <td>NaN</td>\n",
       "      <td>NaN</td>\n",
       "      <td>NaN</td>\n",
       "      <td>NaN</td>\n",
       "      <td>NaN</td>\n",
       "      <td>NaN</td>\n",
       "      <td>NaN</td>\n",
       "      <td>NaN</td>\n",
       "    </tr>\n",
       "    <tr>\n",
       "      <th>12</th>\n",
       "      <td>4102+4103+4104+4105+4106</td>\n",
       "      <td>3</td>\n",
       "      <td>NaN</td>\n",
       "      <td>4</td>\n",
       "      <td>NaN</td>\n",
       "      <td>NaN</td>\n",
       "      <td>NaN</td>\n",
       "      <td>NaN</td>\n",
       "      <td>NaN</td>\n",
       "      <td>NaN</td>\n",
       "      <td>NaN</td>\n",
       "      <td>NaN</td>\n",
       "    </tr>\n",
       "    <tr>\n",
       "      <th>13</th>\n",
       "      <td>4101</td>\n",
       "      <td>3</td>\n",
       "      <td>NaN</td>\n",
       "      <td>3</td>\n",
       "      <td>NaN</td>\n",
       "      <td>NaN</td>\n",
       "      <td>NaN</td>\n",
       "      <td>NaN</td>\n",
       "      <td>NaN</td>\n",
       "      <td>NaN</td>\n",
       "      <td>NaN</td>\n",
       "      <td>NaN</td>\n",
       "    </tr>\n",
       "    <tr>\n",
       "      <th>14</th>\n",
       "      <td>4101</td>\n",
       "      <td>3</td>\n",
       "      <td>NaN</td>\n",
       "      <td>3</td>\n",
       "      <td>NaN</td>\n",
       "      <td>NaN</td>\n",
       "      <td>NaN</td>\n",
       "      <td>NaN</td>\n",
       "      <td>NaN</td>\n",
       "      <td>NaN</td>\n",
       "      <td>NaN</td>\n",
       "      <td>NaN</td>\n",
       "    </tr>\n",
       "    <tr>\n",
       "      <th>15</th>\n",
       "      <td>4101</td>\n",
       "      <td>3</td>\n",
       "      <td>NaN</td>\n",
       "      <td>3</td>\n",
       "      <td>NaN</td>\n",
       "      <td>NaN</td>\n",
       "      <td>NaN</td>\n",
       "      <td>NaN</td>\n",
       "      <td>NaN</td>\n",
       "      <td>NaN</td>\n",
       "      <td>NaN</td>\n",
       "      <td>NaN</td>\n",
       "    </tr>\n",
       "    <tr>\n",
       "      <th>16</th>\n",
       "      <td>4101</td>\n",
       "      <td>3</td>\n",
       "      <td>NaN</td>\n",
       "      <td>3</td>\n",
       "      <td>NaN</td>\n",
       "      <td>NaN</td>\n",
       "      <td>NaN</td>\n",
       "      <td>NaN</td>\n",
       "      <td>NaN</td>\n",
       "      <td>NaN</td>\n",
       "      <td>NaN</td>\n",
       "      <td>NaN</td>\n",
       "    </tr>\n",
       "    <tr>\n",
       "      <th>17</th>\n",
       "      <td>4101</td>\n",
       "      <td>3</td>\n",
       "      <td>NaN</td>\n",
       "      <td>3</td>\n",
       "      <td>NaN</td>\n",
       "      <td>NaN</td>\n",
       "      <td>NaN</td>\n",
       "      <td>NaN</td>\n",
       "      <td>NaN</td>\n",
       "      <td>NaN</td>\n",
       "      <td>NaN</td>\n",
       "      <td>NaN</td>\n",
       "    </tr>\n",
       "    <tr>\n",
       "      <th>18</th>\n",
       "      <td>4101</td>\n",
       "      <td>3</td>\n",
       "      <td>NaN</td>\n",
       "      <td>3</td>\n",
       "      <td>NaN</td>\n",
       "      <td>NaN</td>\n",
       "      <td>NaN</td>\n",
       "      <td>NaN</td>\n",
       "      <td>NaN</td>\n",
       "      <td>NaN</td>\n",
       "      <td>NaN</td>\n",
       "      <td>NaN</td>\n",
       "    </tr>\n",
       "    <tr>\n",
       "      <th>19</th>\n",
       "      <td>4102+4103+4104+4105+4106</td>\n",
       "      <td>3</td>\n",
       "      <td>NaN</td>\n",
       "      <td>6</td>\n",
       "      <td>NaN</td>\n",
       "      <td>NaN</td>\n",
       "      <td>NaN</td>\n",
       "      <td>NaN</td>\n",
       "      <td>NaN</td>\n",
       "      <td>NaN</td>\n",
       "      <td>NaN</td>\n",
       "      <td>NaN</td>\n",
       "    </tr>\n",
       "    <tr>\n",
       "      <th>20</th>\n",
       "      <td>4101+4102</td>\n",
       "      <td>6</td>\n",
       "      <td>NaN</td>\n",
       "      <td>3</td>\n",
       "      <td>NaN</td>\n",
       "      <td>NaN</td>\n",
       "      <td>NaN</td>\n",
       "      <td>NaN</td>\n",
       "      <td>NaN</td>\n",
       "      <td>NaN</td>\n",
       "      <td>NaN</td>\n",
       "      <td>NaN</td>\n",
       "    </tr>\n",
       "    <tr>\n",
       "      <th>21</th>\n",
       "      <td>4101</td>\n",
       "      <td>6</td>\n",
       "      <td>NaN</td>\n",
       "      <td>6</td>\n",
       "      <td>NaN</td>\n",
       "      <td>NaN</td>\n",
       "      <td>NaN</td>\n",
       "      <td>NaN</td>\n",
       "      <td>NaN</td>\n",
       "      <td>NaN</td>\n",
       "      <td>NaN</td>\n",
       "      <td>NaN</td>\n",
       "    </tr>\n",
       "    <tr>\n",
       "      <th>22</th>\n",
       "      <td>4101</td>\n",
       "      <td>6</td>\n",
       "      <td>NaN</td>\n",
       "      <td>6</td>\n",
       "      <td>NaN</td>\n",
       "      <td>NaN</td>\n",
       "      <td>NaN</td>\n",
       "      <td>NaN</td>\n",
       "      <td>NaN</td>\n",
       "      <td>NaN</td>\n",
       "      <td>NaN</td>\n",
       "      <td>NaN</td>\n",
       "    </tr>\n",
       "    <tr>\n",
       "      <th>23</th>\n",
       "      <td>4101</td>\n",
       "      <td>6</td>\n",
       "      <td>NaN</td>\n",
       "      <td>6</td>\n",
       "      <td>NaN</td>\n",
       "      <td>NaN</td>\n",
       "      <td>NaN</td>\n",
       "      <td>NaN</td>\n",
       "      <td>NaN</td>\n",
       "      <td>NaN</td>\n",
       "      <td>NaN</td>\n",
       "      <td>NaN</td>\n",
       "    </tr>\n",
       "    <tr>\n",
       "      <th>24</th>\n",
       "      <td>4105</td>\n",
       "      <td>8</td>\n",
       "      <td>NaN</td>\n",
       "      <td>6</td>\n",
       "      <td>NaN</td>\n",
       "      <td>NaN</td>\n",
       "      <td>NaN</td>\n",
       "      <td>NaN</td>\n",
       "      <td>NaN</td>\n",
       "      <td>NaN</td>\n",
       "      <td>NaN</td>\n",
       "      <td>NaN</td>\n",
       "    </tr>\n",
       "    <tr>\n",
       "      <th>25</th>\n",
       "      <td>4101</td>\n",
       "      <td>6</td>\n",
       "      <td>NaN</td>\n",
       "      <td>6</td>\n",
       "      <td>NaN</td>\n",
       "      <td>NaN</td>\n",
       "      <td>NaN</td>\n",
       "      <td>NaN</td>\n",
       "      <td>NaN</td>\n",
       "      <td>NaN</td>\n",
       "      <td>NaN</td>\n",
       "      <td>NaN</td>\n",
       "    </tr>\n",
       "    <tr>\n",
       "      <th>26</th>\n",
       "      <td>4101</td>\n",
       "      <td>6</td>\n",
       "      <td>NaN</td>\n",
       "      <td>6</td>\n",
       "      <td>NaN</td>\n",
       "      <td>NaN</td>\n",
       "      <td>NaN</td>\n",
       "      <td>NaN</td>\n",
       "      <td>NaN</td>\n",
       "      <td>NaN</td>\n",
       "      <td>NaN</td>\n",
       "      <td>NaN</td>\n",
       "    </tr>\n",
       "    <tr>\n",
       "      <th>27</th>\n",
       "      <td>4101</td>\n",
       "      <td>6</td>\n",
       "      <td>NaN</td>\n",
       "      <td>6</td>\n",
       "      <td>NaN</td>\n",
       "      <td>NaN</td>\n",
       "      <td>NaN</td>\n",
       "      <td>NaN</td>\n",
       "      <td>NaN</td>\n",
       "      <td>NaN</td>\n",
       "      <td>NaN</td>\n",
       "      <td>NaN</td>\n",
       "    </tr>\n",
       "    <tr>\n",
       "      <th>28</th>\n",
       "      <td>4101</td>\n",
       "      <td>6</td>\n",
       "      <td>NaN</td>\n",
       "      <td>6</td>\n",
       "      <td>NaN</td>\n",
       "      <td>NaN</td>\n",
       "      <td>NaN</td>\n",
       "      <td>NaN</td>\n",
       "      <td>NaN</td>\n",
       "      <td>NaN</td>\n",
       "      <td>NaN</td>\n",
       "      <td>NaN</td>\n",
       "    </tr>\n",
       "    <tr>\n",
       "      <th>29</th>\n",
       "      <td>4102+4103+4104+4105</td>\n",
       "      <td>3</td>\n",
       "      <td>NaN</td>\n",
       "      <td>6</td>\n",
       "      <td>NaN</td>\n",
       "      <td>NaN</td>\n",
       "      <td>NaN</td>\n",
       "      <td>NaN</td>\n",
       "      <td>NaN</td>\n",
       "      <td>NaN</td>\n",
       "      <td>NaN</td>\n",
       "      <td>NaN</td>\n",
       "    </tr>\n",
       "    <tr>\n",
       "      <th>30</th>\n",
       "      <td>4102+4103+4104+4105+4106</td>\n",
       "      <td>3</td>\n",
       "      <td>NaN</td>\n",
       "      <td>6</td>\n",
       "      <td>NaN</td>\n",
       "      <td>NaN</td>\n",
       "      <td>NaN</td>\n",
       "      <td>NaN</td>\n",
       "      <td>NaN</td>\n",
       "      <td>NaN</td>\n",
       "      <td>NaN</td>\n",
       "      <td>NaN</td>\n",
       "    </tr>\n",
       "    <tr>\n",
       "      <th>31</th>\n",
       "      <td>4101</td>\n",
       "      <td>6</td>\n",
       "      <td>NaN</td>\n",
       "      <td>3</td>\n",
       "      <td>NaN</td>\n",
       "      <td>NaN</td>\n",
       "      <td>NaN</td>\n",
       "      <td>NaN</td>\n",
       "      <td>NaN</td>\n",
       "      <td>NaN</td>\n",
       "      <td>NaN</td>\n",
       "      <td>NaN</td>\n",
       "    </tr>\n",
       "    <tr>\n",
       "      <th>32</th>\n",
       "      <td>4101</td>\n",
       "      <td>6</td>\n",
       "      <td>NaN</td>\n",
       "      <td>3</td>\n",
       "      <td>NaN</td>\n",
       "      <td>NaN</td>\n",
       "      <td>NaN</td>\n",
       "      <td>NaN</td>\n",
       "      <td>NaN</td>\n",
       "      <td>NaN</td>\n",
       "      <td>NaN</td>\n",
       "      <td>NaN</td>\n",
       "    </tr>\n",
       "    <tr>\n",
       "      <th>33</th>\n",
       "      <td>4101+4102</td>\n",
       "      <td>6</td>\n",
       "      <td>NaN</td>\n",
       "      <td>3</td>\n",
       "      <td>NaN</td>\n",
       "      <td>NaN</td>\n",
       "      <td>NaN</td>\n",
       "      <td>NaN</td>\n",
       "      <td>NaN</td>\n",
       "      <td>NaN</td>\n",
       "      <td>NaN</td>\n",
       "      <td>NaN</td>\n",
       "    </tr>\n",
       "    <tr>\n",
       "      <th>34</th>\n",
       "      <td>4101+4102+4103+4105+4106</td>\n",
       "      <td>6</td>\n",
       "      <td>NaN</td>\n",
       "      <td>12</td>\n",
       "      <td>NaN</td>\n",
       "      <td>NaN</td>\n",
       "      <td>NaN</td>\n",
       "      <td>NaN</td>\n",
       "      <td>NaN</td>\n",
       "      <td>NaN</td>\n",
       "      <td>NaN</td>\n",
       "      <td>NaN</td>\n",
       "    </tr>\n",
       "    <tr>\n",
       "      <th>35</th>\n",
       "      <td>4101</td>\n",
       "      <td>6</td>\n",
       "      <td>NaN</td>\n",
       "      <td>6</td>\n",
       "      <td>NaN</td>\n",
       "      <td>NaN</td>\n",
       "      <td>NaN</td>\n",
       "      <td>NaN</td>\n",
       "      <td>NaN</td>\n",
       "      <td>NaN</td>\n",
       "      <td>NaN</td>\n",
       "      <td>NaN</td>\n",
       "    </tr>\n",
       "    <tr>\n",
       "      <th>36</th>\n",
       "      <td>4101</td>\n",
       "      <td>6</td>\n",
       "      <td>NaN</td>\n",
       "      <td>6</td>\n",
       "      <td>NaN</td>\n",
       "      <td>NaN</td>\n",
       "      <td>NaN</td>\n",
       "      <td>NaN</td>\n",
       "      <td>NaN</td>\n",
       "      <td>NaN</td>\n",
       "      <td>NaN</td>\n",
       "      <td>NaN</td>\n",
       "    </tr>\n",
       "    <tr>\n",
       "      <th>37</th>\n",
       "      <td>4101</td>\n",
       "      <td>6</td>\n",
       "      <td>NaN</td>\n",
       "      <td>6</td>\n",
       "      <td>NaN</td>\n",
       "      <td>NaN</td>\n",
       "      <td>NaN</td>\n",
       "      <td>NaN</td>\n",
       "      <td>NaN</td>\n",
       "      <td>NaN</td>\n",
       "      <td>NaN</td>\n",
       "      <td>NaN</td>\n",
       "    </tr>\n",
       "    <tr>\n",
       "      <th>38</th>\n",
       "      <td>4102+4103+4106</td>\n",
       "      <td>8</td>\n",
       "      <td>NaN</td>\n",
       "      <td>6</td>\n",
       "      <td>NaN</td>\n",
       "      <td>NaN</td>\n",
       "      <td>NaN</td>\n",
       "      <td>NaN</td>\n",
       "      <td>NaN</td>\n",
       "      <td>NaN</td>\n",
       "      <td>NaN</td>\n",
       "      <td>NaN</td>\n",
       "    </tr>\n",
       "    <tr>\n",
       "      <th>39</th>\n",
       "      <td>4103</td>\n",
       "      <td>8</td>\n",
       "      <td>NaN</td>\n",
       "      <td>6</td>\n",
       "      <td>NaN</td>\n",
       "      <td>NaN</td>\n",
       "      <td>NaN</td>\n",
       "      <td>NaN</td>\n",
       "      <td>NaN</td>\n",
       "      <td>NaN</td>\n",
       "      <td>NaN</td>\n",
       "      <td>NaN</td>\n",
       "    </tr>\n",
       "    <tr>\n",
       "      <th>40</th>\n",
       "      <td>4101</td>\n",
       "      <td>6</td>\n",
       "      <td>NaN</td>\n",
       "      <td>6</td>\n",
       "      <td>NaN</td>\n",
       "      <td>NaN</td>\n",
       "      <td>NaN</td>\n",
       "      <td>NaN</td>\n",
       "      <td>NaN</td>\n",
       "      <td>NaN</td>\n",
       "      <td>NaN</td>\n",
       "      <td>NaN</td>\n",
       "    </tr>\n",
       "    <tr>\n",
       "      <th>41</th>\n",
       "      <td>4101</td>\n",
       "      <td>6</td>\n",
       "      <td>NaN</td>\n",
       "      <td>6</td>\n",
       "      <td>NaN</td>\n",
       "      <td>NaN</td>\n",
       "      <td>NaN</td>\n",
       "      <td>NaN</td>\n",
       "      <td>NaN</td>\n",
       "      <td>NaN</td>\n",
       "      <td>NaN</td>\n",
       "      <td>NaN</td>\n",
       "    </tr>\n",
       "    <tr>\n",
       "      <th>42</th>\n",
       "      <td>4101</td>\n",
       "      <td>6</td>\n",
       "      <td>NaN</td>\n",
       "      <td>6</td>\n",
       "      <td>NaN</td>\n",
       "      <td>NaN</td>\n",
       "      <td>NaN</td>\n",
       "      <td>NaN</td>\n",
       "      <td>NaN</td>\n",
       "      <td>NaN</td>\n",
       "      <td>NaN</td>\n",
       "      <td>NaN</td>\n",
       "    </tr>\n",
       "    <tr>\n",
       "      <th>43</th>\n",
       "      <td>4102</td>\n",
       "      <td>12</td>\n",
       "      <td>NaN</td>\n",
       "      <td>6</td>\n",
       "      <td>NaN</td>\n",
       "      <td>NaN</td>\n",
       "      <td>NaN</td>\n",
       "      <td>NaN</td>\n",
       "      <td>NaN</td>\n",
       "      <td>NaN</td>\n",
       "      <td>NaN</td>\n",
       "      <td>NaN</td>\n",
       "    </tr>\n",
       "    <tr>\n",
       "      <th>44</th>\n",
       "      <td>4103+4104+4105+4106</td>\n",
       "      <td>6</td>\n",
       "      <td>NaN</td>\n",
       "      <td>3</td>\n",
       "      <td>NaN</td>\n",
       "      <td>NaN</td>\n",
       "      <td>NaN</td>\n",
       "      <td>NaN</td>\n",
       "      <td>NaN</td>\n",
       "      <td>NaN</td>\n",
       "      <td>NaN</td>\n",
       "      <td>NaN</td>\n",
       "    </tr>\n",
       "    <tr>\n",
       "      <th>45</th>\n",
       "      <td>4102+4103+4104+4105+4106</td>\n",
       "      <td>6</td>\n",
       "      <td>NaN</td>\n",
       "      <td>8</td>\n",
       "      <td>NaN</td>\n",
       "      <td>NaN</td>\n",
       "      <td>NaN</td>\n",
       "      <td>NaN</td>\n",
       "      <td>NaN</td>\n",
       "      <td>NaN</td>\n",
       "      <td>NaN</td>\n",
       "      <td>NaN</td>\n",
       "    </tr>\n",
       "    <tr>\n",
       "      <th>46</th>\n",
       "      <td>4102+4103+4104+4106</td>\n",
       "      <td>6</td>\n",
       "      <td>NaN</td>\n",
       "      <td>3</td>\n",
       "      <td>NaN</td>\n",
       "      <td>NaN</td>\n",
       "      <td>NaN</td>\n",
       "      <td>NaN</td>\n",
       "      <td>NaN</td>\n",
       "      <td>NaN</td>\n",
       "      <td>NaN</td>\n",
       "      <td>NaN</td>\n",
       "    </tr>\n",
       "    <tr>\n",
       "      <th>47</th>\n",
       "      <td>4102+4103+4104</td>\n",
       "      <td>3</td>\n",
       "      <td>NaN</td>\n",
       "      <td>6</td>\n",
       "      <td>NaN</td>\n",
       "      <td>NaN</td>\n",
       "      <td>NaN</td>\n",
       "      <td>NaN</td>\n",
       "      <td>NaN</td>\n",
       "      <td>NaN</td>\n",
       "      <td>NaN</td>\n",
       "      <td>NaN</td>\n",
       "    </tr>\n",
       "  </tbody>\n",
       "</table>\n",
       "</div>"
      ],
      "text/plain": [
       "                zone_winning  zw_compas zone_comp  zc_compas zone_winning_2  \\\n",
       "0                       4101          4       NaN          4            NaN   \n",
       "1                       4101          4       NaN          4            NaN   \n",
       "2   4101+4102+4103+4104+4105          4       NaN          3            NaN   \n",
       "3        4103+4104+4105+4106          4       NaN          3            NaN   \n",
       "4                       4103         12       NaN          3            NaN   \n",
       "5                       4103          6       NaN          3            NaN   \n",
       "6                  4102+4103          6       NaN          3            NaN   \n",
       "7                       4106          3       NaN          6            NaN   \n",
       "8        4103+4104+4105+4106          6       NaN          4            NaN   \n",
       "9             4104+4105+4106          6       NaN          4            NaN   \n",
       "10            4104+4105+4106          6       NaN          4            NaN   \n",
       "11                 4105+4106          3       NaN          4            NaN   \n",
       "12  4102+4103+4104+4105+4106          3       NaN          4            NaN   \n",
       "13                      4101          3       NaN          3            NaN   \n",
       "14                      4101          3       NaN          3            NaN   \n",
       "15                      4101          3       NaN          3            NaN   \n",
       "16                      4101          3       NaN          3            NaN   \n",
       "17                      4101          3       NaN          3            NaN   \n",
       "18                      4101          3       NaN          3            NaN   \n",
       "19  4102+4103+4104+4105+4106          3       NaN          6            NaN   \n",
       "20                 4101+4102          6       NaN          3            NaN   \n",
       "21                      4101          6       NaN          6            NaN   \n",
       "22                      4101          6       NaN          6            NaN   \n",
       "23                      4101          6       NaN          6            NaN   \n",
       "24                      4105          8       NaN          6            NaN   \n",
       "25                      4101          6       NaN          6            NaN   \n",
       "26                      4101          6       NaN          6            NaN   \n",
       "27                      4101          6       NaN          6            NaN   \n",
       "28                      4101          6       NaN          6            NaN   \n",
       "29       4102+4103+4104+4105          3       NaN          6            NaN   \n",
       "30  4102+4103+4104+4105+4106          3       NaN          6            NaN   \n",
       "31                      4101          6       NaN          3            NaN   \n",
       "32                      4101          6       NaN          3            NaN   \n",
       "33                 4101+4102          6       NaN          3            NaN   \n",
       "34  4101+4102+4103+4105+4106          6       NaN         12            NaN   \n",
       "35                      4101          6       NaN          6            NaN   \n",
       "36                      4101          6       NaN          6            NaN   \n",
       "37                      4101          6       NaN          6            NaN   \n",
       "38            4102+4103+4106          8       NaN          6            NaN   \n",
       "39                      4103          8       NaN          6            NaN   \n",
       "40                      4101          6       NaN          6            NaN   \n",
       "41                      4101          6       NaN          6            NaN   \n",
       "42                      4101          6       NaN          6            NaN   \n",
       "43                      4102         12       NaN          6            NaN   \n",
       "44       4103+4104+4105+4106          6       NaN          3            NaN   \n",
       "45  4102+4103+4104+4105+4106          6       NaN          8            NaN   \n",
       "46       4102+4103+4104+4106          6       NaN          3            NaN   \n",
       "47            4102+4103+4104          3       NaN          6            NaN   \n",
       "\n",
       "   zw2_compas zone_winning_comp zwc_compas zone_comp_winning zcw_compas  \\\n",
       "0         NaN               NaN        NaN               NaN        NaN   \n",
       "1         NaN               NaN        NaN               NaN        NaN   \n",
       "2         NaN               NaN        NaN               NaN        NaN   \n",
       "3         NaN               NaN        NaN               NaN        NaN   \n",
       "4         NaN               NaN        NaN               NaN        NaN   \n",
       "5         NaN               NaN        NaN               NaN        NaN   \n",
       "6         NaN               NaN        NaN               NaN        NaN   \n",
       "7         NaN               NaN        NaN               NaN        NaN   \n",
       "8         NaN               NaN        NaN               NaN        NaN   \n",
       "9         NaN               NaN        NaN               NaN        NaN   \n",
       "10        NaN               NaN        NaN               NaN        NaN   \n",
       "11        NaN               NaN        NaN               NaN        NaN   \n",
       "12        NaN               NaN        NaN               NaN        NaN   \n",
       "13        NaN               NaN        NaN               NaN        NaN   \n",
       "14        NaN               NaN        NaN               NaN        NaN   \n",
       "15        NaN               NaN        NaN               NaN        NaN   \n",
       "16        NaN               NaN        NaN               NaN        NaN   \n",
       "17        NaN               NaN        NaN               NaN        NaN   \n",
       "18        NaN               NaN        NaN               NaN        NaN   \n",
       "19        NaN               NaN        NaN               NaN        NaN   \n",
       "20        NaN               NaN        NaN               NaN        NaN   \n",
       "21        NaN               NaN        NaN               NaN        NaN   \n",
       "22        NaN               NaN        NaN               NaN        NaN   \n",
       "23        NaN               NaN        NaN               NaN        NaN   \n",
       "24        NaN               NaN        NaN               NaN        NaN   \n",
       "25        NaN               NaN        NaN               NaN        NaN   \n",
       "26        NaN               NaN        NaN               NaN        NaN   \n",
       "27        NaN               NaN        NaN               NaN        NaN   \n",
       "28        NaN               NaN        NaN               NaN        NaN   \n",
       "29        NaN               NaN        NaN               NaN        NaN   \n",
       "30        NaN               NaN        NaN               NaN        NaN   \n",
       "31        NaN               NaN        NaN               NaN        NaN   \n",
       "32        NaN               NaN        NaN               NaN        NaN   \n",
       "33        NaN               NaN        NaN               NaN        NaN   \n",
       "34        NaN               NaN        NaN               NaN        NaN   \n",
       "35        NaN               NaN        NaN               NaN        NaN   \n",
       "36        NaN               NaN        NaN               NaN        NaN   \n",
       "37        NaN               NaN        NaN               NaN        NaN   \n",
       "38        NaN               NaN        NaN               NaN        NaN   \n",
       "39        NaN               NaN        NaN               NaN        NaN   \n",
       "40        NaN               NaN        NaN               NaN        NaN   \n",
       "41        NaN               NaN        NaN               NaN        NaN   \n",
       "42        NaN               NaN        NaN               NaN        NaN   \n",
       "43        NaN               NaN        NaN               NaN        NaN   \n",
       "44        NaN               NaN        NaN               NaN        NaN   \n",
       "45        NaN               NaN        NaN               NaN        NaN   \n",
       "46        NaN               NaN        NaN               NaN        NaN   \n",
       "47        NaN               NaN        NaN               NaN        NaN   \n",
       "\n",
       "   zone_comp_comp zc2_compas  \n",
       "0             NaN        NaN  \n",
       "1             NaN        NaN  \n",
       "2             NaN        NaN  \n",
       "3             NaN        NaN  \n",
       "4             NaN        NaN  \n",
       "5             NaN        NaN  \n",
       "6             NaN        NaN  \n",
       "7             NaN        NaN  \n",
       "8             NaN        NaN  \n",
       "9             NaN        NaN  \n",
       "10            NaN        NaN  \n",
       "11            NaN        NaN  \n",
       "12            NaN        NaN  \n",
       "13            NaN        NaN  \n",
       "14            NaN        NaN  \n",
       "15            NaN        NaN  \n",
       "16            NaN        NaN  \n",
       "17            NaN        NaN  \n",
       "18            NaN        NaN  \n",
       "19            NaN        NaN  \n",
       "20            NaN        NaN  \n",
       "21            NaN        NaN  \n",
       "22            NaN        NaN  \n",
       "23            NaN        NaN  \n",
       "24            NaN        NaN  \n",
       "25            NaN        NaN  \n",
       "26            NaN        NaN  \n",
       "27            NaN        NaN  \n",
       "28            NaN        NaN  \n",
       "29            NaN        NaN  \n",
       "30            NaN        NaN  \n",
       "31            NaN        NaN  \n",
       "32            NaN        NaN  \n",
       "33            NaN        NaN  \n",
       "34            NaN        NaN  \n",
       "35            NaN        NaN  \n",
       "36            NaN        NaN  \n",
       "37            NaN        NaN  \n",
       "38            NaN        NaN  \n",
       "39            NaN        NaN  \n",
       "40            NaN        NaN  \n",
       "41            NaN        NaN  \n",
       "42            NaN        NaN  \n",
       "43            NaN        NaN  \n",
       "44            NaN        NaN  \n",
       "45            NaN        NaN  \n",
       "46            NaN        NaN  \n",
       "47            NaN        NaN  "
      ]
     },
<<<<<<< HEAD
     "execution_count": 21,
=======
     "execution_count": 35,
>>>>>>> 8d7856992850e0ca8042c7652f6c08480cec742f
     "metadata": {},
     "output_type": "execute_result"
    }
   ],
   "source": [
    "df_zones[\"zone_winning\"]=zoneswinning\n",
    "df_zones[\"zw_\"+distance_choice]=tps_sensible_winning_zone\n",
    "df_zones[\"zc_\"+distance_choice]=tps_sensible_winning_zone_comp\n",
    "df_zones"
   ]
  },
  {
   "cell_type": "markdown",
   "metadata": {},
   "source": [
    "# 2. Find those zones that present a high value of mean distance per pixel greater than the median value of mean distance per pixel over the departement and all echeance steps"
   ]
  },
  {
   "cell_type": "markdown",
   "metadata": {},
   "source": [
    "## 2.1 Calculation of the median of the mean distance per pixel over the departement and all echeance steps"
   ]
  },
  {
   "cell_type": "markdown",
   "metadata": {},
   "source": [
    "### 2.1.1 Zones for which the sum of the distances (zone + complementary zone) is minimum per echeance step"
   ]
  },
  {
   "cell_type": "code",
<<<<<<< HEAD
   "execution_count": 22,
=======
   "execution_count": 37,
>>>>>>> 8d7856992850e0ca8042c7652f6c08480cec742f
   "metadata": {},
   "outputs": [],
   "source": [
    "# calculation of the minimum distance per echeance step\n",
    "dist_min_sum_by_step=dist_sum_by_step_id_min[:,dist_sum_by_step_id_min.argmin((\"id\"))]"
   ]
  },
  {
   "cell_type": "code",
   "execution_count": 23,
   "metadata": {},
   "outputs": [],
   "source": [
    "# recall the winning zone indices \n",
    "#ind_winning_zone"
   ]
  },
  {
   "cell_type": "code",
   "execution_count": 24,
   "metadata": {},
   "outputs": [],
   "source": [
    "# define the winning zones indices in dataarray (it is important for the next two steps so that a vector is create, not a square matrix if one uses a ndarray)\n",
    "zone_sum_with_dist_min_by_step=dist_sum_by_step_id_min.argmin((\"id\"))+1 # +1 is to compensate for the first column (complementary of the departement that we dropped)\n",
    "#zone_sum_with_dist_min_by_step"
   ]
  },
  {
   "cell_type": "markdown",
   "metadata": {},
   "source": [
    "### 2.1.2 Mean value of the distance per pixel for all winning zones and their complementary zones (the mean distance per pixel = distance density here)"
   ]
  },
  {
   "cell_type": "code",
   "execution_count": 25,
   "metadata": {},
   "outputs": [],
   "source": [
    "# find distance values for the winning zones \n",
    "dist_min_by_step_fordensity=dist_by_step_id_min[:,zone_sum_with_dist_min_by_step]\n",
    "#dist_min_by_step_fordensity.values"
   ]
  },
  {
   "cell_type": "code",
   "execution_count": 26,
   "metadata": {},
   "outputs": [],
   "source": [
    "# find distance values for the complementary zones \n",
    "dist_comp_min_by_step_fordensity=dist_comp_by_step_id_min[:,zone_sum_with_dist_min_by_step]\n",
    "#dist_comp_min_by_step_fordensity.values"
   ]
  },
  {
   "cell_type": "code",
   "execution_count": 27,
   "metadata": {},
   "outputs": [
    {
     "data": {
      "text/plain": [
       "array([ 2510.,  2129.,  4546.,  8316., 11992.,  7395.,  5900.,  6171.,\n",
       "        5092.,  4158.,  7044.,  5575.,  3428.,  2472.,  3147.,    41.,\n",
       "           0.,     0.,   216.,   626.,  1874.,  4438.,  1712.,  1658.,\n",
       "        1016.,   734.,  1886.,  4682.,  6010.,  4244.,  3724.,  3583.,\n",
       "        3762.,  5202.,  5714.,  3716.,   400.,  2188.,  6354.,  2230.,\n",
       "        1252.,  1996.,   340.,  3070.,  7088.,  9167., 10534.,  8943.])"
      ]
     },
     "execution_count": 27,
     "metadata": {},
     "output_type": "execute_result"
    }
   ],
   "source": [
    "# check that when we sum them up we retrieve the values we found earlier in 2.1.1\n",
    "dist_min_by_step_fordensity.values+dist_comp_min_by_step_fordensity.values\n",
    "\n",
    "# should be equal to \n",
    "#dist_min_sum_by_step.values"
   ]
  },
  {
   "cell_type": "code",
   "execution_count": 28,
   "metadata": {},
   "outputs": [],
   "source": [
    "# find the zone size for all winning zones for further averaging (per pixel)\n",
    "zone_size_distmin=[zone_size_l[zone_sum_with_dist_min_by_step.values[i]] for i in np.arange(0,48)]"
   ]
  },
  {
   "cell_type": "code",
   "execution_count": 29,
   "metadata": {},
   "outputs": [
    {
     "data": {
      "text/plain": [
       "0.4854186265286924"
      ]
     },
     "execution_count": 29,
     "metadata": {},
     "output_type": "execute_result"
    }
   ],
   "source": [
    "# compute the median \"mean distance per pixel value\" (or density) over all winning zones\n",
    "density_dist_min_by_step=dist_min_by_step_fordensity.values/zone_size_distmin\n",
    "density_dist_min_by_step_median=np.median(density_dist_min_by_step)\n",
    "density_dist_min_by_step_median"
   ]
  },
  {
   "cell_type": "code",
   "execution_count": 30,
   "metadata": {},
   "outputs": [],
   "source": [
    "# idem (zone size) for the complementary zones\n",
    "zone_comp_size_distmin=[zone_comp_size_l[zone_sum_with_dist_min_by_step.values[i]] for i in np.arange(0,48)]"
   ]
  },
  {
   "cell_type": "code",
   "execution_count": 31,
   "metadata": {},
   "outputs": [
    {
     "data": {
      "text/plain": [
       "0.43538449575526933"
      ]
     },
     "execution_count": 31,
     "metadata": {},
     "output_type": "execute_result"
    }
   ],
   "source": [
    "# idem (median \"mean distance per pixel value\" (or density)) over all complementary zones\n",
    "density_dist_comp_min_by_step=dist_comp_min_by_step_fordensity.values/zone_comp_size_distmin\n",
    "density_dist_comp_min_by_step_median=np.median(density_dist_comp_min_by_step)\n",
    "density_dist_comp_min_by_step_median"
   ]
  },
  {
   "cell_type": "markdown",
   "metadata": {},
   "source": [
    "## 2.2 Find echeances steps that have winning zones that fulfill this condition (mean distance per pixel greater than the median value) plus are composed of two zones or more"
   ]
  },
  {
   "cell_type": "markdown",
   "metadata": {},
   "source": [
    "### 2.2.1 Winning zones"
   ]
  },
  {
   "cell_type": "code",
   "execution_count": 32,
   "metadata": {},
   "outputs": [
    {
     "data": {
      "text/plain": [
       "array([ 0,  2,  3,  4,  5,  6,  7,  8, 10, 11, 23, 24, 29, 31, 34, 35, 37,\n",
       "       38, 39, 43, 44, 45, 46, 47])"
      ]
     },
     "execution_count": 32,
     "metadata": {},
     "output_type": "execute_result"
    }
   ],
   "source": [
    "# find the echeance steps with heterogeneous winning zones\n",
    "step_zones_hetero=np.where(density_dist_min_by_step>density_dist_min_by_step_median)[0]\n",
    "step_zones_hetero"
   ]
  },
  {
   "cell_type": "code",
   "execution_count": 33,
   "metadata": {},
   "outputs": [],
   "source": [
    "# find the zones with multiple zones sympo in it \n",
    "id_zones_multiple=np.where(['+' in val for val in da_mask.id.values.tolist()])[0]\n",
    "#id_zones_multiple"
   ]
  },
  {
   "cell_type": "code",
   "execution_count": 34,
   "metadata": {},
   "outputs": [
    {
     "data": {
      "text/plain": [
       "24"
      ]
     },
     "execution_count": 34,
     "metadata": {},
     "output_type": "execute_result"
    }
   ],
   "source": [
    "# remember the winning zones per echeance (for info)\n",
    "#zone_sum_with_dist_min_by_step\n",
    "# remember the winning zones per echeance that are heterogenous (for info)\n",
    "#zone_sum_with_dist_min_by_step[step_zones_hetero]\n",
    "len(step_zones_hetero)"
   ]
  },
  {
   "cell_type": "code",
   "execution_count": 35,
   "metadata": {},
   "outputs": [],
   "source": [
    "# mark those echeances that have both heterogeneous winning zones and are composed of multiple zone sympo\n",
    "step_zones_hetero_and_multiple=step_zones_hetero[np.where([zone_sum_with_dist_min_by_step.values[step_zones_hetero][i] in id_zones_multiple for i in np.arange(0,len(step_zones_hetero))])[0]]\n",
    "#step_zones_hetero_and_multiple"
   ]
  },
  {
   "cell_type": "code",
   "execution_count": 36,
   "metadata": {},
   "outputs": [],
   "source": [
    "# and the zones are the following:\n",
    "zones=[da_mask.id.values.tolist()[zone_sum_with_dist_min_by_step.values[i]] for i in step_zones_hetero_and_multiple]\n",
    "#zones"
   ]
  },
  {
   "cell_type": "markdown",
   "metadata": {},
   "source": [
    "### 2.2.2 Complementary zones"
   ]
  },
  {
   "cell_type": "code",
   "execution_count": 37,
   "metadata": {},
   "outputs": [],
   "source": [
    "# find the echeance steps with heterogeneous complementary winning zones\n",
    "step_zones_comp_hetero=np.where(density_dist_comp_min_by_step>density_dist_comp_min_by_step_median)[0]\n",
    "#step_zones_comp_hetero"
   ]
  },
  {
   "cell_type": "code",
   "execution_count": 38,
   "metadata": {},
   "outputs": [],
   "source": [
    "# nb of zones sympo in the department (to know the indices of the complementary zones with multiple zones sympo)\n",
    "zs_N=len([zs for zs in da_mask.id.values.tolist() if \"+\" not in zs])-1 # -1 to remove the departement from the counting"
   ]
  },
  {
   "cell_type": "code",
   "execution_count": 39,
   "metadata": {},
   "outputs": [],
   "source": [
    "# find the complementary zones with multiple zones sympo in it \n",
    "id_zones_comp_multiple=np.where([val.count('+')<(zs_N-2) for val in da_mask.id.values.tolist()])[0][1:] # we ignore the department since the complementary zone is the empty space\n",
    "#id_zones_comp_multiple"
   ]
  },
  {
   "cell_type": "code",
   "execution_count": 40,
   "metadata": {},
   "outputs": [],
   "source": [
    "# remember the winning zones per echeance\n",
    "#zone_sum_with_dist_min_by_step.values\n",
    "# remember the winning zones per echeance that are heterogenous \n",
    "#zone_sum_with_dist_min_by_step.values[step_zones_comp_hetero]"
   ]
  },
  {
   "cell_type": "code",
   "execution_count": 41,
   "metadata": {},
   "outputs": [],
   "source": [
    "# mark those echeances that have both heterogeneous winning complementary zones and are composed of multiple zone sympo\n",
    "step_zones_comp_hetero_and_multiple=step_zones_comp_hetero[np.where([zone_sum_with_dist_min_by_step.values[step_zones_comp_hetero][i] in id_zones_comp_multiple for i in np.arange(0,len(step_zones_hetero))])[0]]\n",
    "#step_zones_comp_hetero_and_multiple"
   ]
  },
  {
   "cell_type": "code",
   "execution_count": 42,
   "metadata": {},
   "outputs": [],
   "source": [
    "# and the complementary zones are the following (in fact they are the complementary of these zones):\n",
    "zones_comp=[da_mask.id.values.tolist()[zone_sum_with_dist_min_by_step.values[i]] for i in step_zones_comp_hetero_and_multiple]\n",
    "#zones_comp"
   ]
  },
  {
   "cell_type": "markdown",
   "metadata": {},
   "source": [
    "## 2.3 Generate the new dataset for the winning heterogeneous zones + complementary zones (with multiple zone sympo). Zones that did not pass the criteria are fully masked.\n"
   ]
  },
  {
   "cell_type": "code",
   "execution_count": 43,
   "metadata": {},
   "outputs": [],
   "source": [
    "# (Check) adding the zone and its complementary one gets the department size\n",
    "#np.asarray(da_mask.attrs[\"zone size\"])+np.asarray(da_mask_comp.attrs[\"zone size\"])"
   ]
  },
  {
   "cell_type": "markdown",
   "metadata": {},
   "source": [
    "### 2.3.1 Create the winning zone dataset"
   ]
  },
  {
   "cell_type": "code",
   "execution_count": 44,
   "metadata": {},
   "outputs": [],
   "source": [
    "# create the dataaset where masks corresponding to zones that shall be redivided (zones) are applied on the appropriate echeance step (step_zones_hetero_and_multiple)\n",
    "tmp_masks=np.full([ds_masked.dims['step'], ds_masked.dims['latitude'], ds_masked.dims['longitude']], np.nan)"
   ]
  },
  {
   "cell_type": "code",
   "execution_count": 45,
   "metadata": {},
   "outputs": [],
   "source": [
    "for i in np.arange(0,ds.dims['step']):  \n",
    "    if i in step_zones_hetero_and_multiple: \n",
    "        ind_tmp=zone_sum_with_dist_min_by_step.values[i]\n",
    "        mask_tmp=da_mask.isel(id=ind_tmp)\n",
    "        mask_tmp=mask_tmp.where(mask_tmp!=0,np.nan)        \n",
    "        tmp_masks[i,:,:]=(ds.isel(step=i).unknown*mask_tmp).values "
   ]
  },
  {
   "cell_type": "code",
   "execution_count": 46,
   "metadata": {},
   "outputs": [],
   "source": [
    "# build the new ds\n",
    "ds_masked_zones_hetero=xr.Dataset(coords={'step':ds_masked['step'],'latitude':ds_masked['latitude'],'longitude':ds_masked['longitude']})\n",
    "ds_masked_zones_hetero[\"unknown\"]=(tuple(['step','latitude','longitude']),tmp_masks)\n",
    "#ds_masked_zones_hetero"
   ]
  },
  {
   "cell_type": "code",
   "execution_count": 47,
   "metadata": {
    "scrolled": true
   },
   "outputs": [
    {
     "data": {
      "image/png": "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\n",
      "text/plain": [
       "<Figure size 432x288 with 2 Axes>"
      ]
     },
     "metadata": {
      "needs_background": "light"
     },
     "output_type": "display_data"
    }
   ],
   "source": [
    "# check on one case (look at one step that is applicable)\n",
    "ds_masked_zones_hetero.isel(step=2).unknown.plot.imshow();"
   ]
  },
  {
   "cell_type": "markdown",
   "metadata": {},
   "source": [
    "### 2.3.2 Create the complementary zone dataset"
   ]
  },
  {
   "cell_type": "code",
   "execution_count": 48,
   "metadata": {},
   "outputs": [],
   "source": [
    "# create the dataset where masks corresponding to complementary zones that shall be redivided (zones_comp) are applied on the appropriate echeance step (step_zones_comp_hetero_and_multiple)\n",
    "tmp_masks_comp=np.full([ds_masked.dims['step'], ds_masked.dims['latitude'], ds_masked.dims['longitude']], np.nan)"
   ]
  },
  {
   "cell_type": "code",
   "execution_count": 49,
   "metadata": {},
   "outputs": [],
   "source": [
    "for i in np.arange(0,ds.dims['step']):  \n",
    "    if i in step_zones_comp_hetero_and_multiple: \n",
    "        ind_comp_tmp=zone_sum_with_dist_min_by_step.values[i]\n",
    "        \n",
    "        mask_comp_tmp=da_mask_comp.isel(id=ind_comp_tmp)\n",
    "        mask_comp_tmp=mask_comp_tmp.where(mask_comp_tmp!=0,np.nan) \n",
    "        \n",
    "        tmp_masks_comp[i,:,:]=(ds.isel(step=i).unknown*mask_comp_tmp).values "
   ]
  },
  {
   "cell_type": "code",
   "execution_count": 50,
   "metadata": {},
   "outputs": [],
   "source": [
    "# build the new dataset \n",
    "ds_masked_zones_comp_hetero=xr.Dataset(coords={'step':ds_masked['step'],'latitude':ds_masked['latitude'],'longitude':ds_masked['longitude']})\n",
    "ds_masked_zones_comp_hetero[\"unknown\"]=(tuple(['step','latitude','longitude']),tmp_masks_comp)\n",
    "#ds_masked_zones_comp_hetero"
   ]
  },
  {
   "cell_type": "code",
   "execution_count": 51,
   "metadata": {},
   "outputs": [
    {
     "data": {
      "image/png": "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\n",
      "text/plain": [
       "<Figure size 432x288 with 2 Axes>"
      ]
     },
     "metadata": {
      "needs_background": "light"
     },
     "output_type": "display_data"
    }
   ],
   "source": [
    "# check on one case (again one step that is applicable)\n",
    "ds_masked_zones_comp_hetero.isel(step=47).unknown.plot.imshow();"
   ]
  },
  {
   "cell_type": "markdown",
   "metadata": {},
   "source": [
    "# 3 Apply the distance calculation on these two new datasets composed of the heterogeneous winning zones and complementary zones (round 2)"
   ]
  },
  {
   "cell_type": "markdown",
   "metadata": {},
   "source": [
    "## 3.1 Winning zones"
   ]
  },
  {
   "cell_type": "markdown",
   "metadata": {},
   "source": [
    "### 3.1.1 Zones for the winning zones"
   ]
  },
  {
   "cell_type": "code",
   "execution_count": 52,
   "metadata": {},
   "outputs": [],
   "source": [
    "# calculation of the distance for the new dataset (winning zones)\n",
    "ds_distance_round2zones = distance_wwmf.get_pixel_distance_dept(ds_masked_zones_hetero,distance_choice) # 4D (step:48, latitude, longitude, wwmf_2)"
   ]
  },
  {
   "cell_type": "code",
   "execution_count": 53,
   "metadata": {},
   "outputs": [],
   "source": [
    "ds_distance_round2zones_chunk = ds_distance_round2zones.chunk({\"step\":1}) # 4D (step:48, latitude, longitude, wwmf_2)\n",
    "#ds_distance_round2zones_chunk"
   ]
  },
  {
   "cell_type": "markdown",
   "metadata": {},
   "source": [
    "### 3.1.2 Define a new dataarray of masks: idea here is to change 0 into nan (though it may not be any different than with da_mask)"
   ]
  },
  {
   "cell_type": "code",
   "execution_count": 54,
   "metadata": {},
   "outputs": [],
   "source": [
    "tmp_mask_round2=np.full([da_mask.shape[0], da_mask.shape[1], da_mask.shape[2]], np.nan)"
   ]
  },
  {
   "cell_type": "code",
   "execution_count": 55,
   "metadata": {},
   "outputs": [],
   "source": [
    "# initialization\n",
    "da_mask_round2=da_mask\n",
    "\n",
    "for i in np.arange(0,da_mask.shape[0]):   \n",
    "    mask_tmp_round2=da_mask.isel(id=i)\n",
    "    mask_tmp_round2=mask_tmp_round2.where(mask_tmp_round2!=0,np.nan)  \n",
    "    tmp_mask_round2[i,:,:]=mask_tmp_round2"
   ]
  },
  {
   "cell_type": "code",
   "execution_count": 56,
   "metadata": {},
   "outputs": [],
   "source": [
    "da_mask_round2=xr.DataArray(data=tmp_mask_round2,coords={'id':da_mask.id.values,'latitude':da_mask.latitude.values,'longitude':da_mask.longitude.values},dims={'id':da_mask.shape[0],'latitude':da_mask.shape[1],'longitude':da_mask.shape[2]})\n",
    "#da_mask_round2"
   ]
  },
  {
   "cell_type": "markdown",
   "metadata": {},
   "source": [
    "### 3.1.3 Distance calculation"
   ]
  },
  {
   "cell_type": "code",
   "execution_count": 57,
   "metadata": {},
   "outputs": [],
   "source": [
    "distance_round2zones_by_step_id = (ds_distance_round2zones_chunk * da_mask_round2).sum(['latitude',\"longitude\"]).compute() # 3D (step:48, wwmf_2, id)"
   ]
  },
  {
   "cell_type": "code",
   "execution_count": 58,
   "metadata": {},
   "outputs": [],
   "source": [
    "# one can compare both masks and see that zeros were replaced by nan\n",
    "#da_mask.isel(id=20).plot.imshow()\n",
    "#da_mask_round2.isel(id=20).plot.imshow()"
   ]
  },
  {
   "cell_type": "code",
   "execution_count": 59,
   "metadata": {},
   "outputs": [],
   "source": [
    "# list of the zones hetero and multiple (recall from earlier)\n",
    "zoneswinning=dist_sum_by_step_id_min.id[dist_sum_by_step_id_min.argmin((\"id\"))].values \n",
    "#zoneswinning"
   ]
  },
  {
   "cell_type": "code",
   "execution_count": 60,
   "metadata": {},
   "outputs": [],
   "source": [
    "# find the id of the subset of zones included in the winning zone for each echeance step when round 2 is applicable\n",
    "id_zone_included=[np.nan]*ds_masked.dims['step']\n",
    "\n",
    "for i in step_zones_hetero_and_multiple:\n",
    "    id_zone_included[i]=np.where([set(val.split(\"+\")).issubset(zoneswinning[i].split(\"+\")) for val in da_mask.id.values.tolist()])[0]"
   ]
  },
  {
   "cell_type": "code",
   "execution_count": 61,
   "metadata": {},
   "outputs": [],
   "source": [
    "# verify that this works well by comparing one zone and the corresponding subzones \n",
    "#zoneswinning[47]\n",
    "#[da_mask.id.values.tolist()[i] for i in id_zone_included[47]]"
   ]
  },
  {
   "cell_type": "markdown",
   "metadata": {},
   "source": [
    "## 3.2 Complementary of the winning zones"
   ]
  },
  {
   "cell_type": "markdown",
   "metadata": {},
   "source": [
    "### 3.2.2 Define a new dataarray of complementary masks"
   ]
  },
  {
   "cell_type": "code",
   "execution_count": 62,
   "metadata": {},
   "outputs": [],
   "source": [
    "tmp_mask_comp_round2=np.full([da_mask.shape[0], da_mask.shape[1], da_mask.shape[2]], np.nan)"
   ]
  },
  {
   "cell_type": "code",
   "execution_count": 63,
   "metadata": {},
   "outputs": [],
   "source": [
    "# initialization\n",
    "da_mask_comp_round2=da_mask_comp\n",
    "\n",
    "for i in np.arange(0,da_mask.shape[0]):   \n",
    "    mask_comp_tmp_round2=da_mask_comp.isel(id=i)\n",
    "    mask_comp_tmp_round2=mask_comp_tmp_round2.where(mask_comp_tmp_round2!=0,np.nan)  \n",
    "    tmp_mask_comp_round2[i,:,:]=mask_comp_tmp_round2"
   ]
  },
  {
   "cell_type": "code",
   "execution_count": 64,
   "metadata": {},
   "outputs": [],
   "source": [
    "da_mask_comp_round2=xr.DataArray(data=tmp_mask_comp_round2,coords={'id':da_mask.id.values,'latitude':da_mask.latitude.values,'longitude':da_mask.longitude.values},dims={'id':da_mask.shape[0],'latitude':da_mask.shape[1],'longitude':da_mask.shape[2]})\n",
    "#da_mask_comp_round2"
   ]
  },
  {
   "cell_type": "code",
   "execution_count": 65,
   "metadata": {},
   "outputs": [],
   "source": [
    "# again one can compare both masks and see that zeros were replaced by nan\n",
    "#da_mask_comp.isel(id=20).plot.imshow()\n",
    "#da_mask_comp_round2.isel(id=20).plot.imshow()"
   ]
  },
  {
   "cell_type": "markdown",
   "metadata": {},
   "source": [
    "### 3.2.1 Distance calculation"
   ]
  },
  {
   "cell_type": "code",
   "execution_count": 66,
   "metadata": {},
   "outputs": [],
   "source": [
    "distance_round2zones_comp_by_step_id = (ds_distance_round2zones_chunk * da_mask_comp_round2).sum(['latitude',\"longitude\"]).compute()"
   ]
  },
  {
   "cell_type": "markdown",
   "metadata": {},
   "source": [
    "## 3.3 Find the new winning zones and their complementary zones"
   ]
  },
  {
   "cell_type": "markdown",
   "metadata": {},
   "source": [
    "### 3.3.1 Minimization of the sum of the distances"
   ]
  },
  {
   "cell_type": "code",
   "execution_count": 67,
   "metadata": {},
   "outputs": [],
   "source": [
    "# calculate the minimal distance (over all wwmf_2 codes) for all echeance steps and masks\n",
    "distance_round2zones_by_step_id_min=distance_round2zones_by_step_id.min(\"wwmf_2\") # 2D (step, id)\n",
    "\n",
    "# idem for the complementary zones\n",
    "distance_round2zones_comp_by_step_id_min=distance_round2zones_comp_by_step_id.min(\"wwmf_2\") # 2D (step, id)\n",
    "\n",
    "# summing both distances\n",
    "dist_round2zones_sum_by_step_id_min=distance_round2zones_by_step_id_min+distance_round2zones_comp_by_step_id_min"
   ]
  },
  {
   "cell_type": "markdown",
   "metadata": {},
   "source": [
    "### 3.3.2 New zones and complementary zones and the corresponding temps sensible: analysis"
   ]
  },
  {
   "cell_type": "code",
   "execution_count": 68,
   "metadata": {},
   "outputs": [],
   "source": [
    "# initialize\n",
    "ind_zone_distmin_round2_by_step=np.full([ds_masked_zones_hetero.dims[\"step\"]], np.nan) \n",
    "dist_round2_sum_by_step_min=np.full([ds_masked_zones_hetero.dims[\"step\"]], np.nan) \n",
    "tps_sens_round2=np.full([ds_masked_zones_hetero.dims[\"step\"]], np.nan)\n",
    "tps_sens_comp_round2=np.full([ds_masked_zones_hetero.dims[\"step\"]], np.nan)\n",
    "\n",
    "# new winning zone id\n",
    "name_zone_round2=['nan']*ds_masked_zones_hetero.dims[\"step\"]\n",
    "# new complementary winning zone id\n",
    "name_zone_round2_comp=['nan']*ds_masked_zones_hetero.dims[\"step\"]"
   ]
  },
  {
   "cell_type": "code",
   "execution_count": 69,
   "metadata": {},
   "outputs": [],
   "source": [
    "# recall \n",
    "#step_zones_hetero_and_multiple"
   ]
  },
  {
   "cell_type": "code",
   "execution_count": 70,
   "metadata": {},
   "outputs": [],
   "source": [
    "# recall\n",
    "#zoneswinning"
   ]
  },
  {
   "cell_type": "code",
   "execution_count": 71,
   "metadata": {},
   "outputs": [
    {
     "name": "stdout",
     "output_type": "stream",
     "text": [
      "Echeance 2: no further zoning within the initial winning zone 4101+4102+4103+4104+4105\n",
      "Temps sensible in any new zone: 4.0\n",
      "Temps sensible in any new complementary zone: 4.0 (Both shall be the same!) \n",
      "\n",
      "Echeance 3: no further zoning within the initial winning zone 4103+4104+4105+4106\n",
      "Temps sensible in any new zone: 4.0\n",
      "Temps sensible in any new complementary zone: 4.0 (Both shall be the same!) \n",
      "\n",
      "Echeance 6: no further zoning within the initial winning zone 4102+4103\n",
      "Temps sensible in any new zone: 6.0\n",
      "Temps sensible in any new complementary zone: 6.0 (Both shall be the same!) \n",
      "\n",
      "Echeance 8: no further zoning within the initial winning zone 4103+4104+4105+4106\n",
      "Temps sensible in any new zone: 6.0\n",
      "Temps sensible in any new complementary zone: 6.0 (Both shall be the same!) \n",
      "\n",
      "\n",
      "Echeance  10 : YES! Further zoning applies within the initial winning zone  4104+4105+4106 ,viz.: 4105+4106\n",
      "Temps sensible is: 6.0 in the new winning zone\n",
      "Temps sensible is: 3.0 in the new complementary zone \n",
      "\n",
      "Echeance 11: no further zoning within the initial winning zone 4105+4106\n",
      "Temps sensible in any new zone: 3.0\n",
      "Temps sensible in any new complementary zone: 3.0 (Both shall be the same!) \n",
      "\n",
      "Echeance 29: no further zoning within the initial winning zone 4102+4103+4104+4105\n",
      "Temps sensible in any new zone: 3.0\n",
      "Temps sensible in any new complementary zone: 3.0 (Both shall be the same!) \n",
      "\n",
      "Echeance 34: no further zoning within the initial winning zone 4101+4102+4103+4105+4106\n",
      "Temps sensible in any new zone: 6.0\n",
      "Temps sensible in any new complementary zone: 6.0 (Both shall be the same!) \n",
      "\n",
      "Echeance 38: no further zoning within the initial winning zone 4102+4103+4106\n",
      "Temps sensible in any new zone: 8.0\n",
      "Temps sensible in any new complementary zone: 8.0 (Both shall be the same!) \n",
      "\n",
      "Echeance 44: no further zoning within the initial winning zone 4103+4104+4105+4106\n",
      "Temps sensible in any new zone: 6.0\n",
      "Temps sensible in any new complementary zone: 6.0 (Both shall be the same!) \n",
      "\n",
      "Echeance 45: no further zoning within the initial winning zone 4102+4103+4104+4105+4106\n",
      "Temps sensible in any new zone: 6.0\n",
      "Temps sensible in any new complementary zone: 6.0 (Both shall be the same!) \n",
      "\n",
      "Echeance 46: no further zoning within the initial winning zone 4102+4103+4104+4106\n",
      "Temps sensible in any new zone: 6.0\n",
      "Temps sensible in any new complementary zone: 6.0 (Both shall be the same!) \n",
      "\n",
      "Echeance 47: no further zoning within the initial winning zone 4102+4103+4104\n",
      "Temps sensible in any new zone: 3.0\n",
      "Temps sensible in any new complementary zone: 3.0 (Both shall be the same!) \n",
      "\n"
     ]
    },
    {
     "name": "stderr",
     "output_type": "stream",
     "text": [
      "/Users/gablellouch/anaconda3/envs/preproc/lib/python3.8/site-packages/pandas/core/indexing.py:670: SettingWithCopyWarning: \n",
      "A value is trying to be set on a copy of a slice from a DataFrame\n",
      "\n",
      "See the caveats in the documentation: https://pandas.pydata.org/pandas-docs/stable/user_guide/indexing.html#returning-a-view-versus-a-copy\n",
      "  self._setitem_with_indexer(indexer, value)\n",
      "/Users/gablellouch/anaconda3/envs/preproc/lib/python3.8/site-packages/pandas/core/indexing.py:670: SettingWithCopyWarning: \n",
      "A value is trying to be set on a copy of a slice from a DataFrame\n",
      "\n",
      "See the caveats in the documentation: https://pandas.pydata.org/pandas-docs/stable/user_guide/indexing.html#returning-a-view-versus-a-copy\n",
      "  self._setitem_with_indexer(indexer, value)\n",
      "/Users/gablellouch/anaconda3/envs/preproc/lib/python3.8/site-packages/pandas/core/indexing.py:670: SettingWithCopyWarning: \n",
      "A value is trying to be set on a copy of a slice from a DataFrame\n",
      "\n",
      "See the caveats in the documentation: https://pandas.pydata.org/pandas-docs/stable/user_guide/indexing.html#returning-a-view-versus-a-copy\n",
      "  self._setitem_with_indexer(indexer, value)\n",
      "/Users/gablellouch/anaconda3/envs/preproc/lib/python3.8/site-packages/pandas/core/indexing.py:670: SettingWithCopyWarning: \n",
      "A value is trying to be set on a copy of a slice from a DataFrame\n",
      "\n",
      "See the caveats in the documentation: https://pandas.pydata.org/pandas-docs/stable/user_guide/indexing.html#returning-a-view-versus-a-copy\n",
      "  self._setitem_with_indexer(indexer, value)\n",
      "/Users/gablellouch/anaconda3/envs/preproc/lib/python3.8/site-packages/pandas/core/indexing.py:670: SettingWithCopyWarning: \n",
      "A value is trying to be set on a copy of a slice from a DataFrame\n",
      "\n",
      "See the caveats in the documentation: https://pandas.pydata.org/pandas-docs/stable/user_guide/indexing.html#returning-a-view-versus-a-copy\n",
      "  self._setitem_with_indexer(indexer, value)\n",
      "/Users/gablellouch/anaconda3/envs/preproc/lib/python3.8/site-packages/pandas/core/indexing.py:670: SettingWithCopyWarning: \n",
      "A value is trying to be set on a copy of a slice from a DataFrame\n",
      "\n",
      "See the caveats in the documentation: https://pandas.pydata.org/pandas-docs/stable/user_guide/indexing.html#returning-a-view-versus-a-copy\n",
      "  self._setitem_with_indexer(indexer, value)\n",
      "/Users/gablellouch/anaconda3/envs/preproc/lib/python3.8/site-packages/pandas/core/indexing.py:670: SettingWithCopyWarning: \n",
      "A value is trying to be set on a copy of a slice from a DataFrame\n",
      "\n",
      "See the caveats in the documentation: https://pandas.pydata.org/pandas-docs/stable/user_guide/indexing.html#returning-a-view-versus-a-copy\n",
      "  self._setitem_with_indexer(indexer, value)\n",
      "/Users/gablellouch/anaconda3/envs/preproc/lib/python3.8/site-packages/pandas/core/indexing.py:670: SettingWithCopyWarning: \n",
      "A value is trying to be set on a copy of a slice from a DataFrame\n",
      "\n",
      "See the caveats in the documentation: https://pandas.pydata.org/pandas-docs/stable/user_guide/indexing.html#returning-a-view-versus-a-copy\n",
      "  self._setitem_with_indexer(indexer, value)\n",
      "/Users/gablellouch/anaconda3/envs/preproc/lib/python3.8/site-packages/pandas/core/indexing.py:670: SettingWithCopyWarning: \n",
      "A value is trying to be set on a copy of a slice from a DataFrame\n",
      "\n",
      "See the caveats in the documentation: https://pandas.pydata.org/pandas-docs/stable/user_guide/indexing.html#returning-a-view-versus-a-copy\n",
      "  self._setitem_with_indexer(indexer, value)\n",
      "/Users/gablellouch/anaconda3/envs/preproc/lib/python3.8/site-packages/pandas/core/indexing.py:670: SettingWithCopyWarning: \n",
      "A value is trying to be set on a copy of a slice from a DataFrame\n",
      "\n",
      "See the caveats in the documentation: https://pandas.pydata.org/pandas-docs/stable/user_guide/indexing.html#returning-a-view-versus-a-copy\n",
      "  self._setitem_with_indexer(indexer, value)\n",
      "/Users/gablellouch/anaconda3/envs/preproc/lib/python3.8/site-packages/pandas/core/indexing.py:670: SettingWithCopyWarning: \n",
      "A value is trying to be set on a copy of a slice from a DataFrame\n",
      "\n",
      "See the caveats in the documentation: https://pandas.pydata.org/pandas-docs/stable/user_guide/indexing.html#returning-a-view-versus-a-copy\n",
      "  self._setitem_with_indexer(indexer, value)\n",
      "/Users/gablellouch/anaconda3/envs/preproc/lib/python3.8/site-packages/pandas/core/indexing.py:670: SettingWithCopyWarning: \n",
      "A value is trying to be set on a copy of a slice from a DataFrame\n",
      "\n",
      "See the caveats in the documentation: https://pandas.pydata.org/pandas-docs/stable/user_guide/indexing.html#returning-a-view-versus-a-copy\n",
      "  self._setitem_with_indexer(indexer, value)\n",
      "/Users/gablellouch/anaconda3/envs/preproc/lib/python3.8/site-packages/pandas/core/indexing.py:670: SettingWithCopyWarning: \n",
      "A value is trying to be set on a copy of a slice from a DataFrame\n",
      "\n",
      "See the caveats in the documentation: https://pandas.pydata.org/pandas-docs/stable/user_guide/indexing.html#returning-a-view-versus-a-copy\n",
      "  self._setitem_with_indexer(indexer, value)\n"
     ]
    }
   ],
   "source": [
    "for i in step_zones_hetero_and_multiple:\n",
    "\n",
    "    if len(np.where(dist_round2zones_sum_by_step_id_min.isel(step=i)[id_zone_included[i]]==min(dist_round2zones_sum_by_step_id_min.isel(step=i)[id_zone_included[i]]))[0])==len(id_zone_included[i]):\n",
    "        # Pas de nouvelle  subdivision a faire \n",
    "        print('Echeance '+str(i)+': no further zoning within the initial winning zone '+zoneswinning[i])\n",
    "        # need to transform indices into wwmf_2 code (same applies to all tps_sens)\n",
    "        tps_sens_round2[i]=distance_round2zones_by_step_id.wwmf_2[distance_round2zones_by_step_id.isel(step=i).argmin(\"wwmf_2\")[id_zone_included[i]].max()].values\n",
    "        tps_sens_comp_round2[i]=distance_round2zones_comp_by_step_id.wwmf_2[distance_round2zones_comp_by_step_id.isel(step=i).argmin(\"wwmf_2\")[id_zone_included[i]].max()].values\n",
    "        print('Temps sensible in any new zone: '+str(tps_sens_round2[i]))\n",
    "        print('Temps sensible in any new complementary zone: '+str(tps_sens_comp_round2[i]),'(Both shall be the same!)','\\n')\n",
    "        \n",
    "        df_zones[\"zone_winning_2\"].iloc[i]=zoneswinning[i]\n",
    "        df_zones[\"zw2_\"+distance_choice].iloc[i]=tps_sens_round2[i]\n",
    "        df_zones[\"zwc_\"+distance_choice].iloc[i]=tps_sens_comp_round2[i]\n",
    "        \n",
    "    else:        \n",
    "        # On subdivise. \n",
    "        ind_zone_distmin_round2_by_step[i]=dist_round2zones_sum_by_step_id_min.isel(step=i)[id_zone_included[i]].argmin().values\n",
    "        dist_round2_sum_by_step_min[i]=dist_round2zones_sum_by_step_id_min.isel(step=i)[id_zone_included[i]].min().values\n",
    "               \n",
    "        tps_sens_round2[i]=distance_round2zones_by_step_id.wwmf_2[distance_round2zones_by_step_id.isel(step=i).argmin(\"wwmf_2\")[id_zone_included[i]][int(ind_zone_distmin_round2_by_step[i])]].values\n",
    "        tps_sens_comp_round2[i]=distance_round2zones_by_step_id.wwmf_2[distance_round2zones_comp_by_step_id.isel(step=i).argmin(\"wwmf_2\")[id_zone_included[i]][int(ind_zone_distmin_round2_by_step[i])]].values\n",
    "        \n",
    "        name_zone_round2[i]=str(dist_round2zones_sum_by_step_id_min.isel(step=i).id[id_zone_included[i]][int(ind_zone_distmin_round2_by_step[i])].values)\n",
    "        \n",
    "        print('\\nEcheance ',str(i),': YES! Further zoning applies within the initial winning zone ',zoneswinning[i],',viz.:',name_zone_round2[i])\n",
    "        print('Temps sensible is: '+str(tps_sens_round2[i]),'in the new winning zone')\n",
    "        print('Temps sensible is: '+str(tps_sens_comp_round2[i]),'in the new complementary zone','\\n')\n",
    "        \n",
    "        df_zones[\"zone_winning_2\"].iloc[i]=name_zone_round2[i]\n",
    "        df_zones[\"zw2_\"+distance_choice].iloc[i]=tps_sens_round2[i]\n",
    "        df_zones[\"zwc_\"+distance_choice].iloc[i]=tps_sens_comp_round2[i]\n",
    "        \n",
    "        # find the zone winning complementary:\n",
    "        # elements of the complementary zone\n",
    "        zone_tmp=np.setdiff1d(zoneswinning[i].split('+'),name_zone_round2[i].split('+')).tolist()\n",
    "        \n",
    "        # corresponding zone id (there shall be one and only one in the list)\n",
    "        if len(np.where([da_mask.id[i].values.tolist().split('+')==zone_tmp for i in np.arange(0,len(da_mask.id))])[0])>0:\n",
    "            ind_zone_tmp=np.where([da_mask.id[i].values.tolist().split('+')==zone_tmp for i in np.arange(0,len(da_mask.id))])[0][0]\n",
    "            name_zone_round2_comp[i]=da_mask.id[ind_zone_tmp].values.tolist()\n",
    "            df_zones[\"zone_winning_comp\"].iloc[i]=name_zone_round2_comp[i]\n",
    "            \n",
    "        else:\n",
    "            print('warning: the complementary zone does not seem to be any of the original zones! Please check')"
   ]
  },
  {
   "cell_type": "markdown",
   "metadata": {},
   "source": [
    "## 3.4 Complementary of the winning zones"
   ]
  },
  {
   "cell_type": "markdown",
   "metadata": {},
   "source": [
    "### 3.4.1 Zones for the complementary of the winning zones"
   ]
  },
  {
   "cell_type": "code",
   "execution_count": 72,
   "metadata": {},
   "outputs": [],
   "source": [
    "ds_distance_round2compzones= distance_wwmf.get_pixel_distance_dept(ds_masked_zones_comp_hetero,distance_choice) # 4D (step:48, latitude, longitude, wwmf_2)\n",
    "ds_distance_round2compzones_chunk = ds_distance_round2compzones.chunk({\"step\":1}) # 4D (step:48, latitude, longitude, wwmf_2)\n",
    "distance_round2compzones_by_step_id = (ds_distance_round2compzones_chunk * da_mask_round2).sum(['latitude',\"longitude\"]).compute() # 3D (step:48, wwmf_2, id)"
   ]
  },
  {
   "cell_type": "markdown",
   "metadata": {},
   "source": [
    "### 3.4.2 Complementary zones for the complementary of the winning zones\n"
   ]
  },
  {
   "cell_type": "code",
   "execution_count": 73,
   "metadata": {},
   "outputs": [],
   "source": [
    "distance_round2compzones_comp_by_step_id = (ds_distance_round2compzones_chunk * da_mask_comp_round2).sum(['latitude',\"longitude\"]).compute()"
   ]
  },
  {
   "cell_type": "markdown",
   "metadata": {},
   "source": [
    "### 3.4.3 Find out the complementary zone sub-zones"
   ]
  },
  {
   "cell_type": "code",
   "execution_count": 74,
   "metadata": {},
   "outputs": [],
   "source": [
    "# we create the list of the complementary winning zones\n",
    "indivi_zones=['4101','4102','4103','4104','4105','4106']\n",
    "zoneswinning_comp=['']*len(zoneswinning)\n",
    "\n",
    "for ii,i in enumerate(zoneswinning):\n",
    "    tmp=[]\n",
    "    for j in indivi_zones:\n",
    "        if j not in i.split(\"+\"):            \n",
    "            tmp.append(j)\n",
    "    zoneswinning_comp[ii]='+'.join(tmp)\n",
    "zoneswinning_comp=np.asarray(zoneswinning_comp)"
   ]
  },
  {
   "cell_type": "code",
   "execution_count": 75,
   "metadata": {},
   "outputs": [],
   "source": [
    "df_zones[\"zone_comp\"]=zoneswinning_comp"
   ]
  },
  {
   "cell_type": "code",
   "execution_count": 76,
   "metadata": {},
   "outputs": [],
   "source": [
    "#zoneswinning_comp[step_zones_comp_hetero_and_multiple]"
   ]
  },
  {
   "cell_type": "code",
   "execution_count": 77,
   "metadata": {},
   "outputs": [],
   "source": [
    "# recall the echeance steps to consider\n",
    "#step_zones_comp_hetero_and_multiple"
   ]
  },
  {
   "cell_type": "code",
   "execution_count": 78,
   "metadata": {},
   "outputs": [],
   "source": [
    "# find the id of the subset of zones included in the COMPLEMENTARY winning zone for each echeance step when round 2 is applicable\n",
    "id_compzone_included=[np.nan]*ds_masked.dims['step']\n",
    "\n",
    "for i in step_zones_comp_hetero_and_multiple:\n",
    "    id_compzone_included[i]=np.where([set(val.split(\"+\")).issubset(zoneswinning_comp[i].split(\"+\")) for val in da_mask.id.values.tolist()])[0]"
   ]
  },
  {
   "cell_type": "code",
   "execution_count": 79,
   "metadata": {},
   "outputs": [],
   "source": [
    "# verify that this works well by comparing one zone and the corresponding subzones\n",
    "#zoneswinning_comp[47]\n",
    "#[da_mask.id.values.tolist()[i] for i in id_compzone_included[47]]"
   ]
  },
  {
   "cell_type": "markdown",
   "metadata": {},
   "source": [
    "### 3.4.4 Minimization of the sum of the distances"
   ]
  },
  {
   "cell_type": "code",
   "execution_count": 80,
   "metadata": {},
   "outputs": [],
   "source": [
    "distance_round2compzones_by_step_id_min=distance_round2compzones_by_step_id.min(\"wwmf_2\")\n",
    "distance_round2compzones_comp_by_step_id_min=distance_round2compzones_comp_by_step_id.min(\"wwmf_2\")\n",
    "dist_round2compzones_sum_by_step_id_min=distance_round2compzones_by_step_id_min+distance_round2compzones_comp_by_step_id_min"
   ]
  },
  {
   "cell_type": "markdown",
   "metadata": {},
   "source": [
    "### 3.4.5 New zones and complementary zones and the corresponding temps sensible: analysis"
   ]
  },
  {
   "cell_type": "code",
   "execution_count": 81,
   "metadata": {},
   "outputs": [],
   "source": [
    "# initialize\n",
    "ind_compzone_distmin_round2_by_step=np.full([ds_masked_zones_comp_hetero.dims[\"step\"]], np.nan)  \n",
    "dist_comp_round2_sum_by_step_min=np.full([ds_masked_zones_comp_hetero.dims[\"step\"]], np.nan) \n",
    "tps_sens_comp_round2=np.full([ds_masked_zones_comp_hetero.dims[\"step\"]], np.nan)\n",
    "tps_sens_comp_of_comp_round2=np.full([ds_masked_zones_hetero.dims[\"step\"]], np.nan)\n",
    "\n",
    "# new winning zone id\n",
    "name_compzone_round2=['nan']*ds_masked_zones_hetero.dims[\"step\"]\n",
    "\n",
    "# new complementary winning zone id\n",
    "name_compzone_round2_comp=['nan']*ds_masked_zones_hetero.dims[\"step\"]"
   ]
  },
  {
   "cell_type": "code",
   "execution_count": 82,
   "metadata": {
    "scrolled": false
   },
   "outputs": [
    {
     "name": "stdout",
     "output_type": "stream",
     "text": [
      "\n",
      "Echeance  3 : YES! Further zoning applies within the initial winning zone  4101+4102 ,viz.: 4102\n",
      "Temps sensible is: 2.0 in the new winning zone\n",
      "Temps sensible is: 6.0 in the new complementary zone \n",
      "\n",
      "\n",
      "Echeance  4 : YES! Further zoning applies within the initial winning zone  4101+4102+4104+4105+4106 ,viz.: 4101\n",
      "Temps sensible is: 6.0 in the new winning zone\n",
      "Temps sensible is: 3.0 in the new complementary zone \n",
      "\n",
      "warning: the complementary zone does not seem to be any of the original zones! Please check\n",
      "\n",
      "\n",
      "Echeance  5 : YES! Further zoning applies within the initial winning zone  4101+4102+4104+4105+4106 ,viz.: 4101+4102\n",
      "Temps sensible is: 4.0 in the new winning zone\n",
      "Temps sensible is: 3.0 in the new complementary zone \n",
      "\n",
      "\n",
      "Echeance  6 : YES! Further zoning applies within the initial winning zone  4101+4104+4105+4106 ,viz.: 4105+4106\n",
      "Temps sensible is: 3.0 in the new winning zone\n",
      "Temps sensible is: 4.0 in the new complementary zone \n",
      "\n",
      "warning: the complementary zone does not seem to be any of the original zones! Please check\n",
      "\n",
      "Echeance 7: no further zoning within the initial complementary winning zone 4101+4102+4103+4104+4105\n",
      "Temps sensible in any new zone (of the complementary): 6.0\n",
      "Temps sensible in any new complementary zone (of the complementary): 6.0 (Both shall be the same!) \n",
      "\n",
      "\n",
      "Echeance  9 : YES! Further zoning applies within the initial winning zone  4101+4102+4103 ,viz.: 4103\n",
      "Temps sensible is: 3.0 in the new winning zone\n",
      "Temps sensible is: 4.0 in the new complementary zone \n",
      "\n"
     ]
    },
    {
     "name": "stderr",
     "output_type": "stream",
     "text": [
      "/Users/gablellouch/anaconda3/envs/preproc/lib/python3.8/site-packages/pandas/core/indexing.py:670: SettingWithCopyWarning: \n",
      "A value is trying to be set on a copy of a slice from a DataFrame\n",
      "\n",
      "See the caveats in the documentation: https://pandas.pydata.org/pandas-docs/stable/user_guide/indexing.html#returning-a-view-versus-a-copy\n",
      "  self._setitem_with_indexer(indexer, value)\n",
      "/Users/gablellouch/anaconda3/envs/preproc/lib/python3.8/site-packages/pandas/core/indexing.py:670: SettingWithCopyWarning: \n",
      "A value is trying to be set on a copy of a slice from a DataFrame\n",
      "\n",
      "See the caveats in the documentation: https://pandas.pydata.org/pandas-docs/stable/user_guide/indexing.html#returning-a-view-versus-a-copy\n",
      "  self._setitem_with_indexer(indexer, value)\n",
      "/Users/gablellouch/anaconda3/envs/preproc/lib/python3.8/site-packages/pandas/core/indexing.py:670: SettingWithCopyWarning: \n",
      "A value is trying to be set on a copy of a slice from a DataFrame\n",
      "\n",
      "See the caveats in the documentation: https://pandas.pydata.org/pandas-docs/stable/user_guide/indexing.html#returning-a-view-versus-a-copy\n",
      "  self._setitem_with_indexer(indexer, value)\n",
      "/Users/gablellouch/anaconda3/envs/preproc/lib/python3.8/site-packages/pandas/core/indexing.py:670: SettingWithCopyWarning: \n",
      "A value is trying to be set on a copy of a slice from a DataFrame\n",
      "\n",
      "See the caveats in the documentation: https://pandas.pydata.org/pandas-docs/stable/user_guide/indexing.html#returning-a-view-versus-a-copy\n",
      "  self._setitem_with_indexer(indexer, value)\n",
      "/Users/gablellouch/anaconda3/envs/preproc/lib/python3.8/site-packages/pandas/core/indexing.py:670: SettingWithCopyWarning: \n",
      "A value is trying to be set on a copy of a slice from a DataFrame\n",
      "\n",
      "See the caveats in the documentation: https://pandas.pydata.org/pandas-docs/stable/user_guide/indexing.html#returning-a-view-versus-a-copy\n",
      "  self._setitem_with_indexer(indexer, value)\n",
      "/Users/gablellouch/anaconda3/envs/preproc/lib/python3.8/site-packages/pandas/core/indexing.py:670: SettingWithCopyWarning: \n",
      "A value is trying to be set on a copy of a slice from a DataFrame\n",
      "\n",
      "See the caveats in the documentation: https://pandas.pydata.org/pandas-docs/stable/user_guide/indexing.html#returning-a-view-versus-a-copy\n",
      "  self._setitem_with_indexer(indexer, value)\n"
     ]
    },
    {
     "name": "stdout",
     "output_type": "stream",
     "text": [
      "\n",
      "Echeance  10 : YES! Further zoning applies within the initial winning zone  4101+4102+4103 ,viz.: 4101+4102\n",
      "Temps sensible is: 4.0 in the new winning zone\n",
      "Temps sensible is: 3.0 in the new complementary zone \n",
      "\n",
      "Echeance 14: no further zoning within the initial complementary winning zone 4102+4103+4104+4105+4106\n",
      "Temps sensible in any new zone (of the complementary): 3.0\n",
      "Temps sensible in any new complementary zone (of the complementary): 3.0 (Both shall be the same!) \n",
      "\n",
      "Echeance 21: no further zoning within the initial complementary winning zone 4102+4103+4104+4105+4106\n",
      "Temps sensible in any new zone (of the complementary): 6.0\n",
      "Temps sensible in any new complementary zone (of the complementary): 6.0 (Both shall be the same!) \n",
      "\n",
      "Echeance 27: no further zoning within the initial complementary winning zone 4102+4103+4104+4105+4106\n",
      "Temps sensible in any new zone (of the complementary): 6.0\n",
      "Temps sensible in any new complementary zone (of the complementary): 6.0 (Both shall be the same!) \n",
      "\n",
      "Echeance 28: no further zoning within the initial complementary winning zone 4102+4103+4104+4105+4106\n",
      "Temps sensible in any new zone (of the complementary): 6.0\n",
      "Temps sensible in any new complementary zone (of the complementary): 6.0 (Both shall be the same!) \n",
      "\n",
      "Echeance 29: no further zoning within the initial complementary winning zone 4101+4106\n",
      "Temps sensible in any new zone (of the complementary): 6.0\n",
      "Temps sensible in any new complementary zone (of the complementary): 6.0 (Both shall be the same!) \n",
      "\n",
      "Echeance 32: no further zoning within the initial complementary winning zone 4102+4103+4104+4105+4106\n",
      "Temps sensible in any new zone (of the complementary): 3.0\n",
      "Temps sensible in any new complementary zone (of the complementary): 3.0 (Both shall be the same!) \n",
      "\n",
      "Echeance 33: no further zoning within the initial complementary winning zone 4103+4104+4105+4106\n",
      "Temps sensible in any new zone (of the complementary): 3.0\n",
      "Temps sensible in any new complementary zone (of the complementary): 3.0 (Both shall be the same!) \n",
      "\n",
      "Echeance 35: no further zoning within the initial complementary winning zone 4102+4103+4104+4105+4106\n",
      "Temps sensible in any new zone (of the complementary): 6.0\n",
      "Temps sensible in any new complementary zone (of the complementary): 6.0 (Both shall be the same!) \n",
      "\n",
      "Echeance 38: no further zoning within the initial complementary winning zone 4101+4104+4105\n",
      "Temps sensible in any new zone (of the complementary): 6.0\n",
      "Temps sensible in any new complementary zone (of the complementary): 6.0 (Both shall be the same!) \n",
      "\n",
      "Echeance 44: no further zoning within the initial complementary winning zone 4101+4102\n",
      "Temps sensible in any new zone (of the complementary): 3.0\n",
      "Temps sensible in any new complementary zone (of the complementary): 3.0 (Both shall be the same!) \n",
      "\n",
      "Echeance 46: no further zoning within the initial complementary winning zone 4101+4105\n",
      "Temps sensible in any new zone (of the complementary): 3.0\n",
      "Temps sensible in any new complementary zone (of the complementary): 3.0 (Both shall be the same!) \n",
      "\n",
      "Echeance 47: no further zoning within the initial complementary winning zone 4101+4105+4106\n",
      "Temps sensible in any new zone (of the complementary): 6.0\n",
      "Temps sensible in any new complementary zone (of the complementary): 6.0 (Both shall be the same!) \n",
      "\n"
     ]
    },
    {
     "name": "stderr",
     "output_type": "stream",
     "text": [
      "/Users/gablellouch/anaconda3/envs/preproc/lib/python3.8/site-packages/pandas/core/indexing.py:670: SettingWithCopyWarning: \n",
      "A value is trying to be set on a copy of a slice from a DataFrame\n",
      "\n",
      "See the caveats in the documentation: https://pandas.pydata.org/pandas-docs/stable/user_guide/indexing.html#returning-a-view-versus-a-copy\n",
      "  self._setitem_with_indexer(indexer, value)\n",
      "/Users/gablellouch/anaconda3/envs/preproc/lib/python3.8/site-packages/pandas/core/indexing.py:670: SettingWithCopyWarning: \n",
      "A value is trying to be set on a copy of a slice from a DataFrame\n",
      "\n",
      "See the caveats in the documentation: https://pandas.pydata.org/pandas-docs/stable/user_guide/indexing.html#returning-a-view-versus-a-copy\n",
      "  self._setitem_with_indexer(indexer, value)\n",
      "/Users/gablellouch/anaconda3/envs/preproc/lib/python3.8/site-packages/pandas/core/indexing.py:670: SettingWithCopyWarning: \n",
      "A value is trying to be set on a copy of a slice from a DataFrame\n",
      "\n",
      "See the caveats in the documentation: https://pandas.pydata.org/pandas-docs/stable/user_guide/indexing.html#returning-a-view-versus-a-copy\n",
      "  self._setitem_with_indexer(indexer, value)\n",
      "/Users/gablellouch/anaconda3/envs/preproc/lib/python3.8/site-packages/pandas/core/indexing.py:670: SettingWithCopyWarning: \n",
      "A value is trying to be set on a copy of a slice from a DataFrame\n",
      "\n",
      "See the caveats in the documentation: https://pandas.pydata.org/pandas-docs/stable/user_guide/indexing.html#returning-a-view-versus-a-copy\n",
      "  self._setitem_with_indexer(indexer, value)\n",
      "/Users/gablellouch/anaconda3/envs/preproc/lib/python3.8/site-packages/pandas/core/indexing.py:670: SettingWithCopyWarning: \n",
      "A value is trying to be set on a copy of a slice from a DataFrame\n",
      "\n",
      "See the caveats in the documentation: https://pandas.pydata.org/pandas-docs/stable/user_guide/indexing.html#returning-a-view-versus-a-copy\n",
      "  self._setitem_with_indexer(indexer, value)\n",
      "/Users/gablellouch/anaconda3/envs/preproc/lib/python3.8/site-packages/pandas/core/indexing.py:670: SettingWithCopyWarning: \n",
      "A value is trying to be set on a copy of a slice from a DataFrame\n",
      "\n",
      "See the caveats in the documentation: https://pandas.pydata.org/pandas-docs/stable/user_guide/indexing.html#returning-a-view-versus-a-copy\n",
      "  self._setitem_with_indexer(indexer, value)\n",
      "/Users/gablellouch/anaconda3/envs/preproc/lib/python3.8/site-packages/pandas/core/indexing.py:670: SettingWithCopyWarning: \n",
      "A value is trying to be set on a copy of a slice from a DataFrame\n",
      "\n",
      "See the caveats in the documentation: https://pandas.pydata.org/pandas-docs/stable/user_guide/indexing.html#returning-a-view-versus-a-copy\n",
      "  self._setitem_with_indexer(indexer, value)\n",
      "/Users/gablellouch/anaconda3/envs/preproc/lib/python3.8/site-packages/pandas/core/indexing.py:670: SettingWithCopyWarning: \n",
      "A value is trying to be set on a copy of a slice from a DataFrame\n",
      "\n",
      "See the caveats in the documentation: https://pandas.pydata.org/pandas-docs/stable/user_guide/indexing.html#returning-a-view-versus-a-copy\n",
      "  self._setitem_with_indexer(indexer, value)\n",
      "/Users/gablellouch/anaconda3/envs/preproc/lib/python3.8/site-packages/pandas/core/indexing.py:670: SettingWithCopyWarning: \n",
      "A value is trying to be set on a copy of a slice from a DataFrame\n",
      "\n",
      "See the caveats in the documentation: https://pandas.pydata.org/pandas-docs/stable/user_guide/indexing.html#returning-a-view-versus-a-copy\n",
      "  self._setitem_with_indexer(indexer, value)\n",
      "/Users/gablellouch/anaconda3/envs/preproc/lib/python3.8/site-packages/pandas/core/indexing.py:670: SettingWithCopyWarning: \n",
      "A value is trying to be set on a copy of a slice from a DataFrame\n",
      "\n",
      "See the caveats in the documentation: https://pandas.pydata.org/pandas-docs/stable/user_guide/indexing.html#returning-a-view-versus-a-copy\n",
      "  self._setitem_with_indexer(indexer, value)\n",
      "/Users/gablellouch/anaconda3/envs/preproc/lib/python3.8/site-packages/pandas/core/indexing.py:670: SettingWithCopyWarning: \n",
      "A value is trying to be set on a copy of a slice from a DataFrame\n",
      "\n",
      "See the caveats in the documentation: https://pandas.pydata.org/pandas-docs/stable/user_guide/indexing.html#returning-a-view-versus-a-copy\n",
      "  self._setitem_with_indexer(indexer, value)\n",
      "/Users/gablellouch/anaconda3/envs/preproc/lib/python3.8/site-packages/pandas/core/indexing.py:670: SettingWithCopyWarning: \n",
      "A value is trying to be set on a copy of a slice from a DataFrame\n",
      "\n",
      "See the caveats in the documentation: https://pandas.pydata.org/pandas-docs/stable/user_guide/indexing.html#returning-a-view-versus-a-copy\n",
      "  self._setitem_with_indexer(indexer, value)\n",
      "/Users/gablellouch/anaconda3/envs/preproc/lib/python3.8/site-packages/pandas/core/indexing.py:670: SettingWithCopyWarning: \n",
      "A value is trying to be set on a copy of a slice from a DataFrame\n",
      "\n",
      "See the caveats in the documentation: https://pandas.pydata.org/pandas-docs/stable/user_guide/indexing.html#returning-a-view-versus-a-copy\n",
      "  self._setitem_with_indexer(indexer, value)\n"
     ]
    }
   ],
   "source": [
    "for i in step_zones_comp_hetero_and_multiple:\n",
    "\n",
    "    if len(np.where(dist_round2compzones_sum_by_step_id_min.isel(step=i)[id_compzone_included[i]]==min(dist_round2compzones_sum_by_step_id_min.isel(step=i)[id_compzone_included[i]]))[0])==len(id_compzone_included[i]):\n",
    "        print('Echeance '+str(i)+': no further zoning within the initial complementary winning zone '+zoneswinning_comp[i])\n",
    "        # here again, need to transform indices into wwmf_2 code (same applies to all tps_sens)\n",
    "        tps_sens_comp_round2[i]=distance_round2compzones_by_step_id.wwmf_2[distance_round2compzones_by_step_id.isel(step=i).argmin(\"wwmf_2\")[id_compzone_included[i]].max()].values\n",
    "        tps_sens_comp_of_comp_round2[i]=distance_round2compzones_comp_by_step_id.wwmf_2[distance_round2compzones_comp_by_step_id.isel(step=i).argmin(\"wwmf_2\")[id_compzone_included[i]].max()].values\n",
    "        print('Temps sensible in any new zone (of the complementary): '+str(tps_sens_comp_round2[i]))\n",
    "        print('Temps sensible in any new complementary zone (of the complementary): '+str(tps_sens_comp_of_comp_round2[i]),'(Both shall be the same!)','\\n')\n",
    "        \n",
    "        df_zones[\"zone_comp_winning\"].iloc[i]=zoneswinning_comp[i]\n",
    "        df_zones[\"zcw_\"+distance_choice].iloc[i]=tps_sens_comp_round2[i]\n",
    "        df_zones[\"zc2_\"+distance_choice].iloc[i]=tps_sens_comp_of_comp_round2[i]\n",
    "    else:        \n",
    "        ind_compzone_distmin_round2_by_step[i]=dist_round2compzones_sum_by_step_id_min.isel(step=i)[id_compzone_included[i]].argmin().values\n",
    "        dist_comp_round2_sum_by_step_min[i]=dist_round2compzones_sum_by_step_id_min.isel(step=i)[id_compzone_included[i]].min().values\n",
    "               \n",
    "        tps_sens_comp_round2[i]=distance_round2compzones_by_step_id.wwmf_2[distance_round2compzones_by_step_id.isel(step=i).argmin(\"wwmf_2\")[id_compzone_included[i]][int(ind_compzone_distmin_round2_by_step[i])]].values\n",
    "        tps_sens_comp_of_comp_round2[i]=distance_round2compzones_comp_by_step_id.wwmf_2[distance_round2compzones_comp_by_step_id.isel(step=i).argmin(\"wwmf_2\")[id_compzone_included[i]][int(ind_compzone_distmin_round2_by_step[i])]].values\n",
    "        \n",
    "        name_compzone_round2[i]=str(dist_round2compzones_sum_by_step_id_min.isel(step=i).id[id_compzone_included[i]][int(ind_compzone_distmin_round2_by_step[i])].values)\n",
    "        \n",
    "        print('\\nEcheance ',str(i),': YES! Further zoning applies within the initial winning zone ',zoneswinning_comp[i],',viz.:',name_compzone_round2[i])\n",
    "        print('Temps sensible is: '+str( tps_sens_comp_round2[i]),'in the new winning zone')\n",
    "        print('Temps sensible is: '+str( tps_sens_comp_of_comp_round2[i]),'in the new complementary zone','\\n')\n",
    "        \n",
    "        df_zones[\"zone_comp_winning\"].iloc[i]=name_compzone_round2[i]\n",
    "        df_zones[\"zcw_\"+distance_choice].iloc[i]=tps_sens_comp_round2[i]\n",
    "        df_zones[\"zc2_\"+distance_choice].iloc[i]=tps_sens_comp_of_comp_round2[i]\n",
    " \n",
    "        # find the zone complementary complementary:\n",
    "        # elements of the complementary zone\n",
    "        zone_tmp=np.setdiff1d(zoneswinning_comp[i].split('+'),name_compzone_round2[i].split('+')).tolist()\n",
    "        \n",
    "        # corresponding zone id (there shall be one and only one in the list)\n",
    "        if len(np.where([da_mask.id[i].values.tolist().split('+')==zone_tmp for i in np.arange(0,len(da_mask.id))])[0])>0:\n",
    "            ind_zone_tmp=np.where([da_mask.id[i].values.tolist().split('+')==zone_tmp for i in np.arange(0,len(da_mask.id))])[0][0]\n",
    "            name_compzone_round2_comp[i]=da_mask.id[ind_zone_tmp].values.tolist()\n",
    "            df_zones[\"zone_comp_comp\"].iloc[i]=name_compzone_round2_comp[i]\n",
    "            \n",
    "        else:\n",
    "            print('warning: the complementary zone does not seem to be any of the original zones! Please check\\n')\n",
    "            "
   ]
  },
  {
   "cell_type": "markdown",
   "metadata": {},
   "source": [
    "# Save the result of the zoning in a file"
   ]
  },
  {
   "cell_type": "code",
   "execution_count": 83,
   "metadata": {},
   "outputs": [
    {
     "name": "stdout",
     "output_type": "stream",
     "text": [
      "Currently saving file: ../../zonage_homogeneous_criterion/41_202001260000_compas.csv\n"
     ]
    }
   ],
   "source": [
    "res_path=\"../../zonage_homogeneous_criterion/\"\n",
    "foutname=res_path+zone_dpt+'_'+time_str+\"_\"+distance_choice+\".csv\"\n",
    "print('Currently saving file: '+foutname)\n",
    "df_zones.to_csv (foutname, header=True) "
   ]
  }
 ],
 "metadata": {
  "kernelspec": {
   "display_name": "Python 3",
   "language": "python",
   "name": "python3"
  },
  "language_info": {
   "codemirror_mode": {
    "name": "ipython",
    "version": 3
   },
   "file_extension": ".py",
   "mimetype": "text/x-python",
   "name": "python",
   "nbconvert_exporter": "python",
   "pygments_lexer": "ipython3",
   "version": "3.8.2"
  }
 },
 "nbformat": 4,
 "nbformat_minor": 4
}
