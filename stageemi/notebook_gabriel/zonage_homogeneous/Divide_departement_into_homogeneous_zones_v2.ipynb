{
 "cells": [
  {
   "cell_type": "code",
   "execution_count": 1,
   "metadata": {},
   "outputs": [],
   "source": [
    "import stageemi\n",
    "import stageemi.dev.distance_wwmf as distance_wwmf\n",
    "import numpy as np\n",
    "import xarray as xr\n",
    "import matplotlib.pyplot as plt\n",
    "import os \n",
    "import numpy as np\n",
    "import pandas as pd\n",
    "from datetime import datetime\n",
    "import glob \n",
    "import time"
   ]
  },
  {
   "cell_type": "markdown",
   "metadata": {},
   "source": [
    "# Parameters"
   ]
  },
  {
   "cell_type": "code",
   "execution_count": 2,
   "metadata": {},
   "outputs": [],
   "source": [
    "path=\"../../WWMF/\"\n",
    "time_str='202001260000'\n",
    "fname=sorted(glob.glob(path+\"*\"+'20200126000000'+\"*\"))[0]"
   ]
  },
  {
   "cell_type": "code",
   "execution_count": 3,
   "metadata": {},
   "outputs": [],
   "source": [
    "# dpt\n",
    "zone_dpt=\"38\""
   ]
  },
  {
   "cell_type": "code",
   "execution_count": 4,
   "metadata": {},
   "outputs": [],
   "source": [
    "# individual zones sympo used in 3.4.3 (Find out the complementary zone sub-zones)\n",
    "#indivi_zones=['4101','4102','4103','4104','4105','4106']\n",
    "#indivi_zones=['3401','3402','3403','3404','3405','3406','3407','3408','3481','3482','3483']\n",
    "indivi_zones=['3801','3802','3803','3804','3805','3806','3807','3808']"
   ]
  },
  {
   "cell_type": "code",
   "execution_count": 5,
   "metadata": {},
   "outputs": [],
   "source": [
    "distance_choice=\"agat_asym\""
   ]
  },
  {
   "cell_type": "markdown",
   "metadata": {},
   "source": [
    "# Opening the files"
   ]
  },
  {
   "cell_type": "code",
   "execution_count": 6,
   "metadata": {},
   "outputs": [],
   "source": [
    "# compute the time\n",
    "start_time = time.time()"
   ]
  },
  {
   "cell_type": "code",
   "execution_count": 7,
   "metadata": {},
   "outputs": [],
   "source": [
    "# open the masks file: includes all possible masks for the departement (as proposed by Mary)\n",
    "fname_mask='../../GeoData/zones_sympo_multiples/'+zone_dpt+'_mask_zones_sympos.nc'\n",
    "da_mask=xr.open_dataarray(fname_mask,chunks={\"id\":1})\n",
    "\n",
    "da_mask['latitude']=da_mask['latitude'].round(5)\n",
    "da_mask['latitude']=da_mask['latitude'].round(5)"
   ]
  },
  {
   "cell_type": "code",
   "execution_count": 8,
   "metadata": {},
   "outputs": [],
   "source": [
    "# includes as an attribute the size of each zone (in number of pixels)\n",
    "zone_size_l=[len(np.where(da_mask.isel(id=i)==1)[0]) for i in np.arange(0,len(da_mask.id))]\n",
    "da_mask.attrs[\"zone size\"]=zone_size_l\n",
    "#da_mask.attrs[\"zone size\"]"
   ]
  },
  {
   "cell_type": "code",
   "execution_count": 9,
   "metadata": {},
   "outputs": [],
   "source": [
    "# open the AROME dataset\n",
    "ds=xr.open_dataset(fname,chunks={\"step\":1})\n",
    "ds['latitude']=ds['latitude'].round(5)\n",
    "ds['longitude']=ds['longitude'].round(5)"
   ]
  },
  {
   "cell_type": "code",
   "execution_count": 10,
   "metadata": {},
   "outputs": [],
   "source": [
    "# mask the AROME dataset over the departement of interest\n",
    "ds_masked=(ds*da_mask.sel(id=\"departement\").drop(\"id\"))\n",
    "\n",
    "# plot one echeance step\n",
    "#ds_masked.isel(step=47).unknown.plot.imshow(vmin=0,vmax=99)"
   ]
  },
  {
   "cell_type": "markdown",
   "metadata": {},
   "source": [
    "# Define the output dataframe where the results are stored"
   ]
  },
  {
   "cell_type": "code",
   "execution_count": 11,
   "metadata": {},
   "outputs": [
    {
     "data": {
      "text/html": [
       "<div>\n",
       "<style scoped>\n",
       "    .dataframe tbody tr th:only-of-type {\n",
       "        vertical-align: middle;\n",
       "    }\n",
       "\n",
       "    .dataframe tbody tr th {\n",
       "        vertical-align: top;\n",
       "    }\n",
       "\n",
       "    .dataframe thead th {\n",
       "        text-align: right;\n",
       "    }\n",
       "</style>\n",
       "<table border=\"1\" class=\"dataframe\">\n",
       "  <thead>\n",
       "    <tr style=\"text-align: right;\">\n",
       "      <th></th>\n",
       "      <th>zone_winning</th>\n",
       "      <th>zw_agat_asym</th>\n",
       "      <th>zone_comp</th>\n",
       "      <th>zc_agat_asym</th>\n",
       "      <th>zone_winning_2</th>\n",
       "      <th>zw2_agat_asym</th>\n",
       "      <th>zone_winning_comp</th>\n",
       "      <th>zwc_agat_asym</th>\n",
       "      <th>zone_comp_winning</th>\n",
       "      <th>zcw_agat_asym</th>\n",
       "      <th>zone_comp_comp</th>\n",
       "      <th>zc2_agat_asym</th>\n",
       "    </tr>\n",
       "  </thead>\n",
       "  <tbody>\n",
       "  </tbody>\n",
       "</table>\n",
       "</div>"
      ],
      "text/plain": [
       "Empty DataFrame\n",
       "Columns: [zone_winning, zw_agat_asym, zone_comp, zc_agat_asym, zone_winning_2, zw2_agat_asym, zone_winning_comp, zwc_agat_asym, zone_comp_winning, zcw_agat_asym, zone_comp_comp, zc2_agat_asym]\n",
       "Index: []"
      ]
     },
     "execution_count": 11,
     "metadata": {},
     "output_type": "execute_result"
    }
   ],
   "source": [
    "df_zones=pd.DataFrame(columns=['zone_winning','zw_'+distance_choice,'zone_comp','zc_'+distance_choice,\n",
    "                                'zone_winning_2','zw2_'+distance_choice,'zone_winning_comp','zwc_'+distance_choice,\n",
    "                                'zone_comp_winning','zcw_'+distance_choice,'zone_comp_comp','zc2_'+distance_choice])\n",
    "\n",
    "df_zones"
   ]
  },
  {
   "cell_type": "markdown",
   "metadata": {},
   "source": [
    "# 1 Calculation of the distance for both the masks and complementary mask parts (round 1)"
   ]
  },
  {
   "cell_type": "markdown",
   "metadata": {},
   "source": [
    "## 1.1 Calculation of the distance for the mask part"
   ]
  },
  {
   "cell_type": "markdown",
   "metadata": {},
   "source": [
    "### 1.1.1 Calculation of the distance of the AROME map for all masks and echeance steps with respect to all wwmf_2 codes"
   ]
  },
  {
   "cell_type": "code",
   "execution_count": 12,
   "metadata": {},
   "outputs": [],
   "source": [
    "ds_distance = distance_wwmf.get_pixel_distance_dept(ds_masked,distance_choice) # 4D (step:48, latitude, longitude, wwmf_2)\n",
    "#ds_distance"
   ]
  },
  {
   "cell_type": "code",
   "execution_count": 13,
   "metadata": {},
   "outputs": [],
   "source": [
    "# chunk per step\n",
    "ds_distance_chunk = ds_distance.chunk({\"step\":1}) # 4D (step:48, latitude, longitude, wwmf_2)\n",
    "#ds_distance_chunk"
   ]
  },
  {
   "cell_type": "code",
   "execution_count": 14,
   "metadata": {
    "scrolled": true
   },
   "outputs": [
    {
     "name": "stderr",
     "output_type": "stream",
     "text": [
      "/Users/gablellouch/anaconda3/envs/preproc/lib/python3.8/site-packages/dask/array/core.py:3896: PerformanceWarning: Increasing number of chunks by factor of 48\n",
      "  result = blockwise(\n"
     ]
    }
   ],
   "source": [
    "# return the distance for each mask id, all steps and all wwmf_2 codes\n",
    "distance_by_step_id = (ds_distance_chunk * da_mask).sum(['latitude',\"longitude\"]).compute() # 3D (step:48, wwmf_2, id)\n",
    "#distance_by_step_id"
   ]
  },
  {
   "cell_type": "markdown",
   "metadata": {},
   "source": [
    "### 1.1.2 Calculate the minimal distance (over all wwmf_2 codes) for all echeance steps and masks"
   ]
  },
  {
   "cell_type": "code",
   "execution_count": 15,
   "metadata": {},
   "outputs": [],
   "source": [
    "dist_by_step_id_min=distance_by_step_id.min(\"wwmf_2\") # 2D (step, id)\n",
    "#dist_by_step_id_min"
   ]
  },
  {
   "cell_type": "code",
   "execution_count": 16,
   "metadata": {},
   "outputs": [],
   "source": [
    "# find echeance steps when the weather is the same over the entire departement (min distance is 0 for all zones)\n",
    "ind_dpt=np.where(~dist_by_step_id_min.any(axis=1))[0] \n",
    "#dist_by_step_id_min"
   ]
  },
  {
   "cell_type": "markdown",
   "metadata": {},
   "source": [
    "## 1.2 Calculation of the distance for the complementary mask part"
   ]
  },
  {
   "cell_type": "markdown",
   "metadata": {},
   "source": [
    "### 1.2.1 Repeat the same calculation but for the complementary masks (departement-mask)"
   ]
  },
  {
   "cell_type": "code",
   "execution_count": 17,
   "metadata": {},
   "outputs": [],
   "source": [
    "# first build the dataarray of complementary masks\n",
    "da_mask_comp=-1*(da_mask.isel(id=slice(0,len(da_mask.id)))-da_mask.isel(id=0))"
   ]
  },
  {
   "cell_type": "code",
   "execution_count": 18,
   "metadata": {},
   "outputs": [],
   "source": [
    "# includes as an attribute the size of each zone (in number of pixels)\n",
    "zone_comp_size_l=[len(np.where(da_mask_comp.isel(id=i)==1)[0]) for i in np.arange(0,len(da_mask.id))]\n",
    "da_mask_comp.attrs[\"zone size\"]=zone_comp_size_l\n",
    "#da_mask_comp"
   ]
  },
  {
   "cell_type": "code",
   "execution_count": 19,
   "metadata": {
    "scrolled": false
   },
   "outputs": [
    {
     "name": "stderr",
     "output_type": "stream",
     "text": [
      "/Users/gablellouch/anaconda3/envs/preproc/lib/python3.8/site-packages/dask/array/core.py:3896: PerformanceWarning: Increasing number of chunks by factor of 48\n",
      "  result = blockwise(\n"
     ]
    }
   ],
   "source": [
    "# return the distance for each 'complementary mask id', all steps and all wwmf_2 codes\n",
    "distance_comp_by_step_id = (ds_distance_chunk * da_mask_comp).sum(['latitude',\"longitude\"]).compute() # 3D (step:48, wwmf_2, id)\n",
    "#distance_comp_by_step_id"
   ]
  },
  {
   "cell_type": "markdown",
   "metadata": {},
   "source": [
    "### 1.2.2 Calculate the minimal distance (over all wwmf_2 codes) for all echeance steps and complementary masks"
   ]
  },
  {
   "cell_type": "code",
   "execution_count": 20,
   "metadata": {},
   "outputs": [],
   "source": [
    "dist_comp_by_step_id_min=distance_comp_by_step_id.min(\"wwmf_2\") # 2D (step, id)\n",
    "# dist_comp_by_step_id_min[:,1:] (the first column is the empty mask: departement-departement)"
   ]
  },
  {
   "cell_type": "markdown",
   "metadata": {},
   "source": [
    "## 1.3 Find the mask (zone) that minimizes the sum of the distances (mask and complementary part = entire departement): the 'winning zone'"
   ]
  },
  {
   "cell_type": "code",
   "execution_count": 21,
   "metadata": {},
   "outputs": [],
   "source": [
    "# sum both distance min arrays\n",
    "dist_sum_by_step_id_min=dist_by_step_id_min[:,1:]+dist_comp_by_step_id_min[:,1:] # we do not account for the trivial case of the departement since we aim at zoning it"
   ]
  },
  {
   "cell_type": "code",
   "execution_count": 22,
   "metadata": {},
   "outputs": [],
   "source": [
    "# first, the indices of the winning zones in terms of the criterion: minimization of the sum of the distances\n",
    "ind_winning_zone=dist_sum_by_step_id_min.argmin((\"id\")).values+1 # +1 because the array \"dist_sum_by_step_id_min\" has been reduced by the first column (departement) \n",
    "#ind_winning_zone # type is: ndarray\n",
    "\n",
    "# going back to the \"temps sensible\" info for the winning zone\n",
    "tps_sensible_winning_zone=distance_by_step_id.wwmf_2[distance_by_step_id.argmin(\"wwmf_2\").values[np.arange(0,ds_masked.dims['step']),ind_winning_zone]]\n",
    "\n",
    "# and for the complementary of the winning zone\n",
    "tps_sensible_winning_zone_comp=distance_comp_by_step_id.wwmf_2[distance_comp_by_step_id.argmin(\"wwmf_2\").values[np.arange(0,ds_masked.dims['step']),ind_winning_zone]]\n",
    "\n",
    "# id of the winning zones\n",
    "zoneswinning=dist_sum_by_step_id_min.id[dist_sum_by_step_id_min.argmin((\"id\"))].values # note that dist_sum_by_step_id_min.id does not include id: departement"
   ]
  },
  {
   "cell_type": "code",
   "execution_count": 23,
   "metadata": {
    "scrolled": false
   },
   "outputs": [
    {
     "data": {
      "text/html": [
       "<pre>&lt;xarray.DataArray &#x27;wwmf_2&#x27; (wwmf_2: 48)&gt;\n",
       "array([ 0, 21, 13, 13, 13, 13,  7,  7,  7,  0,  0,  7, 13, 13,  0,  0, 13,  0,\n",
       "        0,  0,  0,  0,  0,  0,  0,  0,  0,  0,  0,  0,  0,  0,  0,  0,  0,  0,\n",
       "        0,  0,  0,  0,  0,  7,  0,  7,  7, 13, 13,  0])\n",
       "Coordinates:\n",
       "    surface            int64 0\n",
       "    heightAboveGround  int64 2\n",
       "  * wwmf_2             (wwmf_2) int64 0 21 13 13 13 13 7 7 ... 0 7 0 7 7 13 13 0\n",
       "    time               datetime64[ns] 2019-10-01\n",
       "    valid_time         datetime64[ns] 2019-10-01T12:00:00</pre>"
      ],
      "text/plain": [
       "<xarray.DataArray 'wwmf_2' (wwmf_2: 48)>\n",
       "array([ 0, 21, 13, 13, 13, 13,  7,  7,  7,  0,  0,  7, 13, 13,  0,  0, 13,  0,\n",
       "        0,  0,  0,  0,  0,  0,  0,  0,  0,  0,  0,  0,  0,  0,  0,  0,  0,  0,\n",
       "        0,  0,  0,  0,  0,  7,  0,  7,  7, 13, 13,  0])\n",
       "Coordinates:\n",
       "    surface            int64 0\n",
       "    heightAboveGround  int64 2\n",
       "  * wwmf_2             (wwmf_2) int64 0 21 13 13 13 13 7 7 ... 0 7 0 7 7 13 13 0\n",
       "    time               datetime64[ns] 2019-10-01\n",
       "    valid_time         datetime64[ns] 2019-10-01T12:00:00"
      ]
     },
     "execution_count": 23,
     "metadata": {},
     "output_type": "execute_result"
    }
   ],
   "source": [
    "# temps sensible to store\n",
    "tps_sensible_winning_zone\n",
    "#tps_sensible_winning_zone_comp"
   ]
  },
  {
   "cell_type": "code",
   "execution_count": 24,
   "metadata": {
    "scrolled": true
   },
   "outputs": [],
   "source": [
    "# for echeances when the same weather applies over the entire departement we indicate \"departement\" for the \"zone_winning\"\n",
    "zoneswinning[ind_dpt]=\"departement\""
   ]
  },
  {
   "cell_type": "code",
   "execution_count": 25,
   "metadata": {
    "scrolled": false
   },
   "outputs": [
    {
     "data": {
      "text/html": [
       "<div>\n",
       "<style scoped>\n",
       "    .dataframe tbody tr th:only-of-type {\n",
       "        vertical-align: middle;\n",
       "    }\n",
       "\n",
       "    .dataframe tbody tr th {\n",
       "        vertical-align: top;\n",
       "    }\n",
       "\n",
       "    .dataframe thead th {\n",
       "        text-align: right;\n",
       "    }\n",
       "</style>\n",
       "<table border=\"1\" class=\"dataframe\">\n",
       "  <thead>\n",
       "    <tr style=\"text-align: right;\">\n",
       "      <th></th>\n",
       "      <th>zone_winning</th>\n",
       "      <th>zw_agat_asym</th>\n",
       "      <th>zone_comp</th>\n",
       "      <th>zc_agat_asym</th>\n",
       "      <th>zone_winning_2</th>\n",
       "      <th>zw2_agat_asym</th>\n",
       "      <th>zone_winning_comp</th>\n",
       "      <th>zwc_agat_asym</th>\n",
       "      <th>zone_comp_winning</th>\n",
       "      <th>zcw_agat_asym</th>\n",
       "      <th>zone_comp_comp</th>\n",
       "      <th>zc2_agat_asym</th>\n",
       "    </tr>\n",
       "  </thead>\n",
       "  <tbody>\n",
       "    <tr>\n",
       "      <th>0</th>\n",
       "      <td>3801+3802+3803+3806+3807+3808</td>\n",
       "      <td>0</td>\n",
       "      <td>NaN</td>\n",
       "      <td>0</td>\n",
       "      <td>NaN</td>\n",
       "      <td>NaN</td>\n",
       "      <td>NaN</td>\n",
       "      <td>NaN</td>\n",
       "      <td>NaN</td>\n",
       "      <td>NaN</td>\n",
       "      <td>NaN</td>\n",
       "      <td>NaN</td>\n",
       "    </tr>\n",
       "    <tr>\n",
       "      <th>1</th>\n",
       "      <td>3803</td>\n",
       "      <td>21</td>\n",
       "      <td>NaN</td>\n",
       "      <td>0</td>\n",
       "      <td>NaN</td>\n",
       "      <td>NaN</td>\n",
       "      <td>NaN</td>\n",
       "      <td>NaN</td>\n",
       "      <td>NaN</td>\n",
       "      <td>NaN</td>\n",
       "      <td>NaN</td>\n",
       "      <td>NaN</td>\n",
       "    </tr>\n",
       "    <tr>\n",
       "      <th>2</th>\n",
       "      <td>3801+3803+3806</td>\n",
       "      <td>13</td>\n",
       "      <td>NaN</td>\n",
       "      <td>0</td>\n",
       "      <td>NaN</td>\n",
       "      <td>NaN</td>\n",
       "      <td>NaN</td>\n",
       "      <td>NaN</td>\n",
       "      <td>NaN</td>\n",
       "      <td>NaN</td>\n",
       "      <td>NaN</td>\n",
       "      <td>NaN</td>\n",
       "    </tr>\n",
       "    <tr>\n",
       "      <th>3</th>\n",
       "      <td>3801+3802+3803+3804+3805+3806+3808</td>\n",
       "      <td>13</td>\n",
       "      <td>NaN</td>\n",
       "      <td>0</td>\n",
       "      <td>NaN</td>\n",
       "      <td>NaN</td>\n",
       "      <td>NaN</td>\n",
       "      <td>NaN</td>\n",
       "      <td>NaN</td>\n",
       "      <td>NaN</td>\n",
       "      <td>NaN</td>\n",
       "      <td>NaN</td>\n",
       "    </tr>\n",
       "    <tr>\n",
       "      <th>4</th>\n",
       "      <td>3801+3802+3803+3805+3806+3808</td>\n",
       "      <td>13</td>\n",
       "      <td>NaN</td>\n",
       "      <td>0</td>\n",
       "      <td>NaN</td>\n",
       "      <td>NaN</td>\n",
       "      <td>NaN</td>\n",
       "      <td>NaN</td>\n",
       "      <td>NaN</td>\n",
       "      <td>NaN</td>\n",
       "      <td>NaN</td>\n",
       "      <td>NaN</td>\n",
       "    </tr>\n",
       "    <tr>\n",
       "      <th>5</th>\n",
       "      <td>3801+3802+3803+3806</td>\n",
       "      <td>13</td>\n",
       "      <td>NaN</td>\n",
       "      <td>7</td>\n",
       "      <td>NaN</td>\n",
       "      <td>NaN</td>\n",
       "      <td>NaN</td>\n",
       "      <td>NaN</td>\n",
       "      <td>NaN</td>\n",
       "      <td>NaN</td>\n",
       "      <td>NaN</td>\n",
       "      <td>NaN</td>\n",
       "    </tr>\n",
       "    <tr>\n",
       "      <th>6</th>\n",
       "      <td>3803+3804+3807+3808</td>\n",
       "      <td>7</td>\n",
       "      <td>NaN</td>\n",
       "      <td>13</td>\n",
       "      <td>NaN</td>\n",
       "      <td>NaN</td>\n",
       "      <td>NaN</td>\n",
       "      <td>NaN</td>\n",
       "      <td>NaN</td>\n",
       "      <td>NaN</td>\n",
       "      <td>NaN</td>\n",
       "      <td>NaN</td>\n",
       "    </tr>\n",
       "    <tr>\n",
       "      <th>7</th>\n",
       "      <td>3803+3804+3805+3806+3807+3808</td>\n",
       "      <td>7</td>\n",
       "      <td>NaN</td>\n",
       "      <td>13</td>\n",
       "      <td>NaN</td>\n",
       "      <td>NaN</td>\n",
       "      <td>NaN</td>\n",
       "      <td>NaN</td>\n",
       "      <td>NaN</td>\n",
       "      <td>NaN</td>\n",
       "      <td>NaN</td>\n",
       "      <td>NaN</td>\n",
       "    </tr>\n",
       "    <tr>\n",
       "      <th>8</th>\n",
       "      <td>3803+3804+3805+3806+3807+3808</td>\n",
       "      <td>7</td>\n",
       "      <td>NaN</td>\n",
       "      <td>13</td>\n",
       "      <td>NaN</td>\n",
       "      <td>NaN</td>\n",
       "      <td>NaN</td>\n",
       "      <td>NaN</td>\n",
       "      <td>NaN</td>\n",
       "      <td>NaN</td>\n",
       "      <td>NaN</td>\n",
       "      <td>NaN</td>\n",
       "    </tr>\n",
       "    <tr>\n",
       "      <th>9</th>\n",
       "      <td>3803+3804+3808</td>\n",
       "      <td>0</td>\n",
       "      <td>NaN</td>\n",
       "      <td>7</td>\n",
       "      <td>NaN</td>\n",
       "      <td>NaN</td>\n",
       "      <td>NaN</td>\n",
       "      <td>NaN</td>\n",
       "      <td>NaN</td>\n",
       "      <td>NaN</td>\n",
       "      <td>NaN</td>\n",
       "      <td>NaN</td>\n",
       "    </tr>\n",
       "    <tr>\n",
       "      <th>10</th>\n",
       "      <td>3804+3807+3808</td>\n",
       "      <td>0</td>\n",
       "      <td>NaN</td>\n",
       "      <td>7</td>\n",
       "      <td>NaN</td>\n",
       "      <td>NaN</td>\n",
       "      <td>NaN</td>\n",
       "      <td>NaN</td>\n",
       "      <td>NaN</td>\n",
       "      <td>NaN</td>\n",
       "      <td>NaN</td>\n",
       "      <td>NaN</td>\n",
       "    </tr>\n",
       "    <tr>\n",
       "      <th>11</th>\n",
       "      <td>3801+3803+3806+3808</td>\n",
       "      <td>7</td>\n",
       "      <td>NaN</td>\n",
       "      <td>0</td>\n",
       "      <td>NaN</td>\n",
       "      <td>NaN</td>\n",
       "      <td>NaN</td>\n",
       "      <td>NaN</td>\n",
       "      <td>NaN</td>\n",
       "      <td>NaN</td>\n",
       "      <td>NaN</td>\n",
       "      <td>NaN</td>\n",
       "    </tr>\n",
       "    <tr>\n",
       "      <th>12</th>\n",
       "      <td>3801+3802+3803+3804+3805+3806+3808</td>\n",
       "      <td>13</td>\n",
       "      <td>NaN</td>\n",
       "      <td>0</td>\n",
       "      <td>NaN</td>\n",
       "      <td>NaN</td>\n",
       "      <td>NaN</td>\n",
       "      <td>NaN</td>\n",
       "      <td>NaN</td>\n",
       "      <td>NaN</td>\n",
       "      <td>NaN</td>\n",
       "      <td>NaN</td>\n",
       "    </tr>\n",
       "    <tr>\n",
       "      <th>13</th>\n",
       "      <td>3801+3802+3804+3805+3804+3806</td>\n",
       "      <td>13</td>\n",
       "      <td>NaN</td>\n",
       "      <td>0</td>\n",
       "      <td>NaN</td>\n",
       "      <td>NaN</td>\n",
       "      <td>NaN</td>\n",
       "      <td>NaN</td>\n",
       "      <td>NaN</td>\n",
       "      <td>NaN</td>\n",
       "      <td>NaN</td>\n",
       "      <td>NaN</td>\n",
       "    </tr>\n",
       "    <tr>\n",
       "      <th>14</th>\n",
       "      <td>3807+3808</td>\n",
       "      <td>0</td>\n",
       "      <td>NaN</td>\n",
       "      <td>7</td>\n",
       "      <td>NaN</td>\n",
       "      <td>NaN</td>\n",
       "      <td>NaN</td>\n",
       "      <td>NaN</td>\n",
       "      <td>NaN</td>\n",
       "      <td>NaN</td>\n",
       "      <td>NaN</td>\n",
       "      <td>NaN</td>\n",
       "    </tr>\n",
       "    <tr>\n",
       "      <th>15</th>\n",
       "      <td>3803+3804+3805+3806+3807+3808</td>\n",
       "      <td>0</td>\n",
       "      <td>NaN</td>\n",
       "      <td>13</td>\n",
       "      <td>NaN</td>\n",
       "      <td>NaN</td>\n",
       "      <td>NaN</td>\n",
       "      <td>NaN</td>\n",
       "      <td>NaN</td>\n",
       "      <td>NaN</td>\n",
       "      <td>NaN</td>\n",
       "      <td>NaN</td>\n",
       "    </tr>\n",
       "    <tr>\n",
       "      <th>16</th>\n",
       "      <td>3801</td>\n",
       "      <td>13</td>\n",
       "      <td>NaN</td>\n",
       "      <td>0</td>\n",
       "      <td>NaN</td>\n",
       "      <td>NaN</td>\n",
       "      <td>NaN</td>\n",
       "      <td>NaN</td>\n",
       "      <td>NaN</td>\n",
       "      <td>NaN</td>\n",
       "      <td>NaN</td>\n",
       "      <td>NaN</td>\n",
       "    </tr>\n",
       "    <tr>\n",
       "      <th>17</th>\n",
       "      <td>3802+3803+3804+3805+3807+3806+3808</td>\n",
       "      <td>0</td>\n",
       "      <td>NaN</td>\n",
       "      <td>13</td>\n",
       "      <td>NaN</td>\n",
       "      <td>NaN</td>\n",
       "      <td>NaN</td>\n",
       "      <td>NaN</td>\n",
       "      <td>NaN</td>\n",
       "      <td>NaN</td>\n",
       "      <td>NaN</td>\n",
       "      <td>NaN</td>\n",
       "    </tr>\n",
       "    <tr>\n",
       "      <th>18</th>\n",
       "      <td>3802+3803+3804+3805+3807+3806+3808</td>\n",
       "      <td>0</td>\n",
       "      <td>NaN</td>\n",
       "      <td>7</td>\n",
       "      <td>NaN</td>\n",
       "      <td>NaN</td>\n",
       "      <td>NaN</td>\n",
       "      <td>NaN</td>\n",
       "      <td>NaN</td>\n",
       "      <td>NaN</td>\n",
       "      <td>NaN</td>\n",
       "      <td>NaN</td>\n",
       "    </tr>\n",
       "    <tr>\n",
       "      <th>19</th>\n",
       "      <td>3802+3804+3807</td>\n",
       "      <td>0</td>\n",
       "      <td>NaN</td>\n",
       "      <td>0</td>\n",
       "      <td>NaN</td>\n",
       "      <td>NaN</td>\n",
       "      <td>NaN</td>\n",
       "      <td>NaN</td>\n",
       "      <td>NaN</td>\n",
       "      <td>NaN</td>\n",
       "      <td>NaN</td>\n",
       "      <td>NaN</td>\n",
       "    </tr>\n",
       "    <tr>\n",
       "      <th>20</th>\n",
       "      <td>3803</td>\n",
       "      <td>0</td>\n",
       "      <td>NaN</td>\n",
       "      <td>0</td>\n",
       "      <td>NaN</td>\n",
       "      <td>NaN</td>\n",
       "      <td>NaN</td>\n",
       "      <td>NaN</td>\n",
       "      <td>NaN</td>\n",
       "      <td>NaN</td>\n",
       "      <td>NaN</td>\n",
       "      <td>NaN</td>\n",
       "    </tr>\n",
       "    <tr>\n",
       "      <th>21</th>\n",
       "      <td>3803</td>\n",
       "      <td>0</td>\n",
       "      <td>NaN</td>\n",
       "      <td>0</td>\n",
       "      <td>NaN</td>\n",
       "      <td>NaN</td>\n",
       "      <td>NaN</td>\n",
       "      <td>NaN</td>\n",
       "      <td>NaN</td>\n",
       "      <td>NaN</td>\n",
       "      <td>NaN</td>\n",
       "      <td>NaN</td>\n",
       "    </tr>\n",
       "    <tr>\n",
       "      <th>22</th>\n",
       "      <td>3803</td>\n",
       "      <td>0</td>\n",
       "      <td>NaN</td>\n",
       "      <td>0</td>\n",
       "      <td>NaN</td>\n",
       "      <td>NaN</td>\n",
       "      <td>NaN</td>\n",
       "      <td>NaN</td>\n",
       "      <td>NaN</td>\n",
       "      <td>NaN</td>\n",
       "      <td>NaN</td>\n",
       "      <td>NaN</td>\n",
       "    </tr>\n",
       "    <tr>\n",
       "      <th>23</th>\n",
       "      <td>3803</td>\n",
       "      <td>0</td>\n",
       "      <td>NaN</td>\n",
       "      <td>0</td>\n",
       "      <td>NaN</td>\n",
       "      <td>NaN</td>\n",
       "      <td>NaN</td>\n",
       "      <td>NaN</td>\n",
       "      <td>NaN</td>\n",
       "      <td>NaN</td>\n",
       "      <td>NaN</td>\n",
       "      <td>NaN</td>\n",
       "    </tr>\n",
       "    <tr>\n",
       "      <th>24</th>\n",
       "      <td>3803</td>\n",
       "      <td>0</td>\n",
       "      <td>NaN</td>\n",
       "      <td>0</td>\n",
       "      <td>NaN</td>\n",
       "      <td>NaN</td>\n",
       "      <td>NaN</td>\n",
       "      <td>NaN</td>\n",
       "      <td>NaN</td>\n",
       "      <td>NaN</td>\n",
       "      <td>NaN</td>\n",
       "      <td>NaN</td>\n",
       "    </tr>\n",
       "    <tr>\n",
       "      <th>25</th>\n",
       "      <td>3803</td>\n",
       "      <td>0</td>\n",
       "      <td>NaN</td>\n",
       "      <td>0</td>\n",
       "      <td>NaN</td>\n",
       "      <td>NaN</td>\n",
       "      <td>NaN</td>\n",
       "      <td>NaN</td>\n",
       "      <td>NaN</td>\n",
       "      <td>NaN</td>\n",
       "      <td>NaN</td>\n",
       "      <td>NaN</td>\n",
       "    </tr>\n",
       "    <tr>\n",
       "      <th>26</th>\n",
       "      <td>3803</td>\n",
       "      <td>0</td>\n",
       "      <td>NaN</td>\n",
       "      <td>0</td>\n",
       "      <td>NaN</td>\n",
       "      <td>NaN</td>\n",
       "      <td>NaN</td>\n",
       "      <td>NaN</td>\n",
       "      <td>NaN</td>\n",
       "      <td>NaN</td>\n",
       "      <td>NaN</td>\n",
       "      <td>NaN</td>\n",
       "    </tr>\n",
       "    <tr>\n",
       "      <th>27</th>\n",
       "      <td>3801+3802+3804+3808</td>\n",
       "      <td>0</td>\n",
       "      <td>NaN</td>\n",
       "      <td>0</td>\n",
       "      <td>NaN</td>\n",
       "      <td>NaN</td>\n",
       "      <td>NaN</td>\n",
       "      <td>NaN</td>\n",
       "      <td>NaN</td>\n",
       "      <td>NaN</td>\n",
       "      <td>NaN</td>\n",
       "      <td>NaN</td>\n",
       "    </tr>\n",
       "    <tr>\n",
       "      <th>28</th>\n",
       "      <td>3804+3808</td>\n",
       "      <td>0</td>\n",
       "      <td>NaN</td>\n",
       "      <td>0</td>\n",
       "      <td>NaN</td>\n",
       "      <td>NaN</td>\n",
       "      <td>NaN</td>\n",
       "      <td>NaN</td>\n",
       "      <td>NaN</td>\n",
       "      <td>NaN</td>\n",
       "      <td>NaN</td>\n",
       "      <td>NaN</td>\n",
       "    </tr>\n",
       "    <tr>\n",
       "      <th>29</th>\n",
       "      <td>3807</td>\n",
       "      <td>0</td>\n",
       "      <td>NaN</td>\n",
       "      <td>0</td>\n",
       "      <td>NaN</td>\n",
       "      <td>NaN</td>\n",
       "      <td>NaN</td>\n",
       "      <td>NaN</td>\n",
       "      <td>NaN</td>\n",
       "      <td>NaN</td>\n",
       "      <td>NaN</td>\n",
       "      <td>NaN</td>\n",
       "    </tr>\n",
       "    <tr>\n",
       "      <th>30</th>\n",
       "      <td>3804</td>\n",
       "      <td>0</td>\n",
       "      <td>NaN</td>\n",
       "      <td>0</td>\n",
       "      <td>NaN</td>\n",
       "      <td>NaN</td>\n",
       "      <td>NaN</td>\n",
       "      <td>NaN</td>\n",
       "      <td>NaN</td>\n",
       "      <td>NaN</td>\n",
       "      <td>NaN</td>\n",
       "      <td>NaN</td>\n",
       "    </tr>\n",
       "    <tr>\n",
       "      <th>31</th>\n",
       "      <td>3801</td>\n",
       "      <td>0</td>\n",
       "      <td>NaN</td>\n",
       "      <td>0</td>\n",
       "      <td>NaN</td>\n",
       "      <td>NaN</td>\n",
       "      <td>NaN</td>\n",
       "      <td>NaN</td>\n",
       "      <td>NaN</td>\n",
       "      <td>NaN</td>\n",
       "      <td>NaN</td>\n",
       "      <td>NaN</td>\n",
       "    </tr>\n",
       "    <tr>\n",
       "      <th>32</th>\n",
       "      <td>3801</td>\n",
       "      <td>0</td>\n",
       "      <td>NaN</td>\n",
       "      <td>0</td>\n",
       "      <td>NaN</td>\n",
       "      <td>NaN</td>\n",
       "      <td>NaN</td>\n",
       "      <td>NaN</td>\n",
       "      <td>NaN</td>\n",
       "      <td>NaN</td>\n",
       "      <td>NaN</td>\n",
       "      <td>NaN</td>\n",
       "    </tr>\n",
       "    <tr>\n",
       "      <th>33</th>\n",
       "      <td>3807</td>\n",
       "      <td>0</td>\n",
       "      <td>NaN</td>\n",
       "      <td>0</td>\n",
       "      <td>NaN</td>\n",
       "      <td>NaN</td>\n",
       "      <td>NaN</td>\n",
       "      <td>NaN</td>\n",
       "      <td>NaN</td>\n",
       "      <td>NaN</td>\n",
       "      <td>NaN</td>\n",
       "      <td>NaN</td>\n",
       "    </tr>\n",
       "    <tr>\n",
       "      <th>34</th>\n",
       "      <td>3801</td>\n",
       "      <td>0</td>\n",
       "      <td>NaN</td>\n",
       "      <td>0</td>\n",
       "      <td>NaN</td>\n",
       "      <td>NaN</td>\n",
       "      <td>NaN</td>\n",
       "      <td>NaN</td>\n",
       "      <td>NaN</td>\n",
       "      <td>NaN</td>\n",
       "      <td>NaN</td>\n",
       "      <td>NaN</td>\n",
       "    </tr>\n",
       "    <tr>\n",
       "      <th>35</th>\n",
       "      <td>3801</td>\n",
       "      <td>0</td>\n",
       "      <td>NaN</td>\n",
       "      <td>0</td>\n",
       "      <td>NaN</td>\n",
       "      <td>NaN</td>\n",
       "      <td>NaN</td>\n",
       "      <td>NaN</td>\n",
       "      <td>NaN</td>\n",
       "      <td>NaN</td>\n",
       "      <td>NaN</td>\n",
       "      <td>NaN</td>\n",
       "    </tr>\n",
       "    <tr>\n",
       "      <th>36</th>\n",
       "      <td>3801</td>\n",
       "      <td>0</td>\n",
       "      <td>NaN</td>\n",
       "      <td>0</td>\n",
       "      <td>NaN</td>\n",
       "      <td>NaN</td>\n",
       "      <td>NaN</td>\n",
       "      <td>NaN</td>\n",
       "      <td>NaN</td>\n",
       "      <td>NaN</td>\n",
       "      <td>NaN</td>\n",
       "      <td>NaN</td>\n",
       "    </tr>\n",
       "    <tr>\n",
       "      <th>37</th>\n",
       "      <td>3802</td>\n",
       "      <td>0</td>\n",
       "      <td>NaN</td>\n",
       "      <td>0</td>\n",
       "      <td>NaN</td>\n",
       "      <td>NaN</td>\n",
       "      <td>NaN</td>\n",
       "      <td>NaN</td>\n",
       "      <td>NaN</td>\n",
       "      <td>NaN</td>\n",
       "      <td>NaN</td>\n",
       "      <td>NaN</td>\n",
       "    </tr>\n",
       "    <tr>\n",
       "      <th>38</th>\n",
       "      <td>3807</td>\n",
       "      <td>0</td>\n",
       "      <td>NaN</td>\n",
       "      <td>0</td>\n",
       "      <td>NaN</td>\n",
       "      <td>NaN</td>\n",
       "      <td>NaN</td>\n",
       "      <td>NaN</td>\n",
       "      <td>NaN</td>\n",
       "      <td>NaN</td>\n",
       "      <td>NaN</td>\n",
       "      <td>NaN</td>\n",
       "    </tr>\n",
       "    <tr>\n",
       "      <th>39</th>\n",
       "      <td>3803</td>\n",
       "      <td>0</td>\n",
       "      <td>NaN</td>\n",
       "      <td>0</td>\n",
       "      <td>NaN</td>\n",
       "      <td>NaN</td>\n",
       "      <td>NaN</td>\n",
       "      <td>NaN</td>\n",
       "      <td>NaN</td>\n",
       "      <td>NaN</td>\n",
       "      <td>NaN</td>\n",
       "      <td>NaN</td>\n",
       "    </tr>\n",
       "    <tr>\n",
       "      <th>40</th>\n",
       "      <td>3806</td>\n",
       "      <td>0</td>\n",
       "      <td>NaN</td>\n",
       "      <td>0</td>\n",
       "      <td>NaN</td>\n",
       "      <td>NaN</td>\n",
       "      <td>NaN</td>\n",
       "      <td>NaN</td>\n",
       "      <td>NaN</td>\n",
       "      <td>NaN</td>\n",
       "      <td>NaN</td>\n",
       "      <td>NaN</td>\n",
       "    </tr>\n",
       "    <tr>\n",
       "      <th>41</th>\n",
       "      <td>3808</td>\n",
       "      <td>7</td>\n",
       "      <td>NaN</td>\n",
       "      <td>0</td>\n",
       "      <td>NaN</td>\n",
       "      <td>NaN</td>\n",
       "      <td>NaN</td>\n",
       "      <td>NaN</td>\n",
       "      <td>NaN</td>\n",
       "      <td>NaN</td>\n",
       "      <td>NaN</td>\n",
       "      <td>NaN</td>\n",
       "    </tr>\n",
       "    <tr>\n",
       "      <th>42</th>\n",
       "      <td>3803+3806+3804+3805</td>\n",
       "      <td>0</td>\n",
       "      <td>NaN</td>\n",
       "      <td>0</td>\n",
       "      <td>NaN</td>\n",
       "      <td>NaN</td>\n",
       "      <td>NaN</td>\n",
       "      <td>NaN</td>\n",
       "      <td>NaN</td>\n",
       "      <td>NaN</td>\n",
       "      <td>NaN</td>\n",
       "      <td>NaN</td>\n",
       "    </tr>\n",
       "    <tr>\n",
       "      <th>43</th>\n",
       "      <td>3807</td>\n",
       "      <td>7</td>\n",
       "      <td>NaN</td>\n",
       "      <td>0</td>\n",
       "      <td>NaN</td>\n",
       "      <td>NaN</td>\n",
       "      <td>NaN</td>\n",
       "      <td>NaN</td>\n",
       "      <td>NaN</td>\n",
       "      <td>NaN</td>\n",
       "      <td>NaN</td>\n",
       "      <td>NaN</td>\n",
       "    </tr>\n",
       "    <tr>\n",
       "      <th>44</th>\n",
       "      <td>3803+3804+3806+3807+3808</td>\n",
       "      <td>7</td>\n",
       "      <td>NaN</td>\n",
       "      <td>20</td>\n",
       "      <td>NaN</td>\n",
       "      <td>NaN</td>\n",
       "      <td>NaN</td>\n",
       "      <td>NaN</td>\n",
       "      <td>NaN</td>\n",
       "      <td>NaN</td>\n",
       "      <td>NaN</td>\n",
       "      <td>NaN</td>\n",
       "    </tr>\n",
       "    <tr>\n",
       "      <th>45</th>\n",
       "      <td>3801+3802+3803+3804+3805+3806+3808</td>\n",
       "      <td>13</td>\n",
       "      <td>NaN</td>\n",
       "      <td>0</td>\n",
       "      <td>NaN</td>\n",
       "      <td>NaN</td>\n",
       "      <td>NaN</td>\n",
       "      <td>NaN</td>\n",
       "      <td>NaN</td>\n",
       "      <td>NaN</td>\n",
       "      <td>NaN</td>\n",
       "      <td>NaN</td>\n",
       "    </tr>\n",
       "    <tr>\n",
       "      <th>46</th>\n",
       "      <td>3801+3802+3803+3804+3805</td>\n",
       "      <td>13</td>\n",
       "      <td>NaN</td>\n",
       "      <td>0</td>\n",
       "      <td>NaN</td>\n",
       "      <td>NaN</td>\n",
       "      <td>NaN</td>\n",
       "      <td>NaN</td>\n",
       "      <td>NaN</td>\n",
       "      <td>NaN</td>\n",
       "      <td>NaN</td>\n",
       "      <td>NaN</td>\n",
       "    </tr>\n",
       "    <tr>\n",
       "      <th>47</th>\n",
       "      <td>3803+3804+3805+3806+3807+3808</td>\n",
       "      <td>0</td>\n",
       "      <td>NaN</td>\n",
       "      <td>13</td>\n",
       "      <td>NaN</td>\n",
       "      <td>NaN</td>\n",
       "      <td>NaN</td>\n",
       "      <td>NaN</td>\n",
       "      <td>NaN</td>\n",
       "      <td>NaN</td>\n",
       "      <td>NaN</td>\n",
       "      <td>NaN</td>\n",
       "    </tr>\n",
       "  </tbody>\n",
       "</table>\n",
       "</div>"
      ],
      "text/plain": [
       "                          zone_winning  zw_agat_asym zone_comp  zc_agat_asym  \\\n",
       "0        3801+3802+3803+3806+3807+3808             0       NaN             0   \n",
       "1                                 3803            21       NaN             0   \n",
       "2                       3801+3803+3806            13       NaN             0   \n",
       "3   3801+3802+3803+3804+3805+3806+3808            13       NaN             0   \n",
       "4        3801+3802+3803+3805+3806+3808            13       NaN             0   \n",
       "5                  3801+3802+3803+3806            13       NaN             7   \n",
       "6                  3803+3804+3807+3808             7       NaN            13   \n",
       "7        3803+3804+3805+3806+3807+3808             7       NaN            13   \n",
       "8        3803+3804+3805+3806+3807+3808             7       NaN            13   \n",
       "9                       3803+3804+3808             0       NaN             7   \n",
       "10                      3804+3807+3808             0       NaN             7   \n",
       "11                 3801+3803+3806+3808             7       NaN             0   \n",
       "12  3801+3802+3803+3804+3805+3806+3808            13       NaN             0   \n",
       "13       3801+3802+3804+3805+3804+3806            13       NaN             0   \n",
       "14                           3807+3808             0       NaN             7   \n",
       "15       3803+3804+3805+3806+3807+3808             0       NaN            13   \n",
       "16                                3801            13       NaN             0   \n",
       "17  3802+3803+3804+3805+3807+3806+3808             0       NaN            13   \n",
       "18  3802+3803+3804+3805+3807+3806+3808             0       NaN             7   \n",
       "19                      3802+3804+3807             0       NaN             0   \n",
       "20                                3803             0       NaN             0   \n",
       "21                                3803             0       NaN             0   \n",
       "22                                3803             0       NaN             0   \n",
       "23                                3803             0       NaN             0   \n",
       "24                                3803             0       NaN             0   \n",
       "25                                3803             0       NaN             0   \n",
       "26                                3803             0       NaN             0   \n",
       "27                 3801+3802+3804+3808             0       NaN             0   \n",
       "28                           3804+3808             0       NaN             0   \n",
       "29                                3807             0       NaN             0   \n",
       "30                                3804             0       NaN             0   \n",
       "31                                3801             0       NaN             0   \n",
       "32                                3801             0       NaN             0   \n",
       "33                                3807             0       NaN             0   \n",
       "34                                3801             0       NaN             0   \n",
       "35                                3801             0       NaN             0   \n",
       "36                                3801             0       NaN             0   \n",
       "37                                3802             0       NaN             0   \n",
       "38                                3807             0       NaN             0   \n",
       "39                                3803             0       NaN             0   \n",
       "40                                3806             0       NaN             0   \n",
       "41                                3808             7       NaN             0   \n",
       "42                 3803+3806+3804+3805             0       NaN             0   \n",
       "43                                3807             7       NaN             0   \n",
       "44            3803+3804+3806+3807+3808             7       NaN            20   \n",
       "45  3801+3802+3803+3804+3805+3806+3808            13       NaN             0   \n",
       "46            3801+3802+3803+3804+3805            13       NaN             0   \n",
       "47       3803+3804+3805+3806+3807+3808             0       NaN            13   \n",
       "\n",
       "   zone_winning_2 zw2_agat_asym zone_winning_comp zwc_agat_asym  \\\n",
       "0             NaN           NaN               NaN           NaN   \n",
       "1             NaN           NaN               NaN           NaN   \n",
       "2             NaN           NaN               NaN           NaN   \n",
       "3             NaN           NaN               NaN           NaN   \n",
       "4             NaN           NaN               NaN           NaN   \n",
       "5             NaN           NaN               NaN           NaN   \n",
       "6             NaN           NaN               NaN           NaN   \n",
       "7             NaN           NaN               NaN           NaN   \n",
       "8             NaN           NaN               NaN           NaN   \n",
       "9             NaN           NaN               NaN           NaN   \n",
       "10            NaN           NaN               NaN           NaN   \n",
       "11            NaN           NaN               NaN           NaN   \n",
       "12            NaN           NaN               NaN           NaN   \n",
       "13            NaN           NaN               NaN           NaN   \n",
       "14            NaN           NaN               NaN           NaN   \n",
       "15            NaN           NaN               NaN           NaN   \n",
       "16            NaN           NaN               NaN           NaN   \n",
       "17            NaN           NaN               NaN           NaN   \n",
       "18            NaN           NaN               NaN           NaN   \n",
       "19            NaN           NaN               NaN           NaN   \n",
       "20            NaN           NaN               NaN           NaN   \n",
       "21            NaN           NaN               NaN           NaN   \n",
       "22            NaN           NaN               NaN           NaN   \n",
       "23            NaN           NaN               NaN           NaN   \n",
       "24            NaN           NaN               NaN           NaN   \n",
       "25            NaN           NaN               NaN           NaN   \n",
       "26            NaN           NaN               NaN           NaN   \n",
       "27            NaN           NaN               NaN           NaN   \n",
       "28            NaN           NaN               NaN           NaN   \n",
       "29            NaN           NaN               NaN           NaN   \n",
       "30            NaN           NaN               NaN           NaN   \n",
       "31            NaN           NaN               NaN           NaN   \n",
       "32            NaN           NaN               NaN           NaN   \n",
       "33            NaN           NaN               NaN           NaN   \n",
       "34            NaN           NaN               NaN           NaN   \n",
       "35            NaN           NaN               NaN           NaN   \n",
       "36            NaN           NaN               NaN           NaN   \n",
       "37            NaN           NaN               NaN           NaN   \n",
       "38            NaN           NaN               NaN           NaN   \n",
       "39            NaN           NaN               NaN           NaN   \n",
       "40            NaN           NaN               NaN           NaN   \n",
       "41            NaN           NaN               NaN           NaN   \n",
       "42            NaN           NaN               NaN           NaN   \n",
       "43            NaN           NaN               NaN           NaN   \n",
       "44            NaN           NaN               NaN           NaN   \n",
       "45            NaN           NaN               NaN           NaN   \n",
       "46            NaN           NaN               NaN           NaN   \n",
       "47            NaN           NaN               NaN           NaN   \n",
       "\n",
       "   zone_comp_winning zcw_agat_asym zone_comp_comp zc2_agat_asym  \n",
       "0                NaN           NaN            NaN           NaN  \n",
       "1                NaN           NaN            NaN           NaN  \n",
       "2                NaN           NaN            NaN           NaN  \n",
       "3                NaN           NaN            NaN           NaN  \n",
       "4                NaN           NaN            NaN           NaN  \n",
       "5                NaN           NaN            NaN           NaN  \n",
       "6                NaN           NaN            NaN           NaN  \n",
       "7                NaN           NaN            NaN           NaN  \n",
       "8                NaN           NaN            NaN           NaN  \n",
       "9                NaN           NaN            NaN           NaN  \n",
       "10               NaN           NaN            NaN           NaN  \n",
       "11               NaN           NaN            NaN           NaN  \n",
       "12               NaN           NaN            NaN           NaN  \n",
       "13               NaN           NaN            NaN           NaN  \n",
       "14               NaN           NaN            NaN           NaN  \n",
       "15               NaN           NaN            NaN           NaN  \n",
       "16               NaN           NaN            NaN           NaN  \n",
       "17               NaN           NaN            NaN           NaN  \n",
       "18               NaN           NaN            NaN           NaN  \n",
       "19               NaN           NaN            NaN           NaN  \n",
       "20               NaN           NaN            NaN           NaN  \n",
       "21               NaN           NaN            NaN           NaN  \n",
       "22               NaN           NaN            NaN           NaN  \n",
       "23               NaN           NaN            NaN           NaN  \n",
       "24               NaN           NaN            NaN           NaN  \n",
       "25               NaN           NaN            NaN           NaN  \n",
       "26               NaN           NaN            NaN           NaN  \n",
       "27               NaN           NaN            NaN           NaN  \n",
       "28               NaN           NaN            NaN           NaN  \n",
       "29               NaN           NaN            NaN           NaN  \n",
       "30               NaN           NaN            NaN           NaN  \n",
       "31               NaN           NaN            NaN           NaN  \n",
       "32               NaN           NaN            NaN           NaN  \n",
       "33               NaN           NaN            NaN           NaN  \n",
       "34               NaN           NaN            NaN           NaN  \n",
       "35               NaN           NaN            NaN           NaN  \n",
       "36               NaN           NaN            NaN           NaN  \n",
       "37               NaN           NaN            NaN           NaN  \n",
       "38               NaN           NaN            NaN           NaN  \n",
       "39               NaN           NaN            NaN           NaN  \n",
       "40               NaN           NaN            NaN           NaN  \n",
       "41               NaN           NaN            NaN           NaN  \n",
       "42               NaN           NaN            NaN           NaN  \n",
       "43               NaN           NaN            NaN           NaN  \n",
       "44               NaN           NaN            NaN           NaN  \n",
       "45               NaN           NaN            NaN           NaN  \n",
       "46               NaN           NaN            NaN           NaN  \n",
       "47               NaN           NaN            NaN           NaN  "
      ]
     },
     "execution_count": 25,
     "metadata": {},
     "output_type": "execute_result"
    }
   ],
   "source": [
    "df_zones[\"zone_winning\"]=zoneswinning\n",
    "df_zones[\"zw_\"+distance_choice]=tps_sensible_winning_zone\n",
    "df_zones[\"zc_\"+distance_choice]=tps_sensible_winning_zone_comp\n",
    "df_zones"
   ]
  },
  {
   "cell_type": "markdown",
   "metadata": {},
   "source": [
    "# 2. Find those zones that present a high value of mean distance per pixel greater than the median value of mean distance per pixel over the departement and all echeance steps"
   ]
  },
  {
   "cell_type": "markdown",
   "metadata": {},
   "source": [
    "## 2.1 Calculation of the median of the mean distance per pixel over the departement and all echeance steps"
   ]
  },
  {
   "cell_type": "markdown",
   "metadata": {},
   "source": [
    "### 2.1.1 Zones for which the sum of the distances (zone + complementary zone) is minimum per echeance step"
   ]
  },
  {
   "cell_type": "code",
   "execution_count": 26,
   "metadata": {},
   "outputs": [],
   "source": [
    "# calculation of the minimum distance per echeance step\n",
    "dist_min_sum_by_step=dist_sum_by_step_id_min[:,dist_sum_by_step_id_min.argmin((\"id\"))]"
   ]
  },
  {
   "cell_type": "code",
   "execution_count": 27,
   "metadata": {},
   "outputs": [],
   "source": [
    "# recall the winning zone indices \n",
    "#ind_winning_zone"
   ]
  },
  {
   "cell_type": "code",
   "execution_count": 28,
   "metadata": {},
   "outputs": [],
   "source": [
    "# define the winning zones indices in dataarray (it is important for the next two steps so that a vector is created, not a square matrix if one uses a ndarray)\n",
    "zone_sum_with_dist_min_by_step=dist_sum_by_step_id_min.argmin((\"id\"))+1 # +1 is to compensate for the first column (complementary of the departement that we dropped)\n",
    "#zone_sum_with_dist_min_by_step"
   ]
  },
  {
   "cell_type": "markdown",
   "metadata": {},
   "source": [
    "### 2.1.2 Mean value of the distance per pixel for all winning zones and their complementary zones (the mean distance per pixel = distance density here)"
   ]
  },
  {
   "cell_type": "code",
   "execution_count": 29,
   "metadata": {},
   "outputs": [],
   "source": [
    "# find distance values for the winning zones \n",
    "dist_min_by_step_fordensity=dist_by_step_id_min[:,zone_sum_with_dist_min_by_step]\n",
    "#dist_min_by_step_fordensity.values"
   ]
  },
  {
   "cell_type": "code",
   "execution_count": 30,
   "metadata": {},
   "outputs": [],
   "source": [
    "# find distance values for the complementary zones \n",
    "dist_comp_min_by_step_fordensity=dist_comp_by_step_id_min[:,zone_sum_with_dist_min_by_step]\n",
    "#dist_comp_min_by_step_fordensity.values"
   ]
  },
  {
   "cell_type": "code",
   "execution_count": 31,
   "metadata": {},
   "outputs": [
    {
     "data": {
      "text/plain": [
       "array([ 3208.91,  5057.42,  9260.4 ,  9399.4 ,  8728.26,  7447.07,\n",
       "        8004.74,  7448.82,  9451.77, 11252.26, 10004.33,  8885.72,\n",
       "       10341.99,  8446.38,  8437.61,  7703.8 ,  7504.51,  5414.34,\n",
       "        6281.01,  5678.41,  3797.27,  4086.78,  3764.54,  2670.95,\n",
       "        2494.16,  2939.83,  3872.63,  5283.44,  6520.45,  5746.05,\n",
       "        4163.03,  3121.13,  2231.12,   888.11,   242.37,   138.23,\n",
       "         256.79,   241.69,  1037.05,  1633.42,  2903.24,  4252.92,\n",
       "        4438.66,  9635.67, 10626.09, 13160.92,  8502.55,  6853.68])"
      ]
     },
     "execution_count": 31,
     "metadata": {},
     "output_type": "execute_result"
    }
   ],
   "source": [
    "# check that when we sum them up we retrieve the values we found earlier in 2.1.1\n",
    "dist_min_by_step_fordensity.values+dist_comp_min_by_step_fordensity.values\n",
    "\n",
    "# should be equal to \n",
    "#dist_min_sum_by_step.values"
   ]
  },
  {
   "cell_type": "code",
   "execution_count": 32,
   "metadata": {},
   "outputs": [],
   "source": [
    "# find the zone size for all winning zones for further averaging (per pixel)\n",
    "zone_size_distmin=[zone_size_l[zone_sum_with_dist_min_by_step.values[i]] for i in np.arange(0,48)]"
   ]
  },
  {
   "cell_type": "code",
   "execution_count": 33,
   "metadata": {},
   "outputs": [
    {
     "data": {
      "text/plain": [
       "0.4646043475262953"
      ]
     },
     "execution_count": 33,
     "metadata": {},
     "output_type": "execute_result"
    }
   ],
   "source": [
    "# compute the median \"mean distance per pixel value\" (or density) over all winning zones\n",
    "density_dist_min_by_step=dist_min_by_step_fordensity.values/zone_size_distmin\n",
    "density_dist_min_by_step_median=np.median(density_dist_min_by_step)\n",
    "density_dist_min_by_step_median"
   ]
  },
  {
   "cell_type": "code",
   "execution_count": 34,
   "metadata": {},
   "outputs": [],
   "source": [
    "# idem (zone size) for the complementary zones\n",
    "zone_comp_size_distmin=[zone_comp_size_l[zone_sum_with_dist_min_by_step.values[i]] for i in np.arange(0,48)]"
   ]
  },
  {
   "cell_type": "code",
   "execution_count": 35,
   "metadata": {},
   "outputs": [
    {
     "data": {
      "text/plain": [
       "0.4657397815833897"
      ]
     },
     "execution_count": 35,
     "metadata": {},
     "output_type": "execute_result"
    }
   ],
   "source": [
    "# idem (median \"mean distance per pixel value\" (or density)) over all complementary zones\n",
    "density_dist_comp_min_by_step=dist_comp_min_by_step_fordensity.values/zone_comp_size_distmin\n",
    "density_dist_comp_min_by_step_median=np.median(density_dist_comp_min_by_step)\n",
    "density_dist_comp_min_by_step_median"
   ]
  },
  {
   "cell_type": "markdown",
   "metadata": {},
   "source": [
    "## 2.2 Find echeances steps that have winning zones that fulfill this condition (mean distance per pixel greater than the median value) plus are composed of two zones or more"
   ]
  },
  {
   "cell_type": "markdown",
   "metadata": {},
   "source": [
    "### 2.2.1 Winning zones"
   ]
  },
  {
   "cell_type": "code",
   "execution_count": 36,
   "metadata": {},
   "outputs": [
    {
     "data": {
      "text/plain": [
       "array([ 1,  2,  3,  4,  5,  6,  7,  8,  9, 10, 11, 12, 13, 15, 16, 18, 19,\n",
       "       29, 41, 43, 44, 45, 46, 47])"
      ]
     },
     "execution_count": 36,
     "metadata": {},
     "output_type": "execute_result"
    }
   ],
   "source": [
    "# find the echeance steps with heterogeneous winning zones\n",
    "step_zones_hetero=np.where(density_dist_min_by_step>density_dist_min_by_step_median)[0]\n",
    "step_zones_hetero"
   ]
  },
  {
   "cell_type": "code",
   "execution_count": 37,
   "metadata": {},
   "outputs": [],
   "source": [
    "# find the zones with multiple zones sympo in it \n",
    "id_zones_multiple=np.where(['+' in val for val in da_mask.id.values.tolist()])[0]\n",
    "#id_zones_multiple"
   ]
  },
  {
   "cell_type": "code",
   "execution_count": 38,
   "metadata": {},
   "outputs": [
    {
     "data": {
      "text/plain": [
       "24"
      ]
     },
     "execution_count": 38,
     "metadata": {},
     "output_type": "execute_result"
    }
   ],
   "source": [
    "# remember the winning zones per echeance (for info)\n",
    "#zone_sum_with_dist_min_by_step\n",
    "# remember the winning zones per echeance that are heterogenous (for info)\n",
    "#zone_sum_with_dist_min_by_step[step_zones_hetero]\n",
    "len(step_zones_hetero)"
   ]
  },
  {
   "cell_type": "code",
   "execution_count": 39,
   "metadata": {},
   "outputs": [],
   "source": [
    "# mark those echeances that have both heterogeneous winning zones and are composed of multiple zone sympo\n",
    "step_zones_hetero_and_multiple=step_zones_hetero[np.where([zone_sum_with_dist_min_by_step.values[step_zones_hetero][i] in id_zones_multiple for i in np.arange(0,len(step_zones_hetero))])[0]]\n",
    "#step_zones_hetero_and_multiple"
   ]
  },
  {
   "cell_type": "code",
   "execution_count": 40,
   "metadata": {},
   "outputs": [],
   "source": [
    "# and the zones are the following:\n",
    "zones=[da_mask.id.values.tolist()[zone_sum_with_dist_min_by_step.values[i]] for i in step_zones_hetero_and_multiple]\n",
    "#zones"
   ]
  },
  {
   "cell_type": "markdown",
   "metadata": {},
   "source": [
    "### 2.2.2 Complementary zones"
   ]
  },
  {
   "cell_type": "code",
   "execution_count": 41,
   "metadata": {},
   "outputs": [],
   "source": [
    "# find the echeance steps with heterogeneous complementary winning zones\n",
    "step_zones_comp_hetero=np.where(density_dist_comp_min_by_step>density_dist_comp_min_by_step_median)[0]\n",
    "#step_zones_comp_hetero"
   ]
  },
  {
   "cell_type": "code",
   "execution_count": 42,
   "metadata": {},
   "outputs": [],
   "source": [
    "# nb of zones sympo in the department (to know the indices of the complementary zones with multiple zones sympo)\n",
    "zs_N=len([zs for zs in da_mask.id.values.tolist() if \"+\" not in zs])-1 # -1 to remove the departement from the counting"
   ]
  },
  {
   "cell_type": "code",
   "execution_count": 43,
   "metadata": {},
   "outputs": [],
   "source": [
    "# find the complementary zones with multiple zones sympo in it \n",
    "id_zones_comp_multiple=np.where([val.count('+')<(zs_N-2) for val in da_mask.id.values.tolist()])[0][1:] # we ignore the department since the complementary zone is the empty space\n",
    "#id_zones_comp_multiple"
   ]
  },
  {
   "cell_type": "code",
   "execution_count": 44,
   "metadata": {},
   "outputs": [],
   "source": [
    "# remember the winning zones per echeance\n",
    "#zone_sum_with_dist_min_by_step.values\n",
    "# remember the winning zones per echeance that are heterogenous \n",
    "#zone_sum_with_dist_min_by_step.values[step_zones_comp_hetero]"
   ]
  },
  {
   "cell_type": "code",
   "execution_count": 45,
   "metadata": {},
   "outputs": [],
   "source": [
    "# mark those echeances that have both heterogeneous winning complementary zones and are composed of multiple zone sympo\n",
    "step_zones_comp_hetero_and_multiple=step_zones_comp_hetero[np.where([zone_sum_with_dist_min_by_step.values[step_zones_comp_hetero][i] in id_zones_comp_multiple for i in np.arange(0,len(step_zones_hetero))])[0]]\n",
    "#step_zones_comp_hetero_and_multiple"
   ]
  },
  {
   "cell_type": "code",
   "execution_count": 46,
   "metadata": {},
   "outputs": [],
   "source": [
    "# and the complementary zones are the following (in fact they are the complementary of these zones):\n",
    "zones_comp=[da_mask.id.values.tolist()[zone_sum_with_dist_min_by_step.values[i]] for i in step_zones_comp_hetero_and_multiple]\n",
    "#zones_comp"
   ]
  },
  {
   "cell_type": "markdown",
   "metadata": {},
   "source": [
    "## 2.3 Generate the new dataset for the winning heterogeneous zones + complementary zones (with multiple zone sympo). Zones that did not pass the criteria are fully masked.\n"
   ]
  },
  {
   "cell_type": "code",
   "execution_count": 47,
   "metadata": {},
   "outputs": [],
   "source": [
    "# (Check) adding the zone and its complementary one gets the department size\n",
    "#np.asarray(da_mask.attrs[\"zone size\"])+np.asarray(da_mask_comp.attrs[\"zone size\"])"
   ]
  },
  {
   "cell_type": "markdown",
   "metadata": {},
   "source": [
    "### 2.3.1 Create the winning zone dataset"
   ]
  },
  {
   "cell_type": "code",
   "execution_count": 48,
   "metadata": {},
   "outputs": [],
   "source": [
    "# create the dataaset where masks corresponding to zones that shall be redivided (zones) are applied on the appropriate echeance step (step_zones_hetero_and_multiple)\n",
    "tmp_masks=np.full([ds_masked.dims['step'], ds_masked.dims['latitude'], ds_masked.dims['longitude']], np.nan)"
   ]
  },
  {
   "cell_type": "code",
   "execution_count": 49,
   "metadata": {},
   "outputs": [],
   "source": [
    "for i in np.arange(0,ds.dims['step']):  \n",
    "    if i in step_zones_hetero_and_multiple: \n",
    "        ind_tmp=zone_sum_with_dist_min_by_step.values[i]\n",
    "        mask_tmp=da_mask.isel(id=ind_tmp)\n",
    "        mask_tmp=mask_tmp.where(mask_tmp!=0,np.nan)        \n",
    "        tmp_masks[i,:,:]=(ds.isel(step=i).unknown*mask_tmp).values "
   ]
  },
  {
   "cell_type": "code",
   "execution_count": 50,
   "metadata": {},
   "outputs": [],
   "source": [
    "# build the new ds\n",
    "ds_masked_zones_hetero=xr.Dataset(coords={'step':ds_masked['step'],'latitude':ds_masked['latitude'],'longitude':ds_masked['longitude']})\n",
    "ds_masked_zones_hetero[\"unknown\"]=(tuple(['step','latitude','longitude']),tmp_masks)\n",
    "#ds_masked_zones_hetero"
   ]
  },
  {
   "cell_type": "code",
   "execution_count": 51,
   "metadata": {
    "scrolled": true
   },
   "outputs": [
    {
     "data": {
      "image/png": "[encoded data removed]",
      "text/plain": [
       "<Figure size 432x288 with 2 Axes>"
      ]
     },
     "metadata": {
      "needs_background": "light"
     },
     "output_type": "display_data"
    }
   ],
   "source": [
    "# check on one case (look at one step that is applicable)\n",
    "ds_masked_zones_hetero.isel(step=2).unknown.plot.imshow();"
   ]
  },
  {
   "cell_type": "markdown",
   "metadata": {},
   "source": [
    "### 2.3.2 Create the complementary zone dataset"
   ]
  },
  {
   "cell_type": "code",
   "execution_count": 52,
   "metadata": {},
   "outputs": [],
   "source": [
    "# create the dataset where masks corresponding to complementary zones that shall be redivided (zones_comp) are applied on the appropriate echeance step (step_zones_comp_hetero_and_multiple)\n",
    "tmp_masks_comp=np.full([ds_masked.dims['step'], ds_masked.dims['latitude'], ds_masked.dims['longitude']], np.nan)"
   ]
  },
  {
   "cell_type": "code",
   "execution_count": 53,
   "metadata": {},
   "outputs": [],
   "source": [
    "for i in np.arange(0,ds.dims['step']):  \n",
    "    if i in step_zones_comp_hetero_and_multiple: \n",
    "        ind_comp_tmp=zone_sum_with_dist_min_by_step.values[i]\n",
    "        \n",
    "        mask_comp_tmp=da_mask_comp.isel(id=ind_comp_tmp)\n",
    "        mask_comp_tmp=mask_comp_tmp.where(mask_comp_tmp!=0,np.nan) \n",
    "        \n",
    "        tmp_masks_comp[i,:,:]=(ds.isel(step=i).unknown*mask_comp_tmp).values "
   ]
  },
  {
   "cell_type": "code",
   "execution_count": 54,
   "metadata": {},
   "outputs": [],
   "source": [
    "# build the new dataset \n",
    "ds_masked_zones_comp_hetero=xr.Dataset(coords={'step':ds_masked['step'],'latitude':ds_masked['latitude'],'longitude':ds_masked['longitude']})\n",
    "ds_masked_zones_comp_hetero[\"unknown\"]=(tuple(['step','latitude','longitude']),tmp_masks_comp)\n",
    "#ds_masked_zones_comp_hetero"
   ]
  },
  {
   "cell_type": "code",
   "execution_count": 55,
   "metadata": {},
   "outputs": [
    {
     "data": {
      "image/png": "[encoded data removed]",
      "text/plain": [
       "<Figure size 432x288 with 2 Axes>"
      ]
     },
     "metadata": {
      "needs_background": "light"
     },
     "output_type": "display_data"
    }
   ],
   "source": [
    "# check on one case (again one step that is applicable)\n",
    "ds_masked_zones_comp_hetero.isel(step=47).unknown.plot.imshow();"
   ]
  },
  {
   "cell_type": "markdown",
   "metadata": {},
   "source": [
    "# 3 Apply the distance calculation on these two new datasets composed of the heterogeneous winning zones and complementary zones (round 2)"
   ]
  },
  {
   "cell_type": "markdown",
   "metadata": {},
   "source": [
    "## 3.1 Winning zones"
   ]
  },
  {
   "cell_type": "markdown",
   "metadata": {},
   "source": [
    "### 3.1.1 Zones for the winning zones"
   ]
  },
  {
   "cell_type": "code",
   "execution_count": 56,
   "metadata": {},
   "outputs": [],
   "source": [
    "# calculation of the distance for the new dataset (winning zones)\n",
    "ds_distance_round2zones = distance_wwmf.get_pixel_distance_dept(ds_masked_zones_hetero,distance_choice) # 4D (step:48, latitude, longitude, wwmf_2)"
   ]
  },
  {
   "cell_type": "code",
   "execution_count": 57,
   "metadata": {},
   "outputs": [],
   "source": [
    "ds_distance_round2zones_chunk = ds_distance_round2zones.chunk({\"step\":1}) # 4D (step:48, latitude, longitude, wwmf_2)\n",
    "#ds_distance_round2zones_chunk"
   ]
  },
  {
   "cell_type": "markdown",
   "metadata": {},
   "source": [
    "### 3.1.2 Define a new dataarray of masks: idea here is to change 0 into nan (though it may not be any different than with da_mask)"
   ]
  },
  {
   "cell_type": "code",
   "execution_count": 58,
   "metadata": {},
   "outputs": [],
   "source": [
    "tmp_mask_round2=np.full([da_mask.shape[0], da_mask.shape[1], da_mask.shape[2]], np.nan)"
   ]
  },
  {
   "cell_type": "code",
   "execution_count": 59,
   "metadata": {},
   "outputs": [],
   "source": [
    "# initialization\n",
    "da_mask_round2=da_mask\n",
    "\n",
    "for i in np.arange(0,da_mask.shape[0]):   \n",
    "    mask_tmp_round2=da_mask.isel(id=i)\n",
    "    mask_tmp_round2=mask_tmp_round2.where(mask_tmp_round2!=0,np.nan)  \n",
    "    tmp_mask_round2[i,:,:]=mask_tmp_round2"
   ]
  },
  {
   "cell_type": "code",
   "execution_count": 60,
   "metadata": {},
   "outputs": [],
   "source": [
    "da_mask_round2=xr.DataArray(data=tmp_mask_round2,coords={'id':da_mask.id.values,'latitude':da_mask.latitude.values,'longitude':da_mask.longitude.values},dims={'id':da_mask.shape[0],'latitude':da_mask.shape[1],'longitude':da_mask.shape[2]})\n",
    "#da_mask_round2"
   ]
  },
  {
   "cell_type": "markdown",
   "metadata": {},
   "source": [
    "### 3.1.3 Distance calculation"
   ]
  },
  {
   "cell_type": "code",
   "execution_count": 61,
   "metadata": {},
   "outputs": [],
   "source": [
    "distance_round2zones_by_step_id = (ds_distance_round2zones_chunk * da_mask_round2).sum(['latitude',\"longitude\"]).compute() # 3D (step:48, wwmf_2, id)\n"
   ]
  },
  {
   "cell_type": "code",
   "execution_count": 62,
   "metadata": {},
   "outputs": [],
   "source": [
    "# one can compare both masks and see that zeros were replaced by nan\n",
    "#da_mask.isel(id=20).plot.imshow()\n",
    "#da_mask_round2.isel(id=20).plot.imshow()"
   ]
  },
  {
   "cell_type": "code",
   "execution_count": 63,
   "metadata": {},
   "outputs": [],
   "source": [
    "# list of the zones hetero and multiple (recall from earlier)\n",
    "zoneswinning=dist_sum_by_step_id_min.id[dist_sum_by_step_id_min.argmin((\"id\"))].values \n",
    "#zoneswinning"
   ]
  },
  {
   "cell_type": "code",
   "execution_count": 64,
   "metadata": {},
   "outputs": [],
   "source": [
    "# find the id of the subset of zones included in the winning zone for each echeance step when round 2 is applicable\n",
    "id_zone_included=[np.nan]*ds_masked.dims['step']\n",
    "\n",
    "for i in step_zones_hetero_and_multiple:\n",
    "    id_zone_included[i]=np.where([set(val.split(\"+\")).issubset(zoneswinning[i].split(\"+\")) for val in da_mask.id.values.tolist()])[0]"
   ]
  },
  {
   "cell_type": "code",
   "execution_count": 65,
   "metadata": {},
   "outputs": [],
   "source": [
    "# verify that this works well by comparing one zone and the corresponding subzones \n",
    "#zoneswinning[47]\n",
    "#[da_mask.id.values.tolist()[i] for i in id_zone_included[47]]"
   ]
  },
  {
   "cell_type": "markdown",
   "metadata": {},
   "source": [
    "## 3.2 Complementary of the winning zones"
   ]
  },
  {
   "cell_type": "markdown",
   "metadata": {},
   "source": [
    "### 3.2.1 Define a new dataarray of complementary masks"
   ]
  },
  {
   "cell_type": "code",
   "execution_count": 66,
   "metadata": {},
   "outputs": [],
   "source": [
    "tmp_mask_comp_round2=np.full([da_mask.shape[0], da_mask.shape[1], da_mask.shape[2]], np.nan)"
   ]
  },
  {
   "cell_type": "code",
   "execution_count": 67,
   "metadata": {},
   "outputs": [],
   "source": [
    "# initialization\n",
    "da_mask_comp_round2=da_mask_comp\n",
    "\n",
    "for i in np.arange(0,da_mask.shape[0]):   \n",
    "    mask_comp_tmp_round2=da_mask_comp.isel(id=i)\n",
    "    mask_comp_tmp_round2=mask_comp_tmp_round2.where(mask_comp_tmp_round2!=0,np.nan)  \n",
    "    tmp_mask_comp_round2[i,:,:]=mask_comp_tmp_round2"
   ]
  },
  {
   "cell_type": "code",
   "execution_count": 68,
   "metadata": {},
   "outputs": [],
   "source": [
    "da_mask_comp_round2=xr.DataArray(data=tmp_mask_comp_round2,coords={'id':da_mask.id.values,'latitude':da_mask.latitude.values,'longitude':da_mask.longitude.values},dims={'id':da_mask.shape[0],'latitude':da_mask.shape[1],'longitude':da_mask.shape[2]})\n",
    "#da_mask_comp_round2"
   ]
  },
  {
   "cell_type": "code",
   "execution_count": 69,
   "metadata": {},
   "outputs": [],
   "source": [
    "# again one can compare both masks and see that zeros were replaced by nan\n",
    "#da_mask_comp.isel(id=20).plot.imshow()\n",
    "#da_mask_comp_round2.isel(id=20).plot.imshow()"
   ]
  },
  {
   "cell_type": "markdown",
   "metadata": {},
   "source": [
    "### 3.2.2 Distance calculation"
   ]
  },
  {
   "cell_type": "code",
   "execution_count": 70,
   "metadata": {},
   "outputs": [],
   "source": [
    "distance_round2zones_comp_by_step_id = (ds_distance_round2zones_chunk * da_mask_comp_round2).sum(['latitude',\"longitude\"]).compute()"
   ]
  },
  {
   "cell_type": "markdown",
   "metadata": {},
   "source": [
    "## 3.3 Find the new winning zones and their complementary zones"
   ]
  },
  {
   "cell_type": "markdown",
   "metadata": {},
   "source": [
    "### 3.3.1 Minimization of the sum of the distances"
   ]
  },
  {
   "cell_type": "code",
   "execution_count": 71,
   "metadata": {},
   "outputs": [],
   "source": [
    "# calculate the minimal distance (over all wwmf_2 codes) for all echeance steps and masks\n",
    "distance_round2zones_by_step_id_min=distance_round2zones_by_step_id.min(\"wwmf_2\") # 2D (step, id)\n",
    "\n",
    "# idem for the complementary zones\n",
    "distance_round2zones_comp_by_step_id_min=distance_round2zones_comp_by_step_id.min(\"wwmf_2\") # 2D (step, id)\n",
    "\n",
    "# summing both distances\n",
    "dist_round2zones_sum_by_step_id_min=distance_round2zones_by_step_id_min+distance_round2zones_comp_by_step_id_min"
   ]
  },
  {
   "cell_type": "markdown",
   "metadata": {},
   "source": [
    "### 3.3.2 New zones and complementary zones and the corresponding temps sensible: analysis"
   ]
  },
  {
   "cell_type": "code",
   "execution_count": 72,
   "metadata": {},
   "outputs": [],
   "source": [
    "# initialize\n",
    "ind_zone_distmin_round2_by_step=np.full([ds_masked_zones_hetero.dims[\"step\"]], np.nan) \n",
    "dist_round2_sum_by_step_min=np.full([ds_masked_zones_hetero.dims[\"step\"]], np.nan) \n",
    "tps_sens_round2=np.full([ds_masked_zones_hetero.dims[\"step\"]], np.nan)\n",
    "tps_sens_comp_round2=np.full([ds_masked_zones_hetero.dims[\"step\"]], np.nan)\n",
    "\n",
    "# new winning zone id\n",
    "name_zone_round2=['nan']*ds_masked_zones_hetero.dims[\"step\"]\n",
    "# new complementary winning zone id\n",
    "name_zone_round2_comp=['nan']*ds_masked_zones_hetero.dims[\"step\"]"
   ]
  },
  {
   "cell_type": "code",
   "execution_count": 73,
   "metadata": {},
   "outputs": [],
   "source": [
    "# recall \n",
    "#step_zones_hetero_and_multiple"
   ]
  },
  {
   "cell_type": "code",
   "execution_count": 74,
   "metadata": {},
   "outputs": [],
   "source": [
    "# recall\n",
    "#zoneswinning"
   ]
  },
  {
   "cell_type": "code",
   "execution_count": 75,
   "metadata": {
    "scrolled": false
   },
   "outputs": [
    {
     "name": "stdout",
     "output_type": "stream",
     "text": [
      "Echeance 2: the winning zone 2 is still the same: 3801+3803+3806\n",
      "Temps sensible is: 13 . Check that it is still the same as found in round 1 \n",
      "\n",
      "Echeance 3: the winning zone 2 is still the same: 3801+3802+3803+3804+3805+3806+3808\n",
      "Temps sensible is: 13 . Check that it is still the same as found in round 1 \n",
      "\n",
      "Echeance 4: the winning zone 2 is still the same: 3801+3802+3803+3805+3806+3808\n",
      "Temps sensible is: 13 . Check that it is still the same as found in round 1 \n",
      "\n",
      "Echeance 5: the winning zone 2 is still the same: 3801+3802+3803+3806\n",
      "Temps sensible is: 13 . Check that it is still the same as found in round 1 \n",
      "\n",
      "Echeance 6: the winning zone 2 is still the same: 3803+3804+3807+3808\n",
      "Temps sensible is: 7 . Check that it is still the same as found in round 1 \n",
      "\n",
      "Echeance 7: the winning zone 2 is still the same: 3803+3804+3805+3806+3807+3808\n",
      "Temps sensible is: 7 . Check that it is still the same as found in round 1 \n",
      "\n"
     ]
    },
    {
     "name": "stderr",
     "output_type": "stream",
     "text": [
      "/Users/gablellouch/anaconda3/envs/preproc/lib/python3.8/site-packages/pandas/core/indexing.py:670: SettingWithCopyWarning: \n",
      "A value is trying to be set on a copy of a slice from a DataFrame\n",
      "\n",
      "See the caveats in the documentation: https://pandas.pydata.org/pandas-docs/stable/user_guide/indexing.html#returning-a-view-versus-a-copy\n",
      "  self._setitem_with_indexer(indexer, value)\n",
      "/Users/gablellouch/anaconda3/envs/preproc/lib/python3.8/site-packages/pandas/core/indexing.py:670: SettingWithCopyWarning: \n",
      "A value is trying to be set on a copy of a slice from a DataFrame\n",
      "\n",
      "See the caveats in the documentation: https://pandas.pydata.org/pandas-docs/stable/user_guide/indexing.html#returning-a-view-versus-a-copy\n",
      "  self._setitem_with_indexer(indexer, value)\n",
      "/Users/gablellouch/anaconda3/envs/preproc/lib/python3.8/site-packages/pandas/core/indexing.py:670: SettingWithCopyWarning: \n",
      "A value is trying to be set on a copy of a slice from a DataFrame\n",
      "\n",
      "See the caveats in the documentation: https://pandas.pydata.org/pandas-docs/stable/user_guide/indexing.html#returning-a-view-versus-a-copy\n",
      "  self._setitem_with_indexer(indexer, value)\n",
      "/Users/gablellouch/anaconda3/envs/preproc/lib/python3.8/site-packages/pandas/core/indexing.py:670: SettingWithCopyWarning: \n",
      "A value is trying to be set on a copy of a slice from a DataFrame\n",
      "\n",
      "See the caveats in the documentation: https://pandas.pydata.org/pandas-docs/stable/user_guide/indexing.html#returning-a-view-versus-a-copy\n",
      "  self._setitem_with_indexer(indexer, value)\n",
      "/Users/gablellouch/anaconda3/envs/preproc/lib/python3.8/site-packages/pandas/core/indexing.py:670: SettingWithCopyWarning: \n",
      "A value is trying to be set on a copy of a slice from a DataFrame\n",
      "\n",
      "See the caveats in the documentation: https://pandas.pydata.org/pandas-docs/stable/user_guide/indexing.html#returning-a-view-versus-a-copy\n",
      "  self._setitem_with_indexer(indexer, value)\n",
      "/Users/gablellouch/anaconda3/envs/preproc/lib/python3.8/site-packages/pandas/core/indexing.py:670: SettingWithCopyWarning: \n",
      "A value is trying to be set on a copy of a slice from a DataFrame\n",
      "\n",
      "See the caveats in the documentation: https://pandas.pydata.org/pandas-docs/stable/user_guide/indexing.html#returning-a-view-versus-a-copy\n",
      "  self._setitem_with_indexer(indexer, value)\n",
      "/Users/gablellouch/anaconda3/envs/preproc/lib/python3.8/site-packages/pandas/core/indexing.py:670: SettingWithCopyWarning: \n",
      "A value is trying to be set on a copy of a slice from a DataFrame\n",
      "\n",
      "See the caveats in the documentation: https://pandas.pydata.org/pandas-docs/stable/user_guide/indexing.html#returning-a-view-versus-a-copy\n",
      "  self._setitem_with_indexer(indexer, value)\n"
     ]
    },
    {
     "name": "stdout",
     "output_type": "stream",
     "text": [
      "\n",
      "Echeance  8 : YES! Further zoning applies within the initial winning zone  3803+3804+3805+3806+3807+3808 ,viz.: 3804+3805+3807+3806+3808\n",
      "Temps sensible is: 7 in the new winning zone\n",
      "Temps sensible is: 0 in the new complementary zone \n",
      "\n",
      "Echeance 9: no further zoning within the initial winning zone 3803+3804+3808\n",
      "Temps sensible in any new zone: 0\n",
      "Temps sensible in any new complementary zone: 0 (Both shall be the same!) \n",
      "\n",
      "Echeance 10: no further zoning within the initial winning zone 3804+3807+3808\n",
      "Temps sensible in any new zone: 0\n",
      "Temps sensible in any new complementary zone: 0 (Both shall be the same!) \n",
      "\n",
      "Echeance 11: the winning zone 2 is still the same: 3801+3803+3806+3808\n",
      "Temps sensible is: 7 . Check that it is still the same as found in round 1 \n",
      "\n"
     ]
    },
    {
     "name": "stderr",
     "output_type": "stream",
     "text": [
      "/Users/gablellouch/anaconda3/envs/preproc/lib/python3.8/site-packages/pandas/core/indexing.py:670: SettingWithCopyWarning: \n",
      "A value is trying to be set on a copy of a slice from a DataFrame\n",
      "\n",
      "See the caveats in the documentation: https://pandas.pydata.org/pandas-docs/stable/user_guide/indexing.html#returning-a-view-versus-a-copy\n",
      "  self._setitem_with_indexer(indexer, value)\n",
      "/Users/gablellouch/anaconda3/envs/preproc/lib/python3.8/site-packages/pandas/core/indexing.py:670: SettingWithCopyWarning: \n",
      "A value is trying to be set on a copy of a slice from a DataFrame\n",
      "\n",
      "See the caveats in the documentation: https://pandas.pydata.org/pandas-docs/stable/user_guide/indexing.html#returning-a-view-versus-a-copy\n",
      "  self._setitem_with_indexer(indexer, value)\n",
      "/Users/gablellouch/anaconda3/envs/preproc/lib/python3.8/site-packages/pandas/core/indexing.py:670: SettingWithCopyWarning: \n",
      "A value is trying to be set on a copy of a slice from a DataFrame\n",
      "\n",
      "See the caveats in the documentation: https://pandas.pydata.org/pandas-docs/stable/user_guide/indexing.html#returning-a-view-versus-a-copy\n",
      "  self._setitem_with_indexer(indexer, value)\n",
      "/Users/gablellouch/anaconda3/envs/preproc/lib/python3.8/site-packages/pandas/core/indexing.py:670: SettingWithCopyWarning: \n",
      "A value is trying to be set on a copy of a slice from a DataFrame\n",
      "\n",
      "See the caveats in the documentation: https://pandas.pydata.org/pandas-docs/stable/user_guide/indexing.html#returning-a-view-versus-a-copy\n",
      "  self._setitem_with_indexer(indexer, value)\n",
      "/Users/gablellouch/anaconda3/envs/preproc/lib/python3.8/site-packages/pandas/core/indexing.py:670: SettingWithCopyWarning: \n",
      "A value is trying to be set on a copy of a slice from a DataFrame\n",
      "\n",
      "See the caveats in the documentation: https://pandas.pydata.org/pandas-docs/stable/user_guide/indexing.html#returning-a-view-versus-a-copy\n",
      "  self._setitem_with_indexer(indexer, value)\n",
      "/Users/gablellouch/anaconda3/envs/preproc/lib/python3.8/site-packages/pandas/core/indexing.py:670: SettingWithCopyWarning: \n",
      "A value is trying to be set on a copy of a slice from a DataFrame\n",
      "\n",
      "See the caveats in the documentation: https://pandas.pydata.org/pandas-docs/stable/user_guide/indexing.html#returning-a-view-versus-a-copy\n",
      "  self._setitem_with_indexer(indexer, value)\n",
      "/Users/gablellouch/anaconda3/envs/preproc/lib/python3.8/site-packages/pandas/core/indexing.py:670: SettingWithCopyWarning: \n",
      "A value is trying to be set on a copy of a slice from a DataFrame\n",
      "\n",
      "See the caveats in the documentation: https://pandas.pydata.org/pandas-docs/stable/user_guide/indexing.html#returning-a-view-versus-a-copy\n",
      "  self._setitem_with_indexer(indexer, value)\n",
      "/Users/gablellouch/anaconda3/envs/preproc/lib/python3.8/site-packages/pandas/core/indexing.py:670: SettingWithCopyWarning: \n",
      "A value is trying to be set on a copy of a slice from a DataFrame\n",
      "\n",
      "See the caveats in the documentation: https://pandas.pydata.org/pandas-docs/stable/user_guide/indexing.html#returning-a-view-versus-a-copy\n",
      "  self._setitem_with_indexer(indexer, value)\n"
     ]
    },
    {
     "name": "stdout",
     "output_type": "stream",
     "text": [
      "Echeance 12: the winning zone 2 is still the same: 3801+3802+3803+3804+3805+3806+3808\n",
      "Temps sensible is: 13 . Check that it is still the same as found in round 1 \n",
      "\n",
      "Echeance 13: the winning zone 2 is still the same: 3801+3802+3804+3805+3804+3806\n",
      "Temps sensible is: 13 . Check that it is still the same as found in round 1 \n",
      "\n",
      "Echeance 15: no further zoning within the initial winning zone 3803+3804+3805+3806+3807+3808\n",
      "Temps sensible in any new zone: 0\n",
      "Temps sensible in any new complementary zone: 0 (Both shall be the same!) \n",
      "\n",
      "Echeance 18: no further zoning within the initial winning zone 3802+3803+3804+3805+3807+3806+3808\n",
      "Temps sensible in any new zone: 0\n",
      "Temps sensible in any new complementary zone: 0 (Both shall be the same!) \n",
      "\n",
      "Echeance 19: no further zoning within the initial winning zone 3802+3804+3807\n",
      "Temps sensible in any new zone: 0\n",
      "Temps sensible in any new complementary zone: 0 (Both shall be the same!) \n",
      "\n",
      "Echeance 44: the winning zone 2 is still the same: 3803+3804+3806+3807+3808\n",
      "Temps sensible is: 7 . Check that it is still the same as found in round 1 \n",
      "\n",
      "Echeance 45: the winning zone 2 is still the same: 3801+3802+3803+3804+3805+3806+3808\n",
      "Temps sensible is: 13 . Check that it is still the same as found in round 1 \n",
      "\n",
      "Echeance 46: the winning zone 2 is still the same: 3801+3802+3803+3804+3805\n",
      "Temps sensible is: 13 . Check that it is still the same as found in round 1 \n",
      "\n",
      "\n",
      "Echeance  47 : YES! Further zoning applies within the initial winning zone  3803+3804+3805+3806+3807+3808 ,viz.: 3803\n",
      "Temps sensible is: 7 in the new winning zone\n",
      "Temps sensible is: 0 in the new complementary zone \n",
      "\n",
      "warning: the complementary zone does not seem to be any of the original zones:  3804+3805+3806+3807+3808 \n",
      "\n"
     ]
    },
    {
     "name": "stderr",
     "output_type": "stream",
     "text": [
      "/Users/gablellouch/anaconda3/envs/preproc/lib/python3.8/site-packages/pandas/core/indexing.py:670: SettingWithCopyWarning: \n",
      "A value is trying to be set on a copy of a slice from a DataFrame\n",
      "\n",
      "See the caveats in the documentation: https://pandas.pydata.org/pandas-docs/stable/user_guide/indexing.html#returning-a-view-versus-a-copy\n",
      "  self._setitem_with_indexer(indexer, value)\n",
      "/Users/gablellouch/anaconda3/envs/preproc/lib/python3.8/site-packages/pandas/core/indexing.py:670: SettingWithCopyWarning: \n",
      "A value is trying to be set on a copy of a slice from a DataFrame\n",
      "\n",
      "See the caveats in the documentation: https://pandas.pydata.org/pandas-docs/stable/user_guide/indexing.html#returning-a-view-versus-a-copy\n",
      "  self._setitem_with_indexer(indexer, value)\n",
      "/Users/gablellouch/anaconda3/envs/preproc/lib/python3.8/site-packages/pandas/core/indexing.py:670: SettingWithCopyWarning: \n",
      "A value is trying to be set on a copy of a slice from a DataFrame\n",
      "\n",
      "See the caveats in the documentation: https://pandas.pydata.org/pandas-docs/stable/user_guide/indexing.html#returning-a-view-versus-a-copy\n",
      "  self._setitem_with_indexer(indexer, value)\n",
      "/Users/gablellouch/anaconda3/envs/preproc/lib/python3.8/site-packages/pandas/core/indexing.py:670: SettingWithCopyWarning: \n",
      "A value is trying to be set on a copy of a slice from a DataFrame\n",
      "\n",
      "See the caveats in the documentation: https://pandas.pydata.org/pandas-docs/stable/user_guide/indexing.html#returning-a-view-versus-a-copy\n",
      "  self._setitem_with_indexer(indexer, value)\n"
     ]
    }
   ],
   "source": [
    "for i in step_zones_hetero_and_multiple:\n",
    "\n",
    "    # the min distance is the same for all sub zones (initial winning zone included), hence we state that no further division shall be applied (this case often happened for dpt 41, 26/01/2010 with COMPAS)\n",
    "    # instead of the equality (okay for compas but not agat) we use an inequality with eps=0.00001 to find if all subzones give the same output\n",
    "    if len(np.where(dist_round2zones_sum_by_step_id_min.isel(step=i)[id_zone_included[i]]-min(dist_round2zones_sum_by_step_id_min.isel(step=i)[id_zone_included[i]])<0.00001)[0])==len(id_zone_included[i]):\n",
    "        print('Echeance '+str(i)+': no further zoning within the initial winning zone '+zoneswinning[i])\n",
    "        # need to transform indices into wwmf_2 code (same applies to all tps_sens)\n",
    "        tps_sens_round2[i]=distance_round2zones_by_step_id.wwmf_2[distance_round2zones_by_step_id.isel(step=i).argmin(\"wwmf_2\")[id_zone_included[i]].max()].values\n",
    "        tps_sens_comp_round2[i]=distance_round2zones_comp_by_step_id.wwmf_2[distance_round2zones_comp_by_step_id.isel(step=i).argmin(\"wwmf_2\")[id_zone_included[i]].max()].values\n",
    "        print('Temps sensible in any new zone: '+str(int(tps_sens_round2[i])))\n",
    "        print('Temps sensible in any new complementary zone: '+str(int(tps_sens_comp_round2[i])),'(Both shall be the same!)','\\n')\n",
    "        \n",
    "        df_zones[\"zone_winning_2\"].iloc[i]=zoneswinning[i]\n",
    "        df_zones[\"zw2_\"+distance_choice].iloc[i]=int(tps_sens_round2[i])\n",
    "        df_zones[\"zwc_\"+distance_choice].iloc[i]=int(tps_sens_comp_round2[i])        \n",
    "        \n",
    "    # we divide further\n",
    "    else: \n",
    "        ind_zone_distmin_round2_by_step[i]=dist_round2zones_sum_by_step_id_min.isel(step=i)[id_zone_included[i]].argmin().values\n",
    "        dist_round2_sum_by_step_min[i]=dist_round2zones_sum_by_step_id_min.isel(step=i)[id_zone_included[i]].min().values\n",
    "               \n",
    "        # the min distance is obtained for the initial winning zone, hence we shall not divide further\n",
    "        if str(dist_round2zones_sum_by_step_id_min.isel(step=i).id[id_zone_included[i]][int(ind_zone_distmin_round2_by_step[i])].values)==zoneswinning[i]:\n",
    "        \n",
    "            # we still fill in with information (to remain consistant with the above: we fill in info for all echeances that went to round2 except temps sensible for the complementary zone since this zone is empty)           \n",
    "            tps_sens_round2[i]=int(distance_round2zones_by_step_id.wwmf_2[distance_round2zones_by_step_id.isel(step=i).argmin(\"wwmf_2\")[id_zone_included[i]][int(ind_zone_distmin_round2_by_step[i])]].values)\n",
    "\n",
    "            print('Echeance '+str(i)+': the winning zone 2 is still the same: '+zoneswinning[i])\n",
    "            print('Temps sensible is: '+str(int(tps_sens_round2[i])),'. Check that it is still the same as found in round 1 \\n')\n",
    "\n",
    "            df_zones[\"zone_winning_2\"].iloc[i]=zoneswinning[i]\n",
    "            df_zones[\"zw2_\"+distance_choice].iloc[i]=int(tps_sens_round2[i])\n",
    "            \n",
    "        # we really divide further\n",
    "        else:\n",
    "        \n",
    "            tps_sens_round2[i]=int(distance_round2zones_by_step_id.wwmf_2[distance_round2zones_by_step_id.isel(step=i).argmin(\"wwmf_2\")[id_zone_included[i]][int(ind_zone_distmin_round2_by_step[i])]].values)\n",
    "            tps_sens_comp_round2[i]=int(distance_round2zones_by_step_id.wwmf_2[distance_round2zones_comp_by_step_id.isel(step=i).argmin(\"wwmf_2\")[id_zone_included[i]][int(ind_zone_distmin_round2_by_step[i])]].values)\n",
    "\n",
    "            name_zone_round2[i]=str(dist_round2zones_sum_by_step_id_min.isel(step=i).id[id_zone_included[i]][int(ind_zone_distmin_round2_by_step[i])].values)\n",
    "\n",
    "            print('\\nEcheance ',str(i),': YES! Further zoning applies within the initial winning zone ',zoneswinning[i],',viz.:',name_zone_round2[i])\n",
    "            print('Temps sensible is: '+str(int(tps_sens_round2[i])),'in the new winning zone')\n",
    "            print('Temps sensible is: '+str(int(tps_sens_comp_round2[i])),'in the new complementary zone','\\n')\n",
    "\n",
    "            df_zones[\"zone_winning_2\"].iloc[i]=name_zone_round2[i]\n",
    "            df_zones[\"zw2_\"+distance_choice].iloc[i]=int(tps_sens_round2[i])\n",
    "            df_zones[\"zwc_\"+distance_choice].iloc[i]=int(tps_sens_comp_round2[i])\n",
    "\n",
    "            # find the zone winning complementary:\n",
    "            # elements of the complementary zone\n",
    "            zone_tmp=np.setdiff1d(zoneswinning[i].split('+'),name_zone_round2[i].split('+')).tolist()\n",
    "\n",
    "            # corresponding zone id (there shall be one and only one in the list)\n",
    "            if len(np.where([da_mask.id[i].values.tolist().split('+')==zone_tmp for i in np.arange(0,len(da_mask.id))])[0])>0:\n",
    "                ind_zone_tmp=np.where([da_mask.id[i].values.tolist().split('+')==zone_tmp for i in np.arange(0,len(da_mask.id))])[0][0]\n",
    "                name_zone_round2_comp[i]=str(da_mask.id[ind_zone_tmp].values.tolist())\n",
    "                df_zones[\"zone_winning_comp\"].iloc[i]=name_zone_round2_comp[i]\n",
    "            else:\n",
    "                df_zones[\"zone_winning_comp\"].iloc[i]=str('+'.join(zone_tmp))\n",
    "                print('warning: the complementary zone does not seem to be any of the original zones: ',df_zones[\"zone_winning_comp\"].iloc[i],'\\n')\n",
    "\n",
    "\n",
    "            "
   ]
  },
  {
   "cell_type": "markdown",
   "metadata": {},
   "source": [
    "## 3.4 Complementary of the winning zones"
   ]
  },
  {
   "cell_type": "markdown",
   "metadata": {},
   "source": [
    "### 3.4.1 Zones for the complementary of the winning zones"
   ]
  },
  {
   "cell_type": "code",
   "execution_count": 76,
   "metadata": {},
   "outputs": [],
   "source": [
    "ds_distance_round2compzones= distance_wwmf.get_pixel_distance_dept(ds_masked_zones_comp_hetero,distance_choice) # 4D (step:48, latitude, longitude, wwmf_2)\n",
    "ds_distance_round2compzones_chunk = ds_distance_round2compzones.chunk({\"step\":1}) # 4D (step:48, latitude, longitude, wwmf_2)\n",
    "distance_round2compzones_by_step_id = (ds_distance_round2compzones_chunk * da_mask_round2).sum(['latitude',\"longitude\"]).compute() # 3D (step:48, wwmf_2, id)"
   ]
  },
  {
   "cell_type": "markdown",
   "metadata": {},
   "source": [
    "### 3.4.2 Complementary zones for the complementary of the winning zones\n"
   ]
  },
  {
   "cell_type": "code",
   "execution_count": 77,
   "metadata": {},
   "outputs": [],
   "source": [
    "distance_round2compzones_comp_by_step_id = (ds_distance_round2compzones_chunk * da_mask_comp_round2).sum(['latitude',\"longitude\"]).compute()"
   ]
  },
  {
   "cell_type": "markdown",
   "metadata": {},
   "source": [
    "### 3.4.3 Find out the complementary zone sub-zones"
   ]
  },
  {
   "cell_type": "code",
   "execution_count": 78,
   "metadata": {},
   "outputs": [],
   "source": [
    "# we create the list of the complementary winning zones\n",
    "# indivi_zones was defined in the very beginning (parameters)\n",
    "zoneswinning_comp=['']*len(zoneswinning)\n",
    "\n",
    "for ii,i in enumerate(zoneswinning):\n",
    "    tmp=[]\n",
    "    for j in indivi_zones:\n",
    "        if j not in i.split(\"+\"):            \n",
    "            tmp.append(j)\n",
    "    zoneswinning_comp[ii]='+'.join(tmp)\n",
    "zoneswinning_comp=np.asarray(zoneswinning_comp)"
   ]
  },
  {
   "cell_type": "code",
   "execution_count": 79,
   "metadata": {},
   "outputs": [],
   "source": [
    "df_zones[\"zone_comp\"]=zoneswinning_comp"
   ]
  },
  {
   "cell_type": "code",
   "execution_count": 80,
   "metadata": {},
   "outputs": [],
   "source": [
    "#zoneswinning_comp[step_zones_comp_hetero_and_multiple]"
   ]
  },
  {
   "cell_type": "code",
   "execution_count": 81,
   "metadata": {},
   "outputs": [],
   "source": [
    "# recall the echeance steps to consider\n",
    "#step_zones_comp_hetero_and_multiple"
   ]
  },
  {
   "cell_type": "code",
   "execution_count": 82,
   "metadata": {},
   "outputs": [],
   "source": [
    "# find the id of the subset of zones included in the COMPLEMENTARY winning zone for each echeance step when round 2 is applicable\n",
    "id_compzone_included=[np.nan]*ds_masked.dims['step']\n",
    "\n",
    "for i in step_zones_comp_hetero_and_multiple:\n",
    "    id_compzone_included[i]=np.where([set(val.split(\"+\")).issubset(zoneswinning_comp[i].split(\"+\")) for val in da_mask.id.values.tolist()])[0]"
   ]
  },
  {
   "cell_type": "code",
   "execution_count": 83,
   "metadata": {},
   "outputs": [],
   "source": [
    "# verify that this works well by comparing one zone and the corresponding subzones\n",
    "#zoneswinning_comp[47]\n",
    "#[da_mask.id.values.tolist()[i] for i in id_compzone_included[47]]"
   ]
  },
  {
   "cell_type": "markdown",
   "metadata": {},
   "source": [
    "### 3.4.4 Minimization of the sum of the distances"
   ]
  },
  {
   "cell_type": "code",
   "execution_count": 84,
   "metadata": {},
   "outputs": [],
   "source": [
    "distance_round2compzones_by_step_id_min=distance_round2compzones_by_step_id.min(\"wwmf_2\")\n",
    "distance_round2compzones_comp_by_step_id_min=distance_round2compzones_comp_by_step_id.min(\"wwmf_2\")\n",
    "dist_round2compzones_sum_by_step_id_min=distance_round2compzones_by_step_id_min+distance_round2compzones_comp_by_step_id_min"
   ]
  },
  {
   "cell_type": "markdown",
   "metadata": {},
   "source": [
    "### 3.4.5 New zones and complementary zones and the corresponding temps sensible: analysis"
   ]
  },
  {
   "cell_type": "code",
   "execution_count": 85,
   "metadata": {},
   "outputs": [],
   "source": [
    "# initialize\n",
    "ind_compzone_distmin_round2_by_step=np.full([ds_masked_zones_comp_hetero.dims[\"step\"]], np.nan)  \n",
    "dist_comp_round2_sum_by_step_min=np.full([ds_masked_zones_comp_hetero.dims[\"step\"]], np.nan) \n",
    "tps_sens_comp_round2=np.full([ds_masked_zones_comp_hetero.dims[\"step\"]], np.nan)\n",
    "tps_sens_comp_of_comp_round2=np.full([ds_masked_zones_hetero.dims[\"step\"]], np.nan)\n",
    "\n",
    "# new winning zone id\n",
    "name_compzone_round2=['nan']*ds_masked_zones_hetero.dims[\"step\"]\n",
    "\n",
    "# new complementary winning zone id\n",
    "name_compzone_round2_comp=['nan']*ds_masked_zones_hetero.dims[\"step\"]"
   ]
  },
  {
   "cell_type": "code",
   "execution_count": 86,
   "metadata": {
    "scrolled": false
   },
   "outputs": [
    {
     "name": "stdout",
     "output_type": "stream",
     "text": [
      "\n",
      "Echeance  2 : YES! Further zoning applies within the initial winning zone  3802+3804+3805+3807+3808 ,viz.: 3804+3808\n",
      "Temps sensible is: 7 in the new winning zone\n",
      "Temps sensible is: 0 in the new complementary zone \n",
      "\n",
      "warning: the complementary zone does not seem to be any of the original zones:  3802+3805+3807 \n",
      "\n",
      "\n",
      "Echeance  4 : YES! Further zoning applies within the initial winning zone  3804+3807 ,viz.: 3804\n",
      "Temps sensible is: 7 in the new winning zone\n",
      "Temps sensible is: 0 in the new complementary zone \n",
      "\n"
     ]
    },
    {
     "name": "stderr",
     "output_type": "stream",
     "text": [
      "/Users/gablellouch/anaconda3/envs/preproc/lib/python3.8/site-packages/pandas/core/indexing.py:670: SettingWithCopyWarning: \n",
      "A value is trying to be set on a copy of a slice from a DataFrame\n",
      "\n",
      "See the caveats in the documentation: https://pandas.pydata.org/pandas-docs/stable/user_guide/indexing.html#returning-a-view-versus-a-copy\n",
      "  self._setitem_with_indexer(indexer, value)\n",
      "/Users/gablellouch/anaconda3/envs/preproc/lib/python3.8/site-packages/pandas/core/indexing.py:670: SettingWithCopyWarning: \n",
      "A value is trying to be set on a copy of a slice from a DataFrame\n",
      "\n",
      "See the caveats in the documentation: https://pandas.pydata.org/pandas-docs/stable/user_guide/indexing.html#returning-a-view-versus-a-copy\n",
      "  self._setitem_with_indexer(indexer, value)\n"
     ]
    },
    {
     "name": "stdout",
     "output_type": "stream",
     "text": [
      "Echeance 5: the complementary winning zone is still the same: 3804+3805+3807+3808\n",
      "Temps sensible is: 7 . Check that it is still the same as found in round 1 \n",
      "\n",
      "\n",
      "Echeance  6 : YES! Further zoning applies within the initial winning zone  3801+3802+3805+3806 ,viz.: 3801+3802\n",
      "Temps sensible is: 13 in the new winning zone\n",
      "Temps sensible is: 0 in the new complementary zone \n",
      "\n",
      "warning: the complementary zone does not seem to be any of the original zones:  3805+3806 \n",
      "\n",
      "Echeance 7: the complementary winning zone is still the same: 3801+3802\n",
      "Temps sensible is: 13 . Check that it is still the same as found in round 1 \n",
      "\n",
      "Echeance 8: the complementary winning zone is still the same: 3801+3802\n",
      "Temps sensible is: 13 . Check that it is still the same as found in round 1 \n",
      "\n",
      "\n",
      "Echeance  9 : YES! Further zoning applies within the initial winning zone  3801+3802+3805+3806+3807 ,viz.: 3801+3802\n",
      "Temps sensible is: 13 in the new winning zone\n",
      "Temps sensible is: 0 in the new complementary zone \n",
      "\n",
      "warning: the complementary zone does not seem to be any of the original zones:  3805+3806+3807 \n",
      "\n"
     ]
    },
    {
     "name": "stderr",
     "output_type": "stream",
     "text": [
      "/Users/gablellouch/anaconda3/envs/preproc/lib/python3.8/site-packages/pandas/core/indexing.py:670: SettingWithCopyWarning: \n",
      "A value is trying to be set on a copy of a slice from a DataFrame\n",
      "\n",
      "See the caveats in the documentation: https://pandas.pydata.org/pandas-docs/stable/user_guide/indexing.html#returning-a-view-versus-a-copy\n",
      "  self._setitem_with_indexer(indexer, value)\n",
      "/Users/gablellouch/anaconda3/envs/preproc/lib/python3.8/site-packages/pandas/core/indexing.py:670: SettingWithCopyWarning: \n",
      "A value is trying to be set on a copy of a slice from a DataFrame\n",
      "\n",
      "See the caveats in the documentation: https://pandas.pydata.org/pandas-docs/stable/user_guide/indexing.html#returning-a-view-versus-a-copy\n",
      "  self._setitem_with_indexer(indexer, value)\n",
      "/Users/gablellouch/anaconda3/envs/preproc/lib/python3.8/site-packages/pandas/core/indexing.py:670: SettingWithCopyWarning: \n",
      "A value is trying to be set on a copy of a slice from a DataFrame\n",
      "\n",
      "See the caveats in the documentation: https://pandas.pydata.org/pandas-docs/stable/user_guide/indexing.html#returning-a-view-versus-a-copy\n",
      "  self._setitem_with_indexer(indexer, value)\n",
      "/Users/gablellouch/anaconda3/envs/preproc/lib/python3.8/site-packages/pandas/core/indexing.py:670: SettingWithCopyWarning: \n",
      "A value is trying to be set on a copy of a slice from a DataFrame\n",
      "\n",
      "See the caveats in the documentation: https://pandas.pydata.org/pandas-docs/stable/user_guide/indexing.html#returning-a-view-versus-a-copy\n",
      "  self._setitem_with_indexer(indexer, value)\n",
      "/Users/gablellouch/anaconda3/envs/preproc/lib/python3.8/site-packages/pandas/core/indexing.py:670: SettingWithCopyWarning: \n",
      "A value is trying to be set on a copy of a slice from a DataFrame\n",
      "\n",
      "See the caveats in the documentation: https://pandas.pydata.org/pandas-docs/stable/user_guide/indexing.html#returning-a-view-versus-a-copy\n",
      "  self._setitem_with_indexer(indexer, value)\n"
     ]
    },
    {
     "name": "stdout",
     "output_type": "stream",
     "text": [
      "\n",
      "Echeance  10 : YES! Further zoning applies within the initial winning zone  3801+3802+3803+3805+3806 ,viz.: 3801\n",
      "Temps sensible is: 13 in the new winning zone\n",
      "Temps sensible is: 0 in the new complementary zone \n",
      "\n",
      "warning: the complementary zone does not seem to be any of the original zones:  3802+3803+3805+3806 \n",
      "\n",
      "Echeance 11: no further zoning within the initial complementary winning zone 3802+3804+3805+3807\n",
      "Temps sensible in any new zone (of the complementary): 0\n",
      "Temps sensible in any new complementary zone (of the complementary): 0 (Both shall be the same!) \n",
      "\n",
      "\n",
      "Echeance  14 : YES! Further zoning applies within the initial winning zone  3801+3802+3803+3804+3805+3806 ,viz.: 3801+3802+3803+3805+3804+3806\n",
      "Temps sensible is: 7 in the new winning zone\n",
      "Temps sensible is: 0 in the new complementary zone \n",
      "\n",
      "warning: the complementary zone does not seem to be any of the original zones:   \n",
      "\n",
      "Echeance 15: the complementary winning zone is still the same: 3801+3802\n",
      "Temps sensible is: 13 . Check that it is still the same as found in round 1 \n",
      "\n"
     ]
    },
    {
     "name": "stderr",
     "output_type": "stream",
     "text": [
      "/Users/gablellouch/anaconda3/envs/preproc/lib/python3.8/site-packages/pandas/core/indexing.py:670: SettingWithCopyWarning: \n",
      "A value is trying to be set on a copy of a slice from a DataFrame\n",
      "\n",
      "See the caveats in the documentation: https://pandas.pydata.org/pandas-docs/stable/user_guide/indexing.html#returning-a-view-versus-a-copy\n",
      "  self._setitem_with_indexer(indexer, value)\n",
      "/Users/gablellouch/anaconda3/envs/preproc/lib/python3.8/site-packages/pandas/core/indexing.py:670: SettingWithCopyWarning: \n",
      "A value is trying to be set on a copy of a slice from a DataFrame\n",
      "\n",
      "See the caveats in the documentation: https://pandas.pydata.org/pandas-docs/stable/user_guide/indexing.html#returning-a-view-versus-a-copy\n",
      "  self._setitem_with_indexer(indexer, value)\n",
      "/Users/gablellouch/anaconda3/envs/preproc/lib/python3.8/site-packages/pandas/core/indexing.py:670: SettingWithCopyWarning: \n",
      "A value is trying to be set on a copy of a slice from a DataFrame\n",
      "\n",
      "See the caveats in the documentation: https://pandas.pydata.org/pandas-docs/stable/user_guide/indexing.html#returning-a-view-versus-a-copy\n",
      "  self._setitem_with_indexer(indexer, value)\n",
      "/Users/gablellouch/anaconda3/envs/preproc/lib/python3.8/site-packages/pandas/core/indexing.py:670: SettingWithCopyWarning: \n",
      "A value is trying to be set on a copy of a slice from a DataFrame\n",
      "\n",
      "See the caveats in the documentation: https://pandas.pydata.org/pandas-docs/stable/user_guide/indexing.html#returning-a-view-versus-a-copy\n",
      "  self._setitem_with_indexer(indexer, value)\n"
     ]
    },
    {
     "name": "stdout",
     "output_type": "stream",
     "text": [
      "\n",
      "Echeance  16 : YES! Further zoning applies within the initial winning zone  3802+3803+3804+3805+3806+3807+3808 ,viz.: 3802\n",
      "Temps sensible is: 7 in the new winning zone\n",
      "Temps sensible is: 0 in the new complementary zone \n",
      "\n",
      "Echeance 19: no further zoning within the initial complementary winning zone 3801+3803+3805+3806+3808\n",
      "Temps sensible in any new zone (of the complementary): 0\n",
      "Temps sensible in any new complementary zone (of the complementary): 0 (Both shall be the same!) \n",
      "\n",
      "Echeance 21: no further zoning within the initial complementary winning zone 3801+3802+3804+3805+3806+3807+3808\n",
      "Temps sensible in any new zone (of the complementary): 0\n",
      "Temps sensible in any new complementary zone (of the complementary): 0 (Both shall be the same!) \n",
      "\n",
      "Echeance 27: no further zoning within the initial complementary winning zone 3803+3805+3806+3807\n",
      "Temps sensible in any new zone (of the complementary): 0\n",
      "Temps sensible in any new complementary zone (of the complementary): 0 (Both shall be the same!) \n",
      "\n",
      "Echeance 28: no further zoning within the initial complementary winning zone 3801+3802+3803+3805+3806+3807\n",
      "Temps sensible in any new zone (of the complementary): 0\n",
      "Temps sensible in any new complementary zone (of the complementary): 0 (Both shall be the same!) \n",
      "\n",
      "Echeance 30: no further zoning within the initial complementary winning zone 3801+3802+3803+3805+3806+3807+3808\n"
     ]
    },
    {
     "name": "stderr",
     "output_type": "stream",
     "text": [
      "/Users/gablellouch/anaconda3/envs/preproc/lib/python3.8/site-packages/pandas/core/indexing.py:670: SettingWithCopyWarning: \n",
      "A value is trying to be set on a copy of a slice from a DataFrame\n",
      "\n",
      "See the caveats in the documentation: https://pandas.pydata.org/pandas-docs/stable/user_guide/indexing.html#returning-a-view-versus-a-copy\n",
      "  self._setitem_with_indexer(indexer, value)\n",
      "/Users/gablellouch/anaconda3/envs/preproc/lib/python3.8/site-packages/pandas/core/indexing.py:670: SettingWithCopyWarning: \n",
      "A value is trying to be set on a copy of a slice from a DataFrame\n",
      "\n",
      "See the caveats in the documentation: https://pandas.pydata.org/pandas-docs/stable/user_guide/indexing.html#returning-a-view-versus-a-copy\n",
      "  self._setitem_with_indexer(indexer, value)\n",
      "/Users/gablellouch/anaconda3/envs/preproc/lib/python3.8/site-packages/pandas/core/indexing.py:670: SettingWithCopyWarning: \n",
      "A value is trying to be set on a copy of a slice from a DataFrame\n",
      "\n",
      "See the caveats in the documentation: https://pandas.pydata.org/pandas-docs/stable/user_guide/indexing.html#returning-a-view-versus-a-copy\n",
      "  self._setitem_with_indexer(indexer, value)\n",
      "/Users/gablellouch/anaconda3/envs/preproc/lib/python3.8/site-packages/pandas/core/indexing.py:670: SettingWithCopyWarning: \n",
      "A value is trying to be set on a copy of a slice from a DataFrame\n",
      "\n",
      "See the caveats in the documentation: https://pandas.pydata.org/pandas-docs/stable/user_guide/indexing.html#returning-a-view-versus-a-copy\n",
      "  self._setitem_with_indexer(indexer, value)\n",
      "/Users/gablellouch/anaconda3/envs/preproc/lib/python3.8/site-packages/pandas/core/indexing.py:670: SettingWithCopyWarning: \n",
      "A value is trying to be set on a copy of a slice from a DataFrame\n",
      "\n",
      "See the caveats in the documentation: https://pandas.pydata.org/pandas-docs/stable/user_guide/indexing.html#returning-a-view-versus-a-copy\n",
      "  self._setitem_with_indexer(indexer, value)\n"
     ]
    },
    {
     "name": "stdout",
     "output_type": "stream",
     "text": [
      "Temps sensible in any new zone (of the complementary): 0\n",
      "Temps sensible in any new complementary zone (of the complementary): 0 (Both shall be the same!) \n",
      "\n",
      "Echeance 42: no further zoning within the initial complementary winning zone 3801+3802+3807+3808\n",
      "Temps sensible in any new zone (of the complementary): 0\n",
      "Temps sensible in any new complementary zone (of the complementary): 0 (Both shall be the same!) \n",
      "\n",
      "Echeance 43: no further zoning within the initial complementary winning zone 3801+3802+3803+3804+3805+3806+3808\n",
      "Temps sensible in any new zone (of the complementary): 0\n",
      "Temps sensible in any new complementary zone (of the complementary): 0 (Both shall be the same!) \n",
      "\n",
      "\n",
      "Echeance  44 : YES! Further zoning applies within the initial winning zone  3801+3802+3805 ,viz.: 3801+3802\n",
      "Temps sensible is: 13 in the new winning zone\n",
      "Temps sensible is: 0 in the new complementary zone \n",
      "\n"
     ]
    },
    {
     "name": "stderr",
     "output_type": "stream",
     "text": [
      "/Users/gablellouch/anaconda3/envs/preproc/lib/python3.8/site-packages/pandas/core/indexing.py:670: SettingWithCopyWarning: \n",
      "A value is trying to be set on a copy of a slice from a DataFrame\n",
      "\n",
      "See the caveats in the documentation: https://pandas.pydata.org/pandas-docs/stable/user_guide/indexing.html#returning-a-view-versus-a-copy\n",
      "  self._setitem_with_indexer(indexer, value)\n",
      "/Users/gablellouch/anaconda3/envs/preproc/lib/python3.8/site-packages/pandas/core/indexing.py:670: SettingWithCopyWarning: \n",
      "A value is trying to be set on a copy of a slice from a DataFrame\n",
      "\n",
      "See the caveats in the documentation: https://pandas.pydata.org/pandas-docs/stable/user_guide/indexing.html#returning-a-view-versus-a-copy\n",
      "  self._setitem_with_indexer(indexer, value)\n",
      "/Users/gablellouch/anaconda3/envs/preproc/lib/python3.8/site-packages/pandas/core/indexing.py:670: SettingWithCopyWarning: \n",
      "A value is trying to be set on a copy of a slice from a DataFrame\n",
      "\n",
      "See the caveats in the documentation: https://pandas.pydata.org/pandas-docs/stable/user_guide/indexing.html#returning-a-view-versus-a-copy\n",
      "  self._setitem_with_indexer(indexer, value)\n",
      "/Users/gablellouch/anaconda3/envs/preproc/lib/python3.8/site-packages/pandas/core/indexing.py:670: SettingWithCopyWarning: \n",
      "A value is trying to be set on a copy of a slice from a DataFrame\n",
      "\n",
      "See the caveats in the documentation: https://pandas.pydata.org/pandas-docs/stable/user_guide/indexing.html#returning-a-view-versus-a-copy\n",
      "  self._setitem_with_indexer(indexer, value)\n"
     ]
    },
    {
     "name": "stdout",
     "output_type": "stream",
     "text": [
      "Echeance 47: the complementary winning zone is still the same: 3801+3802\n",
      "Temps sensible is: 13 . Check that it is still the same as found in round 1 \n",
      "\n"
     ]
    },
    {
     "name": "stderr",
     "output_type": "stream",
     "text": [
      "/Users/gablellouch/anaconda3/envs/preproc/lib/python3.8/site-packages/pandas/core/indexing.py:670: SettingWithCopyWarning: \n",
      "A value is trying to be set on a copy of a slice from a DataFrame\n",
      "\n",
      "See the caveats in the documentation: https://pandas.pydata.org/pandas-docs/stable/user_guide/indexing.html#returning-a-view-versus-a-copy\n",
      "  self._setitem_with_indexer(indexer, value)\n"
     ]
    }
   ],
   "source": [
    "for i in step_zones_comp_hetero_and_multiple:\n",
    "\n",
    "    # same as in the previous winning zone case\n",
    "    if len(np.where(dist_round2compzones_sum_by_step_id_min.isel(step=i)[id_compzone_included[i]]-min(dist_round2compzones_sum_by_step_id_min.isel(step=i)[id_compzone_included[i]])<0.00001)[0])==len(id_compzone_included[i]):\n",
    "        print('Echeance '+str(i)+': no further zoning within the initial complementary winning zone '+zoneswinning_comp[i])\n",
    "        # here again, need to transform indices into wwmf_2 code (same applies to all tps_sens)\n",
    "        tps_sens_comp_round2[i]=int(distance_round2compzones_by_step_id.wwmf_2[distance_round2compzones_by_step_id.isel(step=i).argmin(\"wwmf_2\")[id_compzone_included[i]].max()].values)\n",
    "        tps_sens_comp_of_comp_round2[i]=int(distance_round2compzones_comp_by_step_id.wwmf_2[distance_round2compzones_comp_by_step_id.isel(step=i).argmin(\"wwmf_2\")[id_compzone_included[i]].max()].values)\n",
    "        print('Temps sensible in any new zone (of the complementary): '+str(int(tps_sens_comp_round2[i])))\n",
    "        print('Temps sensible in any new complementary zone (of the complementary): '+str(int(tps_sens_comp_of_comp_round2[i])),'(Both shall be the same!)','\\n')\n",
    "        \n",
    "        df_zones[\"zone_comp_winning\"].iloc[i]=zoneswinning_comp[i]\n",
    "        df_zones[\"zcw_\"+distance_choice].iloc[i]=int(tps_sens_comp_round2[i])\n",
    "        df_zones[\"zc2_\"+distance_choice].iloc[i]=int(tps_sens_comp_of_comp_round2[i])\n",
    "        \n",
    "    else:        \n",
    "        ind_compzone_distmin_round2_by_step[i]=dist_round2compzones_sum_by_step_id_min.isel(step=i)[id_compzone_included[i]].argmin().values\n",
    "        dist_comp_round2_sum_by_step_min[i]=dist_round2compzones_sum_by_step_id_min.isel(step=i)[id_compzone_included[i]].min().values\n",
    "        \n",
    "        # the min distance is obtained for the initial complementary zone, hence we shall not divide further\n",
    "        if str(dist_round2compzones_sum_by_step_id_min.isel(step=i).id[id_compzone_included[i]][int(ind_compzone_distmin_round2_by_step[i])].values)==zoneswinning_comp[i]:\n",
    "        \n",
    "            # we still fill in with information (to remain consistant with the above: we fill in info for all echeances that went to round2 except temps sensible for the complementary zone since this zone is empty)\n",
    "            \n",
    "            tps_sens_comp_round2[i]=int(distance_round2compzones_by_step_id.wwmf_2[distance_round2compzones_by_step_id.isel(step=i).argmin(\"wwmf_2\")[id_compzone_included[i]][int(ind_compzone_distmin_round2_by_step[i])]].values)\n",
    "\n",
    "            print('Echeance '+str(i)+': the complementary winning zone is still the same: '+zoneswinning_comp[i])\n",
    "            print('Temps sensible is: '+str(int(tps_sens_comp_round2[i])),'. Check that it is still the same as found in round 1 \\n')\n",
    "\n",
    "            df_zones[\"zone_comp_winning\"].iloc[i]=zoneswinning_comp[i]\n",
    "            df_zones[\"zcw_\"+distance_choice].iloc[i]=int(tps_sens_comp_round2[i])\n",
    "        \n",
    "        # we really divide further\n",
    "        else:\n",
    "            tps_sens_comp_round2[i]=int(distance_round2compzones_by_step_id.wwmf_2[distance_round2compzones_by_step_id.isel(step=i).argmin(\"wwmf_2\")[id_compzone_included[i]][int(ind_compzone_distmin_round2_by_step[i])]].values)\n",
    "            tps_sens_comp_of_comp_round2[i]=int(distance_round2compzones_comp_by_step_id.wwmf_2[distance_round2compzones_comp_by_step_id.isel(step=i).argmin(\"wwmf_2\")[id_compzone_included[i]][int(ind_compzone_distmin_round2_by_step[i])]].values)\n",
    "\n",
    "            name_compzone_round2[i]=str(dist_round2compzones_sum_by_step_id_min.isel(step=i).id[id_compzone_included[i]][int(ind_compzone_distmin_round2_by_step[i])].values)\n",
    "\n",
    "            print('\\nEcheance ',str(i),': YES! Further zoning applies within the initial winning zone ',zoneswinning_comp[i],',viz.:',name_compzone_round2[i])\n",
    "            print('Temps sensible is: '+str(int(tps_sens_comp_round2[i])),'in the new winning zone')\n",
    "            print('Temps sensible is: '+str(int(tps_sens_comp_of_comp_round2[i])),'in the new complementary zone','\\n')\n",
    "\n",
    "            df_zones[\"zone_comp_winning\"].iloc[i]=name_compzone_round2[i]\n",
    "            df_zones[\"zcw_\"+distance_choice].iloc[i]=int(tps_sens_comp_round2[i])\n",
    "            df_zones[\"zc2_\"+distance_choice].iloc[i]=int(tps_sens_comp_of_comp_round2[i])\n",
    "\n",
    "            # find the zone complementary complementary:\n",
    "            # elements of the complementary zone\n",
    "            zone_tmp=np.setdiff1d(zoneswinning_comp[i].split('+'),name_compzone_round2[i].split('+')).tolist()\n",
    "\n",
    "            # corresponding zone id (there shall be one and only one in the list)\n",
    "            if len(np.where([da_mask.id[i].values.tolist().split('+')==zone_tmp for i in np.arange(0,len(da_mask.id))])[0])>0:\n",
    "                ind_zone_tmp=np.where([da_mask.id[i].values.tolist().split('+')==zone_tmp for i in np.arange(0,len(da_mask.id))])[0][0]\n",
    "                name_compzone_round2_comp[i]=str(da_mask.id[ind_zone_tmp].values.tolist())\n",
    "                df_zones[\"zone_comp_comp\"].iloc[i]=name_compzone_round2_comp[i]            \n",
    "            else:\n",
    "                df_zones[\"zone_comp_comp\"].iloc[i]=str('+'.join(zone_tmp))\n",
    "                print('warning: the complementary zone does not seem to be any of the original zones: ',df_zones[\"zone_comp_comp\"].iloc[i],'\\n')\n",
    "            \n",
    "            "
   ]
  },
  {
   "cell_type": "markdown",
   "metadata": {},
   "source": [
    "# Save the result of the zoning in a file"
   ]
  },
  {
   "cell_type": "code",
   "execution_count": 87,
   "metadata": {},
   "outputs": [
    {
     "name": "stdout",
     "output_type": "stream",
     "text": [
      "Currently saving file: ../../zonage_homogeneous_criterion/38_202001260000_agat_asym.csv\n"
     ]
    }
   ],
   "source": [
    "res_path=\"../../zonage_homogeneous_criterion/\"\n",
    "foutname=res_path+zone_dpt+'_'+time_str+\"_\"+distance_choice+\".csv\"\n",
    "print('Currently saving file: '+foutname)\n",
    "df_zones.to_csv (foutname, header=True) "
   ]
  },
  {
   "cell_type": "code",
   "execution_count": 88,
   "metadata": {},
   "outputs": [
    {
     "name": "stdout",
     "output_type": "stream",
     "text": [
      "--- 200.64698004722595 seconds ---\n"
     ]
    }
   ],
   "source": [
    "ftimename=res_path+'time_'+zone_dpt+'_'+time_str+\"_\"+distance_choice+\".csv\"\n",
    "#time=time.time() - start_time\n",
    "\n",
    "print(\"--- %s seconds ---\" % (time.time() - start_time))"
   ]
  }
 ],
 "metadata": {
  "kernelspec": {
   "display_name": "Python 3",
   "language": "python",
   "name": "python3"
  },
  "language_info": {
   "codemirror_mode": {
    "name": "ipython",
    "version": 3
   },
   "file_extension": ".py",
   "mimetype": "text/x-python",
   "name": "python",
   "nbconvert_exporter": "python",
   "pygments_lexer": "ipython3",
   "version": "3.8.2"
  }
 },
 "nbformat": 4,
 "nbformat_minor": 4
}
