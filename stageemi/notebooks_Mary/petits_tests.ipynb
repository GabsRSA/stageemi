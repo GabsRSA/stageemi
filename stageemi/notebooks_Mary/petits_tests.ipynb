{
 "cells": [
  {
   "cell_type": "code",
   "execution_count": 1,
   "metadata": {},
   "outputs": [],
   "source": [
    "import numpy as np\n",
    "import pandas as pd\n",
    "import matplotlib.pyplot as plt\n",
    "import matplotlib\n",
    "import sys\n",
    "import xarray as xr\n",
    "import matplotlib.patches as mpatches\n",
    "import os\n",
    "from lib import conversion"
   ]
  },
  {
   "cell_type": "markdown",
   "metadata": {},
   "source": [
    "# plot des zones d'intérêts pour l'agrégation "
   ]
  },
  {
   "cell_type": "code",
   "execution_count": 6,
   "metadata": {},
   "outputs": [],
   "source": [
    "dir_fig = '../../../figures/bilan_agregation/'\n",
    "dir_csv = '../zonageWME/'\n",
    "\n",
    "# date = '2020012600'\n",
    "date = '2020030600'\n",
    "echeance = 30 \n",
    "dep_id = '41'\n",
    "index_zone = 5\n",
    "\n",
    "if date == '2020012600':\n",
    "    echeance_dict = {\n",
    "        '38':[3,3],\n",
    "        '29':[13,13],  \n",
    "        '34':[6,30,1,4,4], \n",
    "        '41':[30,5]\n",
    "    }\n",
    "    index_zone_dict ={\n",
    "        '41':[2,0],\n",
    "        '34':[0,0,0,0,1],\n",
    "        '38':[0,1],\n",
    "        '29':[0,2]\n",
    "    }\n",
    "\n",
    "if date == '2020030600':\n",
    "    echeance_dict = {\n",
    "        '38':[3,29],\n",
    "        '29':[5],  \n",
    "#         '34':[], \n",
    "#         '41':[]\n",
    "    }\n",
    "    index_zone_dict ={\n",
    "#         '41':[],\n",
    "#         '34':[],\n",
    "        '38':[0,1],\n",
    "        '29':[0]\n",
    "    }\n"
   ]
  },
  {
   "cell_type": "code",
   "execution_count": 7,
   "metadata": {
    "scrolled": true
   },
   "outputs": [
    {
     "name": "stdout",
     "output_type": "stream",
     "text": [
      "../WWMF/20200306000000__PG0PAROME__WWMF__EURW1S100______GRILLE____0_48_1__SOL____GRIB2.nc\n",
      "[3, 29]\n",
      "../WWMF/20200306000000__PG0PAROME__WWMF__EURW1S100______GRILLE____0_48_1__SOL____GRIB2.nc\n",
      "[5]\n"
     ]
    }
   ],
   "source": [
    "''' lecture arome '''\n",
    "for dep_id in echeance_dict.keys():\n",
    "    echeance_list = echeance_dict[dep_id]\n",
    "    fname = \"../WWMF/\" + date+'0000__PG0PAROME__'+'WWMF'+'__EURW1S100______GRILLE____0_48_1__SOL____GRIB2.nc'\n",
    "    print(fname)\n",
    "\n",
    "    ds = xr.open_dataset(fname,chunks={\"step\":1}).isel(step = echeance_list)\n",
    "    ds['latitude']  = ds['latitude'].round(5)\n",
    "    ds['longitude'] = ds['longitude'].round(5)\n",
    "    print(echeance_list)\n",
    "    '''lecture masque'''\n",
    "    fname_out = '../GeoData/zones_sympo_multiples/'+dep_id+'_mask_zones_sympos.nc'\n",
    "    if os.path.exists(fname_out): \n",
    "        ds_mask = xr.open_dataset(fname_out,chunks={\"id\":1})\n",
    "        ds_mask[\"latitude\"]  = ds_mask[\"latitude\"].round(5)\n",
    "        ds_mask[\"longitude\"] = ds_mask[\"longitude\"].round(5)\n",
    "\n",
    "    for icheance,echeance in enumerate(echeance_dict[dep_id]):\n",
    "        index_zone = index_zone_dict[dep_id][icheance]\n",
    "        ''' lecture fichier resultat '''\n",
    "        fname_csv_ini = dir_csv+ 'v2_'+dep_id+'_'+date+'_'+str(echeance)+'.csv'\n",
    "        df = pd.read_csv(fname_csv_ini)\n",
    "        id_zone = df.iloc[index_zone]['zone']\n",
    "\n",
    "        ds_dep_tot = (ds*ds_mask.mask.sel(id=id_zone).drop(\"id\"))\n",
    "        if date == '2020030600':\n",
    "            ds_dep_tot = ds_dep_tot.rename({'paramId_0':'unknown'})\n",
    "        # conversion\n",
    "        for name in ['compas','agat']:\n",
    "            ds_dep_tot = conversion (ds_dep_tot,name)\n",
    "            \n",
    "        # label pour le plot\n",
    "        label = 'compas:{}, compas asym: {}, agat:{}, agat asym: {}'.format(df.iloc[index_zone]['compas'],\n",
    "                                df.iloc[index_zone]['compas_asym'],df.iloc[index_zone]['agat'],\n",
    "                                df.iloc[index_zone]['agat_asym'])\n",
    "\n",
    "        fig,axes = plt.subplots(nrows = 1, ncols=3,figsize  = (15,5))\n",
    "        ax       = axes.flat\n",
    "        var2plot_lst = ['unknown','wme_arr','w1_arr']\n",
    "        title_lst    = ['WWMF','WME','W1']\n",
    "        varmin_lst   = [0,1,0]\n",
    "        varmax_lst   = [99,19,30]\n",
    "        for iplot in range(3):\n",
    "            var2plot = ds_dep_tot[var2plot_lst[iplot]].isel(step = 0).where(ds_mask.mask.sel(id=id_zone)==1,drop=True)\n",
    "            if iplot == 0 : \n",
    "                cmap  = matplotlib.cm.jet\n",
    "            else: \n",
    "                cmap = matplotlib.cm.tab20b\n",
    "\n",
    "            varmin   = varmin_lst[iplot]\n",
    "            varmax   = varmax_lst[iplot] + 1        \n",
    "            clevs    = np.arange(varmin,varmax+1,1)\n",
    "            cs       = var2plot.plot.imshow(ax = ax[iplot],cmap=cmap,levels=clevs,cbar_kwargs={'label':title_lst[iplot]}) #cbar_kwargs \n",
    "            ax[iplot].set_title('')\n",
    "        fig.suptitle(label,y=1.05,fontsize = 18)\n",
    "        fig.tight_layout()\n",
    "        fig.savefig(dir_fig+dep_id+'_'+date+'_'+str(echeance)+'_'+str(index_zone)+'.png',bbox_inches='tight',dpi=400)\n",
    "        plt.clf()\n",
    "        plt.close('all')"
   ]
  },
  {
   "cell_type": "code",
   "execution_count": null,
   "metadata": {},
   "outputs": [],
   "source": [
    "\n",
    "\n"
   ]
  },
  {
   "cell_type": "code",
   "execution_count": null,
   "metadata": {},
   "outputs": [],
   "source": []
  },
  {
   "cell_type": "code",
   "execution_count": null,
   "metadata": {},
   "outputs": [],
   "source": []
  },
  {
   "cell_type": "code",
   "execution_count": 4,
   "metadata": {},
   "outputs": [],
   "source": [
    "\n",
    "# label"
   ]
  },
  {
   "cell_type": "code",
   "execution_count": null,
   "metadata": {},
   "outputs": [],
   "source": []
  },
  {
   "cell_type": "code",
   "execution_count": 5,
   "metadata": {},
   "outputs": [
    {
     "ename": "SystemExit",
     "evalue": "",
     "output_type": "error",
     "traceback": [
      "An exception has occurred, use %tb to see the full traceback.\n",
      "\u001b[1;31mSystemExit\u001b[0m\n"
     ]
    },
    {
     "name": "stderr",
     "output_type": "stream",
     "text": [
      "C:\\Users\\mary\\anaconda3\\envs\\preproc\\lib\\site-packages\\IPython\\core\\interactiveshell.py:3339: UserWarning: To exit: use 'exit', 'quit', or Ctrl-D.\n",
      "  warn(\"To exit: use 'exit', 'quit', or Ctrl-D.\", stacklevel=1)\n"
     ]
    }
   ],
   "source": [
    "sys.exit()"
   ]
  },
  {
   "cell_type": "code",
   "execution_count": null,
   "metadata": {},
   "outputs": [],
   "source": [
    "file_CodesWWMF = '../utils/CodesWWMF.csv'\n",
    "df             = pd.read_csv(file_CodesWWMF,usecols = (0,1,2,3,6,7),sep=',')\n",
    "Code_WME       = df['Code WME'].to_numpy()\n",
    "Code_WWMF      = df['Code WWMF'].to_numpy()\n",
    "Code_W1        = df['Code W1'].to_numpy()\n",
    "legende_WWMF   = df['Legende WWMF'].to_numpy()\n",
    "legende_WME    = df['Legende WME'].to_numpy()\n",
    "legende_W1     = df['Legende W1'].to_numpy()\n",
    "\n",
    "Code_W1.max()"
   ]
  },
  {
   "cell_type": "code",
   "execution_count": null,
   "metadata": {},
   "outputs": [],
   "source": [
    "code_cible = 3\n",
    "\n",
    "legende_WME_cible = np.unique(legende_WME[Code_WME==code_cible])\n",
    "legende_W1_cible  = np.unique(legende_W1[Code_WME==code_cible])\n",
    "\n",
    "print(legende_WME_cible)\n",
    "print(legende_W1_cible)"
   ]
  }
 ],
 "metadata": {
  "kernelspec": {
   "display_name": "Python 3",
   "language": "python",
   "name": "python3"
  },
  "language_info": {
   "codemirror_mode": {
    "name": "ipython",
    "version": 3
   },
   "file_extension": ".py",
   "mimetype": "text/x-python",
   "name": "python",
   "nbconvert_exporter": "python",
   "pygments_lexer": "ipython3",
   "version": "3.8.1"
  }
 },
 "nbformat": 4,
 "nbformat_minor": 4
}
