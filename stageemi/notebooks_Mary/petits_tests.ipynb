{
 "cells": [
  {
   "cell_type": "code",
   "execution_count": 2,
   "metadata": {},
   "outputs": [],
   "source": [
    "import numpy as np\n",
    "import pandas as pd"
   ]
  },
  {
   "cell_type": "code",
   "execution_count": 10,
   "metadata": {},
   "outputs": [
    {
     "data": {
      "text/plain": [
       "28"
      ]
     },
     "execution_count": 10,
     "metadata": {},
     "output_type": "execute_result"
    }
   ],
   "source": [
    "file_CodesWWMF = '../utils/CodesWWMF.csv'\n",
    "df             = pd.read_csv(file_CodesWWMF,usecols = (0,1,2,3,6,7),sep=',')\n",
    "Code_WME       = df['Code WME'].to_numpy()\n",
    "Code_WWMF      = df['Code WWMF'].to_numpy()\n",
    "Code_W1        = df['Code W1'].to_numpy()\n",
    "legende_WWMF   = df['Legende WWMF'].to_numpy()\n",
    "legende_WME    = df['Legende WME'].to_numpy()\n",
    "legende_W1     = df['Legende W1'].to_numpy()\n",
    "\n",
    "Code_W1.max()"
   ]
  },
  {
   "cell_type": "code",
   "execution_count": 9,
   "metadata": {},
   "outputs": [
    {
     "name": "stdout",
     "output_type": "stream",
     "text": [
      "['Très nuageux/Couvert']\n",
      "['RAS']\n"
     ]
    }
   ],
   "source": [
    "code_cible = 3\n",
    "\n",
    "legende_WME_cible = np.unique(legende_WME[Code_WME==code_cible])\n",
    "legende_W1_cible  = np.unique(legende_W1[Code_WME==code_cible])\n",
    "\n",
    "print(legende_WME_cible)\n",
    "print(legende_W1_cible)"
   ]
  }
 ],
 "metadata": {
  "kernelspec": {
   "display_name": "Python 3",
   "language": "python",
   "name": "python3"
  },
  "language_info": {
   "codemirror_mode": {
    "name": "ipython",
    "version": 3
   },
   "file_extension": ".py",
   "mimetype": "text/x-python",
   "name": "python",
   "nbconvert_exporter": "python",
   "pygments_lexer": "ipython3",
   "version": "3.8.1"
  }
 },
 "nbformat": 4,
 "nbformat_minor": 4
}
