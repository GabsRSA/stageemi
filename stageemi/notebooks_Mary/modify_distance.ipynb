{
 "cells": [
  {
   "cell_type": "code",
   "execution_count": 1,
   "metadata": {},
   "outputs": [],
   "source": [
    "import pandas"
   ]
  },
  {
   "cell_type": "code",
   "execution_count": 46,
   "metadata": {},
   "outputs": [
    {
     "name": "stdout",
     "output_type": "stream",
     "text": [
      "../utils/distance_agat.csv\n",
      "../utils/distance_agat_asym.csv\n"
     ]
    }
   ],
   "source": [
    "file_lst = ['../utils/distance_agat_old.csv', '../utils/distance_agat_asym_old.csv']\n",
    "# 4, 12, 15, 25, 27, 29 et 30 à supprimer pour AGAT\n",
    "for file in file_lst:\n",
    "    file_out = file[:-8] + '.csv'\n",
    "    print(file_out)\n",
    "\n",
    "    df = pandas.read_csv(file,sep=',')\n",
    "\n",
    "    list_val2remove_string = ['4', '12', '15', '25', '27','29','30']\n",
    "    list_index2remove = [int(val) for val in list_val2remove_string]\n",
    "    df2 = df.drop(list_val2remove_string,axis=1).drop(df.index[list_index2remove])\n",
    "    df2.to_csv(file_out, index = False, header=True) \n"
   ]
  },
  {
   "cell_type": "code",
   "execution_count": 47,
   "metadata": {},
   "outputs": [
    {
     "name": "stdout",
     "output_type": "stream",
     "text": [
      "../utils/distance_compas.csv\n",
      "../utils/distance_compas_asym.csv\n"
     ]
    }
   ],
   "source": [
    "file_lst = ['../utils/distance_compas_old.csv', '../utils/distance_compas_asym_old.csv']\n",
    "# 4, 12, 15, 25, 27, 29 et 30 à supprimer pour AGAT\n",
    "for file in file_lst:\n",
    "    file_out = file[:-8] + '.csv'\n",
    "    print(file_out)\n",
    "\n",
    "    df = pandas.read_csv(file,sep=',')\n",
    "\n",
    "    list_val2remove_string = ['17']\n",
    "    list_index2remove = [int(val) for val in list_val2remove_string]\n",
    "    df2 = df.drop(list_val2remove_string,axis=1).drop(df.index[list_index2remove])\n",
    "    df2.to_csv(file_out, index = False, header=True) "
   ]
  },
  {
   "cell_type": "code",
   "execution_count": null,
   "metadata": {},
   "outputs": [],
   "source": []
  },
  {
   "cell_type": "code",
   "execution_count": null,
   "metadata": {},
   "outputs": [],
   "source": [
    "agat_asym_filename='../utils/distance_agat_asym.csv'\n",
    "df_agat.to_csv(agat_asym_filename, index = False, header=True) "
   ]
  }
 ],
 "metadata": {
  "kernelspec": {
   "display_name": "Python 3",
   "language": "python",
   "name": "python3"
  },
  "language_info": {
   "codemirror_mode": {
    "name": "ipython",
    "version": 3
   },
   "file_extension": ".py",
   "mimetype": "text/x-python",
   "name": "python",
   "nbconvert_exporter": "python",
   "pygments_lexer": "ipython3",
   "version": "3.8.1"
  }
 },
 "nbformat": 4,
 "nbformat_minor": 4
}
