{
 "cells": [
  {
   "cell_type": "code",
   "execution_count": 76,
   "metadata": {},
   "outputs": [],
   "source": [
    "import numpy as np\n",
    "import pandas as pd\n",
    "import matplotlib.pyplot as plt\n",
    "import matplotlib\n",
    "import sys\n",
    "import xarray as xr\n",
    "import string\n",
    "import os\n",
    "from lib import create_combination_subzones, create_nc_mask_NSEO,get_not_included_masks,find_neighbours\n",
    "from mpl_toolkits.axes_grid1 import make_axes_locatable"
   ]
  },
  {
   "cell_type": "code",
   "execution_count": 2,
   "metadata": {},
   "outputs": [],
   "source": [
    "dir_fig = '../../../figures/'"
   ]
  },
  {
   "cell_type": "code",
   "execution_count": 84,
   "metadata": {},
   "outputs": [
    {
     "data": {
      "text/plain": [
       "1257"
      ]
     },
     "execution_count": 84,
     "metadata": {},
     "output_type": "execute_result"
    }
   ],
   "source": [
    "dep_id = '34'\n",
    "mask_sympo = True\n",
    "mask_geographique = False\n",
    "if mask_sympo and not mask_geographique: \n",
    "    fname_out = '../GeoData/zones_sympo_multiples/'+dep_id+'_mask_zones_sympos.nc'\n",
    "    if not os.path.exists(fname_out): \n",
    "        dir_mask = '/home/mrpa/borderiesm/stageEMI/Codes/StageEMI/Masques_netcdf/ZONE_SYMPO/'\n",
    "        list_subzones = glob.glob(dir_mask + dep_id +'*.nc')\n",
    "        n_subzones = len(list_subzones)  # nombre de zones sympos initiales\n",
    "        lst_subzones = [zone[-7:-3] for zone in list_subzones]\n",
    "        ds_mask = create_combination_subzones(dir_mask,dep_id,lst_subzones,fname_out,degre5=True) \n",
    "        ds_mask = ds_mask.chunk({\"id\":1})\n",
    "    else: \n",
    "        ds_mask = xr.open_dataset(fname_out,chunks={\"id\":1})\n",
    "\n",
    "if mask_geographique and not mask_sympo: \n",
    "    if   dep_id == '38': dep = 'FRK24'\n",
    "    elif dep_id == '41': dep = 'FRB05'\n",
    "    elif dep_id == \"34\": dep = 'FRJ13'\n",
    "    elif dep_id == '29': dep = \"FRH02\"\n",
    "    else: \n",
    "        print('remplir la bonne valeur pour le dep')\n",
    "        sys.exit()\n",
    "    fname_out = '../GeoData/zones_sympo_multiples/'+ dep_id+'_'+dep+'_mask_NSEO.nc'\n",
    "    if not os.path.exists(fname_out):\n",
    "        dir_mask  = '../GeoData/nc_departement/'\n",
    "        dep_file  = dir_mask + dep +'.nc' \n",
    "        print('on cree',fname_out)\n",
    "        ds_mask = create_nc_mask_NSEO(dep_file,fname_out,plot_dep=False)\n",
    "        ds_mask = ds_mask.chunk({\"id\":1})\n",
    "    else:\n",
    "        ds_mask = xr.open_dataset(fname_out,chunks={\"id\":1})\n",
    "ds_mask.id.values.size"
   ]
  },
  {
   "cell_type": "code",
   "execution_count": null,
   "metadata": {},
   "outputs": [],
   "source": []
  },
  {
   "cell_type": "markdown",
   "metadata": {},
   "source": [
    "# plot des différentes zones sympos"
   ]
  },
  {
   "cell_type": "code",
   "execution_count": 74,
   "metadata": {},
   "outputs": [],
   "source": [
    "sys.exit()\n",
    "fontsize = 18\n",
    "plt.rc('font', size=fontsize)          # controls default text sizes\n",
    "plt.rc('axes', titlesize=fontsize)     # fontsize of the axes title\n",
    "plt.rc('axes', labelsize=fontsize)    # fontsize of the x and y labels\n",
    "plt.rc('xtick', labelsize=fontsize)    # fontsize of the tick labels\n",
    "plt.rc('ytick', labelsize=fontsize)    # fontsize of the tick labels"
   ]
  },
  {
   "cell_type": "code",
   "execution_count": 78,
   "metadata": {},
   "outputs": [
    {
     "data": {
      "image/png": "[encoded data removed]",
      "text/plain": [
       "<Figure size 432x288 with 1 Axes>"
      ]
     },
     "metadata": {
      "needs_background": "light"
     },
     "output_type": "display_data"
    }
   ],
   "source": [
    "\n",
    "list_zones_sympos_initiales =[zone for zone in ds_mask.id.values if len(zone) == 4] ##[zone for zone in ds_mask.id.values if len(zone) == 4]\n",
    "fig,ax = plt.subplots(nrows = 1, ncols=1)#,figsize  = (15,10))\n",
    "X,Y = np.meshgrid( ds_mask.longitude.values.round(5),ds_mask.latitude.values.round(5))\n",
    "legende = string.ascii_lowercase\n",
    "ds_mask.sel(id='departement').mask.plot(ax=ax,add_colorbar=False)\n",
    "for izone,zone_select in enumerate(list_zones_sympos_initiales) :\n",
    "    mask_ref = ds_mask.sel(id = zone_select)\n",
    "    listMasks  = [ds_mask.sel(id=id_ref) for id_ref in list_zones_sympos_initiales if zone_select != id_ref]\n",
    "    list_neighbours = find_neighbours(mask_ref,listMasks)\n",
    "#     print(list_neighbours)\n",
    "    lst_mask_not_included, lst_mask_included = get_not_included_masks(mask_ref.mask, list_neighbours,ds_mask,flag_strictly_included=True)\n",
    "    for neighbours in lst_mask_not_included:\n",
    "        ind = np.where((mask_ref.mask.values == 1) & (ds_mask.sel(id=neighbours).mask.values == 1))\n",
    "        Xf = X[ind]\n",
    "        Yf = Y[ind]\n",
    "        if (zone_select == '3807' and neighbours == '3808') or\\\n",
    "            (zone_select == '3808' and neighbours == '3807'):\n",
    "                ax.plot(Xf[np.argsort(Xf)],Yf[np.argsort(Xf)],color='r',lw=2) #,ls='-.')\n",
    "#                 print('caca')\n",
    "        elif(zone_select == '3805' and neighbours == '3804') or\\\n",
    "            (zone_select == '3804' and neighbours == '3805'):\n",
    "            ax.plot(Xf[np.argsort(Xf)],Yf[np.argsort(Xf)],color='r',lw=3)\n",
    "        else: \n",
    "            ax.plot(Xf[np.argsort(Yf)],Yf[np.argsort(Yf)],color='r',lw=3) #,ls='-.')\n",
    "        if izone == 3:\n",
    "            Ylat,Xlat = 45.1,5.7\n",
    "        elif izone == 7:\n",
    "            Ylat,Xlat = 45.1,5.2\n",
    "        else: \n",
    "            indice_mask_ref = np.where(mask_ref.mask.values == 1)\n",
    "            Xlat,Ylat = X[indice_mask_ref].mean(),Y[indice_mask_ref].mean()\n",
    "        ax.text(Xlat,Ylat,s=legende[izone],color='r',fontsize=18)\n",
    "ax.set_title('Zones Sympos (dep:38)')        \n",
    "ax.set_xlabel('')\n",
    "ax.set_ylabel('')\n",
    "fig.savefig(dir_fig+'zonage_sympos_'+dep_id+'.png',dpi=400)"
   ]
  },
  {
   "cell_type": "code",
   "execution_count": 47,
   "metadata": {},
   "outputs": [
    {
     "data": {
      "text/plain": [
       "array([45.05, 45.08, 45.09, 45.1 , 45.11, 45.13, 45.14, 45.15, 45.16,\n",
       "       45.17, 45.18, 45.19, 45.2 , 45.21, 45.22, 45.23, 45.24, 45.25])"
      ]
     },
     "execution_count": 47,
     "metadata": {},
     "output_type": "execute_result"
    }
   ],
   "source": [
    "\n",
    "Xf = np.unique(X[ind])\n",
    "Yf = np.zeros(Xf.size)\n",
    "for i,y in enumerate(Xf): \n",
    "    index = np.argmin(np.abs(X[ind] - y))\n",
    "    Yf[i] = Y[ind][index]\n",
    "Yf"
   ]
  },
  {
   "cell_type": "code",
   "execution_count": null,
   "metadata": {},
   "outputs": [],
   "source": [
    "sys.exit()"
   ]
  },
  {
   "cell_type": "markdown",
   "metadata": {},
   "source": [
    "# plot simple du masque du département "
   ]
  },
  {
   "cell_type": "code",
   "execution_count": 37,
   "metadata": {},
   "outputs": [
    {
     "data": {
      "image/png": "[encoded data removed]",
      "text/plain": [
       "<Figure size 432x288 with 1 Axes>"
      ]
     },
     "metadata": {
      "needs_background": "light"
     },
     "output_type": "display_data"
    }
   ],
   "source": [
    "# plt.rcParams.update({'font.size': 18})\n",
    "fontsize = 18\n",
    "plt.rc('font', size=fontsize)          # controls default text sizes\n",
    "plt.rc('axes', titlesize=fontsize)     # fontsize of the axes title\n",
    "plt.rc('axes', labelsize=fontsize)    # fontsize of the x and y labels\n",
    "plt.rc('xtick', labelsize=fontsize)    # fontsize of the tick labels\n",
    "plt.rc('ytick', labelsize=fontsize)    # fontsize of the tick labels\n",
    "\n",
    "fig,ax = plt.subplots(nrows=1,ncols=1)\n",
    "ds_mask.sel(id='departement').mask.plot(ax=ax,add_colorbar=False) #cbar_kwargs={'label':''})\n",
    "ax.set_title(u'Département: {}'.format(dep_id))\n",
    "ax.set_xlabel('')\n",
    "ax.set_ylabel('')\n",
    "fig.savefig(dir_fig+'zonage_geo_'+dep_id+'.png',dpi=400)"
   ]
  },
  {
   "cell_type": "code",
   "execution_count": 34,
   "metadata": {},
   "outputs": [
    {
     "data": {
      "text/plain": [
       "0.38"
      ]
     },
     "execution_count": 34,
     "metadata": {},
     "output_type": "execute_result"
    }
   ],
   "source": [
    "(0.9-0.12)/3*1 + 0.12\n"
   ]
  }
 ],
 "metadata": {
  "kernelspec": {
   "display_name": "Python 3",
   "language": "python",
   "name": "python3"
  },
  "language_info": {
   "codemirror_mode": {
    "name": "ipython",
    "version": 3
   },
   "file_extension": ".py",
   "mimetype": "text/x-python",
   "name": "python",
   "nbconvert_exporter": "python",
   "pygments_lexer": "ipython3",
   "version": "3.8.1"
  }
 },
 "nbformat": 4,
 "nbformat_minor": 4
}
