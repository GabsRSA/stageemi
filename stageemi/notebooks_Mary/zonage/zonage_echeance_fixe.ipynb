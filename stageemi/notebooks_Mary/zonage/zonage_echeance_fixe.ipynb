{
 "cells": [
  {
   "cell_type": "code",
   "execution_count": 1,
   "metadata": {},
   "outputs": [],
   "source": [
    "# dans ce code on cherche à définir plusieurs zones à une échéance fixe\n",
    "# import sklearn.metrics\n",
    "import numpy as np\n",
    "import glob\n",
    "import xarray as xr \n",
    "import matplotlib.pyplot as plt \n",
    "import matplotlib.patches as mpatches\n",
    "import matplotlib.lines as mlines\n",
    "import matplotlib\n",
    "# import pandas as pd\n",
    "import time\n",
    "import glob\n",
    "import sys, os\n",
    "import string\n",
    "from pathlib import Path # pour windows \n",
    "sys.path.insert(0, os.path.abspath('./lib'))\n",
    "\n",
    "from lib import read_xarray, find_neighbours, conversion\n",
    "# from lib import hss,precision,far,f1, pod\n",
    "from lib import create_combination_subzones, create_nc_mask_NSEO\n",
    "from lib import group_masks_size, get_optimal_subzone, select_group_mask, get_WME_legend, get_not_included_masks\n",
    "from lib import calculate_distance\n"
   ]
  },
  {
   "cell_type": "code",
   "execution_count": null,
   "metadata": {},
   "outputs": [],
   "source": []
  },
  {
   "cell_type": "markdown",
   "metadata": {},
   "source": [
    "# lecture du mask"
   ]
  },
  {
   "cell_type": "code",
   "execution_count": 2,
   "metadata": {},
   "outputs": [
    {
     "name": "stdout",
     "output_type": "stream",
     "text": [
      "C:\\Users\\mary\\Desktop\\stageemi\\zones_sympo_multiples\\41_mask_zones_sympos.nc\n",
      "1.1917634010314941\n",
      "31\n"
     ]
    }
   ],
   "source": [
    "# 29 : Finistère (185), 34: Hérault (235 combi), 38: Isère (80 combi), 41: Loi-et-cher (27)\n",
    "# date   = '2019110400'\n",
    "# date   = '2019121200'\n",
    "# # date   = '2019122100'\n",
    "# dep_id = '38'#'29'#'41' #'38'#\n",
    "\n",
    "dep_id = '41'#'29'#'41' #'38'#\n",
    "date   = '2020012600'\n",
    "echeance = 4\n",
    "name = 'compas' # pour agreger le temps sensible\n",
    "windows = True \n",
    "score_zonage = 'hss'\n",
    "# echeance = 10\n",
    "\n",
    "mask_sympo = True\n",
    "mask_geographique = False\n",
    "\n",
    "dir_fig = 'C:\\\\Users\\\\mary\\\\Desktop\\\\stageemi\\\\figures\\\\'\n",
    "\n",
    "# mask_sympo = False\n",
    "# mask_geographique = True\n",
    "\n",
    "if mask_sympo and not mask_geographique: \n",
    "    t1 = time.time()\n",
    "    if windows : \n",
    "#         print('windows')\n",
    "        fname_out =  Path(r'C:\\\\Users\\\\mary\\\\Desktop\\\\stageemi\\\\zones_sympo_multiples\\\\'+ dep_id+'_mask_zones_sympos.nc')\n",
    "    else :         \n",
    "        fname_out = '/home/mrpa/borderiesm/stageEMI/Codes/StageEMI/Masques_netcdf/ZONE_SYMPO_MULTIPLE/'+ dep_id+'_mask_zones_sympos.nc'\n",
    "    if not os.path.exists(fname_out): \n",
    "        dir_mask = '/home/mrpa/borderiesm/stageEMI/Codes/StageEMI/Masques_netcdf/ZONE_SYMPO/'\n",
    "        list_subzones = glob.glob(dir_mask + dep_id +'*.nc')\n",
    "        n_subzones = len(list_subzones)  # nombre de zones sympos initiales\n",
    "        lst_subzones = [zone[-7:-3] for zone in list_subzones]\n",
    "        ds_mask = create_combination_subzones(dir_mask,dep_id,lst_subzones,fname_out,degre5=True) \n",
    "    else: \n",
    "        print(fname_out)\n",
    "        ds_mask = read_xarray(fname_out)\n",
    "    print(time.time() - t1)\n",
    "    \n",
    "if mask_geographique and not mask_sympo: \n",
    "    dir_mask  = '/home/mrpa/borderiesm/stageEMI/Codes/stageemi/stageemi/GeoData/nc_departement/'\n",
    "    if   dep_id == '38': dep = 'FRK24'\n",
    "    elif dep_id == '41': dep = 'FRB05'\n",
    "    elif dep_id == \"34\": dep = 'FRJ13'\n",
    "    elif dep_id == '29': dep = \"FRH02\"\n",
    "    else: \n",
    "        print('remplir la bonne valeur pour le dep')\n",
    "        sys.exit()\n",
    "        \n",
    "    dep_file  = dir_mask + dep +'.nc' \n",
    "    fname_out = '/home/mrpa/borderiesm/stageEMI/Codes/StageEMI/Masques_netcdf/ZONE_SYMPO_MULTIPLE/'+ dep_id+'_'+dep+'_mask_NSEO.nc'\n",
    "\n",
    "    if not os.path.exists(fname_out):\n",
    "        ds_mask = create_nc_mask_NSEO(dep_file,fname_out)\n",
    "    else:\n",
    "        print('fichier existe pas')\n",
    "#         ds_mask = read_xarray(fname_out) \n",
    "\n",
    "print(ds_mask.id.values.size)"
   ]
  },
  {
   "cell_type": "markdown",
   "metadata": {},
   "source": [
    "# lecture champs arome et groupement de certains temps sensibles "
   ]
  },
  {
   "cell_type": "code",
   "execution_count": 3,
   "metadata": {},
   "outputs": [
    {
     "name": "stdout",
     "output_type": "stream",
     "text": [
      "[ 2.  4.  8. 10. 14. 18.] ['Nuageux', 'Brume/Brouillard/Grisaille', 'Pluie', 'Neige', 'Averses', 'Orages']\n"
     ]
    }
   ],
   "source": [
    "if windows: \n",
    "    dir_in = 'C:\\\\Users\\\\mary\\\\Desktop\\\\stageemi\\\\WWMF\\\\' \n",
    "    fname = Path(dir_in +  date+'0000__PG0PAROME__'+'WWMF'+'__EURW1S100______GRILLE____0_48_1__SOL____GRIB2.nc')\n",
    "else:    \n",
    "    dir_in = '/scratch/labia/lepapeb/StageEMI/WWMF/'\n",
    "    fname  = dir_in + date+'0000__PG0PAROME__'+'WWMF'+'__EURW1S100______GRILLE____0_48_1__SOL____GRIB2.nc'\n",
    "    \n",
    "ds     = read_xarray(fname)\n",
    "ds.latitude.values = ds.latitude.values[::-1]\n",
    "if mask_sympo and not mask_geographique: \n",
    "    ds2plot = ds.isel(step=echeance) * ds_mask.mask.sel(id='departement') \n",
    "if mask_geographique and not mask_sympo: \n",
    "    ds2plot = ds.isel(step=echeance) * ds_mask.mask.sel(id=\"mask\") \n",
    "# ds2plot.unknown[ind] = 0 \n",
    "ds_WME = conversion(ds2plot,name) \n",
    "# on regroupe 'Très nuageux/Couvert' et 'Nuageux'\n",
    "ds_WME.wme_arr.values[(ds_WME.wme_arr.values == 2) \n",
    "                      + ((ds_WME.wme_arr.values == 3) )] = 2\n",
    "\n",
    "# on regroupe ensemble neige (10) et neige faible (7)\n",
    "ds_WME.wme_arr.values[(ds_WME.wme_arr.values == 7) \n",
    "                      + ((ds_WME.wme_arr.values == 10) )] = 10\n",
    "\n",
    "# on regroupe ensemble pluie (8) et pluie faible (6)\n",
    "ds_WME.wme_arr.values[(ds_WME.wme_arr.values == 6) \n",
    "                      + ((ds_WME.wme_arr.values == 8) )] = 8\n",
    "\n",
    "# on regroupe ensemble qlqs averses (12) et averses (14), et qlqs averses de neige (13)\n",
    "ds_WME.wme_arr.values[(ds_WME.wme_arr.values == 12) + (ds_WME.wme_arr.values == 13)\n",
    "                      + ((ds_WME.wme_arr.values == 14) )] = 14\n",
    "\n",
    "\n",
    "# on regroupe ensemble averses Orageuses (16) et Orages  (18)\n",
    "ds_WME.wme_arr.values[(ds_WME.wme_arr.values == 16) + ((ds_WME.wme_arr.values == 18) )] = 18\n",
    "\n",
    "del(ds,ds2plot)\n",
    "# ds_WME.wme_arr.plot.imshow()\n",
    "\n",
    "# on regarde les codes \n",
    "file_CodesWWMF = '../../utils/CodesWWMF.csv'\n",
    "cible_list,legend_list = get_WME_legend(file_CodesWWMF, ds_WME)\n",
    "print(cible_list,legend_list)"
   ]
  },
  {
   "cell_type": "code",
   "execution_count": 4,
   "metadata": {},
   "outputs": [
    {
     "data": {
      "text/plain": [
       "31"
      ]
     },
     "execution_count": 4,
     "metadata": {},
     "output_type": "execute_result"
    }
   ],
   "source": [
    "ds_mask.id.values.size"
   ]
  },
  {
   "cell_type": "markdown",
   "metadata": {},
   "source": [
    "# on selectionne les zones pour chaque departements"
   ]
  },
  {
   "cell_type": "code",
   "execution_count": 28,
   "metadata": {
    "scrolled": false
   },
   "outputs": [
    {
     "name": "stdout",
     "output_type": "stream",
     "text": [
      "18.0 4103 0.01726532328279625\n",
      "14.0 4101+4102 0.1920417282437521\n",
      "10.0 4104 0.00620821536179473\n",
      "pas de zones homogène pour 8.0\n",
      "-0.025103895053192635\n",
      "\n",
      "4.0 4105+4106 0.06964486738030945\n",
      "on a atteint la taille du departement\n",
      "toutes les zones sont bien décrites\n",
      "{18.0: '4103', 14.0: '4101+4102', 10.0: '4104', 4.0: '4105+4106'}\n"
     ]
    }
   ],
   "source": [
    "nsubzonesMax = 6\n",
    "listCible    = cible_list[::-1]\n",
    "\n",
    "listMasksNew = ds_mask.id.values # on commence avec l'ensemble des masks\n",
    "\n",
    "# liste de zones sympos initiales (pour checker à la fin si oui ou non on a une info sur toutes les zones)\n",
    "list_zones_sympos_initiales = [zone for zone in ds_mask.id.values if len(zone) == 4]\n",
    "\n",
    "nsubzones    = 0\n",
    "zones_cibles = {}\n",
    "score_zones_cibles = {}\n",
    "if len(listCible) == 0 : # si un département a le même temps sensible partout\n",
    "    zones_cibles[listCible[0]] = 'departement'\n",
    "else: \n",
    "    for icible,cible in enumerate(listCible):\n",
    "        if nsubzones > nsubzonesMax: \n",
    "            print('nombre de sous-zones trop grand')\n",
    "            break \n",
    "        if nsubzones >1: \n",
    "            # pour éviter que departement soit selectionné alors que des sous-zones de departement ont déjà été selectionnées.\n",
    "            listMasksNew = [element for element in listMasksNew if element !='departement']\n",
    "        if len(listMasksNew)>60:\n",
    "            #  on regroupe les masks selon leur taille\n",
    "            groupe1,groupe2,groupe3,taille1,taille2  = group_masks_size(listMasksNew,ds_mask)\n",
    "            # on selectionne le groupement de zones qui match l'objet météo\n",
    "            groupe_mask_select = select_group_mask(ds_WME,cible,groupe1,groupe2,groupe3,taille1,taille2)\n",
    "        else: \n",
    "            # on considère l'ensemble des masks\n",
    "            groupe_mask_select = ds_mask.mask.sel(id=listMasksNew)\n",
    "        # on selectionne la zone optimale (selon le score souhaité)\n",
    "#         print(groupe_mask_select.id.values)\n",
    "        zones_optimales, scores_zones_optimales = get_optimal_subzone(ds_WME, groupe_mask_select,cible)\n",
    "        score_zones_cibles[cible] = scores_zones_optimales[score_zonage]\n",
    "        \n",
    "        \"\"\"\n",
    "            Check sur le critère d'homogénéité, car s'il est trop bas -> pas de zones existantes qui caractérise le phénoméne cible\n",
    "        \"\"\"\n",
    "        if score_zones_cibles[cible]< 0 :\n",
    "            print('pas de zones homogène pour {}'.format(cible))\n",
    "            print(score_zones_cibles[cible])\n",
    "            print()\n",
    "            continue\n",
    "        else : \n",
    "            zones_cibles[cible] = zones_optimales[score_zonage]\n",
    "            nsubzones +=1\n",
    "        print(cible,zones_cibles[cible],score_zones_cibles[cible])\n",
    "\n",
    "        '''\n",
    "            on check que la somme des zones n'est pas deja egale au departement\n",
    "        '''\n",
    "        if  nsubzones== 1 : \n",
    "            ds_temp  = ds_mask.sel(id=zones_cibles[cible]).mask.copy()\n",
    "        else: \n",
    "            ds_temp.values[(ds_temp.values == 1) + (ds_mask.sel(id=zones_cibles[cible]).mask.values ==1) ] = 1\n",
    "\n",
    "        somme = np.sum((ds_temp.values == 1)&( ds_mask.sel(id='departement').mask.values== 1))\n",
    "        tailleDep = np.sum( ds_mask.sel(id='departement').mask.values== 1)\n",
    "        if somme == tailleDep: \n",
    "            print('on a atteint la taille du departement')\n",
    "            break\n",
    "        listMasksNew, lst_mask_included = get_not_included_masks(ds_mask.mask.sel(id=zones_optimales[score_zonage])\n",
    "                                        ,listMasksNew,ds_mask,flag_strictly_included=False)\n",
    "\n",
    "    '''\n",
    "        on vérifie que toutes les zones du département sont dans les zones sympos\n",
    "    '''\n",
    "    list_zones_select = [zones_cibles[cible] for cible in zones_cibles.keys()]\n",
    "    zones_restantes = []\n",
    "    for zone_sympo in list_zones_sympos_initiales:\n",
    "        n = 0\n",
    "        for zone_select in list_zones_select: \n",
    "            if zone_sympo in zone_select:\n",
    "                n+=1\n",
    "        if n == 0 : \n",
    "            zones_restantes.append(zone_sympo)\n",
    "    if len(zones_restantes) > 0: \n",
    "        print('zones restantes:',zones_restantes)\n",
    "    else:\n",
    "        print('toutes les zones sont bien décrites')\n",
    "        \n",
    "print(zones_cibles)    "
   ]
  },
  {
   "cell_type": "code",
   "execution_count": 24,
   "metadata": {},
   "outputs": [
    {
     "data": {
      "text/plain": [
       "'1'"
      ]
     },
     "execution_count": 24,
     "metadata": {},
     "output_type": "execute_result"
    }
   ],
   "source": [
    "listMasksNew[listMasksNew != 'departement']"
   ]
  },
  {
   "cell_type": "markdown",
   "metadata": {},
   "source": [
    "# pour brancher l'agrégation "
   ]
  },
  {
   "cell_type": "code",
   "execution_count": 29,
   "metadata": {
    "scrolled": true
   },
   "outputs": [
    {
     "name": "stdout",
     "output_type": "stream",
     "text": [
      "4103 18.0 14\n",
      "4101+4102 14.0 14\n",
      "4104 10.0 14\n",
      "4105+4106 4.0 2\n"
     ]
    }
   ],
   "source": [
    "name = \"compas\"\n",
    "temps_compas = {}\n",
    "for cible in zones_cibles.keys():\n",
    "    zone_select = zones_cibles[cible] \n",
    "    ds_zone = ds_WME * ds_mask.mask.sel(id=zone_select)#ds_WME.wme_arr.where(ds_mask.mask.sel(id=zone).values==1,drop=True)\n",
    "    ds_zone.wme_arr.values[ds_zone.wme_arr.values == 0] = np.nan\n",
    "    ds = calculate_distance(ds_zone,name)\n",
    "    print(zone_select,cible,ds.attrs[name])\n",
    "    temps_compas[zone_select] = ds.attrs[name] \n",
    "# dist_w[0]=np.asarray([np.sum(ds[w].isel(step=istep)) for iw,w in enumerate(list_w)])\n",
    "        "
   ]
  },
  {
   "cell_type": "code",
   "execution_count": 30,
   "metadata": {},
   "outputs": [],
   "source": [
    "name='agat'\n",
    "temps_agat = {}\n",
    "ds_w1 = conversion(ds_WME,name)\n",
    "for cible in zones_cibles.keys():\n",
    "    zone_select = zones_cibles[cible] \n",
    "    ds_zone = ds_w1 * ds_mask.mask.sel(id=zone_select)#ds_WME.wme_arr.where(ds_mask.mask.sel(id=zone).values==1,drop=True)\n",
    "    ds_zone.w1_arr.values[ds_zone.w1_arr.values == 0] = np.nan\n",
    "    ds = calculate_distance(ds_zone,name)\n",
    "    temps_agat[zone_select] = ds.attrs[name]\n",
    "        "
   ]
  },
  {
   "cell_type": "markdown",
   "metadata": {},
   "source": [
    "# plot des zones selectionnées "
   ]
  },
  {
   "cell_type": "code",
   "execution_count": 31,
   "metadata": {},
   "outputs": [],
   "source": [
    "matplotlib.rcParams['legend.handlelength'] = 0\n",
    "matplotlib.rcParams['legend.numpoints'] = 1\n",
    "\n",
    "X,Y = np.meshgrid( ds_mask.longitude.values,ds_mask.latitude.values)\n",
    "listMasks = [ds_mask.sel(id=id_ref) for id_ref in list_zones_sympos_initiales]\n",
    "\n",
    "legende = string.ascii_lowercase\n",
    "patches = []\n",
    "fig,ax = plt.subplots(nrows=1,ncols =1)\n",
    "ds_WME.wme_arr.plot.imshow(ax = ax,cmap=matplotlib.cm.tab20)\n",
    "ax.set_title(date+' + {} h'.format(echeance))\n",
    "# print(zones_cibles)\n",
    "for icible,cible in enumerate(zones_cibles): #['3801+3802']:#, '3806']:#zones_cibles:\n",
    "    zone_select = zones_cibles[cible] \n",
    "    mask_ref = ds_mask.sel(id = zone_select)\n",
    "\n",
    "    list_neighbours = find_neighbours(mask_ref,listMasks)\n",
    "    lst_mask_not_included, lst_mask_included = get_not_included_masks(mask_ref.mask, list_neighbours,ds_mask,flag_strictly_included=True)\n",
    "    for neighbours in lst_mask_not_included:\n",
    "        ind = np.where((mask_ref.mask.values == 1) & (ds_mask.sel(id=neighbours).mask.values == 1))\n",
    "        ax.scatter(X[ind],Y[ind],color='k',s=6)\n",
    "    \n",
    "    # ajout de la legende\n",
    "    indice_mask_ref = np.where(mask_ref.mask.values == 1)\n",
    "    ax.text(X[indice_mask_ref].mean(),Y[indice_mask_ref].mean(),s=legende[icible],color='k',fontsize=15)\n",
    "    label = zone_select +': '+ legend_list[::-1][icible] + ' ({})'.format(cible)\\\n",
    "            + ' Compas:{},'.format(temps_compas[zone_select])\\\n",
    "            + ' Agat:{}'.format(temps_agat[zone_select])\n",
    "#     patches.append(mpatches.Patch(label = legende[icible],marker='${}$'.format(legende[icible])))\n",
    "    patches.append(mlines.Line2D([],[],label = label,marker='${}$'.format(legende[icible]),color='black'))\n",
    "\n",
    "\n",
    "fig.legend(handles=patches,bbox_to_anchor=(1.05, 0.5), loc='center left',labelspacing =2,fontsize = 16)\n",
    "fig.tight_layout()\n",
    "fig.savefig(dir_fig + 'zonage\\\\zonage_'+dep_id+date+'_'+str(echeance)+'.png',dpi=400,bbox_inches='tight')\n",
    "plt.clf()\n",
    "plt.close('all')"
   ]
  },
  {
   "cell_type": "markdown",
   "metadata": {},
   "source": [
    "# idem mais avec les zones sympos"
   ]
  },
  {
   "cell_type": "code",
   "execution_count": null,
   "metadata": {},
   "outputs": [],
   "source": [
    "name = \"compas\"\n",
    "temps_compas_ref = {}\n",
    "for zone_select in list_zones_sympos_initiales:\n",
    "#     print(zone_select)\n",
    "    ds_zone = ds_WME * ds_mask.mask.sel(id=zone_select)#ds_WME.wme_arr.where(ds_mask.mask.sel(id=zone).values==1,drop=True)\n",
    "    ds_zone.wme_arr.values[ds_zone.wme_arr.values == 0] = np.nan\n",
    "    ds = calculate_distance(ds_zone,name)\n",
    "#     print(zone_select,cible,ds.attrs[name])\n",
    "    temps_compas_ref[zone_select] = ds.attrs[name] "
   ]
  },
  {
   "cell_type": "code",
   "execution_count": null,
   "metadata": {},
   "outputs": [],
   "source": [
    "legende = string.ascii_lowercase\n",
    "patches = []\n",
    "fig,ax = plt.subplots(nrows=1,ncols =1)\n",
    "ds_WME.wme_arr.plot.imshow(ax = ax,cmap=matplotlib.cm.tab20)\n",
    "ax.set_title(date+' + {} h'.format(echeance))\n",
    "# print(zones_cibles)\n",
    "\n",
    "for icible,zone_select in enumerate(list_zones_sympos_initiales): #['3801+3802']:#, '3806']:#zones_cibles:\n",
    "    mask_ref = ds_mask.sel(id = zone_select)\n",
    "\n",
    "    list_neighbours = find_neighbours(mask_ref,listMasks)\n",
    "    lst_mask_not_included, lst_mask_included = get_not_included_masks(mask_ref.mask, list_neighbours,ds_mask,flag_strictly_included=True)\n",
    "#     print(zone_select,cible)\n",
    "#     print(lst_mask_not_included)\n",
    "\n",
    "    for neighbours in lst_mask_not_included:\n",
    "        ind = np.where((mask_ref.mask.values == 1) & (ds_mask.sel(id=neighbours).mask.values == 1))\n",
    "        ax.scatter(X[ind],Y[ind],color='k',s=6)\n",
    "    \n",
    "    # ajout de la legende\n",
    "    indice_mask_ref = np.where(mask_ref.mask.values == 1)\n",
    "    ax.text(X[indice_mask_ref].mean(),Y[indice_mask_ref].mean(),s=legende[icible],color='k',fontsize=15)\n",
    "    label = zone_select +': ' + ' Compas:{},'.format(temps_compas_ref[zone_select])#\\\n",
    "#             + ' Agat:{}'.format(temps_agat[zone_select])\n",
    "#     patches.append(mpatches.Patch(label = legende[icible],marker='${}$'.format(legende[icible])))\n",
    "    patches.append(mlines.Line2D([],[],label = label,marker='${}$'.format(legende[icible]),color='black'))\n",
    "fig.legend(handles=patches,bbox_to_anchor=(1.05, 0.5), loc='center left',labelspacing =2,fontsize = 16,ncol=2)\n",
    "fig.tight_layout()\n",
    "fig.savefig(dir_fig + 'zonage\\\\zonage_ref_'+dep_id+date+'_'+str(echeance)+'.png',dpi=400,bbox_inches='tight')\n",
    "plt.clf()\n",
    "plt.close('all')"
   ]
  },
  {
   "cell_type": "code",
   "execution_count": null,
   "metadata": {},
   "outputs": [],
   "source": []
  }
 ],
 "metadata": {
  "kernelspec": {
   "display_name": "Python 3",
   "language": "python",
   "name": "python3"
  },
  "language_info": {
   "codemirror_mode": {
    "name": "ipython",
    "version": 3
   },
   "file_extension": ".py",
   "mimetype": "text/x-python",
   "name": "python",
   "nbconvert_exporter": "python",
   "pygments_lexer": "ipython3",
   "version": "3.8.1"
  }
 },
 "nbformat": 4,
 "nbformat_minor": 2
}
