{
 "cells": [
  {
   "cell_type": "code",
   "execution_count": 1,
   "metadata": {},
   "outputs": [],
   "source": [
    "# dans ce code on cherche à définir plusieurs zones à une échéance fixe\n",
    "# import sklearn.metrics\n",
    "import numpy as np\n",
    "import glob\n",
    "import xarray as xr \n",
    "import matplotlib.pyplot as plt \n",
    "import matplotlib.patches as mpatches\n",
    "import matplotlib.lines as mlines\n",
    "import matplotlib\n",
    "# import pandas as pd\n",
    "import time\n",
    "import glob\n",
    "import sys, os\n",
    "import string\n",
    "from pathlib import Path # pour windows \n",
    "sys.path.insert(0, os.path.abspath('./lib'))\n",
    "\n",
    "from lib import read_xarray, find_neighbours, conversion\n",
    "# from lib import hss,precision,far,f1, pod\n",
    "from lib import create_combination_subzones, create_nc_mask_NSEO\n",
    "from lib import group_masks_size, get_optimal_subzone, select_group_mask, get_WME_legend, get_not_included_masks\n",
    "from lib import calculate_distance\n"
   ]
  },
  {
   "cell_type": "code",
   "execution_count": null,
   "metadata": {},
   "outputs": [],
   "source": []
  },
  {
   "cell_type": "markdown",
   "metadata": {},
   "source": [
    "# lecture du mask"
   ]
  },
  {
   "cell_type": "code",
   "execution_count": 2,
   "metadata": {},
   "outputs": [
    {
     "name": "stdout",
     "output_type": "stream",
     "text": [
      "C:\\Users\\mary\\Desktop\\stageemi\\zones_sympo_multiples\\38_mask_zones_sympos.nc\n",
      "0.19949126243591309\n",
      "151\n"
     ]
    }
   ],
   "source": [
    "# 29 : Finistère (185), 34: Hérault (235 combi), 38: Isère (80 combi), 41: Loi-et-cher (27)\n",
    "# date   = '2019110400'\n",
    "# date   = '2019121200'\n",
    "# # date   = '2019122100'\n",
    "# dep_id = '38'#'29'#'41' #'38'#\n",
    "\n",
    "dep_id = '38'#'29'#'41' #'38'#\n",
    "date   = '2020012600'\n",
    "echeance = 44\n",
    "name = 'compas' # pour agreger le temps sensible\n",
    "windows = True \n",
    "score_zonage = 'hss'\n",
    "# echeance = 10\n",
    "\n",
    "mask_sympo = True\n",
    "mask_geographique = False\n",
    "\n",
    "dir_fig = 'C:\\\\Users\\\\mary\\\\Desktop\\\\stageemi\\\\figures\\\\'\n",
    "\n",
    "# mask_sympo = False\n",
    "# mask_geographique = True\n",
    "\n",
    "if mask_sympo and not mask_geographique: \n",
    "    t1 = time.time()\n",
    "    if windows : \n",
    "#         print('windows')\n",
    "        fname_out =  Path(r'C:\\\\Users\\\\mary\\\\Desktop\\\\stageemi\\\\zones_sympo_multiples\\\\'+ dep_id+'_mask_zones_sympos.nc')\n",
    "    else :         \n",
    "        fname_out = '/home/mrpa/borderiesm/stageEMI/Codes/StageEMI/Masques_netcdf/ZONE_SYMPO_MULTIPLE/'+ dep_id+'_mask_zones_sympos.nc'\n",
    "    if not os.path.exists(fname_out): \n",
    "        dir_mask = '/home/mrpa/borderiesm/stageEMI/Codes/StageEMI/Masques_netcdf/ZONE_SYMPO/'\n",
    "        list_subzones = glob.glob(dir_mask + dep_id +'*.nc')\n",
    "        n_subzones = len(list_subzones)  # nombre de zones sympos initiales\n",
    "        lst_subzones = [zone[-7:-3] for zone in list_subzones]\n",
    "        ds_mask = create_combination_subzones(dir_mask,dep_id,lst_subzones,fname_out,degre5=True) \n",
    "    else: \n",
    "        print(fname_out)\n",
    "        ds_mask = read_xarray(fname_out)\n",
    "    print(time.time() - t1)\n",
    "    \n",
    "if mask_geographique and not mask_sympo: \n",
    "    dir_mask  = '/home/mrpa/borderiesm/stageEMI/Codes/stageemi/stageemi/GeoData/nc_departement/'\n",
    "    if   dep_id == '38': dep = 'FRK24'\n",
    "    elif dep_id == '41': dep = 'FRB05'\n",
    "    elif dep_id == \"34\": dep = 'FRJ13'\n",
    "    elif dep_id == '29': dep = \"FRH02\"\n",
    "    else: \n",
    "        print('remplir la bonne valeur pour le dep')\n",
    "        sys.exit()\n",
    "        \n",
    "    dep_file  = dir_mask + dep +'.nc' \n",
    "    fname_out = '/home/mrpa/borderiesm/stageEMI/Codes/StageEMI/Masques_netcdf/ZONE_SYMPO_MULTIPLE/'+ dep_id+'_'+dep+'_mask_NSEO.nc'\n",
    "\n",
    "    if not os.path.exists(fname_out):\n",
    "        ds_mask = create_nc_mask_NSEO(dep_file,fname_out)\n",
    "    else:\n",
    "        print('fichier existe pas')\n",
    "#         ds_mask = read_xarray(fname_out) \n",
    "\n",
    "print(ds_mask.id.values.size)"
   ]
  },
  {
   "cell_type": "markdown",
   "metadata": {},
   "source": [
    "# lecture champs arome et groupement de certains temps sensibles "
   ]
  },
  {
   "cell_type": "code",
   "execution_count": 3,
   "metadata": {},
   "outputs": [
    {
     "name": "stdout",
     "output_type": "stream",
     "text": [
      "avant:\n",
      "[ 3.  4.  6.  7. 10. 12. 13.] ['Très nuageux/Couvert', 'Brume/Brouillard/Grisaille', 'Pluie faible', 'Neige faible', 'Neige', 'Quelques averses', 'Quelques averses de neige']\n",
      "[ 2.  4.  8. 10. 14.] ['Nuageux', 'Brume/Brouillard/Grisaille', 'Pluie', 'Neige', 'Averses']\n"
     ]
    }
   ],
   "source": [
    "if windows: \n",
    "    dir_in = 'C:\\\\Users\\\\mary\\\\Desktop\\\\stageemi\\\\WWMF\\\\' \n",
    "    fname = Path(dir_in +  date+'0000__PG0PAROME__'+'WWMF'+'__EURW1S100______GRILLE____0_48_1__SOL____GRIB2.nc')\n",
    "else:    \n",
    "    dir_in = '/scratch/labia/lepapeb/StageEMI/WWMF/'\n",
    "    fname  = dir_in + date+'0000__PG0PAROME__'+'WWMF'+'__EURW1S100______GRILLE____0_48_1__SOL____GRIB2.nc'\n",
    "    \n",
    "ds     = read_xarray(fname)\n",
    "ds.latitude.values = ds.latitude.values[::-1]\n",
    "if mask_sympo and not mask_geographique: \n",
    "    ds2plot = ds.isel(step=echeance) * ds_mask.mask.sel(id='departement') \n",
    "if mask_geographique and not mask_sympo: \n",
    "    ds2plot = ds.isel(step=echeance) * ds_mask.mask.sel(id=\"mask\") \n",
    "# ds2plot.unknown[ind] = 0  \n",
    "for name in ['compas','compas_asym']:\n",
    "    ds_WME = conversion(ds2plot,name) \n",
    "\n",
    "file_CodesWWMF = '../../utils/CodesWWMF.csv'\n",
    "cible_list,legend_list = get_WME_legend(file_CodesWWMF, ds_WME)\n",
    "print('avant:')\n",
    "print(cible_list,legend_list)\n",
    "for var_name in ['wme_arr']:#,'wme_asym_arr']:\n",
    "    # on regroupe 'Très nuageux/Couvert' et 'Nuageux'\n",
    "    ds_WME[var_name].values[(ds_WME[var_name].values == 2) \n",
    "                          + ((ds_WME[var_name].values == 3) )] = 2\n",
    "\n",
    "    # on regroupe ensemble neige (10) et neige faible (7)\n",
    "    ds_WME[var_name].values[(ds_WME[var_name].values == 7) \n",
    "                          + ((ds_WME[var_name].values == 10) )] = 10\n",
    "\n",
    "    # on regroupe ensemble pluie (8) et pluie faible (6)\n",
    "    ds_WME[var_name].values[(ds_WME[var_name].values == 6) \n",
    "                          + ((ds_WME[var_name].values == 8) )] = 8\n",
    "\n",
    "    # on regroupe ensemble qlqs averses (12) et averses (14), et qlqs averses de neige (13)\n",
    "    ds_WME[var_name].values[(ds_WME[var_name].values == 12) + (ds_WME[var_name].values == 13)\n",
    "                          + ((ds_WME[var_name].values == 14) )] = 14\n",
    "\n",
    "    # on regroupe ensemble averses Orageuses (16) et Orages  (18)\n",
    "    ds_WME[var_name].values[(ds_WME[var_name].values == 16) + ((ds_WME[var_name].values == 18) )] = 18\n",
    "\n",
    "del(ds,ds2plot)\n",
    "# ds_WME.wme_arr.plot.imshow()\n",
    "\n",
    "# on regarde les codes \n",
    "cible_list,legend_list = get_WME_legend(file_CodesWWMF, ds_WME)\n",
    "print(cible_list,legend_list)"
   ]
  },
  {
   "cell_type": "markdown",
   "metadata": {},
   "source": [
    "# on selectionne les zones pour chaque departements"
   ]
  },
  {
   "cell_type": "code",
   "execution_count": 4,
   "metadata": {
    "scrolled": false
   },
   "outputs": [
    {
     "name": "stdout",
     "output_type": "stream",
     "text": [
      "3207.0 6292.0\n",
      "objet dans groupe 1\n",
      "14.0 3805 0.2674579275808247\n",
      "2908.0 6078.0\n",
      "objet dans groupe 1\n",
      "10.0 3801+3802 0.6469550224094083\n",
      "8.0 3804+3807+3808 0.41587897140111457\n",
      "4.0 3806 0.033902871292954044\n",
      "2.0 3803 0.11039827792516424\n",
      "on a atteint la taille du departement\n",
      "toutes les zones sont bien décrites\n",
      "{14.0: '3805', 10.0: '3801+3802', 8.0: '3804+3807+3808', 4.0: '3806', 2.0: '3803'}\n"
     ]
    }
   ],
   "source": [
    "nsubzonesMax = 6\n",
    "listCible    = cible_list[::-1]\n",
    "\n",
    "listMasksNew = ds_mask.id.values # on commence avec l'ensemble des masks\n",
    "\n",
    "# liste de zones sympos initiales (pour checker à la fin si oui ou non on a une info sur toutes les zones)\n",
    "list_zones_sympos_initiales = [zone for zone in ds_mask.id.values if len(zone) == 4]\n",
    "\n",
    "nsubzones    = 0\n",
    "zones_cibles = {}\n",
    "score_zones_cibles = {}\n",
    "if len(listCible) == 0 : # si un département a le même temps sensible partout\n",
    "    zones_cibles[listCible[0]] = 'departement'\n",
    "else: \n",
    "    for icible,cible in enumerate(listCible):\n",
    "        if nsubzones > nsubzonesMax: \n",
    "            print('nombre de sous-zones trop grand')\n",
    "            break \n",
    "        if nsubzones >1: \n",
    "            # pour éviter que departement soit selectionné alors que des sous-zones de departement ont déjà été selectionnées.\n",
    "            listMasksNew = [element for element in listMasksNew if element !='departement']\n",
    "        if len(listMasksNew)>60:\n",
    "            #  on regroupe les masks selon leur taille\n",
    "            groupe1,groupe2,groupe3,taille1,taille2  = group_masks_size(listMasksNew,ds_mask)\n",
    "            # on selectionne le groupement de zones qui match l'objet météo\n",
    "            groupe_mask_select = select_group_mask(ds_WME,cible,groupe1,groupe2,groupe3,taille1,taille2)\n",
    "        else: \n",
    "            # on considère l'ensemble des masks\n",
    "            groupe_mask_select = ds_mask.mask.sel(id=listMasksNew)\n",
    "        # on selectionne la zone optimale (selon le score souhaité)\n",
    "#         print(groupe_mask_select.id.values)\n",
    "        zones_optimales, scores_zones_optimales = get_optimal_subzone(ds_WME, groupe_mask_select,cible)\n",
    "        score_zones_cibles[cible] = scores_zones_optimales[score_zonage]\n",
    "        \n",
    "        \"\"\"\n",
    "            Check sur le critère d'homogénéité, car s'il est trop bas -> pas de zones existantes qui caractérise le phénoméne cible\n",
    "        \"\"\"\n",
    "        if score_zones_cibles[cible]< 0 :\n",
    "            print('pas de zones homogène pour {}'.format(cible))\n",
    "            print(score_zones_cibles[cible])\n",
    "            print()\n",
    "            continue\n",
    "        else : \n",
    "            zones_cibles[cible] = zones_optimales[score_zonage]\n",
    "            nsubzones +=1\n",
    "        print(cible,zones_cibles[cible],score_zones_cibles[cible])\n",
    "\n",
    "        '''\n",
    "            on check que la somme des zones n'est pas deja egale au departement\n",
    "        '''\n",
    "        if  nsubzones== 1 : \n",
    "            ds_temp  = ds_mask.sel(id=zones_cibles[cible]).mask.copy()\n",
    "        else: \n",
    "            ds_temp.values[(ds_temp.values == 1) + (ds_mask.sel(id=zones_cibles[cible]).mask.values ==1) ] = 1\n",
    "\n",
    "        somme = np.sum((ds_temp.values == 1)&( ds_mask.sel(id='departement').mask.values== 1))\n",
    "        tailleDep = np.sum( ds_mask.sel(id='departement').mask.values== 1)\n",
    "        if somme == tailleDep: \n",
    "            print('on a atteint la taille du departement')\n",
    "            break\n",
    "        listMasksNew, lst_mask_included = get_not_included_masks(ds_mask.mask.sel(id=zones_optimales[score_zonage])\n",
    "                                        ,listMasksNew,ds_mask,flag_strictly_included=False)\n",
    "\n",
    "    '''\n",
    "        on vérifie que toutes les zones du département sont dans les zones sympos\n",
    "    '''\n",
    "    list_zones_select = [zones_cibles[cible] for cible in zones_cibles.keys()]\n",
    "    zones_restantes = []\n",
    "    for zone_sympo in list_zones_sympos_initiales:\n",
    "        n = 0\n",
    "        for zone_select in list_zones_select: \n",
    "            if zone_sympo in zone_select:\n",
    "                n+=1\n",
    "        if n == 0 : \n",
    "            zones_restantes.append(zone_sympo)\n",
    "    if len(zones_restantes) > 0: \n",
    "        print('zones restantes:',zones_restantes)\n",
    "    else:\n",
    "        print('toutes les zones sont bien décrites')\n",
    "        \n",
    "print(zones_cibles)    "
   ]
  },
  {
   "cell_type": "markdown",
   "metadata": {},
   "source": [
    "# pour brancher l'agrégation "
   ]
  },
  {
   "cell_type": "code",
   "execution_count": 5,
   "metadata": {
    "scrolled": true
   },
   "outputs": [],
   "source": [
    "# name = \"compas\"\n",
    "# temps_compas = {}\n",
    "# for cible in zones_cibles.keys():\n",
    "#     zone_select = zones_cibles[cible] \n",
    "#     ds_zone = ds_WME * ds_mask.mask.sel(id=zone_select)#ds_WME.wme_arr.where(ds_mask.mask.sel(id=zone).values==1,drop=True)\n",
    "#     ds_zone.wme_arr.values[ds_zone.wme_arr.values == 0] = np.nan\n",
    "#     ds = calculate_distance(ds_zone,name)\n",
    "#     print(zone_select,cible,ds.attrs[name])\n",
    "#     temps_compas[zone_select] = ds.attrs[name] \n",
    "# # dist_w[0]=np.asarray([np.sum(ds[w].isel(step=istep)) for iw,w in enumerate(list_w)])\n",
    "        "
   ]
  },
  {
   "cell_type": "code",
   "execution_count": 6,
   "metadata": {},
   "outputs": [
    {
     "name": "stdout",
     "output_type": "stream",
     "text": [
      "compas\n",
      "3805 14.0 14\n",
      "3801+3802 10.0 10\n",
      "3804+3807+3808 8.0 8\n",
      "3806 4.0 14\n",
      "3803 2.0 14\n",
      "\n",
      "compas_asym\n",
      "3805 14.0 13\n",
      "3801+3802 10.0 7\n",
      "3804+3807+3808 8.0 6\n",
      "3806 4.0 3\n",
      "3803 2.0 6\n",
      "\n"
     ]
    }
   ],
   "source": [
    "# sys.exit()\n",
    "temps_agrege = {}\n",
    "for name in ['compas','compas_asym']:\n",
    "    print(name)\n",
    "    temps_agrege[name] = {}\n",
    "#     ds_w1 = conversion(ds_WME,name)\n",
    "    for cible in zones_cibles.keys():\n",
    "        zone_select = zones_cibles[cible] \n",
    "        ds_zone = ds_WME * ds_mask.mask.sel(id=zone_select)#ds_WME.wme_arr.where(ds_mask.mask.sel(id=zone).values==1,drop=True)\n",
    "        if name == 'compas':\n",
    "            var_name = \"wme_arr\"\n",
    "        if name == 'agat':\n",
    "            var_name=\"w1_arr\" \n",
    "        if name == \"compas_asym\":\n",
    "            var_name=\"wme_asym_arr\"\n",
    "        if name == 'agat_asym':\n",
    "            var_name=\"w1_asym_arr\"\n",
    "        ds_zone[var_name].values[ds_zone[var_name].values == 0] = np.nan        \n",
    "        ds = calculate_distance(ds_zone,name)\n",
    "        temps_agrege[zone_select] = ds.attrs[name]\n",
    "        print(zone_select,cible,ds.attrs[name])   \n",
    "    print('')"
   ]
  },
  {
   "cell_type": "code",
   "execution_count": null,
   "metadata": {},
   "outputs": [],
   "source": []
  },
  {
   "cell_type": "markdown",
   "metadata": {},
   "source": [
    "# plot des zones selectionnées "
   ]
  },
  {
   "cell_type": "code",
   "execution_count": 7,
   "metadata": {},
   "outputs": [
    {
     "ename": "KeyError",
     "evalue": "'3805'",
     "output_type": "error",
     "traceback": [
      "\u001b[1;31m---------------------------------------------------------------------------\u001b[0m",
      "\u001b[1;31mKeyError\u001b[0m                                  Traceback (most recent call last)",
      "\u001b[1;32m<ipython-input-7-4c26a51f03e6>\u001b[0m in \u001b[0;36m<module>\u001b[1;34m\u001b[0m\n\u001b[0;32m     25\u001b[0m     \u001b[0max\u001b[0m\u001b[1;33m.\u001b[0m\u001b[0mtext\u001b[0m\u001b[1;33m(\u001b[0m\u001b[0mX\u001b[0m\u001b[1;33m[\u001b[0m\u001b[0mindice_mask_ref\u001b[0m\u001b[1;33m]\u001b[0m\u001b[1;33m.\u001b[0m\u001b[0mmean\u001b[0m\u001b[1;33m(\u001b[0m\u001b[1;33m)\u001b[0m\u001b[1;33m,\u001b[0m\u001b[0mY\u001b[0m\u001b[1;33m[\u001b[0m\u001b[0mindice_mask_ref\u001b[0m\u001b[1;33m]\u001b[0m\u001b[1;33m.\u001b[0m\u001b[0mmean\u001b[0m\u001b[1;33m(\u001b[0m\u001b[1;33m)\u001b[0m\u001b[1;33m,\u001b[0m\u001b[0ms\u001b[0m\u001b[1;33m=\u001b[0m\u001b[0mlegende\u001b[0m\u001b[1;33m[\u001b[0m\u001b[0micible\u001b[0m\u001b[1;33m]\u001b[0m\u001b[1;33m,\u001b[0m\u001b[0mcolor\u001b[0m\u001b[1;33m=\u001b[0m\u001b[1;34m'k'\u001b[0m\u001b[1;33m,\u001b[0m\u001b[0mfontsize\u001b[0m\u001b[1;33m=\u001b[0m\u001b[1;36m15\u001b[0m\u001b[1;33m)\u001b[0m\u001b[1;33m\u001b[0m\u001b[1;33m\u001b[0m\u001b[0m\n\u001b[0;32m     26\u001b[0m     \u001b[0mlabel\u001b[0m \u001b[1;33m=\u001b[0m \u001b[0mzone_select\u001b[0m \u001b[1;33m+\u001b[0m\u001b[1;34m': '\u001b[0m\u001b[1;33m+\u001b[0m \u001b[0mlegend_list\u001b[0m\u001b[1;33m[\u001b[0m\u001b[1;33m:\u001b[0m\u001b[1;33m:\u001b[0m\u001b[1;33m-\u001b[0m\u001b[1;36m1\u001b[0m\u001b[1;33m]\u001b[0m\u001b[1;33m[\u001b[0m\u001b[0micible\u001b[0m\u001b[1;33m]\u001b[0m \u001b[1;33m+\u001b[0m \u001b[1;34m' ({})'\u001b[0m\u001b[1;33m.\u001b[0m\u001b[0mformat\u001b[0m\u001b[1;33m(\u001b[0m\u001b[0mcible\u001b[0m\u001b[1;33m)\u001b[0m\u001b[0;31m\\\u001b[0m\u001b[1;33m\u001b[0m\u001b[1;33m\u001b[0m\u001b[0m\n\u001b[1;32m---> 27\u001b[1;33m             \u001b[1;33m+\u001b[0m \u001b[1;34m' Compas:{},'\u001b[0m\u001b[1;33m.\u001b[0m\u001b[0mformat\u001b[0m\u001b[1;33m(\u001b[0m\u001b[0mtemps_agrege\u001b[0m\u001b[1;33m[\u001b[0m\u001b[1;34m'compas'\u001b[0m\u001b[1;33m]\u001b[0m\u001b[1;33m[\u001b[0m\u001b[0mzone_select\u001b[0m\u001b[1;33m]\u001b[0m\u001b[1;33m)\u001b[0m\u001b[0;31m\\\u001b[0m\u001b[1;33m\u001b[0m\u001b[1;33m\u001b[0m\u001b[0m\n\u001b[0m\u001b[0;32m     28\u001b[0m             \u001b[1;33m+\u001b[0m \u001b[1;34m' Compas Asym:{}'\u001b[0m\u001b[1;33m.\u001b[0m\u001b[0mformat\u001b[0m\u001b[1;33m(\u001b[0m\u001b[0mtemps_agrege\u001b[0m\u001b[1;33m[\u001b[0m\u001b[1;34m'compas'\u001b[0m\u001b[1;33m]\u001b[0m\u001b[1;33m[\u001b[0m\u001b[0mzone_select\u001b[0m\u001b[1;33m]\u001b[0m\u001b[1;33m)\u001b[0m\u001b[1;33m\u001b[0m\u001b[1;33m\u001b[0m\u001b[0m\n\u001b[0;32m     29\u001b[0m     \u001b[1;31m#        + ' Agat:{}'.format(temps_agat[zone_select])\u001b[0m\u001b[1;33m\u001b[0m\u001b[1;33m\u001b[0m\u001b[1;33m\u001b[0m\u001b[0m\n",
      "\u001b[1;31mKeyError\u001b[0m: '3805'"
     ]
    },
    {
     "data": {
      "image/png": "[encoded data removed]",
      "text/plain": [
       "<Figure size 432x288 with 2 Axes>"
      ]
     },
     "metadata": {
      "needs_background": "light"
     },
     "output_type": "display_data"
    }
   ],
   "source": [
    "matplotlib.rcParams['legend.handlelength'] = 0\n",
    "matplotlib.rcParams['legend.numpoints'] = 1\n",
    "\n",
    "X,Y = np.meshgrid( ds_mask.longitude.values,ds_mask.latitude.values)\n",
    "listMasks = [ds_mask.sel(id=id_ref) for id_ref in list_zones_sympos_initiales]\n",
    "\n",
    "legende = string.ascii_lowercase\n",
    "patches = []\n",
    "fig,ax = plt.subplots(nrows=1,ncols =1)\n",
    "ds_WME.wme_arr.plot.imshow(ax = ax,cmap=matplotlib.cm.tab20)\n",
    "ax.set_title(date+' + {} h'.format(echeance))\n",
    "# print(zones_cibles)\n",
    "for icible,cible in enumerate(zones_cibles): #['3801+3802']:#, '3806']:#zones_cibles:\n",
    "    zone_select = zones_cibles[cible] \n",
    "    mask_ref = ds_mask.sel(id = zone_select)\n",
    "\n",
    "    list_neighbours = find_neighbours(mask_ref,listMasks)\n",
    "    lst_mask_not_included, lst_mask_included = get_not_included_masks(mask_ref.mask, list_neighbours,ds_mask,flag_strictly_included=True)\n",
    "    for neighbours in lst_mask_not_included:\n",
    "        ind = np.where((mask_ref.mask.values == 1) & (ds_mask.sel(id=neighbours).mask.values == 1))\n",
    "        ax.scatter(X[ind],Y[ind],color='k',s=6)\n",
    "    \n",
    "    # ajout de la legende\n",
    "    indice_mask_ref = np.where(mask_ref.mask.values == 1)\n",
    "    ax.text(X[indice_mask_ref].mean(),Y[indice_mask_ref].mean(),s=legende[icible],color='k',fontsize=15)\n",
    "    label = zone_select +': '+ legend_list[::-1][icible] + ' ({})'.format(cible)\\\n",
    "            + ' Compas:{},'.format(temps_agrege['compas'][zone_select])\\\n",
    "            + ' Compas Asym:{}'.format(temps_agrege['compas'][zone_select])\n",
    "    #        + ' Agat:{}'.format(temps_agat[zone_select])\n",
    "#     patches.append(mpatches.Patch(label = legende[icible],marker='${}$'.format(legende[icible])))\n",
    "    patches.append(mlines.Line2D([],[],label = label,marker='${}$'.format(legende[icible]),color='black'))\n",
    "\n",
    "\n",
    "fig.legend(handles=patches,bbox_to_anchor=(1.05, 0.5), loc='center left',labelspacing =2,fontsize = 16)\n",
    "fig.tight_layout()\n",
    "fname_fig = dir_fig + 'zonage\\\\compas_compas_asym\\\\zonage_'+dep_id+date+'_'+str(echeance)+'.png'\n",
    "print(fname_fig)\n",
    "fig.savefig(fname_fig,dpi=400,bbox_inches='tight')\n",
    "plt.clf()\n",
    "plt.close('all')\n",
    "\n"
   ]
  },
  {
   "cell_type": "markdown",
   "metadata": {},
   "source": [
    "# idem mais avec les zones sympos"
   ]
  },
  {
   "cell_type": "code",
   "execution_count": null,
   "metadata": {},
   "outputs": [],
   "source": [
    "sys.exit()\n",
    "name = \"compas\"\n",
    "temps_compas_ref = {}\n",
    "for zone_select in list_zones_sympos_initiales:\n",
    "#     print(zone_select)\n",
    "    ds_zone = ds_WME * ds_mask.mask.sel(id=zone_select)#ds_WME.wme_arr.where(ds_mask.mask.sel(id=zone).values==1,drop=True)\n",
    "    ds_zone.wme_arr.values[ds_zone.wme_arr.values == 0] = np.nan\n",
    "    ds = calculate_distance(ds_zone,name)\n",
    "#     print(zone_select,cible,ds.attrs[name])\n",
    "    temps_compas_ref[zone_select] = ds.attrs[name] "
   ]
  },
  {
   "cell_type": "code",
   "execution_count": null,
   "metadata": {},
   "outputs": [],
   "source": [
    "legende = string.ascii_lowercase\n",
    "patches = []\n",
    "fig,ax = plt.subplots(nrows=1,ncols =1)\n",
    "ds_WME.wme_arr.plot.imshow(ax = ax,cmap=matplotlib.cm.tab20)\n",
    "ax.set_title(date+' + {} h'.format(echeance))\n",
    "# print(zones_cibles)\n",
    "\n",
    "for icible,zone_select in enumerate(list_zones_sympos_initiales): #['3801+3802']:#, '3806']:#zones_cibles:\n",
    "    mask_ref = ds_mask.sel(id = zone_select)\n",
    "\n",
    "    list_neighbours = find_neighbours(mask_ref,listMasks)\n",
    "    lst_mask_not_included, lst_mask_included = get_not_included_masks(mask_ref.mask, list_neighbours,ds_mask,flag_strictly_included=True)\n",
    "#     print(zone_select,cible)\n",
    "#     print(lst_mask_not_included)\n",
    "\n",
    "    for neighbours in lst_mask_not_included:\n",
    "        ind = np.where((mask_ref.mask.values == 1) & (ds_mask.sel(id=neighbours).mask.values == 1))\n",
    "        ax.scatter(X[ind],Y[ind],color='k',s=6)\n",
    "    \n",
    "    # ajout de la legende\n",
    "    indice_mask_ref = np.where(mask_ref.mask.values == 1)\n",
    "    ax.text(X[indice_mask_ref].mean(),Y[indice_mask_ref].mean(),s=legende[icible],color='k',fontsize=15)\n",
    "    label = zone_select +': ' + ' Compas:{},'.format(temps_compas_ref[zone_select])#\\\n",
    "#             + ' Agat:{}'.format(temps_agat[zone_select])\n",
    "#     patches.append(mpatches.Patch(label = legende[icible],marker='${}$'.format(legende[icible])))\n",
    "    patches.append(mlines.Line2D([],[],label = label,marker='${}$'.format(legende[icible]),color='black'))\n",
    "fig.legend(handles=patches,bbox_to_anchor=(1.05, 0.5), loc='center left',labelspacing =2,fontsize = 16,ncol=2)\n",
    "fig.tight_layout()\n",
    "fig.savefig(dir_fig + 'zonage\\\\zonage_ref_'+dep_id+date+'_'+str(echeance)+'.png',dpi=400,bbox_inches='tight')\n",
    "plt.clf()\n",
    "plt.close('all')"
   ]
  },
  {
   "cell_type": "markdown",
   "metadata": {},
   "source": []
  }
 ],
 "metadata": {
  "kernelspec": {
   "display_name": "Python 3",
   "language": "python",
   "name": "python3"
  },
  "language_info": {
   "codemirror_mode": {
    "name": "ipython",
    "version": 3
   },
   "file_extension": ".py",
   "mimetype": "text/x-python",
   "name": "python",
   "nbconvert_exporter": "python",
   "pygments_lexer": "ipython3",
   "version": "3.8.1"
  }
 },
 "nbformat": 4,
 "nbformat_minor": 2
}
