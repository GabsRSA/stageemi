{
 "cells": [
  {
   "cell_type": "code",
   "execution_count": 2,
   "metadata": {},
   "outputs": [],
   "source": [
    "import stageemi.dev.decorator_map as dm\n",
    "import xarray as xr \n",
    "import ipywidgets as widg\n",
    "import ipyleaflet as ipyl\n",
    "import datetime as dt\n",
    "import os \n",
    "import numpy as np\n",
    "import shapely\n",
    "from stageemi.dev.visu import Borders,Map\n",
    "import geojson\n",
    "from ipyleaflet import WidgetControl,LayersControl,Marker, Popup\n",
    "import pandas \n",
    "import glob\n"
   ]
  },
  {
   "cell_type": "code",
   "execution_count": 4,
   "metadata": {},
   "outputs": [
    {
     "name": "stdout",
     "output_type": "stream",
     "text": [
      "/scratch/labia/lepapeb/StageEMI/WWMF/20191104000000__PG0PAROME__WWMF__EURW1S100______GRILLE____0_48_1__SOL____GRIB2.nc\n"
     ]
    }
   ],
   "source": [
    "var2plot = \"WWMF\"\n",
    "mask = '38' #['FRB05',\"FRH02\",'FRJ13','FRK24']\n",
    "date = \"2019110400\"\n",
    "\n",
    "dir_in = '/scratch/labia/lepapeb/StageEMI/'+var2plot+'/'\n",
    "\n",
    "fname  = dir_in + date+'0000__PG0PAROME__'+var2plot+'__EURW1S100______GRILLE____0_48_1__SOL____GRIB2.nc'\n",
    "ds     = xr.open_dataset(fname)\n",
    "ds['latitude']  = ds['latitude'].round(5)\n",
    "ds['longitude'] = ds['longitude'].round(5)\n",
    "print(fname)"
   ]
  },
  {
   "cell_type": "code",
   "execution_count": 5,
   "metadata": {
    "scrolled": true
   },
   "outputs": [
    {
     "data": {
      "image/png": "[encoded data removed]",
      "text/plain": [
       "<Figure size 1440x360 with 12 Axes>"
      ]
     },
     "metadata": {
      "needs_background": "light"
     },
     "output_type": "display_data"
    }
   ],
   "source": [
    "# Lecture des codes WWMF pour chercher le temps majoritaire\n",
    "file_CodesWWMF = '/home/mrpa/borderiesm/stageEMI/Codes/stageemi/stageemi/utils/CodesWWMF.csv'\n",
    "df = pandas.read_csv(file_CodesWWMF,usecols = (0,1),sep=',')\n",
    "legende_WWMF = df['Legende WWMF'].to_numpy()\n",
    "code_WWMF    = df['Code WWMF'].to_numpy()\n",
    "\n",
    "subzone     = '/home/mrpa/borderiesm/stageEMI/Codes/StageEMI/Masques_netcdf/ZONE_SYMPO/3808.nc'\n",
    "ds_mask_sub = xr.open_dataset(subzone)\n",
    "ds_mask_sub[\"latitude\"]=ds_mask_sub[\"latitude\"].round(5)\n",
    "ds_mask_sub[\"longitude\"]=ds_mask_sub[\"longitude\"].round(5)\n",
    "data = ds_mask_sub[\"mask\"].isel(id=0) * ds\n",
    "\n",
    "def  WWMF_majoritaire(data, code_WWMF,legende_WWMF):\n",
    "    occurence_WWMF   = np.asarray([np.sum(data == code_WWMF[i]) for i in range(code_WWMF.size)])\n",
    "    WWMF_code_majoritaire = code_WWMF[occurence_WWMF.argmax()]\n",
    "    WWMF_leg_majoritaire  = legende_WWMF[occurence_WWMF.argmax()]\n",
    "#     print(np.sort(occurence_WWMF)[::-1])\n",
    "#     print(np.argsort(occurence_WWMF)[::-1])\n",
    "    return WWMF_code_majoritaire, WWMF_leg_majoritaire\n",
    "\n",
    "import matplotlib.pyplot as plt\n",
    "fig,axes = plt.subplots(nrows=2,ncols = 3,figsize=(20,5))\n",
    "ax = axes.flat\n",
    "for i,istep in enumerate(range(0,24,4)):\n",
    "    val = data['unknown'].isel(step=istep).copy()\n",
    "    code,leg = WWMF_majoritaire(val.values, code_WWMF,legende_WWMF)\n",
    "    val.plot.imshow(ax=ax[i],levels=range(0,10))\n",
    "    ax[i].set_title(leg+' ' + str(code),fontsize=15)\n",
    "\n",
    "fig.tight_layout()\n",
    "# fig.savefig('/home/mrpa/borderiesm/stageEMI/fig/'+date +ds_mask_sub[\"mask\"].attrs[\"name\"]+ '.png',dpi=400)\n",
    "# plt.clf()\n",
    "# plt.close('all')"
   ]
  },
  {
   "cell_type": "code",
   "execution_count": 61,
   "metadata": {},
   "outputs": [],
   "source": [
    "# pour ploter: \n",
    "@dm.gogeojson_wwmf(type=\"Pixel\")\n",
    "def get_step(data,step):\n",
    "    return data[\"unknown\"].isel(step=step)\n",
    "\n",
    "def update_html(valeur_code, **kwargs): #(feature, **kwargs):\n",
    "    #print('kwarg',kwargs)\n",
    "    temps_maj = kwargs['kwarg1']\n",
    "    print('temps prevu',temps_prevu)\n",
    "    file_CodesWWMF = '/home/mrpa/borderiesm/stageEMI/Codes/stageemi/stageemi/utils/CodesWWMF.csv'\n",
    "    df = pandas.read_csv(file_CodesWWMF,usecols = (0,1),sep=',')\n",
    "    legende_WWMF = df['Legende WWMF'].to_numpy()\n",
    "    code_WWMF    = df['Code WWMF'].to_numpy()\n",
    "    #valeur_code  = feature['properties']['value']\n",
    "    indice       = np.where(code_WWMF == valeur_code)\n",
    "    html1.value = '''\n",
    "        <h4> Type de temps </h4>\n",
    "        <h4><b>{}<br />{}<br /> temps majoritaire: {}</h4>\n",
    "    '''.format(legende_WWMF[indice[0]][0],code_WWMF[indice[0]][0],temps_maj)\n",
    "    \n",
    "\n",
    "def on_change(change):\n",
    "    geo_file,legend_file = get_step(data,change[\"new\"])\n",
    "    geojson_layer = ipyl.GeoJSON(data=geo_file,hover_style={\"opacity\":1})\n",
    "    if len(m.layers) == 1:\n",
    "        m.add_layer(geojson_layer)\n",
    "    else: \n",
    "        m.substitute_layer(m.layers[3],geojson_layer)\n",
    "    code,legende_majoritaire = WWMF_majoritaire(data['unknown'].isel(step=change[\"new\"]).values, code_WWMF,legende_WWMF)\n",
    "    print(legende_majoritaire)\n",
    "    geojson_layer.on_hover(update_html)\n",
    "    legend_file.seek(0)\n",
    "    legend.value =legend_file.read() \n",
    "    \n",
    "\n",
    "slider = widg.IntSlider(min=0,max=len(ds.step),step=1,value=0,description=\"step\")\n",
    "slider.observe(on_change,'value')\n",
    "    \n",
    "    "
   ]
  },
  {
   "cell_type": "code",
   "execution_count": 62,
   "metadata": {},
   "outputs": [
    {
     "name": "stderr",
     "output_type": "stream",
     "text": [
      "/opt/anaconda3/envs/preproc2/lib/python3.7/site-packages/matplotlib/colors.py:527: RuntimeWarning: invalid value encountered in less\n",
      "  xa[xa < 0] = -1\n"
     ]
    },
    {
     "name": "stdout",
     "output_type": "stream",
     "text": [
      "33.0\n",
      "kwarg {'kwarg1': 'Brouillard dense'}\n",
      "temps prevu Brouillard dense\n"
     ]
    },
    {
     "name": "stderr",
     "output_type": "stream",
     "text": [
      "/opt/anaconda3/envs/preproc2/lib/python3.7/site-packages/matplotlib/colors.py:527: RuntimeWarning: invalid value encountered in less\n",
      "  xa[xa < 0] = -1\n"
     ]
    },
    {
     "name": "stdout",
     "output_type": "stream",
     "text": [
      "1.0\n",
      "kwarg {'kwarg1': 'Brouillard dense'}\n",
      "temps prevu Brouillard dense\n"
     ]
    },
    {
     "name": "stderr",
     "output_type": "stream",
     "text": [
      "/opt/anaconda3/envs/preproc2/lib/python3.7/site-packages/matplotlib/colors.py:527: RuntimeWarning: invalid value encountered in less\n",
      "  xa[xa < 0] = -1\n"
     ]
    },
    {
     "name": "stdout",
     "output_type": "stream",
     "text": [
      "1.0\n",
      "kwarg {'kwarg1': 'Brouillard'}\n",
      "temps prevu Brouillard\n"
     ]
    },
    {
     "name": "stderr",
     "output_type": "stream",
     "text": [
      "/opt/anaconda3/envs/preproc2/lib/python3.7/site-packages/matplotlib/colors.py:527: RuntimeWarning: invalid value encountered in less\n",
      "  xa[xa < 0] = -1\n"
     ]
    },
    {
     "name": "stdout",
     "output_type": "stream",
     "text": [
      "2.0\n",
      "kwarg {'kwarg1': 'Clair'}\n",
      "temps prevu Clair\n",
      "3.0\n",
      "kwarg {'kwarg1': 'Brouillard'}\n",
      "temps prevu Brouillard\n"
     ]
    },
    {
     "name": "stderr",
     "output_type": "stream",
     "text": [
      "/opt/anaconda3/envs/preproc2/lib/python3.7/site-packages/matplotlib/colors.py:527: RuntimeWarning: invalid value encountered in less\n",
      "  xa[xa < 0] = -1\n",
      "/opt/anaconda3/envs/preproc2/lib/python3.7/site-packages/matplotlib/colors.py:527: RuntimeWarning: invalid value encountered in less\n",
      "  xa[xa < 0] = -1\n"
     ]
    },
    {
     "name": "stdout",
     "output_type": "stream",
     "text": [
      "0.0\n",
      "kwarg {'kwarg1': 'Clair'}\n",
      "temps prevu Clair\n"
     ]
    },
    {
     "name": "stderr",
     "output_type": "stream",
     "text": [
      "/opt/anaconda3/envs/preproc2/lib/python3.7/site-packages/matplotlib/colors.py:527: RuntimeWarning: invalid value encountered in less\n",
      "  xa[xa < 0] = -1\n"
     ]
    },
    {
     "name": "stdout",
     "output_type": "stream",
     "text": [
      "71.0\n",
      "kwarg {'kwarg1': 'Clair'}\n",
      "temps prevu Clair\n",
      "32.0\n",
      "kwarg {'kwarg1': 'Clair'}\n",
      "temps prevu Clair\n"
     ]
    },
    {
     "name": "stderr",
     "output_type": "stream",
     "text": [
      "/opt/anaconda3/envs/preproc2/lib/python3.7/site-packages/matplotlib/colors.py:527: RuntimeWarning: invalid value encountered in less\n",
      "  xa[xa < 0] = -1\n"
     ]
    }
   ],
   "source": [
    "m = ipyl.Map(zoom=9, center=(45,6)) #center=(lat_center,lon_center ))\n",
    "\n",
    "ZonesSympo_layer= Borders('/home/mrpa/borderiesm/stageEMI/Codes/stageemi/stageemi/GeoData/ZonesSympo/zones_sympo_4326.json',\n",
    "                          color='blue',name=\"sympo\")\n",
    "m.add_layer(ZonesSympo_layer)\n",
    "if mask == \"FRJ13\":\n",
    "    dept= Borders('/home/mrpa/borderiesm/stageEMI/Codes/stageemi/stageemi/GeoData/Departements/Herault.json',color='red')\n",
    "    m.add_layer(dept)\n",
    "if mask == \"FRK24\":\n",
    "    dept = Borders('/home/mrpa/borderiesm/stageEMI/Codes/stageemi/stageemi/GeoData/Departements/Isere.json',color='red')\n",
    "    m.add_layer(dept)\n",
    "\n",
    "    \n",
    "html1 = widg.HTML('''\n",
    "    <h4>Type de temps</h4>\n",
    "    Hover over a pixel\n",
    "''')\n",
    "html1.layout.margin = '0px 20px 20px 20px'\n",
    "control1 = WidgetControl(widget=html1, position='bottomright')\n",
    "m.add_control(control1)\n",
    "m.add_control(ipyl.WidgetControl(widget=slider,position=\"topright\"))\n",
    "\n",
    "\n",
    "# plot des masks\n",
    "dir_mask = '/home/mrpa/borderiesm/stageEMI/Codes/StageEMI/Masques_netcdf/ZONE_SYMPO/'\n",
    "list_subzones = glob.glob(dir_mask + mask+'*.nc')\n",
    "#print(list_subzones)\n",
    "for isub,subzone in enumerate(list_subzones):\n",
    "    try:\n",
    "        ds_mask_sub = xr.open_dataset(subzone)\n",
    "    #    lecture et selection des champs juste sur le mask\n",
    "        ds_mask_sub[\"latitude\"]=ds_mask_sub[\"latitude\"].round(5)\n",
    "        ds_mask_sub[\"longitude\"]=ds_mask_sub[\"longitude\"].round(5)\n",
    "        data = ds_mask_sub[\"mask\"].isel(id=0) * ds\n",
    "        \n",
    "        # temps majoritaire\n",
    "        code,legende_majoritaire = WWMF_majoritaire(data['unknown'].isel(step=0).values, code_WWMF,legende_WWMF)\n",
    "        #print(code,legende_majoritaire)\n",
    "        geo_file,legend_file = get_step(data,0)\n",
    "        geojson_layer = ipyl.GeoJSON(data=geo_file,hover_style={\"opacity\":1,\"fillColor\":\"#000000\"},\n",
    "                                     name=ds_mask_sub[\"mask\"].attrs[\"name\"]+legende_majoritaire)\n",
    "#        print(legende_majoritaire)\n",
    "        print(geojson_layer.data[\"features\"][0][\"properties\"]['value'])\n",
    "        geojson_layer.on_hover(update_html(geojson_layer.data[\"features\"][0][\"properties\"]['value'],\n",
    "                                          kwarg1=legende_majoritaire))\n",
    "        m.add_layer(geojson_layer)\n",
    "        \n",
    "        \n",
    "    except(FileNotFoundError): \n",
    "        print(subzone,\"existe pas\")\n",
    "m.add_control(LayersControl(position='topleft'))\n"
   ]
  },
  {
   "cell_type": "code",
   "execution_count": null,
   "metadata": {},
   "outputs": [],
   "source": [
    "\n",
    "#m.add_layer(geojson_layer)"
   ]
  },
  {
   "cell_type": "code",
   "execution_count": 39,
   "metadata": {},
   "outputs": [
    {
     "data": {
      "application/vnd.jupyter.widget-view+json": {
       "model_id": "11d9ff5b0e41427db391221338d8fdd4",
       "version_major": 2,
       "version_minor": 0
      },
      "text/plain": [
       "HBox(children=(Map(center=[45, 6], controls=(ZoomControl(options=['position', 'zoom_in_text', 'zoom_in_title',…"
      ]
     },
     "metadata": {},
     "output_type": "display_data"
    },
    {
     "name": "stdout",
     "output_type": "stream",
     "text": [
      "kwarg {'event': 'mouseover', 'properties': {'fill': '#a9d1e5', 'fill-opacity': 0.7, 'stroke': '#a9d1e5', 'value': 32, 'style': {'fillColor': '#a9d1e5', 'fillOpacity': 0.5, 'opacity': 0.2, 'color': '#000000', 'dashArray': '5', 'weight': 0.2}}}\n",
      "kwarg {'event': 'mouseover', 'properties': {'fill': '#0a3b70', 'fill-opacity': 0.7, 'stroke': '#0a3b70', 'value': 0, 'style': {'fillColor': '#0a3b70', 'fillOpacity': 0.5, 'opacity': 0.2, 'color': '#000000', 'dashArray': '5', 'weight': 0.2}}}\n",
      "kwarg {'event': 'mouseover', 'properties': {'fill': '#0a3b70', 'fill-opacity': 0.7, 'stroke': '#0a3b70', 'value': 0, 'style': {'fillColor': '#0a3b70', 'fillOpacity': 0.5, 'opacity': 0.2, 'color': '#000000', 'dashArray': '5', 'weight': 0.2}}}\n",
      "kwarg {'event': 'mouseover', 'properties': {'fill': '#aed3e6', 'fill-opacity': 0.7, 'stroke': '#aed3e6', 'value': 33, 'style': {'fillColor': '#aed3e6', 'fillOpacity': 0.5, 'opacity': 0.2, 'color': '#000000', 'dashArray': '5', 'weight': 0.2}}}\n",
      "kwarg {'event': 'mouseover', 'properties': {'fill': '#aed3e6', 'fill-opacity': 0.7, 'stroke': '#aed3e6', 'value': 33, 'style': {'fillColor': '#aed3e6', 'fillOpacity': 0.5, 'opacity': 0.2, 'color': '#000000', 'dashArray': '5', 'weight': 0.2}}}\n",
      "kwarg {'event': 'mouseover', 'properties': {'fill': '#aed3e6', 'fill-opacity': 0.7, 'stroke': '#aed3e6', 'value': 33, 'style': {'fillColor': '#aed3e6', 'fillOpacity': 0.5, 'opacity': 0.2, 'color': '#000000', 'dashArray': '5', 'weight': 0.2}}}\n",
      "kwarg {'event': 'mouseover', 'properties': {'fill': '#aed3e6', 'fill-opacity': 0.7, 'stroke': '#aed3e6', 'value': 33, 'style': {'fillColor': '#aed3e6', 'fillOpacity': 0.5, 'opacity': 0.2, 'color': '#000000', 'dashArray': '5', 'weight': 0.2}}}\n",
      "kwarg {'event': 'mouseover', 'properties': {'fill': '#aed3e6', 'fill-opacity': 0.7, 'stroke': '#aed3e6', 'value': 33, 'style': {'fillColor': '#aed3e6', 'fillOpacity': 0.5, 'opacity': 0.2, 'color': '#000000', 'dashArray': '5', 'weight': 0.2}}}\n",
      "kwarg {'event': 'mouseover', 'properties': {'fill': '#aed3e6', 'fill-opacity': 0.7, 'stroke': '#aed3e6', 'value': 33, 'style': {'fillColor': '#aed3e6', 'fillOpacity': 0.5, 'opacity': 0.2, 'color': '#000000', 'dashArray': '5', 'weight': 0.2}}}\n",
      "kwarg {'event': 'mouseover', 'properties': {'fill': '#0a3b70', 'fill-opacity': 0.7, 'stroke': '#0a3b70', 'value': 0, 'style': {'fillColor': '#0a3b70', 'fillOpacity': 0.5, 'opacity': 0.2, 'color': '#000000', 'dashArray': '5', 'weight': 0.2}}}\n",
      "kwarg {'event': 'mouseover', 'properties': {'fill': '#0a3b70', 'fill-opacity': 0.7, 'stroke': '#0a3b70', 'value': 0, 'style': {'fillColor': '#0a3b70', 'fillOpacity': 0.5, 'opacity': 0.2, 'color': '#000000', 'dashArray': '5', 'weight': 0.2}}}\n",
      "kwarg {'event': 'mouseover', 'properties': {'fill': '#0a3b70', 'fill-opacity': 0.7, 'stroke': '#0a3b70', 'value': 0, 'style': {'fillColor': '#0a3b70', 'fillOpacity': 0.5, 'opacity': 0.2, 'color': '#000000', 'dashArray': '5', 'weight': 0.2}}}\n",
      "kwarg {'event': 'mouseover', 'properties': {'fill': '#aed3e6', 'fill-opacity': 0.7, 'stroke': '#aed3e6', 'value': 33, 'style': {'fillColor': '#aed3e6', 'fillOpacity': 0.5, 'opacity': 0.2, 'color': '#000000', 'dashArray': '5', 'weight': 0.2}}}\n",
      "kwarg {'event': 'mouseover', 'properties': {'fill': '#0d3f76', 'fill-opacity': 0.7, 'stroke': '#0d3f76', 'value': 1, 'style': {'fillColor': '#0d3f76', 'fillOpacity': 0.5, 'opacity': 0.2, 'color': '#000000', 'dashArray': '5', 'weight': 0.2}}}\n",
      "kwarg {'event': 'mouseover', 'properties': {'fill': '#0a3b70', 'fill-opacity': 0.7, 'stroke': '#0a3b70', 'value': 0, 'style': {'fillColor': '#0a3b70', 'fillOpacity': 0.5, 'opacity': 0.2, 'color': '#000000', 'dashArray': '5', 'weight': 0.2}}}\n",
      "kwarg {'event': 'mouseover', 'properties': {'fill': '#0a3b70', 'fill-opacity': 0.7, 'stroke': '#0a3b70', 'value': 0, 'style': {'fillColor': '#0a3b70', 'fillOpacity': 0.5, 'opacity': 0.2, 'color': '#000000', 'dashArray': '5', 'weight': 0.2}}}\n",
      "kwarg {'event': 'mouseover', 'properties': {'fill': '#0a3b70', 'fill-opacity': 0.7, 'stroke': '#0a3b70', 'value': 0, 'style': {'fillColor': '#0a3b70', 'fillOpacity': 0.5, 'opacity': 0.2, 'color': '#000000', 'dashArray': '5', 'weight': 0.2}}}\n",
      "kwarg {'event': 'mouseover', 'properties': {'fill': '#0a3b70', 'fill-opacity': 0.7, 'stroke': '#0a3b70', 'value': 0, 'style': {'fillColor': '#0a3b70', 'fillOpacity': 0.5, 'opacity': 0.2, 'color': '#000000', 'dashArray': '5', 'weight': 0.2}}}\n",
      "kwarg {'event': 'mouseover', 'properties': {'fill': '#10457e', 'fill-opacity': 0.7, 'stroke': '#10457e', 'value': 2, 'style': {'fillColor': '#10457e', 'fillOpacity': 0.5, 'opacity': 0.2, 'color': '#000000', 'dashArray': '5', 'weight': 0.2}}}\n",
      "kwarg {'event': 'mouseover', 'properties': {'fill': '#a2cde3', 'fill-opacity': 0.7, 'stroke': '#a2cde3', 'value': 31, 'style': {'fillColor': '#a2cde3', 'fillOpacity': 0.5, 'opacity': 0.2, 'color': '#000000', 'dashArray': '5', 'weight': 0.2}}}\n",
      "kwarg {'event': 'mouseover', 'properties': {'fill': '#0a3b70', 'fill-opacity': 0.7, 'stroke': '#0a3b70', 'value': 0, 'style': {'fillColor': '#0a3b70', 'fillOpacity': 0.5, 'opacity': 0.2, 'color': '#000000', 'dashArray': '5', 'weight': 0.2}}}\n",
      "kwarg {'event': 'mouseover', 'properties': {'fill': '#a9d1e5', 'fill-opacity': 0.7, 'stroke': '#a9d1e5', 'value': 32, 'style': {'fillColor': '#a9d1e5', 'fillOpacity': 0.5, 'opacity': 0.2, 'color': '#000000', 'dashArray': '5', 'weight': 0.2}}}\n",
      "kwarg {'event': 'mouseover', 'properties': {'fill': '#a9d1e5', 'fill-opacity': 0.7, 'stroke': '#a9d1e5', 'value': 32, 'style': {'fillColor': '#a9d1e5', 'fillOpacity': 0.5, 'opacity': 0.2, 'color': '#000000', 'dashArray': '5', 'weight': 0.2}}}\n",
      "kwarg {'event': 'mouseover', 'properties': {'fill': '#aed3e6', 'fill-opacity': 0.7, 'stroke': '#aed3e6', 'value': 33, 'style': {'fillColor': '#aed3e6', 'fillOpacity': 0.5, 'opacity': 0.2, 'color': '#000000', 'dashArray': '5', 'weight': 0.2}}}\n",
      "kwarg {'event': 'mouseover', 'properties': {'fill': '#aed3e6', 'fill-opacity': 0.7, 'stroke': '#aed3e6', 'value': 33, 'style': {'fillColor': '#aed3e6', 'fillOpacity': 0.5, 'opacity': 0.2, 'color': '#000000', 'dashArray': '5', 'weight': 0.2}}}\n",
      "kwarg {'event': 'mouseover', 'properties': {'fill': '#aed3e6', 'fill-opacity': 0.7, 'stroke': '#aed3e6', 'value': 33, 'style': {'fillColor': '#aed3e6', 'fillOpacity': 0.5, 'opacity': 0.2, 'color': '#000000', 'dashArray': '5', 'weight': 0.2}}}\n",
      "kwarg {'event': 'mouseover', 'properties': {'fill': '#aed3e6', 'fill-opacity': 0.7, 'stroke': '#aed3e6', 'value': 33, 'style': {'fillColor': '#aed3e6', 'fillOpacity': 0.5, 'opacity': 0.2, 'color': '#000000', 'dashArray': '5', 'weight': 0.2}}}\n",
      "kwarg {'event': 'mouseover', 'properties': {'fill': '#aed3e6', 'fill-opacity': 0.7, 'stroke': '#aed3e6', 'value': 33, 'style': {'fillColor': '#aed3e6', 'fillOpacity': 0.5, 'opacity': 0.2, 'color': '#000000', 'dashArray': '5', 'weight': 0.2}}}\n",
      "kwarg {'event': 'mouseover', 'properties': {'fill': '#aed3e6', 'fill-opacity': 0.7, 'stroke': '#aed3e6', 'value': 33, 'style': {'fillColor': '#aed3e6', 'fillOpacity': 0.5, 'opacity': 0.2, 'color': '#000000', 'dashArray': '5', 'weight': 0.2}}}\n",
      "kwarg {'event': 'mouseover', 'properties': {'fill': '#aed3e6', 'fill-opacity': 0.7, 'stroke': '#aed3e6', 'value': 33, 'style': {'fillColor': '#aed3e6', 'fillOpacity': 0.5, 'opacity': 0.2, 'color': '#000000', 'dashArray': '5', 'weight': 0.2}}}\n",
      "kwarg {'event': 'mouseover', 'properties': {'fill': '#aed3e6', 'fill-opacity': 0.7, 'stroke': '#aed3e6', 'value': 33, 'style': {'fillColor': '#aed3e6', 'fillOpacity': 0.5, 'opacity': 0.2, 'color': '#000000', 'dashArray': '5', 'weight': 0.2}}}\n",
      "kwarg {'event': 'mouseover', 'properties': {'fill': '#0a3b70', 'fill-opacity': 0.7, 'stroke': '#0a3b70', 'value': 0, 'style': {'fillColor': '#0a3b70', 'fillOpacity': 0.5, 'opacity': 0.2, 'color': '#000000', 'dashArray': '5', 'weight': 0.2}}}\n",
      "kwarg {'event': 'mouseover', 'properties': {'fill': '#aed3e6', 'fill-opacity': 0.7, 'stroke': '#aed3e6', 'value': 33, 'style': {'fillColor': '#aed3e6', 'fillOpacity': 0.5, 'opacity': 0.2, 'color': '#000000', 'dashArray': '5', 'weight': 0.2}}}\n",
      "kwarg {'event': 'mouseover', 'properties': {'fill': '#a9d1e5', 'fill-opacity': 0.7, 'stroke': '#a9d1e5', 'value': 32, 'style': {'fillColor': '#a9d1e5', 'fillOpacity': 0.5, 'opacity': 0.2, 'color': '#000000', 'dashArray': '5', 'weight': 0.2}}}\n"
     ]
    },
    {
     "name": "stdout",
     "output_type": "stream",
     "text": [
      "kwarg {'event': 'mouseover', 'properties': {'fill': '#0a3b70', 'fill-opacity': 0.7, 'stroke': '#0a3b70', 'value': 0, 'style': {'fillColor': '#0a3b70', 'fillOpacity': 0.5, 'opacity': 0.2, 'color': '#000000', 'dashArray': '5', 'weight': 0.2}}}\n",
      "kwarg {'event': 'mouseover', 'properties': {'fill': '#10457e', 'fill-opacity': 0.7, 'stroke': '#10457e', 'value': 2, 'style': {'fillColor': '#10457e', 'fillOpacity': 0.5, 'opacity': 0.2, 'color': '#000000', 'dashArray': '5', 'weight': 0.2}}}\n",
      "kwarg {'event': 'mouseover', 'properties': {'fill': '#aed3e6', 'fill-opacity': 0.7, 'stroke': '#aed3e6', 'value': 33, 'style': {'fillColor': '#aed3e6', 'fillOpacity': 0.5, 'opacity': 0.2, 'color': '#000000', 'dashArray': '5', 'weight': 0.2}}}\n",
      "kwarg {'event': 'mouseover', 'properties': {'fill': '#aed3e6', 'fill-opacity': 0.7, 'stroke': '#aed3e6', 'value': 33, 'style': {'fillColor': '#aed3e6', 'fillOpacity': 0.5, 'opacity': 0.2, 'color': '#000000', 'dashArray': '5', 'weight': 0.2}}}\n",
      "kwarg {'event': 'mouseover', 'properties': {'fill': '#a2cde3', 'fill-opacity': 0.7, 'stroke': '#a2cde3', 'value': 31, 'style': {'fillColor': '#a2cde3', 'fillOpacity': 0.5, 'opacity': 0.2, 'color': '#000000', 'dashArray': '5', 'weight': 0.2}}}\n",
      "kwarg {'event': 'mouseover', 'properties': {'fill': '#10457e', 'fill-opacity': 0.7, 'stroke': '#10457e', 'value': 2, 'style': {'fillColor': '#10457e', 'fillOpacity': 0.5, 'opacity': 0.2, 'color': '#000000', 'dashArray': '5', 'weight': 0.2}}}\n",
      "kwarg {'event': 'mouseover', 'properties': {'fill': '#aed3e6', 'fill-opacity': 0.7, 'stroke': '#aed3e6', 'value': 33, 'style': {'fillColor': '#aed3e6', 'fillOpacity': 0.5, 'opacity': 0.2, 'color': '#000000', 'dashArray': '5', 'weight': 0.2}}}\n",
      "kwarg {'event': 'mouseover', 'properties': {'fill': '#0d3f76', 'fill-opacity': 0.7, 'stroke': '#0d3f76', 'value': 1, 'style': {'fillColor': '#0d3f76', 'fillOpacity': 0.5, 'opacity': 0.2, 'color': '#000000', 'dashArray': '5', 'weight': 0.2}}}\n",
      "kwarg {'event': 'mouseover', 'properties': {'fill': '#124984', 'fill-opacity': 0.7, 'stroke': '#124984', 'value': 3, 'style': {'fillColor': '#124984', 'fillOpacity': 0.5, 'opacity': 0.2, 'color': '#000000', 'dashArray': '5', 'weight': 0.2}}}\n",
      "kwarg {'event': 'mouseover', 'properties': {'fill': '#a2cde3', 'fill-opacity': 0.7, 'stroke': '#a2cde3', 'value': 31, 'style': {'fillColor': '#a2cde3', 'fillOpacity': 0.5, 'opacity': 0.2, 'color': '#000000', 'dashArray': '5', 'weight': 0.2}}}\n",
      "kwarg {'event': 'mouseover', 'properties': {'fill': '#0a3b70', 'fill-opacity': 0.7, 'stroke': '#0a3b70', 'value': 0, 'style': {'fillColor': '#0a3b70', 'fillOpacity': 0.5, 'opacity': 0.2, 'color': '#000000', 'dashArray': '5', 'weight': 0.2}}}\n",
      "kwarg {'event': 'mouseover', 'properties': {'fill': '#0a3b70', 'fill-opacity': 0.7, 'stroke': '#0a3b70', 'value': 0, 'style': {'fillColor': '#0a3b70', 'fillOpacity': 0.5, 'opacity': 0.2, 'color': '#000000', 'dashArray': '5', 'weight': 0.2}}}\n",
      "kwarg {'event': 'mouseover', 'properties': {'fill': '#0a3b70', 'fill-opacity': 0.7, 'stroke': '#0a3b70', 'value': 0, 'style': {'fillColor': '#0a3b70', 'fillOpacity': 0.5, 'opacity': 0.2, 'color': '#000000', 'dashArray': '5', 'weight': 0.2}}}\n",
      "kwarg {'event': 'mouseover', 'properties': {'fill': '#0a3b70', 'fill-opacity': 0.7, 'stroke': '#0a3b70', 'value': 0, 'style': {'fillColor': '#0a3b70', 'fillOpacity': 0.5, 'opacity': 0.2, 'color': '#000000', 'dashArray': '5', 'weight': 0.2}}}\n",
      "kwarg {'event': 'mouseover', 'properties': {'fill': '#0a3b70', 'fill-opacity': 0.7, 'stroke': '#0a3b70', 'value': 0, 'style': {'fillColor': '#0a3b70', 'fillOpacity': 0.5, 'opacity': 0.2, 'color': '#000000', 'dashArray': '5', 'weight': 0.2}}}\n",
      "kwarg {'event': 'mouseover', 'properties': {'fill': '#0a3b70', 'fill-opacity': 0.7, 'stroke': '#0a3b70', 'value': 0, 'style': {'fillColor': '#0a3b70', 'fillOpacity': 0.5, 'opacity': 0.2, 'color': '#000000', 'dashArray': '5', 'weight': 0.2}}}\n",
      "kwarg {'event': 'mouseover', 'properties': {'fill': '#0a3b70', 'fill-opacity': 0.7, 'stroke': '#0a3b70', 'value': 0, 'style': {'fillColor': '#0a3b70', 'fillOpacity': 0.5, 'opacity': 0.2, 'color': '#000000', 'dashArray': '5', 'weight': 0.2}}}\n",
      "kwarg {'event': 'mouseover', 'properties': {'fill': '#0a3b70', 'fill-opacity': 0.7, 'stroke': '#0a3b70', 'value': 0, 'style': {'fillColor': '#0a3b70', 'fillOpacity': 0.5, 'opacity': 0.2, 'color': '#000000', 'dashArray': '5', 'weight': 0.2}}}\n",
      "kwarg {'event': 'mouseover', 'properties': {'fill': '#10457e', 'fill-opacity': 0.7, 'stroke': '#10457e', 'value': 2, 'style': {'fillColor': '#10457e', 'fillOpacity': 0.5, 'opacity': 0.2, 'color': '#000000', 'dashArray': '5', 'weight': 0.2}}}\n",
      "kwarg {'event': 'mouseover', 'properties': {'fill': '#a9d1e5', 'fill-opacity': 0.7, 'stroke': '#a9d1e5', 'value': 32, 'style': {'fillColor': '#a9d1e5', 'fillOpacity': 0.5, 'opacity': 0.2, 'color': '#000000', 'dashArray': '5', 'weight': 0.2}}}\n",
      "kwarg {'event': 'mouseover', 'properties': {'fill': '#0a3b70', 'fill-opacity': 0.7, 'stroke': '#0a3b70', 'value': 0, 'style': {'fillColor': '#0a3b70', 'fillOpacity': 0.5, 'opacity': 0.2, 'color': '#000000', 'dashArray': '5', 'weight': 0.2}}}\n",
      "kwarg {'event': 'mouseover', 'properties': {'fill': '#0a3b70', 'fill-opacity': 0.7, 'stroke': '#0a3b70', 'value': 0, 'style': {'fillColor': '#0a3b70', 'fillOpacity': 0.5, 'opacity': 0.2, 'color': '#000000', 'dashArray': '5', 'weight': 0.2}}}\n",
      "kwarg {'event': 'mouseover', 'properties': {'fill': '#0a3b70', 'fill-opacity': 0.7, 'stroke': '#0a3b70', 'value': 0, 'style': {'fillColor': '#0a3b70', 'fillOpacity': 0.5, 'opacity': 0.2, 'color': '#000000', 'dashArray': '5', 'weight': 0.2}}}\n",
      "kwarg {'event': 'mouseover', 'properties': {'fill': '#0a3b70', 'fill-opacity': 0.7, 'stroke': '#0a3b70', 'value': 0, 'style': {'fillColor': '#0a3b70', 'fillOpacity': 0.5, 'opacity': 0.2, 'color': '#000000', 'dashArray': '5', 'weight': 0.2}}}\n",
      "kwarg {'event': 'mouseover', 'properties': {'fill': '#0a3b70', 'fill-opacity': 0.7, 'stroke': '#0a3b70', 'value': 0, 'style': {'fillColor': '#0a3b70', 'fillOpacity': 0.5, 'opacity': 0.2, 'color': '#000000', 'dashArray': '5', 'weight': 0.2}}}\n",
      "kwarg {'event': 'mouseover', 'properties': {'fill': '#0a3b70', 'fill-opacity': 0.7, 'stroke': '#0a3b70', 'value': 0, 'style': {'fillColor': '#0a3b70', 'fillOpacity': 0.5, 'opacity': 0.2, 'color': '#000000', 'dashArray': '5', 'weight': 0.2}}}\n",
      "kwarg {'event': 'mouseover', 'properties': {'fill': '#0a3b70', 'fill-opacity': 0.7, 'stroke': '#0a3b70', 'value': 0, 'style': {'fillColor': '#0a3b70', 'fillOpacity': 0.5, 'opacity': 0.2, 'color': '#000000', 'dashArray': '5', 'weight': 0.2}}}\n",
      "kwarg {'event': 'mouseover', 'properties': {'fill': '#0a3b70', 'fill-opacity': 0.7, 'stroke': '#0a3b70', 'value': 0, 'style': {'fillColor': '#0a3b70', 'fillOpacity': 0.5, 'opacity': 0.2, 'color': '#000000', 'dashArray': '5', 'weight': 0.2}}}\n",
      "kwarg {'event': 'mouseover', 'properties': {'fill': '#0a3b70', 'fill-opacity': 0.7, 'stroke': '#0a3b70', 'value': 0, 'style': {'fillColor': '#0a3b70', 'fillOpacity': 0.5, 'opacity': 0.2, 'color': '#000000', 'dashArray': '5', 'weight': 0.2}}}\n",
      "kwarg {'event': 'mouseover', 'properties': {'fill': '#0a3b70', 'fill-opacity': 0.7, 'stroke': '#0a3b70', 'value': 0, 'style': {'fillColor': '#0a3b70', 'fillOpacity': 0.5, 'opacity': 0.2, 'color': '#000000', 'dashArray': '5', 'weight': 0.2}}}\n",
      "kwarg {'event': 'mouseover', 'properties': {'fill': '#0a3b70', 'fill-opacity': 0.7, 'stroke': '#0a3b70', 'value': 0, 'style': {'fillColor': '#0a3b70', 'fillOpacity': 0.5, 'opacity': 0.2, 'color': '#000000', 'dashArray': '5', 'weight': 0.2}}}\n",
      "kwarg {'event': 'mouseover', 'properties': {'fill': '#a2cde3', 'fill-opacity': 0.7, 'stroke': '#a2cde3', 'value': 31, 'style': {'fillColor': '#a2cde3', 'fillOpacity': 0.5, 'opacity': 0.2, 'color': '#000000', 'dashArray': '5', 'weight': 0.2}}}\n",
      "kwarg {'event': 'mouseover', 'properties': {'fill': '#0a3b70', 'fill-opacity': 0.7, 'stroke': '#0a3b70', 'value': 0, 'style': {'fillColor': '#0a3b70', 'fillOpacity': 0.5, 'opacity': 0.2, 'color': '#000000', 'dashArray': '5', 'weight': 0.2}}}\n",
      "kwarg {'event': 'mouseover', 'properties': {'fill': '#10457e', 'fill-opacity': 0.7, 'stroke': '#10457e', 'value': 2, 'style': {'fillColor': '#10457e', 'fillOpacity': 0.5, 'opacity': 0.2, 'color': '#000000', 'dashArray': '5', 'weight': 0.2}}}\n"
     ]
    }
   ],
   "source": [
    "legend_file.seek(0)\n",
    "legend = widg.Image(layout=widg.Layout(height=\"430px\"))\n",
    "legend.value = legend_file.read() \n",
    "widg_map = widg.HBox([m,legend])\n",
    "widg_map"
   ]
  },
  {
   "cell_type": "code",
   "execution_count": null,
   "metadata": {},
   "outputs": [],
   "source": []
  }
 ],
 "metadata": {
  "kernelspec": {
   "display_name": "Python 3",
   "language": "python",
   "name": "python3"
  },
  "language_info": {
   "codemirror_mode": {
    "name": "ipython",
    "version": 3
   },
   "file_extension": ".py",
   "mimetype": "text/x-python",
   "name": "python",
   "nbconvert_exporter": "python",
   "pygments_lexer": "ipython3",
   "version": "3.7.6"
  }
 },
 "nbformat": 4,
 "nbformat_minor": 2
}
