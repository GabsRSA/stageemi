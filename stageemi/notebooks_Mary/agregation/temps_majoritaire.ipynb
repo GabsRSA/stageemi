{
 "cells": [
  {
   "cell_type": "code",
   "execution_count": 1,
   "metadata": {},
   "outputs": [],
   "source": [
    "import stageemi.dev.decorator_map as dm\n",
    "import xarray as xr \n",
    "import ipywidgets as widg\n",
    "import ipyleaflet as ipyl\n",
    "import datetime as dt\n",
    "import os \n",
    "import numpy as np\n",
    "import shapely\n",
    "from stageemi.dev.visu import Borders,Map\n",
    "import geojson\n",
    "from ipyleaflet import WidgetControl,LayersControl,Marker, Popup\n",
    "import pandas \n",
    "import glob\n"
   ]
  },
  {
   "cell_type": "code",
   "execution_count": 2,
   "metadata": {},
   "outputs": [],
   "source": [
    "\n",
    "def conversion(ds):\n",
    "    \"\"\"convert wwmf code into wme code\"\"\"\n",
    "    file_CodesWWMF= '../../utils/CodesWWMF.csv'\n",
    "    df_WWMF = pandas.read_csv(file_CodesWWMF,usecols = (0,1,6,7),sep=',')\n",
    "    \n",
    "    ds[\"wme_arr\"]=ds.unknown\n",
    "\n",
    "    for iwwmf,wwmf in enumerate(df_WWMF[\"Code WWMF\"]):\n",
    "        ds[\"wme_arr\"]=ds[\"wme_arr\"].where(ds.unknown!=wwmf,df_WWMF[\"Code WME\"][iwwmf])\n",
    "        \n",
    "    return ds"
   ]
  },
  {
   "cell_type": "code",
   "execution_count": null,
   "metadata": {},
   "outputs": [],
   "source": [
    "var2plot = \"WWMF\"\n",
    "mask =  '38'#'38' #['FRB05',\"FRH02\",'FRJ13','FRK24']\n",
    "date = \"2019110400\"\n",
    "# date   = '2019122100'\n",
    "\n",
    "mask = '34'\n",
    "date = '2020012600'#'2020011900'\n",
    "\n",
    "# dir_in = '/scratch/labia/lepapeb/StageEMI/'+var2plot+'/'\n",
    "dir_in = 'C:\\\\Users\\\\mary\\\\Desktop\\\\stageemi\\\\'\n",
    "\n",
    "fname  = dir_in + date+'0000__PG0PAROME__'+var2plot+'__EURW1S100______GRILLE____0_48_1__SOL____GRIB2.nc'\n",
    "ds     = xr.open_dataset(fname)\n",
    "ds['latitude']  = ds['latitude'].round(5)\n",
    "ds['longitude'] = ds['longitude'].round(5)\n",
    "ds = conversion(ds)\n",
    "print(fname)"
   ]
  },
  {
   "cell_type": "code",
   "execution_count": 4,
   "metadata": {
    "scrolled": true
   },
   "outputs": [
    {
     "data": {
      "image/png": "[encoded data removed]",
      "text/plain": [
       "<Figure size 1440x360 with 12 Axes>"
      ]
     },
     "metadata": {
      "needs_background": "light"
     },
     "output_type": "display_data"
    }
   ],
   "source": [
    "# Lecture des codes WWMF pour chercher le temps majoritaire\n",
    "file_CodesWWMF = '/home/mrpa/borderiesm/stageEMI/Codes/stageemi/stageemi/utils/CodesWWMF.csv'\n",
    "df = pandas.read_csv(file_CodesWWMF,usecols = (0,1),sep=',')\n",
    "legende_WWMF = df['Legende WWMF'].to_numpy()\n",
    "code_WWMF    = df['Code WWMF'].to_numpy()\n",
    "\n",
    "subzone     = '/home/mrpa/borderiesm/stageEMI/Codes/StageEMI/Masques_netcdf/ZONE_SYMPO/3808.nc'\n",
    "ds_mask_sub = xr.open_dataset(subzone)\n",
    "ds_mask_sub[\"latitude\"]=ds_mask_sub[\"latitude\"].round(5)\n",
    "ds_mask_sub[\"longitude\"]=ds_mask_sub[\"longitude\"].round(5)\n",
    "data = ds_mask_sub[\"mask\"].isel(id=0) * ds\n",
    "\n",
    "\n",
    "\n",
    "def  WWMF_majoritaire(data, code_WWMF,legende_WWMF):\n",
    "    occurence_WWMF   = np.asarray([np.sum(data == code_WWMF[i]) for i in range(code_WWMF.size)])\n",
    "    WWMF_code_majoritaire = code_WWMF[occurence_WWMF.argmax()]\n",
    "    WWMF_leg_majoritaire  = legende_WWMF[occurence_WWMF.argmax()]\n",
    "#     print(np.sort(occurence_WWMF)[::-1])\n",
    "#     print(np.argsort(occurence_WWMF)[::-1])\n",
    "    return WWMF_code_majoritaire, WWMF_leg_majoritaire\n",
    "\n",
    "import matplotlib.pyplot as plt\n",
    "fig,axes = plt.subplots(nrows=2,ncols = 3,figsize=(20,5))\n",
    "ax = axes.flat\n",
    "for i,istep in enumerate(range(0,24,4)):\n",
    "#     val = data['unknown'].isel(step=istep).copy()\n",
    "    val = data['wme_arr'].isel(step=istep).copy()\n",
    "    code,leg = WWMF_majoritaire(val.values, code_WWMF,legende_WWMF)\n",
    "    val.plot.imshow(ax=ax[i],levels=range(0,10))\n",
    "    ax[i].set_title(leg+' ' + str(code),fontsize=15)\n",
    "\n",
    "fig.tight_layout()\n",
    "# fig.savefig('/home/mrpa/borderiesm/stageEMI/fig/'+date +ds_mask_sub[\"mask\"].attrs[\"name\"]+ '.png',dpi=400)\n",
    "# plt.clf()\n",
    "# plt.close('all')"
   ]
  },
  {
   "cell_type": "code",
   "execution_count": 3,
   "metadata": {},
   "outputs": [
    {
     "ename": "NameError",
     "evalue": "name 'ds' is not defined",
     "output_type": "error",
     "traceback": [
      "\u001b[1;31m---------------------------------------------------------------------------\u001b[0m",
      "\u001b[1;31mNameError\u001b[0m                                 Traceback (most recent call last)",
      "\u001b[1;32m<ipython-input-3-0c33b359b23d>\u001b[0m in \u001b[0;36m<module>\u001b[1;34m\u001b[0m\n\u001b[0;32m     38\u001b[0m \u001b[1;33m\u001b[0m\u001b[0m\n\u001b[0;32m     39\u001b[0m \u001b[1;33m\u001b[0m\u001b[0m\n\u001b[1;32m---> 40\u001b[1;33m \u001b[0mslider\u001b[0m \u001b[1;33m=\u001b[0m \u001b[0mwidg\u001b[0m\u001b[1;33m.\u001b[0m\u001b[0mIntSlider\u001b[0m\u001b[1;33m(\u001b[0m\u001b[0mmin\u001b[0m\u001b[1;33m=\u001b[0m\u001b[1;36m0\u001b[0m\u001b[1;33m,\u001b[0m\u001b[0mmax\u001b[0m\u001b[1;33m=\u001b[0m\u001b[0mlen\u001b[0m\u001b[1;33m(\u001b[0m\u001b[0mds\u001b[0m\u001b[1;33m.\u001b[0m\u001b[0mstep\u001b[0m\u001b[1;33m)\u001b[0m\u001b[1;33m,\u001b[0m\u001b[0mstep\u001b[0m\u001b[1;33m=\u001b[0m\u001b[1;36m1\u001b[0m\u001b[1;33m,\u001b[0m\u001b[0mvalue\u001b[0m\u001b[1;33m=\u001b[0m\u001b[1;36m0\u001b[0m\u001b[1;33m,\u001b[0m\u001b[0mdescription\u001b[0m\u001b[1;33m=\u001b[0m\u001b[1;34m\"step\"\u001b[0m\u001b[1;33m)\u001b[0m\u001b[1;33m\u001b[0m\u001b[1;33m\u001b[0m\u001b[0m\n\u001b[0m\u001b[0;32m     41\u001b[0m \u001b[0mslider\u001b[0m\u001b[1;33m.\u001b[0m\u001b[0mobserve\u001b[0m\u001b[1;33m(\u001b[0m\u001b[0mon_change\u001b[0m\u001b[1;33m,\u001b[0m\u001b[1;34m'value'\u001b[0m\u001b[1;33m)\u001b[0m\u001b[1;33m\u001b[0m\u001b[1;33m\u001b[0m\u001b[0m\n\u001b[0;32m     42\u001b[0m \u001b[1;33m\u001b[0m\u001b[0m\n",
      "\u001b[1;31mNameError\u001b[0m: name 'ds' is not defined"
     ]
    }
   ],
   "source": [
    "# pour ploter: \n",
    "@dm.gogeojson_wwmf(type=\"Pixel\")\n",
    "def get_step(data,step):\n",
    "    return data[\"unknown\"].isel(step=step)\n",
    "\n",
    "def update_html(feature, **kwargs):\n",
    "    #print('kwarg',kwargs)\n",
    "    #print(geojson_layer.name)\n",
    "    #temps_maj = 'toto' #kwargs['kwarg1']\n",
    "    #print('temps prevu',temps_maj)\n",
    "    \n",
    "    \n",
    "    file_CodesWWMF = '/home/mrpa/borderiesm/stageEMI/Codes/stageemi/stageemi/utils/CodesWWMF.csv'\n",
    "    df = pandas.read_csv(file_CodesWWMF,usecols = (0,1),sep=',')\n",
    "    legende_WWMF = df['Legende WWMF'].to_numpy()\n",
    "    code_WWMF    = df['Code WWMF'].to_numpy()\n",
    "    valeur_code  = feature['properties']['value']\n",
    "    indice       = np.where(code_WWMF == valeur_code)\n",
    "    html1.value = '''\n",
    "        <h4> Type de temps </h4>\n",
    "        <h4><b>{}<br />{}<br /></h4>\n",
    "    '''.format(legende_WWMF[indice[0]][0],code_WWMF[indice[0]][0])\n",
    "    \n",
    "\n",
    "def on_change(change):\n",
    "    code,legende_majoritaire = WWMF_majoritaire(data['unknown'].isel(step=change[\"new\"]).values, code_WWMF,legende_WWMF)\n",
    "    print(legende_majoritaire)\n",
    "    geo_file,legend_file = get_step(data,change[\"new\"])\n",
    "    geojson_layer = ipyl.GeoJSON(data=geo_file,hover_style={\"opacity\":1},name=ds_mask_sub[\"mask\"].attrs[\"name\"]+' '+legende_majoritaire)\n",
    "    if len(m.layers) == 1:\n",
    "        m.add_layer(geojson_layer)\n",
    "    else: \n",
    "        m.substitute_layer(m.layers[3],geojson_layer)\n",
    "    geojson_layer.on_hover(update_html)\n",
    "\n",
    "    legend_file.seek(0)\n",
    "    legend.value =legend_file.read() \n",
    "    \n",
    "\n",
    "slider = widg.IntSlider(min=0,max=len(ds.step),step=1,value=0,description=\"step\")\n",
    "slider.observe(on_change,'value')\n",
    "    \n",
    "    "
   ]
  },
  {
   "cell_type": "code",
   "execution_count": 6,
   "metadata": {},
   "outputs": [
    {
     "name": "stderr",
     "output_type": "stream",
     "text": [
      "/opt/anaconda3/envs/preproc2/lib/python3.7/site-packages/matplotlib/colors.py:527: RuntimeWarning: invalid value encountered in less\n",
      "  xa[xa < 0] = -1\n",
      "/opt/anaconda3/envs/preproc2/lib/python3.7/site-packages/matplotlib/colors.py:527: RuntimeWarning: invalid value encountered in less\n",
      "  xa[xa < 0] = -1\n",
      "/opt/anaconda3/envs/preproc2/lib/python3.7/site-packages/matplotlib/colors.py:527: RuntimeWarning: invalid value encountered in less\n",
      "  xa[xa < 0] = -1\n",
      "/opt/anaconda3/envs/preproc2/lib/python3.7/site-packages/matplotlib/colors.py:527: RuntimeWarning: invalid value encountered in less\n",
      "  xa[xa < 0] = -1\n",
      "/opt/anaconda3/envs/preproc2/lib/python3.7/site-packages/matplotlib/colors.py:527: RuntimeWarning: invalid value encountered in less\n",
      "  xa[xa < 0] = -1\n",
      "/opt/anaconda3/envs/preproc2/lib/python3.7/site-packages/matplotlib/colors.py:527: RuntimeWarning: invalid value encountered in less\n",
      "  xa[xa < 0] = -1\n",
      "/opt/anaconda3/envs/preproc2/lib/python3.7/site-packages/matplotlib/colors.py:527: RuntimeWarning: invalid value encountered in less\n",
      "  xa[xa < 0] = -1\n",
      "/opt/anaconda3/envs/preproc2/lib/python3.7/site-packages/matplotlib/colors.py:527: RuntimeWarning: invalid value encountered in less\n",
      "  xa[xa < 0] = -1\n",
      "/opt/anaconda3/envs/preproc2/lib/python3.7/site-packages/matplotlib/colors.py:527: RuntimeWarning: invalid value encountered in less\n",
      "  xa[xa < 0] = -1\n",
      "/opt/anaconda3/envs/preproc2/lib/python3.7/site-packages/matplotlib/colors.py:527: RuntimeWarning: invalid value encountered in less\n",
      "  xa[xa < 0] = -1\n",
      "/opt/anaconda3/envs/preproc2/lib/python3.7/site-packages/matplotlib/colors.py:527: RuntimeWarning: invalid value encountered in less\n",
      "  xa[xa < 0] = -1\n"
     ]
    }
   ],
   "source": [
    "m = ipyl.Map(zoom=9, center=(45,6)) #center=(lat_center,lon_center ))\n",
    "\n",
    "ZonesSympo_layer= Borders('/home/mrpa/borderiesm/stageEMI/Codes/stageemi/stageemi/GeoData/ZonesSympo/zones_sympo_4326.json',\n",
    "                          color='blue',name=\"sympo\")\n",
    "m.add_layer(ZonesSympo_layer)\n",
    "if mask == \"FRJ13\":\n",
    "    dept= Borders('/home/mrpa/borderiesm/stageEMI/Codes/stageemi/stageemi/GeoData/Departements/Herault.json',color='red')\n",
    "    m.add_layer(dept)\n",
    "if mask == \"FRK24\":\n",
    "    dept = Borders('/home/mrpa/borderiesm/stageEMI/Codes/stageemi/stageemi/GeoData/Departements/Isere.json',color='red')\n",
    "    m.add_layer(dept)\n",
    "if mask == \"29\":\n",
    "    dept = Borders('/home/mrpa/borderiesm/stageEMI/Codes/stageemi/stageemi/GeoData/Departements/Finistere.json',color='red')\n",
    "    m.add_layer(dept)\n",
    "dept = Borders('/home/mrpa/borderiesm/stageEMI/Codes/stageemi/stageemi/GeoData/Departements/Isere.json',color='red')\n",
    "m.add_layer(dept)\n",
    "\n",
    "    \n",
    "html1 = widg.HTML('''\n",
    "    <h4>Type de temps</h4>\n",
    "    Hover over a pixel\n",
    "''')\n",
    "html1.layout.margin = '0px 20px 20px 20px'\n",
    "control1 = WidgetControl(widget=html1, position='bottomright')\n",
    "m.add_control(control1)\n",
    "m.add_control(ipyl.WidgetControl(widget=slider,position=\"topright\"))\n",
    "\n",
    "\n",
    "# plot des masks\n",
    "dir_mask = '/home/mrpa/borderiesm/stageEMI/Codes/StageEMI/Masques_netcdf/ZONE_SYMPO/'\n",
    "list_subzones = glob.glob(dir_mask + mask+'*.nc')\n",
    "#print(list_subzones)\n",
    "for isub,subzone in enumerate(list_subzones):\n",
    "    try:\n",
    "        ds_mask_sub = xr.open_dataset(subzone)\n",
    "    #    lecture et selection des champs juste sur le mask\n",
    "        ds_mask_sub[\"latitude\"]=ds_mask_sub[\"latitude\"].round(5)\n",
    "        ds_mask_sub[\"longitude\"]=ds_mask_sub[\"longitude\"].round(5)\n",
    "        data = ds_mask_sub[\"mask\"].isel(id=0) * ds\n",
    "        \n",
    "        # temps majoritaire\n",
    "        code,legende_majoritaire = WWMF_majoritaire(data['unknown'].isel(step=0).values, code_WWMF,legende_WWMF)\n",
    "        geo_file,legend_file = get_step(data,0)\n",
    "        geojson_layer = ipyl.GeoJSON(data=geo_file,hover_style={\"opacity\":0,\"fillColor\":\"#000000\"},\n",
    "                                     name=ds_mask_sub[\"mask\"].attrs[\"name\"]+' '+ds_mask_sub.mask.id.values[0])\n",
    "        \n",
    "        #geojson_layer.on_hover(update_html(geojson_layer.data[\"features\"][0][\"properties\"]['value'],\n",
    "         #                                 kwarg1=legende_majoritaire))\n",
    "        geojson_layer.on_hover(update_html)\n",
    "       # print(geojson_layer.data[\"features\"][:][\"properties\"]['value'])\n",
    "        #print(geojson_layer.name)\n",
    "        \n",
    "        \n",
    "        m.add_layer(geojson_layer)\n",
    "        \n",
    "        \n",
    "    except(FileNotFoundError): \n",
    "        print(subzone,\"existe pas\")\n",
    "m.add_control(LayersControl(position='topleft'))\n"
   ]
  },
  {
   "cell_type": "code",
   "execution_count": 12,
   "metadata": {},
   "outputs": [
    {
     "data": {
      "text/plain": [
       "'3483'"
      ]
     },
     "execution_count": 12,
     "metadata": {},
     "output_type": "execute_result"
    }
   ],
   "source": [
    "ds_mask_sub.mask.id.values[0]\n",
    "#m.add_layer(geojson_layer)"
   ]
  },
  {
   "cell_type": "code",
   "execution_count": 7,
   "metadata": {
    "scrolled": true
   },
   "outputs": [
    {
     "data": {
      "application/vnd.jupyter.widget-view+json": {
       "model_id": "c9f3abfef7ac4a7f93b5a8c8f238c3de",
       "version_major": 2,
       "version_minor": 0
      },
      "text/plain": [
       "HBox(children=(Map(center=[45, 6], controls=(ZoomControl(options=['position', 'zoom_in_text', 'zoom_in_title',…"
      ]
     },
     "metadata": {},
     "output_type": "display_data"
    }
   ],
   "source": [
    "legend_file.seek(0)\n",
    "legend = widg.Image(layout=widg.Layout(height=\"430px\"))\n",
    "legend.value = legend_file.read() \n",
    "widg_map = widg.HBox([m,legend])\n",
    "widg_map"
   ]
  },
  {
   "cell_type": "code",
   "execution_count": null,
   "metadata": {},
   "outputs": [],
   "source": []
  }
 ],
 "metadata": {
  "kernelspec": {
   "display_name": "Python 3",
   "language": "python",
   "name": "python3"
  },
  "language_info": {
   "codemirror_mode": {
    "name": "ipython",
    "version": 3
   },
   "file_extension": ".py",
   "mimetype": "text/x-python",
   "name": "python",
   "nbconvert_exporter": "python",
   "pygments_lexer": "ipython3",
   "version": "3.8.1"
  }
 },
 "nbformat": 4,
 "nbformat_minor": 2
}
