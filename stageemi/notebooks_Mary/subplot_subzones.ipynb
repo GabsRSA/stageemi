{
 "cells": [
  {
   "cell_type": "code",
   "execution_count": 1,
   "metadata": {},
   "outputs": [],
   "source": [
    "import stageemi.dev.decorator_map as dm\n",
    "import xarray as xr \n",
    "import ipywidgets as widg \n",
    "import ipyleaflet as ipyl\n",
    "import datetime as dt\n",
    "import os \n",
    "import numpy as np\n",
    "import shapely\n",
    "from stageemi.dev.visu import Borders\n",
    "import geojson"
   ]
  },
  {
   "cell_type": "code",
   "execution_count": 2,
   "metadata": {},
   "outputs": [
    {
     "name": "stdout",
     "output_type": "stream",
     "text": [
      "/scratch/labia/lepapeb/StageEMI/WWMF/20200122060000__PG0PAROME__WWMF__EURW1S100______GRILLE____0_48_1__SOL____GRIB2.nc\n"
     ]
    }
   ],
   "source": [
    "#fname = \"../weatherdata/arome_2m_NW_20180501000000.grib\"\n",
    "#fname = \"/scratch/labia/chabotv/TestEAS/FileList/20191104000000__PAROME__T__EURW1S100______GRILLE____0_48_1__HAUTEUR__2__.nc\"\n",
    "\n",
    "var2plot = \"WWMF\"\n",
    "#var2plot = \"DD\"\n",
    "ListMask = ['FRB05',\"FRH02\",'FRJ13','FRK24']\n",
    "\n",
    "dir_in = '/scratch/labia/lepapeb/StageEMI/'+var2plot+'/'\n",
    "if var2plot == 'DD':\n",
    "    fname  = dir_in + '20200122060000__PAROME__'+var2plot+'__EURW1S100______GRILLE____0_48_1__HAUTEUR__10__.nc'\n",
    "\n",
    "if var2plot == 'WWMF':\n",
    "    fname  = dir_in + '20200122060000__PG0PAROME__'+var2plot+'__EURW1S100______GRILLE____0_48_1__SOL____GRIB2.nc'\n",
    "    \n",
    "fname  = dir_in + '20200122060000__PG0PAROME__'+var2plot+'__EURW1S100______GRILLE____0_48_1__SOL____GRIB2.nc'\n",
    "ds = xr.open_dataset(fname)\n",
    "ds['latitude']=ds['latitude'].round(5)\n",
    "ds['longitude']=ds['longitude'].round(5)\n",
    "print(fname)"
   ]
  },
  {
   "cell_type": "code",
   "execution_count": 3,
   "metadata": {
    "scrolled": true
   },
   "outputs": [
    {
     "data": {
      "text/plain": [
       "<matplotlib.image.AxesImage at 0x2aaadaf97a90>"
      ]
     },
     "execution_count": 3,
     "metadata": {},
     "output_type": "execute_result"
    },
    {
     "data": {
      "image/png": "[encoded data removed]",
      "text/plain": [
       "<Figure size 432x288 with 2 Axes>"
      ]
     },
     "metadata": {
      "needs_background": "light"
     },
     "output_type": "display_data"
    }
   ],
   "source": [
    "ds_b_mask = {}\n",
    "for mask in ListMask:\n",
    "    fname_mask = '/home/mrpa/borderiesm/stageEMI/Codes/stageemi/stageemi/GeoData/nc_departement/'+mask+'.nc'\n",
    "    ds_mask = xr.open_dataset(fname_mask)\n",
    "    ds_mask[\"latitude\"]=ds_mask[\"latitude\"].round(5)\n",
    "    ds_mask[\"longitude\"]=ds_mask[\"longitude\"].round(5)\n",
    "    lat_center = ds_mask[\"latitude\"].values.mean()\n",
    "    lon_center = ds_mask[\"longitude\"].values.mean()\n",
    "    ds_b_mask[mask] = ds.load()*ds_mask[\"mask\"].isel(id=0).load()\n",
    "\n",
    "ds_b_mask[mask]['unknown'].isel(step=1).plot.imshow()"
   ]
  },
  {
   "cell_type": "code",
   "execution_count": 4,
   "metadata": {},
   "outputs": [],
   "source": [
    "import matplotlib\n",
    "@dm.gogeojson_wwmf(type=\"Pixel\")\n",
    "def get_step(val, step):\n",
    "    #return ds_d[\"unknown\"].isel(step=step)\n",
    "    #return ds_mask[\"mask\"].isel(step=step)\n",
    "    #return ds_b[\"unknown\"].isel(step=step)\n",
    "    return val[\"unknown\"].isel(step=step)\n",
    "\n",
    "def on_change(change):\n",
    "    geo_file,legend_file = get_step(val,change[\"new\"])\n",
    "    geojson_layer = ipyl.GeoJSON(data=geo_file,hover_style={\"opacity\":1})\n",
    "    if len(m.layers) == 1:\n",
    "        m.add_layer(geojson_layer)\n",
    "    else: \n",
    "        m.substitute_layer(m.layers[1],geojson_layer)\n",
    "    legend_file.seek(0)\n",
    "    legend.value =legend_file.read() \n",
    "#print(ds_b.isel(step=2))\n",
    "\n",
    "slider = widg.IntSlider(min=0,max=len(ds_b_mask[ListMask[0]].step),step=1,value=0,description=\"step\")\n",
    "slider.observe(on_change,'value')\n"
   ]
  },
  {
   "cell_type": "code",
   "execution_count": 5,
   "metadata": {
    "scrolled": false
   },
   "outputs": [
    {
     "name": "stderr",
     "output_type": "stream",
     "text": [
      "/opt/anaconda3/envs/preproc2/lib/python3.7/site-packages/matplotlib/colors.py:527: RuntimeWarning: invalid value encountered in less\n",
      "  xa[xa < 0] = -1\n"
     ]
    }
   ],
   "source": [
    "m = ipyl.Map(center=(lat_center,lon_center),zoom=9)\n",
    "m.add_control(ipyl.WidgetControl(widget=slider,position=\"topright\"))\n",
    "for mask in ListMask:\n",
    "    val  = ds_b_mask[mask]\n",
    "    geo_file,legend_file = get_step(val,0)\n",
    "    geojson_layer = ipyl.GeoJSON(data=geo_file,hover_style={\"opacity\":1})\n",
    "    m.add_layer(geojson_layer)\n"
   ]
  },
  {
   "cell_type": "code",
   "execution_count": 6,
   "metadata": {},
   "outputs": [],
   "source": [
    "legend_file.seek(0)\n",
    "legend = widg.Image(layout=widg.Layout(height=\"430px\"))\n",
    "legend.value = legend_file.read() \n",
    "widg_map = widg.HBox([m,legend])\n",
    "#m.add"
   ]
  },
  {
   "cell_type": "code",
   "execution_count": 7,
   "metadata": {},
   "outputs": [],
   "source": [
    "#Base_Dept = '/home/mrpa/borderiesm/stageEMI/Codes/stageemi/stageemi/GeoData/Departements/'\n",
    "#Base_marine = '/home/mrpa/borderiesm/stageEMI/Codes/stageemi/stageemi/GeoData/ZoneLargeMarine/'\n",
    "#border_reg = Borders(Base_Dept + \"Herault.json\", color=\"red\", layer_name=\"Herault\")\n",
    "#border_med = Borders(Base_marine+'ZonesMarineLarges_Mediterrannee.json',color = 'blue',layer_name='Mediterrannee')\n",
    "\n",
    "#m.add_layer(border_reg)\n",
    "#m.add_layer(border_med)"
   ]
  },
  {
   "cell_type": "code",
   "execution_count": 8,
   "metadata": {
    "scrolled": false
   },
   "outputs": [
    {
     "data": {
      "application/vnd.jupyter.widget-view+json": {
       "model_id": "410e022053094a28afa87466b201fd77",
       "version_major": 2,
       "version_minor": 0
      },
      "text/plain": [
       "HBox(children=(Map(center=[45.29, 5.535], controls=(ZoomControl(options=['position', 'zoom_in_text', 'zoom_in_…"
      ]
     },
     "metadata": {},
     "output_type": "display_data"
    }
   ],
   "source": [
    "widg_map"
   ]
  },
  {
   "cell_type": "code",
   "execution_count": null,
   "metadata": {},
   "outputs": [],
   "source": []
  }
 ],
 "metadata": {
  "kernelspec": {
   "display_name": "Python 3",
   "language": "python",
   "name": "python3"
  },
  "language_info": {
   "codemirror_mode": {
    "name": "ipython",
    "version": 3
   },
   "file_extension": ".py",
   "mimetype": "text/x-python",
   "name": "python",
   "nbconvert_exporter": "python",
   "pygments_lexer": "ipython3",
   "version": "3.7.6"
  }
 },
 "nbformat": 4,
 "nbformat_minor": 2
}
