{
 "cells": [
  {
   "cell_type": "code",
   "execution_count": 1,
   "metadata": {},
   "outputs": [],
   "source": [
    "import stageemi.dev.decorator_map as dm\n",
    "import xarray as xr \n",
    "import ipywidgets as widg\n",
    "import ipyleaflet as ipyl\n",
    "import datetime as dt\n",
    "import os \n",
    "import numpy as np\n",
    "import shapely\n",
    "from stageemi.dev.visu import Borders,Map\n",
    "import geojson\n",
    "from ipyleaflet import WidgetControl\n",
    "import pandas \n"
   ]
  },
  {
   "cell_type": "code",
   "execution_count": 2,
   "metadata": {},
   "outputs": [
    {
     "name": "stdout",
     "output_type": "stream",
     "text": [
      "/scratch/labia/lepapeb/StageEMI/WWMF/20191104000000__PG0PAROME__WWMF__EURW1S100______GRILLE____0_48_1__SOL____GRIB2.nc\n"
     ]
    }
   ],
   "source": [
    "var2plot = \"WWMF\"\n",
    "mask = 'FRK24' #['FRB05',\"FRH02\",'FRJ13','FRK24']\n",
    "#date = \"2019121306\"\n",
    "date = \"2019110400\"\n",
    "\n",
    "dir_in = '/scratch/labia/lepapeb/StageEMI/'+var2plot+'/'\n",
    "\n",
    "fname  = dir_in + date+'0000__PG0PAROME__'+var2plot+'__EURW1S100______GRILLE____0_48_1__SOL____GRIB2.nc'\n",
    "ds = xr.open_dataset(fname)\n",
    "ds['latitude']=ds['latitude'].round(5)\n",
    "ds['longitude']=ds['longitude'].round(5)\n",
    "print(fname)"
   ]
  },
  {
   "cell_type": "code",
   "execution_count": 3,
   "metadata": {
    "scrolled": true
   },
   "outputs": [
    {
     "data": {
      "text/plain": [
       "<matplotlib.image.AxesImage at 0x2aaae1204990>"
      ]
     },
     "execution_count": 3,
     "metadata": {},
     "output_type": "execute_result"
    },
    {
     "data": {
      "image/png": "[encoded data removed]",
      "text/plain": [
       "<Figure size 432x288 with 2 Axes>"
      ]
     },
     "metadata": {
      "needs_background": "light"
     },
     "output_type": "display_data"
    }
   ],
   "source": [
    "\n",
    "fname_mask = '/home/mrpa/borderiesm/stageEMI/Codes/stageemi/stageemi/GeoData/nc_departement/'+mask+'.nc'\n",
    "ds_mask = xr.open_dataset(fname_mask)\n",
    "ds_mask[\"latitude\"]=ds_mask[\"latitude\"].round(5)\n",
    "ds_mask[\"longitude\"]=ds_mask[\"longitude\"].round(5)\n",
    "lat_center = ds_mask[\"latitude\"].values.mean()\n",
    "lon_center = ds_mask[\"longitude\"].values.mean()\n",
    "\n",
    "ds_b = ds*ds_mask[\"mask\"]\n",
    "ds_b = ds_b.squeeze(\"id\")    \n",
    "ds_b['unknown'].isel(step=1).plot.imshow(vmin = 0,vmax= 10,levels=np.arange(0,10))"
   ]
  },
  {
   "cell_type": "code",
   "execution_count": 4,
   "metadata": {},
   "outputs": [],
   "source": [
    "@dm.gogeojson_wwmf(type=\"Pixel\")\n",
    "def get_step(step):\n",
    "    return ds_b[\"unknown\"].isel(step=step)\n",
    "\n",
    "def update_html(feature, **kwargs):\n",
    "    #print(feature['properties'])\n",
    "    file_CodesWWMF = '/home/mrpa/borderiesm/stageEMI/Codes/stageemi/stageemi/utils/CodesWWMF.csv'\n",
    "    df = pandas.read_csv(file_CodesWWMF,usecols = (0,1),sep=',')\n",
    "    legende_WWMF = df['Legende WWMF'].to_numpy()\n",
    "    code_WWMF    = df['Code WWMF'].to_numpy()\n",
    "    valeur_code  = feature['properties']['value']\n",
    "    indice       = np.where(code_WWMF == valeur_code)\n",
    "    #print(code_WWMF[indice[0]])\n",
    "    #print(legende_WWMF[indice[0]])\n",
    "    html1.value = '''\n",
    "        <h4> Type de temps </h4>\n",
    "        <h4><b>{}<br />{}</b></h4>\n",
    "    '''.format(legende_WWMF[indice[0]][0],code_WWMF[indice[0]][0])\n",
    "    \n",
    "   # html1.value = '''\n",
    "    #    <h4> Type de temps </h4>\n",
    "     #   <h4><b>{}</b></h4>\n",
    "    #'''.format(feature['properties']['value'])\n",
    "    \n",
    "def on_change(change):\n",
    "    geo_file,legend_file = get_step(change[\"new\"])\n",
    "    geojson_layer = ipyl.GeoJSON(data=geo_file,hover_style={\"opacity\":1})\n",
    "    if len(m.layers) == 1:\n",
    "        m.add_layer(geojson_layer)\n",
    "    else: \n",
    "        m.substitute_layer(m.layers[3],geojson_layer)\n",
    "    geojson_layer.on_hover(update_html)\n",
    "    legend_file.seek(0)\n",
    "    legend.value =legend_file.read() \n",
    "    \n",
    "slider = widg.IntSlider(min=0,max=len(ds_b.step),step=1,value=0,description=\"step\")\n",
    "slider.observe(on_change,'value')\n",
    "    \n",
    "    "
   ]
  },
  {
   "cell_type": "code",
   "execution_count": 5,
   "metadata": {},
   "outputs": [],
   "source": [
    "#df = pandas.read_csv(file_CodesWWMF,usecols = (0,1),sep=',')\n",
    "#legende_WWMF = df['Legende WWMF'].to_numpy()\n",
    "#code_WWMF    = df['Code WWMF'].to_numpy()\n",
    "#indice       = np.where(code_WWMF == 5)\n",
    "#print(legende_WWMF[indice[0]][0])\n",
    "#code_WWMF.index==1\n",
    "#legende_WWMF[legende_WWMF.index==indice[0]]  "
   ]
  },
  {
   "cell_type": "code",
   "execution_count": 6,
   "metadata": {},
   "outputs": [
    {
     "name": "stderr",
     "output_type": "stream",
     "text": [
      "/opt/anaconda3/envs/preproc2/lib/python3.7/site-packages/matplotlib/colors.py:527: RuntimeWarning: invalid value encountered in less\n",
      "  xa[xa < 0] = -1\n"
     ]
    },
    {
     "data": {
      "application/vnd.jupyter.widget-view+json": {
       "model_id": "b7d8fac46a8e490485ad504073dfffc2",
       "version_major": 2,
       "version_minor": 0
      },
      "text/plain": [
       "HBox(children=(Map(center=[45.29, 5.535], controls=(ZoomControl(options=['position', 'zoom_in_text', 'zoom_in_…"
      ]
     },
     "metadata": {},
     "output_type": "display_data"
    }
   ],
   "source": [
    "m = ipyl.Map(zoom=9, center=(lat_center,lon_center ))\n",
    "html1 = widg.HTML('''\n",
    "    <h4>Type de temps</h4>\n",
    "    Hover over a pixel\n",
    "''')\n",
    "html1.layout.margin = '0px 20px 20px 20px'\n",
    "control1 = WidgetControl(widget=html1, position='bottomright')\n",
    "m.add_control(control1)\n",
    "m.add_control(ipyl.WidgetControl(widget=slider,position=\"topright\"))\n",
    "geo_file,legend_file = get_step(0)\n",
    "\n",
    "ZonesSympo_layer= Borders('/home/mrpa/borderiesm/stageEMI/Codes/stageemi/stageemi/GeoData/ZonesSympo/zones_sympo_4326.json',color='blue')\n",
    "\n",
    "#print(mask)\n",
    "geojson_layer = ipyl.GeoJSON(data=geo_file,hover_style={\"opacity\":1,\"fillColor\":\"#000000\"})\n",
    "geojson_layer.on_hover(update_html)\n",
    "m.add_layer(ZonesSympo_layer)\n",
    "if mask == \"FRJ13\":\n",
    "    dept= Borders('/home/mrpa/borderiesm/stageEMI/Codes/stageemi/stageemi/GeoData/Departements/Herault.json',color='red')\n",
    "    m.add_layer(dept)\n",
    "if mask == \"FRK24\":\n",
    "    dept = Borders('/home/mrpa/borderiesm/stageEMI/Codes/stageemi/stageemi/GeoData/Departements/Isere.json',color='red')\n",
    "    m.add_layer(dept)\n",
    "m.add_layer(geojson_layer)\n",
    "\n",
    "legend_file.seek(0)\n",
    "legend = widg.Image(layout=widg.Layout(height=\"430px\"))\n",
    "legend.value = legend_file.read() \n",
    "widg_map = widg.HBox([m,legend])\n",
    "widg_map"
   ]
  },
  {
   "cell_type": "code",
   "execution_count": null,
   "metadata": {},
   "outputs": [],
   "source": []
  }
 ],
 "metadata": {
  "kernelspec": {
   "display_name": "Python 3",
   "language": "python",
   "name": "python3"
  },
  "language_info": {
   "codemirror_mode": {
    "name": "ipython",
    "version": 3
   },
   "file_extension": ".py",
   "mimetype": "text/x-python",
   "name": "python",
   "nbconvert_exporter": "python",
   "pygments_lexer": "ipython3",
   "version": "3.7.6"
  }
 },
 "nbformat": 4,
 "nbformat_minor": 2
}
