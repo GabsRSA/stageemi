{
 "cells": [
  {
   "cell_type": "code",
   "execution_count": 18,
   "metadata": {},
   "outputs": [],
   "source": [
    "import stageemi.dev.decorator_map as dm\n",
    "import xarray as xr \n",
    "import ipywidgets as widg \n",
    "import ipyleaflet as ipyl\n",
    "import datetime as dt\n",
    "import os \n",
    "from ipywidgets import Text, HTML\n",
    "from ipyleaflet import WidgetControl\n",
    "import pandas\n",
    "import numpy as np"
   ]
  },
  {
   "cell_type": "code",
   "execution_count": 19,
   "metadata": {},
   "outputs": [],
   "source": [
    "def printf(change):\n",
    "    print(change)\n",
    "d = widg.DatePicker()\n",
    "d.observe(printf,\"value\")"
   ]
  },
  {
   "cell_type": "code",
   "execution_count": 20,
   "metadata": {},
   "outputs": [],
   "source": [
    "class interactive_map(widg.HBox):\n",
    "    def __init__(self):\n",
    "        self.m = ipyl.Map(basemap=ipyl.basemaps.OpenTopoMap,center=(45,6),zoom=7)\n",
    "        # Date \n",
    "        date_picker = widg.DatePicker(value=dt.datetime(2020,1,10))\n",
    "        self._date = date_picker.value \n",
    "        date_picker.observe(self.change_date,\"value\")\n",
    "        self.step = 0\n",
    "        variable_picker = widg.Dropdown(value=\"WWMF\",options=[\"WWMF\",\"PRECIP\",\"T\"])\n",
    "        variable_picker.observe(self.variable_change,\"value\")\n",
    "        self._variable = variable_picker.value\n",
    "        # Open dataset and mask \n",
    "        self.open_file()\n",
    "        self.get_mask()\n",
    "        \n",
    "        # Add other widgets \n",
    "        self.legend = widg.Image(layout=widg.Layout(height=\"430px\"))\n",
    "        self.html1 = HTML('''\n",
    "                    <h4>Type de temps</h4>\n",
    "                        Hover over a pixel\n",
    "                        ''')\n",
    "        self.html1.layout.margin = '0px 20px 20px 20px'\n",
    "        # Add controls \n",
    "        control1 = WidgetControl(widget=self.html1, position='bottomright')\n",
    "        self.m.add_control(control1)\n",
    "    \n",
    "        slider = widg.IntSlider(min=0,max=len(self.da.step),step=1,value=0,description=\"step\")\n",
    "        slider.observe(self.change_step,'value')\n",
    "        self.m.add_control(ipyl.WidgetControl(widget=widg.VBox([date_picker,slider,variable_picker]),position=\"topright\"))\n",
    "        self.render()\n",
    "        super().__init__([self.m,self.legend])\n",
    "        \n",
    "    @property \n",
    "    def variable(self):\n",
    "        return self._variable\n",
    "   \n",
    "    @variable.setter \n",
    "    def variable(self,variable):\n",
    "        self._variable = variable\n",
    "        self.open_file()\n",
    "        self.render()\n",
    "        \n",
    "    @property \n",
    "    def date(self):\n",
    "        return self._date\n",
    "    \n",
    "    @date.setter\n",
    "    def date(self,date):\n",
    "        self._date = date\n",
    "        self.open_file()\n",
    "        self.render()    \n",
    "    \n",
    "    @property \n",
    "    def mask(self):\n",
    "        return self._mask \n",
    "    \n",
    "    @mask.setter\n",
    "    def mask(self,mask):\n",
    "        self._mask = mask \n",
    "        if hasattr(self,\"da\"):\n",
    "            self.mask_da()\n",
    "            \n",
    "    def variable_change(self,change):\n",
    "        print(change[\"new\"])\n",
    "        self.variable = change[\"new\"]\n",
    "        \n",
    "    def mask_da(self):\n",
    "        self.da_masked = (self.mask * self.da).squeeze(\"id\")\n",
    "\n",
    "        \n",
    "    def get_mask(self):\n",
    "        da_mask = xr.open_dataarray(\"../../GeoData/nc_departement/FRK24.nc\")\n",
    "        da_mask[\"latitude\"] = da_mask.latitude.round(5)\n",
    "        self.mask = da_mask \n",
    "        \n",
    "    def change_date(self,change):\n",
    "        self.date = change[\"new\"]\n",
    "        \n",
    "    def open_file(self):\n",
    "        if self.variable == \"WWMF\":\n",
    "            fname = \"/scratch/labia/lepapeb/models_data/WWMF/%s__PG0PAROME__WWMF__EURW1S100______GRILLE____0_48_1__SOL____GRIB2.nc\"%self.date.strftime(\"%Y%m%d%H%M%S\")\n",
    "        elif self.variable == \"PRECIP\":\n",
    "            fname = \"/scratch/labia/lepapeb/models_data/PRECIP/%s__PAROME__PRECIP__EURW1S100______GRILLE____1_48_1__SOL____.nc\"%self.date.strftime(\"%Y%m%d%H%M%S\")\n",
    "        elif self.variable == \"T\":\n",
    "            fname = \"/scratch/labia/lepapeb/models_data/T/%s__PG1PAROME__T__EURW1S100______GRILLE____0_48_1__HAUTEUR__2__.nc\"%self.date.strftime(\"%Y%m%d%H%M%S\")\n",
    "        else: \n",
    "            raise(ValueError(\"Unknown variable\"))\n",
    "        self.da = xr.open_dataarray(fname)\n",
    "        self.da['latitude'] = self.da.latitude.round(5)\n",
    "        if hasattr(self,\"mask\"):\n",
    "             self.mask_da()\n",
    "                \n",
    "    @dm.gogeojson_wwmf\n",
    "    def get_step(self):\n",
    "        return self.da_masked.isel(step=self.step)\n",
    "    \n",
    "        \n",
    "    def update_html(self,feature, **kwargs):\n",
    "        file_CodesWWMF = '/home/mrpa/borderiesm/stageEMI/Codes/stageemi/stageemi/utils/CodesWWMF.csv'\n",
    "        df = pandas.read_csv(file_CodesWWMF,usecols = (0,1),sep=',')\n",
    "        legende_WWMF = df['Legende WWMF'].to_numpy()\n",
    "        code_WWMF    = df['Code WWMF'].to_numpy()\n",
    "        valeur_code  = feature['properties']['value']\n",
    "        indice       = np.where(code_WWMF == valeur_code)\n",
    "        self.html1.value = '''\n",
    "            <h4> Type de temps </h4>\n",
    "            <h4><b>{}<br />{}<br /></h4>\n",
    "        '''.format(legende_WWMF[indice[0]][0],code_WWMF[indice[0]][0]) \n",
    "\n",
    "    \n",
    "    def change_step(self,change):\n",
    "        self.step = change[\"new\"]\n",
    "        self.render()\n",
    "        \n",
    "    def render(self):\n",
    "        geo_file,legend_file = self.get_step()\n",
    "        geojson_layer = ipyl.GeoJSON(data=geo_file,hover_style={\"opacity\":1})\n",
    "        if hasattr(self,\"geojson_layer\"):\n",
    "            if self.geojson_layer in self.m.layers:\n",
    "                self.m.substitute_layer(self.geojson_layer,geojson_layer)\n",
    "            else: \n",
    "                self.m.add_layer(geojson_layer)\n",
    "        else:\n",
    "            self.m.add_layer(geojson_layer)\n",
    "        self.geojson_layer = geojson_layer\n",
    "        self.geojson_layer.on_hover(self.update_html)\n",
    "        legend_file.seek(0)\n",
    "        self.legend.value =legend_file.read() "
   ]
  },
  {
   "cell_type": "code",
   "execution_count": 21,
   "metadata": {},
   "outputs": [
    {
     "name": "stderr",
     "output_type": "stream",
     "text": [
      "/opt/anaconda3/envs/preproc2/lib/python3.7/site-packages/matplotlib/colors.py:527: RuntimeWarning: invalid value encountered in less\n",
      "  xa[xa < 0] = -1\n"
     ]
    }
   ],
   "source": [
    "m = interactive_map()\n",
    "\n"
   ]
  },
  {
   "cell_type": "code",
   "execution_count": 22,
   "metadata": {},
   "outputs": [
    {
     "data": {
      "application/vnd.jupyter.widget-view+json": {
       "model_id": "d4fa0082a64443fc9250ea9248d3e4e0",
       "version_major": 2,
       "version_minor": 0
      },
      "text/plain": [
       "interactive_map(children=(Map(center=[45, 6], controls=(ZoomControl(options=['position', 'zoom_in_text', 'zoom…"
      ]
     },
     "metadata": {},
     "output_type": "display_data"
    }
   ],
   "source": [
    "m"
   ]
  },
  {
   "cell_type": "code",
   "execution_count": null,
   "metadata": {},
   "outputs": [],
   "source": []
  }
 ],
 "metadata": {
  "kernelspec": {
   "display_name": "Python 3",
   "language": "python",
   "name": "python3"
  },
  "language_info": {
   "codemirror_mode": {
    "name": "ipython",
    "version": 3
   },
   "file_extension": ".py",
   "mimetype": "text/x-python",
   "name": "python",
   "nbconvert_exporter": "python",
   "pygments_lexer": "ipython3",
   "version": "3.7.6"
  }
 },
 "nbformat": 4,
 "nbformat_minor": 2
}
