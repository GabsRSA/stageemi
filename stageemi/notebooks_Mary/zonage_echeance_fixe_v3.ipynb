{
 "cells": [
  {
   "cell_type": "code",
   "execution_count": 1,
   "metadata": {},
   "outputs": [],
   "source": [
    "# dans ce code on cherche à définir plusieurs zones à une échéance fixe\n",
    "# v2: possibilité de selectionner +sieurs zones pour un temps sensible critique donné \n",
    "# import sklearn.metrics\n",
    "import numpy as np\n",
    "import glob\n",
    "import xarray as xr \n",
    "import matplotlib.pyplot as plt \n",
    "import matplotlib.patches as mpatches\n",
    "import matplotlib.lines as mlines\n",
    "import matplotlib\n",
    "# import pandas as pd\n",
    "import time\n",
    "import glob\n",
    "import sys, os\n",
    "import string\n",
    "from pathlib import Path # pour windows \n",
    "sys.path.insert(0, os.path.abspath('./lib'))\n",
    "\n",
    "from lib import find_neighbours, conversion\n",
    "from lib import hss,precision #,far,f1, pod,pofd\n",
    "from lib import get_optimal_subzone_v2,create_combination_subzones, create_nc_mask_NSEO\n",
    "from lib import group_masks_size, get_optimal_subzone, select_group_mask, get_WME_legend, get_not_included_masks\n",
    "\n",
    "import stageemi\n",
    "import stageemi.dev.distance_wwmf as distance_wwmf"
   ]
  },
  {
   "cell_type": "code",
   "execution_count": 2,
   "metadata": {},
   "outputs": [],
   "source": [
    "def get_optimal_subzone_v2(ds_WME, groupe_mask_select,cible):\n",
    "    \"\"\"\n",
    "        cible = valeur du temps sensible cible \n",
    "        groupe_mask_select = ensemble de masks qui vont être comparés à l'objet météo\n",
    "        ds_WME:xarray contenant les champs WME\n",
    "    \"\"\"\n",
    "    score_precision = np.zeros(len(groupe_mask_select))    \n",
    "    score_hss       = np.zeros(len(groupe_mask_select)) \n",
    "    for imask,ds_mask_sub in enumerate(groupe_mask_select):    \n",
    "        # check si les latitudes sont selon le même ordre\n",
    "        lat1 = ds_mask_sub.latitude.values\n",
    "        lat2 = ds_WME.latitude.values\n",
    "        if (np.sum(lat1==lat2) == lat1.size ): \n",
    "            # same order \n",
    "#             print(\"same order\")\n",
    "            y_true = ds_WME.wme_arr.copy()\n",
    "        elif (np.sum(lat1[::-1]==lat2)== lat1.size):\n",
    "#             print('reverse order ')\n",
    "            y_true = ds_WME.wme_arr[::-1,:].copy()\n",
    "        else: \n",
    "            print(\"pb sur lon/lat\")\n",
    "            break\n",
    "        y_pred = ds_mask_sub.copy() \n",
    "        y_true = y_true.where(~((y_true.values!=cible) & (~np.isnan(y_true.values))),0)#ds_dep.wme_arr.copy()\n",
    "        y_true = y_true.where(~(y_true.values == cible), 1)\n",
    "        y_true_score = y_true.values[~np.isnan(y_true.values)]\n",
    "        y_pred_score = y_pred.values[~np.isnan(y_pred.values)]\n",
    "        # metriques : \n",
    "        score_precision[imask] = precision(y_true_score,y_pred_score)\n",
    "        score_hss[imask]       = hss(y_true_score,y_pred_score)\n",
    "        \n",
    "    ind_nan = np.where((~np.isnan(score_hss))*(score_hss>0))\n",
    "    \n",
    "    if np.size(ind_nan[0])== 0 :\n",
    "        # signifie qu'il y a aucune zone qui représente bien la cible\n",
    "        print('pas de zones homogène pour {}'.format(cible))\n",
    "        zones_optimales_f,hss_f,precision_f = [],[],[] \n",
    "    elif np.size(ind_nan[0])== 1 : \n",
    "        # une seule zone possible\n",
    "        print(ind_nan)\n",
    "        print('une seule zone possible pour {}'.format(cible))\n",
    "        zones_optimales_f = [groupe_mask_select.id.values[ind_nan][0]]\n",
    "        hss_f             = [score_hss[ind_nan][0]]\n",
    "        precision_f       = [score_precision[ind_nan][0]]\n",
    "    else: \n",
    "        indice = np.argsort(score_hss[ind_nan])[::-1][:2]\n",
    "        zones_optimales = groupe_mask_select.id.values[ind_nan][indice].tolist()\n",
    "        if score_precision[ind_nan][indice][1]>0.2 and \\\n",
    "            np.abs(score_hss[ind_nan][indice][1] - score_hss[ind_nan][indice][0]) / score_hss[ind_nan][indice][0] <0.2: \n",
    "            # si la fraction de l'événement est supérieure à 20% dans la zone, et si les hss des deux meilleures zones \n",
    "            # sont similaires\n",
    "            best_zones = zones_optimales\n",
    "            # checker de l'inclusion de l'une ou l'autre des zones\n",
    "            list_neighbours = best_zones[::-1]\n",
    "            list_ref        = best_zones \n",
    "            for iref in range(len(list_ref)):\n",
    "                mask_ref=ds_mask.sel(id=list_ref[iref])\n",
    "                lst_mask_not_included, lst_mask_included = get_not_included_masks(mask_ref.mask, [list_neighbours[iref]],ds_mask,flag_strictly_included=True)\n",
    "                if len(lst_mask_included)>0 :\n",
    "                    # signifie que un des deux masks est inclu dans l'autre\n",
    "                    zones_optimales_f = [list_ref[iref]]\n",
    "                    hss_f             = [score_hss[ind_nan][indice][iref]]\n",
    "                    precision_f       = [score_precision[ind_nan][indice][iref]]\n",
    "                    break\n",
    "                else:\n",
    "                    zones_optimales_f = best_zones\n",
    "                    hss_f             = score_hss[ind_nan][indice].tolist()\n",
    "                    precision_f       = score_precision[ind_nan][indice].tolist()\n",
    "        else: \n",
    "            # tant pis on prend qu'une seule zone\n",
    "            zones_optimales_f = [groupe_mask_select.id.values[ind_nan][indice][0]]\n",
    "            hss_f             = [score_hss[ind_nan][indice][0]]\n",
    "            precision_f       = [score_precision[ind_nan][indice][0]]\n",
    "    return zones_optimales_f,hss_f,precision_f\n"
   ]
  },
  {
   "cell_type": "code",
   "execution_count": 3,
   "metadata": {},
   "outputs": [],
   "source": [
    "dep_id = '41'#'29'#'41' #'38'#\n",
    "date   = '2020012600'\n",
    "echeance = 4\n",
    "list_name = ['compas','agat','compas_asym','agat_asym'] # pour agreger le temps sensible\n",
    "windows = True \n",
    "\n",
    "mask_sympo = True\n",
    "mask_geographique = False\n",
    "\n",
    "dir_fig = 'C:\\\\Users\\\\mary\\\\Desktop\\\\stageemi\\\\figures\\\\'"
   ]
  },
  {
   "cell_type": "markdown",
   "metadata": {},
   "source": [
    "# lecture du mask"
   ]
  },
  {
   "cell_type": "code",
   "execution_count": 4,
   "metadata": {},
   "outputs": [
    {
     "name": "stdout",
     "output_type": "stream",
     "text": [
      "0.46065855026245117\n",
      "31\n"
     ]
    }
   ],
   "source": [
    "if mask_sympo and not mask_geographique: \n",
    "    t1 = time.time()\n",
    "    fname_out = '../GeoData/zones_sympo_multiples/'+dep_id+'_mask_zones_sympos.nc'\n",
    "    if not os.path.exists(fname_out): \n",
    "        dir_mask = '/home/mrpa/borderiesm/stageEMI/Codes/StageEMI/Masques_netcdf/ZONE_SYMPO/'\n",
    "        list_subzones = glob.glob(dir_mask + dep_id +'*.nc')\n",
    "        n_subzones = len(list_subzones)  # nombre de zones sympos initiales\n",
    "        lst_subzones = [zone[-7:-3] for zone in list_subzones]\n",
    "        ds_mask = create_combination_subzones(dir_mask,dep_id,lst_subzones,fname_out,degre5=True) \n",
    "    else: \n",
    "        ds_mask = xr.open_dataset(fname_out,chunks={\"id\":1})\n",
    "        ds_mask[\"latitude\"]  = ds_mask[\"latitude\"].round(5)\n",
    "        ds_mask[\"longitude\"] = ds_mask[\"longitude\"].round(5)\n",
    "    print(time.time() - t1)\n",
    "    \n",
    "if mask_geographique and not mask_sympo: \n",
    "    dir_mask  = '/home/mrpa/borderiesm/stageEMI/Codes/stageemi/stageemi/GeoData/nc_departement/'\n",
    "    if   dep_id == '38': dep = 'FRK24'\n",
    "    elif dep_id == '41': dep = 'FRB05'\n",
    "    elif dep_id == \"34\": dep = 'FRJ13'\n",
    "    elif dep_id == '29': dep = \"FRH02\"\n",
    "    else: \n",
    "        print('remplir la bonne valeur pour le dep')\n",
    "        sys.exit()\n",
    "        \n",
    "    dep_file  = dir_mask + dep +'.nc' \n",
    "    fname_out = '/home/mrpa/borderiesm/stageEMI/Codes/StageEMI/Masques_netcdf/ZONE_SYMPO_MULTIPLE/'+ dep_id+'_'+dep+'_mask_NSEO.nc'\n",
    "\n",
    "    if not os.path.exists(fname_out):\n",
    "        ds_mask = create_nc_mask_NSEO(dep_file,fname_out)\n",
    "    else:\n",
    "        print('fichier existe pas')\n",
    "#         ds_mask = read_xarray(fname_out) \n",
    "\n",
    "print(ds_mask.id.values.size)"
   ]
  },
  {
   "cell_type": "code",
   "execution_count": 5,
   "metadata": {},
   "outputs": [],
   "source": [
    "fname = \"../WWMF/\" + date+'0000__PG0PAROME__'+'WWMF'+'__EURW1S100______GRILLE____0_48_1__SOL____GRIB2.nc'\n",
    "\n",
    "ds = xr.open_dataset(fname,chunks={\"step\":1})\n",
    "ds['latitude']  = ds['latitude'].round(5)\n",
    "ds['longitude'] = ds['longitude'].round(5)\n",
    "# ds.latitude.values = ds.latitude.values[::-1]\n",
    "\n",
    "if mask_sympo and not mask_geographique: \n",
    "    ds_dep_tot = (ds*ds_mask.mask.sel(id=\"departement\").drop(\"id\"))\n",
    "if mask_geographique and not mask_sympo: \n",
    "#     ds2plot = ds.isel(step=echeance) * ds_mask.mask.sel(id=\"mask\") \n",
    "    ds_dep_tot = (ds*ds_mask.mask.sel(id=\"mask\").drop(\"id\"))\n"
   ]
  },
  {
   "cell_type": "markdown",
   "metadata": {},
   "source": [
    "# on calcule les temps agrégés selon les méthodes (compas, compas_asym)"
   ]
  },
  {
   "cell_type": "code",
   "execution_count": 6,
   "metadata": {},
   "outputs": [
    {
     "name": "stderr",
     "output_type": "stream",
     "text": [
      "C:\\Users\\mary\\anaconda3\\envs\\preproc\\lib\\site-packages\\dask\\array\\core.py:3901: PerformanceWarning: Increasing number of chunks by factor of 31\n",
      "  result = blockwise(\n",
      "C:\\Users\\mary\\anaconda3\\envs\\preproc\\lib\\site-packages\\dask\\array\\core.py:3901: PerformanceWarning: Increasing number of chunks by factor of 31\n",
      "  result = blockwise(\n",
      "C:\\Users\\mary\\anaconda3\\envs\\preproc\\lib\\site-packages\\dask\\array\\core.py:3901: PerformanceWarning: Increasing number of chunks by factor of 31\n",
      "  result = blockwise(\n",
      "C:\\Users\\mary\\anaconda3\\envs\\preproc\\lib\\site-packages\\dask\\array\\core.py:3901: PerformanceWarning: Increasing number of chunks by factor of 31\n",
      "  result = blockwise(\n"
     ]
    }
   ],
   "source": [
    "ds_distance_dict = {}\n",
    "for name in list_name:\n",
    "    ds_distance         = distance_wwmf.get_pixel_distance_dept(ds_dep_tot,name)\n",
    "    ds_distance_chunk   = ds_distance.chunk({\"step\":1}) \n",
    "    ds_distance_dict[name] = (ds_distance_chunk * ds_mask.mask).sum(['latitude',\"longitude\"]).compute()\n"
   ]
  },
  {
   "cell_type": "markdown",
   "metadata": {},
   "source": [
    "# on restreint la liste des WME pour le zonage "
   ]
  },
  {
   "cell_type": "code",
   "execution_count": 7,
   "metadata": {},
   "outputs": [
    {
     "name": "stdout",
     "output_type": "stream",
     "text": [
      "[ 2.  4.  8. 10. 14. 18.] ['Nuageux', 'Brume/Brouillard/Grisaille', 'Pluie', 'Neige', 'Averses', 'Orages']\n"
     ]
    }
   ],
   "source": [
    "var_name = 'wme_arr'\n",
    "# boucle sur echeance ici\n",
    "ds_dep = ds_dep_tot.isel(step = echeance).copy()\n",
    "# on regroupe 'Très nuageux/Couvert' et 'Nuageux'\n",
    "ds_dep = ds_dep.where(~((ds_dep[var_name].values == 2) + (ds_dep[var_name].values == 3) ), 2)\n",
    "\n",
    "# on regroupe ensemble neige (10) et neige faible (7)\n",
    "ds_dep = ds_dep.where(~((ds_dep[var_name].values == 7) + (ds_dep[var_name].values == 10)), 10)\n",
    "\n",
    "# on regroupe ensemble pluie (8) et pluie faible (6)\n",
    "ds_dep = ds_dep.where(~((ds_dep[var_name].values == 8) + (ds_dep[var_name].values == 6)),8)\n",
    "\n",
    "# on regroupe ensemble qlqs averses (12) et averses (14), et qlqs averses de neige (13)\n",
    "ds_dep = ds_dep.where(~((ds_dep[var_name].values == 12) + (ds_dep[var_name].values == 13)\n",
    "                          + (ds_dep[var_name].values == 14 )),14)\n",
    "\n",
    "# on regroupe ensemble averses Orageuses (16) et Orages  (18)\n",
    "ds_dep = ds_dep.where(~((ds_dep[var_name].values == 16) + (ds_dep[var_name].values == 18)),18)\n",
    "\n",
    "# ds_dep.wme_arr.plot()\n",
    "\n",
    "file_CodesWWMF = '../utils/CodesWWMF.csv'\n",
    "cible_list,legend_list = get_WME_legend(file_CodesWWMF, ds_dep)\n",
    "print(cible_list,legend_list)"
   ]
  },
  {
   "cell_type": "markdown",
   "metadata": {},
   "source": [
    "# zonage "
   ]
  },
  {
   "cell_type": "code",
   "execution_count": 8,
   "metadata": {},
   "outputs": [
    {
     "name": "stdout",
     "output_type": "stream",
     "text": [
      "zone optimales ['4103'] [0.01726532328279625] [0.011091652072387624]\n",
      "zone optimales ['4101+4102'] [0.1920417282437521] [0.3577981651376147]\n",
      "4101+4102\n",
      "zone optimales ['4104'] [0.00620821536179473] [0.003629764065335753]\n",
      "4104\n",
      "pas de zones homogène pour 8.0\n",
      "zone optimales [] [] []\n",
      "zone optimales ['4105+4106'] [0.06964486738030945] [0.3159860557768924]\n",
      "4105+4106\n",
      "pas de zones homogène pour 2.0\n",
      "zone optimales [] [] []\n",
      "toutes les zones sont bien décrites\n",
      "{18.0: ['4103'], 14.0: ['4101+4102'], 10.0: ['4104'], 4.0: ['4105+4106']}\n"
     ]
    }
   ],
   "source": [
    "nsubzonesMax = 7\n",
    "listCible    = cible_list[::-1]\n",
    "# listCible = [4]\n",
    "legend_cible = []\n",
    "listMasksNew = ds_mask.id.values # on commence avec l'ensemble des masks\n",
    "\n",
    "# liste de zones sympos initiales (pour checker à la fin si oui ou non on a une info sur toutes les zones)\n",
    "list_zones_sympos_initiales = [zone for zone in ds_mask.id.values if len(zone) == 4]\n",
    "\n",
    "nsubzones    = 0\n",
    "zones_cibles = {}\n",
    "score_zones_cibles = {}\n",
    "if len(listCible) == 0 : # si un département a le même temps sensible partout\n",
    "    zones_cibles[listCible[0]] = 'departement'\n",
    "else: \n",
    "    for icible,cible in enumerate(listCible):\n",
    "        if nsubzones > nsubzonesMax: \n",
    "            print('nombre de sous-zones trop grand')\n",
    "            break \n",
    "        if nsubzones >1: \n",
    "            # pour éviter que departement ne soit selectionné alors que des sous-zones de departement aient déjà été selectionnées.\n",
    "            listMasksNew = [element for element in listMasksNew if element !='departement']\n",
    "            \n",
    "        if len(listMasksNew)>60:\n",
    "            #  on regroupe les masks selon leur taille\n",
    "            groupe1,groupe2,groupe3,taille1,taille2  = group_masks_size(listMasksNew,ds_mask)\n",
    "            # on selectionne le groupement de zones qui match l'objet météo\n",
    "            groupe_mask_select = select_group_mask(ds_WME,cible,groupe1,groupe2,groupe3,taille1,taille2)\n",
    "        else: \n",
    "            # on considère l'ensemble des masks\n",
    "            groupe_mask_select = ds_mask.mask.sel(id=listMasksNew)\n",
    "        # on selectionne la zone optimale (selon le hss et la précision)\n",
    "        zones_optimales,score_hss,score_precision=get_optimal_subzone_v2(ds_dep, groupe_mask_select,cible)\n",
    "        print('zone optimales',zones_optimales,score_hss,score_precision)\n",
    "#         sys.exit()\n",
    "        if len(zones_optimales)==0:\n",
    "            continue\n",
    "        else: \n",
    "            legend_cible.append(legend_list[::-1][icible])\n",
    "            score_zones_cibles[cible] = score_hss\n",
    "            zones_cibles[cible] = zones_optimales #zones_optimales[score_zonage]\n",
    "            nsubzones +=1  \n",
    "#         print(cible,zones_cibles[cible],len(zones_cibles[cible]),score_zones_cibles[cible])            \n",
    "\n",
    "        '''\n",
    "            on check que la somme des zones n'est pas deja egale au departement\n",
    "        '''\n",
    "        if  (nsubzones== 1) and (len(zones_cibles[cible]) == 1) :\n",
    "            ds_temp  = ds_mask.sel(id=zones_cibles[cible][0]).mask.copy()\n",
    "        \n",
    "        elif (nsubzones== 1) and (len(zones_cibles[cible]) > 1): \n",
    "            ds_temp  = ds_mask.sel(id=zones_cibles[cible][0]).mask.copy() \n",
    "            ds_temp.values[(ds_temp.values == 1) + (ds_mask.sel(id=zones_cibles[cible][1]).mask.values ==1) ] = 1\n",
    "        else: \n",
    "            for zone in zones_cibles[cible]:\n",
    "                print(zone)\n",
    "                ds_temp.values[(ds_temp.values == 1) + (ds_mask.sel(id=zone).mask.values ==1) ] = 1\n",
    "\n",
    "        somme = np.sum((ds_temp.values == 1)&( ds_mask.sel(id='departement').mask.values== 1))\n",
    "        tailleDep = np.sum( ds_mask.sel(id='departement').mask.values== 1)\n",
    "        if somme == tailleDep: \n",
    "            print('on a atteint la taille du departement')\n",
    "            break\n",
    "        for zone in zones_cibles[cible]:\n",
    "            listMasksNew, lst_mask_included = get_not_included_masks(ds_mask.mask.sel(id=zone)\n",
    "                                            ,listMasksNew,ds_mask,flag_strictly_included=False)\n",
    "#             print(\"on enleve les zones\",listMasksNew)\n",
    "    '''\n",
    "        on vérifie que toutes les zones du département sont dans les zones selectionnées\n",
    "    '''\n",
    "    list_zones_select = sum([zones_cibles[cible] for cible in zones_cibles.keys()],[]) # [zones_cibles[cible] for cible in zones_cibles.keys()]\n",
    "    zones_restantes = []\n",
    "    for zone_sympo in list_zones_sympos_initiales:\n",
    "        n = 0\n",
    "        for zone_select in list_zones_select: \n",
    "            if zone_sympo in zone_select:\n",
    "                n+=1\n",
    "        if n == 0 : \n",
    "            zones_restantes.append(zone_sympo)\n",
    "    if len(zones_restantes) > 0: \n",
    "        print('zones restantes:',zones_restantes)\n",
    "    else:\n",
    "        print('toutes les zones sont bien décrites')\n",
    "        \n",
    "print(zones_cibles)    "
   ]
  },
  {
   "cell_type": "markdown",
   "metadata": {},
   "source": [
    "# pour brancher l'agrégation "
   ]
  },
  {
   "cell_type": "code",
   "execution_count": 10,
   "metadata": {},
   "outputs": [
    {
     "name": "stdout",
     "output_type": "stream",
     "text": [
      "C:\\Users\\mary\\Desktop\\stageemi\\figures\\zonage\\compas_compas_asym\\v3_zonage_412020012600_4.png\n"
     ]
    },
    {
     "ename": "SystemExit",
     "evalue": "",
     "output_type": "error",
     "traceback": [
      "An exception has occurred, use %tb to see the full traceback.\n",
      "\u001b[1;31mSystemExit\u001b[0m\n"
     ]
    },
    {
     "name": "stderr",
     "output_type": "stream",
     "text": [
      "C:\\Users\\mary\\anaconda3\\envs\\preproc\\lib\\site-packages\\IPython\\core\\interactiveshell.py:3339: UserWarning: To exit: use 'exit', 'quit', or Ctrl-D.\n",
      "  warn(\"To exit: use 'exit', 'quit', or Ctrl-D.\", stacklevel=1)\n"
     ]
    }
   ],
   "source": [
    "matplotlib.rcParams['legend.handlelength'] = 0\n",
    "matplotlib.rcParams['legend.numpoints'] = 1\n",
    "\n",
    "X,Y = np.meshgrid( ds_mask.longitude.values,ds_mask.latitude.values)\n",
    "listMasks = [ds_mask.sel(id=id_ref) for id_ref in list_zones_sympos_initiales]\n",
    "\n",
    "legende = string.ascii_lowercase\n",
    "patches = []\n",
    "fig,ax = plt.subplots(nrows=1,ncols =1)\n",
    "# ds_dep.wme_arr.plot.imshow(ax = ax,cmap=matplotlib.cm.tab20)\n",
    "ds_dep_tot.isel(step = echeance).wme_arr.plot.imshow(ax = ax,cmap=matplotlib.cm.tab20)\n",
    "ax.set_title(date+' + {} h'.format(echeance))\n",
    "# print(zones_cibles)\n",
    "for icible,cible in enumerate(zones_cibles): #['3801+3802']:#, '3806']:#zones_cibles:\n",
    "#     zone_select = zones_cibles[cible] \n",
    "    for zone_select in  zones_cibles[cible] :\n",
    "        mask_ref = ds_mask.sel(id = zone_select)\n",
    "\n",
    "        list_neighbours = find_neighbours(mask_ref,listMasks)\n",
    "        lst_mask_not_included, lst_mask_included = get_not_included_masks(mask_ref.mask, list_neighbours,ds_mask,flag_strictly_included=True)\n",
    "        for neighbours in lst_mask_not_included:\n",
    "            ind = np.where((mask_ref.mask.values == 1) & (ds_mask.sel(id=neighbours).mask.values == 1))\n",
    "            ax.scatter(X[ind],Y[ind],color='k',s=6)\n",
    "        # \n",
    "        # ajout de la legende\n",
    "        indice_mask_ref = np.where(mask_ref.mask.values == 1)\n",
    "        ax.text(X[indice_mask_ref].mean(),Y[indice_mask_ref].mean(),s=legende[icible],color='k',fontsize=15)\n",
    "        label = zone_select +': '+ legend_list[::-1][icible] + ' ({})'.format(cible)\n",
    "        # ajout de l'agregation: \n",
    "        for name in list_name: \n",
    "            val_agrege = ds_distance_dict[name].wwmf_2[ds_distance_dict[name].argmin(\"wwmf_2\")].sel(id=zone_select).isel(step=echeance).values\n",
    "            label += ' {}:{}'.format(name,val_agrege)\n",
    "    patches.append(mlines.Line2D([],[],label = label,marker='${}$'.format(legende[icible]),color='black'))\n",
    "\n",
    "\n",
    "fig.legend(handles=patches,bbox_to_anchor=(1.05, 0.5), loc='center left',labelspacing =2,fontsize = 16)\n",
    "fig.tight_layout()\n",
    "fname_fig = dir_fig + 'zonage\\\\compas_compas_asym\\\\v3_zonage_'+dep_id+date+'_'+str(echeance)+'.png'\n",
    "print(fname_fig)\n",
    "fig.savefig(fname_fig,dpi=400,bbox_inches='tight',format='png')\n",
    "plt.clf()\n",
    "plt.close('all')\n",
    "sys.exit()\n"
   ]
  },
  {
   "cell_type": "markdown",
   "metadata": {},
   "source": [
    "# idem mais avec les zones sympos"
   ]
  },
  {
   "cell_type": "code",
   "execution_count": null,
   "metadata": {},
   "outputs": [],
   "source": [
    "temps_agrege = {}\n",
    "for name in ['compas','compas_asym']:\n",
    "    print(name)\n",
    "    temps_agrege[name] = {}\n",
    "#     ds_w1 = conversion(ds_WME,name)\n",
    "\n",
    "    for zone_select in list_zones_sympos_initiales:\n",
    "#         ds_zone = ds_WME_agregation * ds_mask.mask.sel(id=zone_select)\n",
    "        ds_zone = ds_WME * ds_mask.mask.sel(id=zone_select)\n",
    "\n",
    "        if name == 'compas':\n",
    "            var_name = \"wme_arr\"\n",
    "        if name == 'agat':\n",
    "            var_name=\"w1_arr\" \n",
    "        if name == \"compas_asym\":\n",
    "            var_name=\"wme_asym_arr\"\n",
    "        if name == 'agat_asym':\n",
    "            var_name=\"w1_asym_arr\"\n",
    "        \n",
    "        ds_zone[var_name].values[ds_zone[var_name].values == 0] = np.nan        \n",
    "        ds = calculate_distance(ds_zone,name)\n",
    "        temps_agrege[name][zone_select] = ds.attrs[name]\n",
    "        print(zone_select,cible,ds.attrs[name]) \n",
    "        print(temps_agrege[name][zone_select])\n",
    "#         print(ds.attrs)\n",
    "    print('')"
   ]
  },
  {
   "cell_type": "code",
   "execution_count": null,
   "metadata": {},
   "outputs": [],
   "source": [
    "legende = string.ascii_lowercase\n",
    "patches = []\n",
    "fig,ax = plt.subplots(nrows=1,ncols =1)\n",
    "ds_WME.wme_arr.plot.imshow(ax = ax,cmap=matplotlib.cm.tab20)\n",
    "ax.set_title(date+' + {} h'.format(echeance))\n",
    "# print(zones_cibles)\n",
    "\n",
    "for icible,zone_select in enumerate(list_zones_sympos_initiales): #['3801+3802']:#, '3806']:#zones_cibles:\n",
    "    mask_ref = ds_mask.sel(id = zone_select)\n",
    "\n",
    "    list_neighbours = find_neighbours(mask_ref,listMasks)\n",
    "    lst_mask_not_included, lst_mask_included = get_not_included_masks(mask_ref.mask, list_neighbours,ds_mask,flag_strictly_included=True)\n",
    "#     print(zone_select,cible)\n",
    "#     print(lst_mask_not_included)\n",
    "\n",
    "    for neighbours in lst_mask_not_included:\n",
    "        ind = np.where((mask_ref.mask.values == 1) & (ds_mask.sel(id=neighbours).mask.values == 1))\n",
    "        ax.scatter(X[ind],Y[ind],color='k',s=6)\n",
    "    \n",
    "    # ajout de la legende\n",
    "    indice_mask_ref = np.where(mask_ref.mask.values == 1)\n",
    "    ax.text(X[indice_mask_ref].mean(),Y[indice_mask_ref].mean(),s=legende[icible],color='k',fontsize=15)\n",
    "    label = zone_select +': ' \\\n",
    "                + ' Compas:{},'.format(temps_agrege['compas'][zone_select])\\\n",
    "                + ' Compas Asym:{}'.format(temps_agrege['compas_asym'][zone_select])\n",
    "#             + ' Agat:{}'.format(temps_agat[zone_select])\n",
    "#     patches.append(mpatches.Patch(label = legende[icible],marker='${}$'.format(legende[icible])))\n",
    "    patches.append(mlines.Line2D([],[],label = label,marker='${}$'.format(legende[icible]),color='black'))\n",
    "fig.legend(handles=patches,bbox_to_anchor=(1.05, 0.5), loc='center left',labelspacing =2,fontsize = 16,ncol=2)\n",
    "fig.tight_layout()\n",
    "fig.savefig(dir_fig + 'zonage\\\\compas_compas_asym\\\\v2_zonage_ref_'+dep_id+date+'_'+str(echeance)+'.png',dpi=400,bbox_inches='tight')\n",
    "plt.clf()\n",
    "plt.close('all')"
   ]
  },
  {
   "cell_type": "markdown",
   "metadata": {},
   "source": []
  }
 ],
 "metadata": {
  "kernelspec": {
   "display_name": "Python 3",
   "language": "python",
   "name": "python3"
  },
  "language_info": {
   "codemirror_mode": {
    "name": "ipython",
    "version": 3
   },
   "file_extension": ".py",
   "mimetype": "text/x-python",
   "name": "python",
   "nbconvert_exporter": "python",
   "pygments_lexer": "ipython3",
   "version": "3.8.1"
  }
 },
 "nbformat": 4,
 "nbformat_minor": 2
}
