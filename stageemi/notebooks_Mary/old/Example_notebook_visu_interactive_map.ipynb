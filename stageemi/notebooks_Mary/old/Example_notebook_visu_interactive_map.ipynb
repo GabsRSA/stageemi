{
 "cells": [
  {
   "cell_type": "code",
   "execution_count": 2,
   "metadata": {},
   "outputs": [],
   "source": [
    "import stageemi.dev.decorator_map as dm\n",
    "import xarray as xr \n",
    "import ipywidgets as widg \n",
    "import ipyleaflet as ipyl\n",
    "import datetime as dt\n",
    "import os \n",
    "import numpy as np\n",
    "import shapely\n",
    "from stageemi.dev.visu import Borders\n",
    "import geojson"
   ]
  },
  {
   "cell_type": "code",
   "execution_count": 3,
   "metadata": {},
   "outputs": [
    {
     "name": "stdout",
     "output_type": "stream",
     "text": [
      "/scratch/labia/lepapeb/StageEMI/WWMF/20200122060000__PG0PAROME__WWMF__EURW1S100______GRILLE____0_48_1__SOL____GRIB2.nc\n"
     ]
    }
   ],
   "source": [
    "#fname = \"../weatherdata/arome_2m_NW_20180501000000.grib\"\n",
    "#fname = \"/scratch/labia/chabotv/TestEAS/FileList/20191104000000__PAROME__T__EURW1S100______GRILLE____0_48_1__HAUTEUR__2__.nc\"\n",
    "\n",
    "var2plot = \"WWMF\"\n",
    "#var2plot = \"DD\"\n",
    "dir_in = '/scratch/labia/lepapeb/StageEMI/'+var2plot+'/'\n",
    "if var2plot == 'DD':\n",
    "    fname  = dir_in + '20200122060000__PAROME__'+var2plot+'__EURW1S100______GRILLE____0_48_1__HAUTEUR__10__.nc'\n",
    "\n",
    "if var2plot == 'WWMF':\n",
    "    fname  = dir_in + '20200122060000__PG0PAROME__'+var2plot+'__EURW1S100______GRILLE____0_48_1__SOL____GRIB2.nc'\n",
    "    \n",
    "fname  = dir_in + '20200122060000__PG0PAROME__'+var2plot+'__EURW1S100______GRILLE____0_48_1__SOL____GRIB2.nc'\n",
    "ds = xr.open_dataset(fname)\n",
    "print(fname)"
   ]
  },
  {
   "cell_type": "code",
   "execution_count": 4,
   "metadata": {
    "scrolled": true
   },
   "outputs": [
    {
     "data": {
      "text/plain": [
       "47.64999999999999"
      ]
     },
     "execution_count": 4,
     "metadata": {},
     "output_type": "execute_result"
    }
   ],
   "source": [
    "fname_mask = '/home/mrpa/borderiesm/stageEMI/Codes/stageemi/stageemi/GeoData/nc_departement/FRB05.nc'\n",
    "ds_mask = xr.open_dataset(fname_mask)\n",
    "ds_mask[\"latitude\"]=ds_mask[\"latitude\"].round(5)\n",
    "ds_mask[\"longitude\"]=ds_mask[\"longitude\"].round(5)\n",
    "ds_mask[\"latitude\"].values.mean()"
   ]
  },
  {
   "cell_type": "code",
   "execution_count": 5,
   "metadata": {},
   "outputs": [
    {
     "data": {
      "text/html": [
       "<pre>&lt;xarray.Dataset&gt;\n",
       "Dimensions:            (latitude: 93, longitude: 164, step: 42)\n",
       "Coordinates:\n",
       "  * latitude           (latitude) float64 48.11 48.1 48.09 ... 47.21 47.2 47.19\n",
       "  * longitude          (longitude) float64 0.61 0.62 0.63 ... 2.22 2.23 2.24\n",
       "  * step               (step) timedelta64[ns] 01:00:00 ... 1 days 18:00:00\n",
       "    surface            int64 0\n",
       "    heightAboveGround  int64 2\n",
       "    id                 &lt;U5 &#x27;FRB05&#x27;\n",
       "Data variables:\n",
       "    unknown            (step, latitude, longitude) float32 nan nan ... nan nan</pre>"
      ],
      "text/plain": [
       "<xarray.Dataset>\n",
       "Dimensions:            (latitude: 93, longitude: 164, step: 42)\n",
       "Coordinates:\n",
       "  * latitude           (latitude) float64 48.11 48.1 48.09 ... 47.21 47.2 47.19\n",
       "  * longitude          (longitude) float64 0.61 0.62 0.63 ... 2.22 2.23 2.24\n",
       "  * step               (step) timedelta64[ns] 01:00:00 ... 1 days 18:00:00\n",
       "    surface            int64 0\n",
       "    heightAboveGround  int64 2\n",
       "    id                 <U5 'FRB05'\n",
       "Data variables:\n",
       "    unknown            (step, latitude, longitude) float32 nan nan ... nan nan"
      ]
     },
     "execution_count": 5,
     "metadata": {},
     "output_type": "execute_result"
    }
   ],
   "source": [
    "\n",
    "\n",
    "ds['latitude']=ds['latitude'].round(5)\n",
    "ds['longitude']=ds['longitude'].round(5)\n",
    "#ds_mask['latitude']\n",
    "#ds['latitude']\n",
    "ds_b = ds.load()*ds_mask[\"mask\"].isel(id=0).load()\n",
    "ds_b\n",
    "#ds_b['unknown'].isel(step=0).plot()\n",
    "#ds_mask[\"mask\"].plot()\n",
    "#ds['unknown'].isel(step=0).plot() # pour ploter\n",
    "#ds_d"
   ]
  },
  {
   "cell_type": "code",
   "execution_count": 6,
   "metadata": {},
   "outputs": [],
   "source": [
    "#latmin, latmax = 38,42\n",
    "#lonmin, lonmax = 0.,4.\n",
    "#lat = ds['latitude'].values\n",
    "#lon = ds['longitude'].values\n",
    "#ds_b = ds.sel(latitude=lat[(lat>=latmin)&(lat>=latmax)]).sel(longitude = lon[(lon>=lonmin)&(lon<=lonmax)])\n",
    "#ds_b\n"
   ]
  },
  {
   "cell_type": "code",
   "execution_count": 6,
   "metadata": {},
   "outputs": [
    {
     "data": {
      "text/html": [
       "<pre>&lt;xarray.Dataset&gt;\n",
       "Dimensions:            (latitude: 93, longitude: 164, step: 42)\n",
       "Coordinates:\n",
       "  * latitude           (latitude) float64 48.11 48.1 48.09 ... 47.21 47.2 47.19\n",
       "  * longitude          (longitude) float64 0.61 0.62 0.63 ... 2.22 2.23 2.24\n",
       "  * step               (step) timedelta64[ns] 01:00:00 ... 1 days 18:00:00\n",
       "    surface            int64 0\n",
       "    heightAboveGround  int64 2\n",
       "    id                 &lt;U5 &#x27;FRB05&#x27;\n",
       "Data variables:\n",
       "    unknown            (step, latitude, longitude) float32 nan nan ... nan nan</pre>"
      ],
      "text/plain": [
       "<xarray.Dataset>\n",
       "Dimensions:            (latitude: 93, longitude: 164, step: 42)\n",
       "Coordinates:\n",
       "  * latitude           (latitude) float64 48.11 48.1 48.09 ... 47.21 47.2 47.19\n",
       "  * longitude          (longitude) float64 0.61 0.62 0.63 ... 2.22 2.23 2.24\n",
       "  * step               (step) timedelta64[ns] 01:00:00 ... 1 days 18:00:00\n",
       "    surface            int64 0\n",
       "    heightAboveGround  int64 2\n",
       "    id                 <U5 'FRB05'\n",
       "Data variables:\n",
       "    unknown            (step, latitude, longitude) float32 nan nan ... nan nan"
      ]
     },
     "execution_count": 6,
     "metadata": {},
     "output_type": "execute_result"
    }
   ],
   "source": [
    "@dm.gogeojson_wwmf(type='Pixel')\n",
    "def get_step(step):\n",
    "    return ds_b[\"unknown\"].isel(step=step)\n",
    "\n",
    "def update_html(feature, **kwargs):\n",
    "    html1.value = '''\n",
    "        <h4> Type de temps </h4>\n",
    "        <h4><b>{}</b></h4>\n",
    "    '''.format(feature['properties']['value'])\n",
    "    \n",
    "def on_change(change):\n",
    "    geo_file,legend_file = get_step(change[\"new\"])\n",
    "    geojson_layer = ipyl.GeoJSON(data=geo_file,hover_style={\"opacity\":1})\n",
    "    if len(m.layers) == 1:\n",
    "        m.add_layer(geojson_layer)\n",
    "    else: \n",
    "        m.substitute_layer(m.layers[1],geojson_layer)\n",
    "    legend_file.seek(0)\n",
    "    legend.value =legend_file.read() \n",
    "#print(ds_b.isel(step=2))\n",
    "   \n",
    "slider = widg.IntSlider(min=0,max=len(ds_b.step),step=1,value=0,description=\"step\")\n",
    "slider.observe(on_change,'value')\n",
    "ds_b"
   ]
  },
  {
   "cell_type": "code",
   "execution_count": 7,
   "metadata": {
    "scrolled": false
   },
   "outputs": [
    {
     "name": "stderr",
     "output_type": "stream",
     "text": [
      "/opt/anaconda3/envs/preproc2/lib/python3.7/site-packages/matplotlib/colors.py:527: RuntimeWarning: invalid value encountered in less\n",
      "  xa[xa < 0] = -1\n"
     ]
    }
   ],
   "source": [
    "m = ipyl.Map(center=(40,1),zoom=8)\n",
    "m.add_control(ipyl.WidgetControl(widget=slider,position=\"topright\"))\n",
    "geo_file,legend_file = get_step(0)\n",
    "geojson_layer = ipyl.GeoJSON(data=geo_file,hover_style={\"opacity\":1})\n",
    "m.add_layer(geojson_layer)"
   ]
  },
  {
   "cell_type": "code",
   "execution_count": 8,
   "metadata": {},
   "outputs": [],
   "source": [
    "legend_file.seek(0)\n",
    "legend = widg.Image(layout=widg.Layout(height=\"430px\"))\n",
    "legend.value = legend_file.read() \n",
    "widg_map = widg.HBox([m,legend])\n",
    "#m.add"
   ]
  },
  {
   "cell_type": "code",
   "execution_count": 44,
   "metadata": {},
   "outputs": [],
   "source": [
    "Base_Dept = '/home/mrpa/borderiesm/stageEMI/Codes/stageemi/stageemi/GeoData/Departements/'\n",
    "Base_marine = '/home/mrpa/borderiesm/stageEMI/Codes/stageemi/stageemi/GeoData/ZoneLargeMarine/'\n",
    "border_reg = Borders(Base_Dept + \"Herault.json\", color=\"red\", layer_name=\"Herault\")\n",
    "border_med = Borders(Base_marine+'ZonesMarineLarges_Mediterrannee.json',color = 'blue',layer_name='Mediterrannee')\n",
    "\n",
    "m.add_layer(border_reg)\n",
    "m.add_layer(border_med)"
   ]
  },
  {
   "cell_type": "code",
   "execution_count": 9,
   "metadata": {
    "scrolled": false
   },
   "outputs": [
    {
     "data": {
      "application/vnd.jupyter.widget-view+json": {
       "model_id": "bdc4ed05dfc341169c565ce065e60ae2",
       "version_major": 2,
       "version_minor": 0
      },
      "text/plain": [
       "HBox(children=(Map(center=[40, 1], controls=(ZoomControl(options=['position', 'zoom_in_text', 'zoom_in_title',…"
      ]
     },
     "metadata": {},
     "output_type": "display_data"
    }
   ],
   "source": [
    "widg_map"
   ]
  },
  {
   "cell_type": "code",
   "execution_count": null,
   "metadata": {},
   "outputs": [],
   "source": []
  }
 ],
 "metadata": {
  "kernelspec": {
   "display_name": "Python 3",
   "language": "python",
   "name": "python3"
  },
  "language_info": {
   "codemirror_mode": {
    "name": "ipython",
    "version": 3
   },
   "file_extension": ".py",
   "mimetype": "text/x-python",
   "name": "python",
   "nbconvert_exporter": "python",
   "pygments_lexer": "ipython3",
   "version": "3.7.6"
  }
 },
 "nbformat": 4,
 "nbformat_minor": 2
}
